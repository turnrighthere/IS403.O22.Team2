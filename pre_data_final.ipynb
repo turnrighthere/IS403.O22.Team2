{
  "cells": [
    {
      "cell_type": "code",
      "execution_count": 40,
      "metadata": {
        "id": "Y3SN08uE3Srj"
      },
      "outputs": [],
      "source": [
        "import pandas as pd\n",
        "import numpy as np\n",
        "from sklearn.preprocessing import StandardScaler\n",
        "# Đọc dữ liệu từ file CSV\n"
      ]
    },
    {
      "cell_type": "code",
      "execution_count": 41,
      "metadata": {
        "colab": {
          "base_uri": "https://localhost:8080/",
          "height": 287
        },
        "id": "GXV51G0roGYd",
        "outputId": "bad51afe-4b9e-4e56-cbd7-ca22bbef9465"
      },
      "outputs": [],
      "source": [
        "data = pd.read_csv('Data/DGB-USD.csv')"
      ]
    },
    {
      "cell_type": "code",
      "execution_count": 42,
      "metadata": {
        "id": "akny4HRl3epw"
      },
      "outputs": [
        {
          "name": "stdout",
          "output_type": "stream",
          "text": [
            "<class 'pandas.core.frame.DataFrame'>\n",
            "RangeIndex: 2285 entries, 0 to 2284\n",
            "Data columns (total 7 columns):\n",
            " #   Column     Non-Null Count  Dtype  \n",
            "---  ------     --------------  -----  \n",
            " 0   Date       2285 non-null   object \n",
            " 1   Open       2285 non-null   float64\n",
            " 2   High       2285 non-null   float64\n",
            " 3   Low        2285 non-null   float64\n",
            " 4   Close      2285 non-null   float64\n",
            " 5   Adj Close  2285 non-null   float64\n",
            " 6   Volume     2285 non-null   int64  \n",
            "dtypes: float64(5), int64(1), object(1)\n",
            "memory usage: 125.1+ KB\n",
            "None\n"
          ]
        }
      ],
      "source": [
        "# Hiển thị thông tin cơ bản về dataset\n",
        "print(data.info())"
      ]
    },
    {
      "cell_type": "code",
      "execution_count": 43,
      "metadata": {
        "id": "87t0gyDa3nCs"
      },
      "outputs": [
        {
          "name": "stdout",
          "output_type": "stream",
          "text": [
            "         Date      Open      High       Low     Close  Adj Close   Volume\n",
            "0  2018-03-01  0.032343  0.037473  0.032049  0.036329   0.036329  7433250\n",
            "1  2018-03-02  0.036287  0.038559  0.035121  0.036205   0.036205  4526580\n",
            "2  2018-03-03  0.036013  0.036799  0.033510  0.035137   0.035137  3778450\n",
            "3  2018-03-04  0.035049  0.036215  0.033407  0.035613   0.035613  2802420\n",
            "4  2018-03-05  0.035580  0.036499  0.034258  0.034300   0.034300  3065310\n"
          ]
        }
      ],
      "source": [
        "# Hiển thị 5 hàng đầu tiên\n",
        "print(data.head())"
      ]
    },
    {
      "cell_type": "code",
      "execution_count": 44,
      "metadata": {
        "colab": {
          "base_uri": "https://localhost:8080/"
        },
        "id": "zpiqg-9f3rWS",
        "outputId": "d223a0e2-ad3b-47fb-de3a-bfef0c4eae62"
      },
      "outputs": [
        {
          "name": "stdout",
          "output_type": "stream",
          "text": [
            "Date         0\n",
            "Open         0\n",
            "High         0\n",
            "Low          0\n",
            "Close        0\n",
            "Adj Close    0\n",
            "Volume       0\n",
            "dtype: int64\n"
          ]
        }
      ],
      "source": [
        "# Kiểm tra giá trị thiếu\n",
        "print(data.isnull().sum())\n"
      ]
    },
    {
      "cell_type": "code",
      "execution_count": 45,
      "metadata": {
        "id": "9jttqEFQ3vN_"
      },
      "outputs": [],
      "source": [
        "# Chuyển đổi cột Date sang định dạng datetime\n",
        "data['Date'] = pd.to_datetime(data['Date'])"
      ]
    },
    {
      "cell_type": "code",
      "execution_count": 46,
      "metadata": {
        "id": "aJX8MvJr3607"
      },
      "outputs": [],
      "source": [
        "# Sắp xếp DataFrame theo cột Date\n",
        "data = data.sort_values(by='Date')\n",
        "\n",
        "# Chuyển đổi cột Date sang số thứ tự\n",
        "data['Date_Ordinal'] = data['Date'].map(pd.Timestamp.toordinal)"
      ]
    },
    {
      "cell_type": "code",
      "execution_count": 47,
      "metadata": {
        "id": "0avTGWIOu0eZ"
      },
      "outputs": [],
      "source": [
        "# Chọn một mốc thời gian (ở đây là ngày đầu tiên trong cột Date)\n",
        "start_date = data['Date'].min()\n",
        "\n",
        "# Tính số ngày kể từ mốc thời gian\n",
        "data['Days_Since_Start'] = (data['Date'] - start_date).dt.days"
      ]
    },
    {
      "cell_type": "code",
      "execution_count": 48,
      "metadata": {
        "colab": {
          "base_uri": "https://localhost:8080/"
        },
        "id": "Q34joL9Ju7wN",
        "outputId": "e59eeead-a10b-4aee-9569-acc28cf2d1fa"
      },
      "outputs": [
        {
          "name": "stdout",
          "output_type": "stream",
          "text": [
            "           Date      Open      High       Low     Close  Adj Close    Volume  \\\n",
            "0    2018-03-01  0.032343  0.037473  0.032049  0.036329   0.036329   7433250   \n",
            "1    2018-03-02  0.036287  0.038559  0.035121  0.036205   0.036205   4526580   \n",
            "2    2018-03-03  0.036013  0.036799  0.033510  0.035137   0.035137   3778450   \n",
            "3    2018-03-04  0.035049  0.036215  0.033407  0.035613   0.035613   2802420   \n",
            "4    2018-03-05  0.035580  0.036499  0.034258  0.034300   0.034300   3065310   \n",
            "...         ...       ...       ...       ...       ...        ...       ...   \n",
            "2280 2024-05-28  0.011589  0.011625  0.011153  0.011422   0.011422   7384647   \n",
            "2281 2024-05-29  0.011422  0.012579  0.011355  0.011477   0.011477  18509023   \n",
            "2282 2024-05-30  0.011477  0.011791  0.011251  0.011383   0.011383   8687056   \n",
            "2283 2024-05-31  0.011383  0.011645  0.011272  0.011321   0.011321   7790771   \n",
            "2284 2024-06-01  0.011321  0.011528  0.011255  0.011285   0.011285   6758618   \n",
            "\n",
            "      Date_Ordinal  Days_Since_Start  \n",
            "0           736754                 0  \n",
            "1           736755                 1  \n",
            "2           736756                 2  \n",
            "3           736757                 3  \n",
            "4           736758                 4  \n",
            "...            ...               ...  \n",
            "2280        739034              2280  \n",
            "2281        739035              2281  \n",
            "2282        739036              2282  \n",
            "2283        739037              2283  \n",
            "2284        739038              2284  \n",
            "\n",
            "[2285 rows x 9 columns]\n"
          ]
        }
      ],
      "source": [
        "print(data)\n"
      ]
    },
    {
      "cell_type": "code",
      "execution_count": 49,
      "metadata": {
        "id": "sQfl5N7SvJON"
      },
      "outputs": [],
      "source": [
        "# Xóa các cột Date và Date_Ordinal\n",
        "data = data.drop(columns=['Date', 'Date_Ordinal'])\n"
      ]
    },
    {
      "cell_type": "code",
      "execution_count": 50,
      "metadata": {
        "colab": {
          "base_uri": "https://localhost:8080/"
        },
        "id": "lqCDac8tvsjU",
        "outputId": "02618df6-323f-496b-c9a7-52e013dfb8c9"
      },
      "outputs": [
        {
          "name": "stdout",
          "output_type": "stream",
          "text": [
            "          Open      High       Low     Close  Adj Close    Volume  \\\n",
            "0     0.032343  0.037473  0.032049  0.036329   0.036329   7433250   \n",
            "1     0.036287  0.038559  0.035121  0.036205   0.036205   4526580   \n",
            "2     0.036013  0.036799  0.033510  0.035137   0.035137   3778450   \n",
            "3     0.035049  0.036215  0.033407  0.035613   0.035613   2802420   \n",
            "4     0.035580  0.036499  0.034258  0.034300   0.034300   3065310   \n",
            "...        ...       ...       ...       ...        ...       ...   \n",
            "2280  0.011589  0.011625  0.011153  0.011422   0.011422   7384647   \n",
            "2281  0.011422  0.012579  0.011355  0.011477   0.011477  18509023   \n",
            "2282  0.011477  0.011791  0.011251  0.011383   0.011383   8687056   \n",
            "2283  0.011383  0.011645  0.011272  0.011321   0.011321   7790771   \n",
            "2284  0.011321  0.011528  0.011255  0.011285   0.011285   6758618   \n",
            "\n",
            "      Days_Since_Start  \n",
            "0                    0  \n",
            "1                    1  \n",
            "2                    2  \n",
            "3                    3  \n",
            "4                    4  \n",
            "...                ...  \n",
            "2280              2280  \n",
            "2281              2281  \n",
            "2282              2282  \n",
            "2283              2283  \n",
            "2284              2284  \n",
            "\n",
            "[2285 rows x 7 columns]\n"
          ]
        }
      ],
      "source": [
        "print(data)"
      ]
    },
    {
      "cell_type": "code",
      "execution_count": 51,
      "metadata": {
        "colab": {
          "base_uri": "https://localhost:8080/",
          "height": 17
        },
        "id": "jeHhcMphvvfL",
        "outputId": "927bcae5-260c-4e02-cf9e-7875d57cda01"
      },
      "outputs": [],
      "source": [
        "data.to_csv('Data/pre_DGB-USD.csv', index=False)"
      ]
    }
  ],
  "metadata": {
    "colab": {
      "provenance": [],
      "toc_visible": true
    },
    "kernelspec": {
      "display_name": "Python 3",
      "name": "python3"
    },
    "language_info": {
      "codemirror_mode": {
        "name": "ipython",
        "version": 3
      },
      "file_extension": ".py",
      "mimetype": "text/x-python",
      "name": "python",
      "nbconvert_exporter": "python",
      "pygments_lexer": "ipython3",
      "version": "3.12.2"
    }
  },
  "nbformat": 4,
  "nbformat_minor": 0
}
