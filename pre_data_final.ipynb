{
  "cells": [
    {
      "cell_type": "code",
      "execution_count": 8,
      "metadata": {
        "id": "Y3SN08uE3Srj"
      },
      "outputs": [
        {
          "name": "stderr",
          "output_type": "stream",
          "text": [
            "Matplotlib is building the font cache; this may take a moment.\n"
          ]
        }
      ],
      "source": [
        "import pandas as pd\n",
        "import numpy as np\n",
        "import matplotlib.pyplot as plt"
      ]
    },
    {
      "cell_type": "code",
      "execution_count": 16,
      "metadata": {
        "colab": {
          "base_uri": "https://localhost:8080/",
          "height": 287
        },
        "id": "GXV51G0roGYd",
        "outputId": "bad51afe-4b9e-4e56-cbd7-ca22bbef9465"
      },
      "outputs": [],
      "source": [
        "# Đọc dữ liệu từ file CSV\n",
        "data = pd.read_csv('Data/ADA-USD.csv')"
      ]
    },
    {
      "cell_type": "code",
      "execution_count": 17,
      "metadata": {
        "id": "akny4HRl3epw"
      },
      "outputs": [
        {
          "name": "stdout",
          "output_type": "stream",
          "text": [
            "<class 'pandas.core.frame.DataFrame'>\n",
            "RangeIndex: 2285 entries, 0 to 2284\n",
            "Data columns (total 7 columns):\n",
            " #   Column     Non-Null Count  Dtype  \n",
            "---  ------     --------------  -----  \n",
            " 0   Date       2285 non-null   object \n",
            " 1   Open       2285 non-null   float64\n",
            " 2   High       2285 non-null   float64\n",
            " 3   Low        2285 non-null   float64\n",
            " 4   Close      2285 non-null   float64\n",
            " 5   Adj Close  2285 non-null   float64\n",
            " 6   Volume     2285 non-null   int64  \n",
            "dtypes: float64(5), int64(1), object(1)\n",
            "memory usage: 125.1+ KB\n",
            "None\n"
          ]
        }
      ],
      "source": [
        "# Hiển thị thông tin cơ bản về dataset\n",
        "print(data.info())"
      ]
    },
    {
      "cell_type": "code",
      "execution_count": 18,
      "metadata": {
        "id": "87t0gyDa3nCs"
      },
      "outputs": [
        {
          "name": "stdout",
          "output_type": "stream",
          "text": [
            "         Date      Open      High       Low     Close  Adj Close     Volume\n",
            "0  2018-03-01  0.311973  0.311973  0.288392  0.304397   0.304397  184691008\n",
            "1  2018-03-02  0.304424  0.307058  0.288875  0.293504   0.293504  107240000\n",
            "2  2018-03-03  0.292952  0.309129  0.292507  0.297106   0.297106  115320000\n",
            "3  2018-03-04  0.296285  0.303588  0.286193  0.300787   0.300787   94436000\n",
            "4  2018-03-05  0.299897  0.317723  0.291055  0.297622   0.297622  202675008\n"
          ]
        }
      ],
      "source": [
        "# Hiển thị 5 hàng đầu tiên\n",
        "print(data.head())"
      ]
    },
    {
      "cell_type": "code",
      "execution_count": 19,
      "metadata": {
        "colab": {
          "base_uri": "https://localhost:8080/"
        },
        "id": "zpiqg-9f3rWS",
        "outputId": "d223a0e2-ad3b-47fb-de3a-bfef0c4eae62"
      },
      "outputs": [
        {
          "name": "stdout",
          "output_type": "stream",
          "text": [
            "Date         0\n",
            "Open         0\n",
            "High         0\n",
            "Low          0\n",
            "Close        0\n",
            "Adj Close    0\n",
            "Volume       0\n",
            "dtype: int64\n"
          ]
        }
      ],
      "source": [
        "# Kiểm tra giá trị thiếu\n",
        "print(data.isnull().sum())\n"
      ]
    },
    {
      "cell_type": "code",
      "execution_count": 20,
      "metadata": {
        "id": "9jttqEFQ3vN_"
      },
      "outputs": [],
      "source": [
        "# Chuyển đổi cột Date sang định dạng datetime\n",
        "data['Date'] = pd.to_datetime(data['Date'])"
      ]
    },
    {
      "cell_type": "code",
      "execution_count": 21,
      "metadata": {
        "colab": {
          "base_uri": "https://localhost:8080/"
        },
        "id": "Q34joL9Ju7wN",
        "outputId": "e59eeead-a10b-4aee-9569-acc28cf2d1fa"
      },
      "outputs": [
        {
          "name": "stdout",
          "output_type": "stream",
          "text": [
            "           Date      Open      High       Low     Close  Adj Close     Volume\n",
            "0    2018-03-01  0.311973  0.311973  0.288392  0.304397   0.304397  184691008\n",
            "1    2018-03-02  0.304424  0.307058  0.288875  0.293504   0.293504  107240000\n",
            "2    2018-03-03  0.292952  0.309129  0.292507  0.297106   0.297106  115320000\n",
            "3    2018-03-04  0.296285  0.303588  0.286193  0.300787   0.300787   94436000\n",
            "4    2018-03-05  0.299897  0.317723  0.291055  0.297622   0.297622  202675008\n",
            "...         ...       ...       ...       ...       ...        ...        ...\n",
            "2280 2024-05-28  0.467963  0.468437  0.453115  0.456990   0.456990  418594476\n",
            "2281 2024-05-29  0.456990  0.463107  0.450914  0.450995   0.450995  350482630\n",
            "2282 2024-05-30  0.450995  0.454546  0.443807  0.446581   0.446581  356151973\n",
            "2283 2024-05-31  0.446581  0.454957  0.444461  0.447461   0.447461  290913148\n",
            "2284 2024-06-01  0.447461  0.452584  0.445254  0.449975   0.449975  167918462\n",
            "\n",
            "[2285 rows x 7 columns]\n"
          ]
        }
      ],
      "source": [
        "print(data)\n"
      ]
    },
    {
      "cell_type": "code",
      "execution_count": 22,
      "metadata": {},
      "outputs": [
        {
          "name": "stdout",
          "output_type": "stream",
          "text": [
            "<class 'pandas.core.frame.DataFrame'>\n",
            "RangeIndex: 2285 entries, 0 to 2284\n",
            "Data columns (total 7 columns):\n",
            " #   Column     Non-Null Count  Dtype         \n",
            "---  ------     --------------  -----         \n",
            " 0   Date       2285 non-null   datetime64[ns]\n",
            " 1   Open       2285 non-null   float64       \n",
            " 2   High       2285 non-null   float64       \n",
            " 3   Low        2285 non-null   float64       \n",
            " 4   Close      2285 non-null   float64       \n",
            " 5   Adj Close  2285 non-null   float64       \n",
            " 6   Volume     2285 non-null   int64         \n",
            "dtypes: datetime64[ns](1), float64(5), int64(1)\n",
            "memory usage: 125.1 KB\n"
          ]
        }
      ],
      "source": [
        "data.info()"
      ]
    },
    {
      "cell_type": "code",
      "execution_count": 23,
      "metadata": {
        "colab": {
          "base_uri": "https://localhost:8080/",
          "height": 17
        },
        "id": "jeHhcMphvvfL",
        "outputId": "927bcae5-260c-4e02-cf9e-7875d57cda01"
      },
      "outputs": [],
      "source": [
        "data.to_csv('Data/pre_ADA-USD.csv', index=False)"
      ]
    },
    {
      "cell_type": "code",
      "execution_count": 24,
      "metadata": {},
      "outputs": [
        {
          "data": {
            "text/html": [
              "<div>\n",
              "<style scoped>\n",
              "    .dataframe tbody tr th:only-of-type {\n",
              "        vertical-align: middle;\n",
              "    }\n",
              "\n",
              "    .dataframe tbody tr th {\n",
              "        vertical-align: top;\n",
              "    }\n",
              "\n",
              "    .dataframe thead th {\n",
              "        text-align: right;\n",
              "    }\n",
              "</style>\n",
              "<table border=\"1\" class=\"dataframe\">\n",
              "  <thead>\n",
              "    <tr style=\"text-align: right;\">\n",
              "      <th></th>\n",
              "      <th>Date</th>\n",
              "      <th>Open</th>\n",
              "      <th>High</th>\n",
              "      <th>Low</th>\n",
              "      <th>Close</th>\n",
              "      <th>Adj Close</th>\n",
              "      <th>Volume</th>\n",
              "    </tr>\n",
              "  </thead>\n",
              "  <tbody>\n",
              "    <tr>\n",
              "      <th>count</th>\n",
              "      <td>2285</td>\n",
              "      <td>2285.000000</td>\n",
              "      <td>2285.000000</td>\n",
              "      <td>2285.000000</td>\n",
              "      <td>2285.000000</td>\n",
              "      <td>2285.000000</td>\n",
              "      <td>2.285000e+03</td>\n",
              "    </tr>\n",
              "    <tr>\n",
              "      <th>mean</th>\n",
              "      <td>2021-04-16 00:00:00</td>\n",
              "      <td>0.475993</td>\n",
              "      <td>0.494150</td>\n",
              "      <td>0.456674</td>\n",
              "      <td>0.476070</td>\n",
              "      <td>0.476070</td>\n",
              "      <td>1.015500e+09</td>\n",
              "    </tr>\n",
              "    <tr>\n",
              "      <th>min</th>\n",
              "      <td>2018-03-01 00:00:00</td>\n",
              "      <td>0.023954</td>\n",
              "      <td>0.025993</td>\n",
              "      <td>0.019130</td>\n",
              "      <td>0.023961</td>\n",
              "      <td>0.023961</td>\n",
              "      <td>8.387951e+06</td>\n",
              "    </tr>\n",
              "    <tr>\n",
              "      <th>25%</th>\n",
              "      <td>2019-09-23 00:00:00</td>\n",
              "      <td>0.081570</td>\n",
              "      <td>0.083860</td>\n",
              "      <td>0.078425</td>\n",
              "      <td>0.081493</td>\n",
              "      <td>0.081493</td>\n",
              "      <td>1.019063e+08</td>\n",
              "    </tr>\n",
              "    <tr>\n",
              "      <th>50%</th>\n",
              "      <td>2021-04-16 00:00:00</td>\n",
              "      <td>0.289501</td>\n",
              "      <td>0.295378</td>\n",
              "      <td>0.280765</td>\n",
              "      <td>0.289531</td>\n",
              "      <td>0.289531</td>\n",
              "      <td>3.147619e+08</td>\n",
              "    </tr>\n",
              "    <tr>\n",
              "      <th>75%</th>\n",
              "      <td>2022-11-08 00:00:00</td>\n",
              "      <td>0.544989</td>\n",
              "      <td>0.569267</td>\n",
              "      <td>0.525981</td>\n",
              "      <td>0.544996</td>\n",
              "      <td>0.544996</td>\n",
              "      <td>9.351389e+08</td>\n",
              "    </tr>\n",
              "    <tr>\n",
              "      <th>max</th>\n",
              "      <td>2024-06-01 00:00:00</td>\n",
              "      <td>2.966390</td>\n",
              "      <td>3.099186</td>\n",
              "      <td>2.907606</td>\n",
              "      <td>2.968239</td>\n",
              "      <td>2.968239</td>\n",
              "      <td>1.914198e+10</td>\n",
              "    </tr>\n",
              "    <tr>\n",
              "      <th>std</th>\n",
              "      <td>NaN</td>\n",
              "      <td>0.566717</td>\n",
              "      <td>0.590825</td>\n",
              "      <td>0.541112</td>\n",
              "      <td>0.566815</td>\n",
              "      <td>0.566815</td>\n",
              "      <td>1.879646e+09</td>\n",
              "    </tr>\n",
              "  </tbody>\n",
              "</table>\n",
              "</div>"
            ],
            "text/plain": [
              "                      Date         Open         High          Low  \\\n",
              "count                 2285  2285.000000  2285.000000  2285.000000   \n",
              "mean   2021-04-16 00:00:00     0.475993     0.494150     0.456674   \n",
              "min    2018-03-01 00:00:00     0.023954     0.025993     0.019130   \n",
              "25%    2019-09-23 00:00:00     0.081570     0.083860     0.078425   \n",
              "50%    2021-04-16 00:00:00     0.289501     0.295378     0.280765   \n",
              "75%    2022-11-08 00:00:00     0.544989     0.569267     0.525981   \n",
              "max    2024-06-01 00:00:00     2.966390     3.099186     2.907606   \n",
              "std                    NaN     0.566717     0.590825     0.541112   \n",
              "\n",
              "             Close    Adj Close        Volume  \n",
              "count  2285.000000  2285.000000  2.285000e+03  \n",
              "mean      0.476070     0.476070  1.015500e+09  \n",
              "min       0.023961     0.023961  8.387951e+06  \n",
              "25%       0.081493     0.081493  1.019063e+08  \n",
              "50%       0.289531     0.289531  3.147619e+08  \n",
              "75%       0.544996     0.544996  9.351389e+08  \n",
              "max       2.968239     2.968239  1.914198e+10  \n",
              "std       0.566815     0.566815  1.879646e+09  "
            ]
          },
          "execution_count": 24,
          "metadata": {},
          "output_type": "execute_result"
        }
      ],
      "source": [
        "# Mô tả bộ dữ liệu\n",
        "data.describe()"
      ]
    },
    {
      "cell_type": "code",
      "execution_count": 25,
      "metadata": {},
      "outputs": [
        {
          "data": {
            "text/plain": [
              "count    2285.000000\n",
              "mean        0.476070\n",
              "std         0.566815\n",
              "min         0.023961\n",
              "25%         0.081493\n",
              "50%         0.289531\n",
              "75%         0.544996\n",
              "max         2.968239\n",
              "Name: Close, dtype: float64"
            ]
          },
          "execution_count": 25,
          "metadata": {},
          "output_type": "execute_result"
        }
      ],
      "source": [
        "# Mô tả thuộc tính train \"Close\"\n",
        "data['Close'].describe()"
      ]
    },
    {
      "cell_type": "code",
      "execution_count": 27,
      "metadata": {},
      "outputs": [
        {
          "name": "stdout",
          "output_type": "stream",
          "text": [
            "Mode:  0.044777\n",
            "Variance:  0.3212794029566767\n",
            "Median 0.289531\n",
            "Coefficient of Deviation:  1.190612858246616\n",
            "Skewness 1.8846486246298908\n",
            "Kurtosis:  3.2950984673978088\n",
            "Range:  2.944278\n"
          ]
        }
      ],
      "source": [
        "\n",
        "import statistics as st\n",
        "from scipy.stats import skew\n",
        "from scipy.stats import kurtosis\n",
        "\n",
        "#Mode\n",
        "mode = st.mode(data['Close'])\n",
        "print(\"Mode: \", mode)\n",
        "\n",
        "#Variance\n",
        "var = st.variance(data['Close'])\n",
        "print(\"Variance: \", var)\n",
        "\n",
        "#Median (trung vị)\n",
        "median = st.median(data['Close'])\n",
        "print(\"Median\", median)\n",
        "\n",
        "#Coefficient of Deviation\n",
        "cv = st.stdev(data['Close'])/st.mean(data['Close'])\n",
        "print(\"Coefficient of Deviation: \",cv)\n",
        "\n",
        "#Skewness\n",
        "skew = skew(data['Close'])\n",
        "print(\"Skewness\", skew)\n",
        "\n",
        "#Kurtosis\n",
        "kurtosis = kurtosis(data['Close'])\n",
        "print(\"Kurtosis: \", kurtosis)\n",
        "\n",
        "#Range\n",
        "range = max(data['Close']) - min(data['Close'])\n",
        "print(\"Range: \", range)"
      ]
    },
    {
      "cell_type": "markdown",
      "metadata": {},
      "source": [
        "LẬP BIỂU ĐỒ"
      ]
    },
    {
      "cell_type": "code",
      "execution_count": 28,
      "metadata": {},
      "outputs": [],
      "source": [
        "# Lấy dữ liệu\n",
        "df1 = pd.DataFrame(data, columns=['Date', 'Close'])\n",
        "# Chuyển cột Date làm index để lập biểu đồ so sánh về sau\n",
        "df1.index = df1.Date\n",
        "df1.drop('Date', axis=1, inplace=True)"
      ]
    },
    {
      "cell_type": "code",
      "execution_count": 29,
      "metadata": {},
      "outputs": [
        {
          "data": {
            "image/png": "[encoded data removed]",
            "text/plain": [
              "<Figure size 1000x500 with 1 Axes>"
            ]
          },
          "metadata": {},
          "output_type": "display_data"
        }
      ],
      "source": [
        "#Lập biểu đồ giá đóng\n",
        "plt.figure(figsize=(10,5))\n",
        "plt.plot(df1['Close'], label='Actual price', color='blue')\n",
        "# plt.title('ADA stock market')\n",
        "plt.xlabel('Year')\n",
        "plt.ylabel('Price')\n",
        "plt.legend()\n",
        "plt.show()\n"
      ]
    }
  ],
  "metadata": {
    "colab": {
      "provenance": [],
      "toc_visible": true
    },
    "kernelspec": {
      "display_name": "Python 3",
      "name": "python3"
    },
    "language_info": {
      "codemirror_mode": {
        "name": "ipython",
        "version": 3
      },
      "file_extension": ".py",
      "mimetype": "text/x-python",
      "name": "python",
      "nbconvert_exporter": "python",
      "pygments_lexer": "ipython3",
      "version": "3.11.3"
    }
  },
  "nbformat": 4,
  "nbformat_minor": 0
}
