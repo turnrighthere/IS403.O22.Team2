{
 "cells": [
  {
   "cell_type": "code",
   "execution_count": 1,
   "id": "26fdc348-5b74-4d88-a3dc-48da4d735e10",
   "metadata": {
    "tags": []
   },
   "outputs": [],
   "source": [
    "# 1. Import thư viện cần thiết\n",
    "import numpy as np\n",
    "import pandas as pd\n",
    "import matplotlib.pyplot as plt\n",
    "from sklearn.preprocessing import MinMaxScaler\n",
    "from keras.models import Sequential\n",
    "from keras.layers import Dense, SimpleRNN"
   ]
  },
  {
   "cell_type": "code",
   "execution_count": 2,
   "id": "a1081418-67c4-4366-9320-98d0255b8a87",
   "metadata": {
    "tags": []
   },
   "outputs": [
    {
     "name": "stdout",
     "output_type": "stream",
     "text": [
      "<class 'pandas.core.frame.DataFrame'>\n",
      "RangeIndex: 2285 entries, 0 to 2284\n",
      "Data columns (total 7 columns):\n",
      " #   Column     Non-Null Count  Dtype  \n",
      "---  ------     --------------  -----  \n",
      " 0   Date       2285 non-null   object \n",
      " 1   Open       2285 non-null   float64\n",
      " 2   High       2285 non-null   float64\n",
      " 3   Low        2285 non-null   float64\n",
      " 4   Price      2285 non-null   float64\n",
      " 5   Adj Close  2285 non-null   float64\n",
      " 6   Volume     2285 non-null   int64  \n",
      "dtypes: float64(5), int64(1), object(1)\n",
      "memory usage: 125.1+ KB\n"
     ]
    }
   ],
   "source": [
    "# 2. Đọc file csv và gắn index với giá Price\n",
    "df = pd.read_csv('pre_ADA-USD.csv')\n",
    "df = df.rename(columns={'Close': 'Price'})\n",
    "df1 = df.reset_index()['Price']\n",
    "df.info()"
   ]
  },
  {
   "cell_type": "code",
   "execution_count": 3,
   "id": "60ab42f9-e719-4186-ada8-ba47f31ad5a7",
   "metadata": {
    "tags": []
   },
   "outputs": [],
   "source": [
    "# 3. Scaler data\n",
    "scaler = MinMaxScaler(feature_range=(0, 1))\n",
    "df1 = scaler.fit_transform(np.array(df1).reshape(-1, 1))"
   ]
  },
  {
   "cell_type": "code",
   "execution_count": 4,
   "id": "5cc5eeb5-d78f-4ef1-87eb-4359c768e0d6",
   "metadata": {
    "tags": []
   },
   "outputs": [
    {
     "name": "stdout",
     "output_type": "stream",
     "text": [
      "Train shape: (1599, 1)\n",
      "Test shape: (686, 1)\n"
     ]
    }
   ],
   "source": [
    "# 4. Chia train test 7 - 3\n",
    "train_size = int(0.7 * len(df1))\n",
    "test_size = len(df1) - train_size\n",
    "\n",
    "# Lấy dữ liệu train và test\n",
    "train_data = df1[:train_size]\n",
    "test_data = df1[train_size:]\n",
    "\n",
    "print(\"Train shape:\", train_data.shape)\n",
    "print(\"Test shape:\", test_data.shape)"
   ]
  },
  {
   "cell_type": "code",
   "execution_count": 5,
   "id": "f9148ab3-7d6f-4b1f-ab40-c832747c52be",
   "metadata": {
    "tags": []
   },
   "outputs": [],
   "source": [
    "# 5. Hàm Create Dataset\n",
    "import numpy\n",
    "# convert an array of values into a dataset matrix\n",
    "def create_dataset(dataset, time_step=1):\n",
    "\tdataX, dataY = [], []\n",
    "\tfor i in range(len(dataset)-time_step-1):\n",
    "\t\ta = dataset[i:(i+time_step), 0]   ###i=0, X=0,1,2,3-----99   Y=100 \n",
    "\t\tdataX.append(a)\n",
    "\t\tdataY.append(dataset[i + time_step, 0])\n",
    "\treturn numpy.array(dataX), numpy.array(dataY)"
   ]
  },
  {
   "cell_type": "code",
   "execution_count": 6,
   "id": "72cc4c30-465a-4cab-8356-3baef4e1fa61",
   "metadata": {
    "tags": []
   },
   "outputs": [],
   "source": [
    "# 6. Reshape into X=t,t+1,t+2..t+99 and Y=t+100\n",
    "time_step = 100\n",
    "X_train, y_train = create_dataset(train_data, time_step)\n",
    "X_test, ytest = create_dataset(test_data, time_step)"
   ]
  },
  {
   "cell_type": "code",
   "execution_count": 7,
   "id": "ea53b5fc-9693-41c0-94d4-433f02119225",
   "metadata": {
    "tags": []
   },
   "outputs": [],
   "source": [
    "# 7. Reshape input to be [samples, time steps, features] which is required for LSTM\n",
    "X_train = X_train.reshape(X_train.shape[0], X_train.shape[1], 1)\n",
    "X_test = X_test.reshape(X_test.shape[0], X_test.shape[1], 1)"
   ]
  },
  {
   "cell_type": "code",
   "execution_count": 8,
   "id": "15bfe900-abe3-40da-8cba-618fcf530d43",
   "metadata": {
    "tags": []
   },
   "outputs": [],
   "source": [
    "# 8. Define RNN Model\n",
    "model = Sequential()\n",
    "model.add(SimpleRNN(50, input_shape=(time_step, 1)))\n",
    "model.add(Dense(1))\n",
    "model.compile(loss='mean_squared_error', optimizer='adam')"
   ]
  },
  {
   "cell_type": "code",
   "execution_count": 9,
   "id": "cc691626-b5f4-467f-a47b-0c07f204f045",
   "metadata": {
    "tags": []
   },
   "outputs": [
    {
     "name": "stdout",
     "output_type": "stream",
     "text": [
      "Epoch 1/100\n",
      "24/24 [==============================] - 2s 26ms/step - loss: 0.0306 - val_loss: 0.0015\n",
      "Epoch 2/100\n",
      "24/24 [==============================] - 0s 16ms/step - loss: 0.0014 - val_loss: 2.0008e-04\n",
      "Epoch 3/100\n",
      "24/24 [==============================] - 0s 16ms/step - loss: 0.0012 - val_loss: 1.8673e-04\n",
      "Epoch 4/100\n",
      "24/24 [==============================] - 0s 17ms/step - loss: 0.0011 - val_loss: 1.6250e-04\n",
      "Epoch 5/100\n",
      "24/24 [==============================] - 0s 16ms/step - loss: 9.9048e-04 - val_loss: 3.1626e-04\n",
      "Epoch 6/100\n",
      "24/24 [==============================] - 0s 16ms/step - loss: 9.9402e-04 - val_loss: 1.5758e-04\n",
      "Epoch 7/100\n",
      "24/24 [==============================] - 0s 16ms/step - loss: 8.8907e-04 - val_loss: 1.3707e-04\n",
      "Epoch 8/100\n",
      "24/24 [==============================] - 0s 17ms/step - loss: 8.1319e-04 - val_loss: 1.4473e-04\n",
      "Epoch 9/100\n",
      "24/24 [==============================] - 0s 17ms/step - loss: 8.1532e-04 - val_loss: 2.1168e-04\n",
      "Epoch 10/100\n",
      "24/24 [==============================] - 0s 16ms/step - loss: 7.7683e-04 - val_loss: 1.5843e-04\n",
      "Epoch 11/100\n",
      "24/24 [==============================] - 0s 16ms/step - loss: 7.3479e-04 - val_loss: 1.7482e-04\n",
      "Epoch 12/100\n",
      "24/24 [==============================] - 0s 17ms/step - loss: 6.9574e-04 - val_loss: 1.3462e-04\n",
      "Epoch 13/100\n",
      "24/24 [==============================] - 0s 16ms/step - loss: 6.6144e-04 - val_loss: 1.0198e-04\n",
      "Epoch 14/100\n",
      "24/24 [==============================] - 0s 17ms/step - loss: 6.2184e-04 - val_loss: 1.2498e-04\n",
      "Epoch 15/100\n",
      "24/24 [==============================] - 0s 16ms/step - loss: 6.0543e-04 - val_loss: 9.4131e-05\n",
      "Epoch 16/100\n",
      "24/24 [==============================] - 0s 16ms/step - loss: 5.7921e-04 - val_loss: 1.1836e-04\n",
      "Epoch 17/100\n",
      "24/24 [==============================] - 0s 16ms/step - loss: 5.5810e-04 - val_loss: 1.0770e-04\n",
      "Epoch 18/100\n",
      "24/24 [==============================] - 0s 16ms/step - loss: 5.4538e-04 - val_loss: 1.2955e-04\n",
      "Epoch 19/100\n",
      "24/24 [==============================] - 0s 18ms/step - loss: 6.4606e-04 - val_loss: 9.4429e-05\n",
      "Epoch 20/100\n",
      "24/24 [==============================] - 0s 16ms/step - loss: 5.5249e-04 - val_loss: 1.6354e-04\n",
      "Epoch 21/100\n",
      "24/24 [==============================] - 0s 16ms/step - loss: 5.6573e-04 - val_loss: 9.0157e-05\n",
      "Epoch 22/100\n",
      "24/24 [==============================] - 0s 17ms/step - loss: 5.2722e-04 - val_loss: 7.4448e-05\n",
      "Epoch 23/100\n",
      "24/24 [==============================] - 0s 17ms/step - loss: 5.6775e-04 - val_loss: 7.4952e-05\n",
      "Epoch 24/100\n",
      "24/24 [==============================] - 0s 17ms/step - loss: 5.4414e-04 - val_loss: 1.6022e-04\n",
      "Epoch 25/100\n",
      "24/24 [==============================] - 0s 16ms/step - loss: 4.8417e-04 - val_loss: 7.1852e-05\n",
      "Epoch 26/100\n",
      "24/24 [==============================] - 0s 17ms/step - loss: 4.6711e-04 - val_loss: 7.1243e-05\n",
      "Epoch 27/100\n",
      "24/24 [==============================] - 0s 16ms/step - loss: 4.5689e-04 - val_loss: 7.3771e-05\n",
      "Epoch 28/100\n",
      "24/24 [==============================] - 0s 16ms/step - loss: 4.4481e-04 - val_loss: 1.1905e-04\n",
      "Epoch 29/100\n",
      "24/24 [==============================] - 0s 17ms/step - loss: 5.1969e-04 - val_loss: 6.9613e-05\n",
      "Epoch 30/100\n",
      "24/24 [==============================] - 0s 16ms/step - loss: 4.3034e-04 - val_loss: 7.0703e-05\n",
      "Epoch 31/100\n",
      "24/24 [==============================] - 0s 16ms/step - loss: 4.6453e-04 - val_loss: 1.2244e-04\n",
      "Epoch 32/100\n",
      "24/24 [==============================] - 0s 16ms/step - loss: 4.3447e-04 - val_loss: 1.1039e-04\n",
      "Epoch 33/100\n",
      "24/24 [==============================] - 0s 19ms/step - loss: 4.3494e-04 - val_loss: 8.8133e-05\n",
      "Epoch 34/100\n",
      "24/24 [==============================] - 0s 16ms/step - loss: 4.0283e-04 - val_loss: 6.4940e-05\n",
      "Epoch 35/100\n",
      "24/24 [==============================] - 0s 16ms/step - loss: 3.9245e-04 - val_loss: 6.9036e-05\n",
      "Epoch 36/100\n",
      "24/24 [==============================] - 0s 16ms/step - loss: 3.8629e-04 - val_loss: 6.4415e-05\n",
      "Epoch 37/100\n",
      "24/24 [==============================] - 0s 16ms/step - loss: 3.7903e-04 - val_loss: 6.2908e-05\n",
      "Epoch 38/100\n",
      "24/24 [==============================] - 0s 16ms/step - loss: 3.7981e-04 - val_loss: 5.9939e-05\n",
      "Epoch 39/100\n",
      "24/24 [==============================] - 0s 16ms/step - loss: 4.1541e-04 - val_loss: 5.8036e-05\n",
      "Epoch 40/100\n",
      "24/24 [==============================] - 0s 16ms/step - loss: 3.7871e-04 - val_loss: 6.2114e-05\n",
      "Epoch 41/100\n",
      "24/24 [==============================] - 0s 16ms/step - loss: 3.8571e-04 - val_loss: 6.8327e-05\n",
      "Epoch 42/100\n",
      "24/24 [==============================] - 0s 16ms/step - loss: 3.7212e-04 - val_loss: 5.9771e-05\n",
      "Epoch 43/100\n",
      "24/24 [==============================] - 0s 16ms/step - loss: 3.6303e-04 - val_loss: 5.7695e-05\n",
      "Epoch 44/100\n",
      "24/24 [==============================] - 0s 17ms/step - loss: 3.5651e-04 - val_loss: 5.8932e-05\n",
      "Epoch 45/100\n",
      "24/24 [==============================] - 0s 19ms/step - loss: 3.5677e-04 - val_loss: 6.0386e-05\n",
      "Epoch 46/100\n",
      "24/24 [==============================] - 0s 16ms/step - loss: 3.6577e-04 - val_loss: 6.9456e-05\n",
      "Epoch 47/100\n",
      "24/24 [==============================] - 0s 16ms/step - loss: 3.7576e-04 - val_loss: 9.6073e-05\n",
      "Epoch 48/100\n",
      "24/24 [==============================] - 0s 16ms/step - loss: 3.6093e-04 - val_loss: 6.2238e-05\n",
      "Epoch 49/100\n",
      "24/24 [==============================] - 0s 16ms/step - loss: 3.4948e-04 - val_loss: 8.5872e-05\n",
      "Epoch 50/100\n",
      "24/24 [==============================] - 0s 16ms/step - loss: 3.6366e-04 - val_loss: 8.1649e-05\n",
      "Epoch 51/100\n",
      "24/24 [==============================] - 0s 16ms/step - loss: 3.5634e-04 - val_loss: 5.9996e-05\n",
      "Epoch 52/100\n",
      "24/24 [==============================] - 0s 16ms/step - loss: 3.3927e-04 - val_loss: 7.3301e-05\n",
      "Epoch 53/100\n",
      "24/24 [==============================] - 0s 16ms/step - loss: 3.3467e-04 - val_loss: 5.3427e-05\n",
      "Epoch 54/100\n",
      "24/24 [==============================] - 0s 17ms/step - loss: 3.3199e-04 - val_loss: 5.1902e-05\n",
      "Epoch 55/100\n",
      "24/24 [==============================] - 0s 16ms/step - loss: 3.3963e-04 - val_loss: 7.6249e-05\n",
      "Epoch 56/100\n",
      "24/24 [==============================] - 0s 16ms/step - loss: 3.2580e-04 - val_loss: 5.3179e-05\n",
      "Epoch 57/100\n",
      "24/24 [==============================] - 0s 16ms/step - loss: 3.3005e-04 - val_loss: 5.0883e-05\n",
      "Epoch 58/100\n",
      "24/24 [==============================] - 0s 18ms/step - loss: 3.3852e-04 - val_loss: 4.9354e-05\n",
      "Epoch 59/100\n",
      "24/24 [==============================] - 0s 16ms/step - loss: 3.3124e-04 - val_loss: 5.0363e-05\n",
      "Epoch 60/100\n",
      "24/24 [==============================] - 0s 16ms/step - loss: 3.2783e-04 - val_loss: 7.9887e-05\n",
      "Epoch 61/100\n",
      "24/24 [==============================] - 0s 16ms/step - loss: 3.3446e-04 - val_loss: 7.2732e-05\n",
      "Epoch 62/100\n",
      "24/24 [==============================] - 0s 17ms/step - loss: 3.5650e-04 - val_loss: 6.9508e-05\n",
      "Epoch 63/100\n",
      "24/24 [==============================] - 0s 16ms/step - loss: 3.4904e-04 - val_loss: 6.7956e-05\n",
      "Epoch 64/100\n",
      "24/24 [==============================] - 0s 16ms/step - loss: 3.2164e-04 - val_loss: 5.6948e-05\n",
      "Epoch 65/100\n",
      "24/24 [==============================] - 0s 16ms/step - loss: 3.1215e-04 - val_loss: 4.8195e-05\n",
      "Epoch 66/100\n",
      "24/24 [==============================] - 0s 17ms/step - loss: 3.2680e-04 - val_loss: 6.2662e-05\n",
      "Epoch 67/100\n",
      "24/24 [==============================] - 0s 16ms/step - loss: 3.1757e-04 - val_loss: 4.8587e-05\n",
      "Epoch 68/100\n",
      "24/24 [==============================] - 0s 16ms/step - loss: 3.1427e-04 - val_loss: 8.3247e-05\n",
      "Epoch 69/100\n",
      "24/24 [==============================] - 0s 18ms/step - loss: 3.1049e-04 - val_loss: 6.0524e-05\n",
      "Epoch 70/100\n",
      "24/24 [==============================] - 0s 16ms/step - loss: 3.1301e-04 - val_loss: 5.2523e-05\n",
      "Epoch 71/100\n",
      "24/24 [==============================] - 0s 19ms/step - loss: 3.1971e-04 - val_loss: 6.4970e-05\n",
      "Epoch 72/100\n",
      "24/24 [==============================] - 0s 18ms/step - loss: 3.2804e-04 - val_loss: 5.9188e-05\n",
      "Epoch 73/100\n",
      "24/24 [==============================] - 0s 17ms/step - loss: 3.2160e-04 - val_loss: 9.3756e-05\n",
      "Epoch 74/100\n",
      "24/24 [==============================] - 0s 17ms/step - loss: 3.0171e-04 - val_loss: 4.7430e-05\n",
      "Epoch 75/100\n",
      "24/24 [==============================] - 0s 16ms/step - loss: 3.0868e-04 - val_loss: 5.3661e-05\n",
      "Epoch 76/100\n",
      "24/24 [==============================] - 0s 17ms/step - loss: 3.3204e-04 - val_loss: 5.9292e-05\n",
      "Epoch 77/100\n",
      "24/24 [==============================] - 0s 16ms/step - loss: 3.1778e-04 - val_loss: 6.9404e-05\n",
      "Epoch 78/100\n",
      "24/24 [==============================] - 0s 16ms/step - loss: 2.9911e-04 - val_loss: 4.5941e-05\n",
      "Epoch 79/100\n",
      "24/24 [==============================] - 0s 16ms/step - loss: 2.9986e-04 - val_loss: 5.4903e-05\n",
      "Epoch 80/100\n",
      "24/24 [==============================] - 0s 17ms/step - loss: 3.0916e-04 - val_loss: 6.0918e-05\n",
      "Epoch 81/100\n",
      "24/24 [==============================] - 0s 17ms/step - loss: 2.9799e-04 - val_loss: 4.7703e-05\n",
      "Epoch 82/100\n",
      "24/24 [==============================] - 0s 16ms/step - loss: 3.0092e-04 - val_loss: 5.4526e-05\n",
      "Epoch 83/100\n",
      "24/24 [==============================] - 0s 16ms/step - loss: 3.0352e-04 - val_loss: 5.9584e-05\n",
      "Epoch 84/100\n",
      "24/24 [==============================] - 0s 17ms/step - loss: 2.9095e-04 - val_loss: 5.2283e-05\n",
      "Epoch 85/100\n",
      "24/24 [==============================] - 0s 19ms/step - loss: 2.8762e-04 - val_loss: 4.4926e-05\n",
      "Epoch 86/100\n",
      "24/24 [==============================] - 0s 17ms/step - loss: 3.1299e-04 - val_loss: 5.6177e-05\n",
      "Epoch 87/100\n",
      "24/24 [==============================] - 0s 17ms/step - loss: 2.9920e-04 - val_loss: 4.7327e-05\n",
      "Epoch 88/100\n",
      "24/24 [==============================] - 0s 17ms/step - loss: 3.0036e-04 - val_loss: 7.1880e-05\n",
      "Epoch 89/100\n",
      "24/24 [==============================] - 0s 17ms/step - loss: 2.9242e-04 - val_loss: 5.4223e-05\n",
      "Epoch 90/100\n",
      "24/24 [==============================] - 0s 16ms/step - loss: 2.9907e-04 - val_loss: 7.9473e-05\n",
      "Epoch 91/100\n",
      "24/24 [==============================] - 0s 17ms/step - loss: 3.0314e-04 - val_loss: 4.6285e-05\n",
      "Epoch 92/100\n",
      "24/24 [==============================] - 0s 17ms/step - loss: 2.9248e-04 - val_loss: 7.2555e-05\n",
      "Epoch 93/100\n",
      "24/24 [==============================] - 0s 17ms/step - loss: 3.1375e-04 - val_loss: 5.1683e-05\n",
      "Epoch 94/100\n",
      "24/24 [==============================] - 0s 17ms/step - loss: 2.8250e-04 - val_loss: 6.2524e-05\n",
      "Epoch 95/100\n",
      "24/24 [==============================] - 0s 17ms/step - loss: 2.9878e-04 - val_loss: 4.6126e-05\n",
      "Epoch 96/100\n",
      "24/24 [==============================] - 0s 17ms/step - loss: 2.9912e-04 - val_loss: 5.8459e-05\n",
      "Epoch 97/100\n",
      "24/24 [==============================] - 0s 20ms/step - loss: 2.8709e-04 - val_loss: 5.0512e-05\n",
      "Epoch 98/100\n",
      "24/24 [==============================] - 0s 17ms/step - loss: 3.0923e-04 - val_loss: 6.2922e-05\n",
      "Epoch 99/100\n",
      "24/24 [==============================] - 0s 16ms/step - loss: 3.0851e-04 - val_loss: 5.0343e-05\n",
      "Epoch 100/100\n",
      "24/24 [==============================] - 0s 17ms/step - loss: 3.1381e-04 - val_loss: 4.1100e-05\n"
     ]
    },
    {
     "data": {
      "text/plain": [
       "<keras.callbacks.History at 0x1d85edc2c20>"
      ]
     },
     "execution_count": 9,
     "metadata": {},
     "output_type": "execute_result"
    }
   ],
   "source": [
    "# 9. Fit mô hình với dữ liệu train\n",
    "model.fit(X_train, y_train, validation_data=(X_test, ytest), epochs=100, batch_size=64, verbose=1)"
   ]
  },
  {
   "cell_type": "code",
   "execution_count": 10,
   "id": "c55c37b5-5b6b-4482-8ef1-63d82cd60fae",
   "metadata": {
    "tags": []
   },
   "outputs": [
    {
     "name": "stdout",
     "output_type": "stream",
     "text": [
      "47/47 [==============================] - 0s 5ms/step\n",
      "19/19 [==============================] - 0s 5ms/step\n"
     ]
    }
   ],
   "source": [
    "# 10. Dự báo dữ liệu test\n",
    "train_predict = model.predict(X_train)\n",
    "y_pred = model.predict(X_test)"
   ]
  },
  {
   "cell_type": "code",
   "execution_count": 11,
   "id": "e1ef089c-abd2-4072-9177-25ff22485fa8",
   "metadata": {
    "tags": []
   },
   "outputs": [],
   "source": [
    "# 11. Chuẩn hóa dữ liệu y_pred\n",
    "train_predict = scaler.inverse_transform(train_predict)\n",
    "y_pred = scaler.inverse_transform(y_pred)"
   ]
  },
  {
   "cell_type": "code",
   "execution_count": 12,
   "id": "6c14ba0c-354e-4514-a7ed-98b43cbcc1f9",
   "metadata": {
    "tags": []
   },
   "outputs": [
    {
     "name": "stdout",
     "output_type": "stream",
     "text": [
      "Mean Absolute Error (MAE): 0.2681584644283622\n",
      "Mean Absolute Percentage Error (MAPE): 213.47226298277505\n",
      "Root Mean Square Error (RMSE): 0.2806502508933793\n"
     ]
    }
   ],
   "source": [
    "# 12. Tính RMSE, MAPE, MAE\n",
    "from sklearn.metrics import mean_absolute_error, mean_squared_error, mean_absolute_percentage_error\n",
    "\n",
    "mae = mean_absolute_error(ytest, y_pred)\n",
    "mape = mean_absolute_percentage_error(ytest, y_pred)\n",
    "rmse = np.sqrt(mean_squared_error(ytest, y_pred))\n",
    "\n",
    "print(\"Mean Absolute Error (MAE):\", mae)\n",
    "print(\"Mean Absolute Percentage Error (MAPE):\", mape * 100)\n",
    "print(\"Root Mean Square Error (RMSE):\", rmse)"
   ]
  },
  {
   "cell_type": "code",
   "execution_count": 13,
   "id": "a858ddd6-d663-47e2-b024-95e269c52c71",
   "metadata": {
    "tags": []
   },
   "outputs": [],
   "source": [
    "# 13. Hàm dự báo\n",
    "def forecast_days(n_days):\n",
    "    x_input = test_data[-100:].reshape(1, -1)\n",
    "    temp_input = list(x_input[0])\n",
    "\n",
    "    lst_output = []\n",
    "    i = 0\n",
    "    while i < n_days:\n",
    "        if len(temp_input) > 100:\n",
    "            x_input = np.array(temp_input[1:])\n",
    "            x_input = x_input.reshape(1, -1)\n",
    "            x_input = x_input.reshape((1, time_step, 1))\n",
    "            yhat = model.predict(x_input, verbose=0)\n",
    "            temp_input.extend(yhat[0].tolist())\n",
    "            temp_input = temp_input[1:]\n",
    "            lst_output.extend(yhat.tolist())\n",
    "            i += 1\n",
    "        else:\n",
    "            x_input = x_input.reshape((1, time_step, 1))\n",
    "            yhat = model.predict(x_input, verbose=0)\n",
    "            temp_input.extend(yhat[0].tolist())\n",
    "            lst_output.extend(yhat.tolist())\n",
    "            i += 1\n",
    "    return lst_output"
   ]
  },
  {
   "cell_type": "code",
   "execution_count": 14,
   "id": "a3f20539-86f3-4c0d-ac02-6d3159836533",
   "metadata": {
    "tags": []
   },
   "outputs": [],
   "source": [
    "# 14. Dự báo 30, 60, 90 ngày tiếp theo\n",
    "forecast_30 = forecast_days(30)\n",
    "forecast_60 = forecast_days(60)\n",
    "forecast_90 = forecast_days(90)"
   ]
  },
  {
   "cell_type": "code",
   "execution_count": 15,
   "id": "e3ed23dc-59fe-4c17-aed7-762004a4dc86",
   "metadata": {
    "tags": []
   },
   "outputs": [
    {
     "name": "stdout",
     "output_type": "stream",
     "text": [
      "Dự báo cho 30 ngày tiếp theo: [[0.14605866372585297], [0.14593051373958588], [0.14637841284275055], [0.14773310720920563], [0.14595690369606018], [0.1449868381023407], [0.14113229513168335], [0.13933640718460083], [0.1332012563943863], [0.12870600819587708], [0.1259269267320633], [0.1267896145582199], [0.1273198127746582], [0.12587136030197144], [0.12466063350439072], [0.12160517275333405], [0.11973953247070312], [0.11821562051773071], [0.11324562877416611], [0.10690484195947647], [0.10136736184358597], [0.0988856628537178], [0.09701269119977951], [0.09590041637420654], [0.09206380695104599], [0.09073365479707718], [0.09111683815717697], [0.09015320986509323], [0.08695316314697266], [0.08302588015794754]]\n"
     ]
    }
   ],
   "source": [
    "# 15. In ra dự đoán cho 30 ngày tiếp theo\n",
    "print(\"Dự báo cho 30 ngày tiếp theo:\", forecast_30)"
   ]
  },
  {
   "cell_type": "code",
   "execution_count": 16,
   "id": "fbbbde1a-59a7-40bd-a4f7-cf5d05e1cda2",
   "metadata": {
    "tags": []
   },
   "outputs": [
    {
     "name": "stdout",
     "output_type": "stream",
     "text": [
      "Dự báo cho 60 ngày tiếp theo: [[0.14605866372585297], [0.14593051373958588], [0.14637841284275055], [0.14773310720920563], [0.14595690369606018], [0.1449868381023407], [0.14113229513168335], [0.13933640718460083], [0.1332012563943863], [0.12870600819587708], [0.1259269267320633], [0.1267896145582199], [0.1273198127746582], [0.12587136030197144], [0.12466063350439072], [0.12160517275333405], [0.11973953247070312], [0.11821562051773071], [0.11324562877416611], [0.10690484195947647], [0.10136736184358597], [0.0988856628537178], [0.09701269119977951], [0.09590041637420654], [0.09206380695104599], [0.09073365479707718], [0.09111683815717697], [0.09015320986509323], [0.08695316314697266], [0.08302588015794754], [0.08081895858049393], [0.08041441440582275], [0.07938584685325623], [0.0759505033493042], [0.07377760112285614], [0.0727464035153389], [0.07099355757236481], [0.0669088289141655], [0.06435789912939072], [0.060247600078582764], [0.058468759059906006], [0.058115892112255096], [0.057097598910331726], [0.054745882749557495], [0.054792650043964386], [0.05383596569299698], [0.053527358919382095], [0.05075365677475929], [0.049114957451820374], [0.046864695847034454], [0.04633715748786926], [0.04527106508612633], [0.046102374792099], [0.04598313197493553], [0.04575520381331444], [0.04598938301205635], [0.046194031834602356], [0.04480856657028198], [0.0437810905277729], [0.04293238744139671]]\n"
     ]
    }
   ],
   "source": [
    "# 15. In ra dự đoán cho 60 ngày tiếp theo\n",
    "print(\"Dự báo cho 60 ngày tiếp theo:\", forecast_60)"
   ]
  },
  {
   "cell_type": "code",
   "execution_count": 17,
   "id": "09bec281-2bd7-4939-9482-db139601dec3",
   "metadata": {
    "tags": []
   },
   "outputs": [
    {
     "name": "stdout",
     "output_type": "stream",
     "text": [
      "Dự báo cho 90 ngày tiếp theo: [[0.14605866372585297], [0.14593051373958588], [0.14637841284275055], [0.14773310720920563], [0.14595690369606018], [0.1449868381023407], [0.14113229513168335], [0.13933640718460083], [0.1332012563943863], [0.12870600819587708], [0.1259269267320633], [0.1267896145582199], [0.1273198127746582], [0.12587136030197144], [0.12466063350439072], [0.12160517275333405], [0.11973953247070312], [0.11821562051773071], [0.11324562877416611], [0.10690484195947647], [0.10136736184358597], [0.0988856628537178], [0.09701269119977951], [0.09590041637420654], [0.09206380695104599], [0.09073365479707718], [0.09111683815717697], [0.09015320986509323], [0.08695316314697266], [0.08302588015794754], [0.08081895858049393], [0.08041441440582275], [0.07938584685325623], [0.0759505033493042], [0.07377760112285614], [0.0727464035153389], [0.07099355757236481], [0.0669088289141655], [0.06435789912939072], [0.060247600078582764], [0.058468759059906006], [0.058115892112255096], [0.057097598910331726], [0.054745882749557495], [0.054792650043964386], [0.05383596569299698], [0.053527358919382095], [0.05075365677475929], [0.049114957451820374], [0.046864695847034454], [0.04633715748786926], [0.04527106508612633], [0.046102374792099], [0.04598313197493553], [0.04575520381331444], [0.04598938301205635], [0.046194031834602356], [0.04480856657028198], [0.0437810905277729], [0.04293238744139671], [0.04205256700515747], [0.04232504963874817], [0.04140983149409294], [0.040999315679073334], [0.03985976427793503], [0.04031253606081009], [0.03884587809443474], [0.0382804200053215], [0.037254031747579575], [0.0371345654129982], [0.03725173696875572], [0.037505894899368286], [0.03779477998614311], [0.037994205951690674], [0.03748435527086258], [0.037855442613363266], [0.036761317402124405], [0.03603525087237358], [0.034696392714977264], [0.03496626392006874], [0.034601762890815735], [0.034501317888498306], [0.03447248786687851], [0.03416621685028076], [0.03365831822156906], [0.03318210318684578], [0.03226441517472267], [0.0311601459980011], [0.029993943870067596], [0.028768159449100494]]\n"
     ]
    }
   ],
   "source": [
    "# 15. In ra dự đoán cho 90 ngày tiếp theo\n",
    "print(\"Dự báo cho 90 ngày tiếp theo:\", forecast_90)"
   ]
  },
  {
   "cell_type": "code",
   "execution_count": 18,
   "id": "1a2ee735-ad92-4ff0-a51f-7fa1da4773fc",
   "metadata": {
    "tags": []
   },
   "outputs": [
    {
     "data": {
      "image/png": "[encoded data removed]",
      "text/plain": [
       "<Figure size 640x480 with 1 Axes>"
      ]
     },
     "metadata": {},
     "output_type": "display_data"
    }
   ],
   "source": [
    "# 16. Vẽ hình\n",
    "\n",
    "# Vẽ dữ liệu kiểm tra\n",
    "test_data_index = pd.RangeIndex(start=train_size, stop=train_size + test_size)\n",
    "plt.plot(test_data_index, scaler.inverse_transform(test_data), label='Test Data')\n",
    "\n",
    "# Vẽ dữ liệu dự đoán\n",
    "predicted_data_index = range(train_size + 100, train_size + 100 + len(y_pred))\n",
    "plt.plot(predicted_data_index, y_pred, label='Predicted Test Data')\n",
    "\n",
    "# Vẽ dự báo 90, 60, 30 ngày\n",
    "plt.plot(np.arange(train_size + len(test_data), train_size + len(test_data) + len(forecast_90)), scaler.inverse_transform(forecast_90), label='Forecast 90 days')\n",
    "plt.plot(np.arange(train_size + len(test_data), train_size + len(test_data) + len(forecast_60)), scaler.inverse_transform(forecast_60), label='Forecast 60 days')\n",
    "plt.plot(np.arange(train_size + len(test_data), train_size + len(test_data) + len(forecast_30)), scaler.inverse_transform(forecast_30), label='Forecast 30 days')\n",
    "\n",
    "plt.title('RNN - ADA Stock Price - Forecast 30, 60, 90 days')\n",
    "plt.legend()\n",
    "plt.xlabel('Day')\n",
    "plt.ylabel('Price')\n",
    "plt.show()\n"
   ]
  }
 ],
 "metadata": {
  "kernelspec": {
   "display_name": "Python 3 (ipykernel)",
   "language": "python",
   "name": "python3"
  },
  "language_info": {
   "codemirror_mode": {
    "name": "ipython",
    "version": 3
   },
   "file_extension": ".py",
   "mimetype": "text/x-python",
   "name": "python",
   "nbconvert_exporter": "python",
   "pygments_lexer": "ipython3",
   "version": "3.10.8"
  }
 },
 "nbformat": 4,
 "nbformat_minor": 5
}
