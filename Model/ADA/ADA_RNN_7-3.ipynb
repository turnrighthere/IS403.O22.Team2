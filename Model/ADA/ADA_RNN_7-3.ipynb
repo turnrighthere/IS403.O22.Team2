{
 "cells": [
  {
   "cell_type": "code",
   "execution_count": 20,
   "id": "26fdc348-5b74-4d88-a3dc-48da4d735e10",
   "metadata": {
    "tags": []
   },
   "outputs": [],
   "source": [
    "# 1. Import thư viện cần thiết\n",
    "import numpy as np\n",
    "import pandas as pd\n",
    "import matplotlib.pyplot as plt\n",
    "from sklearn.preprocessing import MinMaxScaler\n",
    "from keras.models import Sequential\n",
    "from keras.layers import Dense, SimpleRNN"
   ]
  },
  {
   "cell_type": "code",
   "execution_count": 21,
   "id": "a1081418-67c4-4366-9320-98d0255b8a87",
   "metadata": {
    "tags": []
   },
   "outputs": [
    {
     "name": "stdout",
     "output_type": "stream",
     "text": [
      "<class 'pandas.core.frame.DataFrame'>\n",
      "RangeIndex: 2285 entries, 0 to 2284\n",
      "Data columns (total 7 columns):\n",
      " #   Column     Non-Null Count  Dtype  \n",
      "---  ------     --------------  -----  \n",
      " 0   Date       2285 non-null   object \n",
      " 1   Open       2285 non-null   float64\n",
      " 2   High       2285 non-null   float64\n",
      " 3   Low        2285 non-null   float64\n",
      " 4   Price      2285 non-null   float64\n",
      " 5   Adj Close  2285 non-null   float64\n",
      " 6   Volume     2285 non-null   int64  \n",
      "dtypes: float64(5), int64(1), object(1)\n",
      "memory usage: 125.1+ KB\n"
     ]
    }
   ],
   "source": [
    "# 2. Đọc file csv và gắn index với giá Price\n",
    "df = pd.read_csv('pre_ADA-USD.csv')\n",
    "df = df.rename(columns={'Close': 'Price'})\n",
    "df1 = df.reset_index()['Price']\n",
    "df.info()"
   ]
  },
  {
   "cell_type": "code",
   "execution_count": 22,
   "id": "60ab42f9-e719-4186-ada8-ba47f31ad5a7",
   "metadata": {
    "tags": []
   },
   "outputs": [],
   "source": [
    "# 3. Scaler data\n",
    "scaler = MinMaxScaler(feature_range=(0, 1))\n",
    "df1 = scaler.fit_transform(np.array(df1).reshape(-1, 1))"
   ]
  },
  {
   "cell_type": "code",
   "execution_count": 23,
   "id": "5cc5eeb5-d78f-4ef1-87eb-4359c768e0d6",
   "metadata": {
    "tags": []
   },
   "outputs": [
    {
     "name": "stdout",
     "output_type": "stream",
     "text": [
      "Train shape: (1599, 1)\n",
      "Test shape: (686, 1)\n"
     ]
    }
   ],
   "source": [
    "# 4. Chia train test 7 - 3\n",
    "train_size = int(0.7 * len(df1))\n",
    "test_size = len(df1) - train_size\n",
    "\n",
    "# Lấy dữ liệu train và test\n",
    "train_data = df1[:train_size]\n",
    "test_data = df1[train_size:]\n",
    "\n",
    "print(\"Train shape:\", train_data.shape)\n",
    "print(\"Test shape:\", test_data.shape)"
   ]
  },
  {
   "cell_type": "code",
   "execution_count": 24,
   "id": "f9148ab3-7d6f-4b1f-ab40-c832747c52be",
   "metadata": {
    "tags": []
   },
   "outputs": [],
   "source": [
    "# 5. Hàm Create Dataset\n",
    "import numpy\n",
    "# convert an array of values into a dataset matrix\n",
    "def create_dataset(dataset, time_step=1):\n",
    "\tdataX, dataY = [], []\n",
    "\tfor i in range(len(dataset)-time_step-1):\n",
    "\t\ta = dataset[i:(i+time_step), 0]   ###i=0, X=0,1,2,3-----99   Y=100 \n",
    "\t\tdataX.append(a)\n",
    "\t\tdataY.append(dataset[i + time_step, 0])\n",
    "\treturn numpy.array(dataX), numpy.array(dataY)"
   ]
  },
  {
   "cell_type": "code",
   "execution_count": 25,
   "id": "72cc4c30-465a-4cab-8356-3baef4e1fa61",
   "metadata": {
    "tags": []
   },
   "outputs": [],
   "source": [
    "# 6. Reshape into X=t,t+1,t+2..t+99 and Y=t+100\n",
    "time_step = 100\n",
    "X_train, y_train = create_dataset(train_data, time_step)\n",
    "combined_data = np.concatenate((train_data[-time_step:], test_data))\n",
    "X_test, ytest = create_dataset(combined_data, time_step)"
   ]
  },
  {
   "cell_type": "code",
   "execution_count": 26,
   "id": "ea53b5fc-9693-41c0-94d4-433f02119225",
   "metadata": {
    "tags": []
   },
   "outputs": [],
   "source": [
    "# 7. Reshape input to be [samples, time steps, features] which is required for LSTM\n",
    "X_train = X_train.reshape(X_train.shape[0], X_train.shape[1], 1)\n",
    "X_test = X_test.reshape(X_test.shape[0], X_test.shape[1], 1)"
   ]
  },
  {
   "cell_type": "code",
   "execution_count": 27,
   "id": "15bfe900-abe3-40da-8cba-618fcf530d43",
   "metadata": {
    "tags": []
   },
   "outputs": [],
   "source": [
    "# 8. Define RNN Model\n",
    "model = Sequential()\n",
    "model.add(SimpleRNN(50, input_shape=(time_step, 1)))\n",
    "model.add(Dense(1))\n",
    "model.compile(loss='mean_squared_error', optimizer='adam')"
   ]
  },
  {
   "cell_type": "code",
   "execution_count": 28,
   "id": "cc691626-b5f4-467f-a47b-0c07f204f045",
   "metadata": {
    "tags": []
   },
   "outputs": [
    {
     "name": "stdout",
     "output_type": "stream",
     "text": [
      "Epoch 1/100\n",
      "24/24 [==============================] - 3s 53ms/step - loss: 0.0085 - val_loss: 0.0011\n",
      "Epoch 2/100\n",
      "24/24 [==============================] - 0s 19ms/step - loss: 0.0011 - val_loss: 2.7432e-04\n",
      "Epoch 3/100\n",
      "24/24 [==============================] - 0s 19ms/step - loss: 8.9266e-04 - val_loss: 2.1562e-04\n",
      "Epoch 4/100\n",
      "24/24 [==============================] - 0s 16ms/step - loss: 8.7167e-04 - val_loss: 1.7238e-04\n",
      "Epoch 5/100\n",
      "24/24 [==============================] - 0s 17ms/step - loss: 7.7759e-04 - val_loss: 2.4107e-04\n",
      "Epoch 6/100\n",
      "24/24 [==============================] - 1s 22ms/step - loss: 6.9339e-04 - val_loss: 1.4975e-04\n",
      "Epoch 7/100\n",
      "24/24 [==============================] - 0s 17ms/step - loss: 6.6472e-04 - val_loss: 1.3503e-04\n",
      "Epoch 8/100\n",
      "24/24 [==============================] - 0s 19ms/step - loss: 6.2883e-04 - val_loss: 1.2799e-04\n",
      "Epoch 9/100\n",
      "24/24 [==============================] - 0s 17ms/step - loss: 5.7382e-04 - val_loss: 1.1708e-04\n",
      "Epoch 10/100\n",
      "24/24 [==============================] - 0s 17ms/step - loss: 5.5817e-04 - val_loss: 9.0177e-05\n",
      "Epoch 11/100\n",
      "24/24 [==============================] - 0s 17ms/step - loss: 5.4284e-04 - val_loss: 9.6144e-05\n",
      "Epoch 12/100\n",
      "24/24 [==============================] - 0s 17ms/step - loss: 5.2055e-04 - val_loss: 9.6252e-05\n",
      "Epoch 13/100\n",
      "24/24 [==============================] - 0s 17ms/step - loss: 4.9135e-04 - val_loss: 8.8514e-05\n",
      "Epoch 14/100\n",
      "24/24 [==============================] - 0s 17ms/step - loss: 5.0953e-04 - val_loss: 1.0303e-04\n",
      "Epoch 15/100\n",
      "24/24 [==============================] - 0s 17ms/step - loss: 4.6283e-04 - val_loss: 7.4599e-05\n",
      "Epoch 16/100\n",
      "24/24 [==============================] - 0s 17ms/step - loss: 4.3030e-04 - val_loss: 7.1862e-05\n",
      "Epoch 17/100\n",
      "24/24 [==============================] - 0s 17ms/step - loss: 4.1518e-04 - val_loss: 6.9609e-05\n",
      "Epoch 18/100\n",
      "24/24 [==============================] - 0s 16ms/step - loss: 4.1157e-04 - val_loss: 7.9144e-05\n",
      "Epoch 19/100\n",
      "24/24 [==============================] - 0s 16ms/step - loss: 4.4591e-04 - val_loss: 8.2816e-05\n",
      "Epoch 20/100\n",
      "24/24 [==============================] - 0s 16ms/step - loss: 4.0763e-04 - val_loss: 7.2430e-05\n",
      "Epoch 21/100\n",
      "24/24 [==============================] - 0s 16ms/step - loss: 5.0700e-04 - val_loss: 6.2882e-05\n",
      "Epoch 22/100\n",
      "24/24 [==============================] - 0s 16ms/step - loss: 4.3707e-04 - val_loss: 5.9599e-05\n",
      "Epoch 23/100\n",
      "24/24 [==============================] - 0s 17ms/step - loss: 3.6531e-04 - val_loss: 6.6266e-05\n",
      "Epoch 24/100\n",
      "24/24 [==============================] - 0s 19ms/step - loss: 3.8104e-04 - val_loss: 6.0192e-05\n",
      "Epoch 25/100\n",
      "24/24 [==============================] - 0s 17ms/step - loss: 3.7216e-04 - val_loss: 6.0544e-05\n",
      "Epoch 26/100\n",
      "24/24 [==============================] - 0s 17ms/step - loss: 3.4316e-04 - val_loss: 5.8615e-05\n",
      "Epoch 27/100\n",
      "24/24 [==============================] - 0s 17ms/step - loss: 3.5425e-04 - val_loss: 6.0299e-05\n",
      "Epoch 28/100\n",
      "24/24 [==============================] - 0s 16ms/step - loss: 3.7361e-04 - val_loss: 5.9859e-05\n",
      "Epoch 29/100\n",
      "24/24 [==============================] - 0s 17ms/step - loss: 3.8826e-04 - val_loss: 9.2444e-05\n",
      "Epoch 30/100\n",
      "24/24 [==============================] - 0s 16ms/step - loss: 3.6030e-04 - val_loss: 5.2055e-05\n",
      "Epoch 31/100\n",
      "24/24 [==============================] - 0s 17ms/step - loss: 3.3307e-04 - val_loss: 5.2029e-05\n",
      "Epoch 32/100\n",
      "24/24 [==============================] - 0s 19ms/step - loss: 3.1905e-04 - val_loss: 5.2882e-05\n",
      "Epoch 33/100\n",
      "24/24 [==============================] - 0s 16ms/step - loss: 3.3525e-04 - val_loss: 5.9065e-05\n",
      "Epoch 34/100\n",
      "24/24 [==============================] - 0s 16ms/step - loss: 3.4109e-04 - val_loss: 5.4295e-05\n",
      "Epoch 35/100\n",
      "24/24 [==============================] - 0s 16ms/step - loss: 3.3362e-04 - val_loss: 1.5818e-04\n",
      "Epoch 36/100\n",
      "24/24 [==============================] - 0s 16ms/step - loss: 3.9327e-04 - val_loss: 1.0310e-04\n",
      "Epoch 37/100\n",
      "24/24 [==============================] - 0s 17ms/step - loss: 3.3883e-04 - val_loss: 7.3751e-05\n",
      "Epoch 38/100\n",
      "24/24 [==============================] - 0s 16ms/step - loss: 3.4511e-04 - val_loss: 6.6117e-05\n",
      "Epoch 39/100\n",
      "24/24 [==============================] - 0s 16ms/step - loss: 3.0800e-04 - val_loss: 5.5132e-05\n",
      "Epoch 40/100\n",
      "24/24 [==============================] - 0s 18ms/step - loss: 3.2292e-04 - val_loss: 6.0346e-05\n",
      "Epoch 41/100\n",
      "24/24 [==============================] - 0s 17ms/step - loss: 3.4267e-04 - val_loss: 7.6445e-05\n",
      "Epoch 42/100\n",
      "24/24 [==============================] - 0s 17ms/step - loss: 2.9714e-04 - val_loss: 4.7787e-05\n",
      "Epoch 43/100\n",
      "24/24 [==============================] - 0s 17ms/step - loss: 3.2647e-04 - val_loss: 4.9487e-05\n",
      "Epoch 44/100\n",
      "24/24 [==============================] - 0s 17ms/step - loss: 3.5866e-04 - val_loss: 4.7632e-05\n",
      "Epoch 45/100\n",
      "24/24 [==============================] - 0s 17ms/step - loss: 2.9626e-04 - val_loss: 6.6562e-05\n",
      "Epoch 46/100\n",
      "24/24 [==============================] - 0s 18ms/step - loss: 3.0871e-04 - val_loss: 4.9764e-05\n",
      "Epoch 47/100\n",
      "24/24 [==============================] - 0s 17ms/step - loss: 3.2139e-04 - val_loss: 6.2975e-05\n",
      "Epoch 48/100\n",
      "24/24 [==============================] - 0s 17ms/step - loss: 3.2392e-04 - val_loss: 7.0158e-05\n",
      "Epoch 49/100\n",
      "24/24 [==============================] - 1s 25ms/step - loss: 3.1086e-04 - val_loss: 4.5191e-05\n",
      "Epoch 50/100\n",
      "24/24 [==============================] - 0s 17ms/step - loss: 2.8912e-04 - val_loss: 4.3873e-05\n",
      "Epoch 51/100\n",
      "24/24 [==============================] - 1s 28ms/step - loss: 2.9150e-04 - val_loss: 4.9547e-05\n",
      "Epoch 52/100\n",
      "24/24 [==============================] - 0s 17ms/step - loss: 2.9939e-04 - val_loss: 4.4246e-05\n",
      "Epoch 53/100\n",
      "24/24 [==============================] - 0s 18ms/step - loss: 2.9789e-04 - val_loss: 5.1110e-05\n",
      "Epoch 54/100\n",
      "24/24 [==============================] - 0s 17ms/step - loss: 3.0763e-04 - val_loss: 4.5935e-05\n",
      "Epoch 55/100\n",
      "24/24 [==============================] - 0s 17ms/step - loss: 2.9512e-04 - val_loss: 4.5006e-05\n",
      "Epoch 56/100\n",
      "24/24 [==============================] - 0s 18ms/step - loss: 3.0508e-04 - val_loss: 5.0797e-05\n",
      "Epoch 57/100\n",
      "24/24 [==============================] - 0s 19ms/step - loss: 3.0364e-04 - val_loss: 4.5262e-05\n",
      "Epoch 58/100\n",
      "24/24 [==============================] - 0s 17ms/step - loss: 2.8695e-04 - val_loss: 4.6089e-05\n",
      "Epoch 59/100\n",
      "24/24 [==============================] - 0s 17ms/step - loss: 2.9702e-04 - val_loss: 5.1238e-05\n",
      "Epoch 60/100\n",
      "24/24 [==============================] - 0s 16ms/step - loss: 2.9002e-04 - val_loss: 5.9510e-05\n",
      "Epoch 61/100\n",
      "24/24 [==============================] - 0s 16ms/step - loss: 2.9549e-04 - val_loss: 4.4909e-05\n",
      "Epoch 62/100\n",
      "24/24 [==============================] - 0s 17ms/step - loss: 3.1529e-04 - val_loss: 1.0618e-04\n",
      "Epoch 63/100\n",
      "24/24 [==============================] - 0s 17ms/step - loss: 2.9309e-04 - val_loss: 4.4021e-05\n",
      "Epoch 64/100\n",
      "24/24 [==============================] - 0s 18ms/step - loss: 2.9419e-04 - val_loss: 4.4131e-05\n",
      "Epoch 65/100\n",
      "24/24 [==============================] - 0s 17ms/step - loss: 2.8447e-04 - val_loss: 4.6190e-05\n",
      "Epoch 66/100\n",
      "24/24 [==============================] - 0s 18ms/step - loss: 2.8663e-04 - val_loss: 4.3892e-05\n",
      "Epoch 67/100\n",
      "24/24 [==============================] - 0s 16ms/step - loss: 2.8074e-04 - val_loss: 5.2325e-05\n",
      "Epoch 68/100\n",
      "24/24 [==============================] - 0s 16ms/step - loss: 2.8932e-04 - val_loss: 6.3256e-05\n",
      "Epoch 69/100\n",
      "24/24 [==============================] - 0s 19ms/step - loss: 3.0135e-04 - val_loss: 4.5999e-05\n",
      "Epoch 70/100\n",
      "24/24 [==============================] - 0s 17ms/step - loss: 2.9713e-04 - val_loss: 4.5297e-05\n",
      "Epoch 71/100\n",
      "24/24 [==============================] - 0s 17ms/step - loss: 2.9444e-04 - val_loss: 4.3368e-05\n",
      "Epoch 72/100\n",
      "24/24 [==============================] - 0s 20ms/step - loss: 2.8841e-04 - val_loss: 4.1604e-05\n",
      "Epoch 73/100\n",
      "24/24 [==============================] - 1s 25ms/step - loss: 2.8946e-04 - val_loss: 4.8389e-05\n",
      "Epoch 74/100\n",
      "24/24 [==============================] - 1s 34ms/step - loss: 3.0730e-04 - val_loss: 6.7739e-05\n",
      "Epoch 75/100\n",
      "24/24 [==============================] - 1s 21ms/step - loss: 3.0711e-04 - val_loss: 4.7721e-05\n",
      "Epoch 76/100\n",
      "24/24 [==============================] - 1s 27ms/step - loss: 2.9805e-04 - val_loss: 4.1490e-05\n",
      "Epoch 77/100\n",
      "24/24 [==============================] - 0s 18ms/step - loss: 2.8579e-04 - val_loss: 4.5446e-05\n",
      "Epoch 78/100\n",
      "24/24 [==============================] - 1s 27ms/step - loss: 2.8750e-04 - val_loss: 4.7671e-05\n",
      "Epoch 79/100\n",
      "24/24 [==============================] - 0s 20ms/step - loss: 3.0463e-04 - val_loss: 4.6896e-05\n",
      "Epoch 80/100\n",
      "24/24 [==============================] - 0s 18ms/step - loss: 3.0823e-04 - val_loss: 4.1551e-05\n",
      "Epoch 81/100\n",
      "24/24 [==============================] - 1s 29ms/step - loss: 2.9281e-04 - val_loss: 7.3301e-05\n",
      "Epoch 82/100\n",
      "24/24 [==============================] - 0s 18ms/step - loss: 3.0176e-04 - val_loss: 5.9168e-05\n",
      "Epoch 83/100\n",
      "24/24 [==============================] - 0s 18ms/step - loss: 3.0278e-04 - val_loss: 5.4161e-05\n",
      "Epoch 84/100\n",
      "24/24 [==============================] - 0s 18ms/step - loss: 2.9862e-04 - val_loss: 4.1767e-05\n",
      "Epoch 85/100\n",
      "24/24 [==============================] - 1s 36ms/step - loss: 3.0193e-04 - val_loss: 4.1916e-05\n",
      "Epoch 86/100\n",
      "24/24 [==============================] - 0s 17ms/step - loss: 2.8819e-04 - val_loss: 4.3827e-05\n",
      "Epoch 87/100\n",
      "24/24 [==============================] - 0s 17ms/step - loss: 2.8885e-04 - val_loss: 4.2800e-05\n",
      "Epoch 88/100\n",
      "24/24 [==============================] - 0s 17ms/step - loss: 2.8866e-04 - val_loss: 4.9402e-05\n",
      "Epoch 89/100\n",
      "24/24 [==============================] - 0s 16ms/step - loss: 2.9398e-04 - val_loss: 7.0108e-05\n",
      "Epoch 90/100\n",
      "24/24 [==============================] - 0s 18ms/step - loss: 2.9569e-04 - val_loss: 6.7011e-05\n",
      "Epoch 91/100\n",
      "24/24 [==============================] - 0s 20ms/step - loss: 2.9090e-04 - val_loss: 4.1173e-05\n",
      "Epoch 92/100\n",
      "24/24 [==============================] - 0s 16ms/step - loss: 2.8106e-04 - val_loss: 4.6458e-05\n",
      "Epoch 93/100\n",
      "24/24 [==============================] - 0s 17ms/step - loss: 2.9996e-04 - val_loss: 7.3787e-05\n",
      "Epoch 94/100\n",
      "24/24 [==============================] - 0s 17ms/step - loss: 2.8374e-04 - val_loss: 4.4542e-05\n",
      "Epoch 95/100\n",
      "24/24 [==============================] - 1s 22ms/step - loss: 2.8751e-04 - val_loss: 4.2889e-05\n",
      "Epoch 96/100\n",
      "24/24 [==============================] - 1s 22ms/step - loss: 2.8064e-04 - val_loss: 5.8858e-05\n",
      "Epoch 97/100\n",
      "24/24 [==============================] - 0s 18ms/step - loss: 2.8528e-04 - val_loss: 4.3430e-05\n",
      "Epoch 98/100\n",
      "24/24 [==============================] - 0s 19ms/step - loss: 2.9954e-04 - val_loss: 4.9114e-05\n",
      "Epoch 99/100\n",
      "24/24 [==============================] - 1s 27ms/step - loss: 3.2161e-04 - val_loss: 5.4799e-05\n",
      "Epoch 100/100\n",
      "24/24 [==============================] - 0s 18ms/step - loss: 3.2580e-04 - val_loss: 5.5329e-05\n"
     ]
    },
    {
     "data": {
      "text/plain": [
       "<keras.callbacks.History at 0x204e9696410>"
      ]
     },
     "execution_count": 28,
     "metadata": {},
     "output_type": "execute_result"
    }
   ],
   "source": [
    "# 9. Fit mô hình với dữ liệu train\n",
    "model.fit(X_train, y_train, validation_data=(X_test, ytest), epochs=100, batch_size=64, verbose=1)"
   ]
  },
  {
   "cell_type": "code",
   "execution_count": 29,
   "id": "c55c37b5-5b6b-4482-8ef1-63d82cd60fae",
   "metadata": {
    "tags": []
   },
   "outputs": [
    {
     "name": "stdout",
     "output_type": "stream",
     "text": [
      "47/47 [==============================] - 0s 5ms/step\n",
      "22/22 [==============================] - 0s 5ms/step\n"
     ]
    }
   ],
   "source": [
    "# 10. Dự báo dữ liệu test\n",
    "train_predict = model.predict(X_train)\n",
    "y_pred = model.predict(X_test)"
   ]
  },
  {
   "cell_type": "code",
   "execution_count": 30,
   "id": "e1ef089c-abd2-4072-9177-25ff22485fa8",
   "metadata": {
    "tags": []
   },
   "outputs": [],
   "source": [
    "# 11. Chuẩn hóa dữ liệu y_pred\n",
    "train_predict = scaler.inverse_transform(train_predict)\n",
    "y_pred = scaler.inverse_transform(y_pred)"
   ]
  },
  {
   "cell_type": "code",
   "execution_count": 31,
   "id": "6c14ba0c-354e-4514-a7ed-98b43cbcc1f9",
   "metadata": {
    "tags": []
   },
   "outputs": [
    {
     "name": "stdout",
     "output_type": "stream",
     "text": [
      "Mean Absolute Error (MAE): 0.26504507550624207\n",
      "Mean Absolute Percentage Error (MAPE): 205.04860068368706\n",
      "Root Mean Square Error (RMSE): 0.27652087457955404\n"
     ]
    }
   ],
   "source": [
    "# 12. Tính RMSE, MAPE, MAE\n",
    "from sklearn.metrics import mean_absolute_error, mean_squared_error, mean_absolute_percentage_error\n",
    "\n",
    "mae = mean_absolute_error(ytest, y_pred)\n",
    "mape = mean_absolute_percentage_error(ytest, y_pred)\n",
    "rmse = np.sqrt(mean_squared_error(ytest, y_pred))\n",
    "\n",
    "print(\"Mean Absolute Error (MAE):\", mae)\n",
    "print(\"Mean Absolute Percentage Error (MAPE):\", mape * 100)\n",
    "print(\"Root Mean Square Error (RMSE):\", rmse)"
   ]
  },
  {
   "cell_type": "code",
   "execution_count": 32,
   "id": "a858ddd6-d663-47e2-b024-95e269c52c71",
   "metadata": {
    "tags": []
   },
   "outputs": [],
   "source": [
    "# 13. Hàm dự báo\n",
    "def forecast_days(n_days):\n",
    "    x_input = test_data[-100:].reshape(1, -1)\n",
    "    temp_input = list(x_input[0])\n",
    "\n",
    "    lst_output = []\n",
    "    i = 0\n",
    "    while i < n_days:\n",
    "        if len(temp_input) > 100:\n",
    "            x_input = np.array(temp_input[1:])\n",
    "            x_input = x_input.reshape(1, -1)\n",
    "            x_input = x_input.reshape((1, time_step, 1))\n",
    "            yhat = model.predict(x_input, verbose=0)\n",
    "            temp_input.extend(yhat[0].tolist())\n",
    "            temp_input = temp_input[1:]\n",
    "            lst_output.extend(yhat.tolist())\n",
    "            i += 1\n",
    "        else:\n",
    "            x_input = x_input.reshape((1, time_step, 1))\n",
    "            yhat = model.predict(x_input, verbose=0)\n",
    "            temp_input.extend(yhat[0].tolist())\n",
    "            lst_output.extend(yhat.tolist())\n",
    "            i += 1\n",
    "    return lst_output"
   ]
  },
  {
   "cell_type": "code",
   "execution_count": 33,
   "id": "a3f20539-86f3-4c0d-ac02-6d3159836533",
   "metadata": {
    "tags": []
   },
   "outputs": [],
   "source": [
    "# 14. Dự báo 30, 60, 90 ngày tiếp theo\n",
    "forecast_30 = forecast_days(30)\n",
    "forecast_60 = forecast_days(60)\n",
    "forecast_90 = forecast_days(90)"
   ]
  },
  {
   "cell_type": "code",
   "execution_count": 34,
   "id": "e3ed23dc-59fe-4c17-aed7-762004a4dc86",
   "metadata": {
    "tags": []
   },
   "outputs": [
    {
     "name": "stdout",
     "output_type": "stream",
     "text": [
      "Dự báo cho 30 ngày tiếp theo: [[0.14133842289447784], [0.13977625966072083], [0.1389237940311432], [0.1361260563135147], [0.1349514275789261], [0.12897425889968872], [0.12190570682287216], [0.11594375222921371], [0.10937059670686722], [0.10332310944795609], [0.09942135214805603], [0.09907222539186478], [0.09647161513566971], [0.09339044988155365], [0.0890980139374733], [0.08682931214570999], [0.08451075106859207], [0.08053871244192123], [0.07321435958147049], [0.06532124429941177], [0.05820415914058685], [0.05388415604829788], [0.05300597846508026], [0.047144100069999695], [0.04367745667695999], [0.04041168838739395], [0.03775680810213089], [0.03583300858736038], [0.032005831599235535], [0.02894572541117668]]\n"
     ]
    }
   ],
   "source": [
    "# 15. In ra dự đoán cho 30 ngày tiếp theo\n",
    "print(\"Dự báo cho 30 ngày tiếp theo:\", forecast_30)"
   ]
  },
  {
   "cell_type": "code",
   "execution_count": 35,
   "id": "fbbbde1a-59a7-40bd-a4f7-cf5d05e1cda2",
   "metadata": {
    "tags": []
   },
   "outputs": [
    {
     "name": "stdout",
     "output_type": "stream",
     "text": [
      "Dự báo cho 60 ngày tiếp theo: [[0.14133842289447784], [0.13977625966072083], [0.1389237940311432], [0.1361260563135147], [0.1349514275789261], [0.12897425889968872], [0.12190570682287216], [0.11594375222921371], [0.10937059670686722], [0.10332310944795609], [0.09942135214805603], [0.09907222539186478], [0.09647161513566971], [0.09339044988155365], [0.0890980139374733], [0.08682931214570999], [0.08451075106859207], [0.08053871244192123], [0.07321435958147049], [0.06532124429941177], [0.05820415914058685], [0.05388415604829788], [0.05300597846508026], [0.047144100069999695], [0.04367745667695999], [0.04041168838739395], [0.03775680810213089], [0.03583300858736038], [0.032005831599235535], [0.02894572541117668], [0.02279801294207573], [0.01886701211333275], [0.01541760005056858], [0.011709257028996944], [0.008061932399868965], [0.005726311355829239], [0.002508975565433502], [-0.001005825586616993], [-0.005228694528341293], [-0.009067583829164505], [-0.01179433986544609], [-0.014842608943581581], [-0.018092982470989227], [-0.021688757464289665], [-0.024830235168337822], [-0.027382513508200645], [-0.028807060793042183], [-0.032089099287986755], [-0.03595107048749924], [-0.04027760773897171], [-0.04371771216392517], [-0.046637482941150665], [-0.04898962378501892], [-0.051145873963832855], [-0.05429676175117493], [-0.05665341019630432], [-0.05828258395195007], [-0.060867950320243835], [-0.06304427981376648], [-0.06670942157506943]]\n"
     ]
    }
   ],
   "source": [
    "# 15. In ra dự đoán cho 60 ngày tiếp theo\n",
    "print(\"Dự báo cho 60 ngày tiếp theo:\", forecast_60)"
   ]
  },
  {
   "cell_type": "code",
   "execution_count": 36,
   "id": "09bec281-2bd7-4939-9482-db139601dec3",
   "metadata": {
    "tags": []
   },
   "outputs": [
    {
     "name": "stdout",
     "output_type": "stream",
     "text": [
      "Dự báo cho 90 ngày tiếp theo: [[0.14133842289447784], [0.13977625966072083], [0.1389237940311432], [0.1361260563135147], [0.1349514275789261], [0.12897425889968872], [0.12190570682287216], [0.11594375222921371], [0.10937059670686722], [0.10332310944795609], [0.09942135214805603], [0.09907222539186478], [0.09647161513566971], [0.09339044988155365], [0.0890980139374733], [0.08682931214570999], [0.08451075106859207], [0.08053871244192123], [0.07321435958147049], [0.06532124429941177], [0.05820415914058685], [0.05388415604829788], [0.05300597846508026], [0.047144100069999695], [0.04367745667695999], [0.04041168838739395], [0.03775680810213089], [0.03583300858736038], [0.032005831599235535], [0.02894572541117668], [0.02279801294207573], [0.01886701211333275], [0.01541760005056858], [0.011709257028996944], [0.008061932399868965], [0.005726311355829239], [0.002508975565433502], [-0.001005825586616993], [-0.005228694528341293], [-0.009067583829164505], [-0.01179433986544609], [-0.014842608943581581], [-0.018092982470989227], [-0.021688757464289665], [-0.024830235168337822], [-0.027382513508200645], [-0.028807060793042183], [-0.032089099287986755], [-0.03595107048749924], [-0.04027760773897171], [-0.04371771216392517], [-0.046637482941150665], [-0.04898962378501892], [-0.051145873963832855], [-0.05429676175117493], [-0.05665341019630432], [-0.05828258395195007], [-0.060867950320243835], [-0.06304427981376648], [-0.06670942157506943], [-0.06994137912988663], [-0.07341857254505157], [-0.07626896351575851], [-0.07876858860254288], [-0.08199635148048401], [-0.08466701209545135], [-0.08773685991764069], [-0.089987613260746], [-0.0923018530011177], [-0.09429176896810532], [-0.09654384851455688], [-0.09916337579488754], [-0.10173299908638], [-0.10459268093109131], [-0.10724727809429169], [-0.11005587875843048], [-0.11266757547855377], [-0.11498738080263138], [-0.11789064854383469], [-0.1198582872748375], [-0.12163854390382767], [-0.1234469786286354], [-0.12541808187961578], [-0.1278725415468216], [-0.13066156208515167], [-0.13319173455238342], [-0.1350185126066208], [-0.13714785873889923], [-0.1393784135580063], [-0.14208905398845673]]\n"
     ]
    }
   ],
   "source": [
    "# 15. In ra dự đoán cho 90 ngày tiếp theo\n",
    "print(\"Dự báo cho 90 ngày tiếp theo:\", forecast_90)"
   ]
  },
  {
   "cell_type": "code",
   "execution_count": 37,
   "id": "1a2ee735-ad92-4ff0-a51f-7fa1da4773fc",
   "metadata": {
    "tags": []
   },
   "outputs": [
    {
     "data": {
      "image/png": "[encoded data removed]",
      "text/plain": [
       "<Figure size 640x480 with 1 Axes>"
      ]
     },
     "metadata": {},
     "output_type": "display_data"
    }
   ],
   "source": [
    "# 16. Vẽ hình\n",
    "\n",
    "# Vẽ dữ liệu kiểm tra\n",
    "test_data_index = pd.RangeIndex(start=train_size, stop=train_size + test_size)\n",
    "plt.plot(test_data_index, scaler.inverse_transform(test_data), label='Test Data')\n",
    "\n",
    "# Vẽ dữ liệu dự đoán\n",
    "plt.plot(np.arange(train_size, train_size + len(y_pred)), y_pred, label='Predicted')\n",
    "\n",
    "# Vẽ dự báo 90, 60, 30 ngày\n",
    "plt.plot(np.arange(train_size + len(test_data), train_size + len(test_data) + len(forecast_90)), scaler.inverse_transform(forecast_90), label='Forecast 90 days')\n",
    "plt.plot(np.arange(train_size + len(test_data), train_size + len(test_data) + len(forecast_60)), scaler.inverse_transform(forecast_60), label='Forecast 60 days')\n",
    "plt.plot(np.arange(train_size + len(test_data), train_size + len(test_data) + len(forecast_30)), scaler.inverse_transform(forecast_30), label='Forecast 30 days')\n",
    "\n",
    "plt.title('RNN - ADA Stock Price - Forecast 30, 60, 90 days')\n",
    "plt.legend()\n",
    "plt.xlabel('Day')\n",
    "plt.ylabel('Price')\n",
    "plt.show()\n"
   ]
  }
 ],
 "metadata": {
  "kernelspec": {
   "display_name": "Python 3 (ipykernel)",
   "language": "python",
   "name": "python3"
  },
  "language_info": {
   "codemirror_mode": {
    "name": "ipython",
    "version": 3
   },
   "file_extension": ".py",
   "mimetype": "text/x-python",
   "name": "python",
   "nbconvert_exporter": "python",
   "pygments_lexer": "ipython3",
   "version": "3.10.8"
  }
 },
 "nbformat": 4,
 "nbformat_minor": 5
}
