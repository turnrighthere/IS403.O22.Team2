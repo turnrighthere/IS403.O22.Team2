{
  "nbformat": 4,
  "nbformat_minor": 0,
  "metadata": {
    "colab": {
      "provenance": [],
      "gpuType": "T4"
    },
    "kernelspec": {
      "name": "python3",
      "display_name": "Python 3"
    },
    "language_info": {
      "name": "python"
    },
    "accelerator": "GPU"
  },
  "cells": [
    {
      "cell_type": "code",
      "execution_count": 1,
      "metadata": {
        "id": "2s2M7RWnLyVs",
        "colab": {
          "base_uri": "https://localhost:8080/"
        },
        "outputId": "48bca876-a22d-4bf0-af58-d6d0f5943c9a"
      },
      "outputs": [
        {
          "output_type": "stream",
          "name": "stdout",
          "text": [
            "Mounted at /content/drive\n"
          ]
        }
      ],
      "source": [
        "from google.colab import drive\n",
        "drive.mount('/content/drive')\n",
        "import numpy as np\n",
        "import pandas as pd\n",
        "import matplotlib.pyplot as plt\n",
        "from sklearn.preprocessing import MinMaxScaler\n",
        "from keras.models import Sequential\n",
        "from keras.layers import Dense, GRU"
      ]
    },
    {
      "cell_type": "code",
      "source": [
        "# Đọc file csv\n",
        "df = pd.read_csv('/content/drive/MyDrive/Colab Notebooks/Data/pre_ADA-USD.csv')\n",
        "df = df.rename(columns={'Close': 'Price'})\n",
        "df['Date'] = pd.to_datetime(df['Date'])\n",
        "df.head(5)"
      ],
      "metadata": {
        "id": "N4mD72x5nuXt",
        "colab": {
          "base_uri": "https://localhost:8080/",
          "height": 206
        },
        "outputId": "97baa58c-fc05-4ad8-bd13-e1529108ab42"
      },
      "execution_count": 2,
      "outputs": [
        {
          "output_type": "execute_result",
          "data": {
            "text/plain": [
              "        Date      Open      High       Low     Price  Adj Close     Volume\n",
              "0 2018-03-01  0.311973  0.311973  0.288392  0.304397   0.304397  184691008\n",
              "1 2018-03-02  0.304424  0.307058  0.288875  0.293504   0.293504  107240000\n",
              "2 2018-03-03  0.292952  0.309129  0.292507  0.297106   0.297106  115320000\n",
              "3 2018-03-04  0.296285  0.303588  0.286193  0.300787   0.300787   94436000\n",
              "4 2018-03-05  0.299897  0.317723  0.291055  0.297622   0.297622  202675008"
            ],
            "text/html": [
              "\n",
              "  <div id=\"df-25ea026e-c4a1-4a15-97ce-d28757824087\" class=\"colab-df-container\">\n",
              "    <div>\n",
              "<style scoped>\n",
              "    .dataframe tbody tr th:only-of-type {\n",
              "        vertical-align: middle;\n",
              "    }\n",
              "\n",
              "    .dataframe tbody tr th {\n",
              "        vertical-align: top;\n",
              "    }\n",
              "\n",
              "    .dataframe thead th {\n",
              "        text-align: right;\n",
              "    }\n",
              "</style>\n",
              "<table border=\"1\" class=\"dataframe\">\n",
              "  <thead>\n",
              "    <tr style=\"text-align: right;\">\n",
              "      <th></th>\n",
              "      <th>Date</th>\n",
              "      <th>Open</th>\n",
              "      <th>High</th>\n",
              "      <th>Low</th>\n",
              "      <th>Price</th>\n",
              "      <th>Adj Close</th>\n",
              "      <th>Volume</th>\n",
              "    </tr>\n",
              "  </thead>\n",
              "  <tbody>\n",
              "    <tr>\n",
              "      <th>0</th>\n",
              "      <td>2018-03-01</td>\n",
              "      <td>0.311973</td>\n",
              "      <td>0.311973</td>\n",
              "      <td>0.288392</td>\n",
              "      <td>0.304397</td>\n",
              "      <td>0.304397</td>\n",
              "      <td>184691008</td>\n",
              "    </tr>\n",
              "    <tr>\n",
              "      <th>1</th>\n",
              "      <td>2018-03-02</td>\n",
              "      <td>0.304424</td>\n",
              "      <td>0.307058</td>\n",
              "      <td>0.288875</td>\n",
              "      <td>0.293504</td>\n",
              "      <td>0.293504</td>\n",
              "      <td>107240000</td>\n",
              "    </tr>\n",
              "    <tr>\n",
              "      <th>2</th>\n",
              "      <td>2018-03-03</td>\n",
              "      <td>0.292952</td>\n",
              "      <td>0.309129</td>\n",
              "      <td>0.292507</td>\n",
              "      <td>0.297106</td>\n",
              "      <td>0.297106</td>\n",
              "      <td>115320000</td>\n",
              "    </tr>\n",
              "    <tr>\n",
              "      <th>3</th>\n",
              "      <td>2018-03-04</td>\n",
              "      <td>0.296285</td>\n",
              "      <td>0.303588</td>\n",
              "      <td>0.286193</td>\n",
              "      <td>0.300787</td>\n",
              "      <td>0.300787</td>\n",
              "      <td>94436000</td>\n",
              "    </tr>\n",
              "    <tr>\n",
              "      <th>4</th>\n",
              "      <td>2018-03-05</td>\n",
              "      <td>0.299897</td>\n",
              "      <td>0.317723</td>\n",
              "      <td>0.291055</td>\n",
              "      <td>0.297622</td>\n",
              "      <td>0.297622</td>\n",
              "      <td>202675008</td>\n",
              "    </tr>\n",
              "  </tbody>\n",
              "</table>\n",
              "</div>\n",
              "    <div class=\"colab-df-buttons\">\n",
              "\n",
              "  <div class=\"colab-df-container\">\n",
              "    <button class=\"colab-df-convert\" onclick=\"convertToInteractive('df-25ea026e-c4a1-4a15-97ce-d28757824087')\"\n",
              "            title=\"Convert this dataframe to an interactive table.\"\n",
              "            style=\"display:none;\">\n",
              "\n",
              "  <svg xmlns=\"http://www.w3.org/2000/svg\" height=\"24px\" viewBox=\"0 -960 960 960\">\n",
              "    <path d=\"M120-120v-720h720v720H120Zm60-500h600v-160H180v160Zm220 220h160v-160H400v160Zm0 220h160v-160H400v160ZM180-400h160v-160H180v160Zm440 0h160v-160H620v160ZM180-180h160v-160H180v160Zm440 0h160v-160H620v160Z\"/>\n",
              "  </svg>\n",
              "    </button>\n",
              "\n",
              "  <style>\n",
              "    .colab-df-container {\n",
              "      display:flex;\n",
              "      gap: 12px;\n",
              "    }\n",
              "\n",
              "    .colab-df-convert {\n",
              "      background-color: #E8F0FE;\n",
              "      border: none;\n",
              "      border-radius: 50%;\n",
              "      cursor: pointer;\n",
              "      display: none;\n",
              "      fill: #1967D2;\n",
              "      height: 32px;\n",
              "      padding: 0 0 0 0;\n",
              "      width: 32px;\n",
              "    }\n",
              "\n",
              "    .colab-df-convert:hover {\n",
              "      background-color: #E2EBFA;\n",
              "      box-shadow: 0px 1px 2px rgba(60, 64, 67, 0.3), 0px 1px 3px 1px rgba(60, 64, 67, 0.15);\n",
              "      fill: #174EA6;\n",
              "    }\n",
              "\n",
              "    .colab-df-buttons div {\n",
              "      margin-bottom: 4px;\n",
              "    }\n",
              "\n",
              "    [theme=dark] .colab-df-convert {\n",
              "      background-color: #3B4455;\n",
              "      fill: #D2E3FC;\n",
              "    }\n",
              "\n",
              "    [theme=dark] .colab-df-convert:hover {\n",
              "      background-color: #434B5C;\n",
              "      box-shadow: 0px 1px 3px 1px rgba(0, 0, 0, 0.15);\n",
              "      filter: drop-shadow(0px 1px 2px rgba(0, 0, 0, 0.3));\n",
              "      fill: #FFFFFF;\n",
              "    }\n",
              "  </style>\n",
              "\n",
              "    <script>\n",
              "      const buttonEl =\n",
              "        document.querySelector('#df-25ea026e-c4a1-4a15-97ce-d28757824087 button.colab-df-convert');\n",
              "      buttonEl.style.display =\n",
              "        google.colab.kernel.accessAllowed ? 'block' : 'none';\n",
              "\n",
              "      async function convertToInteractive(key) {\n",
              "        const element = document.querySelector('#df-25ea026e-c4a1-4a15-97ce-d28757824087');\n",
              "        const dataTable =\n",
              "          await google.colab.kernel.invokeFunction('convertToInteractive',\n",
              "                                                    [key], {});\n",
              "        if (!dataTable) return;\n",
              "\n",
              "        const docLinkHtml = 'Like what you see? Visit the ' +\n",
              "          '<a target=\"_blank\" href=https://colab.research.google.com/notebooks/data_table.ipynb>data table notebook</a>'\n",
              "          + ' to learn more about interactive tables.';\n",
              "        element.innerHTML = '';\n",
              "        dataTable['output_type'] = 'display_data';\n",
              "        await google.colab.output.renderOutput(dataTable, element);\n",
              "        const docLink = document.createElement('div');\n",
              "        docLink.innerHTML = docLinkHtml;\n",
              "        element.appendChild(docLink);\n",
              "      }\n",
              "    </script>\n",
              "  </div>\n",
              "\n",
              "\n",
              "<div id=\"df-1d0da750-a1e0-425f-9fb2-2d5670502e3c\">\n",
              "  <button class=\"colab-df-quickchart\" onclick=\"quickchart('df-1d0da750-a1e0-425f-9fb2-2d5670502e3c')\"\n",
              "            title=\"Suggest charts\"\n",
              "            style=\"display:none;\">\n",
              "\n",
              "<svg xmlns=\"http://www.w3.org/2000/svg\" height=\"24px\"viewBox=\"0 0 24 24\"\n",
              "     width=\"24px\">\n",
              "    <g>\n",
              "        <path d=\"M19 3H5c-1.1 0-2 .9-2 2v14c0 1.1.9 2 2 2h14c1.1 0 2-.9 2-2V5c0-1.1-.9-2-2-2zM9 17H7v-7h2v7zm4 0h-2V7h2v10zm4 0h-2v-4h2v4z\"/>\n",
              "    </g>\n",
              "</svg>\n",
              "  </button>\n",
              "\n",
              "<style>\n",
              "  .colab-df-quickchart {\n",
              "      --bg-color: #E8F0FE;\n",
              "      --fill-color: #1967D2;\n",
              "      --hover-bg-color: #E2EBFA;\n",
              "      --hover-fill-color: #174EA6;\n",
              "      --disabled-fill-color: #AAA;\n",
              "      --disabled-bg-color: #DDD;\n",
              "  }\n",
              "\n",
              "  [theme=dark] .colab-df-quickchart {\n",
              "      --bg-color: #3B4455;\n",
              "      --fill-color: #D2E3FC;\n",
              "      --hover-bg-color: #434B5C;\n",
              "      --hover-fill-color: #FFFFFF;\n",
              "      --disabled-bg-color: #3B4455;\n",
              "      --disabled-fill-color: #666;\n",
              "  }\n",
              "\n",
              "  .colab-df-quickchart {\n",
              "    background-color: var(--bg-color);\n",
              "    border: none;\n",
              "    border-radius: 50%;\n",
              "    cursor: pointer;\n",
              "    display: none;\n",
              "    fill: var(--fill-color);\n",
              "    height: 32px;\n",
              "    padding: 0;\n",
              "    width: 32px;\n",
              "  }\n",
              "\n",
              "  .colab-df-quickchart:hover {\n",
              "    background-color: var(--hover-bg-color);\n",
              "    box-shadow: 0 1px 2px rgba(60, 64, 67, 0.3), 0 1px 3px 1px rgba(60, 64, 67, 0.15);\n",
              "    fill: var(--button-hover-fill-color);\n",
              "  }\n",
              "\n",
              "  .colab-df-quickchart-complete:disabled,\n",
              "  .colab-df-quickchart-complete:disabled:hover {\n",
              "    background-color: var(--disabled-bg-color);\n",
              "    fill: var(--disabled-fill-color);\n",
              "    box-shadow: none;\n",
              "  }\n",
              "\n",
              "  .colab-df-spinner {\n",
              "    border: 2px solid var(--fill-color);\n",
              "    border-color: transparent;\n",
              "    border-bottom-color: var(--fill-color);\n",
              "    animation:\n",
              "      spin 1s steps(1) infinite;\n",
              "  }\n",
              "\n",
              "  @keyframes spin {\n",
              "    0% {\n",
              "      border-color: transparent;\n",
              "      border-bottom-color: var(--fill-color);\n",
              "      border-left-color: var(--fill-color);\n",
              "    }\n",
              "    20% {\n",
              "      border-color: transparent;\n",
              "      border-left-color: var(--fill-color);\n",
              "      border-top-color: var(--fill-color);\n",
              "    }\n",
              "    30% {\n",
              "      border-color: transparent;\n",
              "      border-left-color: var(--fill-color);\n",
              "      border-top-color: var(--fill-color);\n",
              "      border-right-color: var(--fill-color);\n",
              "    }\n",
              "    40% {\n",
              "      border-color: transparent;\n",
              "      border-right-color: var(--fill-color);\n",
              "      border-top-color: var(--fill-color);\n",
              "    }\n",
              "    60% {\n",
              "      border-color: transparent;\n",
              "      border-right-color: var(--fill-color);\n",
              "    }\n",
              "    80% {\n",
              "      border-color: transparent;\n",
              "      border-right-color: var(--fill-color);\n",
              "      border-bottom-color: var(--fill-color);\n",
              "    }\n",
              "    90% {\n",
              "      border-color: transparent;\n",
              "      border-bottom-color: var(--fill-color);\n",
              "    }\n",
              "  }\n",
              "</style>\n",
              "\n",
              "  <script>\n",
              "    async function quickchart(key) {\n",
              "      const quickchartButtonEl =\n",
              "        document.querySelector('#' + key + ' button');\n",
              "      quickchartButtonEl.disabled = true;  // To prevent multiple clicks.\n",
              "      quickchartButtonEl.classList.add('colab-df-spinner');\n",
              "      try {\n",
              "        const charts = await google.colab.kernel.invokeFunction(\n",
              "            'suggestCharts', [key], {});\n",
              "      } catch (error) {\n",
              "        console.error('Error during call to suggestCharts:', error);\n",
              "      }\n",
              "      quickchartButtonEl.classList.remove('colab-df-spinner');\n",
              "      quickchartButtonEl.classList.add('colab-df-quickchart-complete');\n",
              "    }\n",
              "    (() => {\n",
              "      let quickchartButtonEl =\n",
              "        document.querySelector('#df-1d0da750-a1e0-425f-9fb2-2d5670502e3c button');\n",
              "      quickchartButtonEl.style.display =\n",
              "        google.colab.kernel.accessAllowed ? 'block' : 'none';\n",
              "    })();\n",
              "  </script>\n",
              "</div>\n",
              "\n",
              "    </div>\n",
              "  </div>\n"
            ],
            "application/vnd.google.colaboratory.intrinsic+json": {
              "type": "dataframe",
              "variable_name": "df",
              "summary": "{\n  \"name\": \"df\",\n  \"rows\": 2285,\n  \"fields\": [\n    {\n      \"column\": \"Date\",\n      \"properties\": {\n        \"dtype\": \"date\",\n        \"min\": \"2018-03-01 00:00:00\",\n        \"max\": \"2024-06-01 00:00:00\",\n        \"num_unique_values\": 2285,\n        \"samples\": [\n          \"2023-11-24 00:00:00\",\n          \"2020-04-03 00:00:00\",\n          \"2018-10-27 00:00:00\"\n        ],\n        \"semantic_type\": \"\",\n        \"description\": \"\"\n      }\n    },\n    {\n      \"column\": \"Open\",\n      \"properties\": {\n        \"dtype\": \"number\",\n        \"std\": 0.5667167709657547,\n        \"min\": 0.023954,\n        \"max\": 2.96639,\n        \"num_unique_values\": 2280,\n        \"samples\": [\n          0.072561,\n          0.529449,\n          0.539386\n        ],\n        \"semantic_type\": \"\",\n        \"description\": \"\"\n      }\n    },\n    {\n      \"column\": \"High\",\n      \"properties\": {\n        \"dtype\": \"number\",\n        \"std\": 0.5908248813232642,\n        \"min\": 0.025993,\n        \"max\": 3.099186,\n        \"num_unique_values\": 2280,\n        \"samples\": [\n          0.072621,\n          0.547281,\n          0.597884\n        ],\n        \"semantic_type\": \"\",\n        \"description\": \"\"\n      }\n    },\n    {\n      \"column\": \"Low\",\n      \"properties\": {\n        \"dtype\": \"number\",\n        \"std\": 0.541111865919546,\n        \"min\": 0.01913,\n        \"max\": 2.907606,\n        \"num_unique_values\": 2277,\n        \"samples\": [\n          0.035574,\n          0.062168,\n          0.259865\n        ],\n        \"semantic_type\": \"\",\n        \"description\": \"\"\n      }\n    },\n    {\n      \"column\": \"Price\",\n      \"properties\": {\n        \"dtype\": \"number\",\n        \"std\": 0.566815140020692,\n        \"min\": 0.023961,\n        \"max\": 2.968239,\n        \"num_unique_values\": 2280,\n        \"samples\": [\n          0.071479,\n          0.529269,\n          0.556716\n        ],\n        \"semantic_type\": \"\",\n        \"description\": \"\"\n      }\n    },\n    {\n      \"column\": \"Adj Close\",\n      \"properties\": {\n        \"dtype\": \"number\",\n        \"std\": 0.566815140020692,\n        \"min\": 0.023961,\n        \"max\": 2.968239,\n        \"num_unique_values\": 2280,\n        \"samples\": [\n          0.071479,\n          0.529269,\n          0.556716\n        ],\n        \"semantic_type\": \"\",\n        \"description\": \"\"\n      }\n    },\n    {\n      \"column\": \"Volume\",\n      \"properties\": {\n        \"dtype\": \"number\",\n        \"std\": 1879645729,\n        \"min\": 8387951,\n        \"max\": 19141980288,\n        \"num_unique_values\": 2285,\n        \"samples\": [\n          350870124,\n          89797916,\n          10316000\n        ],\n        \"semantic_type\": \"\",\n        \"description\": \"\"\n      }\n    }\n  ]\n}"
            }
          },
          "metadata": {},
          "execution_count": 2
        }
      ]
    },
    {
      "cell_type": "code",
      "source": [
        "df.info()"
      ],
      "metadata": {
        "colab": {
          "base_uri": "https://localhost:8080/"
        },
        "id": "y45BW7BbcPl_",
        "outputId": "aef15946-b9aa-4cca-f6de-3878495ea831"
      },
      "execution_count": 3,
      "outputs": [
        {
          "output_type": "stream",
          "name": "stdout",
          "text": [
            "<class 'pandas.core.frame.DataFrame'>\n",
            "RangeIndex: 2285 entries, 0 to 2284\n",
            "Data columns (total 7 columns):\n",
            " #   Column     Non-Null Count  Dtype         \n",
            "---  ------     --------------  -----         \n",
            " 0   Date       2285 non-null   datetime64[ns]\n",
            " 1   Open       2285 non-null   float64       \n",
            " 2   High       2285 non-null   float64       \n",
            " 3   Low        2285 non-null   float64       \n",
            " 4   Price      2285 non-null   float64       \n",
            " 5   Adj Close  2285 non-null   float64       \n",
            " 6   Volume     2285 non-null   int64         \n",
            "dtypes: datetime64[ns](1), float64(5), int64(1)\n",
            "memory usage: 125.1 KB\n"
          ]
        }
      ]
    },
    {
      "cell_type": "code",
      "source": [
        "# Thiết lập index\n",
        "df1=df.reset_index()['Price']\n"
      ],
      "metadata": {
        "id": "UN5dzdoDNEet"
      },
      "execution_count": 4,
      "outputs": []
    },
    {
      "cell_type": "code",
      "source": [
        "# Scaler data\n",
        "scaler=MinMaxScaler(feature_range=(0,1))\n",
        "df1=scaler.fit_transform(np.array(df1).reshape(-1,1))"
      ],
      "metadata": {
        "id": "b1XLCdJHMRAd"
      },
      "execution_count": 5,
      "outputs": []
    },
    {
      "cell_type": "code",
      "source": [
        "# Chia train test\n",
        "train_size= int(0.7 * len(df1))\n",
        "test_size = len(df1) - train_size\n",
        "\n",
        "train_data = df1[:train_size]\n",
        "test_data = df1[train_size:]"
      ],
      "metadata": {
        "id": "G6LwdRGreOtq"
      },
      "execution_count": 6,
      "outputs": []
    },
    {
      "cell_type": "code",
      "source": [
        "# convert an array of values into a dataset matrix\n",
        "def create_dataset(dataset, time_step=1):\n",
        "\tdataX, dataY = [], []\n",
        "\tfor i in range(len(dataset) - time_step - 1):\n",
        "\t\ta = dataset[i:(i + time_step)]\n",
        "\t\tdataX.append(a)\n",
        "\t\tdataY.append(dataset[i + time_step])\n",
        "\treturn np.array(dataX), np.array(dataY)\n"
      ],
      "metadata": {
        "id": "5VummKZ8Nq9P"
      },
      "execution_count": 7,
      "outputs": []
    },
    {
      "cell_type": "code",
      "source": [
        "# Reshape into X=t,t+1,t+2..t+99 and Y=t+100 _8_2\n",
        "time_step = 100\n",
        "X_train, y_train = create_dataset(train_data, time_step)\n",
        "combined_data = np.concatenate((train_data[-time_step:], test_data))\n",
        "X_test, y_test = create_dataset(combined_data, time_step)\n",
        "\n",
        "# Reshape dữ liệu cho phù hợp với mạng GRU\n",
        "X_train = X_train.reshape(X_train.shape[0], X_train.shape[1], 1)\n",
        "X_test = X_test.reshape(X_test.shape[0], X_test.shape[1], 1)"
      ],
      "metadata": {
        "id": "9wgrf7p0kQe0"
      },
      "execution_count": 8,
      "outputs": []
    },
    {
      "cell_type": "code",
      "source": [
        "# Define GRU Model\n",
        "\n",
        "model = Sequential()\n",
        "model.add(GRU(64, input_shape=(time_step, 1)))\n",
        "model.add(Dense(1))\n",
        "model.compile(optimizer='adam', loss='mean_squared_error')"
      ],
      "metadata": {
        "id": "AghcD3L7Nww-"
      },
      "execution_count": 9,
      "outputs": []
    },
    {
      "cell_type": "code",
      "source": [
        "model.fit(X_train, y_train, epochs=100, batch_size=64, verbose=1)\n"
      ],
      "metadata": {
        "colab": {
          "base_uri": "https://localhost:8080/"
        },
        "id": "khNSzr8uIlQt",
        "outputId": "ae93e5a8-bfc7-4643-842e-71db132f5cab"
      },
      "execution_count": 10,
      "outputs": [
        {
          "output_type": "stream",
          "name": "stdout",
          "text": [
            "Epoch 1/100\n",
            "24/24 [==============================] - 5s 10ms/step - loss: 0.0177\n",
            "Epoch 2/100\n",
            "24/24 [==============================] - 0s 8ms/step - loss: 0.0011\n",
            "Epoch 3/100\n",
            "24/24 [==============================] - 0s 8ms/step - loss: 6.3960e-04\n",
            "Epoch 4/100\n",
            "24/24 [==============================] - 0s 9ms/step - loss: 5.3953e-04\n",
            "Epoch 5/100\n",
            "24/24 [==============================] - 0s 7ms/step - loss: 5.1930e-04\n",
            "Epoch 6/100\n",
            "24/24 [==============================] - 0s 8ms/step - loss: 4.8989e-04\n",
            "Epoch 7/100\n",
            "24/24 [==============================] - 0s 7ms/step - loss: 4.8426e-04\n",
            "Epoch 8/100\n",
            "24/24 [==============================] - 0s 8ms/step - loss: 4.7072e-04\n",
            "Epoch 9/100\n",
            "24/24 [==============================] - 0s 9ms/step - loss: 4.8031e-04\n",
            "Epoch 10/100\n",
            "24/24 [==============================] - 0s 7ms/step - loss: 4.4528e-04\n",
            "Epoch 11/100\n",
            "24/24 [==============================] - 0s 8ms/step - loss: 4.4057e-04\n",
            "Epoch 12/100\n",
            "24/24 [==============================] - 0s 8ms/step - loss: 4.3922e-04\n",
            "Epoch 13/100\n",
            "24/24 [==============================] - 0s 9ms/step - loss: 4.3341e-04\n",
            "Epoch 14/100\n",
            "24/24 [==============================] - 0s 9ms/step - loss: 4.4327e-04\n",
            "Epoch 15/100\n",
            "24/24 [==============================] - 0s 8ms/step - loss: 4.0830e-04\n",
            "Epoch 16/100\n",
            "24/24 [==============================] - 0s 8ms/step - loss: 4.0655e-04\n",
            "Epoch 17/100\n",
            "24/24 [==============================] - 0s 8ms/step - loss: 4.1500e-04\n",
            "Epoch 18/100\n",
            "24/24 [==============================] - 0s 9ms/step - loss: 3.9793e-04\n",
            "Epoch 19/100\n",
            "24/24 [==============================] - 0s 9ms/step - loss: 4.0992e-04\n",
            "Epoch 20/100\n",
            "24/24 [==============================] - 0s 8ms/step - loss: 3.9697e-04\n",
            "Epoch 21/100\n",
            "24/24 [==============================] - 0s 6ms/step - loss: 3.7593e-04\n",
            "Epoch 22/100\n",
            "24/24 [==============================] - 0s 6ms/step - loss: 3.7931e-04\n",
            "Epoch 23/100\n",
            "24/24 [==============================] - 0s 6ms/step - loss: 3.7736e-04\n",
            "Epoch 24/100\n",
            "24/24 [==============================] - 0s 6ms/step - loss: 3.7124e-04\n",
            "Epoch 25/100\n",
            "24/24 [==============================] - 0s 6ms/step - loss: 3.8456e-04\n",
            "Epoch 26/100\n",
            "24/24 [==============================] - 0s 6ms/step - loss: 3.7066e-04\n",
            "Epoch 27/100\n",
            "24/24 [==============================] - 0s 6ms/step - loss: 3.5847e-04\n",
            "Epoch 28/100\n",
            "24/24 [==============================] - 0s 6ms/step - loss: 3.5855e-04\n",
            "Epoch 29/100\n",
            "24/24 [==============================] - 0s 6ms/step - loss: 3.6814e-04\n",
            "Epoch 30/100\n",
            "24/24 [==============================] - 0s 7ms/step - loss: 3.5872e-04\n",
            "Epoch 31/100\n",
            "24/24 [==============================] - 0s 6ms/step - loss: 3.7251e-04\n",
            "Epoch 32/100\n",
            "24/24 [==============================] - 0s 6ms/step - loss: 3.8045e-04\n",
            "Epoch 33/100\n",
            "24/24 [==============================] - 0s 6ms/step - loss: 3.7769e-04\n",
            "Epoch 34/100\n",
            "24/24 [==============================] - 0s 6ms/step - loss: 3.6573e-04\n",
            "Epoch 35/100\n",
            "24/24 [==============================] - 0s 6ms/step - loss: 3.5612e-04\n",
            "Epoch 36/100\n",
            "24/24 [==============================] - 0s 6ms/step - loss: 3.5729e-04\n",
            "Epoch 37/100\n",
            "24/24 [==============================] - 0s 7ms/step - loss: 3.4797e-04\n",
            "Epoch 38/100\n",
            "24/24 [==============================] - 0s 6ms/step - loss: 3.5212e-04\n",
            "Epoch 39/100\n",
            "24/24 [==============================] - 0s 6ms/step - loss: 3.4220e-04\n",
            "Epoch 40/100\n",
            "24/24 [==============================] - 0s 6ms/step - loss: 3.4610e-04\n",
            "Epoch 41/100\n",
            "24/24 [==============================] - 0s 6ms/step - loss: 3.4514e-04\n",
            "Epoch 42/100\n",
            "24/24 [==============================] - 0s 6ms/step - loss: 3.4689e-04\n",
            "Epoch 43/100\n",
            "24/24 [==============================] - 0s 6ms/step - loss: 3.4979e-04\n",
            "Epoch 44/100\n",
            "24/24 [==============================] - 0s 7ms/step - loss: 3.5512e-04\n",
            "Epoch 45/100\n",
            "24/24 [==============================] - 0s 6ms/step - loss: 3.3945e-04\n",
            "Epoch 46/100\n",
            "24/24 [==============================] - 0s 6ms/step - loss: 3.3296e-04\n",
            "Epoch 47/100\n",
            "24/24 [==============================] - 0s 6ms/step - loss: 3.3639e-04\n",
            "Epoch 48/100\n",
            "24/24 [==============================] - 0s 6ms/step - loss: 3.4259e-04\n",
            "Epoch 49/100\n",
            "24/24 [==============================] - 0s 6ms/step - loss: 3.3327e-04\n",
            "Epoch 50/100\n",
            "24/24 [==============================] - 0s 7ms/step - loss: 3.3312e-04\n",
            "Epoch 51/100\n",
            "24/24 [==============================] - 0s 6ms/step - loss: 3.3256e-04\n",
            "Epoch 52/100\n",
            "24/24 [==============================] - 0s 6ms/step - loss: 3.3323e-04\n",
            "Epoch 53/100\n",
            "24/24 [==============================] - 0s 6ms/step - loss: 3.2839e-04\n",
            "Epoch 54/100\n",
            "24/24 [==============================] - 0s 6ms/step - loss: 3.3018e-04\n",
            "Epoch 55/100\n",
            "24/24 [==============================] - 0s 6ms/step - loss: 3.2246e-04\n",
            "Epoch 56/100\n",
            "24/24 [==============================] - 0s 6ms/step - loss: 3.2496e-04\n",
            "Epoch 57/100\n",
            "24/24 [==============================] - 0s 7ms/step - loss: 3.4504e-04\n",
            "Epoch 58/100\n",
            "24/24 [==============================] - 0s 6ms/step - loss: 3.2434e-04\n",
            "Epoch 59/100\n",
            "24/24 [==============================] - 0s 6ms/step - loss: 3.3044e-04\n",
            "Epoch 60/100\n",
            "24/24 [==============================] - 0s 6ms/step - loss: 3.3258e-04\n",
            "Epoch 61/100\n",
            "24/24 [==============================] - 0s 6ms/step - loss: 3.2308e-04\n",
            "Epoch 62/100\n",
            "24/24 [==============================] - 0s 6ms/step - loss: 3.2581e-04\n",
            "Epoch 63/100\n",
            "24/24 [==============================] - 0s 6ms/step - loss: 3.1612e-04\n",
            "Epoch 64/100\n",
            "24/24 [==============================] - 0s 7ms/step - loss: 3.1897e-04\n",
            "Epoch 65/100\n",
            "24/24 [==============================] - 0s 6ms/step - loss: 3.3104e-04\n",
            "Epoch 66/100\n",
            "24/24 [==============================] - 0s 6ms/step - loss: 3.1897e-04\n",
            "Epoch 67/100\n",
            "24/24 [==============================] - 0s 6ms/step - loss: 3.2515e-04\n",
            "Epoch 68/100\n",
            "24/24 [==============================] - 0s 6ms/step - loss: 3.4838e-04\n",
            "Epoch 69/100\n",
            "24/24 [==============================] - 0s 6ms/step - loss: 3.2648e-04\n",
            "Epoch 70/100\n",
            "24/24 [==============================] - 0s 7ms/step - loss: 3.2586e-04\n",
            "Epoch 71/100\n",
            "24/24 [==============================] - 0s 6ms/step - loss: 3.1544e-04\n",
            "Epoch 72/100\n",
            "24/24 [==============================] - 0s 6ms/step - loss: 3.1825e-04\n",
            "Epoch 73/100\n",
            "24/24 [==============================] - 0s 6ms/step - loss: 3.2322e-04\n",
            "Epoch 74/100\n",
            "24/24 [==============================] - 0s 6ms/step - loss: 3.2465e-04\n",
            "Epoch 75/100\n",
            "24/24 [==============================] - 0s 6ms/step - loss: 3.3047e-04\n",
            "Epoch 76/100\n",
            "24/24 [==============================] - 0s 6ms/step - loss: 3.2138e-04\n",
            "Epoch 77/100\n",
            "24/24 [==============================] - 0s 7ms/step - loss: 3.2227e-04\n",
            "Epoch 78/100\n",
            "24/24 [==============================] - 0s 6ms/step - loss: 3.1728e-04\n",
            "Epoch 79/100\n",
            "24/24 [==============================] - 0s 6ms/step - loss: 3.1781e-04\n",
            "Epoch 80/100\n",
            "24/24 [==============================] - 0s 6ms/step - loss: 3.2579e-04\n",
            "Epoch 81/100\n",
            "24/24 [==============================] - 0s 6ms/step - loss: 3.0924e-04\n",
            "Epoch 82/100\n",
            "24/24 [==============================] - 0s 6ms/step - loss: 3.1741e-04\n",
            "Epoch 83/100\n",
            "24/24 [==============================] - 0s 6ms/step - loss: 3.2078e-04\n",
            "Epoch 84/100\n",
            "24/24 [==============================] - 0s 7ms/step - loss: 3.2567e-04\n",
            "Epoch 85/100\n",
            "24/24 [==============================] - 0s 6ms/step - loss: 3.2000e-04\n",
            "Epoch 86/100\n",
            "24/24 [==============================] - 0s 6ms/step - loss: 3.0876e-04\n",
            "Epoch 87/100\n",
            "24/24 [==============================] - 0s 7ms/step - loss: 3.4318e-04\n",
            "Epoch 88/100\n",
            "24/24 [==============================] - 0s 8ms/step - loss: 3.2006e-04\n",
            "Epoch 89/100\n",
            "24/24 [==============================] - 0s 8ms/step - loss: 3.2869e-04\n",
            "Epoch 90/100\n",
            "24/24 [==============================] - 0s 8ms/step - loss: 3.1734e-04\n",
            "Epoch 91/100\n",
            "24/24 [==============================] - 0s 8ms/step - loss: 3.2240e-04\n",
            "Epoch 92/100\n",
            "24/24 [==============================] - 0s 8ms/step - loss: 3.2596e-04\n",
            "Epoch 93/100\n",
            "24/24 [==============================] - 0s 8ms/step - loss: 3.1510e-04\n",
            "Epoch 94/100\n",
            "24/24 [==============================] - 0s 8ms/step - loss: 3.2908e-04\n",
            "Epoch 95/100\n",
            "24/24 [==============================] - 0s 8ms/step - loss: 3.1893e-04\n",
            "Epoch 96/100\n",
            "24/24 [==============================] - 0s 8ms/step - loss: 3.1455e-04\n",
            "Epoch 97/100\n",
            "24/24 [==============================] - 0s 8ms/step - loss: 3.1798e-04\n",
            "Epoch 98/100\n",
            "24/24 [==============================] - 0s 8ms/step - loss: 3.1555e-04\n",
            "Epoch 99/100\n",
            "24/24 [==============================] - 0s 8ms/step - loss: 3.1693e-04\n",
            "Epoch 100/100\n",
            "24/24 [==============================] - 0s 9ms/step - loss: 3.4435e-04\n"
          ]
        },
        {
          "output_type": "execute_result",
          "data": {
            "text/plain": [
              "<keras.src.callbacks.History at 0x78ed354a6c50>"
            ]
          },
          "metadata": {},
          "execution_count": 10
        }
      ]
    },
    {
      "cell_type": "code",
      "source": [
        "# Dự báo dữ liệu test và train\n",
        "train_predict = model.predict(X_train)\n",
        "y_pred = model.predict(X_test)"
      ],
      "metadata": {
        "colab": {
          "base_uri": "https://localhost:8080/"
        },
        "id": "Z7H6b5bilgXv",
        "outputId": "0e6501a7-f021-4e3f-b692-f2033bb40092"
      },
      "execution_count": 13,
      "outputs": [
        {
          "output_type": "stream",
          "name": "stdout",
          "text": [
            "47/47 [==============================] - 0s 4ms/step\n",
            "22/22 [==============================] - 0s 4ms/step\n"
          ]
        }
      ]
    },
    {
      "cell_type": "code",
      "source": [
        "# Chuẩn hóa dữ liệu y_pred\n",
        "train_predict = scaler.inverse_transform(train_predict)\n",
        "y_pred = scaler.inverse_transform(y_pred)"
      ],
      "metadata": {
        "id": "AGrwjDEOl9Mj"
      },
      "execution_count": 14,
      "outputs": []
    },
    {
      "cell_type": "code",
      "source": [
        "# Dự báo 90 ngày tiếp theo\n",
        "x_input = test_data[-100:].reshape(1, -1)\n",
        "temp_input = list(x_input[0])\n",
        "lst_output = []\n",
        "\n",
        "i = 0\n",
        "while(i < 90):\n",
        "    if len(temp_input) > 100:\n",
        "        x_input = np.array(temp_input[1:])  # Lấy từng ngày từ ngày thứ 2 trở đi\n",
        "        x_input = x_input.reshape(1, time_step, 1)  # Reshape lại để phù hợp với input của mạng\n",
        "        yhat = model.predict(x_input, verbose=0)  # Dự đoán giá cho ngày tiếp theo\n",
        "        temp_input.extend(yhat[0].tolist())  # Thêm dự đoán vào danh sách temp_input\n",
        "        temp_input = temp_input[1:]  # Loại bỏ ngày đầu tiên\n",
        "        lst_output.extend(yhat.tolist())  # Lưu dự đoán vào mảng lst_output\n",
        "        i += 1\n",
        "    else:\n",
        "        x_input = x_input.reshape(1, time_step, 1)  # Reshape lại để phù hợp với input của mạng\n",
        "        yhat = model.predict(x_input, verbose=0)  # Dự đoán giá cho ngày tiếp theo\n",
        "        temp_input.extend(yhat[0].tolist())  # Thêm dự đoán vào danh sách temp_input\n",
        "        lst_output.extend(yhat.tolist())  # Lưu dự đoán vào mảng lst_output\n",
        "        i += 1\n",
        "\n",
        "# In ra dự đoán cho 90 ngày tiếp theo\n",
        "print(\"Dự đoán giá cho 90 ngày tiếp theo:\")\n",
        "print(lst_output)"
      ],
      "metadata": {
        "colab": {
          "base_uri": "https://localhost:8080/"
        },
        "id": "4DfyL9LMW9fX",
        "outputId": "522b43b1-6fcc-4820-97ee-4d896c9a1d9d"
      },
      "execution_count": 15,
      "outputs": [
        {
          "output_type": "stream",
          "name": "stdout",
          "text": [
            "Dự đoán giá cho 90 ngày tiếp theo:\n",
            "[[0.14193406701087952], [0.13997215032577515], [0.13795103132724762], [0.13594099879264832], [0.13392674922943115], [0.13190260529518127], [0.1298678070306778], [0.12782305479049683], [0.12576934695243835], [0.12370768189430237], [0.1216389536857605], [0.11956389993429184], [0.11748310923576355], [0.11539704352617264], [0.11330604553222656], [0.11121038347482681], [0.10911024361848831], [0.1070057600736618], [0.10489699989557266], [0.10278400778770447], [0.10066680610179901], [0.0985453724861145], [0.09641967713832855], [0.09428966045379639], [0.09215527772903442], [0.0900164395570755], [0.08787307143211365], [0.0857250839471817], [0.0835723802447319], [0.08141486346721649], [0.0792524516582489], [0.07708501815795898], [0.07491245865821838], [0.07273467630147934], [0.0705515593290329], [0.0683630034327507], [0.0661688894033432], [0.06396910548210144], [0.061763547360897064], [0.05955210328102112], [0.05733465403318405], [0.05511108785867691], [0.05288130044937134], [0.05064517259597778], [0.04840259999036789], [0.046153463423252106], [0.04389764368534088], [0.04163503646850586], [0.039365530014038086], [0.03708900511264801], [0.03480535000562668], [0.03251445293426514], [0.030216200277209282], [0.02791047841310501], [0.02559717744588852], [0.023276180028915405], [0.020947376266121864], [0.018610650673508644], [0.01626589149236679], [0.013912985101342201], [0.011551819741725922], [0.009182280860841274], [0.006804256234318018], [0.004417632706463337], [0.0020222978200763464], [-0.00038186204619705677], [-0.0027949591167271137], [-0.005217106081545353], [-0.007648416794836521], [-0.010089004412293434], [-0.012538976036012173], [-0.014998452737927437], [-0.01746753789484501], [-0.019946349784731865], [-0.02243500016629696], [-0.024933600798249245], [-0.027442261576652527], [-0.02996109612286091], [-0.032490216195583344], [-0.035029731690883636], [-0.03757975250482559], [-0.04014038294553757], [-0.04271174967288971], [-0.04529394954442978], [-0.04788710176944733], [-0.05049131065607071], [-0.053106680512428284], [-0.0557333305478096], [-0.05837136507034302], [-0.06102089583873749]]\n"
          ]
        }
      ]
    },
    {
      "cell_type": "code",
      "source": [
        "predict_future_30 = lst_output[:30]\n",
        "predict_future_60 = lst_output[30:60]\n",
        "predict_future_90 = lst_output[60:]\n"
      ],
      "metadata": {
        "id": "vPOQbRv4A-Zx"
      },
      "execution_count": 16,
      "outputs": []
    },
    {
      "cell_type": "code",
      "source": [
        "#Vẽ hình\n",
        "train_data_index = pd.RangeIndex(start=0, stop=len(train_data), step=1)\n",
        "plt.plot(train_data_index, scaler.inverse_transform(train_data), label='Train')\n",
        "\n",
        "test_data_index = pd.RangeIndex(start=train_size, stop=train_size+len(test_data), step=1)\n",
        "plt.plot(test_data_index, scaler.inverse_transform(test_data), label='Test')\n",
        "\n",
        "predicted_test_index = pd.RangeIndex(start=train_size, stop=train_size+len(y_pred), step=1)\n",
        "plt.plot(predicted_test_index, y_pred)\n",
        "\n",
        "predict_future_30_index = pd.RangeIndex(start=test_data_index[-1]+1, stop=test_data_index[-1]+31, step=1)\n",
        "plt.plot(predict_future_30_index, scaler.inverse_transform(predict_future_30))\n",
        "\n",
        "predict_future_60_index = pd.RangeIndex(start=test_data_index[-1]+31, stop=test_data_index[-1]+61, step=1)\n",
        "plt.plot(predict_future_60_index, scaler.inverse_transform(predict_future_60))\n",
        "\n",
        "predict_future_90_index = pd.RangeIndex(start=test_data_index[-1]+61, stop=test_data_index[-1]+91, step=1)\n",
        "plt.plot(predict_future_90_index, scaler.inverse_transform(predict_future_90))\n",
        "\n",
        "plt.title('GRU - ADA Stock Price - 7:3')\n",
        "plt.xlabel('Date')\n",
        "plt.ylabel('Price')\n",
        "plt.legend(['Train','Test','Predict Test','Predict 30days','Predict 60days','Predict 90days'])\n",
        "plt.show()"
      ],
      "metadata": {
        "colab": {
          "base_uri": "https://localhost:8080/",
          "height": 472
        },
        "id": "9dEqqWytXSRo",
        "outputId": "6f03a8da-e91e-430c-9cc6-339de752381a"
      },
      "execution_count": 18,
      "outputs": [
        {
          "output_type": "display_data",
          "data": {
            "text/plain": [
              "<Figure size 640x480 with 1 Axes>"
            ],
            "image/png": "[encoded data removed]"
          },
          "metadata": {}
        }
      ]
    },
    {
      "cell_type": "code",
      "source": [
        "from sklearn.metrics import mean_absolute_error, mean_squared_error, mean_absolute_percentage_error\n",
        "\n",
        "mae = mean_absolute_error(y_test, y_pred)\n",
        "mape = mean_absolute_percentage_error(y_test, y_pred)\n",
        "rmse = np.sqrt(mean_squared_error(y_test, y_pred))\n",
        "\n",
        "print(\"Mean Absolute Error (MAE):\", mae)\n",
        "print(\"Mean Absolute Percentage Error (MAPE):\", mape * 100)\n",
        "print(\"Root Mean Square Error (RMSE):\", rmse)"
      ],
      "metadata": {
        "colab": {
          "base_uri": "https://localhost:8080/"
        },
        "id": "APE0pAmrJKcg",
        "outputId": "15c54551-fd9a-48a3-da6d-34f4671ac083"
      },
      "execution_count": 19,
      "outputs": [
        {
          "output_type": "stream",
          "name": "stdout",
          "text": [
            "Mean Absolute Error (MAE): 0.26928916711273027\n",
            "Mean Absolute Percentage Error (MAPE): 208.38285055774034\n",
            "Root Mean Square Error (RMSE): 0.28077937281184817\n"
          ]
        }
      ]
    },
    {
      "cell_type": "markdown",
      "source": [],
      "metadata": {
        "id": "3yRLTREua_1d"
      }
    },
    {
      "cell_type": "code",
      "source": [
        "# # 12. Đánh giá độ chính xác thuật toán bằng RMSE\n",
        "# test_rmse = np.sqrt(np.mean((y_pred - y_test)**2))\n",
        "# print('Testing RMSE:', test_rmse)\n",
        "# # Đánh giá độ chính xác thuật toán bằng MAE\n",
        "# test_mae = np.mean(abs(y_pred - y_test))\n",
        "# print('Testing MAE:', test_mae)\n",
        "# # Đánh giá độ chính xác thuật toán bằng MAPE\n",
        "# test_mape = np.mean(np.abs(y_pred - y_test)/np.abs(y_pred))\n",
        "# print('Testing MAPE:', test_mape)"
      ],
      "metadata": {
        "colab": {
          "base_uri": "https://localhost:8080/"
        },
        "id": "c8Ef1hD1a5y2",
        "outputId": "1369c53e-0896-439a-de2f-9eab1d52c276"
      },
      "execution_count": null,
      "outputs": [
        {
          "output_type": "stream",
          "name": "stdout",
          "text": [
            "Testing RMSE: 0.30995897321254945\n",
            "Testing MAE: 0.29635483355720177\n",
            "Testing MAPE: 0.6935905549176788\n"
          ]
        }
      ]
    },
    {
      "cell_type": "code",
      "source": [],
      "metadata": {
        "id": "fxjVSJqCa8n1"
      },
      "execution_count": null,
      "outputs": []
    }
  ]
}