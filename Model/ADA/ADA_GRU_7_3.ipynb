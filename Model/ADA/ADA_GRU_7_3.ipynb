{
  "nbformat": 4,
  "nbformat_minor": 0,
  "metadata": {
    "colab": {
      "provenance": []
    },
    "kernelspec": {
      "name": "python3",
      "display_name": "Python 3"
    },
    "language_info": {
      "name": "python"
    }
  },
  "cells": [
    {
      "cell_type": "code",
      "execution_count": 1,
      "metadata": {
        "id": "2s2M7RWnLyVs",
        "colab": {
          "base_uri": "https://localhost:8080/"
        },
        "outputId": "ca2c2395-041e-4671-aa8d-3534ab7b8f37"
      },
      "outputs": [
        {
          "output_type": "stream",
          "name": "stdout",
          "text": [
            "Mounted at /content/drive\n"
          ]
        }
      ],
      "source": [
        "from google.colab import drive\n",
        "drive.mount('/content/drive')\n",
        "import numpy as np\n",
        "import pandas as pd\n",
        "import matplotlib.pyplot as plt\n",
        "from sklearn.preprocessing import MinMaxScaler\n",
        "from keras.models import Sequential\n",
        "from keras.layers import Dense, GRU"
      ]
    },
    {
      "cell_type": "code",
      "source": [
        "# Đọc file csv\n",
        "df = pd.read_csv('/content/drive/MyDrive/Colab Notebooks/Data/pre_ADA-USD.csv')\n",
        "df = df.rename(columns={'Close': 'Price'})\n",
        "df['Date'] = pd.to_datetime(df['Date'])\n",
        "df.head(5)"
      ],
      "metadata": {
        "id": "N4mD72x5nuXt",
        "colab": {
          "base_uri": "https://localhost:8080/",
          "height": 206
        },
        "outputId": "a0d646ce-e7ea-4ca7-f490-d9bf98b688bc"
      },
      "execution_count": 2,
      "outputs": [
        {
          "output_type": "execute_result",
          "data": {
            "text/plain": [
              "        Date      Open      High       Low     Price  Adj Close     Volume\n",
              "0 2018-03-01  0.311973  0.311973  0.288392  0.304397   0.304397  184691008\n",
              "1 2018-03-02  0.304424  0.307058  0.288875  0.293504   0.293504  107240000\n",
              "2 2018-03-03  0.292952  0.309129  0.292507  0.297106   0.297106  115320000\n",
              "3 2018-03-04  0.296285  0.303588  0.286193  0.300787   0.300787   94436000\n",
              "4 2018-03-05  0.299897  0.317723  0.291055  0.297622   0.297622  202675008"
            ],
            "text/html": [
              "\n",
              "  <div id=\"df-f3994f45-1402-41c1-89da-baa0dac1290d\" class=\"colab-df-container\">\n",
              "    <div>\n",
              "<style scoped>\n",
              "    .dataframe tbody tr th:only-of-type {\n",
              "        vertical-align: middle;\n",
              "    }\n",
              "\n",
              "    .dataframe tbody tr th {\n",
              "        vertical-align: top;\n",
              "    }\n",
              "\n",
              "    .dataframe thead th {\n",
              "        text-align: right;\n",
              "    }\n",
              "</style>\n",
              "<table border=\"1\" class=\"dataframe\">\n",
              "  <thead>\n",
              "    <tr style=\"text-align: right;\">\n",
              "      <th></th>\n",
              "      <th>Date</th>\n",
              "      <th>Open</th>\n",
              "      <th>High</th>\n",
              "      <th>Low</th>\n",
              "      <th>Price</th>\n",
              "      <th>Adj Close</th>\n",
              "      <th>Volume</th>\n",
              "    </tr>\n",
              "  </thead>\n",
              "  <tbody>\n",
              "    <tr>\n",
              "      <th>0</th>\n",
              "      <td>2018-03-01</td>\n",
              "      <td>0.311973</td>\n",
              "      <td>0.311973</td>\n",
              "      <td>0.288392</td>\n",
              "      <td>0.304397</td>\n",
              "      <td>0.304397</td>\n",
              "      <td>184691008</td>\n",
              "    </tr>\n",
              "    <tr>\n",
              "      <th>1</th>\n",
              "      <td>2018-03-02</td>\n",
              "      <td>0.304424</td>\n",
              "      <td>0.307058</td>\n",
              "      <td>0.288875</td>\n",
              "      <td>0.293504</td>\n",
              "      <td>0.293504</td>\n",
              "      <td>107240000</td>\n",
              "    </tr>\n",
              "    <tr>\n",
              "      <th>2</th>\n",
              "      <td>2018-03-03</td>\n",
              "      <td>0.292952</td>\n",
              "      <td>0.309129</td>\n",
              "      <td>0.292507</td>\n",
              "      <td>0.297106</td>\n",
              "      <td>0.297106</td>\n",
              "      <td>115320000</td>\n",
              "    </tr>\n",
              "    <tr>\n",
              "      <th>3</th>\n",
              "      <td>2018-03-04</td>\n",
              "      <td>0.296285</td>\n",
              "      <td>0.303588</td>\n",
              "      <td>0.286193</td>\n",
              "      <td>0.300787</td>\n",
              "      <td>0.300787</td>\n",
              "      <td>94436000</td>\n",
              "    </tr>\n",
              "    <tr>\n",
              "      <th>4</th>\n",
              "      <td>2018-03-05</td>\n",
              "      <td>0.299897</td>\n",
              "      <td>0.317723</td>\n",
              "      <td>0.291055</td>\n",
              "      <td>0.297622</td>\n",
              "      <td>0.297622</td>\n",
              "      <td>202675008</td>\n",
              "    </tr>\n",
              "  </tbody>\n",
              "</table>\n",
              "</div>\n",
              "    <div class=\"colab-df-buttons\">\n",
              "\n",
              "  <div class=\"colab-df-container\">\n",
              "    <button class=\"colab-df-convert\" onclick=\"convertToInteractive('df-f3994f45-1402-41c1-89da-baa0dac1290d')\"\n",
              "            title=\"Convert this dataframe to an interactive table.\"\n",
              "            style=\"display:none;\">\n",
              "\n",
              "  <svg xmlns=\"http://www.w3.org/2000/svg\" height=\"24px\" viewBox=\"0 -960 960 960\">\n",
              "    <path d=\"M120-120v-720h720v720H120Zm60-500h600v-160H180v160Zm220 220h160v-160H400v160Zm0 220h160v-160H400v160ZM180-400h160v-160H180v160Zm440 0h160v-160H620v160ZM180-180h160v-160H180v160Zm440 0h160v-160H620v160Z\"/>\n",
              "  </svg>\n",
              "    </button>\n",
              "\n",
              "  <style>\n",
              "    .colab-df-container {\n",
              "      display:flex;\n",
              "      gap: 12px;\n",
              "    }\n",
              "\n",
              "    .colab-df-convert {\n",
              "      background-color: #E8F0FE;\n",
              "      border: none;\n",
              "      border-radius: 50%;\n",
              "      cursor: pointer;\n",
              "      display: none;\n",
              "      fill: #1967D2;\n",
              "      height: 32px;\n",
              "      padding: 0 0 0 0;\n",
              "      width: 32px;\n",
              "    }\n",
              "\n",
              "    .colab-df-convert:hover {\n",
              "      background-color: #E2EBFA;\n",
              "      box-shadow: 0px 1px 2px rgba(60, 64, 67, 0.3), 0px 1px 3px 1px rgba(60, 64, 67, 0.15);\n",
              "      fill: #174EA6;\n",
              "    }\n",
              "\n",
              "    .colab-df-buttons div {\n",
              "      margin-bottom: 4px;\n",
              "    }\n",
              "\n",
              "    [theme=dark] .colab-df-convert {\n",
              "      background-color: #3B4455;\n",
              "      fill: #D2E3FC;\n",
              "    }\n",
              "\n",
              "    [theme=dark] .colab-df-convert:hover {\n",
              "      background-color: #434B5C;\n",
              "      box-shadow: 0px 1px 3px 1px rgba(0, 0, 0, 0.15);\n",
              "      filter: drop-shadow(0px 1px 2px rgba(0, 0, 0, 0.3));\n",
              "      fill: #FFFFFF;\n",
              "    }\n",
              "  </style>\n",
              "\n",
              "    <script>\n",
              "      const buttonEl =\n",
              "        document.querySelector('#df-f3994f45-1402-41c1-89da-baa0dac1290d button.colab-df-convert');\n",
              "      buttonEl.style.display =\n",
              "        google.colab.kernel.accessAllowed ? 'block' : 'none';\n",
              "\n",
              "      async function convertToInteractive(key) {\n",
              "        const element = document.querySelector('#df-f3994f45-1402-41c1-89da-baa0dac1290d');\n",
              "        const dataTable =\n",
              "          await google.colab.kernel.invokeFunction('convertToInteractive',\n",
              "                                                    [key], {});\n",
              "        if (!dataTable) return;\n",
              "\n",
              "        const docLinkHtml = 'Like what you see? Visit the ' +\n",
              "          '<a target=\"_blank\" href=https://colab.research.google.com/notebooks/data_table.ipynb>data table notebook</a>'\n",
              "          + ' to learn more about interactive tables.';\n",
              "        element.innerHTML = '';\n",
              "        dataTable['output_type'] = 'display_data';\n",
              "        await google.colab.output.renderOutput(dataTable, element);\n",
              "        const docLink = document.createElement('div');\n",
              "        docLink.innerHTML = docLinkHtml;\n",
              "        element.appendChild(docLink);\n",
              "      }\n",
              "    </script>\n",
              "  </div>\n",
              "\n",
              "\n",
              "<div id=\"df-08e06518-0baf-4eaf-aa5a-d676271aca2f\">\n",
              "  <button class=\"colab-df-quickchart\" onclick=\"quickchart('df-08e06518-0baf-4eaf-aa5a-d676271aca2f')\"\n",
              "            title=\"Suggest charts\"\n",
              "            style=\"display:none;\">\n",
              "\n",
              "<svg xmlns=\"http://www.w3.org/2000/svg\" height=\"24px\"viewBox=\"0 0 24 24\"\n",
              "     width=\"24px\">\n",
              "    <g>\n",
              "        <path d=\"M19 3H5c-1.1 0-2 .9-2 2v14c0 1.1.9 2 2 2h14c1.1 0 2-.9 2-2V5c0-1.1-.9-2-2-2zM9 17H7v-7h2v7zm4 0h-2V7h2v10zm4 0h-2v-4h2v4z\"/>\n",
              "    </g>\n",
              "</svg>\n",
              "  </button>\n",
              "\n",
              "<style>\n",
              "  .colab-df-quickchart {\n",
              "      --bg-color: #E8F0FE;\n",
              "      --fill-color: #1967D2;\n",
              "      --hover-bg-color: #E2EBFA;\n",
              "      --hover-fill-color: #174EA6;\n",
              "      --disabled-fill-color: #AAA;\n",
              "      --disabled-bg-color: #DDD;\n",
              "  }\n",
              "\n",
              "  [theme=dark] .colab-df-quickchart {\n",
              "      --bg-color: #3B4455;\n",
              "      --fill-color: #D2E3FC;\n",
              "      --hover-bg-color: #434B5C;\n",
              "      --hover-fill-color: #FFFFFF;\n",
              "      --disabled-bg-color: #3B4455;\n",
              "      --disabled-fill-color: #666;\n",
              "  }\n",
              "\n",
              "  .colab-df-quickchart {\n",
              "    background-color: var(--bg-color);\n",
              "    border: none;\n",
              "    border-radius: 50%;\n",
              "    cursor: pointer;\n",
              "    display: none;\n",
              "    fill: var(--fill-color);\n",
              "    height: 32px;\n",
              "    padding: 0;\n",
              "    width: 32px;\n",
              "  }\n",
              "\n",
              "  .colab-df-quickchart:hover {\n",
              "    background-color: var(--hover-bg-color);\n",
              "    box-shadow: 0 1px 2px rgba(60, 64, 67, 0.3), 0 1px 3px 1px rgba(60, 64, 67, 0.15);\n",
              "    fill: var(--button-hover-fill-color);\n",
              "  }\n",
              "\n",
              "  .colab-df-quickchart-complete:disabled,\n",
              "  .colab-df-quickchart-complete:disabled:hover {\n",
              "    background-color: var(--disabled-bg-color);\n",
              "    fill: var(--disabled-fill-color);\n",
              "    box-shadow: none;\n",
              "  }\n",
              "\n",
              "  .colab-df-spinner {\n",
              "    border: 2px solid var(--fill-color);\n",
              "    border-color: transparent;\n",
              "    border-bottom-color: var(--fill-color);\n",
              "    animation:\n",
              "      spin 1s steps(1) infinite;\n",
              "  }\n",
              "\n",
              "  @keyframes spin {\n",
              "    0% {\n",
              "      border-color: transparent;\n",
              "      border-bottom-color: var(--fill-color);\n",
              "      border-left-color: var(--fill-color);\n",
              "    }\n",
              "    20% {\n",
              "      border-color: transparent;\n",
              "      border-left-color: var(--fill-color);\n",
              "      border-top-color: var(--fill-color);\n",
              "    }\n",
              "    30% {\n",
              "      border-color: transparent;\n",
              "      border-left-color: var(--fill-color);\n",
              "      border-top-color: var(--fill-color);\n",
              "      border-right-color: var(--fill-color);\n",
              "    }\n",
              "    40% {\n",
              "      border-color: transparent;\n",
              "      border-right-color: var(--fill-color);\n",
              "      border-top-color: var(--fill-color);\n",
              "    }\n",
              "    60% {\n",
              "      border-color: transparent;\n",
              "      border-right-color: var(--fill-color);\n",
              "    }\n",
              "    80% {\n",
              "      border-color: transparent;\n",
              "      border-right-color: var(--fill-color);\n",
              "      border-bottom-color: var(--fill-color);\n",
              "    }\n",
              "    90% {\n",
              "      border-color: transparent;\n",
              "      border-bottom-color: var(--fill-color);\n",
              "    }\n",
              "  }\n",
              "</style>\n",
              "\n",
              "  <script>\n",
              "    async function quickchart(key) {\n",
              "      const quickchartButtonEl =\n",
              "        document.querySelector('#' + key + ' button');\n",
              "      quickchartButtonEl.disabled = true;  // To prevent multiple clicks.\n",
              "      quickchartButtonEl.classList.add('colab-df-spinner');\n",
              "      try {\n",
              "        const charts = await google.colab.kernel.invokeFunction(\n",
              "            'suggestCharts', [key], {});\n",
              "      } catch (error) {\n",
              "        console.error('Error during call to suggestCharts:', error);\n",
              "      }\n",
              "      quickchartButtonEl.classList.remove('colab-df-spinner');\n",
              "      quickchartButtonEl.classList.add('colab-df-quickchart-complete');\n",
              "    }\n",
              "    (() => {\n",
              "      let quickchartButtonEl =\n",
              "        document.querySelector('#df-08e06518-0baf-4eaf-aa5a-d676271aca2f button');\n",
              "      quickchartButtonEl.style.display =\n",
              "        google.colab.kernel.accessAllowed ? 'block' : 'none';\n",
              "    })();\n",
              "  </script>\n",
              "</div>\n",
              "\n",
              "    </div>\n",
              "  </div>\n"
            ],
            "application/vnd.google.colaboratory.intrinsic+json": {
              "type": "dataframe",
              "variable_name": "df",
              "summary": "{\n  \"name\": \"df\",\n  \"rows\": 2285,\n  \"fields\": [\n    {\n      \"column\": \"Date\",\n      \"properties\": {\n        \"dtype\": \"date\",\n        \"min\": \"2018-03-01 00:00:00\",\n        \"max\": \"2024-06-01 00:00:00\",\n        \"num_unique_values\": 2285,\n        \"samples\": [\n          \"2023-11-24 00:00:00\",\n          \"2020-04-03 00:00:00\",\n          \"2018-10-27 00:00:00\"\n        ],\n        \"semantic_type\": \"\",\n        \"description\": \"\"\n      }\n    },\n    {\n      \"column\": \"Open\",\n      \"properties\": {\n        \"dtype\": \"number\",\n        \"std\": 0.5667167709657547,\n        \"min\": 0.023954,\n        \"max\": 2.96639,\n        \"num_unique_values\": 2280,\n        \"samples\": [\n          0.072561,\n          0.529449,\n          0.539386\n        ],\n        \"semantic_type\": \"\",\n        \"description\": \"\"\n      }\n    },\n    {\n      \"column\": \"High\",\n      \"properties\": {\n        \"dtype\": \"number\",\n        \"std\": 0.5908248813232642,\n        \"min\": 0.025993,\n        \"max\": 3.099186,\n        \"num_unique_values\": 2280,\n        \"samples\": [\n          0.072621,\n          0.547281,\n          0.597884\n        ],\n        \"semantic_type\": \"\",\n        \"description\": \"\"\n      }\n    },\n    {\n      \"column\": \"Low\",\n      \"properties\": {\n        \"dtype\": \"number\",\n        \"std\": 0.541111865919546,\n        \"min\": 0.01913,\n        \"max\": 2.907606,\n        \"num_unique_values\": 2277,\n        \"samples\": [\n          0.035574,\n          0.062168,\n          0.259865\n        ],\n        \"semantic_type\": \"\",\n        \"description\": \"\"\n      }\n    },\n    {\n      \"column\": \"Price\",\n      \"properties\": {\n        \"dtype\": \"number\",\n        \"std\": 0.566815140020692,\n        \"min\": 0.023961,\n        \"max\": 2.968239,\n        \"num_unique_values\": 2280,\n        \"samples\": [\n          0.071479,\n          0.529269,\n          0.556716\n        ],\n        \"semantic_type\": \"\",\n        \"description\": \"\"\n      }\n    },\n    {\n      \"column\": \"Adj Close\",\n      \"properties\": {\n        \"dtype\": \"number\",\n        \"std\": 0.566815140020692,\n        \"min\": 0.023961,\n        \"max\": 2.968239,\n        \"num_unique_values\": 2280,\n        \"samples\": [\n          0.071479,\n          0.529269,\n          0.556716\n        ],\n        \"semantic_type\": \"\",\n        \"description\": \"\"\n      }\n    },\n    {\n      \"column\": \"Volume\",\n      \"properties\": {\n        \"dtype\": \"number\",\n        \"std\": 1879645729,\n        \"min\": 8387951,\n        \"max\": 19141980288,\n        \"num_unique_values\": 2285,\n        \"samples\": [\n          350870124,\n          89797916,\n          10316000\n        ],\n        \"semantic_type\": \"\",\n        \"description\": \"\"\n      }\n    }\n  ]\n}"
            }
          },
          "metadata": {},
          "execution_count": 2
        }
      ]
    },
    {
      "cell_type": "code",
      "source": [
        "df.info()"
      ],
      "metadata": {
        "colab": {
          "base_uri": "https://localhost:8080/"
        },
        "id": "y45BW7BbcPl_",
        "outputId": "7e8b426b-a4b3-4b8e-d9cf-32ea9a612c73"
      },
      "execution_count": 3,
      "outputs": [
        {
          "output_type": "stream",
          "name": "stdout",
          "text": [
            "<class 'pandas.core.frame.DataFrame'>\n",
            "RangeIndex: 2285 entries, 0 to 2284\n",
            "Data columns (total 7 columns):\n",
            " #   Column     Non-Null Count  Dtype         \n",
            "---  ------     --------------  -----         \n",
            " 0   Date       2285 non-null   datetime64[ns]\n",
            " 1   Open       2285 non-null   float64       \n",
            " 2   High       2285 non-null   float64       \n",
            " 3   Low        2285 non-null   float64       \n",
            " 4   Price      2285 non-null   float64       \n",
            " 5   Adj Close  2285 non-null   float64       \n",
            " 6   Volume     2285 non-null   int64         \n",
            "dtypes: datetime64[ns](1), float64(5), int64(1)\n",
            "memory usage: 125.1 KB\n"
          ]
        }
      ]
    },
    {
      "cell_type": "code",
      "source": [
        "# Thiết lập index\n",
        "df1=df.reset_index()['Price']\n"
      ],
      "metadata": {
        "id": "UN5dzdoDNEet"
      },
      "execution_count": 4,
      "outputs": []
    },
    {
      "cell_type": "code",
      "source": [
        "# Scaler data\n",
        "scaler=MinMaxScaler(feature_range=(0,1))\n",
        "df1=scaler.fit_transform(np.array(df1).reshape(-1,1))"
      ],
      "metadata": {
        "id": "b1XLCdJHMRAd"
      },
      "execution_count": 5,
      "outputs": []
    },
    {
      "cell_type": "code",
      "source": [
        "# Chia train test\n",
        "train_size= int(0.7 * len(df1))\n",
        "test_size = len(df1) - train_size\n",
        "\n",
        "train_data = df1[:train_size]\n",
        "test_data = df1[train_size:]"
      ],
      "metadata": {
        "id": "G6LwdRGreOtq"
      },
      "execution_count": 6,
      "outputs": []
    },
    {
      "cell_type": "code",
      "source": [
        "# convert an array of values into a dataset matrix\n",
        "def create_dataset(dataset, time_step=1):\n",
        "\tdataX, dataY = [], []\n",
        "\tfor i in range(len(dataset) - time_step - 1):\n",
        "\t\ta = dataset[i:(i + time_step)]\n",
        "\t\tdataX.append(a)\n",
        "\t\tdataY.append(dataset[i + time_step])\n",
        "\treturn np.array(dataX), np.array(dataY)\n"
      ],
      "metadata": {
        "id": "5VummKZ8Nq9P"
      },
      "execution_count": 7,
      "outputs": []
    },
    {
      "cell_type": "code",
      "source": [
        "# Reshape into X=t,t+1,t+2..t+99 and Y=t+100\n",
        "time_step = 100\n",
        "X_train, y_train = create_dataset(train_data, time_step)\n",
        "combined_data = np.concatenate((train_data[-time_step:], test_data))\n",
        "X_test, y_test = create_dataset(combined_data, time_step)\n",
        "\n",
        "# Reshape dữ liệu cho phù hợp với mạng GRU\n",
        "X_train = X_train.reshape(X_train.shape[0], X_train.shape[1], 1)\n",
        "X_test = X_test.reshape(X_test.shape[0], X_test.shape[1], 1)"
      ],
      "metadata": {
        "id": "9wgrf7p0kQe0"
      },
      "execution_count": 9,
      "outputs": []
    },
    {
      "cell_type": "code",
      "source": [
        "# Define GRU Model\n",
        "\n",
        "model = Sequential()\n",
        "model.add(GRU(64, input_shape=(time_step, 1)))\n",
        "model.add(Dense(1))\n",
        "model.compile(optimizer='adam', loss='mean_squared_error')"
      ],
      "metadata": {
        "id": "AghcD3L7Nww-"
      },
      "execution_count": 10,
      "outputs": []
    },
    {
      "cell_type": "code",
      "source": [
        "# 9. Fit mô hình với dữ liệu train\n",
        "model.fit(X_train, y_train, epochs=100, batch_size=64, verbose=1)"
      ],
      "metadata": {
        "colab": {
          "base_uri": "https://localhost:8080/"
        },
        "id": "khNSzr8uIlQt",
        "outputId": "97d81d85-eeef-4daf-d34e-4ed930dcb90e"
      },
      "execution_count": 11,
      "outputs": [
        {
          "output_type": "stream",
          "name": "stdout",
          "text": [
            "Epoch 1/100\n",
            "24/24 [==============================] - 4s 62ms/step - loss: 0.0230\n",
            "Epoch 2/100\n",
            "24/24 [==============================] - 1s 60ms/step - loss: 0.0013\n",
            "Epoch 3/100\n",
            "24/24 [==============================] - 2s 69ms/step - loss: 6.9046e-04\n",
            "Epoch 4/100\n",
            "24/24 [==============================] - 2s 93ms/step - loss: 6.0514e-04\n",
            "Epoch 5/100\n",
            "24/24 [==============================] - 2s 81ms/step - loss: 5.7870e-04\n",
            "Epoch 6/100\n",
            "24/24 [==============================] - 2s 64ms/step - loss: 5.6129e-04\n",
            "Epoch 7/100\n",
            "24/24 [==============================] - 1s 50ms/step - loss: 5.6294e-04\n",
            "Epoch 8/100\n",
            "24/24 [==============================] - 1s 48ms/step - loss: 5.2020e-04\n",
            "Epoch 9/100\n",
            "24/24 [==============================] - 1s 48ms/step - loss: 5.6836e-04\n",
            "Epoch 10/100\n",
            "24/24 [==============================] - 1s 49ms/step - loss: 5.0719e-04\n",
            "Epoch 11/100\n",
            "24/24 [==============================] - 1s 48ms/step - loss: 4.8510e-04\n",
            "Epoch 12/100\n",
            "24/24 [==============================] - 1s 47ms/step - loss: 5.2081e-04\n",
            "Epoch 13/100\n",
            "24/24 [==============================] - 1s 48ms/step - loss: 4.9497e-04\n",
            "Epoch 14/100\n",
            "24/24 [==============================] - 1s 47ms/step - loss: 4.6905e-04\n",
            "Epoch 15/100\n",
            "24/24 [==============================] - 2s 75ms/step - loss: 4.6858e-04\n",
            "Epoch 16/100\n",
            "24/24 [==============================] - 2s 78ms/step - loss: 4.4528e-04\n",
            "Epoch 17/100\n",
            "24/24 [==============================] - 2s 77ms/step - loss: 4.3648e-04\n",
            "Epoch 18/100\n",
            "24/24 [==============================] - 1s 52ms/step - loss: 4.3433e-04\n",
            "Epoch 19/100\n",
            "24/24 [==============================] - 1s 47ms/step - loss: 4.2539e-04\n",
            "Epoch 20/100\n",
            "24/24 [==============================] - 1s 47ms/step - loss: 4.4868e-04\n",
            "Epoch 21/100\n",
            "24/24 [==============================] - 1s 48ms/step - loss: 4.1566e-04\n",
            "Epoch 22/100\n",
            "24/24 [==============================] - 1s 49ms/step - loss: 4.2232e-04\n",
            "Epoch 23/100\n",
            "24/24 [==============================] - 1s 47ms/step - loss: 4.0372e-04\n",
            "Epoch 24/100\n",
            "24/24 [==============================] - 1s 46ms/step - loss: 3.8978e-04\n",
            "Epoch 25/100\n",
            "24/24 [==============================] - 1s 47ms/step - loss: 4.4371e-04\n",
            "Epoch 26/100\n",
            "24/24 [==============================] - 1s 46ms/step - loss: 3.9420e-04\n",
            "Epoch 27/100\n",
            "24/24 [==============================] - 2s 76ms/step - loss: 3.9412e-04\n",
            "Epoch 28/100\n",
            "24/24 [==============================] - 2s 76ms/step - loss: 3.8794e-04\n",
            "Epoch 29/100\n",
            "24/24 [==============================] - 2s 73ms/step - loss: 3.8205e-04\n",
            "Epoch 30/100\n",
            "24/24 [==============================] - 1s 48ms/step - loss: 3.7891e-04\n",
            "Epoch 31/100\n",
            "24/24 [==============================] - 1s 47ms/step - loss: 3.7158e-04\n",
            "Epoch 32/100\n",
            "24/24 [==============================] - 1s 47ms/step - loss: 3.6524e-04\n",
            "Epoch 33/100\n",
            "24/24 [==============================] - 1s 47ms/step - loss: 3.7573e-04\n",
            "Epoch 34/100\n",
            "24/24 [==============================] - 1s 48ms/step - loss: 3.6569e-04\n",
            "Epoch 35/100\n",
            "24/24 [==============================] - 1s 47ms/step - loss: 3.7169e-04\n",
            "Epoch 36/100\n",
            "24/24 [==============================] - 1s 47ms/step - loss: 3.7747e-04\n",
            "Epoch 37/100\n",
            "24/24 [==============================] - 1s 49ms/step - loss: 3.6151e-04\n",
            "Epoch 38/100\n",
            "24/24 [==============================] - 2s 65ms/step - loss: 3.7058e-04\n",
            "Epoch 39/100\n",
            "24/24 [==============================] - 2s 88ms/step - loss: 3.7453e-04\n",
            "Epoch 40/100\n",
            "24/24 [==============================] - 2s 79ms/step - loss: 3.5767e-04\n",
            "Epoch 41/100\n",
            "24/24 [==============================] - 2s 65ms/step - loss: 3.5373e-04\n",
            "Epoch 42/100\n",
            "24/24 [==============================] - 1s 48ms/step - loss: 3.4954e-04\n",
            "Epoch 43/100\n",
            "24/24 [==============================] - 1s 48ms/step - loss: 3.4569e-04\n",
            "Epoch 44/100\n",
            "24/24 [==============================] - 1s 47ms/step - loss: 3.4789e-04\n",
            "Epoch 45/100\n",
            "24/24 [==============================] - 1s 48ms/step - loss: 3.6037e-04\n",
            "Epoch 46/100\n",
            "24/24 [==============================] - 1s 47ms/step - loss: 4.2507e-04\n",
            "Epoch 47/100\n",
            "24/24 [==============================] - 1s 48ms/step - loss: 4.0659e-04\n",
            "Epoch 48/100\n",
            "24/24 [==============================] - 1s 47ms/step - loss: 3.7628e-04\n",
            "Epoch 49/100\n",
            "24/24 [==============================] - 1s 47ms/step - loss: 3.3770e-04\n",
            "Epoch 50/100\n",
            "24/24 [==============================] - 2s 72ms/step - loss: 3.3407e-04\n",
            "Epoch 51/100\n",
            "24/24 [==============================] - 3s 114ms/step - loss: 3.4270e-04\n",
            "Epoch 52/100\n",
            "24/24 [==============================] - 2s 75ms/step - loss: 3.3241e-04\n",
            "Epoch 53/100\n",
            "24/24 [==============================] - 1s 46ms/step - loss: 3.3874e-04\n",
            "Epoch 54/100\n",
            "24/24 [==============================] - 1s 48ms/step - loss: 3.4707e-04\n",
            "Epoch 55/100\n",
            "24/24 [==============================] - 1s 48ms/step - loss: 3.5591e-04\n",
            "Epoch 56/100\n",
            "24/24 [==============================] - 1s 47ms/step - loss: 3.4033e-04\n",
            "Epoch 57/100\n",
            "24/24 [==============================] - 1s 47ms/step - loss: 3.4731e-04\n",
            "Epoch 58/100\n",
            "24/24 [==============================] - 2s 72ms/step - loss: 3.2806e-04\n",
            "Epoch 59/100\n",
            "24/24 [==============================] - 2s 69ms/step - loss: 3.3890e-04\n",
            "Epoch 60/100\n",
            "24/24 [==============================] - 1s 60ms/step - loss: 3.2947e-04\n",
            "Epoch 61/100\n",
            "24/24 [==============================] - 2s 79ms/step - loss: 3.3124e-04\n",
            "Epoch 62/100\n",
            "24/24 [==============================] - 2s 78ms/step - loss: 3.5379e-04\n",
            "Epoch 63/100\n",
            "24/24 [==============================] - 2s 62ms/step - loss: 3.2437e-04\n",
            "Epoch 64/100\n",
            "24/24 [==============================] - 1s 47ms/step - loss: 3.3073e-04\n",
            "Epoch 65/100\n",
            "24/24 [==============================] - 1s 47ms/step - loss: 3.3506e-04\n",
            "Epoch 66/100\n",
            "24/24 [==============================] - 1s 47ms/step - loss: 3.2658e-04\n",
            "Epoch 67/100\n",
            "24/24 [==============================] - 1s 47ms/step - loss: 3.2378e-04\n",
            "Epoch 68/100\n",
            "24/24 [==============================] - 1s 48ms/step - loss: 3.1915e-04\n",
            "Epoch 69/100\n",
            "24/24 [==============================] - 1s 46ms/step - loss: 3.2258e-04\n",
            "Epoch 70/100\n",
            "24/24 [==============================] - 1s 47ms/step - loss: 3.4764e-04\n",
            "Epoch 71/100\n",
            "24/24 [==============================] - 1s 48ms/step - loss: 3.2858e-04\n",
            "Epoch 72/100\n",
            "24/24 [==============================] - 2s 72ms/step - loss: 3.2575e-04\n",
            "Epoch 73/100\n",
            "24/24 [==============================] - 2s 76ms/step - loss: 3.3909e-04\n",
            "Epoch 74/100\n",
            "24/24 [==============================] - 2s 77ms/step - loss: 3.2870e-04\n",
            "Epoch 75/100\n",
            "24/24 [==============================] - 1s 58ms/step - loss: 3.4088e-04\n",
            "Epoch 76/100\n",
            "24/24 [==============================] - 1s 47ms/step - loss: 3.2132e-04\n",
            "Epoch 77/100\n",
            "24/24 [==============================] - 1s 48ms/step - loss: 3.2765e-04\n",
            "Epoch 78/100\n",
            "24/24 [==============================] - 1s 46ms/step - loss: 3.4374e-04\n",
            "Epoch 79/100\n",
            "24/24 [==============================] - 1s 47ms/step - loss: 3.7118e-04\n",
            "Epoch 80/100\n",
            "24/24 [==============================] - 1s 48ms/step - loss: 3.3368e-04\n",
            "Epoch 81/100\n",
            "24/24 [==============================] - 1s 49ms/step - loss: 3.1792e-04\n",
            "Epoch 82/100\n",
            "24/24 [==============================] - 1s 47ms/step - loss: 3.3240e-04\n",
            "Epoch 83/100\n",
            "24/24 [==============================] - 1s 48ms/step - loss: 3.4094e-04\n",
            "Epoch 84/100\n",
            "24/24 [==============================] - 2s 76ms/step - loss: 3.1491e-04\n",
            "Epoch 85/100\n",
            "24/24 [==============================] - 2s 78ms/step - loss: 3.1804e-04\n",
            "Epoch 86/100\n",
            "24/24 [==============================] - 2s 90ms/step - loss: 3.3286e-04\n",
            "Epoch 87/100\n",
            "24/24 [==============================] - 2s 83ms/step - loss: 3.2536e-04\n",
            "Epoch 88/100\n",
            "24/24 [==============================] - 2s 78ms/step - loss: 3.5864e-04\n",
            "Epoch 89/100\n",
            "24/24 [==============================] - 1s 56ms/step - loss: 3.7239e-04\n",
            "Epoch 90/100\n",
            "24/24 [==============================] - 1s 48ms/step - loss: 3.2970e-04\n",
            "Epoch 91/100\n",
            "24/24 [==============================] - 1s 48ms/step - loss: 3.2586e-04\n",
            "Epoch 92/100\n",
            "24/24 [==============================] - 1s 49ms/step - loss: 3.1447e-04\n",
            "Epoch 93/100\n",
            "24/24 [==============================] - 1s 46ms/step - loss: 3.1103e-04\n",
            "Epoch 94/100\n",
            "24/24 [==============================] - 1s 50ms/step - loss: 3.2288e-04\n",
            "Epoch 95/100\n",
            "24/24 [==============================] - 2s 76ms/step - loss: 3.1955e-04\n",
            "Epoch 96/100\n",
            "24/24 [==============================] - 2s 77ms/step - loss: 3.1099e-04\n",
            "Epoch 97/100\n",
            "24/24 [==============================] - 2s 79ms/step - loss: 3.1762e-04\n",
            "Epoch 98/100\n",
            "24/24 [==============================] - 1s 48ms/step - loss: 3.1239e-04\n",
            "Epoch 99/100\n",
            "24/24 [==============================] - 1s 47ms/step - loss: 3.1185e-04\n",
            "Epoch 100/100\n",
            "24/24 [==============================] - 1s 47ms/step - loss: 3.1879e-04\n"
          ]
        },
        {
          "output_type": "execute_result",
          "data": {
            "text/plain": [
              "<keras.src.callbacks.History at 0x7d5386c12d70>"
            ]
          },
          "metadata": {},
          "execution_count": 11
        }
      ]
    },
    {
      "cell_type": "code",
      "source": [
        "# Dự báo dữ liệu test và train\n",
        "train_predict = model.predict(X_train)\n",
        "y_pred = model.predict(X_test)"
      ],
      "metadata": {
        "colab": {
          "base_uri": "https://localhost:8080/"
        },
        "id": "Z7H6b5bilgXv",
        "outputId": "b563a927-4ff2-4b8c-f11e-9d1580ae34d4"
      },
      "execution_count": 12,
      "outputs": [
        {
          "output_type": "stream",
          "name": "stdout",
          "text": [
            "47/47 [==============================] - 1s 16ms/step\n",
            "22/22 [==============================] - 0s 17ms/step\n"
          ]
        }
      ]
    },
    {
      "cell_type": "code",
      "source": [
        "# Chuẩn hóa dữ liệu y_pred\n",
        "train_predict = scaler.inverse_transform(train_predict)\n",
        "y_pred = scaler.inverse_transform(y_pred)"
      ],
      "metadata": {
        "id": "AGrwjDEOl9Mj"
      },
      "execution_count": 13,
      "outputs": []
    },
    {
      "cell_type": "code",
      "source": [
        "# Dự báo 90 ngày tiếp theo\n",
        "x_input = test_data[-100:].reshape(1, -1)\n",
        "temp_input = list(x_input[0])\n",
        "lst_output = []\n",
        "\n",
        "i = 0\n",
        "while(i < 90):\n",
        "    if len(temp_input) > 100:\n",
        "        x_input = np.array(temp_input[1:])  # Lấy từng ngày từ ngày thứ 2 trở đi\n",
        "        x_input = x_input.reshape(1, time_step, 1)  # Reshape lại để phù hợp với input của mạng\n",
        "        yhat = model.predict(x_input, verbose=0)  # Dự đoán giá cho ngày tiếp theo\n",
        "        temp_input.extend(yhat[0].tolist())  # Thêm dự đoán vào danh sách temp_input\n",
        "        temp_input = temp_input[1:]  # Loại bỏ ngày đầu tiên\n",
        "        lst_output.extend(yhat.tolist())  # Lưu dự đoán vào mảng lst_output\n",
        "        i += 1\n",
        "    else:\n",
        "        x_input = x_input.reshape(1, time_step, 1)  # Reshape lại để phù hợp với input của mạng\n",
        "        yhat = model.predict(x_input, verbose=0)  # Dự đoán giá cho ngày tiếp theo\n",
        "        temp_input.extend(yhat[0].tolist())  # Thêm dự đoán vào danh sách temp_input\n",
        "        lst_output.extend(yhat.tolist())  # Lưu dự đoán vào mảng lst_output\n",
        "        i += 1\n",
        "\n",
        "# In ra dự đoán cho 90 ngày tiếp theo\n",
        "print(\"Dự đoán giá cho 90 ngày tiếp theo:\")\n",
        "print(lst_output)"
      ],
      "metadata": {
        "colab": {
          "base_uri": "https://localhost:8080/"
        },
        "id": "4DfyL9LMW9fX",
        "outputId": "9c844d03-b814-4efa-d127-80ce1595438a"
      },
      "execution_count": 14,
      "outputs": [
        {
          "output_type": "stream",
          "name": "stdout",
          "text": [
            "Dự đoán giá cho 90 ngày tiếp theo:\n",
            "[[0.14118251204490662], [0.13875815272331238], [0.1362692415714264], [0.13377492129802704], [0.13126502931118011], [0.12873707711696625], [0.12619376182556152], [0.12363891303539276], [0.12107614427804947], [0.11850853264331818], [0.11593861132860184], [0.11336829513311386], [0.1107991635799408], [0.10823234915733337], [0.10566872358322144], [0.10310891270637512], [0.10055337101221085], [0.09800239652395248], [0.09545616060495377], [0.09291481226682663], [0.09037836641073227], [0.08784684538841248], [0.08532017469406128], [0.08279828727245331], [0.0802810788154602], [0.07776845246553421], [0.07526027411222458], [0.07275637984275818], [0.07025662809610367], [0.06776086986064911], [0.06526892632246017], [0.06278066337108612], [0.060295891016721725], [0.057814452797174454], [0.05533618852496147], [0.052860941737890244], [0.05038852617144585], [0.047918811440467834], [0.04545161500573158], [0.042986784130334854], [0.040524158626794815], [0.03806358575820923], [0.03560491278767586], [0.033147986978292465], [0.030692650005221367], [0.028238754719495773], [0.025786161422729492], [0.02333470992743969], [0.020884273573756218], [0.01843469776213169], [0.015985848382115364], [0.01353758480399847], [0.011089771054685116], [0.00864227581769228], [0.00619495939463377], [0.0037476932629942894], [0.0013003440108150244], [-0.0011472136247903109], [-0.0035951074678450823], [-0.006043466739356518], [-0.008492412976920605], [-0.010942063294351101], [-0.01339255552738905], [-0.015843991190195084], [-0.01829650066792965], [-0.020750198513269424], [-0.02320520393550396], [-0.025661619380116463], [-0.02811957523226738], [-0.03057917021214962], [-0.03304053470492363], [-0.03550375998020172], [-0.037968959659338], [-0.04043625667691231], [-0.04290572926402092], [-0.04537750035524368], [-0.04785166308283806], [-0.050328340381383896], [-0.05280762165784836], [-0.055289607495069504], [-0.05777440592646599], [-0.06026213988661766], [-0.06275284290313721], [-0.06524664908647537], [-0.06774366647005081], [-0.0702439621090889], [-0.07274765521287918], [-0.07525480538606644], [-0.077765554189682], [-0.08027996122837067]]\n"
          ]
        }
      ]
    },
    {
      "cell_type": "code",
      "source": [
        "predict_future_30 = lst_output[:30]\n",
        "predict_future_60 = lst_output[30:60]\n",
        "predict_future_90 = lst_output[60:]\n"
      ],
      "metadata": {
        "id": "vPOQbRv4A-Zx"
      },
      "execution_count": 15,
      "outputs": []
    },
    {
      "cell_type": "code",
      "source": [
        "#Vẽ hình\n",
        "# train_data_index = pd.RangeIndex(start=0, stop=len(train_data), step=1)\n",
        "# plt.plot(train_data_index, scaler.inverse_transform(train_data), label='Train')\n",
        "\n",
        "test_data_index = pd.RangeIndex(start=train_size, stop=train_size+len(test_data), step=1)\n",
        "plt.plot(test_data_index, scaler.inverse_transform(test_data), label='Test')\n",
        "\n",
        "predicted_test_index = pd.RangeIndex(start=train_size, stop=train_size+len(y_pred), step=1)\n",
        "plt.plot(predicted_test_index, y_pred)\n",
        "\n",
        "predict_future_30_index = pd.RangeIndex(start=test_data_index[-1]+1, stop=test_data_index[-1]+31, step=1)\n",
        "plt.plot(predict_future_30_index, scaler.inverse_transform(predict_future_30))\n",
        "\n",
        "predict_future_60_index = pd.RangeIndex(start=test_data_index[-1]+31, stop=test_data_index[-1]+61, step=1)\n",
        "plt.plot(predict_future_60_index, scaler.inverse_transform(predict_future_60))\n",
        "\n",
        "predict_future_90_index = pd.RangeIndex(start=test_data_index[-1]+61, stop=test_data_index[-1]+91, step=1)\n",
        "plt.plot(predict_future_90_index, scaler.inverse_transform(predict_future_90))\n",
        "\n",
        "plt.title('GRU - ADA Stock Price - 7:3')\n",
        "plt.xlabel('Date')\n",
        "plt.ylabel('Price')\n",
        "plt.legend(['Test','Predict Test','Predict 30days','Predict 60days','Predict 90days'])\n",
        "plt.show()"
      ],
      "metadata": {
        "colab": {
          "base_uri": "https://localhost:8080/",
          "height": 472
        },
        "id": "9dEqqWytXSRo",
        "outputId": "936a7f41-dcd2-4886-88a1-430ff7e8be68"
      },
      "execution_count": 17,
      "outputs": [
        {
          "output_type": "display_data",
          "data": {
            "text/plain": [
              "<Figure size 640x480 with 1 Axes>"
            ],
            "image/png": "[encoded data removed]"
          },
          "metadata": {}
        }
      ]
    },
    {
      "cell_type": "code",
      "source": [
        "from sklearn.metrics import mean_absolute_error, mean_squared_error, mean_absolute_percentage_error\n",
        "\n",
        "mae = mean_absolute_error(y_test, y_pred)\n",
        "mape = mean_absolute_percentage_error(y_test, y_pred)\n",
        "rmse = np.sqrt(mean_squared_error(y_test, y_pred))\n",
        "\n",
        "print(\"Mean Absolute Error (MAE):\", mae)\n",
        "print(\"Mean Absolute Percentage Error (MAPE):\", mape * 100)\n",
        "print(\"Root Mean Square Error (RMSE):\", rmse)"
      ],
      "metadata": {
        "colab": {
          "base_uri": "https://localhost:8080/"
        },
        "id": "APE0pAmrJKcg",
        "outputId": "32c1a294-e950-41d6-9258-ebba5473e2b5"
      },
      "execution_count": 18,
      "outputs": [
        {
          "output_type": "stream",
          "name": "stdout",
          "text": [
            "Mean Absolute Error (MAE): 0.2675865815356356\n",
            "Mean Absolute Percentage Error (MAPE): 207.07815731969168\n",
            "Root Mean Square Error (RMSE): 0.2789946700329252\n"
          ]
        }
      ]
    },
    {
      "cell_type": "markdown",
      "source": [],
      "metadata": {
        "id": "3yRLTREua_1d"
      }
    },
    {
      "cell_type": "code",
      "source": [],
      "metadata": {
        "id": "fxjVSJqCa8n1"
      },
      "execution_count": null,
      "outputs": []
    }
  ]
}