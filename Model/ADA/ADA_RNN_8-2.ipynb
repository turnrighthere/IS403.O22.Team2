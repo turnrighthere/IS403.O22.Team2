{
 "cells": [
  {
   "cell_type": "code",
   "execution_count": 19,
   "id": "26fdc348-5b74-4d88-a3dc-48da4d735e10",
   "metadata": {
    "tags": []
   },
   "outputs": [],
   "source": [
    "# 1. Import thư viện cần thiết\n",
    "import numpy as np\n",
    "import pandas as pd\n",
    "import matplotlib.pyplot as plt\n",
    "from sklearn.preprocessing import MinMaxScaler\n",
    "from keras.models import Sequential\n",
    "from keras.layers import Dense, SimpleRNN"
   ]
  },
  {
   "cell_type": "code",
   "execution_count": 20,
   "id": "a1081418-67c4-4366-9320-98d0255b8a87",
   "metadata": {
    "tags": []
   },
   "outputs": [
    {
     "name": "stdout",
     "output_type": "stream",
     "text": [
      "<class 'pandas.core.frame.DataFrame'>\n",
      "RangeIndex: 2285 entries, 0 to 2284\n",
      "Data columns (total 7 columns):\n",
      " #   Column     Non-Null Count  Dtype  \n",
      "---  ------     --------------  -----  \n",
      " 0   Date       2285 non-null   object \n",
      " 1   Open       2285 non-null   float64\n",
      " 2   High       2285 non-null   float64\n",
      " 3   Low        2285 non-null   float64\n",
      " 4   Price      2285 non-null   float64\n",
      " 5   Adj Close  2285 non-null   float64\n",
      " 6   Volume     2285 non-null   int64  \n",
      "dtypes: float64(5), int64(1), object(1)\n",
      "memory usage: 125.1+ KB\n"
     ]
    }
   ],
   "source": [
    "# 2. Đọc file csv và gắn index với giá Price\n",
    "df = pd.read_csv('pre_ADA-USD.csv')\n",
    "df = df.rename(columns={'Close': 'Price'})\n",
    "df1 = df.reset_index()['Price']\n",
    "df.info()"
   ]
  },
  {
   "cell_type": "code",
   "execution_count": 21,
   "id": "60ab42f9-e719-4186-ada8-ba47f31ad5a7",
   "metadata": {
    "tags": []
   },
   "outputs": [],
   "source": [
    "# 3. Scaler data\n",
    "scaler = MinMaxScaler(feature_range=(0, 1))\n",
    "df1 = scaler.fit_transform(np.array(df1).reshape(-1, 1))"
   ]
  },
  {
   "cell_type": "code",
   "execution_count": 22,
   "id": "5cc5eeb5-d78f-4ef1-87eb-4359c768e0d6",
   "metadata": {
    "tags": []
   },
   "outputs": [
    {
     "name": "stdout",
     "output_type": "stream",
     "text": [
      "Train shape: (1828, 1)\n",
      "Test shape: (457, 1)\n"
     ]
    }
   ],
   "source": [
    "# 4. Chia train test 8 - 2\n",
    "train_size = int(0.8 * len(df1))\n",
    "test_size = len(df1) - train_size\n",
    "\n",
    "# Lấy dữ liệu train và test\n",
    "train_data = df1[:train_size]\n",
    "test_data = df1[train_size:]\n",
    "\n",
    "print(\"Train shape:\", train_data.shape)\n",
    "print(\"Test shape:\", test_data.shape)"
   ]
  },
  {
   "cell_type": "code",
   "execution_count": 23,
   "id": "f9148ab3-7d6f-4b1f-ab40-c832747c52be",
   "metadata": {
    "tags": []
   },
   "outputs": [],
   "source": [
    "# 5. Hàm Create Dataset\n",
    "import numpy\n",
    "# convert an array of values into a dataset matrix\n",
    "def create_dataset(dataset, time_step=1):\n",
    "\tdataX, dataY = [], []\n",
    "\tfor i in range(len(dataset)-time_step-1):\n",
    "\t\ta = dataset[i:(i+time_step), 0]   ###i=0, X=0,1,2,3-----99   Y=100 \n",
    "\t\tdataX.append(a)\n",
    "\t\tdataY.append(dataset[i + time_step, 0])\n",
    "\treturn numpy.array(dataX), numpy.array(dataY)"
   ]
  },
  {
   "cell_type": "code",
   "execution_count": 24,
   "id": "72cc4c30-465a-4cab-8356-3baef4e1fa61",
   "metadata": {
    "tags": []
   },
   "outputs": [],
   "source": [
    "# 6. Reshape into X=t,t+1,t+2..t+99 and Y=t+100\n",
    "time_step = 100\n",
    "X_train, y_train = create_dataset(train_data, time_step)\n",
    "combined_data = np.concatenate((train_data[-time_step:], test_data))\n",
    "X_test, ytest = create_dataset(combined_data, time_step)"
   ]
  },
  {
   "cell_type": "code",
   "execution_count": 25,
   "id": "ea53b5fc-9693-41c0-94d4-433f02119225",
   "metadata": {
    "tags": []
   },
   "outputs": [],
   "source": [
    "# 7. Reshape input to be [samples, time steps, features] which is required for LSTM\n",
    "X_train = X_train.reshape(X_train.shape[0], X_train.shape[1], 1)\n",
    "X_test = X_test.reshape(X_test.shape[0], X_test.shape[1], 1)"
   ]
  },
  {
   "cell_type": "code",
   "execution_count": 26,
   "id": "15bfe900-abe3-40da-8cba-618fcf530d43",
   "metadata": {
    "tags": []
   },
   "outputs": [],
   "source": [
    "# 8. Define RNN Model\n",
    "model = Sequential()\n",
    "model.add(SimpleRNN(50, input_shape=(time_step, 1)))\n",
    "model.add(Dense(1))\n",
    "model.compile(loss='mean_squared_error', optimizer='adam')"
   ]
  },
  {
   "cell_type": "code",
   "execution_count": 27,
   "id": "cc691626-b5f4-467f-a47b-0c07f204f045",
   "metadata": {
    "tags": []
   },
   "outputs": [
    {
     "name": "stdout",
     "output_type": "stream",
     "text": [
      "Epoch 1/100\n",
      "27/27 [==============================] - 2s 29ms/step - loss: 0.0028 - val_loss: 3.4310e-04\n",
      "Epoch 2/100\n",
      "27/27 [==============================] - 0s 17ms/step - loss: 5.9354e-04 - val_loss: 1.6029e-04\n",
      "Epoch 3/100\n",
      "27/27 [==============================] - 1s 19ms/step - loss: 5.2951e-04 - val_loss: 1.2768e-04\n",
      "Epoch 4/100\n",
      "27/27 [==============================] - 1s 19ms/step - loss: 5.0505e-04 - val_loss: 1.0043e-04\n",
      "Epoch 5/100\n",
      "27/27 [==============================] - 0s 17ms/step - loss: 4.5772e-04 - val_loss: 1.0192e-04\n",
      "Epoch 6/100\n",
      "27/27 [==============================] - 0s 17ms/step - loss: 4.3351e-04 - val_loss: 8.8814e-05\n",
      "Epoch 7/100\n",
      "27/27 [==============================] - 0s 18ms/step - loss: 4.2396e-04 - val_loss: 1.7366e-04\n",
      "Epoch 8/100\n",
      "27/27 [==============================] - 0s 18ms/step - loss: 4.6647e-04 - val_loss: 7.4095e-05\n",
      "Epoch 9/100\n",
      "27/27 [==============================] - 0s 17ms/step - loss: 3.8681e-04 - val_loss: 6.9174e-05\n",
      "Epoch 10/100\n",
      "27/27 [==============================] - 0s 18ms/step - loss: 3.7524e-04 - val_loss: 8.2880e-05\n",
      "Epoch 11/100\n",
      "27/27 [==============================] - 0s 18ms/step - loss: 3.6011e-04 - val_loss: 6.5243e-05\n",
      "Epoch 12/100\n",
      "27/27 [==============================] - 1s 22ms/step - loss: 3.5842e-04 - val_loss: 7.8439e-05\n",
      "Epoch 13/100\n",
      "27/27 [==============================] - 0s 16ms/step - loss: 3.6448e-04 - val_loss: 7.7463e-05\n",
      "Epoch 14/100\n",
      "27/27 [==============================] - 1s 20ms/step - loss: 3.4447e-04 - val_loss: 6.5033e-05\n",
      "Epoch 15/100\n",
      "27/27 [==============================] - 1s 22ms/step - loss: 3.3591e-04 - val_loss: 6.2490e-05\n",
      "Epoch 16/100\n",
      "27/27 [==============================] - 1s 26ms/step - loss: 3.1699e-04 - val_loss: 6.3792e-05\n",
      "Epoch 17/100\n",
      "27/27 [==============================] - 1s 19ms/step - loss: 3.8548e-04 - val_loss: 5.7683e-05\n",
      "Epoch 18/100\n",
      "27/27 [==============================] - 0s 18ms/step - loss: 3.2265e-04 - val_loss: 5.3529e-05\n",
      "Epoch 19/100\n",
      "27/27 [==============================] - 1s 19ms/step - loss: 3.3460e-04 - val_loss: 5.4245e-05\n",
      "Epoch 20/100\n",
      "27/27 [==============================] - 0s 17ms/step - loss: 3.0412e-04 - val_loss: 5.5417e-05\n",
      "Epoch 21/100\n",
      "27/27 [==============================] - 0s 18ms/step - loss: 3.0402e-04 - val_loss: 5.1623e-05\n",
      "Epoch 22/100\n",
      "27/27 [==============================] - 0s 17ms/step - loss: 3.1751e-04 - val_loss: 6.1721e-05\n",
      "Epoch 23/100\n",
      "27/27 [==============================] - 1s 19ms/step - loss: 3.1535e-04 - val_loss: 6.3329e-05\n",
      "Epoch 24/100\n",
      "27/27 [==============================] - 0s 17ms/step - loss: 2.9736e-04 - val_loss: 5.1614e-05\n",
      "Epoch 25/100\n",
      "27/27 [==============================] - 0s 18ms/step - loss: 2.9314e-04 - val_loss: 5.5798e-05\n",
      "Epoch 26/100\n",
      "27/27 [==============================] - 1s 20ms/step - loss: 3.0532e-04 - val_loss: 5.0299e-05\n",
      "Epoch 27/100\n",
      "27/27 [==============================] - 1s 22ms/step - loss: 2.9579e-04 - val_loss: 7.4737e-05\n",
      "Epoch 28/100\n",
      "27/27 [==============================] - 0s 17ms/step - loss: 2.8888e-04 - val_loss: 5.0769e-05\n",
      "Epoch 29/100\n",
      "27/27 [==============================] - 1s 20ms/step - loss: 2.8000e-04 - val_loss: 5.0802e-05\n",
      "Epoch 30/100\n",
      "27/27 [==============================] - 1s 20ms/step - loss: 2.7651e-04 - val_loss: 4.9308e-05\n",
      "Epoch 31/100\n",
      "27/27 [==============================] - 1s 20ms/step - loss: 2.9204e-04 - val_loss: 9.4881e-05\n",
      "Epoch 32/100\n",
      "27/27 [==============================] - 1s 19ms/step - loss: 2.8495e-04 - val_loss: 5.1306e-05\n",
      "Epoch 33/100\n",
      "27/27 [==============================] - 1s 20ms/step - loss: 2.7216e-04 - val_loss: 6.4305e-05\n",
      "Epoch 34/100\n",
      "27/27 [==============================] - 1s 19ms/step - loss: 2.8133e-04 - val_loss: 6.8745e-05\n",
      "Epoch 35/100\n",
      "27/27 [==============================] - 0s 18ms/step - loss: 2.9157e-04 - val_loss: 4.8478e-05\n",
      "Epoch 36/100\n",
      "27/27 [==============================] - 0s 18ms/step - loss: 2.7888e-04 - val_loss: 5.3638e-05\n",
      "Epoch 37/100\n",
      "27/27 [==============================] - 0s 16ms/step - loss: 2.8280e-04 - val_loss: 8.3883e-05\n",
      "Epoch 38/100\n",
      "27/27 [==============================] - 0s 17ms/step - loss: 2.9495e-04 - val_loss: 4.9811e-05\n",
      "Epoch 39/100\n",
      "27/27 [==============================] - 0s 16ms/step - loss: 3.1532e-04 - val_loss: 8.7025e-05\n",
      "Epoch 40/100\n",
      "27/27 [==============================] - 0s 18ms/step - loss: 2.6364e-04 - val_loss: 5.2964e-05\n",
      "Epoch 41/100\n",
      "27/27 [==============================] - 0s 18ms/step - loss: 2.8903e-04 - val_loss: 6.6759e-05\n",
      "Epoch 42/100\n",
      "27/27 [==============================] - 0s 18ms/step - loss: 2.6982e-04 - val_loss: 4.6540e-05\n",
      "Epoch 43/100\n",
      "27/27 [==============================] - 0s 16ms/step - loss: 2.5806e-04 - val_loss: 4.7288e-05\n",
      "Epoch 44/100\n",
      "27/27 [==============================] - 0s 15ms/step - loss: 2.6787e-04 - val_loss: 6.7833e-05\n",
      "Epoch 45/100\n",
      "27/27 [==============================] - 0s 15ms/step - loss: 2.7617e-04 - val_loss: 5.5707e-05\n",
      "Epoch 46/100\n",
      "27/27 [==============================] - 0s 16ms/step - loss: 2.7431e-04 - val_loss: 4.5039e-05\n",
      "Epoch 47/100\n",
      "27/27 [==============================] - 1s 22ms/step - loss: 2.5350e-04 - val_loss: 5.4081e-05\n",
      "Epoch 48/100\n",
      "27/27 [==============================] - 0s 18ms/step - loss: 2.6267e-04 - val_loss: 4.6181e-05\n",
      "Epoch 49/100\n",
      "27/27 [==============================] - 0s 18ms/step - loss: 2.6130e-04 - val_loss: 4.5031e-05\n",
      "Epoch 50/100\n",
      "27/27 [==============================] - 1s 22ms/step - loss: 2.5462e-04 - val_loss: 5.6062e-05\n",
      "Epoch 51/100\n",
      "27/27 [==============================] - 0s 18ms/step - loss: 2.6192e-04 - val_loss: 4.8778e-05\n",
      "Epoch 52/100\n",
      "27/27 [==============================] - 0s 17ms/step - loss: 2.5168e-04 - val_loss: 5.1790e-05\n",
      "Epoch 53/100\n",
      "27/27 [==============================] - 0s 16ms/step - loss: 2.5962e-04 - val_loss: 4.5422e-05\n",
      "Epoch 54/100\n",
      "27/27 [==============================] - 0s 17ms/step - loss: 2.6817e-04 - val_loss: 4.5975e-05\n",
      "Epoch 55/100\n",
      "27/27 [==============================] - 1s 21ms/step - loss: 3.0141e-04 - val_loss: 8.2392e-05\n",
      "Epoch 56/100\n",
      "27/27 [==============================] - 1s 24ms/step - loss: 2.9583e-04 - val_loss: 4.5598e-05\n",
      "Epoch 57/100\n",
      "27/27 [==============================] - 1s 23ms/step - loss: 2.5588e-04 - val_loss: 4.7054e-05\n",
      "Epoch 58/100\n",
      "27/27 [==============================] - 1s 21ms/step - loss: 2.5820e-04 - val_loss: 5.9598e-05\n",
      "Epoch 59/100\n",
      "27/27 [==============================] - 1s 23ms/step - loss: 2.5365e-04 - val_loss: 8.6015e-05\n",
      "Epoch 60/100\n",
      "27/27 [==============================] - 1s 30ms/step - loss: 2.6268e-04 - val_loss: 7.4166e-05\n",
      "Epoch 61/100\n",
      "27/27 [==============================] - 1s 36ms/step - loss: 2.7047e-04 - val_loss: 6.3077e-05\n",
      "Epoch 62/100\n",
      "27/27 [==============================] - 0s 16ms/step - loss: 2.8503e-04 - val_loss: 7.2120e-05\n",
      "Epoch 63/100\n",
      "27/27 [==============================] - 0s 16ms/step - loss: 2.6491e-04 - val_loss: 4.3674e-05\n",
      "Epoch 64/100\n",
      "27/27 [==============================] - 0s 17ms/step - loss: 2.6097e-04 - val_loss: 9.5851e-05\n",
      "Epoch 65/100\n",
      "27/27 [==============================] - 0s 16ms/step - loss: 2.6218e-04 - val_loss: 4.9899e-05\n",
      "Epoch 66/100\n",
      "27/27 [==============================] - 0s 17ms/step - loss: 2.5958e-04 - val_loss: 5.0486e-05\n",
      "Epoch 67/100\n",
      "27/27 [==============================] - 0s 15ms/step - loss: 2.4897e-04 - val_loss: 4.7687e-05\n",
      "Epoch 68/100\n",
      "27/27 [==============================] - 0s 15ms/step - loss: 2.5176e-04 - val_loss: 4.5733e-05\n",
      "Epoch 69/100\n",
      "27/27 [==============================] - 0s 17ms/step - loss: 2.5613e-04 - val_loss: 4.4787e-05\n",
      "Epoch 70/100\n",
      "27/27 [==============================] - 0s 17ms/step - loss: 2.5167e-04 - val_loss: 4.4210e-05\n",
      "Epoch 71/100\n",
      "27/27 [==============================] - 0s 16ms/step - loss: 2.5057e-04 - val_loss: 5.5462e-05\n",
      "Epoch 72/100\n",
      "27/27 [==============================] - 0s 14ms/step - loss: 2.6870e-04 - val_loss: 5.8110e-05\n",
      "Epoch 73/100\n",
      "27/27 [==============================] - 0s 16ms/step - loss: 2.8649e-04 - val_loss: 4.7384e-05\n",
      "Epoch 74/100\n",
      "27/27 [==============================] - 0s 16ms/step - loss: 2.5266e-04 - val_loss: 4.3148e-05\n",
      "Epoch 75/100\n",
      "27/27 [==============================] - 0s 15ms/step - loss: 2.5303e-04 - val_loss: 4.3701e-05\n",
      "Epoch 76/100\n",
      "27/27 [==============================] - 0s 15ms/step - loss: 2.4905e-04 - val_loss: 4.6613e-05\n",
      "Epoch 77/100\n",
      "27/27 [==============================] - 1s 20ms/step - loss: 2.5711e-04 - val_loss: 8.1519e-05\n",
      "Epoch 78/100\n",
      "27/27 [==============================] - 0s 16ms/step - loss: 2.6125e-04 - val_loss: 6.1745e-05\n",
      "Epoch 79/100\n",
      "27/27 [==============================] - 0s 18ms/step - loss: 2.6427e-04 - val_loss: 4.9221e-05\n",
      "Epoch 80/100\n",
      "27/27 [==============================] - 0s 16ms/step - loss: 2.6575e-04 - val_loss: 7.2608e-05\n",
      "Epoch 81/100\n",
      "27/27 [==============================] - 0s 16ms/step - loss: 2.7450e-04 - val_loss: 4.7526e-05\n",
      "Epoch 82/100\n",
      "27/27 [==============================] - 0s 17ms/step - loss: 2.5007e-04 - val_loss: 4.5100e-05\n",
      "Epoch 83/100\n",
      "27/27 [==============================] - 0s 18ms/step - loss: 2.4830e-04 - val_loss: 4.7797e-05\n",
      "Epoch 84/100\n",
      "27/27 [==============================] - 0s 16ms/step - loss: 2.4630e-04 - val_loss: 4.9502e-05\n",
      "Epoch 85/100\n",
      "27/27 [==============================] - 0s 16ms/step - loss: 2.4948e-04 - val_loss: 4.6206e-05\n",
      "Epoch 86/100\n",
      "27/27 [==============================] - 0s 18ms/step - loss: 2.7330e-04 - val_loss: 5.9882e-05\n",
      "Epoch 87/100\n",
      "27/27 [==============================] - 0s 17ms/step - loss: 2.6247e-04 - val_loss: 5.2276e-05\n",
      "Epoch 88/100\n",
      "27/27 [==============================] - 1s 24ms/step - loss: 2.6512e-04 - val_loss: 4.5304e-05\n",
      "Epoch 89/100\n",
      "27/27 [==============================] - 0s 16ms/step - loss: 2.4619e-04 - val_loss: 5.6300e-05\n",
      "Epoch 90/100\n",
      "27/27 [==============================] - 0s 17ms/step - loss: 2.5181e-04 - val_loss: 7.1432e-05\n",
      "Epoch 91/100\n",
      "27/27 [==============================] - 1s 19ms/step - loss: 2.6014e-04 - val_loss: 6.6921e-05\n",
      "Epoch 92/100\n",
      "27/27 [==============================] - 1s 19ms/step - loss: 2.8325e-04 - val_loss: 4.3049e-05\n",
      "Epoch 93/100\n",
      "27/27 [==============================] - 1s 26ms/step - loss: 2.4845e-04 - val_loss: 4.8671e-05\n",
      "Epoch 94/100\n",
      "27/27 [==============================] - 1s 24ms/step - loss: 2.5778e-04 - val_loss: 5.9372e-05\n",
      "Epoch 95/100\n",
      "27/27 [==============================] - 0s 18ms/step - loss: 2.4447e-04 - val_loss: 4.3405e-05\n",
      "Epoch 96/100\n",
      "27/27 [==============================] - 0s 16ms/step - loss: 2.5614e-04 - val_loss: 4.1666e-05\n",
      "Epoch 97/100\n",
      "27/27 [==============================] - 0s 15ms/step - loss: 2.4762e-04 - val_loss: 4.8465e-05\n",
      "Epoch 98/100\n",
      "27/27 [==============================] - 0s 17ms/step - loss: 2.4971e-04 - val_loss: 4.4855e-05\n",
      "Epoch 99/100\n",
      "27/27 [==============================] - 0s 17ms/step - loss: 2.5348e-04 - val_loss: 4.3853e-05\n",
      "Epoch 100/100\n",
      "27/27 [==============================] - 0s 17ms/step - loss: 3.2001e-04 - val_loss: 9.5590e-05\n"
     ]
    },
    {
     "data": {
      "text/plain": [
       "<keras.callbacks.History at 0x23dca5530d0>"
      ]
     },
     "execution_count": 27,
     "metadata": {},
     "output_type": "execute_result"
    }
   ],
   "source": [
    "# 9. Fit mô hình với dữ liệu train\n",
    "model.fit(X_train, y_train, validation_data=(X_test, ytest), epochs=100, batch_size=64, verbose=1)"
   ]
  },
  {
   "cell_type": "code",
   "execution_count": 28,
   "id": "c55c37b5-5b6b-4482-8ef1-63d82cd60fae",
   "metadata": {
    "tags": []
   },
   "outputs": [
    {
     "name": "stdout",
     "output_type": "stream",
     "text": [
      "54/54 [==============================] - 0s 5ms/step\n",
      "15/15 [==============================] - 0s 6ms/step\n"
     ]
    }
   ],
   "source": [
    "# 10. Dự báo dữ liệu test\n",
    "train_predict = model.predict(X_train)\n",
    "y_pred = model.predict(X_test)"
   ]
  },
  {
   "cell_type": "code",
   "execution_count": 29,
   "id": "e1ef089c-abd2-4072-9177-25ff22485fa8",
   "metadata": {
    "tags": []
   },
   "outputs": [],
   "source": [
    "# 11. Chuẩn hóa dữ liệu y_pred\n",
    "train_predict = scaler.inverse_transform(train_predict)\n",
    "y_pred = scaler.inverse_transform(y_pred)"
   ]
  },
  {
   "cell_type": "code",
   "execution_count": 30,
   "id": "6c14ba0c-354e-4514-a7ed-98b43cbcc1f9",
   "metadata": {
    "tags": []
   },
   "outputs": [
    {
     "name": "stdout",
     "output_type": "stream",
     "text": [
      "Mean Absolute Error (MAE): 0.25970991386347037\n",
      "Mean Absolute Percentage Error (MAPE): 197.22458044428308\n",
      "Root Mean Square Error (RMSE): 0.27386924932594775\n"
     ]
    }
   ],
   "source": [
    "# 12. Tính RMSE, MAPE, MAE\n",
    "from sklearn.metrics import mean_absolute_error, mean_squared_error, mean_absolute_percentage_error\n",
    "\n",
    "mae = mean_absolute_error(ytest, y_pred)\n",
    "mape = mean_absolute_percentage_error(ytest, y_pred)\n",
    "rmse = np.sqrt(mean_squared_error(ytest, y_pred))\n",
    "\n",
    "print(\"Mean Absolute Error (MAE):\", mae)\n",
    "print(\"Mean Absolute Percentage Error (MAPE):\", mape * 100)\n",
    "print(\"Root Mean Square Error (RMSE):\", rmse)"
   ]
  },
  {
   "cell_type": "code",
   "execution_count": 31,
   "id": "a858ddd6-d663-47e2-b024-95e269c52c71",
   "metadata": {
    "tags": []
   },
   "outputs": [],
   "source": [
    "# 13. Hàm dự báo\n",
    "def forecast_days(n_days):\n",
    "    x_input = test_data[-100:].reshape(1, -1)\n",
    "    temp_input = list(x_input[0])\n",
    "\n",
    "    lst_output = []\n",
    "    i = 0\n",
    "    while i < n_days:\n",
    "        if len(temp_input) > 100:\n",
    "            x_input = np.array(temp_input[1:])\n",
    "            x_input = x_input.reshape(1, -1)\n",
    "            x_input = x_input.reshape((1, time_step, 1))\n",
    "            yhat = model.predict(x_input, verbose=0)\n",
    "            temp_input.extend(yhat[0].tolist())\n",
    "            temp_input = temp_input[1:]\n",
    "            lst_output.extend(yhat.tolist())\n",
    "            i += 1\n",
    "        else:\n",
    "            x_input = x_input.reshape((1, time_step, 1))\n",
    "            yhat = model.predict(x_input, verbose=0)\n",
    "            temp_input.extend(yhat[0].tolist())\n",
    "            lst_output.extend(yhat.tolist())\n",
    "            i += 1\n",
    "    return lst_output"
   ]
  },
  {
   "cell_type": "code",
   "execution_count": 32,
   "id": "a3f20539-86f3-4c0d-ac02-6d3159836533",
   "metadata": {
    "tags": []
   },
   "outputs": [],
   "source": [
    "# 14. Dự báo 30, 60, 90 ngày tiếp theo\n",
    "forecast_30 = forecast_days(30)\n",
    "forecast_60 = forecast_days(60)\n",
    "forecast_90 = forecast_days(90)"
   ]
  },
  {
   "cell_type": "code",
   "execution_count": 33,
   "id": "e3ed23dc-59fe-4c17-aed7-762004a4dc86",
   "metadata": {
    "tags": []
   },
   "outputs": [
    {
     "name": "stdout",
     "output_type": "stream",
     "text": [
      "Dự báo cho 30 ngày tiếp theo: [[0.1369386464357376], [0.12960375845432281], [0.12638765573501587], [0.12131227552890778], [0.11455653607845306], [0.10576978325843811], [0.09770975261926651], [0.0902801901102066], [0.07836122065782547], [0.06707409769296646], [0.05592988058924675], [0.0478176511824131], [0.04036945477128029], [0.03251414746046066], [0.025129009038209915], [0.01662556827068329], [0.011201231740415096], [0.0023939600214362144], [-0.006722102873027325], [-0.016936857253313065], [-0.02824617549777031], [-0.03898440673947334], [-0.04703626036643982], [-0.05582858622074127], [-0.06527654081583023], [-0.07296103239059448], [-0.0788235068321228], [-0.08460235595703125], [-0.09201221913099289], [-0.0991441085934639]]\n"
     ]
    }
   ],
   "source": [
    "# 15. In ra dự đoán cho 30 ngày tiếp theo\n",
    "print(\"Dự báo cho 30 ngày tiếp theo:\", forecast_30)"
   ]
  },
  {
   "cell_type": "code",
   "execution_count": 34,
   "id": "fbbbde1a-59a7-40bd-a4f7-cf5d05e1cda2",
   "metadata": {
    "tags": []
   },
   "outputs": [
    {
     "name": "stdout",
     "output_type": "stream",
     "text": [
      "Dự báo cho 60 ngày tiếp theo: [[0.1369386464357376], [0.12960375845432281], [0.12638765573501587], [0.12131227552890778], [0.11455653607845306], [0.10576978325843811], [0.09770975261926651], [0.0902801901102066], [0.07836122065782547], [0.06707409769296646], [0.05592988058924675], [0.0478176511824131], [0.04036945477128029], [0.03251414746046066], [0.025129009038209915], [0.01662556827068329], [0.011201231740415096], [0.0023939600214362144], [-0.006722102873027325], [-0.016936857253313065], [-0.02824617549777031], [-0.03898440673947334], [-0.04703626036643982], [-0.05582858622074127], [-0.06527654081583023], [-0.07296103239059448], [-0.0788235068321228], [-0.08460235595703125], [-0.09201221913099289], [-0.0991441085934639], [-0.10522289574146271], [-0.1112540066242218], [-0.11687594652175903], [-0.12389621138572693], [-0.12923935055732727], [-0.13551844656467438], [-0.1417602002620697], [-0.1462237387895584], [-0.1510416567325592], [-0.1565764844417572], [-0.1613364815711975], [-0.16443535685539246], [-0.16686466336250305], [-0.16987816989421844], [-0.17191563546657562], [-0.174712672829628], [-0.1757444590330124], [-0.17779141664505005], [-0.18101464211940765], [-0.18378232419490814], [-0.18661583960056305], [-0.1893337070941925], [-0.1920182853937149], [-0.19361796975135803], [-0.19619783759117126], [-0.19833344221115112], [-0.19969946146011353], [-0.20141956210136414], [-0.20231004059314728], [-0.2046380490064621]]\n"
     ]
    }
   ],
   "source": [
    "# 15. In ra dự đoán cho 60 ngày tiếp theo\n",
    "print(\"Dự báo cho 60 ngày tiếp theo:\", forecast_60)"
   ]
  },
  {
   "cell_type": "code",
   "execution_count": 35,
   "id": "09bec281-2bd7-4939-9482-db139601dec3",
   "metadata": {
    "tags": []
   },
   "outputs": [
    {
     "name": "stdout",
     "output_type": "stream",
     "text": [
      "Dự báo cho 90 ngày tiếp theo: [[0.1369386464357376], [0.12960375845432281], [0.12638765573501587], [0.12131227552890778], [0.11455653607845306], [0.10576978325843811], [0.09770975261926651], [0.0902801901102066], [0.07836122065782547], [0.06707409769296646], [0.05592988058924675], [0.0478176511824131], [0.04036945477128029], [0.03251414746046066], [0.025129009038209915], [0.01662556827068329], [0.011201231740415096], [0.0023939600214362144], [-0.006722102873027325], [-0.016936857253313065], [-0.02824617549777031], [-0.03898440673947334], [-0.04703626036643982], [-0.05582858622074127], [-0.06527654081583023], [-0.07296103239059448], [-0.0788235068321228], [-0.08460235595703125], [-0.09201221913099289], [-0.0991441085934639], [-0.10522289574146271], [-0.1112540066242218], [-0.11687594652175903], [-0.12389621138572693], [-0.12923935055732727], [-0.13551844656467438], [-0.1417602002620697], [-0.1462237387895584], [-0.1510416567325592], [-0.1565764844417572], [-0.1613364815711975], [-0.16443535685539246], [-0.16686466336250305], [-0.16987816989421844], [-0.17191563546657562], [-0.174712672829628], [-0.1757444590330124], [-0.17779141664505005], [-0.18101464211940765], [-0.18378232419490814], [-0.18661583960056305], [-0.1893337070941925], [-0.1920182853937149], [-0.19361796975135803], [-0.19619783759117126], [-0.19833344221115112], [-0.19969946146011353], [-0.20141956210136414], [-0.20231004059314728], [-0.2046380490064621], [-0.20619821548461914], [-0.2070322334766388], [-0.20807282626628876], [-0.2088361382484436], [-0.21054191887378693], [-0.2110869139432907], [-0.2122715711593628], [-0.21281073987483978], [-0.2139967381954193], [-0.21499280631542206], [-0.21555495262145996], [-0.21622543036937714], [-0.2160813808441162], [-0.21636559069156647], [-0.21663211286067963], [-0.2171955555677414], [-0.21761691570281982], [-0.21769993007183075], [-0.21849645674228668], [-0.21943628787994385], [-0.22048649191856384], [-0.22059303522109985], [-0.22094890475273132], [-0.22174979746341705], [-0.22211803495883942], [-0.2227339893579483], [-0.22286169230937958], [-0.22323636710643768], [-0.22364948689937592], [-0.22435608506202698]]\n"
     ]
    }
   ],
   "source": [
    "# 15. In ra dự đoán cho 90 ngày tiếp theo\n",
    "print(\"Dự báo cho 90 ngày tiếp theo:\", forecast_90)"
   ]
  },
  {
   "cell_type": "code",
   "execution_count": 36,
   "id": "1a2ee735-ad92-4ff0-a51f-7fa1da4773fc",
   "metadata": {
    "tags": []
   },
   "outputs": [
    {
     "data": {
      "image/png": "[encoded data removed]",
      "text/plain": [
       "<Figure size 640x480 with 1 Axes>"
      ]
     },
     "metadata": {},
     "output_type": "display_data"
    }
   ],
   "source": [
    "# 16. Vẽ hình\n",
    "\n",
    "# Vẽ dữ liệu kiểm tra\n",
    "test_data_index = pd.RangeIndex(start=train_size, stop=train_size + test_size)\n",
    "plt.plot(test_data_index, scaler.inverse_transform(test_data), label='Test Data')\n",
    "\n",
    "\n",
    "# Vẽ dữ liệu dự đoán\n",
    "plt.plot(np.arange(train_size, train_size + len(y_pred)), y_pred, label='Predicted')\n",
    "\n",
    "# Vẽ dự báo 90, 60, 30 ngày\n",
    "plt.plot(np.arange(train_size + len(test_data), train_size + len(test_data) + len(forecast_90)), scaler.inverse_transform(forecast_90), label='Forecast 90 days')\n",
    "plt.plot(np.arange(train_size + len(test_data), train_size + len(test_data) + len(forecast_60)), scaler.inverse_transform(forecast_60), label='Forecast 60 days')\n",
    "plt.plot(np.arange(train_size + len(test_data), train_size + len(test_data) + len(forecast_30)), scaler.inverse_transform(forecast_30), label='Forecast 30 days')\n",
    "\n",
    "plt.title('RNN - ADA Stock Price - Forecast 30, 60, 90 days')\n",
    "plt.legend()\n",
    "plt.xlabel('Day')\n",
    "plt.ylabel('Price')\n",
    "plt.show()"
   ]
  }
 ],
 "metadata": {
  "kernelspec": {
   "display_name": "Python 3 (ipykernel)",
   "language": "python",
   "name": "python3"
  },
  "language_info": {
   "codemirror_mode": {
    "name": "ipython",
    "version": 3
   },
   "file_extension": ".py",
   "mimetype": "text/x-python",
   "name": "python",
   "nbconvert_exporter": "python",
   "pygments_lexer": "ipython3",
   "version": "3.10.8"
  }
 },
 "nbformat": 4,
 "nbformat_minor": 5
}
