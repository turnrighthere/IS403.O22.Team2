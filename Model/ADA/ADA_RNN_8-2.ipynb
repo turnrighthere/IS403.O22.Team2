{
 "cells": [
  {
   "cell_type": "code",
   "execution_count": 1,
   "id": "26fdc348-5b74-4d88-a3dc-48da4d735e10",
   "metadata": {
    "tags": []
   },
   "outputs": [],
   "source": [
    "# 1. Import thư viện cần thiết\n",
    "import numpy as np\n",
    "import pandas as pd\n",
    "import matplotlib.pyplot as plt\n",
    "from sklearn.preprocessing import MinMaxScaler\n",
    "from keras.models import Sequential\n",
    "from keras.layers import Dense, SimpleRNN"
   ]
  },
  {
   "cell_type": "code",
   "execution_count": 2,
   "id": "a1081418-67c4-4366-9320-98d0255b8a87",
   "metadata": {
    "tags": []
   },
   "outputs": [
    {
     "name": "stdout",
     "output_type": "stream",
     "text": [
      "<class 'pandas.core.frame.DataFrame'>\n",
      "RangeIndex: 2285 entries, 0 to 2284\n",
      "Data columns (total 7 columns):\n",
      " #   Column     Non-Null Count  Dtype  \n",
      "---  ------     --------------  -----  \n",
      " 0   Date       2285 non-null   object \n",
      " 1   Open       2285 non-null   float64\n",
      " 2   High       2285 non-null   float64\n",
      " 3   Low        2285 non-null   float64\n",
      " 4   Price      2285 non-null   float64\n",
      " 5   Adj Close  2285 non-null   float64\n",
      " 6   Volume     2285 non-null   int64  \n",
      "dtypes: float64(5), int64(1), object(1)\n",
      "memory usage: 125.1+ KB\n"
     ]
    }
   ],
   "source": [
    "# 2. Đọc file csv và gắn index với giá Price\n",
    "df = pd.read_csv('pre_ADA-USD.csv')\n",
    "df = df.rename(columns={'Close': 'Price'})\n",
    "df1 = df.reset_index()['Price']\n",
    "df.info()"
   ]
  },
  {
   "cell_type": "code",
   "execution_count": 3,
   "id": "60ab42f9-e719-4186-ada8-ba47f31ad5a7",
   "metadata": {
    "tags": []
   },
   "outputs": [],
   "source": [
    "# 3. Scaler data\n",
    "scaler = MinMaxScaler(feature_range=(0, 1))\n",
    "df1 = scaler.fit_transform(np.array(df1).reshape(-1, 1))"
   ]
  },
  {
   "cell_type": "code",
   "execution_count": 4,
   "id": "5cc5eeb5-d78f-4ef1-87eb-4359c768e0d6",
   "metadata": {
    "tags": []
   },
   "outputs": [
    {
     "name": "stdout",
     "output_type": "stream",
     "text": [
      "Train shape: (1828, 1)\n",
      "Test shape: (457, 1)\n"
     ]
    }
   ],
   "source": [
    "# 4. Chia train test 8 - 2\n",
    "train_size = int(0.8 * len(df1))\n",
    "test_size = len(df1) - train_size\n",
    "\n",
    "# Lấy dữ liệu train và test\n",
    "train_data = df1[:train_size]\n",
    "test_data = df1[train_size:]\n",
    "\n",
    "print(\"Train shape:\", train_data.shape)\n",
    "print(\"Test shape:\", test_data.shape)"
   ]
  },
  {
   "cell_type": "code",
   "execution_count": 5,
   "id": "f9148ab3-7d6f-4b1f-ab40-c832747c52be",
   "metadata": {
    "tags": []
   },
   "outputs": [],
   "source": [
    "# 5. Hàm Create Dataset\n",
    "import numpy\n",
    "# convert an array of values into a dataset matrix\n",
    "def create_dataset(dataset, time_step=1):\n",
    "\tdataX, dataY = [], []\n",
    "\tfor i in range(len(dataset)-time_step-1):\n",
    "\t\ta = dataset[i:(i+time_step), 0]   ###i=0, X=0,1,2,3-----99   Y=100 \n",
    "\t\tdataX.append(a)\n",
    "\t\tdataY.append(dataset[i + time_step, 0])\n",
    "\treturn numpy.array(dataX), numpy.array(dataY)"
   ]
  },
  {
   "cell_type": "code",
   "execution_count": 6,
   "id": "72cc4c30-465a-4cab-8356-3baef4e1fa61",
   "metadata": {
    "tags": []
   },
   "outputs": [],
   "source": [
    "# 6. Reshape into X=t,t+1,t+2..t+99 and Y=t+100\n",
    "time_step = 100\n",
    "X_train, y_train = create_dataset(train_data, time_step)\n",
    "X_test, ytest = create_dataset(test_data, time_step)"
   ]
  },
  {
   "cell_type": "code",
   "execution_count": 7,
   "id": "ea53b5fc-9693-41c0-94d4-433f02119225",
   "metadata": {
    "tags": []
   },
   "outputs": [],
   "source": [
    "# 7. Reshape input to be [samples, time steps, features] which is required for LSTM\n",
    "X_train = X_train.reshape(X_train.shape[0], X_train.shape[1], 1)\n",
    "X_test = X_test.reshape(X_test.shape[0], X_test.shape[1], 1)"
   ]
  },
  {
   "cell_type": "code",
   "execution_count": 8,
   "id": "15bfe900-abe3-40da-8cba-618fcf530d43",
   "metadata": {
    "tags": []
   },
   "outputs": [],
   "source": [
    "# 8. Define RNN Model\n",
    "model = Sequential()\n",
    "model.add(SimpleRNN(50, input_shape=(time_step, 1)))\n",
    "model.add(Dense(1))\n",
    "model.compile(loss='mean_squared_error', optimizer='adam')"
   ]
  },
  {
   "cell_type": "code",
   "execution_count": 9,
   "id": "cc691626-b5f4-467f-a47b-0c07f204f045",
   "metadata": {
    "tags": []
   },
   "outputs": [
    {
     "name": "stdout",
     "output_type": "stream",
     "text": [
      "Epoch 1/100\n",
      "27/27 [==============================] - 2s 25ms/step - loss: 0.0038 - val_loss: 5.6754e-04\n",
      "Epoch 2/100\n",
      "27/27 [==============================] - 0s 16ms/step - loss: 8.1894e-04 - val_loss: 2.7864e-04\n",
      "Epoch 3/100\n",
      "27/27 [==============================] - 0s 16ms/step - loss: 6.5751e-04 - val_loss: 1.8870e-04\n",
      "Epoch 4/100\n",
      "27/27 [==============================] - 0s 18ms/step - loss: 5.3587e-04 - val_loss: 1.1621e-04\n",
      "Epoch 5/100\n",
      "27/27 [==============================] - 0s 17ms/step - loss: 5.0759e-04 - val_loss: 1.8034e-04\n",
      "Epoch 6/100\n",
      "27/27 [==============================] - 0s 16ms/step - loss: 4.6316e-04 - val_loss: 9.2495e-05\n",
      "Epoch 7/100\n",
      "27/27 [==============================] - 0s 15ms/step - loss: 4.5631e-04 - val_loss: 1.1823e-04\n",
      "Epoch 8/100\n",
      "27/27 [==============================] - 0s 15ms/step - loss: 4.2274e-04 - val_loss: 8.1977e-05\n",
      "Epoch 9/100\n",
      "27/27 [==============================] - 0s 15ms/step - loss: 3.9072e-04 - val_loss: 8.8563e-05\n",
      "Epoch 10/100\n",
      "27/27 [==============================] - 0s 15ms/step - loss: 3.8788e-04 - val_loss: 8.5963e-05\n",
      "Epoch 11/100\n",
      "27/27 [==============================] - 0s 15ms/step - loss: 3.9709e-04 - val_loss: 9.2664e-05\n",
      "Epoch 12/100\n",
      "27/27 [==============================] - 0s 15ms/step - loss: 3.7062e-04 - val_loss: 8.2120e-05\n",
      "Epoch 13/100\n",
      "27/27 [==============================] - 0s 15ms/step - loss: 3.4700e-04 - val_loss: 7.2694e-05\n",
      "Epoch 14/100\n",
      "27/27 [==============================] - 1s 20ms/step - loss: 3.4945e-04 - val_loss: 9.2955e-05\n",
      "Epoch 15/100\n",
      "27/27 [==============================] - 0s 18ms/step - loss: 3.2908e-04 - val_loss: 8.1386e-05\n",
      "Epoch 16/100\n",
      "27/27 [==============================] - 0s 15ms/step - loss: 3.2656e-04 - val_loss: 8.7406e-05\n",
      "Epoch 17/100\n",
      "27/27 [==============================] - 0s 15ms/step - loss: 3.2343e-04 - val_loss: 7.8309e-05\n",
      "Epoch 18/100\n",
      "27/27 [==============================] - 0s 15ms/step - loss: 3.1397e-04 - val_loss: 9.5696e-05\n",
      "Epoch 19/100\n",
      "27/27 [==============================] - 0s 15ms/step - loss: 3.4492e-04 - val_loss: 1.4313e-04\n",
      "Epoch 20/100\n",
      "27/27 [==============================] - 0s 15ms/step - loss: 3.1305e-04 - val_loss: 6.5016e-05\n",
      "Epoch 21/100\n",
      "27/27 [==============================] - 0s 16ms/step - loss: 3.4089e-04 - val_loss: 1.4748e-04\n",
      "Epoch 22/100\n",
      "27/27 [==============================] - 0s 15ms/step - loss: 3.2291e-04 - val_loss: 1.2331e-04\n",
      "Epoch 23/100\n",
      "27/27 [==============================] - 0s 15ms/step - loss: 3.3183e-04 - val_loss: 8.6408e-05\n",
      "Epoch 24/100\n",
      "27/27 [==============================] - 0s 15ms/step - loss: 3.0755e-04 - val_loss: 7.2719e-05\n",
      "Epoch 25/100\n",
      "27/27 [==============================] - 0s 15ms/step - loss: 3.0942e-04 - val_loss: 1.4266e-04\n",
      "Epoch 26/100\n",
      "27/27 [==============================] - 0s 15ms/step - loss: 3.3293e-04 - val_loss: 7.8036e-05\n",
      "Epoch 27/100\n",
      "27/27 [==============================] - 0s 15ms/step - loss: 2.9387e-04 - val_loss: 9.0336e-05\n",
      "Epoch 28/100\n",
      "27/27 [==============================] - 0s 15ms/step - loss: 3.4373e-04 - val_loss: 1.1188e-04\n",
      "Epoch 29/100\n",
      "27/27 [==============================] - 0s 16ms/step - loss: 3.5024e-04 - val_loss: 6.3548e-05\n",
      "Epoch 30/100\n",
      "27/27 [==============================] - 0s 16ms/step - loss: 2.9207e-04 - val_loss: 5.5947e-05\n",
      "Epoch 31/100\n",
      "27/27 [==============================] - 0s 17ms/step - loss: 2.8531e-04 - val_loss: 1.0393e-04\n",
      "Epoch 32/100\n",
      "27/27 [==============================] - 0s 18ms/step - loss: 2.8085e-04 - val_loss: 6.2432e-05\n",
      "Epoch 33/100\n",
      "27/27 [==============================] - 0s 16ms/step - loss: 2.8537e-04 - val_loss: 5.7752e-05\n",
      "Epoch 34/100\n",
      "27/27 [==============================] - 0s 16ms/step - loss: 2.7668e-04 - val_loss: 6.1712e-05\n",
      "Epoch 35/100\n",
      "27/27 [==============================] - 0s 16ms/step - loss: 2.8893e-04 - val_loss: 7.1650e-05\n",
      "Epoch 36/100\n",
      "27/27 [==============================] - 0s 16ms/step - loss: 2.9797e-04 - val_loss: 6.3300e-05\n",
      "Epoch 37/100\n",
      "27/27 [==============================] - 0s 16ms/step - loss: 2.6970e-04 - val_loss: 5.7972e-05\n",
      "Epoch 38/100\n",
      "27/27 [==============================] - 0s 16ms/step - loss: 2.7081e-04 - val_loss: 5.5259e-05\n",
      "Epoch 39/100\n",
      "27/27 [==============================] - 0s 16ms/step - loss: 2.6727e-04 - val_loss: 5.3352e-05\n",
      "Epoch 40/100\n",
      "27/27 [==============================] - 0s 17ms/step - loss: 3.1047e-04 - val_loss: 6.3001e-05\n",
      "Epoch 41/100\n",
      "27/27 [==============================] - 0s 15ms/step - loss: 2.7524e-04 - val_loss: 9.1834e-05\n",
      "Epoch 42/100\n",
      "27/27 [==============================] - 0s 15ms/step - loss: 2.8908e-04 - val_loss: 6.8242e-05\n",
      "Epoch 43/100\n",
      "27/27 [==============================] - 0s 15ms/step - loss: 2.7997e-04 - val_loss: 5.4390e-05\n",
      "Epoch 44/100\n",
      "27/27 [==============================] - 1s 22ms/step - loss: 2.5985e-04 - val_loss: 5.6548e-05\n",
      "Epoch 45/100\n",
      "27/27 [==============================] - 0s 15ms/step - loss: 2.9118e-04 - val_loss: 6.5175e-05\n",
      "Epoch 46/100\n",
      "27/27 [==============================] - 0s 15ms/step - loss: 2.7689e-04 - val_loss: 5.4757e-05\n",
      "Epoch 47/100\n",
      "27/27 [==============================] - 0s 15ms/step - loss: 2.8897e-04 - val_loss: 5.2249e-05\n",
      "Epoch 48/100\n",
      "27/27 [==============================] - 0s 15ms/step - loss: 2.7965e-04 - val_loss: 5.7847e-05\n",
      "Epoch 49/100\n",
      "27/27 [==============================] - 0s 15ms/step - loss: 2.6203e-04 - val_loss: 7.8836e-05\n",
      "Epoch 50/100\n",
      "27/27 [==============================] - 0s 14ms/step - loss: 2.5777e-04 - val_loss: 5.2141e-05\n",
      "Epoch 51/100\n",
      "27/27 [==============================] - 0s 15ms/step - loss: 2.6911e-04 - val_loss: 5.4289e-05\n",
      "Epoch 52/100\n",
      "27/27 [==============================] - 0s 16ms/step - loss: 2.7487e-04 - val_loss: 5.2731e-05\n",
      "Epoch 53/100\n",
      "27/27 [==============================] - 0s 15ms/step - loss: 2.5966e-04 - val_loss: 5.3342e-05\n",
      "Epoch 54/100\n",
      "27/27 [==============================] - 0s 15ms/step - loss: 2.5771e-04 - val_loss: 5.4699e-05\n",
      "Epoch 55/100\n",
      "27/27 [==============================] - 0s 15ms/step - loss: 2.7238e-04 - val_loss: 6.1977e-05\n",
      "Epoch 56/100\n",
      "27/27 [==============================] - 0s 15ms/step - loss: 2.5461e-04 - val_loss: 6.0542e-05\n",
      "Epoch 57/100\n",
      "27/27 [==============================] - 0s 15ms/step - loss: 2.5826e-04 - val_loss: 5.1255e-05\n",
      "Epoch 58/100\n",
      "27/27 [==============================] - 0s 15ms/step - loss: 2.6436e-04 - val_loss: 9.2086e-05\n",
      "Epoch 59/100\n",
      "27/27 [==============================] - 0s 15ms/step - loss: 2.6937e-04 - val_loss: 5.3977e-05\n",
      "Epoch 60/100\n",
      "27/27 [==============================] - 0s 15ms/step - loss: 2.6181e-04 - val_loss: 5.7961e-05\n",
      "Epoch 61/100\n",
      "27/27 [==============================] - 0s 16ms/step - loss: 2.7741e-04 - val_loss: 5.2278e-05\n",
      "Epoch 62/100\n",
      "27/27 [==============================] - 0s 15ms/step - loss: 2.5530e-04 - val_loss: 1.7551e-04\n",
      "Epoch 63/100\n",
      "27/27 [==============================] - 0s 15ms/step - loss: 3.5374e-04 - val_loss: 6.3945e-05\n",
      "Epoch 64/100\n",
      "27/27 [==============================] - 0s 15ms/step - loss: 2.5523e-04 - val_loss: 5.2021e-05\n",
      "Epoch 65/100\n",
      "27/27 [==============================] - 0s 15ms/step - loss: 2.5344e-04 - val_loss: 5.4604e-05\n",
      "Epoch 66/100\n",
      "27/27 [==============================] - 0s 15ms/step - loss: 2.5230e-04 - val_loss: 6.8598e-05\n",
      "Epoch 67/100\n",
      "27/27 [==============================] - 0s 16ms/step - loss: 2.5925e-04 - val_loss: 6.7794e-05\n",
      "Epoch 68/100\n",
      "27/27 [==============================] - 0s 16ms/step - loss: 2.7377e-04 - val_loss: 5.2624e-05\n",
      "Epoch 69/100\n",
      "27/27 [==============================] - 0s 16ms/step - loss: 2.6264e-04 - val_loss: 8.8531e-05\n",
      "Epoch 70/100\n",
      "27/27 [==============================] - 0s 15ms/step - loss: 2.5535e-04 - val_loss: 5.3969e-05\n",
      "Epoch 71/100\n",
      "27/27 [==============================] - 1s 24ms/step - loss: 2.5068e-04 - val_loss: 6.2047e-05\n",
      "Epoch 72/100\n",
      "27/27 [==============================] - 0s 16ms/step - loss: 2.7673e-04 - val_loss: 6.8471e-05\n",
      "Epoch 73/100\n",
      "27/27 [==============================] - 0s 15ms/step - loss: 2.5648e-04 - val_loss: 5.7774e-05\n",
      "Epoch 74/100\n",
      "27/27 [==============================] - 0s 15ms/step - loss: 2.6225e-04 - val_loss: 5.5743e-05\n",
      "Epoch 75/100\n",
      "27/27 [==============================] - 0s 15ms/step - loss: 2.4725e-04 - val_loss: 5.5969e-05\n",
      "Epoch 76/100\n",
      "27/27 [==============================] - 0s 16ms/step - loss: 2.5091e-04 - val_loss: 5.8554e-05\n",
      "Epoch 77/100\n",
      "27/27 [==============================] - 0s 16ms/step - loss: 2.6252e-04 - val_loss: 5.9577e-05\n",
      "Epoch 78/100\n",
      "27/27 [==============================] - 0s 15ms/step - loss: 2.7890e-04 - val_loss: 5.2276e-05\n",
      "Epoch 79/100\n",
      "27/27 [==============================] - 0s 16ms/step - loss: 2.6713e-04 - val_loss: 5.2964e-05\n",
      "Epoch 80/100\n",
      "27/27 [==============================] - 0s 15ms/step - loss: 2.6172e-04 - val_loss: 5.4744e-05\n",
      "Epoch 81/100\n",
      "27/27 [==============================] - 0s 15ms/step - loss: 2.8418e-04 - val_loss: 9.1415e-05\n",
      "Epoch 82/100\n",
      "27/27 [==============================] - 0s 15ms/step - loss: 2.5166e-04 - val_loss: 5.2585e-05\n",
      "Epoch 83/100\n",
      "27/27 [==============================] - 0s 16ms/step - loss: 2.5560e-04 - val_loss: 7.0375e-05\n",
      "Epoch 84/100\n",
      "27/27 [==============================] - 0s 15ms/step - loss: 2.5882e-04 - val_loss: 5.1684e-05\n",
      "Epoch 85/100\n",
      "27/27 [==============================] - 0s 15ms/step - loss: 2.7709e-04 - val_loss: 7.2507e-05\n",
      "Epoch 86/100\n",
      "27/27 [==============================] - 0s 15ms/step - loss: 2.6110e-04 - val_loss: 5.9388e-05\n",
      "Epoch 87/100\n",
      "27/27 [==============================] - 0s 16ms/step - loss: 2.4944e-04 - val_loss: 7.6165e-05\n",
      "Epoch 88/100\n",
      "27/27 [==============================] - 0s 15ms/step - loss: 2.6057e-04 - val_loss: 7.5100e-05\n",
      "Epoch 89/100\n",
      "27/27 [==============================] - 0s 15ms/step - loss: 2.8388e-04 - val_loss: 7.3305e-05\n",
      "Epoch 90/100\n",
      "27/27 [==============================] - 0s 16ms/step - loss: 2.5996e-04 - val_loss: 8.2150e-05\n",
      "Epoch 91/100\n",
      "27/27 [==============================] - 0s 16ms/step - loss: 2.6429e-04 - val_loss: 5.2463e-05\n",
      "Epoch 92/100\n",
      "27/27 [==============================] - 0s 15ms/step - loss: 2.5613e-04 - val_loss: 1.0520e-04\n",
      "Epoch 93/100\n",
      "27/27 [==============================] - 0s 16ms/step - loss: 2.6428e-04 - val_loss: 6.4118e-05\n",
      "Epoch 94/100\n",
      "27/27 [==============================] - 0s 16ms/step - loss: 2.5461e-04 - val_loss: 5.2851e-05\n",
      "Epoch 95/100\n",
      "27/27 [==============================] - 0s 15ms/step - loss: 2.5469e-04 - val_loss: 5.9064e-05\n",
      "Epoch 96/100\n",
      "27/27 [==============================] - 0s 15ms/step - loss: 2.5316e-04 - val_loss: 6.4482e-05\n",
      "Epoch 97/100\n",
      "27/27 [==============================] - 0s 15ms/step - loss: 2.5115e-04 - val_loss: 5.2658e-05\n",
      "Epoch 98/100\n",
      "27/27 [==============================] - 0s 15ms/step - loss: 2.6238e-04 - val_loss: 5.2678e-05\n",
      "Epoch 99/100\n",
      "27/27 [==============================] - 0s 15ms/step - loss: 2.5563e-04 - val_loss: 5.4472e-05\n",
      "Epoch 100/100\n",
      "27/27 [==============================] - 0s 16ms/step - loss: 2.6750e-04 - val_loss: 7.0066e-05\n"
     ]
    },
    {
     "data": {
      "text/plain": [
       "<keras.callbacks.History at 0x22173e32c20>"
      ]
     },
     "execution_count": 9,
     "metadata": {},
     "output_type": "execute_result"
    }
   ],
   "source": [
    "# 9. Fit mô hình với dữ liệu train\n",
    "model.fit(X_train, y_train, validation_data=(X_test, ytest), epochs=100, batch_size=64, verbose=1)"
   ]
  },
  {
   "cell_type": "code",
   "execution_count": 10,
   "id": "c55c37b5-5b6b-4482-8ef1-63d82cd60fae",
   "metadata": {
    "tags": []
   },
   "outputs": [
    {
     "name": "stdout",
     "output_type": "stream",
     "text": [
      "54/54 [==============================] - 0s 5ms/step\n",
      "12/12 [==============================] - 0s 5ms/step\n"
     ]
    }
   ],
   "source": [
    "# 10. Dự báo dữ liệu test\n",
    "train_predict = model.predict(X_train)\n",
    "y_pred = model.predict(X_test)"
   ]
  },
  {
   "cell_type": "code",
   "execution_count": 11,
   "id": "e1ef089c-abd2-4072-9177-25ff22485fa8",
   "metadata": {
    "tags": []
   },
   "outputs": [],
   "source": [
    "# 11. Chuẩn hóa dữ liệu y_pred\n",
    "train_predict = scaler.inverse_transform(train_predict)\n",
    "y_pred = scaler.inverse_transform(y_pred)"
   ]
  },
  {
   "cell_type": "code",
   "execution_count": 12,
   "id": "6c14ba0c-354e-4514-a7ed-98b43cbcc1f9",
   "metadata": {
    "tags": []
   },
   "outputs": [
    {
     "name": "stdout",
     "output_type": "stream",
     "text": [
      "Mean Absolute Error (MAE): 0.27700955207389505\n",
      "Mean Absolute Percentage Error (MAPE): 204.37764897284808\n",
      "Root Mean Square Error (RMSE): 0.29437855418705366\n"
     ]
    }
   ],
   "source": [
    "# 12. Tính RMSE, MAPE, MAE\n",
    "from sklearn.metrics import mean_absolute_error, mean_squared_error, mean_absolute_percentage_error\n",
    "\n",
    "mae = mean_absolute_error(ytest, y_pred)\n",
    "mape = mean_absolute_percentage_error(ytest, y_pred)\n",
    "rmse = np.sqrt(mean_squared_error(ytest, y_pred))\n",
    "\n",
    "print(\"Mean Absolute Error (MAE):\", mae)\n",
    "print(\"Mean Absolute Percentage Error (MAPE):\", mape * 100)\n",
    "print(\"Root Mean Square Error (RMSE):\", rmse)"
   ]
  },
  {
   "cell_type": "code",
   "execution_count": 13,
   "id": "a858ddd6-d663-47e2-b024-95e269c52c71",
   "metadata": {
    "tags": []
   },
   "outputs": [],
   "source": [
    "# 13. Hàm dự báo\n",
    "def forecast_days(n_days):\n",
    "    x_input = test_data[-100:].reshape(1, -1)\n",
    "    temp_input = list(x_input[0])\n",
    "\n",
    "    lst_output = []\n",
    "    i = 0\n",
    "    while i < n_days:\n",
    "        if len(temp_input) > 100:\n",
    "            x_input = np.array(temp_input[1:])\n",
    "            x_input = x_input.reshape(1, -1)\n",
    "            x_input = x_input.reshape((1, time_step, 1))\n",
    "            yhat = model.predict(x_input, verbose=0)\n",
    "            temp_input.extend(yhat[0].tolist())\n",
    "            temp_input = temp_input[1:]\n",
    "            lst_output.extend(yhat.tolist())\n",
    "            i += 1\n",
    "        else:\n",
    "            x_input = x_input.reshape((1, time_step, 1))\n",
    "            yhat = model.predict(x_input, verbose=0)\n",
    "            temp_input.extend(yhat[0].tolist())\n",
    "            lst_output.extend(yhat.tolist())\n",
    "            i += 1\n",
    "    return lst_output"
   ]
  },
  {
   "cell_type": "code",
   "execution_count": 14,
   "id": "a3f20539-86f3-4c0d-ac02-6d3159836533",
   "metadata": {
    "tags": []
   },
   "outputs": [],
   "source": [
    "# 14. Dự báo 30, 60, 90 ngày tiếp theo\n",
    "forecast_30 = forecast_days(30)\n",
    "forecast_60 = forecast_days(60)\n",
    "forecast_90 = forecast_days(90)"
   ]
  },
  {
   "cell_type": "code",
   "execution_count": 15,
   "id": "e3ed23dc-59fe-4c17-aed7-762004a4dc86",
   "metadata": {
    "tags": []
   },
   "outputs": [
    {
     "name": "stdout",
     "output_type": "stream",
     "text": [
      "Dự báo cho 30 ngày tiếp theo: [[0.14046920835971832], [0.13724274933338165], [0.13486112654209137], [0.13355478644371033], [0.13278637826442719], [0.12466207146644592], [0.11594925820827484], [0.10576464980840683], [0.09362570196390152], [0.08397226780653], [0.07544688880443573], [0.07177374511957169], [0.06751612573862076], [0.06329779326915741], [0.05701151490211487], [0.051933035254478455], [0.044608257710933685], [0.036074135452508926], [0.02491319365799427], [0.010229776613414288], [-0.0008293865248560905], [-0.011099161580204964], [-0.015299508348107338], [-0.021827947348356247], [-0.030316641554236412], [-0.04057725518941879], [-0.04994833469390869], [-0.05775192379951477], [-0.06802298873662949], [-0.07679707556962967]]\n"
     ]
    }
   ],
   "source": [
    "# 15. In ra dự đoán cho 30 ngày tiếp theo\n",
    "print(\"Dự báo cho 30 ngày tiếp theo:\", forecast_30)"
   ]
  },
  {
   "cell_type": "code",
   "execution_count": 16,
   "id": "fbbbde1a-59a7-40bd-a4f7-cf5d05e1cda2",
   "metadata": {
    "tags": []
   },
   "outputs": [
    {
     "name": "stdout",
     "output_type": "stream",
     "text": [
      "Dự báo cho 60 ngày tiếp theo: [[0.14046920835971832], [0.13724274933338165], [0.13486112654209137], [0.13355478644371033], [0.13278637826442719], [0.12466207146644592], [0.11594925820827484], [0.10576464980840683], [0.09362570196390152], [0.08397226780653], [0.07544688880443573], [0.07177374511957169], [0.06751612573862076], [0.06329779326915741], [0.05701151490211487], [0.051933035254478455], [0.044608257710933685], [0.036074135452508926], [0.02491319365799427], [0.010229776613414288], [-0.0008293865248560905], [-0.011099161580204964], [-0.015299508348107338], [-0.021827947348356247], [-0.030316641554236412], [-0.04057725518941879], [-0.04994833469390869], [-0.05775192379951477], [-0.06802298873662949], [-0.07679707556962967], [-0.08754678815603256], [-0.09513019025325775], [-0.10263235867023468], [-0.10980743914842606], [-0.11704559624195099], [-0.12392080575227737], [-0.1358075588941574], [-0.14678746461868286], [-0.15807341039180756], [-0.16744671761989594], [-0.17311282455921173], [-0.18049731850624084], [-0.18565219640731812], [-0.1944500058889389], [-0.19959977269172668], [-0.2056610882282257], [-0.21319106221199036], [-0.22229716181755066], [-0.23330003023147583], [-0.2423413097858429], [-0.24912232160568237], [-0.2549116909503937], [-0.2598051130771637], [-0.2656288146972656], [-0.2710617780685425], [-0.2779700756072998], [-0.2840625047683716], [-0.29122674465179443], [-0.2983057498931885], [-0.3047383427619934]]\n"
     ]
    }
   ],
   "source": [
    "# 15. In ra dự đoán cho 60 ngày tiếp theo\n",
    "print(\"Dự báo cho 60 ngày tiếp theo:\", forecast_60)"
   ]
  },
  {
   "cell_type": "code",
   "execution_count": 17,
   "id": "09bec281-2bd7-4939-9482-db139601dec3",
   "metadata": {
    "tags": []
   },
   "outputs": [
    {
     "name": "stdout",
     "output_type": "stream",
     "text": [
      "Dự báo cho 90 ngày tiếp theo: [[0.14046920835971832], [0.13724274933338165], [0.13486112654209137], [0.13355478644371033], [0.13278637826442719], [0.12466207146644592], [0.11594925820827484], [0.10576464980840683], [0.09362570196390152], [0.08397226780653], [0.07544688880443573], [0.07177374511957169], [0.06751612573862076], [0.06329779326915741], [0.05701151490211487], [0.051933035254478455], [0.044608257710933685], [0.036074135452508926], [0.02491319365799427], [0.010229776613414288], [-0.0008293865248560905], [-0.011099161580204964], [-0.015299508348107338], [-0.021827947348356247], [-0.030316641554236412], [-0.04057725518941879], [-0.04994833469390869], [-0.05775192379951477], [-0.06802298873662949], [-0.07679707556962967], [-0.08754678815603256], [-0.09513019025325775], [-0.10263235867023468], [-0.10980743914842606], [-0.11704559624195099], [-0.12392080575227737], [-0.1358075588941574], [-0.14678746461868286], [-0.15807341039180756], [-0.16744671761989594], [-0.17311282455921173], [-0.18049731850624084], [-0.18565219640731812], [-0.1944500058889389], [-0.19959977269172668], [-0.2056610882282257], [-0.21319106221199036], [-0.22229716181755066], [-0.23330003023147583], [-0.2423413097858429], [-0.24912232160568237], [-0.2549116909503937], [-0.2598051130771637], [-0.2656288146972656], [-0.2710617780685425], [-0.2779700756072998], [-0.2840625047683716], [-0.29122674465179443], [-0.2983057498931885], [-0.3047383427619934], [-0.31138187646865845], [-0.31704458594322205], [-0.32125070691108704], [-0.3254238963127136], [-0.3308250308036804], [-0.33710408210754395], [-0.34502243995666504], [-0.3522392511367798], [-0.35830917954444885], [-0.36228975653648376], [-0.36600929498672485], [-0.36993899941444397], [-0.37350380420684814], [-0.3770693242549896], [-0.38117966055870056], [-0.3860831558704376], [-0.3926054537296295], [-0.39917147159576416], [-0.40527716279029846], [-0.40888798236846924], [-0.4118608236312866], [-0.4134795665740967], [-0.41567885875701904], [-0.41911429166793823], [-0.4230610132217407], [-0.42818596959114075], [-0.43302926421165466], [-0.43776169419288635], [-0.44202545285224915], [-0.4457967281341553]]\n"
     ]
    }
   ],
   "source": [
    "# 15. In ra dự đoán cho 90 ngày tiếp theo\n",
    "print(\"Dự báo cho 90 ngày tiếp theo:\", forecast_90)"
   ]
  },
  {
   "cell_type": "code",
   "execution_count": 19,
   "id": "1a2ee735-ad92-4ff0-a51f-7fa1da4773fc",
   "metadata": {
    "tags": []
   },
   "outputs": [
    {
     "data": {
      "image/png": "[encoded data removed]",
      "text/plain": [
       "<Figure size 640x480 with 1 Axes>"
      ]
     },
     "metadata": {},
     "output_type": "display_data"
    }
   ],
   "source": [
    "# 16. Vẽ hình\n",
    "\n",
    "# Vẽ dữ liệu kiểm tra\n",
    "test_data_index = pd.RangeIndex(start=train_size, stop=train_size + test_size)\n",
    "plt.plot(test_data_index, scaler.inverse_transform(test_data), label='Test Data')\n",
    "\n",
    "# Vẽ dữ liệu dự đoán\n",
    "predicted_data_index = range(train_size + 100, train_size + 100 + len(y_pred))\n",
    "plt.plot(predicted_data_index, y_pred, label='Predicted Test Data')\n",
    "\n",
    "# Vẽ dự báo 90, 60, 30 ngày\n",
    "plt.plot(np.arange(train_size + len(test_data), train_size + len(test_data) + len(forecast_90)), scaler.inverse_transform(forecast_90), label='Forecast 90 days')\n",
    "plt.plot(np.arange(train_size + len(test_data), train_size + len(test_data) + len(forecast_60)), scaler.inverse_transform(forecast_60), label='Forecast 60 days')\n",
    "plt.plot(np.arange(train_size + len(test_data), train_size + len(test_data) + len(forecast_30)), scaler.inverse_transform(forecast_30), label='Forecast 30 days')\n",
    "\n",
    "plt.title('RNN - ADA Stock Price - Forecast 30, 60, 90 days')\n",
    "plt.legend()\n",
    "plt.xlabel('Day')\n",
    "plt.ylabel('Price')\n",
    "plt.show()"
   ]
  }
 ],
 "metadata": {
  "kernelspec": {
   "display_name": "Python 3 (ipykernel)",
   "language": "python",
   "name": "python3"
  },
  "language_info": {
   "codemirror_mode": {
    "name": "ipython",
    "version": 3
   },
   "file_extension": ".py",
   "mimetype": "text/x-python",
   "name": "python",
   "nbconvert_exporter": "python",
   "pygments_lexer": "ipython3",
   "version": "3.10.8"
  }
 },
 "nbformat": 4,
 "nbformat_minor": 5
}
