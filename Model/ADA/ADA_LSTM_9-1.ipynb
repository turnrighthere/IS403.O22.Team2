{
 "cells": [
  {
   "cell_type": "code",
   "execution_count": 20,
   "id": "d6e03734-7a73-489d-9cdc-84acf78c00e5",
   "metadata": {
    "tags": []
   },
   "outputs": [],
   "source": [
    "# 1. Import thư viện cần thiết\n",
    "import numpy as np\n",
    "import pandas as pd\n",
    "import matplotlib.pyplot as plt\n",
    "from sklearn.preprocessing import MinMaxScaler\n",
    "from keras.models import Sequential\n",
    "from keras.layers import Dense, LSTM"
   ]
  },
  {
   "cell_type": "code",
   "execution_count": 21,
   "id": "07adbc1b-a1d2-41ba-b0a6-73848cc36a2e",
   "metadata": {
    "tags": []
   },
   "outputs": [
    {
     "name": "stdout",
     "output_type": "stream",
     "text": [
      "<class 'pandas.core.frame.DataFrame'>\n",
      "RangeIndex: 2285 entries, 0 to 2284\n",
      "Data columns (total 7 columns):\n",
      " #   Column     Non-Null Count  Dtype  \n",
      "---  ------     --------------  -----  \n",
      " 0   Date       2285 non-null   object \n",
      " 1   Open       2285 non-null   float64\n",
      " 2   High       2285 non-null   float64\n",
      " 3   Low        2285 non-null   float64\n",
      " 4   Price      2285 non-null   float64\n",
      " 5   Adj Close  2285 non-null   float64\n",
      " 6   Volume     2285 non-null   int64  \n",
      "dtypes: float64(5), int64(1), object(1)\n",
      "memory usage: 125.1+ KB\n"
     ]
    }
   ],
   "source": [
    "# 2. Đọc file csv và gắn index với giá Price\n",
    "df = pd.read_csv('pre_ADA-USD.csv')\n",
    "df = df.rename(columns={'Close': 'Price'})\n",
    "df1 = df.reset_index()['Price']\n",
    "df.info()"
   ]
  },
  {
   "cell_type": "code",
   "execution_count": 22,
   "id": "823c305d-3c3c-46d7-ab97-99ea957bb915",
   "metadata": {
    "tags": []
   },
   "outputs": [],
   "source": [
    "# 3. Scaler data\n",
    "scaler = MinMaxScaler(feature_range=(0, 1))\n",
    "df1 = scaler.fit_transform(np.array(df1).reshape(-1, 1))"
   ]
  },
  {
   "cell_type": "code",
   "execution_count": 23,
   "id": "3c933b12-160d-4589-bda4-f6e0541be771",
   "metadata": {
    "tags": []
   },
   "outputs": [
    {
     "name": "stdout",
     "output_type": "stream",
     "text": [
      "Train shape: (2056, 1)\n",
      "Test shape: (229, 1)\n"
     ]
    }
   ],
   "source": [
    "# 4. Chia train test 9 - 1\n",
    "train_size = int(0.9 * len(df1))\n",
    "test_size = len(df1) - train_size\n",
    "\n",
    "# Lấy dữ liệu train và test\n",
    "train_data = df1[:train_size]\n",
    "test_data = df1[train_size:]\n",
    "\n",
    "print(\"Train shape:\", train_data.shape)\n",
    "print(\"Test shape:\", test_data.shape)"
   ]
  },
  {
   "cell_type": "code",
   "execution_count": 24,
   "id": "86d16400-4b94-40f8-b6ec-13ca9fae2127",
   "metadata": {
    "tags": []
   },
   "outputs": [],
   "source": [
    "# 5. Hàm Create Dataset\n",
    "import numpy\n",
    "# convert an array of values into a dataset matrix\n",
    "def create_dataset(dataset, time_step=1):\n",
    "\tdataX, dataY = [], []\n",
    "\tfor i in range(len(dataset)-time_step-1):\n",
    "\t\ta = dataset[i:(i+time_step), 0]   ###i=0, X=0,1,2,3-----99   Y=100 \n",
    "\t\tdataX.append(a)\n",
    "\t\tdataY.append(dataset[i + time_step, 0])\n",
    "\treturn numpy.array(dataX), numpy.array(dataY)"
   ]
  },
  {
   "cell_type": "code",
   "execution_count": 25,
   "id": "139117ad-87be-44e9-b6ec-91bf365f7d9b",
   "metadata": {
    "tags": []
   },
   "outputs": [],
   "source": [
    "# 6. Reshape into X=t,t+1,t+2..t+99 and Y=t+100\n",
    "time_step = 100\n",
    "X_train, y_train = create_dataset(train_data, time_step)\n",
    "X_test, ytest = create_dataset(test_data, time_step)"
   ]
  },
  {
   "cell_type": "code",
   "execution_count": 26,
   "id": "f60d12b6-f562-48b8-99a5-d59b670f42c2",
   "metadata": {
    "tags": []
   },
   "outputs": [],
   "source": [
    "# 7. Reshape input to be [samples, time steps, features] which is required for LSTM\n",
    "X_train = X_train.reshape(X_train.shape[0], X_train.shape[1], 1)\n",
    "X_test = X_test.reshape(X_test.shape[0], X_test.shape[1], 1)"
   ]
  },
  {
   "cell_type": "code",
   "execution_count": 27,
   "id": "db87fc59-fb90-4e96-8eb0-7c65084b8ff6",
   "metadata": {
    "tags": []
   },
   "outputs": [],
   "source": [
    "# 8. Define LSTM Model\n",
    "model = Sequential()\n",
    "model.add(LSTM(50, return_sequences=True, input_shape=(100, 1)))\n",
    "model.add(LSTM(50, return_sequences=True))\n",
    "model.add(LSTM(50))\n",
    "model.add(Dense(1))\n",
    "model.compile(loss='mean_squared_error', optimizer='adam')"
   ]
  },
  {
   "cell_type": "code",
   "execution_count": 28,
   "id": "7d438015-03ba-433f-9c89-4bf4f6680ffe",
   "metadata": {
    "tags": []
   },
   "outputs": [
    {
     "name": "stdout",
     "output_type": "stream",
     "text": [
      "Epoch 1/100\n",
      "31/31 [==============================] - 12s 183ms/step - loss: 0.0069 - val_loss: 5.4218e-04\n",
      "Epoch 2/100\n",
      "31/31 [==============================] - 4s 138ms/step - loss: 0.0017 - val_loss: 6.1006e-04\n",
      "Epoch 3/100\n",
      "31/31 [==============================] - 4s 143ms/step - loss: 0.0015 - val_loss: 3.4985e-04\n",
      "Epoch 4/100\n",
      "31/31 [==============================] - 4s 141ms/step - loss: 0.0012 - val_loss: 3.1644e-04\n",
      "Epoch 5/100\n",
      "31/31 [==============================] - 4s 138ms/step - loss: 0.0011 - val_loss: 3.3649e-04\n",
      "Epoch 6/100\n",
      "31/31 [==============================] - 4s 140ms/step - loss: 9.9012e-04 - val_loss: 3.1721e-04\n",
      "Epoch 7/100\n",
      "31/31 [==============================] - 4s 138ms/step - loss: 0.0010 - val_loss: 3.1868e-04\n",
      "Epoch 8/100\n",
      "31/31 [==============================] - 4s 138ms/step - loss: 8.1428e-04 - val_loss: 3.7512e-04\n",
      "Epoch 9/100\n",
      "31/31 [==============================] - 4s 137ms/step - loss: 8.4594e-04 - val_loss: 2.7607e-04\n",
      "Epoch 10/100\n",
      "31/31 [==============================] - 4s 139ms/step - loss: 8.0111e-04 - val_loss: 3.6655e-04\n",
      "Epoch 11/100\n",
      "31/31 [==============================] - 4s 138ms/step - loss: 7.7576e-04 - val_loss: 2.4412e-04\n",
      "Epoch 12/100\n",
      "31/31 [==============================] - 4s 138ms/step - loss: 8.8885e-04 - val_loss: 6.3317e-04\n",
      "Epoch 13/100\n",
      "31/31 [==============================] - 4s 144ms/step - loss: 7.5306e-04 - val_loss: 4.1414e-04\n",
      "Epoch 14/100\n",
      "31/31 [==============================] - 4s 138ms/step - loss: 8.2785e-04 - val_loss: 2.3768e-04\n",
      "Epoch 15/100\n",
      "31/31 [==============================] - 4s 139ms/step - loss: 6.9518e-04 - val_loss: 2.3747e-04\n",
      "Epoch 16/100\n",
      "31/31 [==============================] - 4s 138ms/step - loss: 6.6327e-04 - val_loss: 2.1920e-04\n",
      "Epoch 17/100\n",
      "31/31 [==============================] - 4s 138ms/step - loss: 6.3719e-04 - val_loss: 2.2513e-04\n",
      "Epoch 18/100\n",
      "31/31 [==============================] - 4s 142ms/step - loss: 6.3552e-04 - val_loss: 2.2070e-04\n",
      "Epoch 19/100\n",
      "31/31 [==============================] - 4s 140ms/step - loss: 7.5489e-04 - val_loss: 2.9931e-04\n",
      "Epoch 20/100\n",
      "31/31 [==============================] - 5s 148ms/step - loss: 6.3359e-04 - val_loss: 2.4123e-04\n",
      "Epoch 21/100\n",
      "31/31 [==============================] - 5s 170ms/step - loss: 6.8430e-04 - val_loss: 2.1539e-04\n",
      "Epoch 22/100\n",
      "31/31 [==============================] - 5s 175ms/step - loss: 6.0293e-04 - val_loss: 3.1729e-04\n",
      "Epoch 23/100\n",
      "31/31 [==============================] - 5s 172ms/step - loss: 6.7349e-04 - val_loss: 1.9334e-04\n",
      "Epoch 24/100\n",
      "31/31 [==============================] - 5s 159ms/step - loss: 7.6771e-04 - val_loss: 2.7157e-04\n",
      "Epoch 25/100\n",
      "31/31 [==============================] - 4s 140ms/step - loss: 5.4784e-04 - val_loss: 1.8827e-04\n",
      "Epoch 26/100\n",
      "31/31 [==============================] - 4s 143ms/step - loss: 5.4291e-04 - val_loss: 1.8703e-04\n",
      "Epoch 27/100\n",
      "31/31 [==============================] - 5s 152ms/step - loss: 5.3810e-04 - val_loss: 2.0697e-04\n",
      "Epoch 28/100\n",
      "31/31 [==============================] - 5s 149ms/step - loss: 5.6883e-04 - val_loss: 1.8047e-04\n",
      "Epoch 29/100\n",
      "31/31 [==============================] - 5s 160ms/step - loss: 5.3093e-04 - val_loss: 1.8101e-04\n",
      "Epoch 30/100\n",
      "31/31 [==============================] - 5s 153ms/step - loss: 4.7321e-04 - val_loss: 1.6540e-04\n",
      "Epoch 31/100\n",
      "31/31 [==============================] - 5s 153ms/step - loss: 5.0521e-04 - val_loss: 1.6385e-04\n",
      "Epoch 32/100\n",
      "31/31 [==============================] - 5s 159ms/step - loss: 4.8960e-04 - val_loss: 2.2364e-04\n",
      "Epoch 33/100\n",
      "31/31 [==============================] - 6s 182ms/step - loss: 4.6274e-04 - val_loss: 1.9908e-04\n",
      "Epoch 34/100\n",
      "31/31 [==============================] - 5s 172ms/step - loss: 4.6445e-04 - val_loss: 2.1149e-04\n",
      "Epoch 35/100\n",
      "31/31 [==============================] - 5s 164ms/step - loss: 5.1445e-04 - val_loss: 3.3213e-04\n",
      "Epoch 36/100\n",
      "31/31 [==============================] - 5s 159ms/step - loss: 4.6513e-04 - val_loss: 1.5302e-04\n",
      "Epoch 37/100\n",
      "31/31 [==============================] - 6s 196ms/step - loss: 4.3383e-04 - val_loss: 1.4669e-04\n",
      "Epoch 38/100\n",
      "31/31 [==============================] - 5s 146ms/step - loss: 4.2596e-04 - val_loss: 1.4484e-04\n",
      "Epoch 39/100\n",
      "31/31 [==============================] - 4s 137ms/step - loss: 4.0431e-04 - val_loss: 1.5121e-04\n",
      "Epoch 40/100\n",
      "31/31 [==============================] - 4s 137ms/step - loss: 4.2179e-04 - val_loss: 1.4048e-04\n",
      "Epoch 41/100\n",
      "31/31 [==============================] - 4s 139ms/step - loss: 3.9018e-04 - val_loss: 1.2986e-04\n",
      "Epoch 42/100\n",
      "31/31 [==============================] - 4s 145ms/step - loss: 4.2438e-04 - val_loss: 3.3326e-04\n",
      "Epoch 43/100\n",
      "31/31 [==============================] - 5s 171ms/step - loss: 4.6172e-04 - val_loss: 1.2745e-04\n",
      "Epoch 44/100\n",
      "31/31 [==============================] - 6s 180ms/step - loss: 4.0240e-04 - val_loss: 1.5929e-04\n",
      "Epoch 45/100\n",
      "31/31 [==============================] - 6s 189ms/step - loss: 3.9960e-04 - val_loss: 1.2022e-04\n",
      "Epoch 46/100\n",
      "31/31 [==============================] - 5s 151ms/step - loss: 3.4257e-04 - val_loss: 1.1735e-04\n",
      "Epoch 47/100\n",
      "31/31 [==============================] - 5s 153ms/step - loss: 3.1856e-04 - val_loss: 1.2505e-04\n",
      "Epoch 48/100\n",
      "31/31 [==============================] - 4s 140ms/step - loss: 3.2176e-04 - val_loss: 1.3235e-04\n",
      "Epoch 49/100\n",
      "31/31 [==============================] - 4s 145ms/step - loss: 4.0130e-04 - val_loss: 1.2435e-04\n",
      "Epoch 50/100\n",
      "31/31 [==============================] - 4s 143ms/step - loss: 3.4499e-04 - val_loss: 1.1533e-04\n",
      "Epoch 51/100\n",
      "31/31 [==============================] - 4s 142ms/step - loss: 3.6452e-04 - val_loss: 1.2085e-04\n",
      "Epoch 52/100\n",
      "31/31 [==============================] - 4s 142ms/step - loss: 3.4313e-04 - val_loss: 1.7258e-04\n",
      "Epoch 53/100\n",
      "31/31 [==============================] - 4s 141ms/step - loss: 3.7992e-04 - val_loss: 1.2447e-04\n",
      "Epoch 54/100\n",
      "31/31 [==============================] - 5s 146ms/step - loss: 3.5285e-04 - val_loss: 9.7128e-05\n",
      "Epoch 55/100\n",
      "31/31 [==============================] - 4s 141ms/step - loss: 3.1287e-04 - val_loss: 1.1470e-04\n",
      "Epoch 56/100\n",
      "31/31 [==============================] - 4s 141ms/step - loss: 2.9945e-04 - val_loss: 9.5978e-05\n",
      "Epoch 57/100\n",
      "31/31 [==============================] - 4s 141ms/step - loss: 2.8256e-04 - val_loss: 9.7732e-05\n",
      "Epoch 58/100\n",
      "31/31 [==============================] - 5s 155ms/step - loss: 3.0257e-04 - val_loss: 9.1186e-05\n",
      "Epoch 59/100\n",
      "31/31 [==============================] - 5s 148ms/step - loss: 2.8210e-04 - val_loss: 1.3005e-04\n",
      "Epoch 60/100\n",
      "31/31 [==============================] - 5s 147ms/step - loss: 3.4132e-04 - val_loss: 9.7168e-05\n",
      "Epoch 61/100\n",
      "31/31 [==============================] - 4s 141ms/step - loss: 2.8909e-04 - val_loss: 8.9549e-05\n",
      "Epoch 62/100\n",
      "31/31 [==============================] - 4s 145ms/step - loss: 3.2708e-04 - val_loss: 2.4785e-04\n",
      "Epoch 63/100\n",
      "31/31 [==============================] - 4s 141ms/step - loss: 2.9940e-04 - val_loss: 9.3410e-05\n",
      "Epoch 64/100\n",
      "31/31 [==============================] - 4s 140ms/step - loss: 3.1887e-04 - val_loss: 1.4861e-04\n",
      "Epoch 65/100\n",
      "31/31 [==============================] - 4s 141ms/step - loss: 2.9747e-04 - val_loss: 1.8655e-04\n",
      "Epoch 66/100\n",
      "31/31 [==============================] - 4s 145ms/step - loss: 2.9091e-04 - val_loss: 8.8397e-05\n",
      "Epoch 67/100\n",
      "31/31 [==============================] - 5s 146ms/step - loss: 3.2097e-04 - val_loss: 1.1392e-04\n",
      "Epoch 68/100\n",
      "31/31 [==============================] - 4s 143ms/step - loss: 3.1114e-04 - val_loss: 9.8288e-05\n",
      "Epoch 69/100\n",
      "31/31 [==============================] - 4s 141ms/step - loss: 2.8884e-04 - val_loss: 8.5114e-05\n",
      "Epoch 70/100\n",
      "31/31 [==============================] - 4s 141ms/step - loss: 3.0353e-04 - val_loss: 1.3985e-04\n",
      "Epoch 71/100\n",
      "31/31 [==============================] - 4s 141ms/step - loss: 3.1735e-04 - val_loss: 1.1719e-04\n",
      "Epoch 72/100\n",
      "31/31 [==============================] - 4s 145ms/step - loss: 2.8045e-04 - val_loss: 8.4546e-05\n",
      "Epoch 73/100\n",
      "31/31 [==============================] - 4s 142ms/step - loss: 3.5920e-04 - val_loss: 8.7403e-05\n",
      "Epoch 74/100\n",
      "31/31 [==============================] - 4s 143ms/step - loss: 3.0804e-04 - val_loss: 9.0721e-05\n",
      "Epoch 75/100\n",
      "31/31 [==============================] - 5s 146ms/step - loss: 2.6597e-04 - val_loss: 1.3249e-04\n",
      "Epoch 76/100\n",
      "31/31 [==============================] - 4s 143ms/step - loss: 3.1167e-04 - val_loss: 1.2158e-04\n",
      "Epoch 77/100\n",
      "31/31 [==============================] - 4s 145ms/step - loss: 2.8746e-04 - val_loss: 9.8223e-05\n",
      "Epoch 78/100\n",
      "31/31 [==============================] - 5s 156ms/step - loss: 3.1936e-04 - val_loss: 8.4775e-05\n",
      "Epoch 79/100\n",
      "31/31 [==============================] - 5s 160ms/step - loss: 2.7338e-04 - val_loss: 9.0975e-05\n",
      "Epoch 80/100\n",
      "31/31 [==============================] - 4s 142ms/step - loss: 3.3223e-04 - val_loss: 2.4080e-04\n",
      "Epoch 81/100\n",
      "31/31 [==============================] - 4s 140ms/step - loss: 3.5213e-04 - val_loss: 1.2065e-04\n",
      "Epoch 82/100\n",
      "31/31 [==============================] - 4s 141ms/step - loss: 3.0253e-04 - val_loss: 7.8025e-05\n",
      "Epoch 83/100\n",
      "31/31 [==============================] - 4s 140ms/step - loss: 2.7003e-04 - val_loss: 8.8703e-05\n",
      "Epoch 84/100\n",
      "31/31 [==============================] - 4s 144ms/step - loss: 2.8589e-04 - val_loss: 7.8626e-05\n",
      "Epoch 85/100\n",
      "31/31 [==============================] - 4s 140ms/step - loss: 2.9736e-04 - val_loss: 1.1194e-04\n",
      "Epoch 86/100\n",
      "31/31 [==============================] - 5s 149ms/step - loss: 3.0842e-04 - val_loss: 7.8232e-05\n",
      "Epoch 87/100\n",
      "31/31 [==============================] - 4s 143ms/step - loss: 3.0010e-04 - val_loss: 1.1986e-04\n",
      "Epoch 88/100\n",
      "31/31 [==============================] - 4s 141ms/step - loss: 2.9949e-04 - val_loss: 8.3062e-05\n",
      "Epoch 89/100\n",
      "31/31 [==============================] - 5s 150ms/step - loss: 3.1201e-04 - val_loss: 8.2822e-05\n",
      "Epoch 90/100\n",
      "31/31 [==============================] - 4s 142ms/step - loss: 2.6676e-04 - val_loss: 7.7297e-05\n",
      "Epoch 91/100\n",
      "31/31 [==============================] - 4s 140ms/step - loss: 3.4061e-04 - val_loss: 1.2455e-04\n",
      "Epoch 92/100\n",
      "31/31 [==============================] - 4s 141ms/step - loss: 3.1955e-04 - val_loss: 1.0553e-04\n",
      "Epoch 93/100\n",
      "31/31 [==============================] - 5s 147ms/step - loss: 2.7402e-04 - val_loss: 8.9888e-05\n",
      "Epoch 94/100\n",
      "31/31 [==============================] - 4s 140ms/step - loss: 2.6391e-04 - val_loss: 9.5517e-05\n",
      "Epoch 95/100\n",
      "31/31 [==============================] - 4s 141ms/step - loss: 2.8267e-04 - val_loss: 8.1370e-05\n",
      "Epoch 96/100\n",
      "31/31 [==============================] - 4s 143ms/step - loss: 2.6984e-04 - val_loss: 1.1097e-04\n",
      "Epoch 97/100\n",
      "31/31 [==============================] - 4s 140ms/step - loss: 2.7314e-04 - val_loss: 7.8494e-05\n",
      "Epoch 98/100\n",
      "31/31 [==============================] - 5s 146ms/step - loss: 2.6457e-04 - val_loss: 7.5420e-05\n",
      "Epoch 99/100\n",
      "31/31 [==============================] - 4s 140ms/step - loss: 2.6683e-04 - val_loss: 8.0083e-05\n",
      "Epoch 100/100\n",
      "31/31 [==============================] - 4s 143ms/step - loss: 2.6436e-04 - val_loss: 1.0499e-04\n"
     ]
    },
    {
     "data": {
      "text/plain": [
       "<keras.callbacks.History at 0x2c128336650>"
      ]
     },
     "execution_count": 28,
     "metadata": {},
     "output_type": "execute_result"
    }
   ],
   "source": [
    "# 9. Fit mô hình với dữ liệu train\n",
    "model.fit(X_train, y_train, validation_data=(X_test, ytest), epochs=100, batch_size=64, verbose=1)"
   ]
  },
  {
   "cell_type": "code",
   "execution_count": 29,
   "id": "11429718-53af-460b-bc27-6339c6f5f98e",
   "metadata": {},
   "outputs": [
    {
     "name": "stdout",
     "output_type": "stream",
     "text": [
      "62/62 [==============================] - 3s 34ms/step\n",
      "4/4 [==============================] - 0s 35ms/step\n"
     ]
    }
   ],
   "source": [
    "# 10. Dự báo dữ liệu test\n",
    "train_predict = model.predict(X_train)\n",
    "y_pred = model.predict(X_test)"
   ]
  },
  {
   "cell_type": "code",
   "execution_count": 30,
   "id": "325b6e6a-fb3e-4f67-a484-014e7ddb4183",
   "metadata": {},
   "outputs": [],
   "source": [
    "# 11. Chuẩn hóa dữ liệu y_pred\n",
    "train_predict = scaler.inverse_transform(train_predict)\n",
    "y_pred = scaler.inverse_transform(y_pred)"
   ]
  },
  {
   "cell_type": "code",
   "execution_count": 31,
   "id": "b964944b-407f-425e-9fbd-d7cd9e12b40a",
   "metadata": {
    "tags": []
   },
   "outputs": [
    {
     "name": "stdout",
     "output_type": "stream",
     "text": [
      "Mean Absolute Error (MAE): 0.35830736851274714\n",
      "Mean Absolute Percentage Error (MAPE): 199.0107104769535\n",
      "Root Mean Square Error (RMSE): 0.36410806739791163\n"
     ]
    }
   ],
   "source": [
    "# 12. Tính RMSE, MAPE, MAE\n",
    "from sklearn.metrics import mean_absolute_error, mean_squared_error, mean_absolute_percentage_error\n",
    "\n",
    "mae = mean_absolute_error(ytest, y_pred)\n",
    "mape = mean_absolute_percentage_error(ytest, y_pred)\n",
    "rmse = np.sqrt(mean_squared_error(ytest, y_pred))\n",
    "\n",
    "print(\"Mean Absolute Error (MAE):\", mae)\n",
    "print(\"Mean Absolute Percentage Error (MAPE):\", mape * 100)\n",
    "print(\"Root Mean Square Error (RMSE):\", rmse)"
   ]
  },
  {
   "cell_type": "code",
   "execution_count": 32,
   "id": "2e271a5d-d3ba-478b-ab4d-d877f6725302",
   "metadata": {
    "tags": []
   },
   "outputs": [],
   "source": [
    "# 13. Hàm dự báo\n",
    "def forecast_days(n_days):\n",
    "    x_input = test_data[-100:].reshape(1, -1)\n",
    "    temp_input = list(x_input[0])\n",
    "\n",
    "    lst_output = []\n",
    "    i = 0\n",
    "    while i < n_days:\n",
    "        if len(temp_input) > 100:\n",
    "            x_input = np.array(temp_input[1:])\n",
    "            x_input = x_input.reshape(1, -1)\n",
    "            x_input = x_input.reshape((1, time_step, 1))\n",
    "            yhat = model.predict(x_input, verbose=0)\n",
    "            temp_input.extend(yhat[0].tolist())\n",
    "            temp_input = temp_input[1:]\n",
    "            lst_output.extend(yhat.tolist())\n",
    "            i += 1\n",
    "        else:\n",
    "            x_input = x_input.reshape((1, time_step, 1))\n",
    "            yhat = model.predict(x_input, verbose=0)\n",
    "            temp_input.extend(yhat[0].tolist())\n",
    "            lst_output.extend(yhat.tolist())\n",
    "            i += 1\n",
    "    return lst_output"
   ]
  },
  {
   "cell_type": "code",
   "execution_count": 33,
   "id": "12343b63-3464-4e24-bf18-1f00bb17e507",
   "metadata": {
    "tags": []
   },
   "outputs": [],
   "source": [
    "# 14. Dự báo 30, 60, 90 ngày tiếp theo\n",
    "forecast_30 = forecast_days(30)\n",
    "forecast_60 = forecast_days(60)\n",
    "forecast_90 = forecast_days(90)"
   ]
  },
  {
   "cell_type": "code",
   "execution_count": 34,
   "id": "b4063bc9-d94d-471f-8117-331d74e51408",
   "metadata": {
    "tags": []
   },
   "outputs": [
    {
     "name": "stdout",
     "output_type": "stream",
     "text": [
      "Dự báo cho 30 ngày tiếp theo: [[0.13854657113552094], [0.13635292649269104], [0.1333957314491272], [0.1302247941493988], [0.12698869407176971], [0.1237318366765976], [0.12047579884529114], [0.11723442375659943], [0.11401696503162384], [0.11082980036735535], [0.10767745971679688], [0.10456359386444092], [0.10149145126342773], [0.0984639972448349], [0.09548406302928925], [0.0925542414188385], [0.08967690169811249], [0.08685407042503357], [0.08408738672733307], [0.08137816190719604], [0.07872733473777771], [0.07613544166088104], [0.0736028254032135], [0.07112941145896912], [0.06871502101421356], [0.06635921448469162], [0.06406142562627792], [0.06182091683149338], [0.05963688716292381], [0.0575084313750267]]\n"
     ]
    }
   ],
   "source": [
    "# 15. In ra dự đoán cho 30 ngày tiếp theo\n",
    "print(\"Dự báo cho 30 ngày tiếp theo:\", forecast_30)"
   ]
  },
  {
   "cell_type": "code",
   "execution_count": 35,
   "id": "67077348-1c5e-4d27-b85b-d6198039e6db",
   "metadata": {
    "tags": []
   },
   "outputs": [
    {
     "name": "stdout",
     "output_type": "stream",
     "text": [
      "Dự báo cho 60 ngày tiếp theo: [[0.13854657113552094], [0.13635292649269104], [0.1333957314491272], [0.1302247941493988], [0.12698869407176971], [0.1237318366765976], [0.12047579884529114], [0.11723442375659943], [0.11401696503162384], [0.11082980036735535], [0.10767745971679688], [0.10456359386444092], [0.10149145126342773], [0.0984639972448349], [0.09548406302928925], [0.0925542414188385], [0.08967690169811249], [0.08685407042503357], [0.08408738672733307], [0.08137816190719604], [0.07872733473777771], [0.07613544166088104], [0.0736028254032135], [0.07112941145896912], [0.06871502101421356], [0.06635921448469162], [0.06406142562627792], [0.06182091683149338], [0.05963688716292381], [0.0575084313750267], [0.055434610694646835], [0.053414396941661835], [0.051446735858917236], [0.04953055828809738], [0.047664761543273926], [0.04584822803735733], [0.044079843908548355], [0.04235847294330597], [0.04068299010396004], [0.039052292704582214], [0.03746524453163147], [0.035920750349760056], [0.03441772609949112], [0.03295508027076721], [0.031531769782304764], [0.03014674410223961], [0.02879898063838482], [0.027487479150295258], [0.02621125429868698], [0.024969346821308136], [0.02376081980764866], [0.022584758698940277], [0.021440261974930763], [0.020326465368270874], [0.01924251765012741], [0.018187586218118668], [0.017160873860120773], [0.016161587089300156], [0.015188971534371376], [0.014242283999919891]]\n"
     ]
    }
   ],
   "source": [
    "# 15. In ra dự đoán cho 60 ngày tiếp theo\n",
    "print(\"Dự báo cho 60 ngày tiếp theo:\", forecast_60)"
   ]
  },
  {
   "cell_type": "code",
   "execution_count": 36,
   "id": "64491d29-b028-4911-924a-472619538172",
   "metadata": {
    "tags": []
   },
   "outputs": [
    {
     "name": "stdout",
     "output_type": "stream",
     "text": [
      "Dự báo cho 90 ngày tiếp theo: [[0.13854657113552094], [0.13635292649269104], [0.1333957314491272], [0.1302247941493988], [0.12698869407176971], [0.1237318366765976], [0.12047579884529114], [0.11723442375659943], [0.11401696503162384], [0.11082980036735535], [0.10767745971679688], [0.10456359386444092], [0.10149145126342773], [0.0984639972448349], [0.09548406302928925], [0.0925542414188385], [0.08967690169811249], [0.08685407042503357], [0.08408738672733307], [0.08137816190719604], [0.07872733473777771], [0.07613544166088104], [0.0736028254032135], [0.07112941145896912], [0.06871502101421356], [0.06635921448469162], [0.06406142562627792], [0.06182091683149338], [0.05963688716292381], [0.0575084313750267], [0.055434610694646835], [0.053414396941661835], [0.051446735858917236], [0.04953055828809738], [0.047664761543273926], [0.04584822803735733], [0.044079843908548355], [0.04235847294330597], [0.04068299010396004], [0.039052292704582214], [0.03746524453163147], [0.035920750349760056], [0.03441772609949112], [0.03295508027076721], [0.031531769782304764], [0.03014674410223961], [0.02879898063838482], [0.027487479150295258], [0.02621125429868698], [0.024969346821308136], [0.02376081980764866], [0.022584758698940277], [0.021440261974930763], [0.020326465368270874], [0.01924251765012741], [0.018187586218118668], [0.017160873860120773], [0.016161587089300156], [0.015188971534371376], [0.014242283999919891], [0.013320805504918098], [0.012423825450241566], [0.011550679802894592], [0.010700695216655731], [0.00987323373556137], [0.009067675098776817], [0.008283405564725399], [0.007519850041717291], [0.006776421330869198], [0.006052578799426556], [0.00534777669236064], [0.0046614911407232285], [0.0039932262152433395], [0.003342472482472658], [0.0027087554335594177], [0.002091622445732355], [0.00149060832336545], [0.0009052809327840805], [0.0003352230414748192], [-0.00021999236196279526], [-0.0007607657462358475], [-0.0012874752283096313], [-0.001800508238375187], [-0.002300228923559189], [-0.002786993980407715], [-0.0032611675560474396], [-0.0037230579182505608], [-0.004173010587692261], [-0.004611342214047909], [-0.005038358271121979]]\n"
     ]
    }
   ],
   "source": [
    "# 15. In ra dự đoán cho 90 ngày tiếp theo\n",
    "print(\"Dự báo cho 90 ngày tiếp theo:\", forecast_90)"
   ]
  },
  {
   "cell_type": "code",
   "execution_count": 40,
   "id": "3dd6ded5-fc67-4904-a0fd-59c167779a17",
   "metadata": {
    "tags": []
   },
   "outputs": [
    {
     "data": {
      "image/png": "[encoded data removed]",
      "text/plain": [
       "<Figure size 640x480 with 1 Axes>"
      ]
     },
     "metadata": {},
     "output_type": "display_data"
    }
   ],
   "source": [
    "# 16. Vẽ hình\n",
    "\n",
    "# Vẽ dữ liệu kiểm tra\n",
    "test_data_index = pd.RangeIndex(start=train_size, stop=train_size + test_size)\n",
    "plt.plot(test_data_index, scaler.inverse_transform(test_data), label='Test Data')\n",
    "\n",
    "# Vẽ dữ liệu dự đoán\n",
    "predicted_data_index = range(train_size + 100, train_size + 100 + len(y_pred))\n",
    "plt.plot(predicted_data_index, y_pred, label='Predicted')\n",
    "\n",
    "# Vẽ dự báo 90, 60, 30 ngày\n",
    "plt.plot(np.arange(train_size + len(test_data), train_size + len(test_data) + len(forecast_90)), scaler.inverse_transform(forecast_90), label='Forecast 90 days')\n",
    "plt.plot(np.arange(train_size + len(test_data), train_size + len(test_data) + len(forecast_60)), scaler.inverse_transform(forecast_60), label='Forecast 60 days')\n",
    "plt.plot(np.arange(train_size + len(test_data), train_size + len(test_data) + len(forecast_30)), scaler.inverse_transform(forecast_30), label='Forecast 30 days')\n",
    "\n",
    "plt.title('LSTM - ADA Stock Price - Forecast 30, 60, 90 days')\n",
    "plt.legend()\n",
    "plt.xlabel('Day')\n",
    "plt.ylabel('Price')\n",
    "plt.show()"
   ]
  }
 ],
 "metadata": {
  "kernelspec": {
   "display_name": "Python 3 (ipykernel)",
   "language": "python",
   "name": "python3"
  },
  "language_info": {
   "codemirror_mode": {
    "name": "ipython",
    "version": 3
   },
   "file_extension": ".py",
   "mimetype": "text/x-python",
   "name": "python",
   "nbconvert_exporter": "python",
   "pygments_lexer": "ipython3",
   "version": "3.10.8"
  }
 },
 "nbformat": 4,
 "nbformat_minor": 5
}
