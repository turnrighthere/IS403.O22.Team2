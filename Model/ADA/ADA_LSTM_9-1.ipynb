{
 "cells": [
  {
   "cell_type": "code",
   "execution_count": 19,
   "id": "d6e03734-7a73-489d-9cdc-84acf78c00e5",
   "metadata": {
    "tags": []
   },
   "outputs": [],
   "source": [
    "# 1. Import thư viện cần thiết\n",
    "import numpy as np\n",
    "import pandas as pd\n",
    "import matplotlib.pyplot as plt\n",
    "from sklearn.preprocessing import MinMaxScaler\n",
    "from keras.models import Sequential\n",
    "from keras.layers import Dense, LSTM"
   ]
  },
  {
   "cell_type": "code",
   "execution_count": 20,
   "id": "07adbc1b-a1d2-41ba-b0a6-73848cc36a2e",
   "metadata": {
    "tags": []
   },
   "outputs": [
    {
     "name": "stdout",
     "output_type": "stream",
     "text": [
      "<class 'pandas.core.frame.DataFrame'>\n",
      "RangeIndex: 2285 entries, 0 to 2284\n",
      "Data columns (total 7 columns):\n",
      " #   Column     Non-Null Count  Dtype  \n",
      "---  ------     --------------  -----  \n",
      " 0   Date       2285 non-null   object \n",
      " 1   Open       2285 non-null   float64\n",
      " 2   High       2285 non-null   float64\n",
      " 3   Low        2285 non-null   float64\n",
      " 4   Price      2285 non-null   float64\n",
      " 5   Adj Close  2285 non-null   float64\n",
      " 6   Volume     2285 non-null   int64  \n",
      "dtypes: float64(5), int64(1), object(1)\n",
      "memory usage: 125.1+ KB\n"
     ]
    }
   ],
   "source": [
    "# 2. Đọc file csv và gắn index với giá Price\n",
    "df = pd.read_csv('pre_ADA-USD.csv')\n",
    "df = df.rename(columns={'Close': 'Price'})\n",
    "df1 = df.reset_index()['Price']\n",
    "df.info()"
   ]
  },
  {
   "cell_type": "code",
   "execution_count": 21,
   "id": "823c305d-3c3c-46d7-ab97-99ea957bb915",
   "metadata": {
    "tags": []
   },
   "outputs": [],
   "source": [
    "# 3. Scaler data\n",
    "scaler = MinMaxScaler(feature_range=(0, 1))\n",
    "df1 = scaler.fit_transform(np.array(df1).reshape(-1, 1))"
   ]
  },
  {
   "cell_type": "code",
   "execution_count": 22,
   "id": "3c933b12-160d-4589-bda4-f6e0541be771",
   "metadata": {
    "tags": []
   },
   "outputs": [
    {
     "name": "stdout",
     "output_type": "stream",
     "text": [
      "Train shape: (2056, 1)\n",
      "Test shape: (229, 1)\n"
     ]
    }
   ],
   "source": [
    "# 4. Chia train test 9 - 1\n",
    "train_size = int(0.9 * len(df1))\n",
    "test_size = len(df1) - train_size\n",
    "\n",
    "# Lấy dữ liệu train và test\n",
    "train_data = df1[:train_size]\n",
    "test_data = df1[train_size:]\n",
    "\n",
    "print(\"Train shape:\", train_data.shape)\n",
    "print(\"Test shape:\", test_data.shape)"
   ]
  },
  {
   "cell_type": "code",
   "execution_count": 23,
   "id": "86d16400-4b94-40f8-b6ec-13ca9fae2127",
   "metadata": {
    "tags": []
   },
   "outputs": [],
   "source": [
    "# 5. Hàm Create Dataset\n",
    "import numpy\n",
    "# convert an array of values into a dataset matrix\n",
    "def create_dataset(dataset, time_step=1):\n",
    "\tdataX, dataY = [], []\n",
    "\tfor i in range(len(dataset)-time_step-1):\n",
    "\t\ta = dataset[i:(i+time_step), 0]   ###i=0, X=0,1,2,3-----99   Y=100 \n",
    "\t\tdataX.append(a)\n",
    "\t\tdataY.append(dataset[i + time_step, 0])\n",
    "\treturn numpy.array(dataX), numpy.array(dataY)"
   ]
  },
  {
   "cell_type": "code",
   "execution_count": 24,
   "id": "139117ad-87be-44e9-b6ec-91bf365f7d9b",
   "metadata": {
    "tags": []
   },
   "outputs": [],
   "source": [
    "# 6. Reshape into X=t,t+1,t+2..t+99 and Y=t+100\n",
    "time_step = 100\n",
    "X_train, y_train = create_dataset(train_data, time_step)\n",
    "combined_data = np.concatenate((train_data[-time_step:], test_data))\n",
    "X_test, ytest = create_dataset(combined_data, time_step)"
   ]
  },
  {
   "cell_type": "code",
   "execution_count": 25,
   "id": "f60d12b6-f562-48b8-99a5-d59b670f42c2",
   "metadata": {
    "tags": []
   },
   "outputs": [],
   "source": [
    "# 7. Reshape input to be [samples, time steps, features] which is required for LSTM\n",
    "X_train = X_train.reshape(X_train.shape[0], X_train.shape[1], 1)\n",
    "X_test = X_test.reshape(X_test.shape[0], X_test.shape[1], 1)"
   ]
  },
  {
   "cell_type": "code",
   "execution_count": 26,
   "id": "db87fc59-fb90-4e96-8eb0-7c65084b8ff6",
   "metadata": {
    "tags": []
   },
   "outputs": [],
   "source": [
    "# 8. Define LSTM Model\n",
    "model = Sequential()\n",
    "model.add(LSTM(50, return_sequences=True, input_shape=(100, 1)))\n",
    "model.add(LSTM(50, return_sequences=True))\n",
    "model.add(LSTM(50))\n",
    "model.add(Dense(1))\n",
    "model.compile(loss='mean_squared_error', optimizer='adam')"
   ]
  },
  {
   "cell_type": "code",
   "execution_count": 27,
   "id": "7d438015-03ba-433f-9c89-4bf4f6680ffe",
   "metadata": {
    "tags": []
   },
   "outputs": [
    {
     "name": "stdout",
     "output_type": "stream",
     "text": [
      "Epoch 1/100\n",
      "31/31 [==============================] - 11s 187ms/step - loss: 0.0082 - val_loss: 0.0017\n",
      "Epoch 2/100\n",
      "31/31 [==============================] - 5s 156ms/step - loss: 0.0021 - val_loss: 5.4595e-04\n",
      "Epoch 3/100\n",
      "31/31 [==============================] - 5s 154ms/step - loss: 0.0015 - val_loss: 6.1643e-04\n",
      "Epoch 4/100\n",
      "31/31 [==============================] - 5s 162ms/step - loss: 0.0013 - val_loss: 3.7619e-04\n",
      "Epoch 5/100\n",
      "31/31 [==============================] - 6s 182ms/step - loss: 0.0011 - val_loss: 5.0674e-04\n",
      "Epoch 6/100\n",
      "31/31 [==============================] - 5s 163ms/step - loss: 0.0010 - val_loss: 3.5910e-04\n",
      "Epoch 7/100\n",
      "31/31 [==============================] - 5s 162ms/step - loss: 0.0010 - val_loss: 5.4244e-04\n",
      "Epoch 8/100\n",
      "31/31 [==============================] - 5s 164ms/step - loss: 9.9644e-04 - val_loss: 3.0310e-04\n",
      "Epoch 9/100\n",
      "31/31 [==============================] - 6s 183ms/step - loss: 8.0677e-04 - val_loss: 3.0857e-04\n",
      "Epoch 10/100\n",
      "31/31 [==============================] - 5s 164ms/step - loss: 7.8400e-04 - val_loss: 2.8217e-04\n",
      "Epoch 11/100\n",
      "31/31 [==============================] - 5s 156ms/step - loss: 7.8632e-04 - val_loss: 2.5875e-04\n",
      "Epoch 12/100\n",
      "31/31 [==============================] - 5s 151ms/step - loss: 7.4382e-04 - val_loss: 2.7261e-04\n",
      "Epoch 13/100\n",
      "31/31 [==============================] - 5s 154ms/step - loss: 7.2361e-04 - val_loss: 2.3715e-04\n",
      "Epoch 14/100\n",
      "31/31 [==============================] - 5s 154ms/step - loss: 7.1610e-04 - val_loss: 3.3651e-04\n",
      "Epoch 15/100\n",
      "31/31 [==============================] - 5s 167ms/step - loss: 6.9335e-04 - val_loss: 3.2054e-04\n",
      "Epoch 16/100\n",
      "31/31 [==============================] - 6s 178ms/step - loss: 7.5967e-04 - val_loss: 3.3692e-04\n",
      "Epoch 17/100\n",
      "31/31 [==============================] - 5s 162ms/step - loss: 8.3692e-04 - val_loss: 2.2179e-04\n",
      "Epoch 18/100\n",
      "31/31 [==============================] - 5s 168ms/step - loss: 6.5978e-04 - val_loss: 2.3343e-04\n",
      "Epoch 19/100\n",
      "31/31 [==============================] - 6s 189ms/step - loss: 6.1812e-04 - val_loss: 2.2797e-04\n",
      "Epoch 20/100\n",
      "31/31 [==============================] - 5s 168ms/step - loss: 6.3770e-04 - val_loss: 2.0775e-04\n",
      "Epoch 21/100\n",
      "31/31 [==============================] - 5s 166ms/step - loss: 5.7119e-04 - val_loss: 2.4004e-04\n",
      "Epoch 22/100\n",
      "31/31 [==============================] - 4s 144ms/step - loss: 6.0236e-04 - val_loss: 2.0443e-04\n",
      "Epoch 23/100\n",
      "31/31 [==============================] - 5s 167ms/step - loss: 5.2869e-04 - val_loss: 1.9263e-04\n",
      "Epoch 24/100\n",
      "31/31 [==============================] - 4s 144ms/step - loss: 6.2077e-04 - val_loss: 4.9050e-04\n",
      "Epoch 25/100\n",
      "31/31 [==============================] - 4s 141ms/step - loss: 6.6234e-04 - val_loss: 2.5773e-04\n",
      "Epoch 26/100\n",
      "31/31 [==============================] - 5s 151ms/step - loss: 6.1216e-04 - val_loss: 2.1432e-04\n",
      "Epoch 27/100\n",
      "31/31 [==============================] - 5s 150ms/step - loss: 5.0473e-04 - val_loss: 1.8849e-04\n",
      "Epoch 28/100\n",
      "31/31 [==============================] - 5s 154ms/step - loss: 4.8477e-04 - val_loss: 1.8222e-04\n",
      "Epoch 29/100\n",
      "31/31 [==============================] - 5s 154ms/step - loss: 5.2032e-04 - val_loss: 2.8617e-04\n",
      "Epoch 30/100\n",
      "31/31 [==============================] - 5s 152ms/step - loss: 5.4995e-04 - val_loss: 1.8814e-04\n",
      "Epoch 31/100\n",
      "31/31 [==============================] - 5s 149ms/step - loss: 5.0364e-04 - val_loss: 3.1169e-04\n",
      "Epoch 32/100\n",
      "31/31 [==============================] - 4s 141ms/step - loss: 6.0425e-04 - val_loss: 3.1359e-04\n",
      "Epoch 33/100\n",
      "31/31 [==============================] - 4s 142ms/step - loss: 4.4314e-04 - val_loss: 1.4564e-04\n",
      "Epoch 34/100\n",
      "31/31 [==============================] - 5s 150ms/step - loss: 4.3691e-04 - val_loss: 1.4920e-04\n",
      "Epoch 35/100\n",
      "31/31 [==============================] - 4s 141ms/step - loss: 3.9465e-04 - val_loss: 1.4028e-04\n",
      "Epoch 36/100\n",
      "31/31 [==============================] - 5s 150ms/step - loss: 4.0819e-04 - val_loss: 1.8301e-04\n",
      "Epoch 37/100\n",
      "31/31 [==============================] - 4s 141ms/step - loss: 3.8899e-04 - val_loss: 1.7370e-04\n",
      "Epoch 38/100\n",
      "31/31 [==============================] - 4s 141ms/step - loss: 4.1928e-04 - val_loss: 1.4777e-04\n",
      "Epoch 39/100\n",
      "31/31 [==============================] - 4s 141ms/step - loss: 3.8987e-04 - val_loss: 1.2426e-04\n",
      "Epoch 40/100\n",
      "31/31 [==============================] - 5s 147ms/step - loss: 4.3711e-04 - val_loss: 2.3015e-04\n",
      "Epoch 41/100\n",
      "31/31 [==============================] - 4s 145ms/step - loss: 4.0004e-04 - val_loss: 1.1789e-04\n",
      "Epoch 42/100\n",
      "31/31 [==============================] - 5s 147ms/step - loss: 3.3554e-04 - val_loss: 1.1716e-04\n",
      "Epoch 43/100\n",
      "31/31 [==============================] - 4s 143ms/step - loss: 3.3123e-04 - val_loss: 1.1463e-04\n",
      "Epoch 44/100\n",
      "31/31 [==============================] - 4s 141ms/step - loss: 3.4827e-04 - val_loss: 1.1513e-04\n",
      "Epoch 45/100\n",
      "31/31 [==============================] - 4s 143ms/step - loss: 3.2181e-04 - val_loss: 1.2392e-04\n",
      "Epoch 46/100\n",
      "31/31 [==============================] - 4s 143ms/step - loss: 3.4040e-04 - val_loss: 1.0337e-04\n",
      "Epoch 47/100\n",
      "31/31 [==============================] - 5s 164ms/step - loss: 3.0095e-04 - val_loss: 1.3230e-04\n",
      "Epoch 48/100\n",
      "31/31 [==============================] - 5s 153ms/step - loss: 3.2820e-04 - val_loss: 9.9695e-05\n",
      "Epoch 49/100\n",
      "31/31 [==============================] - 4s 145ms/step - loss: 2.9086e-04 - val_loss: 1.0406e-04\n",
      "Epoch 50/100\n",
      "31/31 [==============================] - 4s 144ms/step - loss: 3.6503e-04 - val_loss: 1.1296e-04\n",
      "Epoch 51/100\n",
      "31/31 [==============================] - 4s 145ms/step - loss: 3.2549e-04 - val_loss: 9.5571e-05\n",
      "Epoch 52/100\n",
      "31/31 [==============================] - 4s 141ms/step - loss: 3.3185e-04 - val_loss: 1.1783e-04\n",
      "Epoch 53/100\n",
      "31/31 [==============================] - 4s 143ms/step - loss: 3.5735e-04 - val_loss: 1.1798e-04\n",
      "Epoch 54/100\n",
      "31/31 [==============================] - 4s 141ms/step - loss: 2.7957e-04 - val_loss: 9.1395e-05\n",
      "Epoch 55/100\n",
      "31/31 [==============================] - 4s 143ms/step - loss: 2.8713e-04 - val_loss: 9.3602e-05\n",
      "Epoch 56/100\n",
      "31/31 [==============================] - 5s 149ms/step - loss: 2.7045e-04 - val_loss: 8.8517e-05\n",
      "Epoch 57/100\n",
      "31/31 [==============================] - 5s 146ms/step - loss: 2.9121e-04 - val_loss: 1.3916e-04\n",
      "Epoch 58/100\n",
      "31/31 [==============================] - 4s 144ms/step - loss: 2.8812e-04 - val_loss: 1.0018e-04\n",
      "Epoch 59/100\n",
      "31/31 [==============================] - 4s 141ms/step - loss: 3.1592e-04 - val_loss: 9.9348e-05\n",
      "Epoch 60/100\n",
      "31/31 [==============================] - 4s 141ms/step - loss: 3.2843e-04 - val_loss: 1.1541e-04\n",
      "Epoch 61/100\n",
      "31/31 [==============================] - 4s 144ms/step - loss: 2.8326e-04 - val_loss: 8.1484e-05\n",
      "Epoch 62/100\n",
      "31/31 [==============================] - 5s 162ms/step - loss: 2.8755e-04 - val_loss: 2.0679e-04\n",
      "Epoch 63/100\n",
      "31/31 [==============================] - 5s 153ms/step - loss: 4.1460e-04 - val_loss: 1.0755e-04\n",
      "Epoch 64/100\n",
      "31/31 [==============================] - 5s 153ms/step - loss: 2.7614e-04 - val_loss: 9.7833e-05\n",
      "Epoch 65/100\n",
      "31/31 [==============================] - 4s 142ms/step - loss: 3.3950e-04 - val_loss: 1.2692e-04\n",
      "Epoch 66/100\n",
      "31/31 [==============================] - 4s 142ms/step - loss: 3.0268e-04 - val_loss: 8.3778e-05\n",
      "Epoch 67/100\n",
      "31/31 [==============================] - 4s 143ms/step - loss: 2.8449e-04 - val_loss: 1.5329e-04\n",
      "Epoch 68/100\n",
      "31/31 [==============================] - 4s 141ms/step - loss: 3.1722e-04 - val_loss: 8.6667e-05\n",
      "Epoch 69/100\n",
      "31/31 [==============================] - 4s 143ms/step - loss: 2.7550e-04 - val_loss: 1.5121e-04\n",
      "Epoch 70/100\n",
      "31/31 [==============================] - 5s 151ms/step - loss: 2.8406e-04 - val_loss: 8.8950e-05\n",
      "Epoch 71/100\n",
      "31/31 [==============================] - 4s 142ms/step - loss: 2.7923e-04 - val_loss: 7.8162e-05\n",
      "Epoch 72/100\n",
      "31/31 [==============================] - 4s 142ms/step - loss: 2.8098e-04 - val_loss: 8.1809e-05\n",
      "Epoch 73/100\n",
      "31/31 [==============================] - 4s 141ms/step - loss: 3.2813e-04 - val_loss: 8.5718e-05\n",
      "Epoch 74/100\n",
      "31/31 [==============================] - 4s 142ms/step - loss: 2.8805e-04 - val_loss: 9.1911e-05\n",
      "Epoch 75/100\n",
      "31/31 [==============================] - 4s 144ms/step - loss: 2.8771e-04 - val_loss: 8.5762e-05\n",
      "Epoch 76/100\n",
      "31/31 [==============================] - 4s 142ms/step - loss: 2.6302e-04 - val_loss: 1.0239e-04\n",
      "Epoch 77/100\n",
      "31/31 [==============================] - 5s 146ms/step - loss: 2.6379e-04 - val_loss: 8.0766e-05\n",
      "Epoch 78/100\n",
      "31/31 [==============================] - 5s 155ms/step - loss: 2.6613e-04 - val_loss: 1.0125e-04\n",
      "Epoch 79/100\n",
      "31/31 [==============================] - 4s 142ms/step - loss: 2.8311e-04 - val_loss: 1.0117e-04\n",
      "Epoch 80/100\n",
      "31/31 [==============================] - 4s 142ms/step - loss: 2.6014e-04 - val_loss: 7.7612e-05\n",
      "Epoch 81/100\n",
      "31/31 [==============================] - 4s 144ms/step - loss: 3.6303e-04 - val_loss: 8.2116e-05\n",
      "Epoch 82/100\n",
      "31/31 [==============================] - 4s 142ms/step - loss: 3.0060e-04 - val_loss: 1.4681e-04\n",
      "Epoch 83/100\n",
      "31/31 [==============================] - 4s 142ms/step - loss: 3.3879e-04 - val_loss: 1.1825e-04\n",
      "Epoch 84/100\n",
      "31/31 [==============================] - 4s 144ms/step - loss: 2.6762e-04 - val_loss: 8.0646e-05\n",
      "Epoch 85/100\n",
      "31/31 [==============================] - 5s 152ms/step - loss: 3.0938e-04 - val_loss: 1.4981e-04\n",
      "Epoch 86/100\n",
      "31/31 [==============================] - 4s 144ms/step - loss: 3.1164e-04 - val_loss: 8.2205e-05\n",
      "Epoch 87/100\n",
      "31/31 [==============================] - 5s 149ms/step - loss: 2.7607e-04 - val_loss: 1.3850e-04\n",
      "Epoch 88/100\n",
      "31/31 [==============================] - 4s 144ms/step - loss: 3.3516e-04 - val_loss: 8.5465e-05\n",
      "Epoch 89/100\n",
      "31/31 [==============================] - 4s 144ms/step - loss: 2.5595e-04 - val_loss: 8.2302e-05\n",
      "Epoch 90/100\n",
      "31/31 [==============================] - 4s 144ms/step - loss: 2.6538e-04 - val_loss: 1.1182e-04\n",
      "Epoch 91/100\n",
      "31/31 [==============================] - 5s 148ms/step - loss: 2.8636e-04 - val_loss: 8.0138e-05\n",
      "Epoch 92/100\n",
      "31/31 [==============================] - 5s 148ms/step - loss: 2.8358e-04 - val_loss: 9.3051e-05\n",
      "Epoch 93/100\n",
      "31/31 [==============================] - 5s 146ms/step - loss: 2.7655e-04 - val_loss: 1.0801e-04\n",
      "Epoch 94/100\n",
      "31/31 [==============================] - 4s 142ms/step - loss: 2.7808e-04 - val_loss: 1.1685e-04\n",
      "Epoch 95/100\n",
      "31/31 [==============================] - 4s 143ms/step - loss: 2.9701e-04 - val_loss: 1.2140e-04\n",
      "Epoch 96/100\n",
      "31/31 [==============================] - 4s 143ms/step - loss: 3.4306e-04 - val_loss: 1.0108e-04\n",
      "Epoch 97/100\n",
      "31/31 [==============================] - 5s 149ms/step - loss: 3.1550e-04 - val_loss: 1.2474e-04\n",
      "Epoch 98/100\n",
      "31/31 [==============================] - 5s 147ms/step - loss: 2.6689e-04 - val_loss: 7.8873e-05\n",
      "Epoch 99/100\n",
      "31/31 [==============================] - 4s 142ms/step - loss: 2.6208e-04 - val_loss: 8.2946e-05\n",
      "Epoch 100/100\n",
      "31/31 [==============================] - 4s 143ms/step - loss: 2.6903e-04 - val_loss: 9.6003e-05\n"
     ]
    },
    {
     "data": {
      "text/plain": [
       "<keras.callbacks.History at 0x18d1a6f9000>"
      ]
     },
     "execution_count": 27,
     "metadata": {},
     "output_type": "execute_result"
    }
   ],
   "source": [
    "# 9. Fit mô hình với dữ liệu train\n",
    "model.fit(X_train, y_train, validation_data=(X_test, ytest), epochs=100, batch_size=64, verbose=1)"
   ]
  },
  {
   "cell_type": "code",
   "execution_count": 28,
   "id": "11429718-53af-460b-bc27-6339c6f5f98e",
   "metadata": {},
   "outputs": [
    {
     "name": "stdout",
     "output_type": "stream",
     "text": [
      "62/62 [==============================] - 3s 33ms/step\n",
      "8/8 [==============================] - 0s 31ms/step\n"
     ]
    }
   ],
   "source": [
    "# 10. Dự báo dữ liệu test\n",
    "train_predict = model.predict(X_train)\n",
    "y_pred = model.predict(X_test)"
   ]
  },
  {
   "cell_type": "code",
   "execution_count": 29,
   "id": "325b6e6a-fb3e-4f67-a484-014e7ddb4183",
   "metadata": {},
   "outputs": [],
   "source": [
    "# 11. Chuẩn hóa dữ liệu y_pred\n",
    "train_predict = scaler.inverse_transform(train_predict)\n",
    "y_pred = scaler.inverse_transform(y_pred)"
   ]
  },
  {
   "cell_type": "code",
   "execution_count": 30,
   "id": "b964944b-407f-425e-9fbd-d7cd9e12b40a",
   "metadata": {
    "tags": []
   },
   "outputs": [
    {
     "name": "stdout",
     "output_type": "stream",
     "text": [
      "Mean Absolute Error (MAE): 0.3306694673465731\n",
      "Mean Absolute Percentage Error (MAPE): 200.83542986772974\n",
      "Root Mean Square Error (RMSE): 0.34026264288934754\n"
     ]
    }
   ],
   "source": [
    "# 12. Tính RMSE, MAPE, MAE\n",
    "from sklearn.metrics import mean_absolute_error, mean_squared_error, mean_absolute_percentage_error\n",
    "\n",
    "mae = mean_absolute_error(ytest, y_pred)\n",
    "mape = mean_absolute_percentage_error(ytest, y_pred)\n",
    "rmse = np.sqrt(mean_squared_error(ytest, y_pred))\n",
    "\n",
    "print(\"Mean Absolute Error (MAE):\", mae)\n",
    "print(\"Mean Absolute Percentage Error (MAPE):\", mape * 100)\n",
    "print(\"Root Mean Square Error (RMSE):\", rmse)"
   ]
  },
  {
   "cell_type": "code",
   "execution_count": 31,
   "id": "2e271a5d-d3ba-478b-ab4d-d877f6725302",
   "metadata": {
    "tags": []
   },
   "outputs": [],
   "source": [
    "# 13. Hàm dự báo\n",
    "def forecast_days(n_days):\n",
    "    x_input = test_data[-100:].reshape(1, -1)\n",
    "    temp_input = list(x_input[0])\n",
    "\n",
    "    lst_output = []\n",
    "    i = 0\n",
    "    while i < n_days:\n",
    "        if len(temp_input) > 100:\n",
    "            x_input = np.array(temp_input[1:])\n",
    "            x_input = x_input.reshape(1, -1)\n",
    "            x_input = x_input.reshape((1, time_step, 1))\n",
    "            yhat = model.predict(x_input, verbose=0)\n",
    "            temp_input.extend(yhat[0].tolist())\n",
    "            temp_input = temp_input[1:]\n",
    "            lst_output.extend(yhat.tolist())\n",
    "            i += 1\n",
    "        else:\n",
    "            x_input = x_input.reshape((1, time_step, 1))\n",
    "            yhat = model.predict(x_input, verbose=0)\n",
    "            temp_input.extend(yhat[0].tolist())\n",
    "            lst_output.extend(yhat.tolist())\n",
    "            i += 1\n",
    "    return lst_output"
   ]
  },
  {
   "cell_type": "code",
   "execution_count": 32,
   "id": "12343b63-3464-4e24-bf18-1f00bb17e507",
   "metadata": {
    "tags": []
   },
   "outputs": [],
   "source": [
    "# 14. Dự báo 30, 60, 90 ngày tiếp theo\n",
    "forecast_30 = forecast_days(30)\n",
    "forecast_60 = forecast_days(60)\n",
    "forecast_90 = forecast_days(90)"
   ]
  },
  {
   "cell_type": "code",
   "execution_count": 33,
   "id": "b4063bc9-d94d-471f-8117-331d74e51408",
   "metadata": {
    "tags": []
   },
   "outputs": [
    {
     "name": "stdout",
     "output_type": "stream",
     "text": [
      "Dự báo cho 30 ngày tiếp theo: [[0.13996773958206177], [0.13841259479522705], [0.13631707429885864], [0.13410162925720215], [0.13187634944915771], [0.12967151403427124], [0.1274995058774948], [0.12536615133285522], [0.12327316403388977], [0.12121964246034622], [0.11920324712991714], [0.11722110956907272], [0.11527051031589508], [0.11334897577762604], [0.11145460605621338], [0.1095859706401825], [0.10774212330579758], [0.10592249035835266], [0.10412682592868805], [0.10235504060983658], [0.10060726851224899], [0.09888367354869843], [0.09718447923660278], [0.0955098494887352], [0.09386000037193298], [0.09223505854606628], [0.09063511341810226], [0.08906018733978271], [0.08751025795936584], [0.0859852135181427]]\n"
     ]
    }
   ],
   "source": [
    "# 15. In ra dự đoán cho 30 ngày tiếp theo\n",
    "print(\"Dự báo cho 30 ngày tiếp theo:\", forecast_30)"
   ]
  },
  {
   "cell_type": "code",
   "execution_count": 34,
   "id": "67077348-1c5e-4d27-b85b-d6198039e6db",
   "metadata": {
    "tags": []
   },
   "outputs": [
    {
     "name": "stdout",
     "output_type": "stream",
     "text": [
      "Dự báo cho 60 ngày tiếp theo: [[0.13996773958206177], [0.13841259479522705], [0.13631707429885864], [0.13410162925720215], [0.13187634944915771], [0.12967151403427124], [0.1274995058774948], [0.12536615133285522], [0.12327316403388977], [0.12121964246034622], [0.11920324712991714], [0.11722110956907272], [0.11527051031589508], [0.11334897577762604], [0.11145460605621338], [0.1095859706401825], [0.10774212330579758], [0.10592249035835266], [0.10412682592868805], [0.10235504060983658], [0.10060726851224899], [0.09888367354869843], [0.09718447923660278], [0.0955098494887352], [0.09386000037193298], [0.09223505854606628], [0.09063511341810226], [0.08906018733978271], [0.08751025795936584], [0.0859852135181427], [0.08448491245508194], [0.08300916105508804], [0.0815577432513237], [0.08013033866882324], [0.07872666418552399], [0.07734636217355728], [0.07598911225795746], [0.0746544897556305], [0.07334212958812714], [0.07205164432525635], [0.0707826167345047], [0.06953464448451996], [0.06830736994743347], [0.06710035353899002], [0.06591320782899857], [0.06474556773900986], [0.06359705328941345], [0.06246727705001831], [0.06135590746998787], [0.06026256084442139], [0.0591869093477726], [0.05812859535217285], [0.05708731710910797], [0.056062716990709305], [0.05505451187491417], [0.054062370210886], [0.053085993975400925], [0.05212509259581566], [0.051179394125938416], [0.050248581916093826]]\n"
     ]
    }
   ],
   "source": [
    "# 15. In ra dự đoán cho 60 ngày tiếp theo\n",
    "print(\"Dự báo cho 60 ngày tiếp theo:\", forecast_60)"
   ]
  },
  {
   "cell_type": "code",
   "execution_count": 35,
   "id": "64491d29-b028-4911-924a-472619538172",
   "metadata": {
    "tags": []
   },
   "outputs": [
    {
     "name": "stdout",
     "output_type": "stream",
     "text": [
      "Dự báo cho 90 ngày tiếp theo: [[0.13996773958206177], [0.13841259479522705], [0.13631707429885864], [0.13410162925720215], [0.13187634944915771], [0.12967151403427124], [0.1274995058774948], [0.12536615133285522], [0.12327316403388977], [0.12121964246034622], [0.11920324712991714], [0.11722110956907272], [0.11527051031589508], [0.11334897577762604], [0.11145460605621338], [0.1095859706401825], [0.10774212330579758], [0.10592249035835266], [0.10412682592868805], [0.10235504060983658], [0.10060726851224899], [0.09888367354869843], [0.09718447923660278], [0.0955098494887352], [0.09386000037193298], [0.09223505854606628], [0.09063511341810226], [0.08906018733978271], [0.08751025795936584], [0.0859852135181427], [0.08448491245508194], [0.08300916105508804], [0.0815577432513237], [0.08013033866882324], [0.07872666418552399], [0.07734636217355728], [0.07598911225795746], [0.0746544897556305], [0.07334212958812714], [0.07205164432525635], [0.0707826167345047], [0.06953464448451996], [0.06830736994743347], [0.06710035353899002], [0.06591320782899857], [0.06474556773900986], [0.06359705328941345], [0.06246727705001831], [0.06135590746998787], [0.06026256084442139], [0.0591869093477726], [0.05812859535217285], [0.05708731710910797], [0.056062716990709305], [0.05505451187491417], [0.054062370210886], [0.053085993975400925], [0.05212509259581566], [0.051179394125938416], [0.050248581916093826], [0.049332395195961], [0.04843057319521904], [0.047542840242385864], [0.04666896536946297], [0.04580864682793617], [0.04496169462800026], [0.04412781819701195], [0.04330682009458542], [0.04249844327569008], [0.041702475398778915], [0.04091870039701462], [0.04014688730239868], [0.03938683867454529], [0.03863834589719772], [0.037901200354099274], [0.03717520833015442], [0.03646017611026764], [0.03575592488050461], [0.03506224602460861], [0.034378983080387115], [0.0337059423327446], [0.03304295986890793], [0.03238985687494278], [0.03174647316336632], [0.03111264295876026], [0.030488217249512672], [0.02987302467226982], [0.029266925528645515], [0.028669755905866623], [0.028081374242901802]]\n"
     ]
    }
   ],
   "source": [
    "# 15. In ra dự đoán cho 90 ngày tiếp theo\n",
    "print(\"Dự báo cho 90 ngày tiếp theo:\", forecast_90)"
   ]
  },
  {
   "cell_type": "code",
   "execution_count": 36,
   "id": "3dd6ded5-fc67-4904-a0fd-59c167779a17",
   "metadata": {
    "tags": []
   },
   "outputs": [
    {
     "data": {
      "image/png": "[encoded data removed]",
      "text/plain": [
       "<Figure size 640x480 with 1 Axes>"
      ]
     },
     "metadata": {},
     "output_type": "display_data"
    }
   ],
   "source": [
    "# 16. Vẽ hình\n",
    "\n",
    "# Vẽ dữ liệu kiểm tra\n",
    "test_data_index = pd.RangeIndex(start=train_size, stop=train_size + test_size)\n",
    "plt.plot(test_data_index, scaler.inverse_transform(test_data), label='Test Data')\n",
    "\n",
    "# Vẽ dữ liệu dự đoán\n",
    "plt.plot(np.arange(train_size, train_size + len(y_pred)), y_pred, label='Predicted')\n",
    "\n",
    "# Vẽ dự báo 90, 60, 30 ngày\n",
    "plt.plot(np.arange(train_size + len(test_data), train_size + len(test_data) + len(forecast_90)), scaler.inverse_transform(forecast_90), label='Forecast 90 days')\n",
    "plt.plot(np.arange(train_size + len(test_data), train_size + len(test_data) + len(forecast_60)), scaler.inverse_transform(forecast_60), label='Forecast 60 days')\n",
    "plt.plot(np.arange(train_size + len(test_data), train_size + len(test_data) + len(forecast_30)), scaler.inverse_transform(forecast_30), label='Forecast 30 days')\n",
    "\n",
    "plt.title('LSTM - ADA Stock Price - Forecast 30, 60, 90 days')\n",
    "plt.legend()\n",
    "plt.xlabel('Day')\n",
    "plt.ylabel('Price')\n",
    "plt.show()"
   ]
  }
 ],
 "metadata": {
  "kernelspec": {
   "display_name": "Python 3 (ipykernel)",
   "language": "python",
   "name": "python3"
  },
  "language_info": {
   "codemirror_mode": {
    "name": "ipython",
    "version": 3
   },
   "file_extension": ".py",
   "mimetype": "text/x-python",
   "name": "python",
   "nbconvert_exporter": "python",
   "pygments_lexer": "ipython3",
   "version": "3.10.8"
  }
 },
 "nbformat": 4,
 "nbformat_minor": 5
}
