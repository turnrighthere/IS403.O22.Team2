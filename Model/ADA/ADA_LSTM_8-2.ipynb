{
 "cells": [
  {
   "cell_type": "code",
   "execution_count": 1,
   "id": "d6e03734-7a73-489d-9cdc-84acf78c00e5",
   "metadata": {
    "tags": []
   },
   "outputs": [],
   "source": [
    "# 1. Import thư viện cần thiết\n",
    "import numpy as np\n",
    "import pandas as pd\n",
    "import matplotlib.pyplot as plt\n",
    "from sklearn.preprocessing import MinMaxScaler\n",
    "from keras.models import Sequential\n",
    "from keras.layers import Dense, LSTM"
   ]
  },
  {
   "cell_type": "code",
   "execution_count": 2,
   "id": "07adbc1b-a1d2-41ba-b0a6-73848cc36a2e",
   "metadata": {
    "tags": []
   },
   "outputs": [
    {
     "name": "stdout",
     "output_type": "stream",
     "text": [
      "<class 'pandas.core.frame.DataFrame'>\n",
      "RangeIndex: 2285 entries, 0 to 2284\n",
      "Data columns (total 7 columns):\n",
      " #   Column     Non-Null Count  Dtype  \n",
      "---  ------     --------------  -----  \n",
      " 0   Date       2285 non-null   object \n",
      " 1   Open       2285 non-null   float64\n",
      " 2   High       2285 non-null   float64\n",
      " 3   Low        2285 non-null   float64\n",
      " 4   Price      2285 non-null   float64\n",
      " 5   Adj Close  2285 non-null   float64\n",
      " 6   Volume     2285 non-null   int64  \n",
      "dtypes: float64(5), int64(1), object(1)\n",
      "memory usage: 125.1+ KB\n"
     ]
    }
   ],
   "source": [
    "# 2. Đọc file csv và gắn index với giá Price\n",
    "df = pd.read_csv('pre_ADA-USD.csv')\n",
    "df = df.rename(columns={'Close': 'Price'})\n",
    "df1 = df.reset_index()['Price']\n",
    "df.info()"
   ]
  },
  {
   "cell_type": "code",
   "execution_count": 3,
   "id": "823c305d-3c3c-46d7-ab97-99ea957bb915",
   "metadata": {
    "tags": []
   },
   "outputs": [],
   "source": [
    "# 3. Scaler data\n",
    "scaler = MinMaxScaler(feature_range=(0, 1))\n",
    "df1 = scaler.fit_transform(np.array(df1).reshape(-1, 1))"
   ]
  },
  {
   "cell_type": "code",
   "execution_count": 4,
   "id": "3c933b12-160d-4589-bda4-f6e0541be771",
   "metadata": {
    "tags": []
   },
   "outputs": [
    {
     "name": "stdout",
     "output_type": "stream",
     "text": [
      "Train shape: (1828, 1)\n",
      "Test shape: (457, 1)\n"
     ]
    }
   ],
   "source": [
    "# 4. Chia train test 8 - 2\n",
    "train_size = int(0.8 * len(df1))\n",
    "test_size = len(df1) - train_size\n",
    "\n",
    "# Lấy dữ liệu train và test\n",
    "train_data = df1[:train_size]\n",
    "test_data = df1[train_size:]\n",
    "\n",
    "print(\"Train shape:\", train_data.shape)\n",
    "print(\"Test shape:\", test_data.shape)"
   ]
  },
  {
   "cell_type": "code",
   "execution_count": 5,
   "id": "86d16400-4b94-40f8-b6ec-13ca9fae2127",
   "metadata": {
    "tags": []
   },
   "outputs": [],
   "source": [
    "# 5. Hàm Create Dataset\n",
    "import numpy\n",
    "# convert an array of values into a dataset matrix\n",
    "def create_dataset(dataset, time_step=1):\n",
    "\tdataX, dataY = [], []\n",
    "\tfor i in range(len(dataset)-time_step-1):\n",
    "\t\ta = dataset[i:(i+time_step), 0]   ###i=0, X=0,1,2,3-----99   Y=100 \n",
    "\t\tdataX.append(a)\n",
    "\t\tdataY.append(dataset[i + time_step, 0])\n",
    "\treturn numpy.array(dataX), numpy.array(dataY)"
   ]
  },
  {
   "cell_type": "code",
   "execution_count": 6,
   "id": "139117ad-87be-44e9-b6ec-91bf365f7d9b",
   "metadata": {
    "tags": []
   },
   "outputs": [],
   "source": [
    "# 6. Reshape into X=t,t+1,t+2..t+99 and Y=t+100\n",
    "time_step = 100\n",
    "X_train, y_train = create_dataset(train_data, time_step)\n",
    "combined_data = np.concatenate((train_data[-time_step:], test_data))\n",
    "X_test, ytest = create_dataset(combined_data, time_step)"
   ]
  },
  {
   "cell_type": "code",
   "execution_count": 7,
   "id": "f60d12b6-f562-48b8-99a5-d59b670f42c2",
   "metadata": {
    "tags": []
   },
   "outputs": [],
   "source": [
    "# 7. Reshape input to be [samples, time steps, features] which is required for LSTM\n",
    "X_train = X_train.reshape(X_train.shape[0], X_train.shape[1], 1)\n",
    "X_test = X_test.reshape(X_test.shape[0], X_test.shape[1], 1)"
   ]
  },
  {
   "cell_type": "code",
   "execution_count": 8,
   "id": "db87fc59-fb90-4e96-8eb0-7c65084b8ff6",
   "metadata": {
    "tags": []
   },
   "outputs": [],
   "source": [
    "# 8. Define LSTM Model\n",
    "model = Sequential()\n",
    "model.add(LSTM(50, return_sequences=True, input_shape=(100, 1)))\n",
    "model.add(LSTM(50, return_sequences=True))\n",
    "model.add(LSTM(50))\n",
    "model.add(Dense(1))\n",
    "model.compile(loss='mean_squared_error', optimizer='adam')"
   ]
  },
  {
   "cell_type": "code",
   "execution_count": 9,
   "id": "7d438015-03ba-433f-9c89-4bf4f6680ffe",
   "metadata": {
    "tags": []
   },
   "outputs": [
    {
     "name": "stdout",
     "output_type": "stream",
     "text": [
      "Epoch 1/100\n",
      "27/27 [==============================] - 14s 297ms/step - loss: 0.0118 - val_loss: 3.9617e-04\n",
      "Epoch 2/100\n",
      "27/27 [==============================] - 6s 208ms/step - loss: 0.0021 - val_loss: 4.1980e-04\n",
      "Epoch 3/100\n",
      "27/27 [==============================] - 5s 189ms/step - loss: 0.0018 - val_loss: 2.5468e-04\n",
      "Epoch 4/100\n",
      "27/27 [==============================] - 5s 188ms/step - loss: 0.0015 - val_loss: 3.3004e-04\n",
      "Epoch 5/100\n",
      "27/27 [==============================] - 5s 187ms/step - loss: 0.0013 - val_loss: 3.0527e-04\n",
      "Epoch 6/100\n",
      "27/27 [==============================] - 5s 168ms/step - loss: 0.0012 - val_loss: 2.6448e-04\n",
      "Epoch 7/100\n",
      "27/27 [==============================] - 5s 182ms/step - loss: 0.0013 - val_loss: 1.9065e-04\n",
      "Epoch 8/100\n",
      "27/27 [==============================] - 5s 193ms/step - loss: 0.0011 - val_loss: 2.1418e-04\n",
      "Epoch 9/100\n",
      "27/27 [==============================] - 5s 184ms/step - loss: 0.0010 - val_loss: 1.6895e-04\n",
      "Epoch 10/100\n",
      "27/27 [==============================] - 5s 186ms/step - loss: 9.9594e-04 - val_loss: 1.9314e-04\n",
      "Epoch 11/100\n",
      "27/27 [==============================] - 5s 191ms/step - loss: 0.0011 - val_loss: 5.6875e-04\n",
      "Epoch 12/100\n",
      "27/27 [==============================] - 6s 222ms/step - loss: 0.0011 - val_loss: 1.8088e-04\n",
      "Epoch 13/100\n",
      "27/27 [==============================] - 5s 198ms/step - loss: 9.9205e-04 - val_loss: 2.0784e-04\n",
      "Epoch 14/100\n",
      "27/27 [==============================] - 6s 219ms/step - loss: 8.8962e-04 - val_loss: 1.5478e-04\n",
      "Epoch 15/100\n",
      "27/27 [==============================] - 5s 195ms/step - loss: 8.3234e-04 - val_loss: 1.9374e-04\n",
      "Epoch 16/100\n",
      "27/27 [==============================] - 5s 184ms/step - loss: 8.4803e-04 - val_loss: 1.5653e-04\n",
      "Epoch 17/100\n",
      "27/27 [==============================] - 5s 178ms/step - loss: 7.9808e-04 - val_loss: 1.5236e-04\n",
      "Epoch 18/100\n",
      "27/27 [==============================] - 5s 180ms/step - loss: 7.5232e-04 - val_loss: 1.6286e-04\n",
      "Epoch 19/100\n",
      "27/27 [==============================] - 5s 182ms/step - loss: 8.8382e-04 - val_loss: 1.4191e-04\n",
      "Epoch 20/100\n",
      "27/27 [==============================] - 5s 180ms/step - loss: 8.0980e-04 - val_loss: 1.5431e-04\n",
      "Epoch 21/100\n",
      "27/27 [==============================] - 5s 176ms/step - loss: 7.4570e-04 - val_loss: 1.3475e-04\n",
      "Epoch 22/100\n",
      "27/27 [==============================] - 5s 195ms/step - loss: 7.2425e-04 - val_loss: 2.1717e-04\n",
      "Epoch 23/100\n",
      "27/27 [==============================] - 5s 201ms/step - loss: 7.0620e-04 - val_loss: 1.7154e-04\n",
      "Epoch 24/100\n",
      "27/27 [==============================] - 5s 185ms/step - loss: 7.5755e-04 - val_loss: 1.3326e-04\n",
      "Epoch 25/100\n",
      "27/27 [==============================] - 4s 165ms/step - loss: 8.0724e-04 - val_loss: 3.9223e-04\n",
      "Epoch 26/100\n",
      "27/27 [==============================] - 4s 161ms/step - loss: 7.2383e-04 - val_loss: 1.3292e-04\n",
      "Epoch 27/100\n",
      "27/27 [==============================] - 4s 162ms/step - loss: 6.7228e-04 - val_loss: 1.3304e-04\n",
      "Epoch 28/100\n",
      "27/27 [==============================] - 4s 161ms/step - loss: 7.5434e-04 - val_loss: 1.6879e-04\n",
      "Epoch 29/100\n",
      "27/27 [==============================] - 4s 163ms/step - loss: 7.0233e-04 - val_loss: 1.2437e-04\n",
      "Epoch 30/100\n",
      "27/27 [==============================] - 4s 160ms/step - loss: 6.0653e-04 - val_loss: 1.2389e-04\n",
      "Epoch 31/100\n",
      "27/27 [==============================] - 4s 165ms/step - loss: 5.9631e-04 - val_loss: 1.2583e-04\n",
      "Epoch 32/100\n",
      "27/27 [==============================] - 4s 158ms/step - loss: 5.7212e-04 - val_loss: 1.0934e-04\n",
      "Epoch 33/100\n",
      "27/27 [==============================] - 5s 168ms/step - loss: 5.6091e-04 - val_loss: 1.1498e-04\n",
      "Epoch 34/100\n",
      "27/27 [==============================] - 4s 162ms/step - loss: 5.5831e-04 - val_loss: 1.3222e-04\n",
      "Epoch 35/100\n",
      "27/27 [==============================] - 4s 158ms/step - loss: 5.9214e-04 - val_loss: 1.4831e-04\n",
      "Epoch 36/100\n",
      "27/27 [==============================] - 4s 163ms/step - loss: 6.6240e-04 - val_loss: 1.5340e-04\n",
      "Epoch 37/100\n",
      "27/27 [==============================] - 4s 158ms/step - loss: 6.1664e-04 - val_loss: 1.9653e-04\n",
      "Epoch 38/100\n",
      "27/27 [==============================] - 4s 164ms/step - loss: 5.4079e-04 - val_loss: 1.1099e-04\n",
      "Epoch 39/100\n",
      "27/27 [==============================] - 4s 160ms/step - loss: 5.0286e-04 - val_loss: 9.6422e-05\n",
      "Epoch 40/100\n",
      "27/27 [==============================] - 5s 168ms/step - loss: 4.7457e-04 - val_loss: 9.3641e-05\n",
      "Epoch 41/100\n",
      "27/27 [==============================] - 4s 161ms/step - loss: 4.6617e-04 - val_loss: 8.5201e-05\n",
      "Epoch 42/100\n",
      "27/27 [==============================] - 4s 159ms/step - loss: 4.6068e-04 - val_loss: 1.1775e-04\n",
      "Epoch 43/100\n",
      "27/27 [==============================] - 4s 159ms/step - loss: 5.7214e-04 - val_loss: 1.0148e-04\n",
      "Epoch 44/100\n",
      "27/27 [==============================] - 4s 157ms/step - loss: 6.2543e-04 - val_loss: 1.4128e-04\n",
      "Epoch 45/100\n",
      "27/27 [==============================] - 5s 169ms/step - loss: 4.8775e-04 - val_loss: 8.8694e-05\n",
      "Epoch 46/100\n",
      "27/27 [==============================] - 4s 159ms/step - loss: 4.1256e-04 - val_loss: 8.1308e-05\n",
      "Epoch 47/100\n",
      "27/27 [==============================] - 4s 160ms/step - loss: 4.0234e-04 - val_loss: 7.3978e-05\n",
      "Epoch 48/100\n",
      "27/27 [==============================] - 4s 159ms/step - loss: 4.3764e-04 - val_loss: 7.3008e-05\n",
      "Epoch 49/100\n",
      "27/27 [==============================] - 4s 159ms/step - loss: 4.0640e-04 - val_loss: 7.7728e-05\n",
      "Epoch 50/100\n",
      "27/27 [==============================] - 4s 161ms/step - loss: 3.6726e-04 - val_loss: 7.9435e-05\n",
      "Epoch 51/100\n",
      "27/27 [==============================] - 5s 173ms/step - loss: 4.0171e-04 - val_loss: 6.6295e-05\n",
      "Epoch 52/100\n",
      "27/27 [==============================] - 4s 159ms/step - loss: 4.3160e-04 - val_loss: 1.0781e-04\n",
      "Epoch 53/100\n",
      "27/27 [==============================] - 4s 158ms/step - loss: 4.1086e-04 - val_loss: 6.6444e-05\n",
      "Epoch 54/100\n",
      "27/27 [==============================] - 4s 162ms/step - loss: 3.7731e-04 - val_loss: 9.2569e-05\n",
      "Epoch 55/100\n",
      "27/27 [==============================] - 4s 163ms/step - loss: 3.7056e-04 - val_loss: 6.9585e-05\n",
      "Epoch 56/100\n",
      "27/27 [==============================] - 4s 159ms/step - loss: 3.3578e-04 - val_loss: 8.7202e-05\n",
      "Epoch 57/100\n",
      "27/27 [==============================] - 4s 158ms/step - loss: 3.9661e-04 - val_loss: 3.2208e-04\n",
      "Epoch 58/100\n",
      "27/27 [==============================] - 4s 165ms/step - loss: 8.1868e-04 - val_loss: 8.8600e-05\n",
      "Epoch 59/100\n",
      "27/27 [==============================] - 4s 165ms/step - loss: 4.3937e-04 - val_loss: 6.0782e-05\n",
      "Epoch 60/100\n",
      "27/27 [==============================] - 4s 159ms/step - loss: 3.9086e-04 - val_loss: 8.0295e-05\n",
      "Epoch 61/100\n",
      "27/27 [==============================] - 4s 158ms/step - loss: 3.3879e-04 - val_loss: 6.2101e-05\n",
      "Epoch 62/100\n",
      "27/27 [==============================] - 4s 164ms/step - loss: 3.2332e-04 - val_loss: 5.7716e-05\n",
      "Epoch 63/100\n",
      "27/27 [==============================] - 4s 163ms/step - loss: 3.1866e-04 - val_loss: 5.8554e-05\n",
      "Epoch 64/100\n",
      "27/27 [==============================] - 4s 159ms/step - loss: 3.0972e-04 - val_loss: 5.5627e-05\n",
      "Epoch 65/100\n",
      "27/27 [==============================] - 4s 158ms/step - loss: 3.3274e-04 - val_loss: 5.8776e-05\n",
      "Epoch 66/100\n",
      "27/27 [==============================] - 5s 169ms/step - loss: 3.5868e-04 - val_loss: 5.7931e-05\n",
      "Epoch 67/100\n",
      "27/27 [==============================] - 4s 158ms/step - loss: 3.1618e-04 - val_loss: 5.4413e-05\n",
      "Epoch 68/100\n",
      "27/27 [==============================] - 4s 163ms/step - loss: 3.0069e-04 - val_loss: 5.3281e-05\n",
      "Epoch 69/100\n",
      "27/27 [==============================] - 4s 162ms/step - loss: 3.2233e-04 - val_loss: 7.9436e-05\n",
      "Epoch 70/100\n",
      "27/27 [==============================] - 4s 162ms/step - loss: 3.1368e-04 - val_loss: 1.0222e-04\n",
      "Epoch 71/100\n",
      "27/27 [==============================] - 4s 161ms/step - loss: 3.8174e-04 - val_loss: 6.6726e-05\n",
      "Epoch 72/100\n",
      "27/27 [==============================] - 4s 161ms/step - loss: 3.5092e-04 - val_loss: 1.3549e-04\n",
      "Epoch 73/100\n",
      "27/27 [==============================] - 5s 170ms/step - loss: 3.5583e-04 - val_loss: 6.6537e-05\n",
      "Epoch 74/100\n",
      "27/27 [==============================] - 4s 161ms/step - loss: 3.1834e-04 - val_loss: 7.7631e-05\n",
      "Epoch 75/100\n",
      "27/27 [==============================] - 4s 164ms/step - loss: 3.0147e-04 - val_loss: 5.0808e-05\n",
      "Epoch 76/100\n",
      "27/27 [==============================] - 4s 162ms/step - loss: 3.2499e-04 - val_loss: 5.4825e-05\n",
      "Epoch 77/100\n",
      "27/27 [==============================] - 4s 160ms/step - loss: 3.1837e-04 - val_loss: 5.0766e-05\n",
      "Epoch 78/100\n",
      "27/27 [==============================] - 5s 171ms/step - loss: 3.2557e-04 - val_loss: 1.0647e-04\n",
      "Epoch 79/100\n",
      "27/27 [==============================] - 4s 161ms/step - loss: 3.3798e-04 - val_loss: 5.1374e-05\n",
      "Epoch 80/100\n",
      "27/27 [==============================] - 4s 160ms/step - loss: 3.0183e-04 - val_loss: 6.0567e-05\n",
      "Epoch 81/100\n",
      "27/27 [==============================] - 5s 170ms/step - loss: 3.6625e-04 - val_loss: 6.8500e-05\n",
      "Epoch 82/100\n",
      "27/27 [==============================] - 5s 181ms/step - loss: 3.4746e-04 - val_loss: 5.1064e-05\n",
      "Epoch 83/100\n",
      "27/27 [==============================] - 4s 160ms/step - loss: 3.1306e-04 - val_loss: 5.0113e-05\n",
      "Epoch 84/100\n",
      "27/27 [==============================] - 4s 158ms/step - loss: 3.0422e-04 - val_loss: 4.9763e-05\n",
      "Epoch 85/100\n",
      "27/27 [==============================] - 4s 160ms/step - loss: 2.9072e-04 - val_loss: 5.0233e-05\n",
      "Epoch 86/100\n",
      "27/27 [==============================] - 4s 161ms/step - loss: 3.0504e-04 - val_loss: 7.0356e-05\n",
      "Epoch 87/100\n",
      "27/27 [==============================] - 4s 165ms/step - loss: 2.9549e-04 - val_loss: 5.3215e-05\n",
      "Epoch 88/100\n",
      "27/27 [==============================] - 4s 163ms/step - loss: 3.0935e-04 - val_loss: 6.1828e-05\n",
      "Epoch 89/100\n",
      "27/27 [==============================] - 4s 161ms/step - loss: 3.0832e-04 - val_loss: 8.5467e-05\n",
      "Epoch 90/100\n",
      "27/27 [==============================] - 4s 163ms/step - loss: 3.4115e-04 - val_loss: 1.1177e-04\n",
      "Epoch 91/100\n",
      "27/27 [==============================] - 4s 159ms/step - loss: 3.1240e-04 - val_loss: 5.0506e-05\n",
      "Epoch 92/100\n",
      "27/27 [==============================] - 5s 172ms/step - loss: 3.1144e-04 - val_loss: 1.0155e-04\n",
      "Epoch 93/100\n",
      "27/27 [==============================] - 5s 179ms/step - loss: 3.1625e-04 - val_loss: 4.7076e-05\n",
      "Epoch 94/100\n",
      "27/27 [==============================] - 5s 173ms/step - loss: 3.4179e-04 - val_loss: 4.6618e-05\n",
      "Epoch 95/100\n",
      "27/27 [==============================] - 5s 167ms/step - loss: 3.7029e-04 - val_loss: 1.1884e-04\n",
      "Epoch 96/100\n",
      "27/27 [==============================] - 4s 163ms/step - loss: 3.2628e-04 - val_loss: 4.8661e-05\n",
      "Epoch 97/100\n",
      "27/27 [==============================] - 4s 155ms/step - loss: 2.9662e-04 - val_loss: 5.1742e-05\n",
      "Epoch 98/100\n",
      "27/27 [==============================] - 4s 153ms/step - loss: 3.1941e-04 - val_loss: 6.4235e-05\n",
      "Epoch 99/100\n",
      "27/27 [==============================] - 4s 164ms/step - loss: 3.9702e-04 - val_loss: 5.1193e-05\n",
      "Epoch 100/100\n",
      "27/27 [==============================] - 4s 159ms/step - loss: 2.9353e-04 - val_loss: 8.7529e-05\n"
     ]
    },
    {
     "data": {
      "text/plain": [
       "<keras.callbacks.History at 0x1a119356a40>"
      ]
     },
     "execution_count": 9,
     "metadata": {},
     "output_type": "execute_result"
    }
   ],
   "source": [
    "# 9. Fit mô hình với dữ liệu train\n",
    "model.fit(X_train, y_train, validation_data=(X_test, ytest), epochs=100, batch_size=64, verbose=1)"
   ]
  },
  {
   "cell_type": "code",
   "execution_count": 10,
   "id": "11429718-53af-460b-bc27-6339c6f5f98e",
   "metadata": {},
   "outputs": [
    {
     "name": "stdout",
     "output_type": "stream",
     "text": [
      "54/54 [==============================] - 3s 36ms/step\n",
      "15/15 [==============================] - 1s 35ms/step\n"
     ]
    }
   ],
   "source": [
    "# 10. Dự báo dữ liệu test\n",
    "train_predict = model.predict(X_train)\n",
    "y_pred = model.predict(X_test)"
   ]
  },
  {
   "cell_type": "code",
   "execution_count": 11,
   "id": "325b6e6a-fb3e-4f67-a484-014e7ddb4183",
   "metadata": {},
   "outputs": [],
   "source": [
    "# 11. Chuẩn hóa dữ liệu y_pred\n",
    "train_predict = scaler.inverse_transform(train_predict)\n",
    "y_pred = scaler.inverse_transform(y_pred)"
   ]
  },
  {
   "cell_type": "code",
   "execution_count": 12,
   "id": "b964944b-407f-425e-9fbd-d7cd9e12b40a",
   "metadata": {
    "tags": []
   },
   "outputs": [
    {
     "name": "stdout",
     "output_type": "stream",
     "text": [
      "Mean Absolute Error (MAE): 0.2625606546520075\n",
      "Mean Absolute Percentage Error (MAPE): 199.1958935672405\n",
      "Root Mean Square Error (RMSE): 0.27723274183697455\n"
     ]
    }
   ],
   "source": [
    "# 12. Tính RMSE, MAPE, MAE\n",
    "from sklearn.metrics import mean_absolute_error, mean_squared_error, mean_absolute_percentage_error\n",
    "\n",
    "mae = mean_absolute_error(ytest, y_pred)\n",
    "mape = mean_absolute_percentage_error(ytest, y_pred)\n",
    "rmse = np.sqrt(mean_squared_error(ytest, y_pred))\n",
    "\n",
    "print(\"Mean Absolute Error (MAE):\", mae)\n",
    "print(\"Mean Absolute Percentage Error (MAPE):\", mape * 100)\n",
    "print(\"Root Mean Square Error (RMSE):\", rmse)"
   ]
  },
  {
   "cell_type": "code",
   "execution_count": 13,
   "id": "2e271a5d-d3ba-478b-ab4d-d877f6725302",
   "metadata": {
    "tags": []
   },
   "outputs": [],
   "source": [
    "# 13. Hàm dự báo\n",
    "def forecast_days(n_days):\n",
    "    x_input = test_data[-100:].reshape(1, -1)\n",
    "    temp_input = list(x_input[0])\n",
    "\n",
    "    lst_output = []\n",
    "    i = 0\n",
    "    while i < n_days:\n",
    "        if len(temp_input) > 100:\n",
    "            x_input = np.array(temp_input[1:])\n",
    "            x_input = x_input.reshape(1, -1)\n",
    "            x_input = x_input.reshape((1, time_step, 1))\n",
    "            yhat = model.predict(x_input, verbose=0)\n",
    "            temp_input.extend(yhat[0].tolist())\n",
    "            temp_input = temp_input[1:]\n",
    "            lst_output.extend(yhat.tolist())\n",
    "            i += 1\n",
    "        else:\n",
    "            x_input = x_input.reshape((1, time_step, 1))\n",
    "            yhat = model.predict(x_input, verbose=0)\n",
    "            temp_input.extend(yhat[0].tolist())\n",
    "            lst_output.extend(yhat.tolist())\n",
    "            i += 1\n",
    "    return lst_output"
   ]
  },
  {
   "cell_type": "code",
   "execution_count": 14,
   "id": "12343b63-3464-4e24-bf18-1f00bb17e507",
   "metadata": {
    "tags": []
   },
   "outputs": [],
   "source": [
    "# 14. Dự báo 30, 60, 90 ngày tiếp theo\n",
    "forecast_30 = forecast_days(30)\n",
    "forecast_60 = forecast_days(60)\n",
    "forecast_90 = forecast_days(90)"
   ]
  },
  {
   "cell_type": "code",
   "execution_count": 15,
   "id": "b4063bc9-d94d-471f-8117-331d74e51408",
   "metadata": {
    "tags": []
   },
   "outputs": [
    {
     "name": "stdout",
     "output_type": "stream",
     "text": [
      "Dự báo cho 30 ngày tiếp theo: [[0.13751155138015747], [0.13516147434711456], [0.13185305893421173], [0.12824943661689758], [0.12455883622169495], [0.12084420025348663], [0.1171322613954544], [0.11343850195407867], [0.10977225005626678], [0.1061381995677948], [0.1025383472442627], [0.09897290170192719], [0.09544150531291962], [0.09194355458021164], [0.08847871422767639], [0.08504705131053925], [0.08164910227060318], [0.07828580588102341], [0.07495841383934021], [0.07166842371225357], [0.06841748207807541], [0.06520723551511765], [0.06203926354646683], [0.05891507491469383], [0.055835992097854614], [0.05280308425426483], [0.0498172789812088], [0.04687926918268204], [0.04398951679468155], [0.04114830493927002]]\n"
     ]
    }
   ],
   "source": [
    "# 15. In ra dự đoán cho 30 ngày tiếp theo\n",
    "print(\"Dự báo cho 30 ngày tiếp theo:\", forecast_30)"
   ]
  },
  {
   "cell_type": "code",
   "execution_count": 16,
   "id": "67077348-1c5e-4d27-b85b-d6198039e6db",
   "metadata": {
    "tags": []
   },
   "outputs": [
    {
     "name": "stdout",
     "output_type": "stream",
     "text": [
      "Dự báo cho 60 ngày tiếp theo: [[0.13751155138015747], [0.13516147434711456], [0.13185305893421173], [0.12824943661689758], [0.12455883622169495], [0.12084420025348663], [0.1171322613954544], [0.11343850195407867], [0.10977225005626678], [0.1061381995677948], [0.1025383472442627], [0.09897290170192719], [0.09544150531291962], [0.09194355458021164], [0.08847871422767639], [0.08504705131053925], [0.08164910227060318], [0.07828580588102341], [0.07495841383934021], [0.07166842371225357], [0.06841748207807541], [0.06520723551511765], [0.06203926354646683], [0.05891507491469383], [0.055835992097854614], [0.05280308425426483], [0.0498172789812088], [0.04687926918268204], [0.04398951679468155], [0.04114830493927002], [0.03835573047399521], [0.03561173379421234], [0.032916124910116196], [0.03026857227087021], [0.027668673545122147], [0.025115936994552612], [0.02260979823768139], [0.020149648189544678], [0.017734836786985397], [0.015364671126008034], [0.01303846389055252], [0.010755479335784912], [0.00851499568670988], [0.006316272541880608], [0.004158570431172848], [0.002041146159172058], [-3.672949969768524e-05], [-0.0020758006721735], [-0.0040767984464764595], [-0.00604043435305357], [-0.00796742644160986], [-0.009858476929366589], [-0.011714289896190166], [-0.01353555079549551], [-0.015322915278375149], [-0.017077051103115082], [-0.01879863068461418], [-0.020488277077674866], [-0.022146612405776978], [-0.023774273693561554]]\n"
     ]
    }
   ],
   "source": [
    "# 15. In ra dự đoán cho 60 ngày tiếp theo\n",
    "print(\"Dự báo cho 60 ngày tiếp theo:\", forecast_60)"
   ]
  },
  {
   "cell_type": "code",
   "execution_count": 17,
   "id": "64491d29-b028-4911-924a-472619538172",
   "metadata": {
    "tags": []
   },
   "outputs": [
    {
     "name": "stdout",
     "output_type": "stream",
     "text": [
      "Dự báo cho 90 ngày tiếp theo: [[0.13751155138015747], [0.13516147434711456], [0.13185305893421173], [0.12824943661689758], [0.12455883622169495], [0.12084420025348663], [0.1171322613954544], [0.11343850195407867], [0.10977225005626678], [0.1061381995677948], [0.1025383472442627], [0.09897290170192719], [0.09544150531291962], [0.09194355458021164], [0.08847871422767639], [0.08504705131053925], [0.08164910227060318], [0.07828580588102341], [0.07495841383934021], [0.07166842371225357], [0.06841748207807541], [0.06520723551511765], [0.06203926354646683], [0.05891507491469383], [0.055835992097854614], [0.05280308425426483], [0.0498172789812088], [0.04687926918268204], [0.04398951679468155], [0.04114830493927002], [0.03835573047399521], [0.03561173379421234], [0.032916124910116196], [0.03026857227087021], [0.027668673545122147], [0.025115936994552612], [0.02260979823768139], [0.020149648189544678], [0.017734836786985397], [0.015364671126008034], [0.01303846389055252], [0.010755479335784912], [0.00851499568670988], [0.006316272541880608], [0.004158570431172848], [0.002041146159172058], [-3.672949969768524e-05], [-0.0020758006721735], [-0.0040767984464764595], [-0.00604043435305357], [-0.00796742644160986], [-0.009858476929366589], [-0.011714289896190166], [-0.01353555079549551], [-0.015322915278375149], [-0.017077051103115082], [-0.01879863068461418], [-0.020488277077674866], [-0.022146612405776978], [-0.023774273693561554], [-0.025371834635734558], [-0.02693992108106613], [-0.028479069471359253], [-0.029989879578351974], [-0.03147289156913757], [-0.03292863443493843], [-0.034357696771621704], [-0.035760506987571716], [-0.037137627601623535], [-0.03848956525325775], [-0.039816755801439285], [-0.04111972823739052], [-0.04239891469478607], [-0.04365478456020355], [-0.04488775506615639], [-0.04609828442335129], [-0.04728679731488228], [-0.0484536811709404], [-0.04959936439990997], [-0.05072427913546562], [-0.05182875692844391], [-0.05291318520903587], [-0.05397797003388405], [-0.05502345785498619], [-0.056049998849630356], [-0.057057950645685196], [-0.05804764851927757], [-0.059019435197114944], [-0.059973638504743576], [-0.060910601168870926]]\n"
     ]
    }
   ],
   "source": [
    "# 15. In ra dự đoán cho 90 ngày tiếp theo\n",
    "print(\"Dự báo cho 90 ngày tiếp theo:\", forecast_90)"
   ]
  },
  {
   "cell_type": "code",
   "execution_count": 18,
   "id": "3dd6ded5-fc67-4904-a0fd-59c167779a17",
   "metadata": {
    "tags": []
   },
   "outputs": [
    {
     "data": {
      "image/png": "[encoded data removed]",
      "text/plain": [
       "<Figure size 640x480 with 1 Axes>"
      ]
     },
     "metadata": {},
     "output_type": "display_data"
    }
   ],
   "source": [
    "# 16. Vẽ hình\n",
    "\n",
    "# Vẽ dữ liệu kiểm tra\n",
    "test_data_index = pd.RangeIndex(start=train_size, stop=train_size + test_size)\n",
    "plt.plot(test_data_index, scaler.inverse_transform(test_data), label='Test Data')\n",
    "\n",
    "# Vẽ dữ liệu dự đoán\n",
    "plt.plot(np.arange(train_size, train_size + len(y_pred)), y_pred, label='Predicted')\n",
    "\n",
    "# Vẽ dự báo 90, 60, 30 ngày\n",
    "plt.plot(np.arange(train_size + len(test_data), train_size + len(test_data) + len(forecast_90)), scaler.inverse_transform(forecast_90), label='Forecast 90 days')\n",
    "plt.plot(np.arange(train_size + len(test_data), train_size + len(test_data) + len(forecast_60)), scaler.inverse_transform(forecast_60), label='Forecast 60 days')\n",
    "plt.plot(np.arange(train_size + len(test_data), train_size + len(test_data) + len(forecast_30)), scaler.inverse_transform(forecast_30), label='Forecast 30 days')\n",
    "\n",
    "plt.title('LSTM - ADA Stock Price - Forecast 30, 60, 90 days')\n",
    "plt.legend()\n",
    "plt.xlabel('Day')\n",
    "plt.ylabel('Price')\n",
    "plt.show()"
   ]
  }
 ],
 "metadata": {
  "kernelspec": {
   "display_name": "Python 3 (ipykernel)",
   "language": "python",
   "name": "python3"
  },
  "language_info": {
   "codemirror_mode": {
    "name": "ipython",
    "version": 3
   },
   "file_extension": ".py",
   "mimetype": "text/x-python",
   "name": "python",
   "nbconvert_exporter": "python",
   "pygments_lexer": "ipython3",
   "version": "3.10.8"
  }
 },
 "nbformat": 4,
 "nbformat_minor": 5
}
