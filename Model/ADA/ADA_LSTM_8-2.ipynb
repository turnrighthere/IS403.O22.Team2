{
 "cells": [
  {
   "cell_type": "code",
   "execution_count": 1,
   "id": "d6e03734-7a73-489d-9cdc-84acf78c00e5",
   "metadata": {
    "tags": []
   },
   "outputs": [],
   "source": [
    "# 1. Import thư viện cần thiết\n",
    "import numpy as np\n",
    "import pandas as pd\n",
    "import matplotlib.pyplot as plt\n",
    "from sklearn.preprocessing import MinMaxScaler\n",
    "from keras.models import Sequential\n",
    "from keras.layers import Dense, LSTM"
   ]
  },
  {
   "cell_type": "code",
   "execution_count": 2,
   "id": "07adbc1b-a1d2-41ba-b0a6-73848cc36a2e",
   "metadata": {
    "tags": []
   },
   "outputs": [
    {
     "name": "stdout",
     "output_type": "stream",
     "text": [
      "<class 'pandas.core.frame.DataFrame'>\n",
      "RangeIndex: 2285 entries, 0 to 2284\n",
      "Data columns (total 7 columns):\n",
      " #   Column     Non-Null Count  Dtype  \n",
      "---  ------     --------------  -----  \n",
      " 0   Date       2285 non-null   object \n",
      " 1   Open       2285 non-null   float64\n",
      " 2   High       2285 non-null   float64\n",
      " 3   Low        2285 non-null   float64\n",
      " 4   Price      2285 non-null   float64\n",
      " 5   Adj Close  2285 non-null   float64\n",
      " 6   Volume     2285 non-null   int64  \n",
      "dtypes: float64(5), int64(1), object(1)\n",
      "memory usage: 125.1+ KB\n"
     ]
    }
   ],
   "source": [
    "# 2. Đọc file csv và gắn index với giá Price\n",
    "df = pd.read_csv('pre_ADA-USD.csv')\n",
    "df = df.rename(columns={'Close': 'Price'})\n",
    "df1 = df.reset_index()['Price']\n",
    "df.info()"
   ]
  },
  {
   "cell_type": "code",
   "execution_count": 3,
   "id": "823c305d-3c3c-46d7-ab97-99ea957bb915",
   "metadata": {
    "tags": []
   },
   "outputs": [],
   "source": [
    "# 3. Scaler data\n",
    "scaler = MinMaxScaler(feature_range=(0, 1))\n",
    "df1 = scaler.fit_transform(np.array(df1).reshape(-1, 1))"
   ]
  },
  {
   "cell_type": "code",
   "execution_count": 4,
   "id": "3c933b12-160d-4589-bda4-f6e0541be771",
   "metadata": {
    "tags": []
   },
   "outputs": [
    {
     "name": "stdout",
     "output_type": "stream",
     "text": [
      "Train shape: (1828, 1)\n",
      "Test shape: (457, 1)\n"
     ]
    }
   ],
   "source": [
    "# 4. Chia train test 8 - 2\n",
    "train_size = int(0.8 * len(df1))\n",
    "test_size = len(df1) - train_size\n",
    "\n",
    "# Lấy dữ liệu train và test\n",
    "train_data = df1[:train_size]\n",
    "test_data = df1[train_size:]\n",
    "\n",
    "print(\"Train shape:\", train_data.shape)\n",
    "print(\"Test shape:\", test_data.shape)"
   ]
  },
  {
   "cell_type": "code",
   "execution_count": 5,
   "id": "86d16400-4b94-40f8-b6ec-13ca9fae2127",
   "metadata": {
    "tags": []
   },
   "outputs": [],
   "source": [
    "# 5. Hàm Create Dataset\n",
    "import numpy\n",
    "# convert an array of values into a dataset matrix\n",
    "def create_dataset(dataset, time_step=1):\n",
    "\tdataX, dataY = [], []\n",
    "\tfor i in range(len(dataset)-time_step-1):\n",
    "\t\ta = dataset[i:(i+time_step), 0]   ###i=0, X=0,1,2,3-----99   Y=100 \n",
    "\t\tdataX.append(a)\n",
    "\t\tdataY.append(dataset[i + time_step, 0])\n",
    "\treturn numpy.array(dataX), numpy.array(dataY)"
   ]
  },
  {
   "cell_type": "code",
   "execution_count": 6,
   "id": "139117ad-87be-44e9-b6ec-91bf365f7d9b",
   "metadata": {
    "tags": []
   },
   "outputs": [],
   "source": [
    "# 6. Reshape into X=t,t+1,t+2..t+99 and Y=t+100\n",
    "time_step = 100\n",
    "X_train, y_train = create_dataset(train_data, time_step)\n",
    "X_test, ytest = create_dataset(test_data, time_step)"
   ]
  },
  {
   "cell_type": "code",
   "execution_count": 7,
   "id": "f60d12b6-f562-48b8-99a5-d59b670f42c2",
   "metadata": {
    "tags": []
   },
   "outputs": [],
   "source": [
    "# 7. Reshape input to be [samples, time steps, features] which is required for LSTM\n",
    "X_train = X_train.reshape(X_train.shape[0], X_train.shape[1], 1)\n",
    "X_test = X_test.reshape(X_test.shape[0], X_test.shape[1], 1)"
   ]
  },
  {
   "cell_type": "code",
   "execution_count": 8,
   "id": "db87fc59-fb90-4e96-8eb0-7c65084b8ff6",
   "metadata": {
    "tags": []
   },
   "outputs": [],
   "source": [
    "# 8. Define LSTM Model\n",
    "model = Sequential()\n",
    "model.add(LSTM(50, return_sequences=True, input_shape=(100, 1)))\n",
    "model.add(LSTM(50, return_sequences=True))\n",
    "model.add(LSTM(50))\n",
    "model.add(Dense(1))\n",
    "model.compile(loss='mean_squared_error', optimizer='adam')"
   ]
  },
  {
   "cell_type": "code",
   "execution_count": 9,
   "id": "7d438015-03ba-433f-9c89-4bf4f6680ffe",
   "metadata": {
    "tags": []
   },
   "outputs": [
    {
     "name": "stdout",
     "output_type": "stream",
     "text": [
      "Epoch 1/100\n",
      "27/27 [==============================] - 11s 217ms/step - loss: 0.0098 - val_loss: 6.2540e-04\n",
      "Epoch 2/100\n",
      "27/27 [==============================] - 4s 163ms/step - loss: 0.0019 - val_loss: 3.2853e-04\n",
      "Epoch 3/100\n",
      "27/27 [==============================] - 4s 150ms/step - loss: 0.0017 - val_loss: 3.0501e-04\n",
      "Epoch 4/100\n",
      "27/27 [==============================] - 4s 160ms/step - loss: 0.0013 - val_loss: 3.7932e-04\n",
      "Epoch 5/100\n",
      "27/27 [==============================] - 4s 159ms/step - loss: 0.0013 - val_loss: 2.9908e-04\n",
      "Epoch 6/100\n",
      "27/27 [==============================] - 4s 154ms/step - loss: 0.0013 - val_loss: 2.1906e-04\n",
      "Epoch 7/100\n",
      "27/27 [==============================] - 4s 151ms/step - loss: 0.0011 - val_loss: 2.2682e-04\n",
      "Epoch 8/100\n",
      "27/27 [==============================] - 4s 152ms/step - loss: 0.0012 - val_loss: 2.0911e-04\n",
      "Epoch 9/100\n",
      "27/27 [==============================] - 4s 152ms/step - loss: 0.0010 - val_loss: 3.8770e-04\n",
      "Epoch 10/100\n",
      "27/27 [==============================] - 4s 152ms/step - loss: 0.0011 - val_loss: 2.6153e-04\n",
      "Epoch 11/100\n",
      "27/27 [==============================] - 4s 152ms/step - loss: 9.5516e-04 - val_loss: 2.2598e-04\n",
      "Epoch 12/100\n",
      "27/27 [==============================] - 4s 156ms/step - loss: 9.9281e-04 - val_loss: 1.7685e-04\n",
      "Epoch 13/100\n",
      "27/27 [==============================] - 4s 153ms/step - loss: 9.1834e-04 - val_loss: 2.9233e-04\n",
      "Epoch 14/100\n",
      "27/27 [==============================] - 4s 152ms/step - loss: 0.0011 - val_loss: 3.2127e-04\n",
      "Epoch 15/100\n",
      "27/27 [==============================] - 4s 152ms/step - loss: 9.5904e-04 - val_loss: 2.9441e-04\n",
      "Epoch 16/100\n",
      "27/27 [==============================] - 4s 156ms/step - loss: 8.4569e-04 - val_loss: 2.1074e-04\n",
      "Epoch 17/100\n",
      "27/27 [==============================] - 4s 157ms/step - loss: 7.9223e-04 - val_loss: 1.7452e-04\n",
      "Epoch 18/100\n",
      "27/27 [==============================] - 4s 151ms/step - loss: 8.2604e-04 - val_loss: 1.6058e-04\n",
      "Epoch 19/100\n",
      "27/27 [==============================] - 4s 154ms/step - loss: 7.3285e-04 - val_loss: 1.6371e-04\n",
      "Epoch 20/100\n",
      "27/27 [==============================] - 4s 159ms/step - loss: 7.0603e-04 - val_loss: 1.5002e-04\n",
      "Epoch 21/100\n",
      "27/27 [==============================] - 4s 154ms/step - loss: 6.8065e-04 - val_loss: 1.5146e-04\n",
      "Epoch 22/100\n",
      "27/27 [==============================] - 4s 152ms/step - loss: 7.0602e-04 - val_loss: 1.4581e-04\n",
      "Epoch 23/100\n",
      "27/27 [==============================] - 4s 153ms/step - loss: 6.5842e-04 - val_loss: 1.4288e-04\n",
      "Epoch 24/100\n",
      "27/27 [==============================] - 4s 152ms/step - loss: 6.7297e-04 - val_loss: 1.5110e-04\n",
      "Epoch 25/100\n",
      "27/27 [==============================] - 4s 157ms/step - loss: 6.5443e-04 - val_loss: 1.5376e-04\n",
      "Epoch 26/100\n",
      "27/27 [==============================] - 4s 152ms/step - loss: 6.5720e-04 - val_loss: 1.3027e-04\n",
      "Epoch 27/100\n",
      "27/27 [==============================] - 4s 154ms/step - loss: 6.3498e-04 - val_loss: 1.3709e-04\n",
      "Epoch 28/100\n",
      "27/27 [==============================] - 4s 154ms/step - loss: 6.2500e-04 - val_loss: 1.2790e-04\n",
      "Epoch 29/100\n",
      "27/27 [==============================] - 4s 152ms/step - loss: 6.0662e-04 - val_loss: 1.4981e-04\n",
      "Epoch 30/100\n",
      "27/27 [==============================] - 4s 158ms/step - loss: 6.9522e-04 - val_loss: 3.5427e-04\n",
      "Epoch 31/100\n",
      "27/27 [==============================] - 4s 154ms/step - loss: 6.3695e-04 - val_loss: 1.3406e-04\n",
      "Epoch 32/100\n",
      "27/27 [==============================] - 4s 153ms/step - loss: 6.1278e-04 - val_loss: 1.2298e-04\n",
      "Epoch 33/100\n",
      "27/27 [==============================] - 4s 153ms/step - loss: 5.7381e-04 - val_loss: 1.1947e-04\n",
      "Epoch 34/100\n",
      "27/27 [==============================] - 4s 157ms/step - loss: 5.9268e-04 - val_loss: 1.4083e-04\n",
      "Epoch 35/100\n",
      "27/27 [==============================] - 4s 152ms/step - loss: 5.5473e-04 - val_loss: 1.5227e-04\n",
      "Epoch 36/100\n",
      "27/27 [==============================] - 4s 159ms/step - loss: 5.2548e-04 - val_loss: 1.2529e-04\n",
      "Epoch 37/100\n",
      "27/27 [==============================] - 4s 154ms/step - loss: 5.3746e-04 - val_loss: 1.4005e-04\n",
      "Epoch 38/100\n",
      "27/27 [==============================] - 4s 152ms/step - loss: 5.2793e-04 - val_loss: 2.0007e-04\n",
      "Epoch 39/100\n",
      "27/27 [==============================] - 4s 159ms/step - loss: 4.9048e-04 - val_loss: 1.0698e-04\n",
      "Epoch 40/100\n",
      "27/27 [==============================] - 4s 152ms/step - loss: 5.7257e-04 - val_loss: 1.0962e-04\n",
      "Epoch 41/100\n",
      "27/27 [==============================] - 4s 153ms/step - loss: 4.3102e-04 - val_loss: 1.0449e-04\n",
      "Epoch 42/100\n",
      "27/27 [==============================] - 4s 153ms/step - loss: 4.8500e-04 - val_loss: 9.1433e-05\n",
      "Epoch 43/100\n",
      "27/27 [==============================] - 4s 159ms/step - loss: 4.2430e-04 - val_loss: 1.0420e-04\n",
      "Epoch 44/100\n",
      "27/27 [==============================] - 4s 153ms/step - loss: 4.0245e-04 - val_loss: 8.9636e-05\n",
      "Epoch 45/100\n",
      "27/27 [==============================] - 4s 154ms/step - loss: 3.8028e-04 - val_loss: 7.8048e-05\n",
      "Epoch 46/100\n",
      "27/27 [==============================] - 4s 153ms/step - loss: 3.8812e-04 - val_loss: 8.4614e-05\n",
      "Epoch 47/100\n",
      "27/27 [==============================] - 4s 153ms/step - loss: 3.7823e-04 - val_loss: 8.3058e-05\n",
      "Epoch 48/100\n",
      "27/27 [==============================] - 4s 163ms/step - loss: 3.5443e-04 - val_loss: 8.2415e-05\n",
      "Epoch 49/100\n",
      "27/27 [==============================] - 4s 153ms/step - loss: 3.3341e-04 - val_loss: 7.2646e-05\n",
      "Epoch 50/100\n",
      "27/27 [==============================] - 4s 154ms/step - loss: 4.2621e-04 - val_loss: 6.8834e-05\n",
      "Epoch 51/100\n",
      "27/27 [==============================] - 4s 160ms/step - loss: 3.3675e-04 - val_loss: 7.7549e-05\n",
      "Epoch 52/100\n",
      "27/27 [==============================] - 4s 156ms/step - loss: 3.3787e-04 - val_loss: 6.9341e-05\n",
      "Epoch 53/100\n",
      "27/27 [==============================] - 4s 152ms/step - loss: 3.7479e-04 - val_loss: 8.7704e-05\n",
      "Epoch 54/100\n",
      "27/27 [==============================] - 4s 151ms/step - loss: 3.8375e-04 - val_loss: 6.3244e-05\n",
      "Epoch 55/100\n",
      "27/27 [==============================] - 4s 157ms/step - loss: 3.3184e-04 - val_loss: 8.6173e-05\n",
      "Epoch 56/100\n",
      "27/27 [==============================] - 4s 153ms/step - loss: 3.2605e-04 - val_loss: 6.4053e-05\n",
      "Epoch 57/100\n",
      "27/27 [==============================] - 4s 153ms/step - loss: 3.0353e-04 - val_loss: 7.1955e-05\n",
      "Epoch 58/100\n",
      "27/27 [==============================] - 4s 157ms/step - loss: 3.8191e-04 - val_loss: 7.6738e-05\n",
      "Epoch 59/100\n",
      "27/27 [==============================] - 4s 152ms/step - loss: 3.4339e-04 - val_loss: 6.2062e-05\n",
      "Epoch 60/100\n",
      "27/27 [==============================] - 4s 154ms/step - loss: 3.2187e-04 - val_loss: 6.4107e-05\n",
      "Epoch 61/100\n",
      "27/27 [==============================] - 4s 152ms/step - loss: 3.0267e-04 - val_loss: 7.8127e-05\n",
      "Epoch 62/100\n",
      "27/27 [==============================] - 4s 157ms/step - loss: 3.4026e-04 - val_loss: 5.6698e-05\n",
      "Epoch 63/100\n",
      "27/27 [==============================] - 4s 153ms/step - loss: 3.3132e-04 - val_loss: 1.3798e-04\n",
      "Epoch 64/100\n",
      "27/27 [==============================] - 4s 154ms/step - loss: 3.2415e-04 - val_loss: 6.5707e-05\n",
      "Epoch 65/100\n",
      "27/27 [==============================] - 4s 155ms/step - loss: 3.2351e-04 - val_loss: 1.0537e-04\n",
      "Epoch 66/100\n",
      "27/27 [==============================] - 4s 154ms/step - loss: 3.2232e-04 - val_loss: 5.9945e-05\n",
      "Epoch 67/100\n",
      "27/27 [==============================] - 4s 162ms/step - loss: 4.3928e-04 - val_loss: 4.6211e-04\n",
      "Epoch 68/100\n",
      "27/27 [==============================] - 4s 156ms/step - loss: 7.3979e-04 - val_loss: 6.2084e-05\n",
      "Epoch 69/100\n",
      "27/27 [==============================] - 4s 153ms/step - loss: 4.0720e-04 - val_loss: 6.2460e-05\n",
      "Epoch 70/100\n",
      "27/27 [==============================] - 4s 153ms/step - loss: 3.0590e-04 - val_loss: 7.0488e-05\n",
      "Epoch 71/100\n",
      "27/27 [==============================] - 4s 158ms/step - loss: 3.1501e-04 - val_loss: 5.8830e-05\n",
      "Epoch 72/100\n",
      "27/27 [==============================] - 4s 154ms/step - loss: 3.2232e-04 - val_loss: 6.0396e-05\n",
      "Epoch 73/100\n",
      "27/27 [==============================] - 4s 154ms/step - loss: 2.9754e-04 - val_loss: 5.8233e-05\n",
      "Epoch 74/100\n",
      "27/27 [==============================] - 4s 154ms/step - loss: 3.2582e-04 - val_loss: 6.0405e-05\n",
      "Epoch 75/100\n",
      "27/27 [==============================] - 4s 154ms/step - loss: 3.1279e-04 - val_loss: 5.4120e-05\n",
      "Epoch 76/100\n",
      "27/27 [==============================] - 4s 158ms/step - loss: 3.3627e-04 - val_loss: 1.2471e-04\n",
      "Epoch 77/100\n",
      "27/27 [==============================] - 4s 163ms/step - loss: 3.1322e-04 - val_loss: 7.5906e-05\n",
      "Epoch 78/100\n",
      "27/27 [==============================] - 5s 167ms/step - loss: 3.1937e-04 - val_loss: 1.5143e-04\n",
      "Epoch 79/100\n",
      "27/27 [==============================] - 4s 164ms/step - loss: 3.3796e-04 - val_loss: 5.3135e-05\n",
      "Epoch 80/100\n",
      "27/27 [==============================] - 4s 157ms/step - loss: 3.5710e-04 - val_loss: 1.2518e-04\n",
      "Epoch 81/100\n",
      "27/27 [==============================] - 4s 154ms/step - loss: 3.1136e-04 - val_loss: 8.6779e-05\n",
      "Epoch 82/100\n",
      "27/27 [==============================] - 4s 155ms/step - loss: 3.2220e-04 - val_loss: 5.4081e-05\n",
      "Epoch 83/100\n",
      "27/27 [==============================] - 4s 161ms/step - loss: 3.6246e-04 - val_loss: 7.3738e-05\n",
      "Epoch 84/100\n",
      "27/27 [==============================] - 4s 155ms/step - loss: 3.4825e-04 - val_loss: 8.0879e-05\n",
      "Epoch 85/100\n",
      "27/27 [==============================] - 4s 157ms/step - loss: 3.0547e-04 - val_loss: 6.5666e-05\n",
      "Epoch 86/100\n",
      "27/27 [==============================] - 4s 152ms/step - loss: 2.9654e-04 - val_loss: 6.0526e-05\n",
      "Epoch 87/100\n",
      "27/27 [==============================] - 4s 155ms/step - loss: 3.5338e-04 - val_loss: 5.2541e-05\n",
      "Epoch 88/100\n",
      "27/27 [==============================] - 4s 158ms/step - loss: 3.1989e-04 - val_loss: 5.2725e-05\n",
      "Epoch 89/100\n",
      "27/27 [==============================] - 4s 153ms/step - loss: 3.2163e-04 - val_loss: 1.4395e-04\n",
      "Epoch 90/100\n",
      "27/27 [==============================] - 4s 158ms/step - loss: 3.3213e-04 - val_loss: 6.1960e-05\n",
      "Epoch 91/100\n",
      "27/27 [==============================] - 4s 153ms/step - loss: 3.4530e-04 - val_loss: 1.7092e-04\n",
      "Epoch 92/100\n",
      "27/27 [==============================] - 4s 153ms/step - loss: 3.0635e-04 - val_loss: 5.5830e-05\n",
      "Epoch 93/100\n",
      "27/27 [==============================] - 4s 153ms/step - loss: 2.8478e-04 - val_loss: 5.5372e-05\n",
      "Epoch 94/100\n",
      "27/27 [==============================] - 4s 155ms/step - loss: 3.0028e-04 - val_loss: 5.5892e-05\n",
      "Epoch 95/100\n",
      "27/27 [==============================] - 4s 159ms/step - loss: 2.9883e-04 - val_loss: 8.4082e-05\n",
      "Epoch 96/100\n",
      "27/27 [==============================] - 4s 154ms/step - loss: 3.4964e-04 - val_loss: 5.1946e-05\n",
      "Epoch 97/100\n",
      "27/27 [==============================] - 4s 154ms/step - loss: 3.3822e-04 - val_loss: 1.1200e-04\n",
      "Epoch 98/100\n",
      "27/27 [==============================] - 4s 158ms/step - loss: 3.8106e-04 - val_loss: 5.0693e-05\n",
      "Epoch 99/100\n",
      "27/27 [==============================] - 4s 163ms/step - loss: 2.9373e-04 - val_loss: 5.5429e-05\n",
      "Epoch 100/100\n",
      "27/27 [==============================] - 4s 158ms/step - loss: 2.8747e-04 - val_loss: 5.2888e-05\n"
     ]
    },
    {
     "data": {
      "text/plain": [
       "<keras.callbacks.History at 0x1de49392e00>"
      ]
     },
     "execution_count": 9,
     "metadata": {},
     "output_type": "execute_result"
    }
   ],
   "source": [
    "# 9. Fit mô hình với dữ liệu train\n",
    "model.fit(X_train, y_train, validation_data=(X_test, ytest), epochs=100, batch_size=64, verbose=1)"
   ]
  },
  {
   "cell_type": "code",
   "execution_count": 10,
   "id": "11429718-53af-460b-bc27-6339c6f5f98e",
   "metadata": {},
   "outputs": [
    {
     "name": "stdout",
     "output_type": "stream",
     "text": [
      "54/54 [==============================] - 3s 35ms/step\n",
      "12/12 [==============================] - 0s 33ms/step\n"
     ]
    }
   ],
   "source": [
    "# 10. Dự báo dữ liệu test\n",
    "train_predict = model.predict(X_train)\n",
    "y_pred = model.predict(X_test)"
   ]
  },
  {
   "cell_type": "code",
   "execution_count": 11,
   "id": "325b6e6a-fb3e-4f67-a484-014e7ddb4183",
   "metadata": {},
   "outputs": [],
   "source": [
    "# 11. Chuẩn hóa dữ liệu y_pred\n",
    "train_predict = scaler.inverse_transform(train_predict)\n",
    "y_pred = scaler.inverse_transform(y_pred)"
   ]
  },
  {
   "cell_type": "code",
   "execution_count": 12,
   "id": "b964944b-407f-425e-9fbd-d7cd9e12b40a",
   "metadata": {
    "tags": []
   },
   "outputs": [
    {
     "name": "stdout",
     "output_type": "stream",
     "text": [
      "Mean Absolute Error (MAE): 0.2847388564213753\n",
      "Mean Absolute Percentage Error (MAPE): 211.13140192630837\n",
      "Root Mean Square Error (RMSE): 0.30136810272569525\n"
     ]
    }
   ],
   "source": [
    "# 12. Tính RMSE, MAPE, MAE\n",
    "from sklearn.metrics import mean_absolute_error, mean_squared_error, mean_absolute_percentage_error\n",
    "\n",
    "mae = mean_absolute_error(ytest, y_pred)\n",
    "mape = mean_absolute_percentage_error(ytest, y_pred)\n",
    "rmse = np.sqrt(mean_squared_error(ytest, y_pred))\n",
    "\n",
    "print(\"Mean Absolute Error (MAE):\", mae)\n",
    "print(\"Mean Absolute Percentage Error (MAPE):\", mape * 100)\n",
    "print(\"Root Mean Square Error (RMSE):\", rmse)"
   ]
  },
  {
   "cell_type": "code",
   "execution_count": 13,
   "id": "2e271a5d-d3ba-478b-ab4d-d877f6725302",
   "metadata": {
    "tags": []
   },
   "outputs": [],
   "source": [
    "# 13. Hàm dự báo\n",
    "def forecast_days(n_days):\n",
    "    x_input = test_data[-100:].reshape(1, -1)\n",
    "    temp_input = list(x_input[0])\n",
    "\n",
    "    lst_output = []\n",
    "    i = 0\n",
    "    while i < n_days:\n",
    "        if len(temp_input) > 100:\n",
    "            x_input = np.array(temp_input[1:])\n",
    "            x_input = x_input.reshape(1, -1)\n",
    "            x_input = x_input.reshape((1, time_step, 1))\n",
    "            yhat = model.predict(x_input, verbose=0)\n",
    "            temp_input.extend(yhat[0].tolist())\n",
    "            temp_input = temp_input[1:]\n",
    "            lst_output.extend(yhat.tolist())\n",
    "            i += 1\n",
    "        else:\n",
    "            x_input = x_input.reshape((1, time_step, 1))\n",
    "            yhat = model.predict(x_input, verbose=0)\n",
    "            temp_input.extend(yhat[0].tolist())\n",
    "            lst_output.extend(yhat.tolist())\n",
    "            i += 1\n",
    "    return lst_output"
   ]
  },
  {
   "cell_type": "code",
   "execution_count": 14,
   "id": "12343b63-3464-4e24-bf18-1f00bb17e507",
   "metadata": {
    "tags": []
   },
   "outputs": [],
   "source": [
    "# 14. Dự báo 30, 60, 90 ngày tiếp theo\n",
    "forecast_30 = forecast_days(30)\n",
    "forecast_60 = forecast_days(60)\n",
    "forecast_90 = forecast_days(90)"
   ]
  },
  {
   "cell_type": "code",
   "execution_count": 15,
   "id": "b4063bc9-d94d-471f-8117-331d74e51408",
   "metadata": {
    "tags": []
   },
   "outputs": [
    {
     "name": "stdout",
     "output_type": "stream",
     "text": [
      "Dự báo cho 30 ngày tiếp theo: [[0.14259393513202667], [0.14206284284591675], [0.1413045972585678], [0.14047613739967346], [0.1396195888519287], [0.1387450397014618], [0.13785763084888458], [0.1369616687297821], [0.13606083393096924], [0.13515795767307281], [0.134255051612854], [0.13335350155830383], [0.13245423138141632], [0.13155779242515564], [0.13066457211971283], [0.1297747790813446], [0.1288885921239853], [0.12800610065460205], [0.12712740898132324], [0.12625263631343842], [0.12538188695907593], [0.12451525032520294], [0.12365283071994781], [0.1227947548031807], [0.12194108963012695], [0.12109192460775375], [0.12024733424186707], [0.11940741539001465], [0.1185721904039383], [0.11774174124002457]]\n"
     ]
    }
   ],
   "source": [
    "# 15. In ra dự đoán cho 30 ngày tiếp theo\n",
    "print(\"Dự báo cho 30 ngày tiếp theo:\", forecast_30)"
   ]
  },
  {
   "cell_type": "code",
   "execution_count": 16,
   "id": "67077348-1c5e-4d27-b85b-d6198039e6db",
   "metadata": {
    "tags": []
   },
   "outputs": [
    {
     "name": "stdout",
     "output_type": "stream",
     "text": [
      "Dự báo cho 60 ngày tiếp theo: [[0.14259393513202667], [0.14206284284591675], [0.1413045972585678], [0.14047613739967346], [0.1396195888519287], [0.1387450397014618], [0.13785763084888458], [0.1369616687297821], [0.13606083393096924], [0.13515795767307281], [0.134255051612854], [0.13335350155830383], [0.13245423138141632], [0.13155779242515564], [0.13066457211971283], [0.1297747790813446], [0.1288885921239853], [0.12800610065460205], [0.12712740898132324], [0.12625263631343842], [0.12538188695907593], [0.12451525032520294], [0.12365283071994781], [0.1227947548031807], [0.12194108963012695], [0.12109192460775375], [0.12024733424186707], [0.11940741539001465], [0.1185721904039383], [0.11774174124002457], [0.11691607534885406], [0.11609525978565216], [0.11527926474809647], [0.11446817964315414], [0.11366195231676102], [0.11286064982414246], [0.11206424981355667], [0.11127275973558426], [0.11048615723848343], [0.10970445722341537], [0.10892768204212189], [0.1081557348370552], [0.10738871246576309], [0.106626495718956], [0.10586914420127869], [0.10511661320924759], [0.10436892509460449], [0.10362599790096283], [0.10288786888122559], [0.10215451568365097], [0.1014258936047554], [0.10070198774337769], [0.09998279064893723], [0.09926827996969223], [0.0985584557056427], [0.09785325825214386], [0.0971526950597763], [0.09645674377679825], [0.0957653671503067], [0.09507857263088226]]\n"
     ]
    }
   ],
   "source": [
    "# 15. In ra dự đoán cho 60 ngày tiếp theo\n",
    "print(\"Dự báo cho 60 ngày tiếp theo:\", forecast_60)"
   ]
  },
  {
   "cell_type": "code",
   "execution_count": 17,
   "id": "64491d29-b028-4911-924a-472619538172",
   "metadata": {
    "tags": []
   },
   "outputs": [
    {
     "name": "stdout",
     "output_type": "stream",
     "text": [
      "Dự báo cho 90 ngày tiếp theo: [[0.14259393513202667], [0.14206284284591675], [0.1413045972585678], [0.14047613739967346], [0.1396195888519287], [0.1387450397014618], [0.13785763084888458], [0.1369616687297821], [0.13606083393096924], [0.13515795767307281], [0.134255051612854], [0.13335350155830383], [0.13245423138141632], [0.13155779242515564], [0.13066457211971283], [0.1297747790813446], [0.1288885921239853], [0.12800610065460205], [0.12712740898132324], [0.12625263631343842], [0.12538188695907593], [0.12451525032520294], [0.12365283071994781], [0.1227947548031807], [0.12194108963012695], [0.12109192460775375], [0.12024733424186707], [0.11940741539001465], [0.1185721904039383], [0.11774174124002457], [0.11691607534885406], [0.11609525978565216], [0.11527926474809647], [0.11446817964315414], [0.11366195231676102], [0.11286064982414246], [0.11206424981355667], [0.11127275973558426], [0.11048615723848343], [0.10970445722341537], [0.10892768204212189], [0.1081557348370552], [0.10738871246576309], [0.106626495718956], [0.10586914420127869], [0.10511661320924759], [0.10436892509460449], [0.10362599790096283], [0.10288786888122559], [0.10215451568365097], [0.1014258936047554], [0.10070198774337769], [0.09998279064893723], [0.09926827996969223], [0.0985584557056427], [0.09785325825214386], [0.0971526950597763], [0.09645674377679825], [0.0957653671503067], [0.09507857263088226], [0.09439632296562195], [0.09371860325336456], [0.09304537624120712], [0.09237664192914963], [0.09171236306428909], [0.09105253219604492], [0.09039711952209473], [0.0897461399435997], [0.08909953385591507], [0.08845727890729904], [0.08781938254833221], [0.087185800075531], [0.08655651658773422], [0.08593150228261948], [0.08531076461076736], [0.08469425141811371], [0.08408194780349731], [0.08347387611865997], [0.08286995440721512], [0.08227018266916275], [0.08167456090450287], [0.08108305186033249], [0.08049564063549042], [0.07991228997707367], [0.07933299988508224], [0.07875772565603256], [0.07818647474050522], [0.07761920243501663], [0.0770559161901474], [0.07649656385183334]]\n"
     ]
    }
   ],
   "source": [
    "# 15. In ra dự đoán cho 90 ngày tiếp theo\n",
    "print(\"Dự báo cho 90 ngày tiếp theo:\", forecast_90)"
   ]
  },
  {
   "cell_type": "code",
   "execution_count": 21,
   "id": "3dd6ded5-fc67-4904-a0fd-59c167779a17",
   "metadata": {
    "tags": []
   },
   "outputs": [
    {
     "data": {
      "image/png": "[encoded data removed]",
      "text/plain": [
       "<Figure size 640x480 with 1 Axes>"
      ]
     },
     "metadata": {},
     "output_type": "display_data"
    }
   ],
   "source": [
    "# 16. Vẽ hình\n",
    "\n",
    "# Vẽ dữ liệu kiểm tra\n",
    "test_data_index = pd.RangeIndex(start=train_size, stop=train_size + test_size)\n",
    "plt.plot(test_data_index, scaler.inverse_transform(test_data), label='Test Data')\n",
    "\n",
    "# Vẽ dữ liệu dự đoán\n",
    "predicted_data_index = range(train_size + 100, train_size + 100 + len(y_pred))\n",
    "plt.plot(predicted_data_index, y_pred, label='Predicted')\n",
    "\n",
    "# Vẽ dự báo 90, 60, 30 ngày\n",
    "plt.plot(np.arange(train_size + len(test_data), train_size + len(test_data) + len(forecast_90)), scaler.inverse_transform(forecast_90), label='Forecast 90 days')\n",
    "plt.plot(np.arange(train_size + len(test_data), train_size + len(test_data) + len(forecast_60)), scaler.inverse_transform(forecast_60), label='Forecast 60 days')\n",
    "plt.plot(np.arange(train_size + len(test_data), train_size + len(test_data) + len(forecast_30)), scaler.inverse_transform(forecast_30), label='Forecast 30 days')\n",
    "\n",
    "plt.title('LSTM - ADA Stock Price - Forecast 30, 60, 90 days')\n",
    "plt.legend()\n",
    "plt.xlabel('Day')\n",
    "plt.ylabel('Price')\n",
    "plt.show()"
   ]
  }
 ],
 "metadata": {
  "kernelspec": {
   "display_name": "Python 3 (ipykernel)",
   "language": "python",
   "name": "python3"
  },
  "language_info": {
   "codemirror_mode": {
    "name": "ipython",
    "version": 3
   },
   "file_extension": ".py",
   "mimetype": "text/x-python",
   "name": "python",
   "nbconvert_exporter": "python",
   "pygments_lexer": "ipython3",
   "version": "3.10.8"
  }
 },
 "nbformat": 4,
 "nbformat_minor": 5
}
