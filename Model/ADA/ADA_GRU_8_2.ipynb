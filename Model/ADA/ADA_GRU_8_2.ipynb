{
  "nbformat": 4,
  "nbformat_minor": 0,
  "metadata": {
    "colab": {
      "provenance": []
    },
    "kernelspec": {
      "name": "python3",
      "display_name": "Python 3"
    },
    "language_info": {
      "name": "python"
    }
  },
  "cells": [
    {
      "cell_type": "code",
      "execution_count": 1,
      "metadata": {
        "id": "2s2M7RWnLyVs",
        "colab": {
          "base_uri": "https://localhost:8080/"
        },
        "outputId": "4ac6650c-e091-45c9-edf7-0b6b2496f189"
      },
      "outputs": [
        {
          "output_type": "stream",
          "name": "stdout",
          "text": [
            "Mounted at /content/drive\n"
          ]
        }
      ],
      "source": [
        "from google.colab import drive\n",
        "drive.mount('/content/drive')\n",
        "import numpy as np\n",
        "import pandas as pd\n",
        "import matplotlib.pyplot as plt\n",
        "from sklearn.preprocessing import MinMaxScaler\n",
        "from keras.models import Sequential\n",
        "from keras.layers import Dense, GRU"
      ]
    },
    {
      "cell_type": "code",
      "source": [
        "# Đọc file csv\n",
        "df = pd.read_csv('/content/drive/MyDrive/Colab Notebooks/Data/pre_ADA-USD.csv')\n",
        "df = df.rename(columns={'Close': 'Price'})\n",
        "df['Date'] = pd.to_datetime(df['Date'])\n",
        "df.head(5)"
      ],
      "metadata": {
        "id": "N4mD72x5nuXt",
        "colab": {
          "base_uri": "https://localhost:8080/",
          "height": 206
        },
        "outputId": "62f7bb77-4154-48ac-f0d6-829ce2c8d75c"
      },
      "execution_count": 2,
      "outputs": [
        {
          "output_type": "execute_result",
          "data": {
            "text/plain": [
              "        Date      Open      High       Low     Price  Adj Close     Volume\n",
              "0 2018-03-01  0.311973  0.311973  0.288392  0.304397   0.304397  184691008\n",
              "1 2018-03-02  0.304424  0.307058  0.288875  0.293504   0.293504  107240000\n",
              "2 2018-03-03  0.292952  0.309129  0.292507  0.297106   0.297106  115320000\n",
              "3 2018-03-04  0.296285  0.303588  0.286193  0.300787   0.300787   94436000\n",
              "4 2018-03-05  0.299897  0.317723  0.291055  0.297622   0.297622  202675008"
            ],
            "text/html": [
              "\n",
              "  <div id=\"df-178ca51a-8b4e-4733-928b-aa1eac56bdb1\" class=\"colab-df-container\">\n",
              "    <div>\n",
              "<style scoped>\n",
              "    .dataframe tbody tr th:only-of-type {\n",
              "        vertical-align: middle;\n",
              "    }\n",
              "\n",
              "    .dataframe tbody tr th {\n",
              "        vertical-align: top;\n",
              "    }\n",
              "\n",
              "    .dataframe thead th {\n",
              "        text-align: right;\n",
              "    }\n",
              "</style>\n",
              "<table border=\"1\" class=\"dataframe\">\n",
              "  <thead>\n",
              "    <tr style=\"text-align: right;\">\n",
              "      <th></th>\n",
              "      <th>Date</th>\n",
              "      <th>Open</th>\n",
              "      <th>High</th>\n",
              "      <th>Low</th>\n",
              "      <th>Price</th>\n",
              "      <th>Adj Close</th>\n",
              "      <th>Volume</th>\n",
              "    </tr>\n",
              "  </thead>\n",
              "  <tbody>\n",
              "    <tr>\n",
              "      <th>0</th>\n",
              "      <td>2018-03-01</td>\n",
              "      <td>0.311973</td>\n",
              "      <td>0.311973</td>\n",
              "      <td>0.288392</td>\n",
              "      <td>0.304397</td>\n",
              "      <td>0.304397</td>\n",
              "      <td>184691008</td>\n",
              "    </tr>\n",
              "    <tr>\n",
              "      <th>1</th>\n",
              "      <td>2018-03-02</td>\n",
              "      <td>0.304424</td>\n",
              "      <td>0.307058</td>\n",
              "      <td>0.288875</td>\n",
              "      <td>0.293504</td>\n",
              "      <td>0.293504</td>\n",
              "      <td>107240000</td>\n",
              "    </tr>\n",
              "    <tr>\n",
              "      <th>2</th>\n",
              "      <td>2018-03-03</td>\n",
              "      <td>0.292952</td>\n",
              "      <td>0.309129</td>\n",
              "      <td>0.292507</td>\n",
              "      <td>0.297106</td>\n",
              "      <td>0.297106</td>\n",
              "      <td>115320000</td>\n",
              "    </tr>\n",
              "    <tr>\n",
              "      <th>3</th>\n",
              "      <td>2018-03-04</td>\n",
              "      <td>0.296285</td>\n",
              "      <td>0.303588</td>\n",
              "      <td>0.286193</td>\n",
              "      <td>0.300787</td>\n",
              "      <td>0.300787</td>\n",
              "      <td>94436000</td>\n",
              "    </tr>\n",
              "    <tr>\n",
              "      <th>4</th>\n",
              "      <td>2018-03-05</td>\n",
              "      <td>0.299897</td>\n",
              "      <td>0.317723</td>\n",
              "      <td>0.291055</td>\n",
              "      <td>0.297622</td>\n",
              "      <td>0.297622</td>\n",
              "      <td>202675008</td>\n",
              "    </tr>\n",
              "  </tbody>\n",
              "</table>\n",
              "</div>\n",
              "    <div class=\"colab-df-buttons\">\n",
              "\n",
              "  <div class=\"colab-df-container\">\n",
              "    <button class=\"colab-df-convert\" onclick=\"convertToInteractive('df-178ca51a-8b4e-4733-928b-aa1eac56bdb1')\"\n",
              "            title=\"Convert this dataframe to an interactive table.\"\n",
              "            style=\"display:none;\">\n",
              "\n",
              "  <svg xmlns=\"http://www.w3.org/2000/svg\" height=\"24px\" viewBox=\"0 -960 960 960\">\n",
              "    <path d=\"M120-120v-720h720v720H120Zm60-500h600v-160H180v160Zm220 220h160v-160H400v160Zm0 220h160v-160H400v160ZM180-400h160v-160H180v160Zm440 0h160v-160H620v160ZM180-180h160v-160H180v160Zm440 0h160v-160H620v160Z\"/>\n",
              "  </svg>\n",
              "    </button>\n",
              "\n",
              "  <style>\n",
              "    .colab-df-container {\n",
              "      display:flex;\n",
              "      gap: 12px;\n",
              "    }\n",
              "\n",
              "    .colab-df-convert {\n",
              "      background-color: #E8F0FE;\n",
              "      border: none;\n",
              "      border-radius: 50%;\n",
              "      cursor: pointer;\n",
              "      display: none;\n",
              "      fill: #1967D2;\n",
              "      height: 32px;\n",
              "      padding: 0 0 0 0;\n",
              "      width: 32px;\n",
              "    }\n",
              "\n",
              "    .colab-df-convert:hover {\n",
              "      background-color: #E2EBFA;\n",
              "      box-shadow: 0px 1px 2px rgba(60, 64, 67, 0.3), 0px 1px 3px 1px rgba(60, 64, 67, 0.15);\n",
              "      fill: #174EA6;\n",
              "    }\n",
              "\n",
              "    .colab-df-buttons div {\n",
              "      margin-bottom: 4px;\n",
              "    }\n",
              "\n",
              "    [theme=dark] .colab-df-convert {\n",
              "      background-color: #3B4455;\n",
              "      fill: #D2E3FC;\n",
              "    }\n",
              "\n",
              "    [theme=dark] .colab-df-convert:hover {\n",
              "      background-color: #434B5C;\n",
              "      box-shadow: 0px 1px 3px 1px rgba(0, 0, 0, 0.15);\n",
              "      filter: drop-shadow(0px 1px 2px rgba(0, 0, 0, 0.3));\n",
              "      fill: #FFFFFF;\n",
              "    }\n",
              "  </style>\n",
              "\n",
              "    <script>\n",
              "      const buttonEl =\n",
              "        document.querySelector('#df-178ca51a-8b4e-4733-928b-aa1eac56bdb1 button.colab-df-convert');\n",
              "      buttonEl.style.display =\n",
              "        google.colab.kernel.accessAllowed ? 'block' : 'none';\n",
              "\n",
              "      async function convertToInteractive(key) {\n",
              "        const element = document.querySelector('#df-178ca51a-8b4e-4733-928b-aa1eac56bdb1');\n",
              "        const dataTable =\n",
              "          await google.colab.kernel.invokeFunction('convertToInteractive',\n",
              "                                                    [key], {});\n",
              "        if (!dataTable) return;\n",
              "\n",
              "        const docLinkHtml = 'Like what you see? Visit the ' +\n",
              "          '<a target=\"_blank\" href=https://colab.research.google.com/notebooks/data_table.ipynb>data table notebook</a>'\n",
              "          + ' to learn more about interactive tables.';\n",
              "        element.innerHTML = '';\n",
              "        dataTable['output_type'] = 'display_data';\n",
              "        await google.colab.output.renderOutput(dataTable, element);\n",
              "        const docLink = document.createElement('div');\n",
              "        docLink.innerHTML = docLinkHtml;\n",
              "        element.appendChild(docLink);\n",
              "      }\n",
              "    </script>\n",
              "  </div>\n",
              "\n",
              "\n",
              "<div id=\"df-4ab7cabc-cb09-48f5-89e5-be3e80171f60\">\n",
              "  <button class=\"colab-df-quickchart\" onclick=\"quickchart('df-4ab7cabc-cb09-48f5-89e5-be3e80171f60')\"\n",
              "            title=\"Suggest charts\"\n",
              "            style=\"display:none;\">\n",
              "\n",
              "<svg xmlns=\"http://www.w3.org/2000/svg\" height=\"24px\"viewBox=\"0 0 24 24\"\n",
              "     width=\"24px\">\n",
              "    <g>\n",
              "        <path d=\"M19 3H5c-1.1 0-2 .9-2 2v14c0 1.1.9 2 2 2h14c1.1 0 2-.9 2-2V5c0-1.1-.9-2-2-2zM9 17H7v-7h2v7zm4 0h-2V7h2v10zm4 0h-2v-4h2v4z\"/>\n",
              "    </g>\n",
              "</svg>\n",
              "  </button>\n",
              "\n",
              "<style>\n",
              "  .colab-df-quickchart {\n",
              "      --bg-color: #E8F0FE;\n",
              "      --fill-color: #1967D2;\n",
              "      --hover-bg-color: #E2EBFA;\n",
              "      --hover-fill-color: #174EA6;\n",
              "      --disabled-fill-color: #AAA;\n",
              "      --disabled-bg-color: #DDD;\n",
              "  }\n",
              "\n",
              "  [theme=dark] .colab-df-quickchart {\n",
              "      --bg-color: #3B4455;\n",
              "      --fill-color: #D2E3FC;\n",
              "      --hover-bg-color: #434B5C;\n",
              "      --hover-fill-color: #FFFFFF;\n",
              "      --disabled-bg-color: #3B4455;\n",
              "      --disabled-fill-color: #666;\n",
              "  }\n",
              "\n",
              "  .colab-df-quickchart {\n",
              "    background-color: var(--bg-color);\n",
              "    border: none;\n",
              "    border-radius: 50%;\n",
              "    cursor: pointer;\n",
              "    display: none;\n",
              "    fill: var(--fill-color);\n",
              "    height: 32px;\n",
              "    padding: 0;\n",
              "    width: 32px;\n",
              "  }\n",
              "\n",
              "  .colab-df-quickchart:hover {\n",
              "    background-color: var(--hover-bg-color);\n",
              "    box-shadow: 0 1px 2px rgba(60, 64, 67, 0.3), 0 1px 3px 1px rgba(60, 64, 67, 0.15);\n",
              "    fill: var(--button-hover-fill-color);\n",
              "  }\n",
              "\n",
              "  .colab-df-quickchart-complete:disabled,\n",
              "  .colab-df-quickchart-complete:disabled:hover {\n",
              "    background-color: var(--disabled-bg-color);\n",
              "    fill: var(--disabled-fill-color);\n",
              "    box-shadow: none;\n",
              "  }\n",
              "\n",
              "  .colab-df-spinner {\n",
              "    border: 2px solid var(--fill-color);\n",
              "    border-color: transparent;\n",
              "    border-bottom-color: var(--fill-color);\n",
              "    animation:\n",
              "      spin 1s steps(1) infinite;\n",
              "  }\n",
              "\n",
              "  @keyframes spin {\n",
              "    0% {\n",
              "      border-color: transparent;\n",
              "      border-bottom-color: var(--fill-color);\n",
              "      border-left-color: var(--fill-color);\n",
              "    }\n",
              "    20% {\n",
              "      border-color: transparent;\n",
              "      border-left-color: var(--fill-color);\n",
              "      border-top-color: var(--fill-color);\n",
              "    }\n",
              "    30% {\n",
              "      border-color: transparent;\n",
              "      border-left-color: var(--fill-color);\n",
              "      border-top-color: var(--fill-color);\n",
              "      border-right-color: var(--fill-color);\n",
              "    }\n",
              "    40% {\n",
              "      border-color: transparent;\n",
              "      border-right-color: var(--fill-color);\n",
              "      border-top-color: var(--fill-color);\n",
              "    }\n",
              "    60% {\n",
              "      border-color: transparent;\n",
              "      border-right-color: var(--fill-color);\n",
              "    }\n",
              "    80% {\n",
              "      border-color: transparent;\n",
              "      border-right-color: var(--fill-color);\n",
              "      border-bottom-color: var(--fill-color);\n",
              "    }\n",
              "    90% {\n",
              "      border-color: transparent;\n",
              "      border-bottom-color: var(--fill-color);\n",
              "    }\n",
              "  }\n",
              "</style>\n",
              "\n",
              "  <script>\n",
              "    async function quickchart(key) {\n",
              "      const quickchartButtonEl =\n",
              "        document.querySelector('#' + key + ' button');\n",
              "      quickchartButtonEl.disabled = true;  // To prevent multiple clicks.\n",
              "      quickchartButtonEl.classList.add('colab-df-spinner');\n",
              "      try {\n",
              "        const charts = await google.colab.kernel.invokeFunction(\n",
              "            'suggestCharts', [key], {});\n",
              "      } catch (error) {\n",
              "        console.error('Error during call to suggestCharts:', error);\n",
              "      }\n",
              "      quickchartButtonEl.classList.remove('colab-df-spinner');\n",
              "      quickchartButtonEl.classList.add('colab-df-quickchart-complete');\n",
              "    }\n",
              "    (() => {\n",
              "      let quickchartButtonEl =\n",
              "        document.querySelector('#df-4ab7cabc-cb09-48f5-89e5-be3e80171f60 button');\n",
              "      quickchartButtonEl.style.display =\n",
              "        google.colab.kernel.accessAllowed ? 'block' : 'none';\n",
              "    })();\n",
              "  </script>\n",
              "</div>\n",
              "\n",
              "    </div>\n",
              "  </div>\n"
            ],
            "application/vnd.google.colaboratory.intrinsic+json": {
              "type": "dataframe",
              "variable_name": "df",
              "summary": "{\n  \"name\": \"df\",\n  \"rows\": 2285,\n  \"fields\": [\n    {\n      \"column\": \"Date\",\n      \"properties\": {\n        \"dtype\": \"date\",\n        \"min\": \"2018-03-01 00:00:00\",\n        \"max\": \"2024-06-01 00:00:00\",\n        \"num_unique_values\": 2285,\n        \"samples\": [\n          \"2023-11-24 00:00:00\",\n          \"2020-04-03 00:00:00\",\n          \"2018-10-27 00:00:00\"\n        ],\n        \"semantic_type\": \"\",\n        \"description\": \"\"\n      }\n    },\n    {\n      \"column\": \"Open\",\n      \"properties\": {\n        \"dtype\": \"number\",\n        \"std\": 0.5667167709657547,\n        \"min\": 0.023954,\n        \"max\": 2.96639,\n        \"num_unique_values\": 2280,\n        \"samples\": [\n          0.072561,\n          0.529449,\n          0.539386\n        ],\n        \"semantic_type\": \"\",\n        \"description\": \"\"\n      }\n    },\n    {\n      \"column\": \"High\",\n      \"properties\": {\n        \"dtype\": \"number\",\n        \"std\": 0.5908248813232642,\n        \"min\": 0.025993,\n        \"max\": 3.099186,\n        \"num_unique_values\": 2280,\n        \"samples\": [\n          0.072621,\n          0.547281,\n          0.597884\n        ],\n        \"semantic_type\": \"\",\n        \"description\": \"\"\n      }\n    },\n    {\n      \"column\": \"Low\",\n      \"properties\": {\n        \"dtype\": \"number\",\n        \"std\": 0.541111865919546,\n        \"min\": 0.01913,\n        \"max\": 2.907606,\n        \"num_unique_values\": 2277,\n        \"samples\": [\n          0.035574,\n          0.062168,\n          0.259865\n        ],\n        \"semantic_type\": \"\",\n        \"description\": \"\"\n      }\n    },\n    {\n      \"column\": \"Price\",\n      \"properties\": {\n        \"dtype\": \"number\",\n        \"std\": 0.566815140020692,\n        \"min\": 0.023961,\n        \"max\": 2.968239,\n        \"num_unique_values\": 2280,\n        \"samples\": [\n          0.071479,\n          0.529269,\n          0.556716\n        ],\n        \"semantic_type\": \"\",\n        \"description\": \"\"\n      }\n    },\n    {\n      \"column\": \"Adj Close\",\n      \"properties\": {\n        \"dtype\": \"number\",\n        \"std\": 0.566815140020692,\n        \"min\": 0.023961,\n        \"max\": 2.968239,\n        \"num_unique_values\": 2280,\n        \"samples\": [\n          0.071479,\n          0.529269,\n          0.556716\n        ],\n        \"semantic_type\": \"\",\n        \"description\": \"\"\n      }\n    },\n    {\n      \"column\": \"Volume\",\n      \"properties\": {\n        \"dtype\": \"number\",\n        \"std\": 1879645729,\n        \"min\": 8387951,\n        \"max\": 19141980288,\n        \"num_unique_values\": 2285,\n        \"samples\": [\n          350870124,\n          89797916,\n          10316000\n        ],\n        \"semantic_type\": \"\",\n        \"description\": \"\"\n      }\n    }\n  ]\n}"
            }
          },
          "metadata": {},
          "execution_count": 2
        }
      ]
    },
    {
      "cell_type": "code",
      "source": [
        "df.info()"
      ],
      "metadata": {
        "colab": {
          "base_uri": "https://localhost:8080/"
        },
        "id": "y45BW7BbcPl_",
        "outputId": "b9cda9e6-9221-465e-82e0-62c7fed57dc7"
      },
      "execution_count": 3,
      "outputs": [
        {
          "output_type": "stream",
          "name": "stdout",
          "text": [
            "<class 'pandas.core.frame.DataFrame'>\n",
            "RangeIndex: 2285 entries, 0 to 2284\n",
            "Data columns (total 7 columns):\n",
            " #   Column     Non-Null Count  Dtype         \n",
            "---  ------     --------------  -----         \n",
            " 0   Date       2285 non-null   datetime64[ns]\n",
            " 1   Open       2285 non-null   float64       \n",
            " 2   High       2285 non-null   float64       \n",
            " 3   Low        2285 non-null   float64       \n",
            " 4   Price      2285 non-null   float64       \n",
            " 5   Adj Close  2285 non-null   float64       \n",
            " 6   Volume     2285 non-null   int64         \n",
            "dtypes: datetime64[ns](1), float64(5), int64(1)\n",
            "memory usage: 125.1 KB\n"
          ]
        }
      ]
    },
    {
      "cell_type": "code",
      "source": [
        "# Thiết lập index\n",
        "df1=df.reset_index()['Price']\n"
      ],
      "metadata": {
        "id": "UN5dzdoDNEet"
      },
      "execution_count": 4,
      "outputs": []
    },
    {
      "cell_type": "code",
      "source": [
        "# Scaler data\n",
        "scaler=MinMaxScaler(feature_range=(0,1))\n",
        "df1=scaler.fit_transform(np.array(df1).reshape(-1,1))"
      ],
      "metadata": {
        "id": "b1XLCdJHMRAd"
      },
      "execution_count": 5,
      "outputs": []
    },
    {
      "cell_type": "code",
      "source": [
        "# Chia train test\n",
        "train_size= int(0.8 * len(df1))\n",
        "test_size = len(df1) - train_size\n",
        "\n",
        "train_data = df1[:train_size]\n",
        "test_data = df1[train_size:]"
      ],
      "metadata": {
        "id": "G6LwdRGreOtq"
      },
      "execution_count": 6,
      "outputs": []
    },
    {
      "cell_type": "code",
      "source": [
        "# convert an array of values into a dataset matrix\n",
        "def create_dataset(dataset, time_step=1):\n",
        "\tdataX, dataY = [], []\n",
        "\tfor i in range(len(dataset) - time_step - 1):\n",
        "\t\ta = dataset[i:(i + time_step)]\n",
        "\t\tdataX.append(a)\n",
        "\t\tdataY.append(dataset[i + time_step])\n",
        "\treturn np.array(dataX), np.array(dataY)\n"
      ],
      "metadata": {
        "id": "5VummKZ8Nq9P"
      },
      "execution_count": 7,
      "outputs": []
    },
    {
      "cell_type": "code",
      "source": [
        "# Reshape into X=t,t+1,t+2..t+99 and Y=t+100\n",
        "time_step = 100\n",
        "X_train, y_train = create_dataset(train_data, time_step)\n",
        "combined_data = np.concatenate((train_data[-time_step:], test_data))\n",
        "X_test, y_test = create_dataset(combined_data, time_step)\n",
        "\n",
        "# Reshape dữ liệu cho phù hợp với mạng GRU\n",
        "X_train = X_train.reshape(X_train.shape[0], X_train.shape[1], 1)\n",
        "X_test = X_test.reshape(X_test.shape[0], X_test.shape[1], 1)"
      ],
      "metadata": {
        "id": "9wgrf7p0kQe0"
      },
      "execution_count": 8,
      "outputs": []
    },
    {
      "cell_type": "code",
      "source": [
        "# Define GRU Model\n",
        "\n",
        "model = Sequential()\n",
        "model.add(GRU(64, input_shape=(time_step, 1)))\n",
        "model.add(Dense(1))\n",
        "model.compile(optimizer='adam', loss='mean_squared_error')"
      ],
      "metadata": {
        "id": "AghcD3L7Nww-"
      },
      "execution_count": 9,
      "outputs": []
    },
    {
      "cell_type": "code",
      "source": [
        "# 9. Fit mô hình với dữ liệu train\n",
        "model.fit(X_train, y_train, epochs=100, batch_size=64, verbose=1)"
      ],
      "metadata": {
        "colab": {
          "base_uri": "https://localhost:8080/"
        },
        "id": "khNSzr8uIlQt",
        "outputId": "2f8f98bb-60da-4dc6-e9c7-fe220c458bb1"
      },
      "execution_count": 17,
      "outputs": [
        {
          "output_type": "stream",
          "name": "stdout",
          "text": [
            "Epoch 1/100\n",
            "27/27 [==============================] - 1s 45ms/step - loss: 3.1925e-04\n",
            "Epoch 2/100\n",
            "27/27 [==============================] - 1s 45ms/step - loss: 2.8831e-04\n",
            "Epoch 3/100\n",
            "27/27 [==============================] - 1s 46ms/step - loss: 2.8177e-04\n",
            "Epoch 4/100\n",
            "27/27 [==============================] - 1s 45ms/step - loss: 2.8448e-04\n",
            "Epoch 5/100\n",
            "27/27 [==============================] - 1s 46ms/step - loss: 2.9488e-04\n",
            "Epoch 6/100\n",
            "27/27 [==============================] - 1s 44ms/step - loss: 2.8468e-04\n",
            "Epoch 7/100\n",
            "27/27 [==============================] - 2s 74ms/step - loss: 3.1082e-04\n",
            "Epoch 8/100\n",
            "27/27 [==============================] - 2s 76ms/step - loss: 2.8647e-04\n",
            "Epoch 9/100\n",
            "27/27 [==============================] - 2s 61ms/step - loss: 2.9565e-04\n",
            "Epoch 10/100\n",
            "27/27 [==============================] - 1s 44ms/step - loss: 3.1822e-04\n",
            "Epoch 11/100\n",
            "27/27 [==============================] - 1s 45ms/step - loss: 2.8758e-04\n",
            "Epoch 12/100\n",
            "27/27 [==============================] - 1s 45ms/step - loss: 2.8738e-04\n",
            "Epoch 13/100\n",
            "27/27 [==============================] - 2s 65ms/step - loss: 2.7752e-04\n",
            "Epoch 14/100\n",
            "27/27 [==============================] - 1s 44ms/step - loss: 2.9416e-04\n",
            "Epoch 15/100\n",
            "27/27 [==============================] - 1s 44ms/step - loss: 2.7519e-04\n",
            "Epoch 16/100\n",
            "27/27 [==============================] - 1s 45ms/step - loss: 2.7902e-04\n",
            "Epoch 17/100\n",
            "27/27 [==============================] - 2s 66ms/step - loss: 2.9535e-04\n",
            "Epoch 18/100\n",
            "27/27 [==============================] - 2s 72ms/step - loss: 2.7684e-04\n",
            "Epoch 19/100\n",
            "27/27 [==============================] - 2s 74ms/step - loss: 2.8319e-04\n",
            "Epoch 20/100\n",
            "27/27 [==============================] - 1s 45ms/step - loss: 2.7629e-04\n",
            "Epoch 21/100\n",
            "27/27 [==============================] - 1s 44ms/step - loss: 2.8138e-04\n",
            "Epoch 22/100\n",
            "27/27 [==============================] - 1s 45ms/step - loss: 2.8004e-04\n",
            "Epoch 23/100\n",
            "27/27 [==============================] - 1s 45ms/step - loss: 2.8941e-04\n",
            "Epoch 24/100\n",
            "27/27 [==============================] - 1s 46ms/step - loss: 3.0171e-04\n",
            "Epoch 25/100\n",
            "27/27 [==============================] - 1s 45ms/step - loss: 2.7759e-04\n",
            "Epoch 26/100\n",
            "27/27 [==============================] - 1s 44ms/step - loss: 2.9966e-04\n",
            "Epoch 27/100\n",
            "27/27 [==============================] - 1s 45ms/step - loss: 2.8021e-04\n",
            "Epoch 28/100\n",
            "27/27 [==============================] - 2s 73ms/step - loss: 2.7654e-04\n",
            "Epoch 29/100\n",
            "27/27 [==============================] - 2s 76ms/step - loss: 2.9106e-04\n",
            "Epoch 30/100\n",
            "27/27 [==============================] - 2s 63ms/step - loss: 3.0057e-04\n",
            "Epoch 31/100\n",
            "27/27 [==============================] - 1s 52ms/step - loss: 2.7246e-04\n",
            "Epoch 32/100\n",
            "27/27 [==============================] - 1s 52ms/step - loss: 2.9711e-04\n",
            "Epoch 33/100\n",
            "27/27 [==============================] - 1s 51ms/step - loss: 2.7112e-04\n",
            "Epoch 34/100\n",
            "27/27 [==============================] - 1s 49ms/step - loss: 2.8140e-04\n",
            "Epoch 35/100\n",
            "27/27 [==============================] - 1s 52ms/step - loss: 2.7493e-04\n",
            "Epoch 36/100\n",
            "27/27 [==============================] - 1s 53ms/step - loss: 2.7999e-04\n",
            "Epoch 37/100\n",
            "27/27 [==============================] - 2s 62ms/step - loss: 2.9418e-04\n",
            "Epoch 38/100\n",
            "27/27 [==============================] - 2s 86ms/step - loss: 2.9606e-04\n",
            "Epoch 39/100\n",
            "27/27 [==============================] - 2s 85ms/step - loss: 2.7739e-04\n",
            "Epoch 40/100\n",
            "27/27 [==============================] - 2s 57ms/step - loss: 3.0352e-04\n",
            "Epoch 41/100\n",
            "27/27 [==============================] - 1s 51ms/step - loss: 2.8499e-04\n",
            "Epoch 42/100\n",
            "27/27 [==============================] - 1s 51ms/step - loss: 2.7517e-04\n",
            "Epoch 43/100\n",
            "27/27 [==============================] - 1s 52ms/step - loss: 2.8283e-04\n",
            "Epoch 44/100\n",
            "27/27 [==============================] - 1s 49ms/step - loss: 2.7661e-04\n",
            "Epoch 45/100\n",
            "27/27 [==============================] - 1s 53ms/step - loss: 2.7645e-04\n",
            "Epoch 46/100\n",
            "27/27 [==============================] - 3s 104ms/step - loss: 2.8040e-04\n",
            "Epoch 47/100\n",
            "27/27 [==============================] - 3s 120ms/step - loss: 2.9008e-04\n",
            "Epoch 48/100\n",
            "27/27 [==============================] - 2s 86ms/step - loss: 2.8289e-04\n",
            "Epoch 49/100\n",
            "27/27 [==============================] - 1s 54ms/step - loss: 2.7461e-04\n",
            "Epoch 50/100\n",
            "27/27 [==============================] - 1s 52ms/step - loss: 2.7493e-04\n",
            "Epoch 51/100\n",
            "27/27 [==============================] - 1s 50ms/step - loss: 2.8092e-04\n",
            "Epoch 52/100\n",
            "27/27 [==============================] - 1s 52ms/step - loss: 2.8900e-04\n",
            "Epoch 53/100\n",
            "27/27 [==============================] - 1s 51ms/step - loss: 2.7393e-04\n",
            "Epoch 54/100\n",
            "27/27 [==============================] - 1s 52ms/step - loss: 2.8946e-04\n",
            "Epoch 55/100\n",
            "27/27 [==============================] - 1s 50ms/step - loss: 2.7924e-04\n",
            "Epoch 56/100\n",
            "27/27 [==============================] - 2s 83ms/step - loss: 2.8761e-04\n",
            "Epoch 57/100\n",
            "27/27 [==============================] - 2s 88ms/step - loss: 3.4751e-04\n",
            "Epoch 58/100\n",
            "27/27 [==============================] - 2s 72ms/step - loss: 3.0207e-04\n",
            "Epoch 59/100\n",
            "27/27 [==============================] - 1s 51ms/step - loss: 2.7339e-04\n",
            "Epoch 60/100\n",
            "27/27 [==============================] - 1s 52ms/step - loss: 2.7598e-04\n",
            "Epoch 61/100\n",
            "27/27 [==============================] - 1s 51ms/step - loss: 2.7368e-04\n",
            "Epoch 62/100\n",
            "27/27 [==============================] - 1s 51ms/step - loss: 2.9302e-04\n",
            "Epoch 63/100\n",
            "27/27 [==============================] - 1s 53ms/step - loss: 2.8469e-04\n",
            "Epoch 64/100\n",
            "27/27 [==============================] - 1s 50ms/step - loss: 2.7677e-04\n",
            "Epoch 65/100\n",
            "27/27 [==============================] - 2s 60ms/step - loss: 2.7727e-04\n",
            "Epoch 66/100\n",
            "27/27 [==============================] - 2s 84ms/step - loss: 2.8006e-04\n",
            "Epoch 67/100\n",
            "27/27 [==============================] - 2s 88ms/step - loss: 2.7537e-04\n",
            "Epoch 68/100\n",
            "27/27 [==============================] - 2s 56ms/step - loss: 3.0301e-04\n",
            "Epoch 69/100\n",
            "27/27 [==============================] - 1s 52ms/step - loss: 3.0470e-04\n",
            "Epoch 70/100\n",
            "27/27 [==============================] - 1s 52ms/step - loss: 2.9994e-04\n",
            "Epoch 71/100\n",
            "27/27 [==============================] - 1s 51ms/step - loss: 2.8392e-04\n",
            "Epoch 72/100\n",
            "27/27 [==============================] - 1s 53ms/step - loss: 2.7489e-04\n",
            "Epoch 73/100\n",
            "27/27 [==============================] - 1s 53ms/step - loss: 2.8116e-04\n",
            "Epoch 74/100\n",
            "27/27 [==============================] - 1s 55ms/step - loss: 2.7345e-04\n",
            "Epoch 75/100\n",
            "27/27 [==============================] - 2s 81ms/step - loss: 2.7620e-04\n",
            "Epoch 76/100\n",
            "27/27 [==============================] - 2s 85ms/step - loss: 2.9078e-04\n",
            "Epoch 77/100\n",
            "27/27 [==============================] - 2s 73ms/step - loss: 2.9140e-04\n",
            "Epoch 78/100\n",
            "27/27 [==============================] - 2s 57ms/step - loss: 2.7976e-04\n",
            "Epoch 79/100\n",
            "27/27 [==============================] - 2s 88ms/step - loss: 3.0743e-04\n",
            "Epoch 80/100\n",
            "27/27 [==============================] - 2s 84ms/step - loss: 2.7352e-04\n",
            "Epoch 81/100\n",
            "27/27 [==============================] - 2s 72ms/step - loss: 2.8808e-04\n",
            "Epoch 82/100\n",
            "27/27 [==============================] - 1s 54ms/step - loss: 2.9830e-04\n",
            "Epoch 83/100\n",
            "27/27 [==============================] - 2s 85ms/step - loss: 2.7466e-04\n",
            "Epoch 84/100\n",
            "27/27 [==============================] - 2s 83ms/step - loss: 2.7908e-04\n",
            "Epoch 85/100\n",
            "27/27 [==============================] - 2s 68ms/step - loss: 2.8407e-04\n",
            "Epoch 86/100\n",
            "27/27 [==============================] - 1s 51ms/step - loss: 2.8640e-04\n",
            "Epoch 87/100\n",
            "27/27 [==============================] - 1s 52ms/step - loss: 2.8177e-04\n",
            "Epoch 88/100\n",
            "27/27 [==============================] - 1s 50ms/step - loss: 2.8455e-04\n",
            "Epoch 89/100\n",
            "27/27 [==============================] - 1s 52ms/step - loss: 3.1052e-04\n",
            "Epoch 90/100\n",
            "27/27 [==============================] - 1s 54ms/step - loss: 2.7689e-04\n",
            "Epoch 91/100\n",
            "27/27 [==============================] - 1s 52ms/step - loss: 2.7210e-04\n",
            "Epoch 92/100\n",
            "27/27 [==============================] - 2s 66ms/step - loss: 2.7299e-04\n",
            "Epoch 93/100\n",
            "27/27 [==============================] - 2s 84ms/step - loss: 2.6704e-04\n",
            "Epoch 94/100\n",
            "27/27 [==============================] - 2s 87ms/step - loss: 2.8992e-04\n",
            "Epoch 95/100\n",
            "27/27 [==============================] - 1s 53ms/step - loss: 2.7510e-04\n",
            "Epoch 96/100\n",
            "27/27 [==============================] - 1s 55ms/step - loss: 2.7343e-04\n",
            "Epoch 97/100\n",
            "27/27 [==============================] - 1s 51ms/step - loss: 2.7011e-04\n",
            "Epoch 98/100\n",
            "27/27 [==============================] - 1s 52ms/step - loss: 2.7765e-04\n",
            "Epoch 99/100\n",
            "27/27 [==============================] - 1s 53ms/step - loss: 2.7509e-04\n",
            "Epoch 100/100\n",
            "27/27 [==============================] - 1s 51ms/step - loss: 2.7208e-04\n"
          ]
        },
        {
          "output_type": "execute_result",
          "data": {
            "text/plain": [
              "<keras.src.callbacks.History at 0x7c169df6ee60>"
            ]
          },
          "metadata": {},
          "execution_count": 17
        }
      ]
    },
    {
      "cell_type": "code",
      "source": [
        "# Dự báo dữ liệu test và train\n",
        "train_predict = model.predict(X_train)\n",
        "y_pred = model.predict(X_test)"
      ],
      "metadata": {
        "colab": {
          "base_uri": "https://localhost:8080/"
        },
        "id": "Z7H6b5bilgXv",
        "outputId": "0ec855d7-74ab-4b73-b5d6-f0a002e1bcf5"
      },
      "execution_count": 18,
      "outputs": [
        {
          "output_type": "stream",
          "name": "stdout",
          "text": [
            "54/54 [==============================] - 1s 18ms/step\n",
            "15/15 [==============================] - 0s 19ms/step\n"
          ]
        }
      ]
    },
    {
      "cell_type": "code",
      "source": [
        "# Chuẩn hóa dữ liệu y_pred\n",
        "train_predict = scaler.inverse_transform(train_predict)\n",
        "y_pred = scaler.inverse_transform(y_pred)"
      ],
      "metadata": {
        "id": "AGrwjDEOl9Mj"
      },
      "execution_count": 19,
      "outputs": []
    },
    {
      "cell_type": "code",
      "source": [
        "# Dự báo 90 ngày tiếp theo\n",
        "x_input = test_data[-100:].reshape(1, -1)\n",
        "temp_input = list(x_input[0])\n",
        "lst_output = []\n",
        "\n",
        "i = 0\n",
        "while(i < 90):\n",
        "    if len(temp_input) > 100:\n",
        "        x_input = np.array(temp_input[1:])  # Lấy từng ngày từ ngày thứ 2 trở đi\n",
        "        x_input = x_input.reshape(1, time_step, 1)  # Reshape lại để phù hợp với input của mạng\n",
        "        yhat = model.predict(x_input, verbose=0)  # Dự đoán giá cho ngày tiếp theo\n",
        "        temp_input.extend(yhat[0].tolist())  # Thêm dự đoán vào danh sách temp_input\n",
        "        temp_input = temp_input[1:]  # Loại bỏ ngày đầu tiên\n",
        "        lst_output.extend(yhat.tolist())  # Lưu dự đoán vào mảng lst_output\n",
        "        i += 1\n",
        "    else:\n",
        "        x_input = x_input.reshape(1, time_step, 1)  # Reshape lại để phù hợp với input của mạng\n",
        "        yhat = model.predict(x_input, verbose=0)  # Dự đoán giá cho ngày tiếp theo\n",
        "        temp_input.extend(yhat[0].tolist())  # Thêm dự đoán vào danh sách temp_input\n",
        "        lst_output.extend(yhat.tolist())  # Lưu dự đoán vào mảng lst_output\n",
        "        i += 1\n",
        "\n",
        "# In ra dự đoán cho 90 ngày tiếp theo\n",
        "print(\"Dự đoán giá cho 90 ngày tiếp theo:\")\n",
        "print(lst_output)"
      ],
      "metadata": {
        "colab": {
          "base_uri": "https://localhost:8080/"
        },
        "id": "4DfyL9LMW9fX",
        "outputId": "cd9a67e0-14d4-4290-d2e2-3b85d3eec7c0"
      },
      "execution_count": 20,
      "outputs": [
        {
          "output_type": "stream",
          "name": "stdout",
          "text": [
            "Dự đoán giá cho 90 ngày tiếp theo:\n",
            "[[0.14238451421260834], [0.1406014859676361], [0.13871093094348907], [0.13687211275100708], [0.135027676820755], [0.13317455351352692], [0.13131484389305115], [0.12945085763931274], [0.1275845617055893], [0.1257176399230957], [0.12385138124227524], [0.1219867393374443], [0.12012452632188797], [0.1182653158903122], [0.11640956252813339], [0.11455757170915604], [0.11270958930253983], [0.11086581647396088], [0.10902640968561172], [0.10719142109155655], [0.10536093264818192], [0.1035349890589714], [0.10171359032392502], [0.09989670664072037], [0.09808435291051865], [0.09627649933099747], [0.09447310119867325], [0.0926741287112236], [0.09087953716516495], [0.08908925950527191], [0.08730325102806091], [0.08552142977714539], [0.08374375104904175], [0.08197017759084702], [0.08020060509443283], [0.07843499630689621], [0.07667327672243118], [0.07491537183523178], [0.07316125184297562], [0.07141081243753433], [0.06966400891542435], [0.06792077422142029], [0.06618104875087738], [0.06444478780031204], [0.06271189451217651], [0.06098233908414841], [0.05925605818629265], [0.05753297358751297], [0.05581304058432579], [0.05409620329737663], [0.052382394671440125], [0.05067156255245209], [0.04896366596221924], [0.04725863039493561], [0.04555641859769821], [0.04385695606470108], [0.042160216718912125], [0.04046614095568657], [0.03877467289566994], [0.03708576038479805], [0.03539936989545822], [0.03371543437242508], [0.03203391283750534], [0.030354762449860573], [0.028677940368652344], [0.027003396302461624], [0.025331079959869385], [0.023660952225327492], [0.021992970257997513], [0.020327091217041016], [0.018663272261619568], [0.017001474276185036], [0.015341654419898987], [0.013683769851922989], [0.012027787044644356], [0.010373663157224655], [0.008721359074115753], [0.007070838939398527], [0.0054220655001699924], [0.0037749975454062223], [0.0021296036429703236], [0.0004858460742980242], [-0.0011563096195459366], [-0.002796899527311325], [-0.004435956012457609], [-0.00607351353392005], [-0.007709605153650045], [-0.00934426300227642], [-0.010977521538734436], [-0.012609407305717468]]\n"
          ]
        }
      ]
    },
    {
      "cell_type": "code",
      "source": [
        "predict_future_30 = lst_output[:30]\n",
        "predict_future_60 = lst_output[30:60]\n",
        "predict_future_90 = lst_output[60:]\n"
      ],
      "metadata": {
        "id": "vPOQbRv4A-Zx"
      },
      "execution_count": 21,
      "outputs": []
    },
    {
      "cell_type": "code",
      "source": [
        "#Vẽ hình\n",
        "# train_data_index = pd.RangeIndex(start=0, stop=len(train_data), step=1)\n",
        "# plt.plot(train_data_index, scaler.inverse_transform(train_data), label='Train')\n",
        "\n",
        "test_data_index = pd.RangeIndex(start=train_size, stop=train_size+len(test_data), step=1)\n",
        "plt.plot(test_data_index, scaler.inverse_transform(test_data), label='Test')\n",
        "\n",
        "predicted_test_index = pd.RangeIndex(start=train_size, stop=train_size+len(y_pred), step=1)\n",
        "plt.plot(predicted_test_index, y_pred)\n",
        "\n",
        "predict_future_30_index = pd.RangeIndex(start=test_data_index[-1]+1, stop=test_data_index[-1]+31, step=1)\n",
        "plt.plot(predict_future_30_index, scaler.inverse_transform(predict_future_30))\n",
        "\n",
        "predict_future_60_index = pd.RangeIndex(start=test_data_index[-1]+31, stop=test_data_index[-1]+61, step=1)\n",
        "plt.plot(predict_future_60_index, scaler.inverse_transform(predict_future_60))\n",
        "\n",
        "predict_future_90_index = pd.RangeIndex(start=test_data_index[-1]+61, stop=test_data_index[-1]+91, step=1)\n",
        "plt.plot(predict_future_90_index, scaler.inverse_transform(predict_future_90))\n",
        "\n",
        "plt.title('GRU - ADA Stock Price - 8:2')\n",
        "plt.xlabel('Date')\n",
        "plt.ylabel('Price')\n",
        "plt.legend(['Test','Predict Test','Predict 30days','Predict 60days','Predict 90days'])\n",
        "plt.show()"
      ],
      "metadata": {
        "colab": {
          "base_uri": "https://localhost:8080/",
          "height": 472
        },
        "id": "9dEqqWytXSRo",
        "outputId": "a1a705c9-feed-460a-a299-54a953607e9d"
      },
      "execution_count": 22,
      "outputs": [
        {
          "output_type": "display_data",
          "data": {
            "text/plain": [
              "<Figure size 640x480 with 1 Axes>"
            ],
            "image/png": "[encoded data removed]"
          },
          "metadata": {}
        }
      ]
    },
    {
      "cell_type": "code",
      "source": [
        "from sklearn.metrics import mean_absolute_error, mean_squared_error, mean_absolute_percentage_error\n",
        "\n",
        "mae = mean_absolute_error(y_test, y_pred)\n",
        "mape = mean_absolute_percentage_error(y_test, y_pred)\n",
        "rmse = np.sqrt(mean_squared_error(y_test, y_pred))\n",
        "\n",
        "print(\"Mean Absolute Error (MAE):\", mae)\n",
        "print(\"Mean Absolute Percentage Error (MAPE):\", mape * 100)\n",
        "print(\"Root Mean Square Error (RMSE):\", rmse)"
      ],
      "metadata": {
        "colab": {
          "base_uri": "https://localhost:8080/"
        },
        "id": "APE0pAmrJKcg",
        "outputId": "0498c5cc-c017-485f-a708-fa625308ed91"
      },
      "execution_count": 23,
      "outputs": [
        {
          "output_type": "stream",
          "name": "stdout",
          "text": [
            "Mean Absolute Error (MAE): 0.2750224711845775\n",
            "Mean Absolute Percentage Error (MAPE): 209.58680692925253\n",
            "Root Mean Square Error (RMSE): 0.28901330553857435\n"
          ]
        }
      ]
    },
    {
      "cell_type": "markdown",
      "source": [],
      "metadata": {
        "id": "3yRLTREua_1d"
      }
    },
    {
      "cell_type": "code",
      "source": [],
      "metadata": {
        "id": "fxjVSJqCa8n1"
      },
      "execution_count": null,
      "outputs": []
    }
  ]
}