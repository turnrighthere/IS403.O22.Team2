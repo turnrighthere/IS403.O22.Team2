{
  "nbformat": 4,
  "nbformat_minor": 0,
  "metadata": {
    "colab": {
      "provenance": [],
      "gpuType": "T4"
    },
    "kernelspec": {
      "name": "python3",
      "display_name": "Python 3"
    },
    "language_info": {
      "name": "python"
    },
    "accelerator": "GPU"
  },
  "cells": [
    {
      "cell_type": "code",
      "execution_count": 1,
      "metadata": {
        "id": "2s2M7RWnLyVs",
        "colab": {
          "base_uri": "https://localhost:8080/"
        },
        "outputId": "a15458ab-8846-4579-9ac5-3d448761cc7e"
      },
      "outputs": [
        {
          "output_type": "stream",
          "name": "stdout",
          "text": [
            "Mounted at /content/drive\n"
          ]
        }
      ],
      "source": [
        "from google.colab import drive\n",
        "drive.mount('/content/drive')\n",
        "import numpy as np\n",
        "import pandas as pd\n",
        "import matplotlib.pyplot as plt\n",
        "from sklearn.preprocessing import MinMaxScaler\n",
        "from keras.models import Sequential\n",
        "from keras.layers import Dense, GRU"
      ]
    },
    {
      "cell_type": "code",
      "source": [
        "# Đọc file csv\n",
        "df = pd.read_csv('/content/drive/MyDrive/Colab Notebooks/Data/pre_ADA-USD.csv')\n",
        "df = df.rename(columns={'Close': 'Price'})\n",
        "df['Date'] = pd.to_datetime(df['Date'])\n",
        "df.head(5)"
      ],
      "metadata": {
        "id": "N4mD72x5nuXt",
        "colab": {
          "base_uri": "https://localhost:8080/",
          "height": 206
        },
        "outputId": "75a05874-ef8a-42d4-a717-12c4a3108b2d"
      },
      "execution_count": 2,
      "outputs": [
        {
          "output_type": "execute_result",
          "data": {
            "text/plain": [
              "        Date      Open      High       Low     Price  Adj Close     Volume\n",
              "0 2018-03-01  0.311973  0.311973  0.288392  0.304397   0.304397  184691008\n",
              "1 2018-03-02  0.304424  0.307058  0.288875  0.293504   0.293504  107240000\n",
              "2 2018-03-03  0.292952  0.309129  0.292507  0.297106   0.297106  115320000\n",
              "3 2018-03-04  0.296285  0.303588  0.286193  0.300787   0.300787   94436000\n",
              "4 2018-03-05  0.299897  0.317723  0.291055  0.297622   0.297622  202675008"
            ],
            "text/html": [
              "\n",
              "  <div id=\"df-abcf7fee-de61-44ad-8c45-ca52abca3903\" class=\"colab-df-container\">\n",
              "    <div>\n",
              "<style scoped>\n",
              "    .dataframe tbody tr th:only-of-type {\n",
              "        vertical-align: middle;\n",
              "    }\n",
              "\n",
              "    .dataframe tbody tr th {\n",
              "        vertical-align: top;\n",
              "    }\n",
              "\n",
              "    .dataframe thead th {\n",
              "        text-align: right;\n",
              "    }\n",
              "</style>\n",
              "<table border=\"1\" class=\"dataframe\">\n",
              "  <thead>\n",
              "    <tr style=\"text-align: right;\">\n",
              "      <th></th>\n",
              "      <th>Date</th>\n",
              "      <th>Open</th>\n",
              "      <th>High</th>\n",
              "      <th>Low</th>\n",
              "      <th>Price</th>\n",
              "      <th>Adj Close</th>\n",
              "      <th>Volume</th>\n",
              "    </tr>\n",
              "  </thead>\n",
              "  <tbody>\n",
              "    <tr>\n",
              "      <th>0</th>\n",
              "      <td>2018-03-01</td>\n",
              "      <td>0.311973</td>\n",
              "      <td>0.311973</td>\n",
              "      <td>0.288392</td>\n",
              "      <td>0.304397</td>\n",
              "      <td>0.304397</td>\n",
              "      <td>184691008</td>\n",
              "    </tr>\n",
              "    <tr>\n",
              "      <th>1</th>\n",
              "      <td>2018-03-02</td>\n",
              "      <td>0.304424</td>\n",
              "      <td>0.307058</td>\n",
              "      <td>0.288875</td>\n",
              "      <td>0.293504</td>\n",
              "      <td>0.293504</td>\n",
              "      <td>107240000</td>\n",
              "    </tr>\n",
              "    <tr>\n",
              "      <th>2</th>\n",
              "      <td>2018-03-03</td>\n",
              "      <td>0.292952</td>\n",
              "      <td>0.309129</td>\n",
              "      <td>0.292507</td>\n",
              "      <td>0.297106</td>\n",
              "      <td>0.297106</td>\n",
              "      <td>115320000</td>\n",
              "    </tr>\n",
              "    <tr>\n",
              "      <th>3</th>\n",
              "      <td>2018-03-04</td>\n",
              "      <td>0.296285</td>\n",
              "      <td>0.303588</td>\n",
              "      <td>0.286193</td>\n",
              "      <td>0.300787</td>\n",
              "      <td>0.300787</td>\n",
              "      <td>94436000</td>\n",
              "    </tr>\n",
              "    <tr>\n",
              "      <th>4</th>\n",
              "      <td>2018-03-05</td>\n",
              "      <td>0.299897</td>\n",
              "      <td>0.317723</td>\n",
              "      <td>0.291055</td>\n",
              "      <td>0.297622</td>\n",
              "      <td>0.297622</td>\n",
              "      <td>202675008</td>\n",
              "    </tr>\n",
              "  </tbody>\n",
              "</table>\n",
              "</div>\n",
              "    <div class=\"colab-df-buttons\">\n",
              "\n",
              "  <div class=\"colab-df-container\">\n",
              "    <button class=\"colab-df-convert\" onclick=\"convertToInteractive('df-abcf7fee-de61-44ad-8c45-ca52abca3903')\"\n",
              "            title=\"Convert this dataframe to an interactive table.\"\n",
              "            style=\"display:none;\">\n",
              "\n",
              "  <svg xmlns=\"http://www.w3.org/2000/svg\" height=\"24px\" viewBox=\"0 -960 960 960\">\n",
              "    <path d=\"M120-120v-720h720v720H120Zm60-500h600v-160H180v160Zm220 220h160v-160H400v160Zm0 220h160v-160H400v160ZM180-400h160v-160H180v160Zm440 0h160v-160H620v160ZM180-180h160v-160H180v160Zm440 0h160v-160H620v160Z\"/>\n",
              "  </svg>\n",
              "    </button>\n",
              "\n",
              "  <style>\n",
              "    .colab-df-container {\n",
              "      display:flex;\n",
              "      gap: 12px;\n",
              "    }\n",
              "\n",
              "    .colab-df-convert {\n",
              "      background-color: #E8F0FE;\n",
              "      border: none;\n",
              "      border-radius: 50%;\n",
              "      cursor: pointer;\n",
              "      display: none;\n",
              "      fill: #1967D2;\n",
              "      height: 32px;\n",
              "      padding: 0 0 0 0;\n",
              "      width: 32px;\n",
              "    }\n",
              "\n",
              "    .colab-df-convert:hover {\n",
              "      background-color: #E2EBFA;\n",
              "      box-shadow: 0px 1px 2px rgba(60, 64, 67, 0.3), 0px 1px 3px 1px rgba(60, 64, 67, 0.15);\n",
              "      fill: #174EA6;\n",
              "    }\n",
              "\n",
              "    .colab-df-buttons div {\n",
              "      margin-bottom: 4px;\n",
              "    }\n",
              "\n",
              "    [theme=dark] .colab-df-convert {\n",
              "      background-color: #3B4455;\n",
              "      fill: #D2E3FC;\n",
              "    }\n",
              "\n",
              "    [theme=dark] .colab-df-convert:hover {\n",
              "      background-color: #434B5C;\n",
              "      box-shadow: 0px 1px 3px 1px rgba(0, 0, 0, 0.15);\n",
              "      filter: drop-shadow(0px 1px 2px rgba(0, 0, 0, 0.3));\n",
              "      fill: #FFFFFF;\n",
              "    }\n",
              "  </style>\n",
              "\n",
              "    <script>\n",
              "      const buttonEl =\n",
              "        document.querySelector('#df-abcf7fee-de61-44ad-8c45-ca52abca3903 button.colab-df-convert');\n",
              "      buttonEl.style.display =\n",
              "        google.colab.kernel.accessAllowed ? 'block' : 'none';\n",
              "\n",
              "      async function convertToInteractive(key) {\n",
              "        const element = document.querySelector('#df-abcf7fee-de61-44ad-8c45-ca52abca3903');\n",
              "        const dataTable =\n",
              "          await google.colab.kernel.invokeFunction('convertToInteractive',\n",
              "                                                    [key], {});\n",
              "        if (!dataTable) return;\n",
              "\n",
              "        const docLinkHtml = 'Like what you see? Visit the ' +\n",
              "          '<a target=\"_blank\" href=https://colab.research.google.com/notebooks/data_table.ipynb>data table notebook</a>'\n",
              "          + ' to learn more about interactive tables.';\n",
              "        element.innerHTML = '';\n",
              "        dataTable['output_type'] = 'display_data';\n",
              "        await google.colab.output.renderOutput(dataTable, element);\n",
              "        const docLink = document.createElement('div');\n",
              "        docLink.innerHTML = docLinkHtml;\n",
              "        element.appendChild(docLink);\n",
              "      }\n",
              "    </script>\n",
              "  </div>\n",
              "\n",
              "\n",
              "<div id=\"df-29101c04-aa85-4b74-b571-dc28b23461ec\">\n",
              "  <button class=\"colab-df-quickchart\" onclick=\"quickchart('df-29101c04-aa85-4b74-b571-dc28b23461ec')\"\n",
              "            title=\"Suggest charts\"\n",
              "            style=\"display:none;\">\n",
              "\n",
              "<svg xmlns=\"http://www.w3.org/2000/svg\" height=\"24px\"viewBox=\"0 0 24 24\"\n",
              "     width=\"24px\">\n",
              "    <g>\n",
              "        <path d=\"M19 3H5c-1.1 0-2 .9-2 2v14c0 1.1.9 2 2 2h14c1.1 0 2-.9 2-2V5c0-1.1-.9-2-2-2zM9 17H7v-7h2v7zm4 0h-2V7h2v10zm4 0h-2v-4h2v4z\"/>\n",
              "    </g>\n",
              "</svg>\n",
              "  </button>\n",
              "\n",
              "<style>\n",
              "  .colab-df-quickchart {\n",
              "      --bg-color: #E8F0FE;\n",
              "      --fill-color: #1967D2;\n",
              "      --hover-bg-color: #E2EBFA;\n",
              "      --hover-fill-color: #174EA6;\n",
              "      --disabled-fill-color: #AAA;\n",
              "      --disabled-bg-color: #DDD;\n",
              "  }\n",
              "\n",
              "  [theme=dark] .colab-df-quickchart {\n",
              "      --bg-color: #3B4455;\n",
              "      --fill-color: #D2E3FC;\n",
              "      --hover-bg-color: #434B5C;\n",
              "      --hover-fill-color: #FFFFFF;\n",
              "      --disabled-bg-color: #3B4455;\n",
              "      --disabled-fill-color: #666;\n",
              "  }\n",
              "\n",
              "  .colab-df-quickchart {\n",
              "    background-color: var(--bg-color);\n",
              "    border: none;\n",
              "    border-radius: 50%;\n",
              "    cursor: pointer;\n",
              "    display: none;\n",
              "    fill: var(--fill-color);\n",
              "    height: 32px;\n",
              "    padding: 0;\n",
              "    width: 32px;\n",
              "  }\n",
              "\n",
              "  .colab-df-quickchart:hover {\n",
              "    background-color: var(--hover-bg-color);\n",
              "    box-shadow: 0 1px 2px rgba(60, 64, 67, 0.3), 0 1px 3px 1px rgba(60, 64, 67, 0.15);\n",
              "    fill: var(--button-hover-fill-color);\n",
              "  }\n",
              "\n",
              "  .colab-df-quickchart-complete:disabled,\n",
              "  .colab-df-quickchart-complete:disabled:hover {\n",
              "    background-color: var(--disabled-bg-color);\n",
              "    fill: var(--disabled-fill-color);\n",
              "    box-shadow: none;\n",
              "  }\n",
              "\n",
              "  .colab-df-spinner {\n",
              "    border: 2px solid var(--fill-color);\n",
              "    border-color: transparent;\n",
              "    border-bottom-color: var(--fill-color);\n",
              "    animation:\n",
              "      spin 1s steps(1) infinite;\n",
              "  }\n",
              "\n",
              "  @keyframes spin {\n",
              "    0% {\n",
              "      border-color: transparent;\n",
              "      border-bottom-color: var(--fill-color);\n",
              "      border-left-color: var(--fill-color);\n",
              "    }\n",
              "    20% {\n",
              "      border-color: transparent;\n",
              "      border-left-color: var(--fill-color);\n",
              "      border-top-color: var(--fill-color);\n",
              "    }\n",
              "    30% {\n",
              "      border-color: transparent;\n",
              "      border-left-color: var(--fill-color);\n",
              "      border-top-color: var(--fill-color);\n",
              "      border-right-color: var(--fill-color);\n",
              "    }\n",
              "    40% {\n",
              "      border-color: transparent;\n",
              "      border-right-color: var(--fill-color);\n",
              "      border-top-color: var(--fill-color);\n",
              "    }\n",
              "    60% {\n",
              "      border-color: transparent;\n",
              "      border-right-color: var(--fill-color);\n",
              "    }\n",
              "    80% {\n",
              "      border-color: transparent;\n",
              "      border-right-color: var(--fill-color);\n",
              "      border-bottom-color: var(--fill-color);\n",
              "    }\n",
              "    90% {\n",
              "      border-color: transparent;\n",
              "      border-bottom-color: var(--fill-color);\n",
              "    }\n",
              "  }\n",
              "</style>\n",
              "\n",
              "  <script>\n",
              "    async function quickchart(key) {\n",
              "      const quickchartButtonEl =\n",
              "        document.querySelector('#' + key + ' button');\n",
              "      quickchartButtonEl.disabled = true;  // To prevent multiple clicks.\n",
              "      quickchartButtonEl.classList.add('colab-df-spinner');\n",
              "      try {\n",
              "        const charts = await google.colab.kernel.invokeFunction(\n",
              "            'suggestCharts', [key], {});\n",
              "      } catch (error) {\n",
              "        console.error('Error during call to suggestCharts:', error);\n",
              "      }\n",
              "      quickchartButtonEl.classList.remove('colab-df-spinner');\n",
              "      quickchartButtonEl.classList.add('colab-df-quickchart-complete');\n",
              "    }\n",
              "    (() => {\n",
              "      let quickchartButtonEl =\n",
              "        document.querySelector('#df-29101c04-aa85-4b74-b571-dc28b23461ec button');\n",
              "      quickchartButtonEl.style.display =\n",
              "        google.colab.kernel.accessAllowed ? 'block' : 'none';\n",
              "    })();\n",
              "  </script>\n",
              "</div>\n",
              "\n",
              "    </div>\n",
              "  </div>\n"
            ],
            "application/vnd.google.colaboratory.intrinsic+json": {
              "type": "dataframe",
              "variable_name": "df",
              "summary": "{\n  \"name\": \"df\",\n  \"rows\": 2285,\n  \"fields\": [\n    {\n      \"column\": \"Date\",\n      \"properties\": {\n        \"dtype\": \"date\",\n        \"min\": \"2018-03-01 00:00:00\",\n        \"max\": \"2024-06-01 00:00:00\",\n        \"num_unique_values\": 2285,\n        \"samples\": [\n          \"2023-11-24 00:00:00\",\n          \"2020-04-03 00:00:00\",\n          \"2018-10-27 00:00:00\"\n        ],\n        \"semantic_type\": \"\",\n        \"description\": \"\"\n      }\n    },\n    {\n      \"column\": \"Open\",\n      \"properties\": {\n        \"dtype\": \"number\",\n        \"std\": 0.5667167709657547,\n        \"min\": 0.023954,\n        \"max\": 2.96639,\n        \"num_unique_values\": 2280,\n        \"samples\": [\n          0.072561,\n          0.529449,\n          0.539386\n        ],\n        \"semantic_type\": \"\",\n        \"description\": \"\"\n      }\n    },\n    {\n      \"column\": \"High\",\n      \"properties\": {\n        \"dtype\": \"number\",\n        \"std\": 0.5908248813232642,\n        \"min\": 0.025993,\n        \"max\": 3.099186,\n        \"num_unique_values\": 2280,\n        \"samples\": [\n          0.072621,\n          0.547281,\n          0.597884\n        ],\n        \"semantic_type\": \"\",\n        \"description\": \"\"\n      }\n    },\n    {\n      \"column\": \"Low\",\n      \"properties\": {\n        \"dtype\": \"number\",\n        \"std\": 0.541111865919546,\n        \"min\": 0.01913,\n        \"max\": 2.907606,\n        \"num_unique_values\": 2277,\n        \"samples\": [\n          0.035574,\n          0.062168,\n          0.259865\n        ],\n        \"semantic_type\": \"\",\n        \"description\": \"\"\n      }\n    },\n    {\n      \"column\": \"Price\",\n      \"properties\": {\n        \"dtype\": \"number\",\n        \"std\": 0.566815140020692,\n        \"min\": 0.023961,\n        \"max\": 2.968239,\n        \"num_unique_values\": 2280,\n        \"samples\": [\n          0.071479,\n          0.529269,\n          0.556716\n        ],\n        \"semantic_type\": \"\",\n        \"description\": \"\"\n      }\n    },\n    {\n      \"column\": \"Adj Close\",\n      \"properties\": {\n        \"dtype\": \"number\",\n        \"std\": 0.566815140020692,\n        \"min\": 0.023961,\n        \"max\": 2.968239,\n        \"num_unique_values\": 2280,\n        \"samples\": [\n          0.071479,\n          0.529269,\n          0.556716\n        ],\n        \"semantic_type\": \"\",\n        \"description\": \"\"\n      }\n    },\n    {\n      \"column\": \"Volume\",\n      \"properties\": {\n        \"dtype\": \"number\",\n        \"std\": 1879645729,\n        \"min\": 8387951,\n        \"max\": 19141980288,\n        \"num_unique_values\": 2285,\n        \"samples\": [\n          350870124,\n          89797916,\n          10316000\n        ],\n        \"semantic_type\": \"\",\n        \"description\": \"\"\n      }\n    }\n  ]\n}"
            }
          },
          "metadata": {},
          "execution_count": 2
        }
      ]
    },
    {
      "cell_type": "code",
      "source": [
        "df.info()"
      ],
      "metadata": {
        "colab": {
          "base_uri": "https://localhost:8080/"
        },
        "id": "y45BW7BbcPl_",
        "outputId": "4dec7df3-f50e-4c76-f66d-88a45b3fb976"
      },
      "execution_count": 3,
      "outputs": [
        {
          "output_type": "stream",
          "name": "stdout",
          "text": [
            "<class 'pandas.core.frame.DataFrame'>\n",
            "RangeIndex: 2285 entries, 0 to 2284\n",
            "Data columns (total 7 columns):\n",
            " #   Column     Non-Null Count  Dtype         \n",
            "---  ------     --------------  -----         \n",
            " 0   Date       2285 non-null   datetime64[ns]\n",
            " 1   Open       2285 non-null   float64       \n",
            " 2   High       2285 non-null   float64       \n",
            " 3   Low        2285 non-null   float64       \n",
            " 4   Price      2285 non-null   float64       \n",
            " 5   Adj Close  2285 non-null   float64       \n",
            " 6   Volume     2285 non-null   int64         \n",
            "dtypes: datetime64[ns](1), float64(5), int64(1)\n",
            "memory usage: 125.1 KB\n"
          ]
        }
      ]
    },
    {
      "cell_type": "code",
      "source": [
        "# Thiết lập index\n",
        "df1=df.reset_index()['Price']\n"
      ],
      "metadata": {
        "id": "UN5dzdoDNEet"
      },
      "execution_count": 4,
      "outputs": []
    },
    {
      "cell_type": "code",
      "source": [
        "# Scaler data\n",
        "scaler=MinMaxScaler(feature_range=(0,1))\n",
        "df1=scaler.fit_transform(np.array(df1).reshape(-1,1))"
      ],
      "metadata": {
        "id": "b1XLCdJHMRAd"
      },
      "execution_count": 5,
      "outputs": []
    },
    {
      "cell_type": "code",
      "source": [
        "# Chia train test 8_2\n",
        "train_size= int(0.8 * len(df1))\n",
        "test_size = len(df1) - train_size\n",
        "\n",
        "train_data = df1[:train_size]\n",
        "test_data = df1[train_size:]"
      ],
      "metadata": {
        "id": "G6LwdRGreOtq"
      },
      "execution_count": 6,
      "outputs": []
    },
    {
      "cell_type": "code",
      "source": [
        "# convert an array of values into a dataset matrix\n",
        "def create_dataset(dataset, time_step=1):\n",
        "\tdataX, dataY = [], []\n",
        "\tfor i in range(len(dataset) - time_step - 1):\n",
        "\t\ta = dataset[i:(i + time_step)]\n",
        "\t\tdataX.append(a)\n",
        "\t\tdataY.append(dataset[i + time_step])\n",
        "\treturn np.array(dataX), np.array(dataY)\n"
      ],
      "metadata": {
        "id": "5VummKZ8Nq9P"
      },
      "execution_count": 7,
      "outputs": []
    },
    {
      "cell_type": "code",
      "source": [
        "# Reshape into X=t,t+1,t+2..t+99 and Y=t+100 _8_2\n",
        "time_step = 100\n",
        "X_train, y_train = create_dataset(train_data, time_step)\n",
        "combined_data = np.concatenate((train_data[-time_step:], test_data))\n",
        "X_test, y_test = create_dataset(combined_data, time_step)\n",
        "\n",
        "# Reshape dữ liệu cho phù hợp với mạng GRU\n",
        "X_train = X_train.reshape(X_train.shape[0], X_train.shape[1], 1)\n",
        "X_test = X_test.reshape(X_test.shape[0], X_test.shape[1], 1)"
      ],
      "metadata": {
        "id": "9wgrf7p0kQe0"
      },
      "execution_count": 8,
      "outputs": []
    },
    {
      "cell_type": "code",
      "source": [
        "# Define GRU Model\n",
        "\n",
        "model = Sequential()\n",
        "model.add(GRU(64, input_shape=(time_step, 1)))\n",
        "model.add(Dense(1))\n",
        "model.compile(optimizer='adam', loss='mean_squared_error')"
      ],
      "metadata": {
        "id": "AghcD3L7Nww-"
      },
      "execution_count": 9,
      "outputs": []
    },
    {
      "cell_type": "code",
      "source": [
        "model.fit(X_train, y_train, epochs=100, batch_size=64, verbose=1)\n"
      ],
      "metadata": {
        "colab": {
          "base_uri": "https://localhost:8080/"
        },
        "id": "khNSzr8uIlQt",
        "outputId": "51191505-f32a-4d2d-a37a-e0c52a0d8f11"
      },
      "execution_count": 28,
      "outputs": [
        {
          "output_type": "stream",
          "name": "stdout",
          "text": [
            "Epoch 1/100\n",
            "27/27 [==============================] - 0s 8ms/step - loss: 2.8031e-04\n",
            "Epoch 2/100\n",
            "27/27 [==============================] - 0s 7ms/step - loss: 2.6934e-04\n",
            "Epoch 3/100\n",
            "27/27 [==============================] - 0s 6ms/step - loss: 2.7885e-04\n",
            "Epoch 4/100\n",
            "27/27 [==============================] - 0s 6ms/step - loss: 2.8043e-04\n",
            "Epoch 5/100\n",
            "27/27 [==============================] - 0s 6ms/step - loss: 2.8001e-04\n",
            "Epoch 6/100\n",
            "27/27 [==============================] - 0s 6ms/step - loss: 2.8715e-04\n",
            "Epoch 7/100\n",
            "27/27 [==============================] - 0s 6ms/step - loss: 2.7881e-04\n",
            "Epoch 8/100\n",
            "27/27 [==============================] - 0s 6ms/step - loss: 3.0502e-04\n",
            "Epoch 9/100\n",
            "27/27 [==============================] - 0s 7ms/step - loss: 2.7140e-04\n",
            "Epoch 10/100\n",
            "27/27 [==============================] - 0s 6ms/step - loss: 2.7562e-04\n",
            "Epoch 11/100\n",
            "27/27 [==============================] - 0s 6ms/step - loss: 2.7608e-04\n",
            "Epoch 12/100\n",
            "27/27 [==============================] - 0s 6ms/step - loss: 2.7711e-04\n",
            "Epoch 13/100\n",
            "27/27 [==============================] - 0s 6ms/step - loss: 2.7080e-04\n",
            "Epoch 14/100\n",
            "27/27 [==============================] - 0s 6ms/step - loss: 2.6956e-04\n",
            "Epoch 15/100\n",
            "27/27 [==============================] - 0s 7ms/step - loss: 2.8472e-04\n",
            "Epoch 16/100\n",
            "27/27 [==============================] - 0s 6ms/step - loss: 2.7695e-04\n",
            "Epoch 17/100\n",
            "27/27 [==============================] - 0s 6ms/step - loss: 2.7213e-04\n",
            "Epoch 18/100\n",
            "27/27 [==============================] - 0s 6ms/step - loss: 2.9019e-04\n",
            "Epoch 19/100\n",
            "27/27 [==============================] - 0s 6ms/step - loss: 2.8380e-04\n",
            "Epoch 20/100\n",
            "27/27 [==============================] - 0s 6ms/step - loss: 2.8099e-04\n",
            "Epoch 21/100\n",
            "27/27 [==============================] - 0s 7ms/step - loss: 2.7001e-04\n",
            "Epoch 22/100\n",
            "27/27 [==============================] - 0s 6ms/step - loss: 2.7126e-04\n",
            "Epoch 23/100\n",
            "27/27 [==============================] - 0s 6ms/step - loss: 2.8669e-04\n",
            "Epoch 24/100\n",
            "27/27 [==============================] - 0s 5ms/step - loss: 2.6958e-04\n",
            "Epoch 25/100\n",
            "27/27 [==============================] - 0s 6ms/step - loss: 2.7949e-04\n",
            "Epoch 26/100\n",
            "27/27 [==============================] - 0s 6ms/step - loss: 2.7396e-04\n",
            "Epoch 27/100\n",
            "27/27 [==============================] - 0s 7ms/step - loss: 2.8204e-04\n",
            "Epoch 28/100\n",
            "27/27 [==============================] - 0s 6ms/step - loss: 2.7430e-04\n",
            "Epoch 29/100\n",
            "27/27 [==============================] - 0s 6ms/step - loss: 3.0543e-04\n",
            "Epoch 30/100\n",
            "27/27 [==============================] - 0s 6ms/step - loss: 2.9457e-04\n",
            "Epoch 31/100\n",
            "27/27 [==============================] - 0s 6ms/step - loss: 2.9258e-04\n",
            "Epoch 32/100\n",
            "27/27 [==============================] - 0s 6ms/step - loss: 2.8362e-04\n",
            "Epoch 33/100\n",
            "27/27 [==============================] - 0s 7ms/step - loss: 2.7329e-04\n",
            "Epoch 34/100\n",
            "27/27 [==============================] - 0s 6ms/step - loss: 2.7149e-04\n",
            "Epoch 35/100\n",
            "27/27 [==============================] - 0s 6ms/step - loss: 2.7102e-04\n",
            "Epoch 36/100\n",
            "27/27 [==============================] - 0s 6ms/step - loss: 2.6923e-04\n",
            "Epoch 37/100\n",
            "27/27 [==============================] - 0s 6ms/step - loss: 2.7169e-04\n",
            "Epoch 38/100\n",
            "27/27 [==============================] - 0s 6ms/step - loss: 2.9519e-04\n",
            "Epoch 39/100\n",
            "27/27 [==============================] - 0s 7ms/step - loss: 2.7723e-04\n",
            "Epoch 40/100\n",
            "27/27 [==============================] - 0s 6ms/step - loss: 2.8781e-04\n",
            "Epoch 41/100\n",
            "27/27 [==============================] - 0s 6ms/step - loss: 2.7840e-04\n",
            "Epoch 42/100\n",
            "27/27 [==============================] - 0s 6ms/step - loss: 2.8090e-04\n",
            "Epoch 43/100\n",
            "27/27 [==============================] - 0s 6ms/step - loss: 2.7567e-04\n",
            "Epoch 44/100\n",
            "27/27 [==============================] - 0s 6ms/step - loss: 2.8093e-04\n",
            "Epoch 45/100\n",
            "27/27 [==============================] - 0s 9ms/step - loss: 2.6661e-04\n",
            "Epoch 46/100\n",
            "27/27 [==============================] - 0s 8ms/step - loss: 2.9140e-04\n",
            "Epoch 47/100\n",
            "27/27 [==============================] - 0s 8ms/step - loss: 2.8994e-04\n",
            "Epoch 48/100\n",
            "27/27 [==============================] - 0s 7ms/step - loss: 2.7453e-04\n",
            "Epoch 49/100\n",
            "27/27 [==============================] - 0s 9ms/step - loss: 2.6983e-04\n",
            "Epoch 50/100\n",
            "27/27 [==============================] - 0s 7ms/step - loss: 2.7823e-04\n",
            "Epoch 51/100\n",
            "27/27 [==============================] - 0s 8ms/step - loss: 2.7538e-04\n",
            "Epoch 52/100\n",
            "27/27 [==============================] - 0s 8ms/step - loss: 2.7253e-04\n",
            "Epoch 53/100\n",
            "27/27 [==============================] - 0s 8ms/step - loss: 2.7294e-04\n",
            "Epoch 54/100\n",
            "27/27 [==============================] - 0s 9ms/step - loss: 2.6840e-04\n",
            "Epoch 55/100\n",
            "27/27 [==============================] - 0s 8ms/step - loss: 2.7287e-04\n",
            "Epoch 56/100\n",
            "27/27 [==============================] - 0s 8ms/step - loss: 2.7038e-04\n",
            "Epoch 57/100\n",
            "27/27 [==============================] - 0s 8ms/step - loss: 2.8727e-04\n",
            "Epoch 58/100\n",
            "27/27 [==============================] - 0s 8ms/step - loss: 2.8812e-04\n",
            "Epoch 59/100\n",
            "27/27 [==============================] - 0s 8ms/step - loss: 2.8729e-04\n",
            "Epoch 60/100\n",
            "27/27 [==============================] - 0s 8ms/step - loss: 2.6905e-04\n",
            "Epoch 61/100\n",
            "27/27 [==============================] - 0s 8ms/step - loss: 2.7580e-04\n",
            "Epoch 62/100\n",
            "27/27 [==============================] - 0s 8ms/step - loss: 2.7764e-04\n",
            "Epoch 63/100\n",
            "27/27 [==============================] - 0s 9ms/step - loss: 2.7926e-04\n",
            "Epoch 64/100\n",
            "27/27 [==============================] - 0s 8ms/step - loss: 2.8353e-04\n",
            "Epoch 65/100\n",
            "27/27 [==============================] - 0s 8ms/step - loss: 2.8303e-04\n",
            "Epoch 66/100\n",
            "27/27 [==============================] - 0s 6ms/step - loss: 2.7141e-04\n",
            "Epoch 67/100\n",
            "27/27 [==============================] - 0s 6ms/step - loss: 2.7719e-04\n",
            "Epoch 68/100\n",
            "27/27 [==============================] - 0s 7ms/step - loss: 2.8017e-04\n",
            "Epoch 69/100\n",
            "27/27 [==============================] - 0s 6ms/step - loss: 2.8048e-04\n",
            "Epoch 70/100\n",
            "27/27 [==============================] - 0s 5ms/step - loss: 2.9099e-04\n",
            "Epoch 71/100\n",
            "27/27 [==============================] - 0s 6ms/step - loss: 2.7624e-04\n",
            "Epoch 72/100\n",
            "27/27 [==============================] - 0s 6ms/step - loss: 2.6894e-04\n",
            "Epoch 73/100\n",
            "27/27 [==============================] - 0s 7ms/step - loss: 2.7270e-04\n",
            "Epoch 74/100\n",
            "27/27 [==============================] - 0s 7ms/step - loss: 2.8238e-04\n",
            "Epoch 75/100\n",
            "27/27 [==============================] - 0s 6ms/step - loss: 2.8156e-04\n",
            "Epoch 76/100\n",
            "27/27 [==============================] - 0s 6ms/step - loss: 2.7959e-04\n",
            "Epoch 77/100\n",
            "27/27 [==============================] - 0s 6ms/step - loss: 2.6845e-04\n",
            "Epoch 78/100\n",
            "27/27 [==============================] - 0s 6ms/step - loss: 2.7936e-04\n",
            "Epoch 79/100\n",
            "27/27 [==============================] - 0s 6ms/step - loss: 2.9688e-04\n",
            "Epoch 80/100\n",
            "27/27 [==============================] - 0s 7ms/step - loss: 3.0685e-04\n",
            "Epoch 81/100\n",
            "27/27 [==============================] - 0s 6ms/step - loss: 2.7590e-04\n",
            "Epoch 82/100\n",
            "27/27 [==============================] - 0s 5ms/step - loss: 2.7347e-04\n",
            "Epoch 83/100\n",
            "27/27 [==============================] - 0s 6ms/step - loss: 2.8063e-04\n",
            "Epoch 84/100\n",
            "27/27 [==============================] - 0s 6ms/step - loss: 2.7249e-04\n",
            "Epoch 85/100\n",
            "27/27 [==============================] - 0s 5ms/step - loss: 2.9610e-04\n",
            "Epoch 86/100\n",
            "27/27 [==============================] - 0s 7ms/step - loss: 2.7098e-04\n",
            "Epoch 87/100\n",
            "27/27 [==============================] - 0s 6ms/step - loss: 2.7264e-04\n",
            "Epoch 88/100\n",
            "27/27 [==============================] - 0s 6ms/step - loss: 2.7626e-04\n",
            "Epoch 89/100\n",
            "27/27 [==============================] - 0s 6ms/step - loss: 2.8961e-04\n",
            "Epoch 90/100\n",
            "27/27 [==============================] - 0s 6ms/step - loss: 2.7559e-04\n",
            "Epoch 91/100\n",
            "27/27 [==============================] - 0s 6ms/step - loss: 2.8543e-04\n",
            "Epoch 92/100\n",
            "27/27 [==============================] - 0s 6ms/step - loss: 2.8723e-04\n",
            "Epoch 93/100\n",
            "27/27 [==============================] - 0s 6ms/step - loss: 2.8279e-04\n",
            "Epoch 94/100\n",
            "27/27 [==============================] - 0s 6ms/step - loss: 2.7971e-04\n",
            "Epoch 95/100\n",
            "27/27 [==============================] - 0s 6ms/step - loss: 2.7805e-04\n",
            "Epoch 96/100\n",
            "27/27 [==============================] - 0s 6ms/step - loss: 2.7986e-04\n",
            "Epoch 97/100\n",
            "27/27 [==============================] - 0s 6ms/step - loss: 2.9153e-04\n",
            "Epoch 98/100\n",
            "27/27 [==============================] - 0s 6ms/step - loss: 2.7151e-04\n",
            "Epoch 99/100\n",
            "27/27 [==============================] - 0s 6ms/step - loss: 2.8346e-04\n",
            "Epoch 100/100\n",
            "27/27 [==============================] - 0s 6ms/step - loss: 2.9000e-04\n"
          ]
        },
        {
          "output_type": "execute_result",
          "data": {
            "text/plain": [
              "<keras.src.callbacks.History at 0x788122f2a6e0>"
            ]
          },
          "metadata": {},
          "execution_count": 28
        }
      ]
    },
    {
      "cell_type": "code",
      "source": [
        "# Dự báo dữ liệu test và train _8_2\n",
        "train_predict = model.predict(X_train)\n",
        "y_pred = model.predict(X_test)"
      ],
      "metadata": {
        "colab": {
          "base_uri": "https://localhost:8080/"
        },
        "id": "Z7H6b5bilgXv",
        "outputId": "6b0fb21e-2aa2-4291-d367-4af85fcda04d"
      },
      "execution_count": 29,
      "outputs": [
        {
          "output_type": "stream",
          "name": "stdout",
          "text": [
            "54/54 [==============================] - 0s 3ms/step\n",
            "15/15 [==============================] - 0s 3ms/step\n"
          ]
        }
      ]
    },
    {
      "cell_type": "code",
      "source": [
        "# Chuẩn hóa dữ liệu y_pred\n",
        "train_predict = scaler.inverse_transform(train_predict)\n",
        "y_pred = scaler.inverse_transform(y_pred)"
      ],
      "metadata": {
        "id": "AGrwjDEOl9Mj"
      },
      "execution_count": 30,
      "outputs": []
    },
    {
      "cell_type": "code",
      "source": [
        "# Dự báo 90 ngày tiếp theo\n",
        "x_input = test_data[-100:].reshape(1, -1)\n",
        "temp_input = list(x_input[0])\n",
        "lst_output = []\n",
        "\n",
        "i = 0\n",
        "while(i < 90):\n",
        "    if len(temp_input) > 100:\n",
        "        x_input = np.array(temp_input[1:])  # Lấy từng ngày từ ngày thứ 2 trở đi\n",
        "        x_input = x_input.reshape(1, time_step, 1)  # Reshape lại để phù hợp với input của mạng\n",
        "        yhat = model.predict(x_input, verbose=0)  # Dự đoán giá cho ngày tiếp theo\n",
        "        temp_input.extend(yhat[0].tolist())  # Thêm dự đoán vào danh sách temp_input\n",
        "        temp_input = temp_input[1:]  # Loại bỏ ngày đầu tiên\n",
        "        lst_output.extend(yhat.tolist())  # Lưu dự đoán vào mảng lst_output\n",
        "        i += 1\n",
        "    else:\n",
        "        x_input = x_input.reshape(1, time_step, 1)  # Reshape lại để phù hợp với input của mạng\n",
        "        yhat = model.predict(x_input, verbose=0)  # Dự đoán giá cho ngày tiếp theo\n",
        "        temp_input.extend(yhat[0].tolist())  # Thêm dự đoán vào danh sách temp_input\n",
        "        lst_output.extend(yhat.tolist())  # Lưu dự đoán vào mảng lst_output\n",
        "        i += 1\n",
        "\n",
        "# In ra dự đoán cho 90 ngày tiếp theo\n",
        "print(\"Dự đoán giá cho 90 ngày tiếp theo:\")\n",
        "print(lst_output)"
      ],
      "metadata": {
        "colab": {
          "base_uri": "https://localhost:8080/"
        },
        "id": "4DfyL9LMW9fX",
        "outputId": "77bd620f-f774-488b-bbbe-c4f260753b6a"
      },
      "execution_count": 31,
      "outputs": [
        {
          "output_type": "stream",
          "name": "stdout",
          "text": [
            "Dự đoán giá cho 90 ngày tiếp theo:\n",
            "[[0.14647097885608673], [0.1481737494468689], [0.1498611718416214], [0.15156900882720947], [0.153326615691185], [0.15508557856082916], [0.15686307847499847], [0.1586517095565796], [0.16044394671916962], [0.16224153339862823], [0.16404013335704803], [0.16583813726902008], [0.1676345020532608], [0.16942746937274933], [0.17121616005897522], [0.17299963533878326], [0.1747770458459854], [0.1765477955341339], [0.17831124365329742], [0.18006692826747894], [0.18181441724300385], [0.1835533231496811], [0.18528331816196442], [0.18700411915779114], [0.18871548771858215], [0.19041720032691956], [0.19210907816886902], [0.1937909573316574], [0.1954626590013504], [0.19712407886981964], [0.19877511262893677], [0.20041565597057343], [0.20204561948776245], [0.20366494357585907], [0.20527352392673492], [0.20687134563922882], [0.20845834910869598], [0.21003448963165283], [0.21159972250461578], [0.21315403282642365], [0.21469737589359283], [0.21622976660728455], [0.2177511602640152], [0.2192615419626236], [0.22076091170310974], [0.22224925458431244], [0.22372658550739288], [0.22519288957118988], [0.22664816677570343], [0.22809243202209473], [0.22952570021152496], [0.23094795644283295], [0.23235921561717987], [0.23375949263572693], [0.23514880239963531], [0.23652714490890503], [0.23789456486701965], [0.239251047372818], [0.24059665203094482], [0.24193137884140015], [0.24325525760650635], [0.24456828832626343], [0.24587054550647736], [0.24716199934482574], [0.24844270944595337], [0.24971269071102142], [0.2509719729423523], [0.25222060084342957], [0.25345858931541443], [0.2546859681606293], [0.25590279698371887], [0.2571091055870056], [0.2583048939704895], [0.2594902515411377], [0.2606651484966278], [0.2618297040462494], [0.26298388838768005], [0.2641277611255646], [0.26526138186454773], [0.2663848102092743], [0.2674980163574219], [0.26860111951828003], [0.26969411969184875], [0.2707770764827728], [0.27185001969337463], [0.27291300892829895], [0.27396607398986816], [0.27500930428504944], [0.2760426700115204], [0.27706629037857056]]\n"
          ]
        }
      ]
    },
    {
      "cell_type": "code",
      "source": [
        "predict_future_30 = lst_output[:30]\n",
        "predict_future_60 = lst_output[30:60]\n",
        "predict_future_90 = lst_output[60:]\n"
      ],
      "metadata": {
        "id": "vPOQbRv4A-Zx"
      },
      "execution_count": 32,
      "outputs": []
    },
    {
      "cell_type": "code",
      "source": [
        "#Vẽ hình\n",
        "train_data_index = pd.RangeIndex(start=0, stop=len(train_data), step=1)\n",
        "plt.plot(train_data_index, scaler.inverse_transform(train_data), label='Train')\n",
        "\n",
        "test_data_index = pd.RangeIndex(start=train_size, stop=train_size+len(test_data), step=1)\n",
        "plt.plot(test_data_index, scaler.inverse_transform(test_data), label='Test')\n",
        "\n",
        "predicted_test_index = pd.RangeIndex(start=train_size, stop=train_size+len(y_pred), step=1)\n",
        "plt.plot(predicted_test_index, y_pred)\n",
        "\n",
        "predict_future_30_index = pd.RangeIndex(start=test_data_index[-1]+1, stop=test_data_index[-1]+31, step=1)\n",
        "plt.plot(predict_future_30_index, scaler.inverse_transform(predict_future_30))\n",
        "\n",
        "predict_future_60_index = pd.RangeIndex(start=test_data_index[-1]+31, stop=test_data_index[-1]+61, step=1)\n",
        "plt.plot(predict_future_60_index, scaler.inverse_transform(predict_future_60))\n",
        "\n",
        "predict_future_90_index = pd.RangeIndex(start=test_data_index[-1]+61, stop=test_data_index[-1]+91, step=1)\n",
        "plt.plot(predict_future_90_index, scaler.inverse_transform(predict_future_90))\n",
        "\n",
        "plt.title('GRU - ADA Stock Price - 8:2')\n",
        "plt.xlabel('Date')\n",
        "plt.ylabel('Price')\n",
        "plt.legend(['Train','Test','Predict Test','Predict 30days','Predict 60days','Predict 90days'])\n",
        "plt.show()"
      ],
      "metadata": {
        "colab": {
          "base_uri": "https://localhost:8080/",
          "height": 472
        },
        "id": "9dEqqWytXSRo",
        "outputId": "9677a56b-a94c-4e4b-b02f-a2bc63f445cf"
      },
      "execution_count": 33,
      "outputs": [
        {
          "output_type": "display_data",
          "data": {
            "text/plain": [
              "<Figure size 640x480 with 1 Axes>"
            ],
            "image/png": "[encoded data removed]"
          },
          "metadata": {}
        }
      ]
    },
    {
      "cell_type": "code",
      "source": [
        "from sklearn.metrics import mean_absolute_error, mean_squared_error, mean_absolute_percentage_error\n",
        "\n",
        "mae = mean_absolute_error(y_test, y_pred)\n",
        "mape = mean_absolute_percentage_error(y_test, y_pred)\n",
        "rmse = np.sqrt(mean_squared_error(y_test, y_pred))\n",
        "\n",
        "print(\"Mean Absolute Error (MAE):\", mae)\n",
        "print(\"Mean Absolute Percentage Error (MAPE):\", mape * 100)\n",
        "print(\"Root Mean Square Error (RMSE):\", rmse)"
      ],
      "metadata": {
        "colab": {
          "base_uri": "https://localhost:8080/"
        },
        "id": "APE0pAmrJKcg",
        "outputId": "ee2863bf-2dfe-4396-8284-5c986b38e437"
      },
      "execution_count": 27,
      "outputs": [
        {
          "output_type": "stream",
          "name": "stdout",
          "text": [
            "Mean Absolute Error (MAE): 0.2948174144858788\n",
            "Mean Absolute Percentage Error (MAPE): 225.39907688714754\n",
            "Root Mean Square Error (RMSE): 0.3089414901651909\n"
          ]
        }
      ]
    },
    {
      "cell_type": "markdown",
      "source": [],
      "metadata": {
        "id": "3yRLTREua_1d"
      }
    },
    {
      "cell_type": "code",
      "source": [
        "# # 12. Đánh giá độ chính xác thuật toán bằng RMSE\n",
        "# test_rmse = np.sqrt(np.mean((y_pred - y_test)**2))\n",
        "# print('Testing RMSE:', test_rmse)\n",
        "# # Đánh giá độ chính xác thuật toán bằng MAE\n",
        "# test_mae = np.mean(abs(y_pred - y_test))\n",
        "# print('Testing MAE:', test_mae)\n",
        "# # Đánh giá độ chính xác thuật toán bằng MAPE\n",
        "# test_mape = np.mean(np.abs(y_pred - y_test)/np.abs(y_pred))\n",
        "# print('Testing MAPE:', test_mape)"
      ],
      "metadata": {
        "colab": {
          "base_uri": "https://localhost:8080/"
        },
        "id": "c8Ef1hD1a5y2",
        "outputId": "1369c53e-0896-439a-de2f-9eab1d52c276"
      },
      "execution_count": null,
      "outputs": [
        {
          "output_type": "stream",
          "name": "stdout",
          "text": [
            "Testing RMSE: 0.30995897321254945\n",
            "Testing MAE: 0.29635483355720177\n",
            "Testing MAPE: 0.6935905549176788\n"
          ]
        }
      ]
    },
    {
      "cell_type": "code",
      "source": [],
      "metadata": {
        "id": "fxjVSJqCa8n1"
      },
      "execution_count": null,
      "outputs": []
    }
  ]
}