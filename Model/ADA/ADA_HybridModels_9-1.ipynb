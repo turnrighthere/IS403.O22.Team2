{
 "cells": [
  {
   "cell_type": "code",
   "execution_count": 1,
   "id": "7596f4a6-de17-49f1-a4e8-c94b4a70de87",
   "metadata": {
    "tags": []
   },
   "outputs": [],
   "source": [
    "# 1. Import các thư viện cần thiết\n",
    "import pandas as pd\n",
    "import numpy as np\n",
    "import matplotlib.pyplot as plt\n",
    "from sklearn.linear_model import LinearRegression\n",
    "from xgboost import XGBRegressor\n",
    "from sklearn.preprocessing import MinMaxScaler\n",
    "from statsmodels.tsa.holtwinters import ExponentialSmoothing"
   ]
  },
  {
   "cell_type": "code",
   "execution_count": 2,
   "id": "adf59ad2-0c82-4488-87d9-f50928c79496",
   "metadata": {
    "tags": []
   },
   "outputs": [],
   "source": [
    "# 2. Đọc file csv và gắng index với giá Price\n",
    "df = pd.read_csv('pre_ADA-USD.csv')\n",
    "df1 = df['Close'].values.reshape(-1, 1)"
   ]
  },
  {
   "cell_type": "code",
   "execution_count": 3,
   "id": "ad45d202-6115-4652-8524-b2c6e9c87243",
   "metadata": {
    "tags": []
   },
   "outputs": [],
   "source": [
    "# 3. Scaler data\n",
    "scaler = MinMaxScaler(feature_range=(0,1))\n",
    "df1 = scaler.fit_transform(df1)"
   ]
  },
  {
   "cell_type": "code",
   "execution_count": 4,
   "id": "d1ba11d9-b38a-4af2-8978-6bf00330be32",
   "metadata": {
    "tags": []
   },
   "outputs": [
    {
     "name": "stdout",
     "output_type": "stream",
     "text": [
      "Train shape: (2056, 1)\n",
      "Test shape: (229, 1)\n"
     ]
    }
   ],
   "source": [
    "# 4. Chia dữ liệu 9 - 1\n",
    "train_size = int(0.9 * len(df1))\n",
    "test_size = len(df1) - train_size\n",
    "\n",
    "train_data = df1[:train_size]\n",
    "test_data = df1[train_size:]\n",
    "\n",
    "print(\"Train shape:\", train_data.shape)\n",
    "print(\"Test shape:\", test_data.shape)"
   ]
  },
  {
   "cell_type": "code",
   "execution_count": 5,
   "id": "0b3e6149-6552-4e18-a0cf-fb52598e8813",
   "metadata": {
    "tags": []
   },
   "outputs": [],
   "source": [
    "# 5. Create dataset\n",
    "def create_dataset(dataset, time_step=1):\n",
    "    dataX, dataY = [], []\n",
    "    for i in range(len(dataset)-time_step-1):\n",
    "        a = dataset[i:(i+time_step), 0]\n",
    "        dataX.append(a)\n",
    "        dataY.append(dataset[i + time_step, 0])\n",
    "    return np.array(dataX), np.array(dataY)"
   ]
  },
  {
   "cell_type": "code",
   "execution_count": 6,
   "id": "f420984f-5438-4a15-9e33-1d71c8df039d",
   "metadata": {
    "tags": []
   },
   "outputs": [
    {
     "name": "stdout",
     "output_type": "stream",
     "text": [
      "x_train:  (1955, 100)\n",
      "y_train:  (1955,)\n",
      "x_test:  (128, 100)\n",
      "y_test (128,)\n"
     ]
    }
   ],
   "source": [
    "# 6. Chuẩn bị dữ liệu\n",
    "time_step = 100\n",
    "x_train, y_train = create_dataset(train_data, time_step)\n",
    "x_test, y_test = create_dataset(test_data, time_step)\n",
    "\n",
    "print(\"x_train: \", x_train.shape)\n",
    "print(\"y_train: \", y_train.shape)\n",
    "print(\"x_test: \", x_test.shape)\n",
    "print(\"y_test\", y_test.shape)"
   ]
  },
  {
   "cell_type": "code",
   "execution_count": 7,
   "id": "8827faf5-fc14-4101-b833-0cb57c85dee2",
   "metadata": {
    "tags": []
   },
   "outputs": [
    {
     "data": {
      "text/html": [
       "<style>#sk-container-id-1 {color: black;background-color: white;}#sk-container-id-1 pre{padding: 0;}#sk-container-id-1 div.sk-toggleable {background-color: white;}#sk-container-id-1 label.sk-toggleable__label {cursor: pointer;display: block;width: 100%;margin-bottom: 0;padding: 0.3em;box-sizing: border-box;text-align: center;}#sk-container-id-1 label.sk-toggleable__label-arrow:before {content: \"▸\";float: left;margin-right: 0.25em;color: #696969;}#sk-container-id-1 label.sk-toggleable__label-arrow:hover:before {color: black;}#sk-container-id-1 div.sk-estimator:hover label.sk-toggleable__label-arrow:before {color: black;}#sk-container-id-1 div.sk-toggleable__content {max-height: 0;max-width: 0;overflow: hidden;text-align: left;background-color: #f0f8ff;}#sk-container-id-1 div.sk-toggleable__content pre {margin: 0.2em;color: black;border-radius: 0.25em;background-color: #f0f8ff;}#sk-container-id-1 input.sk-toggleable__control:checked~div.sk-toggleable__content {max-height: 200px;max-width: 100%;overflow: auto;}#sk-container-id-1 input.sk-toggleable__control:checked~label.sk-toggleable__label-arrow:before {content: \"▾\";}#sk-container-id-1 div.sk-estimator input.sk-toggleable__control:checked~label.sk-toggleable__label {background-color: #d4ebff;}#sk-container-id-1 div.sk-label input.sk-toggleable__control:checked~label.sk-toggleable__label {background-color: #d4ebff;}#sk-container-id-1 input.sk-hidden--visually {border: 0;clip: rect(1px 1px 1px 1px);clip: rect(1px, 1px, 1px, 1px);height: 1px;margin: -1px;overflow: hidden;padding: 0;position: absolute;width: 1px;}#sk-container-id-1 div.sk-estimator {font-family: monospace;background-color: #f0f8ff;border: 1px dotted black;border-radius: 0.25em;box-sizing: border-box;margin-bottom: 0.5em;}#sk-container-id-1 div.sk-estimator:hover {background-color: #d4ebff;}#sk-container-id-1 div.sk-parallel-item::after {content: \"\";width: 100%;border-bottom: 1px solid gray;flex-grow: 1;}#sk-container-id-1 div.sk-label:hover label.sk-toggleable__label {background-color: #d4ebff;}#sk-container-id-1 div.sk-serial::before {content: \"\";position: absolute;border-left: 1px solid gray;box-sizing: border-box;top: 0;bottom: 0;left: 50%;z-index: 0;}#sk-container-id-1 div.sk-serial {display: flex;flex-direction: column;align-items: center;background-color: white;padding-right: 0.2em;padding-left: 0.2em;position: relative;}#sk-container-id-1 div.sk-item {position: relative;z-index: 1;}#sk-container-id-1 div.sk-parallel {display: flex;align-items: stretch;justify-content: center;background-color: white;position: relative;}#sk-container-id-1 div.sk-item::before, #sk-container-id-1 div.sk-parallel-item::before {content: \"\";position: absolute;border-left: 1px solid gray;box-sizing: border-box;top: 0;bottom: 0;left: 50%;z-index: -1;}#sk-container-id-1 div.sk-parallel-item {display: flex;flex-direction: column;z-index: 1;position: relative;background-color: white;}#sk-container-id-1 div.sk-parallel-item:first-child::after {align-self: flex-end;width: 50%;}#sk-container-id-1 div.sk-parallel-item:last-child::after {align-self: flex-start;width: 50%;}#sk-container-id-1 div.sk-parallel-item:only-child::after {width: 0;}#sk-container-id-1 div.sk-dashed-wrapped {border: 1px dashed gray;margin: 0 0.4em 0.5em 0.4em;box-sizing: border-box;padding-bottom: 0.4em;background-color: white;}#sk-container-id-1 div.sk-label label {font-family: monospace;font-weight: bold;display: inline-block;line-height: 1.2em;}#sk-container-id-1 div.sk-label-container {text-align: center;}#sk-container-id-1 div.sk-container {/* jupyter's `normalize.less` sets `[hidden] { display: none; }` but bootstrap.min.css set `[hidden] { display: none !important; }` so we also need the `!important` here to be able to override the default hidden behavior on the sphinx rendered scikit-learn.org. See: https://github.com/scikit-learn/scikit-learn/issues/21755 */display: inline-block !important;position: relative;}#sk-container-id-1 div.sk-text-repr-fallback {display: none;}</style><div id=\"sk-container-id-1\" class=\"sk-top-container\"><div class=\"sk-text-repr-fallback\"><pre>LinearRegression()</pre><b>In a Jupyter environment, please rerun this cell to show the HTML representation or trust the notebook. <br />On GitHub, the HTML representation is unable to render, please try loading this page with nbviewer.org.</b></div><div class=\"sk-container\" hidden><div class=\"sk-item\"><div class=\"sk-estimator sk-toggleable\"><input class=\"sk-toggleable__control sk-hidden--visually\" id=\"sk-estimator-id-1\" type=\"checkbox\" checked><label for=\"sk-estimator-id-1\" class=\"sk-toggleable__label sk-toggleable__label-arrow\">LinearRegression</label><div class=\"sk-toggleable__content\"><pre>LinearRegression()</pre></div></div></div></div></div>"
      ],
      "text/plain": [
       "LinearRegression()"
      ]
     },
     "execution_count": 7,
     "metadata": {},
     "output_type": "execute_result"
    }
   ],
   "source": [
    "# 7. Huấn luyện mô hình Linear Regression cho trend\n",
    "linear_reg = LinearRegression()\n",
    "linear_reg.fit(x_train, y_train)"
   ]
  },
  {
   "cell_type": "code",
   "execution_count": 8,
   "id": "7d2e856d-5271-496b-877a-686ca0e3135a",
   "metadata": {
    "tags": []
   },
   "outputs": [],
   "source": [
    "# 8. Dự đoán trend cho train và test data\n",
    "trend_train = linear_reg.predict(x_train)\n",
    "trend_test = linear_reg.predict(x_test)"
   ]
  },
  {
   "cell_type": "code",
   "execution_count": 9,
   "id": "da31bf10-d1b2-47d1-943f-f44b5e2b7c9b",
   "metadata": {
    "tags": []
   },
   "outputs": [],
   "source": [
    "# 9. Loại bỏ trend khỏi dữ liệu gốc\n",
    "residual_train = y_train - trend_train\n",
    "residual_test = y_test - trend_test"
   ]
  },
  {
   "cell_type": "code",
   "execution_count": 10,
   "id": "d2ef0f6d-943e-41c9-93db-9981b50dc05c",
   "metadata": {
    "tags": []
   },
   "outputs": [],
   "source": [
    "# 10. Huấn luyện mô hình Exponential Smoothing cho seasonal component\n",
    "seasonal_model = ExponentialSmoothing(residual_train, seasonal='add', seasonal_periods=12)\n",
    "seasonal_fit = seasonal_model.fit()"
   ]
  },
  {
   "cell_type": "code",
   "execution_count": 11,
   "id": "2a90ba6a-f31a-4afc-be1c-2d7ca0863c51",
   "metadata": {
    "tags": []
   },
   "outputs": [],
   "source": [
    "# 11. Loại bỏ seasonal component khỏi residual\n",
    "detrended_residual_train = residual_train - seasonal_fit.fittedvalues\n",
    "detrended_residual_test = residual_test - seasonal_fit.forecast(len(residual_test))"
   ]
  },
  {
   "cell_type": "code",
   "execution_count": 12,
   "id": "18084af6-d4bf-44d5-a5dd-27fa3740014a",
   "metadata": {
    "tags": []
   },
   "outputs": [
    {
     "name": "stdout",
     "output_type": "stream",
     "text": [
      "[18:39:53] WARNING: C:/Jenkins/workspace/xgboost-win64_release_0.90/src/objective/regression_obj.cu:152: reg:linear is now deprecated in favor of reg:squarederror.\n"
     ]
    },
    {
     "data": {
      "text/html": [
       "<style>#sk-container-id-2 {color: black;background-color: white;}#sk-container-id-2 pre{padding: 0;}#sk-container-id-2 div.sk-toggleable {background-color: white;}#sk-container-id-2 label.sk-toggleable__label {cursor: pointer;display: block;width: 100%;margin-bottom: 0;padding: 0.3em;box-sizing: border-box;text-align: center;}#sk-container-id-2 label.sk-toggleable__label-arrow:before {content: \"▸\";float: left;margin-right: 0.25em;color: #696969;}#sk-container-id-2 label.sk-toggleable__label-arrow:hover:before {color: black;}#sk-container-id-2 div.sk-estimator:hover label.sk-toggleable__label-arrow:before {color: black;}#sk-container-id-2 div.sk-toggleable__content {max-height: 0;max-width: 0;overflow: hidden;text-align: left;background-color: #f0f8ff;}#sk-container-id-2 div.sk-toggleable__content pre {margin: 0.2em;color: black;border-radius: 0.25em;background-color: #f0f8ff;}#sk-container-id-2 input.sk-toggleable__control:checked~div.sk-toggleable__content {max-height: 200px;max-width: 100%;overflow: auto;}#sk-container-id-2 input.sk-toggleable__control:checked~label.sk-toggleable__label-arrow:before {content: \"▾\";}#sk-container-id-2 div.sk-estimator input.sk-toggleable__control:checked~label.sk-toggleable__label {background-color: #d4ebff;}#sk-container-id-2 div.sk-label input.sk-toggleable__control:checked~label.sk-toggleable__label {background-color: #d4ebff;}#sk-container-id-2 input.sk-hidden--visually {border: 0;clip: rect(1px 1px 1px 1px);clip: rect(1px, 1px, 1px, 1px);height: 1px;margin: -1px;overflow: hidden;padding: 0;position: absolute;width: 1px;}#sk-container-id-2 div.sk-estimator {font-family: monospace;background-color: #f0f8ff;border: 1px dotted black;border-radius: 0.25em;box-sizing: border-box;margin-bottom: 0.5em;}#sk-container-id-2 div.sk-estimator:hover {background-color: #d4ebff;}#sk-container-id-2 div.sk-parallel-item::after {content: \"\";width: 100%;border-bottom: 1px solid gray;flex-grow: 1;}#sk-container-id-2 div.sk-label:hover label.sk-toggleable__label {background-color: #d4ebff;}#sk-container-id-2 div.sk-serial::before {content: \"\";position: absolute;border-left: 1px solid gray;box-sizing: border-box;top: 0;bottom: 0;left: 50%;z-index: 0;}#sk-container-id-2 div.sk-serial {display: flex;flex-direction: column;align-items: center;background-color: white;padding-right: 0.2em;padding-left: 0.2em;position: relative;}#sk-container-id-2 div.sk-item {position: relative;z-index: 1;}#sk-container-id-2 div.sk-parallel {display: flex;align-items: stretch;justify-content: center;background-color: white;position: relative;}#sk-container-id-2 div.sk-item::before, #sk-container-id-2 div.sk-parallel-item::before {content: \"\";position: absolute;border-left: 1px solid gray;box-sizing: border-box;top: 0;bottom: 0;left: 50%;z-index: -1;}#sk-container-id-2 div.sk-parallel-item {display: flex;flex-direction: column;z-index: 1;position: relative;background-color: white;}#sk-container-id-2 div.sk-parallel-item:first-child::after {align-self: flex-end;width: 50%;}#sk-container-id-2 div.sk-parallel-item:last-child::after {align-self: flex-start;width: 50%;}#sk-container-id-2 div.sk-parallel-item:only-child::after {width: 0;}#sk-container-id-2 div.sk-dashed-wrapped {border: 1px dashed gray;margin: 0 0.4em 0.5em 0.4em;box-sizing: border-box;padding-bottom: 0.4em;background-color: white;}#sk-container-id-2 div.sk-label label {font-family: monospace;font-weight: bold;display: inline-block;line-height: 1.2em;}#sk-container-id-2 div.sk-label-container {text-align: center;}#sk-container-id-2 div.sk-container {/* jupyter's `normalize.less` sets `[hidden] { display: none; }` but bootstrap.min.css set `[hidden] { display: none !important; }` so we also need the `!important` here to be able to override the default hidden behavior on the sphinx rendered scikit-learn.org. See: https://github.com/scikit-learn/scikit-learn/issues/21755 */display: inline-block !important;position: relative;}#sk-container-id-2 div.sk-text-repr-fallback {display: none;}</style><div id=\"sk-container-id-2\" class=\"sk-top-container\"><div class=\"sk-text-repr-fallback\"><pre>XGBRegressor()</pre><b>In a Jupyter environment, please rerun this cell to show the HTML representation or trust the notebook. <br />On GitHub, the HTML representation is unable to render, please try loading this page with nbviewer.org.</b></div><div class=\"sk-container\" hidden><div class=\"sk-item\"><div class=\"sk-estimator sk-toggleable\"><input class=\"sk-toggleable__control sk-hidden--visually\" id=\"sk-estimator-id-2\" type=\"checkbox\" checked><label for=\"sk-estimator-id-2\" class=\"sk-toggleable__label sk-toggleable__label-arrow\">XGBRegressor</label><div class=\"sk-toggleable__content\"><pre>XGBRegressor()</pre></div></div></div></div></div>"
      ],
      "text/plain": [
       "XGBRegressor()"
      ]
     },
     "execution_count": 12,
     "metadata": {},
     "output_type": "execute_result"
    }
   ],
   "source": [
    "# 12. Huấn luyện mô hình XGBoost cho detrended residual\n",
    "xgb = XGBRegressor()\n",
    "xgb.fit(x_train, detrended_residual_train)"
   ]
  },
  {
   "cell_type": "code",
   "execution_count": 13,
   "id": "7d5300fb-fec8-44e9-9195-7988631ffa59",
   "metadata": {
    "tags": []
   },
   "outputs": [],
   "source": [
    "# 13. Dự đoán detrended residual cho train và test data\n",
    "residual_train_pred = xgb.predict(x_train)\n",
    "residual_test_pred = xgb.predict(x_test)"
   ]
  },
  {
   "cell_type": "code",
   "execution_count": 14,
   "id": "1eb1d6cf-8fd0-4dfe-8217-859730f8eb76",
   "metadata": {
    "tags": []
   },
   "outputs": [],
   "source": [
    "# 14. Kết hợp dự đoán \n",
    "y_train_pred = trend_train + seasonal_fit.fittedvalues + residual_train_pred\n",
    "y_test_pred = trend_test + seasonal_fit.forecast(len(residual_test)) + residual_test_pred"
   ]
  },
  {
   "cell_type": "code",
   "execution_count": 15,
   "id": "20914627-3747-4ab7-9fa4-f83821507363",
   "metadata": {
    "tags": []
   },
   "outputs": [
    {
     "name": "stdout",
     "output_type": "stream",
     "text": [
      "Testing RMSE: 0.009867863635153889\n",
      "Testing MAPE: 4.2221177028349155\n",
      "Testing MAE: 0.00755347367210467\n"
     ]
    }
   ],
   "source": [
    "# 15. Tính RMSE, MAPE, MAE\n",
    "test_rmse = np.sqrt(np.mean((y_test_pred - y_test)**2))\n",
    "print('Testing RMSE:', test_rmse)\n",
    "\n",
    "test_mape = np.mean(np.abs((y_test - y_test_pred) / y_test)) * 100\n",
    "print('Testing MAPE:', test_mape)\n",
    "\n",
    "test_mae = np.mean(np.abs(y_test - y_test_pred))\n",
    "print('Testing MAE:', test_mae)"
   ]
  },
  {
   "cell_type": "code",
   "execution_count": 16,
   "id": "a07f7b19-af2c-46cd-8526-c6737d4c461d",
   "metadata": {
    "tags": []
   },
   "outputs": [],
   "source": [
    "# 16. Hàm dự báo cho 30, 60, 90 ngày tiếp theo\n",
    "def forecast_days(n_days):\n",
    "    n_steps = 100\n",
    "    last_100_days = df1[-n_steps:].reshape(1, -1)\n",
    "\n",
    "    predicted_values = []\n",
    "\n",
    "    for i in range(n_days):\n",
    "        trend_next = linear_reg.predict(last_100_days)\n",
    "        seasonal_next = seasonal_fit.forecast(1)\n",
    "        residual_next = xgb.predict(last_100_days)\n",
    "        predicted_next = trend_next + seasonal_next + residual_next\n",
    "        predicted_values.append(predicted_next)\n",
    "        last_100_days = np.append(last_100_days[:,1:], predicted_next).reshape(1,-1)\n",
    "\n",
    "    return np.array(predicted_values)"
   ]
  },
  {
   "cell_type": "code",
   "execution_count": 17,
   "id": "a570dd0b-cc86-4320-9666-488685a7d8c6",
   "metadata": {
    "tags": []
   },
   "outputs": [],
   "source": [
    "# 17. Dự báo 30, 60, 90 ngày\n",
    "forecast_30 = forecast_days(30)\n",
    "forecast_60 = forecast_days(60)\n",
    "forecast_90 = forecast_days(90)"
   ]
  },
  {
   "cell_type": "code",
   "execution_count": 18,
   "id": "d1497543-99f0-45e5-a9d0-6c36c21e7e0f",
   "metadata": {
    "tags": []
   },
   "outputs": [
    {
     "name": "stdout",
     "output_type": "stream",
     "text": [
      "Dự báo cho 30 ngày tiếp theo: [[0.14625319]\n",
      " [0.14570795]\n",
      " [0.14756081]\n",
      " [0.14547966]\n",
      " [0.15062163]\n",
      " [0.14486033]\n",
      " [0.14365607]\n",
      " [0.14622379]\n",
      " [0.13680854]\n",
      " [0.13422009]\n",
      " [0.13171874]\n",
      " [0.13375967]\n",
      " [0.12973505]\n",
      " [0.1283819 ]\n",
      " [0.12884676]\n",
      " [0.12641334]\n",
      " [0.12672348]\n",
      " [0.12554953]\n",
      " [0.12417204]\n",
      " [0.11716233]\n",
      " [0.11441663]\n",
      " [0.11343455]\n",
      " [0.11426928]\n",
      " [0.11309762]\n",
      " [0.11006677]\n",
      " [0.10845675]\n",
      " [0.10603102]\n",
      " [0.10458272]\n",
      " [0.10141821]\n",
      " [0.0989192 ]]\n"
     ]
    }
   ],
   "source": [
    "# 18. In ra dự đoán cho 30 ngày tiếp theo\n",
    "print(\"Dự báo cho 30 ngày tiếp theo:\", forecast_30)"
   ]
  },
  {
   "cell_type": "code",
   "execution_count": 19,
   "id": "c33be531-7eb6-4934-8abf-dabdfcb8024f",
   "metadata": {
    "tags": []
   },
   "outputs": [
    {
     "name": "stdout",
     "output_type": "stream",
     "text": [
      "Dự báo cho 60 ngày tiếp theo: [[0.14625319]\n",
      " [0.14570795]\n",
      " [0.14756081]\n",
      " [0.14547966]\n",
      " [0.15062163]\n",
      " [0.14486033]\n",
      " [0.14365607]\n",
      " [0.14622379]\n",
      " [0.13680854]\n",
      " [0.13422009]\n",
      " [0.13171874]\n",
      " [0.13375967]\n",
      " [0.12973505]\n",
      " [0.1283819 ]\n",
      " [0.12884676]\n",
      " [0.12641334]\n",
      " [0.12672348]\n",
      " [0.12554953]\n",
      " [0.12417204]\n",
      " [0.11716233]\n",
      " [0.11441663]\n",
      " [0.11343455]\n",
      " [0.11426928]\n",
      " [0.11309762]\n",
      " [0.11006677]\n",
      " [0.10845675]\n",
      " [0.10603102]\n",
      " [0.10458272]\n",
      " [0.10141821]\n",
      " [0.0989192 ]\n",
      " [0.09364685]\n",
      " [0.09510354]\n",
      " [0.09550257]\n",
      " [0.0929444 ]\n",
      " [0.09483561]\n",
      " [0.09839592]\n",
      " [0.09371955]\n",
      " [0.08976607]\n",
      " [0.08656637]\n",
      " [0.08088699]\n",
      " [0.07944364]\n",
      " [0.07620799]\n",
      " [0.07630823]\n",
      " [0.07146291]\n",
      " [0.07228275]\n",
      " [0.07264551]\n",
      " [0.07512139]\n",
      " [0.07467082]\n",
      " [0.07099264]\n",
      " [0.06865243]\n",
      " [0.06718627]\n",
      " [0.0665898 ]\n",
      " [0.06604235]\n",
      " [0.06515132]\n",
      " [0.06371677]\n",
      " [0.06086715]\n",
      " [0.06152294]\n",
      " [0.05907643]\n",
      " [0.05885185]\n",
      " [0.05767062]]\n"
     ]
    }
   ],
   "source": [
    "# 18. In ra dự đoán cho 60 ngày tiếp theo\n",
    "print(\"Dự báo cho 60 ngày tiếp theo:\", forecast_60)"
   ]
  },
  {
   "cell_type": "code",
   "execution_count": 20,
   "id": "af327a76-5930-445f-a94f-959100b62b29",
   "metadata": {
    "tags": []
   },
   "outputs": [
    {
     "name": "stdout",
     "output_type": "stream",
     "text": [
      "Dự báo cho 90 ngày tiếp theo: [[0.14625319]\n",
      " [0.14570795]\n",
      " [0.14756081]\n",
      " [0.14547966]\n",
      " [0.15062163]\n",
      " [0.14486033]\n",
      " [0.14365607]\n",
      " [0.14622379]\n",
      " [0.13680854]\n",
      " [0.13422009]\n",
      " [0.13171874]\n",
      " [0.13375967]\n",
      " [0.12973505]\n",
      " [0.1283819 ]\n",
      " [0.12884676]\n",
      " [0.12641334]\n",
      " [0.12672348]\n",
      " [0.12554953]\n",
      " [0.12417204]\n",
      " [0.11716233]\n",
      " [0.11441663]\n",
      " [0.11343455]\n",
      " [0.11426928]\n",
      " [0.11309762]\n",
      " [0.11006677]\n",
      " [0.10845675]\n",
      " [0.10603102]\n",
      " [0.10458272]\n",
      " [0.10141821]\n",
      " [0.0989192 ]\n",
      " [0.09364685]\n",
      " [0.09510354]\n",
      " [0.09550257]\n",
      " [0.0929444 ]\n",
      " [0.09483561]\n",
      " [0.09839592]\n",
      " [0.09371955]\n",
      " [0.08976607]\n",
      " [0.08656637]\n",
      " [0.08088699]\n",
      " [0.07944364]\n",
      " [0.07620799]\n",
      " [0.07630823]\n",
      " [0.07146291]\n",
      " [0.07228275]\n",
      " [0.07264551]\n",
      " [0.07512139]\n",
      " [0.07467082]\n",
      " [0.07099264]\n",
      " [0.06865243]\n",
      " [0.06718627]\n",
      " [0.0665898 ]\n",
      " [0.06604235]\n",
      " [0.06515132]\n",
      " [0.06371677]\n",
      " [0.06086715]\n",
      " [0.06152294]\n",
      " [0.05907643]\n",
      " [0.05885185]\n",
      " [0.05767062]\n",
      " [0.05576934]\n",
      " [0.05280126]\n",
      " [0.05326384]\n",
      " [0.05473907]\n",
      " [0.05237649]\n",
      " [0.05343849]\n",
      " [0.05100846]\n",
      " [0.04882325]\n",
      " [0.04638482]\n",
      " [0.04648652]\n",
      " [0.04453261]\n",
      " [0.04273252]\n",
      " [0.04279228]\n",
      " [0.04126127]\n",
      " [0.04110774]\n",
      " [0.04196895]\n",
      " [0.04152234]\n",
      " [0.04018348]\n",
      " [0.03868172]\n",
      " [0.03823083]\n",
      " [0.035812  ]\n",
      " [0.03597321]\n",
      " [0.0358373 ]\n",
      " [0.03290676]\n",
      " [0.03159628]\n",
      " [0.02902212]\n",
      " [0.02805724]\n",
      " [0.02713714]\n",
      " [0.02492416]\n",
      " [0.02353382]]\n"
     ]
    }
   ],
   "source": [
    "# 18. In ra dự đoán cho 90 ngày tiếp theo\n",
    "print(\"Dự báo cho 90 ngày tiếp theo:\", forecast_90)"
   ]
  },
  {
   "cell_type": "code",
   "execution_count": 21,
   "id": "8fb7fbd9-e9e7-4dc3-acbf-71d02d12e108",
   "metadata": {
    "tags": []
   },
   "outputs": [
    {
     "data": {
      "text/plain": [
       "<function matplotlib.pyplot.show(close=None, block=None)>"
      ]
     },
     "execution_count": 21,
     "metadata": {},
     "output_type": "execute_result"
    },
    {
     "data": {
      "image/png": "[encoded data removed]",
      "text/plain": [
       "<Figure size 640x480 with 1 Axes>"
      ]
     },
     "metadata": {},
     "output_type": "display_data"
    }
   ],
   "source": [
    "# Vẽ biểu đồ\n",
    "\n",
    "# Vẽ dữ liệu kiểm tra\n",
    "test_data_index = pd.RangeIndex(start=train_size, stop=train_size+test_size, step=1)\n",
    "plt.plot(test_data_index, scaler.inverse_transform(test_data), label='Test')\n",
    "\n",
    "# Vẽ dự báo 90, 60, 30 ngày\n",
    "predict_data_index_90 = pd.RangeIndex(start=len(df1), stop=len(df1)+90, step=1)\n",
    "plt.plot(predict_data_index_90, scaler.inverse_transform(np.array(forecast_90).reshape(-1, 1)), label='Forecast 90 days')\n",
    "\n",
    "predict_data_index_60 = pd.RangeIndex(start=len(df1), stop=len(df1)+60, step=1)\n",
    "plt.plot(predict_data_index_60, scaler.inverse_transform(np.array(forecast_60).reshape(-1, 1)), label='Forecast 60 days')\n",
    "\n",
    "predict_data_index_30 = pd.RangeIndex(start=len(df1), stop=len(df1)+30, step=1)\n",
    "plt.plot(predict_data_index_30, scaler.inverse_transform(np.array(forecast_30).reshape(-1, 1)), label='Forecast 30 days')\n",
    "\n",
    "\n",
    "plt.title('Hybrid Model - ADA Stock Price - 9:1 - 30, 60, 90 days Forecast')\n",
    "plt.legend()\n",
    "plt.xlabel('Day')\n",
    "plt.ylabel('Close Price')\n",
    "plt.grid()\n",
    "plt.show"
   ]
  }
 ],
 "metadata": {
  "kernelspec": {
   "display_name": "Python 3 (ipykernel)",
   "language": "python",
   "name": "python3"
  },
  "language_info": {
   "codemirror_mode": {
    "name": "ipython",
    "version": 3
   },
   "file_extension": ".py",
   "mimetype": "text/x-python",
   "name": "python",
   "nbconvert_exporter": "python",
   "pygments_lexer": "ipython3",
   "version": "3.10.8"
  }
 },
 "nbformat": 4,
 "nbformat_minor": 5
}
