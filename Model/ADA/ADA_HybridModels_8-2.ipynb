{
 "cells": [
  {
   "cell_type": "code",
   "execution_count": 1,
   "id": "7596f4a6-de17-49f1-a4e8-c94b4a70de87",
   "metadata": {
    "tags": []
   },
   "outputs": [],
   "source": [
    "# 1. Import các thư viện cần thiết\n",
    "import pandas as pd\n",
    "import numpy as np\n",
    "import matplotlib.pyplot as plt\n",
    "from sklearn.linear_model import LinearRegression\n",
    "from xgboost import XGBRegressor\n",
    "from sklearn.preprocessing import MinMaxScaler\n",
    "from statsmodels.tsa.holtwinters import ExponentialSmoothing"
   ]
  },
  {
   "cell_type": "code",
   "execution_count": 2,
   "id": "adf59ad2-0c82-4488-87d9-f50928c79496",
   "metadata": {
    "tags": []
   },
   "outputs": [],
   "source": [
    "# 2. Đọc file csv và gắng index với giá Price\n",
    "df = pd.read_csv('pre_ADA-USD.csv')\n",
    "df1 = df['Close'].values.reshape(-1, 1)"
   ]
  },
  {
   "cell_type": "code",
   "execution_count": 3,
   "id": "ad45d202-6115-4652-8524-b2c6e9c87243",
   "metadata": {
    "tags": []
   },
   "outputs": [],
   "source": [
    "# 3. Scaler data\n",
    "scaler = MinMaxScaler(feature_range=(0,1))\n",
    "df1 = scaler.fit_transform(df1)"
   ]
  },
  {
   "cell_type": "code",
   "execution_count": 4,
   "id": "d1ba11d9-b38a-4af2-8978-6bf00330be32",
   "metadata": {
    "tags": []
   },
   "outputs": [
    {
     "name": "stdout",
     "output_type": "stream",
     "text": [
      "Train shape: (1828, 1)\n",
      "Test shape: (457, 1)\n"
     ]
    }
   ],
   "source": [
    "# 4. Chia dữ liệu 8 - 2\n",
    "train_size = int(0.8 * len(df1))\n",
    "test_size = len(df1) - train_size\n",
    "\n",
    "train_data = df1[:train_size]\n",
    "test_data = df1[train_size:]\n",
    "\n",
    "print(\"Train shape:\", train_data.shape)\n",
    "print(\"Test shape:\", test_data.shape)"
   ]
  },
  {
   "cell_type": "code",
   "execution_count": 5,
   "id": "0b3e6149-6552-4e18-a0cf-fb52598e8813",
   "metadata": {
    "tags": []
   },
   "outputs": [],
   "source": [
    "# 5. Create dataset\n",
    "def create_dataset(dataset, time_step=1):\n",
    "    dataX, dataY = [], []\n",
    "    for i in range(len(dataset)-time_step-1):\n",
    "        a = dataset[i:(i+time_step), 0]\n",
    "        dataX.append(a)\n",
    "        dataY.append(dataset[i + time_step, 0])\n",
    "    return np.array(dataX), np.array(dataY)"
   ]
  },
  {
   "cell_type": "code",
   "execution_count": 6,
   "id": "f420984f-5438-4a15-9e33-1d71c8df039d",
   "metadata": {
    "tags": []
   },
   "outputs": [
    {
     "name": "stdout",
     "output_type": "stream",
     "text": [
      "x_train:  (1727, 100)\n",
      "y_train:  (1727,)\n",
      "x_test:  (456, 100)\n",
      "y_test (456,)\n"
     ]
    }
   ],
   "source": [
    "# 6. Chuẩn bị dữ liệu\n",
    "time_step = 100\n",
    "x_train, y_train = create_dataset(train_data, time_step)\n",
    "combined_data = np.concatenate((train_data[-time_step:], test_data))\n",
    "x_test, y_test = create_dataset(combined_data, time_step)\n",
    "\n",
    "print(\"x_train: \", x_train.shape)\n",
    "print(\"y_train: \", y_train.shape)\n",
    "print(\"x_test: \", x_test.shape)\n",
    "print(\"y_test\", y_test.shape)"
   ]
  },
  {
   "cell_type": "code",
   "execution_count": 7,
   "id": "8827faf5-fc14-4101-b833-0cb57c85dee2",
   "metadata": {
    "tags": []
   },
   "outputs": [
    {
     "data": {
      "text/html": [
       "<style>#sk-container-id-1 {color: black;background-color: white;}#sk-container-id-1 pre{padding: 0;}#sk-container-id-1 div.sk-toggleable {background-color: white;}#sk-container-id-1 label.sk-toggleable__label {cursor: pointer;display: block;width: 100%;margin-bottom: 0;padding: 0.3em;box-sizing: border-box;text-align: center;}#sk-container-id-1 label.sk-toggleable__label-arrow:before {content: \"▸\";float: left;margin-right: 0.25em;color: #696969;}#sk-container-id-1 label.sk-toggleable__label-arrow:hover:before {color: black;}#sk-container-id-1 div.sk-estimator:hover label.sk-toggleable__label-arrow:before {color: black;}#sk-container-id-1 div.sk-toggleable__content {max-height: 0;max-width: 0;overflow: hidden;text-align: left;background-color: #f0f8ff;}#sk-container-id-1 div.sk-toggleable__content pre {margin: 0.2em;color: black;border-radius: 0.25em;background-color: #f0f8ff;}#sk-container-id-1 input.sk-toggleable__control:checked~div.sk-toggleable__content {max-height: 200px;max-width: 100%;overflow: auto;}#sk-container-id-1 input.sk-toggleable__control:checked~label.sk-toggleable__label-arrow:before {content: \"▾\";}#sk-container-id-1 div.sk-estimator input.sk-toggleable__control:checked~label.sk-toggleable__label {background-color: #d4ebff;}#sk-container-id-1 div.sk-label input.sk-toggleable__control:checked~label.sk-toggleable__label {background-color: #d4ebff;}#sk-container-id-1 input.sk-hidden--visually {border: 0;clip: rect(1px 1px 1px 1px);clip: rect(1px, 1px, 1px, 1px);height: 1px;margin: -1px;overflow: hidden;padding: 0;position: absolute;width: 1px;}#sk-container-id-1 div.sk-estimator {font-family: monospace;background-color: #f0f8ff;border: 1px dotted black;border-radius: 0.25em;box-sizing: border-box;margin-bottom: 0.5em;}#sk-container-id-1 div.sk-estimator:hover {background-color: #d4ebff;}#sk-container-id-1 div.sk-parallel-item::after {content: \"\";width: 100%;border-bottom: 1px solid gray;flex-grow: 1;}#sk-container-id-1 div.sk-label:hover label.sk-toggleable__label {background-color: #d4ebff;}#sk-container-id-1 div.sk-serial::before {content: \"\";position: absolute;border-left: 1px solid gray;box-sizing: border-box;top: 0;bottom: 0;left: 50%;z-index: 0;}#sk-container-id-1 div.sk-serial {display: flex;flex-direction: column;align-items: center;background-color: white;padding-right: 0.2em;padding-left: 0.2em;position: relative;}#sk-container-id-1 div.sk-item {position: relative;z-index: 1;}#sk-container-id-1 div.sk-parallel {display: flex;align-items: stretch;justify-content: center;background-color: white;position: relative;}#sk-container-id-1 div.sk-item::before, #sk-container-id-1 div.sk-parallel-item::before {content: \"\";position: absolute;border-left: 1px solid gray;box-sizing: border-box;top: 0;bottom: 0;left: 50%;z-index: -1;}#sk-container-id-1 div.sk-parallel-item {display: flex;flex-direction: column;z-index: 1;position: relative;background-color: white;}#sk-container-id-1 div.sk-parallel-item:first-child::after {align-self: flex-end;width: 50%;}#sk-container-id-1 div.sk-parallel-item:last-child::after {align-self: flex-start;width: 50%;}#sk-container-id-1 div.sk-parallel-item:only-child::after {width: 0;}#sk-container-id-1 div.sk-dashed-wrapped {border: 1px dashed gray;margin: 0 0.4em 0.5em 0.4em;box-sizing: border-box;padding-bottom: 0.4em;background-color: white;}#sk-container-id-1 div.sk-label label {font-family: monospace;font-weight: bold;display: inline-block;line-height: 1.2em;}#sk-container-id-1 div.sk-label-container {text-align: center;}#sk-container-id-1 div.sk-container {/* jupyter's `normalize.less` sets `[hidden] { display: none; }` but bootstrap.min.css set `[hidden] { display: none !important; }` so we also need the `!important` here to be able to override the default hidden behavior on the sphinx rendered scikit-learn.org. See: https://github.com/scikit-learn/scikit-learn/issues/21755 */display: inline-block !important;position: relative;}#sk-container-id-1 div.sk-text-repr-fallback {display: none;}</style><div id=\"sk-container-id-1\" class=\"sk-top-container\"><div class=\"sk-text-repr-fallback\"><pre>LinearRegression()</pre><b>In a Jupyter environment, please rerun this cell to show the HTML representation or trust the notebook. <br />On GitHub, the HTML representation is unable to render, please try loading this page with nbviewer.org.</b></div><div class=\"sk-container\" hidden><div class=\"sk-item\"><div class=\"sk-estimator sk-toggleable\"><input class=\"sk-toggleable__control sk-hidden--visually\" id=\"sk-estimator-id-1\" type=\"checkbox\" checked><label for=\"sk-estimator-id-1\" class=\"sk-toggleable__label sk-toggleable__label-arrow\">LinearRegression</label><div class=\"sk-toggleable__content\"><pre>LinearRegression()</pre></div></div></div></div></div>"
      ],
      "text/plain": [
       "LinearRegression()"
      ]
     },
     "execution_count": 7,
     "metadata": {},
     "output_type": "execute_result"
    }
   ],
   "source": [
    "# 7. Huấn luyện mô hình Linear Regression cho trend\n",
    "linear_reg = LinearRegression()\n",
    "linear_reg.fit(x_train, y_train)"
   ]
  },
  {
   "cell_type": "code",
   "execution_count": 8,
   "id": "7d2e856d-5271-496b-877a-686ca0e3135a",
   "metadata": {
    "tags": []
   },
   "outputs": [],
   "source": [
    "# 8. Dự đoán trend cho train và test data\n",
    "trend_train = linear_reg.predict(x_train)\n",
    "trend_test = linear_reg.predict(x_test)"
   ]
  },
  {
   "cell_type": "code",
   "execution_count": 9,
   "id": "da31bf10-d1b2-47d1-943f-f44b5e2b7c9b",
   "metadata": {
    "tags": []
   },
   "outputs": [],
   "source": [
    "# 9. Loại bỏ trend khỏi dữ liệu gốc\n",
    "residual_train = y_train - trend_train\n",
    "residual_test = y_test - trend_test"
   ]
  },
  {
   "cell_type": "code",
   "execution_count": 10,
   "id": "d2ef0f6d-943e-41c9-93db-9981b50dc05c",
   "metadata": {
    "tags": []
   },
   "outputs": [],
   "source": [
    "# 10. Huấn luyện mô hình Exponential Smoothing cho seasonal component\n",
    "seasonal_model = ExponentialSmoothing(residual_train, seasonal='add', seasonal_periods=12)\n",
    "seasonal_fit = seasonal_model.fit()"
   ]
  },
  {
   "cell_type": "code",
   "execution_count": 11,
   "id": "2a90ba6a-f31a-4afc-be1c-2d7ca0863c51",
   "metadata": {
    "tags": []
   },
   "outputs": [],
   "source": [
    "# 11. Loại bỏ seasonal component khỏi residual\n",
    "detrended_residual_train = residual_train - seasonal_fit.fittedvalues\n",
    "detrended_residual_test = residual_test - seasonal_fit.forecast(len(residual_test))"
   ]
  },
  {
   "cell_type": "code",
   "execution_count": 12,
   "id": "18084af6-d4bf-44d5-a5dd-27fa3740014a",
   "metadata": {
    "tags": []
   },
   "outputs": [
    {
     "name": "stdout",
     "output_type": "stream",
     "text": [
      "[14:27:35] WARNING: C:/Jenkins/workspace/xgboost-win64_release_0.90/src/objective/regression_obj.cu:152: reg:linear is now deprecated in favor of reg:squarederror.\n"
     ]
    },
    {
     "data": {
      "text/html": [
       "<style>#sk-container-id-2 {color: black;background-color: white;}#sk-container-id-2 pre{padding: 0;}#sk-container-id-2 div.sk-toggleable {background-color: white;}#sk-container-id-2 label.sk-toggleable__label {cursor: pointer;display: block;width: 100%;margin-bottom: 0;padding: 0.3em;box-sizing: border-box;text-align: center;}#sk-container-id-2 label.sk-toggleable__label-arrow:before {content: \"▸\";float: left;margin-right: 0.25em;color: #696969;}#sk-container-id-2 label.sk-toggleable__label-arrow:hover:before {color: black;}#sk-container-id-2 div.sk-estimator:hover label.sk-toggleable__label-arrow:before {color: black;}#sk-container-id-2 div.sk-toggleable__content {max-height: 0;max-width: 0;overflow: hidden;text-align: left;background-color: #f0f8ff;}#sk-container-id-2 div.sk-toggleable__content pre {margin: 0.2em;color: black;border-radius: 0.25em;background-color: #f0f8ff;}#sk-container-id-2 input.sk-toggleable__control:checked~div.sk-toggleable__content {max-height: 200px;max-width: 100%;overflow: auto;}#sk-container-id-2 input.sk-toggleable__control:checked~label.sk-toggleable__label-arrow:before {content: \"▾\";}#sk-container-id-2 div.sk-estimator input.sk-toggleable__control:checked~label.sk-toggleable__label {background-color: #d4ebff;}#sk-container-id-2 div.sk-label input.sk-toggleable__control:checked~label.sk-toggleable__label {background-color: #d4ebff;}#sk-container-id-2 input.sk-hidden--visually {border: 0;clip: rect(1px 1px 1px 1px);clip: rect(1px, 1px, 1px, 1px);height: 1px;margin: -1px;overflow: hidden;padding: 0;position: absolute;width: 1px;}#sk-container-id-2 div.sk-estimator {font-family: monospace;background-color: #f0f8ff;border: 1px dotted black;border-radius: 0.25em;box-sizing: border-box;margin-bottom: 0.5em;}#sk-container-id-2 div.sk-estimator:hover {background-color: #d4ebff;}#sk-container-id-2 div.sk-parallel-item::after {content: \"\";width: 100%;border-bottom: 1px solid gray;flex-grow: 1;}#sk-container-id-2 div.sk-label:hover label.sk-toggleable__label {background-color: #d4ebff;}#sk-container-id-2 div.sk-serial::before {content: \"\";position: absolute;border-left: 1px solid gray;box-sizing: border-box;top: 0;bottom: 0;left: 50%;z-index: 0;}#sk-container-id-2 div.sk-serial {display: flex;flex-direction: column;align-items: center;background-color: white;padding-right: 0.2em;padding-left: 0.2em;position: relative;}#sk-container-id-2 div.sk-item {position: relative;z-index: 1;}#sk-container-id-2 div.sk-parallel {display: flex;align-items: stretch;justify-content: center;background-color: white;position: relative;}#sk-container-id-2 div.sk-item::before, #sk-container-id-2 div.sk-parallel-item::before {content: \"\";position: absolute;border-left: 1px solid gray;box-sizing: border-box;top: 0;bottom: 0;left: 50%;z-index: -1;}#sk-container-id-2 div.sk-parallel-item {display: flex;flex-direction: column;z-index: 1;position: relative;background-color: white;}#sk-container-id-2 div.sk-parallel-item:first-child::after {align-self: flex-end;width: 50%;}#sk-container-id-2 div.sk-parallel-item:last-child::after {align-self: flex-start;width: 50%;}#sk-container-id-2 div.sk-parallel-item:only-child::after {width: 0;}#sk-container-id-2 div.sk-dashed-wrapped {border: 1px dashed gray;margin: 0 0.4em 0.5em 0.4em;box-sizing: border-box;padding-bottom: 0.4em;background-color: white;}#sk-container-id-2 div.sk-label label {font-family: monospace;font-weight: bold;display: inline-block;line-height: 1.2em;}#sk-container-id-2 div.sk-label-container {text-align: center;}#sk-container-id-2 div.sk-container {/* jupyter's `normalize.less` sets `[hidden] { display: none; }` but bootstrap.min.css set `[hidden] { display: none !important; }` so we also need the `!important` here to be able to override the default hidden behavior on the sphinx rendered scikit-learn.org. See: https://github.com/scikit-learn/scikit-learn/issues/21755 */display: inline-block !important;position: relative;}#sk-container-id-2 div.sk-text-repr-fallback {display: none;}</style><div id=\"sk-container-id-2\" class=\"sk-top-container\"><div class=\"sk-text-repr-fallback\"><pre>XGBRegressor()</pre><b>In a Jupyter environment, please rerun this cell to show the HTML representation or trust the notebook. <br />On GitHub, the HTML representation is unable to render, please try loading this page with nbviewer.org.</b></div><div class=\"sk-container\" hidden><div class=\"sk-item\"><div class=\"sk-estimator sk-toggleable\"><input class=\"sk-toggleable__control sk-hidden--visually\" id=\"sk-estimator-id-2\" type=\"checkbox\" checked><label for=\"sk-estimator-id-2\" class=\"sk-toggleable__label sk-toggleable__label-arrow\">XGBRegressor</label><div class=\"sk-toggleable__content\"><pre>XGBRegressor()</pre></div></div></div></div></div>"
      ],
      "text/plain": [
       "XGBRegressor()"
      ]
     },
     "execution_count": 12,
     "metadata": {},
     "output_type": "execute_result"
    }
   ],
   "source": [
    "# 12. Huấn luyện mô hình XGBoost cho detrended residual\n",
    "xgb = XGBRegressor()\n",
    "xgb.fit(x_train, detrended_residual_train)"
   ]
  },
  {
   "cell_type": "code",
   "execution_count": 13,
   "id": "7d5300fb-fec8-44e9-9195-7988631ffa59",
   "metadata": {
    "tags": []
   },
   "outputs": [],
   "source": [
    "# 13. Dự đoán detrended residual cho train và test data\n",
    "residual_train_pred = xgb.predict(x_train)\n",
    "residual_test_pred = xgb.predict(x_test)"
   ]
  },
  {
   "cell_type": "code",
   "execution_count": 14,
   "id": "1eb1d6cf-8fd0-4dfe-8217-859730f8eb76",
   "metadata": {
    "tags": []
   },
   "outputs": [],
   "source": [
    "# 14. Kết hợp dự đoán\n",
    "y_train_pred = trend_train + seasonal_fit.fittedvalues + residual_train_pred\n",
    "y_test_pred = trend_test + seasonal_fit.forecast(len(residual_test)) + residual_test_pred"
   ]
  },
  {
   "cell_type": "code",
   "execution_count": 15,
   "id": "20914627-3747-4ab7-9fa4-f83821507363",
   "metadata": {
    "tags": []
   },
   "outputs": [
    {
     "name": "stdout",
     "output_type": "stream",
     "text": [
      "Testing RMSE: 0.006928371412787306\n",
      "Testing MAPE: 3.4800584877820127\n",
      "Testing MAE: 0.004813848978046653\n"
     ]
    }
   ],
   "source": [
    "# 15. Tính RMSE, MAPE, MAE\n",
    "test_rmse = np.sqrt(np.mean((y_test_pred - y_test)**2))\n",
    "print('Testing RMSE:', test_rmse)\n",
    "\n",
    "test_mape = np.mean(np.abs((y_test - y_test_pred) / y_test)) * 100\n",
    "print('Testing MAPE:', test_mape)\n",
    "\n",
    "test_mae = np.mean(np.abs(y_test - y_test_pred))\n",
    "print('Testing MAE:', test_mae)"
   ]
  },
  {
   "cell_type": "code",
   "execution_count": 16,
   "id": "a07f7b19-af2c-46cd-8526-c6737d4c461d",
   "metadata": {
    "tags": []
   },
   "outputs": [],
   "source": [
    "# 16. Hàm dự báo cho 30, 60, 90 ngày tiếp theo\n",
    "def forecast_days(n_days):\n",
    "    n_steps = 100\n",
    "    last_100_days = df1[-n_steps:].reshape(1, -1)\n",
    "\n",
    "    predicted_values = []\n",
    "\n",
    "    for i in range(n_days):\n",
    "        trend_next = linear_reg.predict(last_100_days)\n",
    "        seasonal_next = seasonal_fit.forecast(1)\n",
    "        residual_next = xgb.predict(last_100_days)\n",
    "        predicted_next = trend_next + seasonal_next + residual_next\n",
    "        predicted_values.append(predicted_next)\n",
    "        last_100_days = np.append(last_100_days[:,1:], predicted_next).reshape(1,-1)\n",
    "\n",
    "    return np.array(predicted_values)"
   ]
  },
  {
   "cell_type": "code",
   "execution_count": 17,
   "id": "a570dd0b-cc86-4320-9666-488685a7d8c6",
   "metadata": {
    "tags": []
   },
   "outputs": [],
   "source": [
    "# 17. Dự báo 30, 60, 90 ngày\n",
    "forecast_30 = forecast_days(30)\n",
    "forecast_60 = forecast_days(60)\n",
    "forecast_90 = forecast_days(90)"
   ]
  },
  {
   "cell_type": "code",
   "execution_count": 18,
   "id": "d1497543-99f0-45e5-a9d0-6c36c21e7e0f",
   "metadata": {
    "tags": []
   },
   "outputs": [
    {
     "name": "stdout",
     "output_type": "stream",
     "text": [
      "Dự báo cho 30 ngày tiếp theo: [[0.14651343]\n",
      " [0.14615476]\n",
      " [0.1483986 ]\n",
      " [0.14650451]\n",
      " [0.1520935 ]\n",
      " [0.14655933]\n",
      " [0.14563142]\n",
      " [0.14847347]\n",
      " [0.1391091 ]\n",
      " [0.13672132]\n",
      " [0.13439329]\n",
      " [0.13666423]\n",
      " [0.13276363]\n",
      " [0.13173177]\n",
      " [0.13242858]\n",
      " [0.13032341]\n",
      " [0.13106288]\n",
      " [0.13024323]\n",
      " [0.12920052]\n",
      " [0.12238496]\n",
      " [0.11996463]\n",
      " [0.11923581]\n",
      " [0.12032404]\n",
      " [0.11938479]\n",
      " [0.11657608]\n",
      " [0.1151578 ]\n",
      " [0.11294026]\n",
      " [0.11180451]\n",
      " [0.10891516]\n",
      " [0.10665281]]\n"
     ]
    }
   ],
   "source": [
    "# 18. In ra dự đoán cho 30 ngày tiếp theo\n",
    "print(\"Dự báo cho 30 ngày tiếp theo:\", forecast_30)"
   ]
  },
  {
   "cell_type": "code",
   "execution_count": 19,
   "id": "c33be531-7eb6-4934-8abf-dabdfcb8024f",
   "metadata": {
    "tags": []
   },
   "outputs": [
    {
     "name": "stdout",
     "output_type": "stream",
     "text": [
      "Dự báo cho 60 ngày tiếp theo: [[0.14651343]\n",
      " [0.14615476]\n",
      " [0.1483986 ]\n",
      " [0.14650451]\n",
      " [0.1520935 ]\n",
      " [0.14655933]\n",
      " [0.14563142]\n",
      " [0.14847347]\n",
      " [0.1391091 ]\n",
      " [0.13672132]\n",
      " [0.13439329]\n",
      " [0.13666423]\n",
      " [0.13276363]\n",
      " [0.13173177]\n",
      " [0.13242858]\n",
      " [0.13032341]\n",
      " [0.13106288]\n",
      " [0.13024323]\n",
      " [0.12920052]\n",
      " [0.12238496]\n",
      " [0.11996463]\n",
      " [0.11923581]\n",
      " [0.12032404]\n",
      " [0.11938479]\n",
      " [0.11657608]\n",
      " [0.1151578 ]\n",
      " [0.11294026]\n",
      " [0.11180451]\n",
      " [0.10891516]\n",
      " [0.10665281]\n",
      " [0.1016261 ]\n",
      " [0.10339806]\n",
      " [0.10407156]\n",
      " [0.10178375]\n",
      " [0.10393748]\n",
      " [0.10786095]\n",
      " [0.10327074]\n",
      " [0.09957622]\n",
      " [0.09657643]\n",
      " [0.09102159]\n",
      " [0.08985459]\n",
      " [0.08677638]\n",
      " [0.08713508]\n",
      " [0.08242263]\n",
      " [0.08355444]\n",
      " [0.08416811]\n",
      " [0.08689485]\n",
      " [0.08670881]\n",
      " [0.08322062]\n",
      " [0.08114224]\n",
      " [0.07988459]\n",
      " [0.07951984]\n",
      " [0.07921298]\n",
      " [0.07852856]\n",
      " [0.07728521]\n",
      " [0.07464264]\n",
      " [0.07553109]\n",
      " [0.07330113]\n",
      " [0.07329722]\n",
      " [0.07235502]]\n"
     ]
    }
   ],
   "source": [
    "# 18. In ra dự đoán cho 60 ngày tiếp theo\n",
    "print(\"Dự báo cho 60 ngày tiếp theo:\", forecast_60)"
   ]
  },
  {
   "cell_type": "code",
   "execution_count": 20,
   "id": "af327a76-5930-445f-a94f-959100b62b29",
   "metadata": {
    "tags": []
   },
   "outputs": [
    {
     "name": "stdout",
     "output_type": "stream",
     "text": [
      "Dự báo cho 90 ngày tiếp theo: [[0.14651343]\n",
      " [0.14615476]\n",
      " [0.1483986 ]\n",
      " [0.14650451]\n",
      " [0.1520935 ]\n",
      " [0.14655933]\n",
      " [0.14563142]\n",
      " [0.14847347]\n",
      " [0.1391091 ]\n",
      " [0.13672132]\n",
      " [0.13439329]\n",
      " [0.13666423]\n",
      " [0.13276363]\n",
      " [0.13173177]\n",
      " [0.13242858]\n",
      " [0.13032341]\n",
      " [0.13106288]\n",
      " [0.13024323]\n",
      " [0.12920052]\n",
      " [0.12238496]\n",
      " [0.11996463]\n",
      " [0.11923581]\n",
      " [0.12032404]\n",
      " [0.11938479]\n",
      " [0.11657608]\n",
      " [0.1151578 ]\n",
      " [0.11294026]\n",
      " [0.11180451]\n",
      " [0.10891516]\n",
      " [0.10665281]\n",
      " [0.1016261 ]\n",
      " [0.10339806]\n",
      " [0.10407156]\n",
      " [0.10178375]\n",
      " [0.10393748]\n",
      " [0.10786095]\n",
      " [0.10327074]\n",
      " [0.09957622]\n",
      " [0.09657643]\n",
      " [0.09102159]\n",
      " [0.08985459]\n",
      " [0.08677638]\n",
      " [0.08713508]\n",
      " [0.08242263]\n",
      " [0.08355444]\n",
      " [0.08416811]\n",
      " [0.08689485]\n",
      " [0.08670881]\n",
      " [0.08322062]\n",
      " [0.08114224]\n",
      " [0.07988459]\n",
      " [0.07951984]\n",
      " [0.07921298]\n",
      " [0.07852856]\n",
      " [0.07728521]\n",
      " [0.07464264]\n",
      " [0.07553109]\n",
      " [0.07330113]\n",
      " [0.07329722]\n",
      " [0.07235502]\n",
      " [0.07070831]\n",
      " [0.0679068 ]\n",
      " [0.0686562 ]\n",
      " [0.07038271]\n",
      " [0.06822235]\n",
      " [0.06953018]\n",
      " [0.06727261]\n",
      " [0.06527451]\n",
      " [0.06302686]\n",
      " [0.0633629 ]\n",
      " [0.06157211]\n",
      " [0.05998837]\n",
      " [0.0602791 ]\n",
      " [0.05892777]\n",
      " [0.05901655]\n",
      " [0.06014498]\n",
      " [0.05989856]\n",
      " [0.0587422 ]\n",
      " [0.05743766]\n",
      " [0.05722317]\n",
      " [0.05504089]\n",
      " [0.05541948]\n",
      " [0.05555326]\n",
      " [0.05277893]\n",
      " [0.05168758]\n",
      " [0.04933161]\n",
      " [0.04856749]\n",
      " [0.04788726]\n",
      " [0.04583014]\n",
      " [0.04469847]]\n"
     ]
    }
   ],
   "source": [
    "# 18. In ra dự đoán cho 90 ngày tiếp theo\n",
    "print(\"Dự báo cho 90 ngày tiếp theo:\", forecast_90)"
   ]
  },
  {
   "cell_type": "code",
   "execution_count": 21,
   "id": "8fb7fbd9-e9e7-4dc3-acbf-71d02d12e108",
   "metadata": {
    "tags": []
   },
   "outputs": [
    {
     "data": {
      "text/plain": [
       "<function matplotlib.pyplot.show(close=None, block=None)>"
      ]
     },
     "execution_count": 21,
     "metadata": {},
     "output_type": "execute_result"
    },
    {
     "data": {
      "image/png": "[encoded data removed]",
      "text/plain": [
       "<Figure size 640x480 with 1 Axes>"
      ]
     },
     "metadata": {},
     "output_type": "display_data"
    }
   ],
   "source": [
    "# Vẽ biểu đồ\n",
    "\n",
    "# Vẽ dữ liệu kiểm tra\n",
    "test_data_index = pd.RangeIndex(start=train_size, stop=train_size+test_size, step=1)\n",
    "plt.plot(test_data_index, scaler.inverse_transform(test_data), label='Test')\n",
    "\n",
    "# Vẽ dự đoán cho dữ liệu kiểm tra (y_test_pred)\n",
    "plt.plot(test_data_index[:-1], scaler.inverse_transform(y_test_pred.reshape(-1, 1)), label='Predicted')\n",
    "\n",
    "# Vẽ dự báo 90, 60, 30 ngày\n",
    "predict_data_index_90 = pd.RangeIndex(start=len(df1), stop=len(df1)+90, step=1)\n",
    "plt.plot(predict_data_index_90, scaler.inverse_transform(np.array(forecast_90).reshape(-1, 1)), label='Forecast 90 days')\n",
    "\n",
    "predict_data_index_60 = pd.RangeIndex(start=len(df1), stop=len(df1)+60, step=1)\n",
    "plt.plot(predict_data_index_60, scaler.inverse_transform(np.array(forecast_60).reshape(-1, 1)), label='Forecast 60 days')\n",
    "\n",
    "predict_data_index_30 = pd.RangeIndex(start=len(df1), stop=len(df1)+30, step=1)\n",
    "plt.plot(predict_data_index_30, scaler.inverse_transform(np.array(forecast_30).reshape(-1, 1)), label='Forecast 30 days')\n",
    "\n",
    "\n",
    "plt.title('Hybrid Model - ADA Stock Price - 8:2 - 30, 60, 90 days Forecast')\n",
    "plt.legend()\n",
    "plt.xlabel('Day')\n",
    "plt.ylabel('Close Price')\n",
    "plt.grid()\n",
    "plt.show"
   ]
  }
 ],
 "metadata": {
  "kernelspec": {
   "display_name": "Python 3 (ipykernel)",
   "language": "python",
   "name": "python3"
  },
  "language_info": {
   "codemirror_mode": {
    "name": "ipython",
    "version": 3
   },
   "file_extension": ".py",
   "mimetype": "text/x-python",
   "name": "python",
   "nbconvert_exporter": "python",
   "pygments_lexer": "ipython3",
   "version": "3.10.8"
  }
 },
 "nbformat": 4,
 "nbformat_minor": 5
}
