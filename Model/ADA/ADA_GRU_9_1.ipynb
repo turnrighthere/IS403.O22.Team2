{
  "nbformat": 4,
  "nbformat_minor": 0,
  "metadata": {
    "colab": {
      "provenance": []
    },
    "kernelspec": {
      "name": "python3",
      "display_name": "Python 3"
    },
    "language_info": {
      "name": "python"
    }
  },
  "cells": [
    {
      "cell_type": "code",
      "execution_count": 31,
      "metadata": {
        "id": "2s2M7RWnLyVs",
        "colab": {
          "base_uri": "https://localhost:8080/"
        },
        "outputId": "edbbd725-46a2-4072-9dbc-bce85f8dc05b"
      },
      "outputs": [
        {
          "output_type": "stream",
          "name": "stdout",
          "text": [
            "Drive already mounted at /content/drive; to attempt to forcibly remount, call drive.mount(\"/content/drive\", force_remount=True).\n"
          ]
        }
      ],
      "source": [
        "from google.colab import drive\n",
        "drive.mount('/content/drive')\n",
        "import numpy as np\n",
        "import pandas as pd\n",
        "import matplotlib.pyplot as plt\n",
        "from sklearn.preprocessing import MinMaxScaler\n",
        "from keras.models import Sequential\n",
        "from keras.layers import Dense, GRU"
      ]
    },
    {
      "cell_type": "code",
      "source": [
        "# Đọc file csv\n",
        "df = pd.read_csv('/content/drive/MyDrive/Colab Notebooks/Data/pre_ADA-USD.csv')\n",
        "df = df.rename(columns={'Close': 'Price'})\n",
        "df['Date'] = pd.to_datetime(df['Date'])\n",
        "df.head(5)"
      ],
      "metadata": {
        "id": "N4mD72x5nuXt",
        "colab": {
          "base_uri": "https://localhost:8080/",
          "height": 206
        },
        "outputId": "e6881aa6-691a-4359-e036-e63503b6627e"
      },
      "execution_count": 32,
      "outputs": [
        {
          "output_type": "execute_result",
          "data": {
            "text/plain": [
              "        Date      Open      High       Low     Price  Adj Close     Volume\n",
              "0 2018-03-01  0.311973  0.311973  0.288392  0.304397   0.304397  184691008\n",
              "1 2018-03-02  0.304424  0.307058  0.288875  0.293504   0.293504  107240000\n",
              "2 2018-03-03  0.292952  0.309129  0.292507  0.297106   0.297106  115320000\n",
              "3 2018-03-04  0.296285  0.303588  0.286193  0.300787   0.300787   94436000\n",
              "4 2018-03-05  0.299897  0.317723  0.291055  0.297622   0.297622  202675008"
            ],
            "text/html": [
              "\n",
              "  <div id=\"df-99b85147-0abf-448f-83e0-5f2d0ba3c347\" class=\"colab-df-container\">\n",
              "    <div>\n",
              "<style scoped>\n",
              "    .dataframe tbody tr th:only-of-type {\n",
              "        vertical-align: middle;\n",
              "    }\n",
              "\n",
              "    .dataframe tbody tr th {\n",
              "        vertical-align: top;\n",
              "    }\n",
              "\n",
              "    .dataframe thead th {\n",
              "        text-align: right;\n",
              "    }\n",
              "</style>\n",
              "<table border=\"1\" class=\"dataframe\">\n",
              "  <thead>\n",
              "    <tr style=\"text-align: right;\">\n",
              "      <th></th>\n",
              "      <th>Date</th>\n",
              "      <th>Open</th>\n",
              "      <th>High</th>\n",
              "      <th>Low</th>\n",
              "      <th>Price</th>\n",
              "      <th>Adj Close</th>\n",
              "      <th>Volume</th>\n",
              "    </tr>\n",
              "  </thead>\n",
              "  <tbody>\n",
              "    <tr>\n",
              "      <th>0</th>\n",
              "      <td>2018-03-01</td>\n",
              "      <td>0.311973</td>\n",
              "      <td>0.311973</td>\n",
              "      <td>0.288392</td>\n",
              "      <td>0.304397</td>\n",
              "      <td>0.304397</td>\n",
              "      <td>184691008</td>\n",
              "    </tr>\n",
              "    <tr>\n",
              "      <th>1</th>\n",
              "      <td>2018-03-02</td>\n",
              "      <td>0.304424</td>\n",
              "      <td>0.307058</td>\n",
              "      <td>0.288875</td>\n",
              "      <td>0.293504</td>\n",
              "      <td>0.293504</td>\n",
              "      <td>107240000</td>\n",
              "    </tr>\n",
              "    <tr>\n",
              "      <th>2</th>\n",
              "      <td>2018-03-03</td>\n",
              "      <td>0.292952</td>\n",
              "      <td>0.309129</td>\n",
              "      <td>0.292507</td>\n",
              "      <td>0.297106</td>\n",
              "      <td>0.297106</td>\n",
              "      <td>115320000</td>\n",
              "    </tr>\n",
              "    <tr>\n",
              "      <th>3</th>\n",
              "      <td>2018-03-04</td>\n",
              "      <td>0.296285</td>\n",
              "      <td>0.303588</td>\n",
              "      <td>0.286193</td>\n",
              "      <td>0.300787</td>\n",
              "      <td>0.300787</td>\n",
              "      <td>94436000</td>\n",
              "    </tr>\n",
              "    <tr>\n",
              "      <th>4</th>\n",
              "      <td>2018-03-05</td>\n",
              "      <td>0.299897</td>\n",
              "      <td>0.317723</td>\n",
              "      <td>0.291055</td>\n",
              "      <td>0.297622</td>\n",
              "      <td>0.297622</td>\n",
              "      <td>202675008</td>\n",
              "    </tr>\n",
              "  </tbody>\n",
              "</table>\n",
              "</div>\n",
              "    <div class=\"colab-df-buttons\">\n",
              "\n",
              "  <div class=\"colab-df-container\">\n",
              "    <button class=\"colab-df-convert\" onclick=\"convertToInteractive('df-99b85147-0abf-448f-83e0-5f2d0ba3c347')\"\n",
              "            title=\"Convert this dataframe to an interactive table.\"\n",
              "            style=\"display:none;\">\n",
              "\n",
              "  <svg xmlns=\"http://www.w3.org/2000/svg\" height=\"24px\" viewBox=\"0 -960 960 960\">\n",
              "    <path d=\"M120-120v-720h720v720H120Zm60-500h600v-160H180v160Zm220 220h160v-160H400v160Zm0 220h160v-160H400v160ZM180-400h160v-160H180v160Zm440 0h160v-160H620v160ZM180-180h160v-160H180v160Zm440 0h160v-160H620v160Z\"/>\n",
              "  </svg>\n",
              "    </button>\n",
              "\n",
              "  <style>\n",
              "    .colab-df-container {\n",
              "      display:flex;\n",
              "      gap: 12px;\n",
              "    }\n",
              "\n",
              "    .colab-df-convert {\n",
              "      background-color: #E8F0FE;\n",
              "      border: none;\n",
              "      border-radius: 50%;\n",
              "      cursor: pointer;\n",
              "      display: none;\n",
              "      fill: #1967D2;\n",
              "      height: 32px;\n",
              "      padding: 0 0 0 0;\n",
              "      width: 32px;\n",
              "    }\n",
              "\n",
              "    .colab-df-convert:hover {\n",
              "      background-color: #E2EBFA;\n",
              "      box-shadow: 0px 1px 2px rgba(60, 64, 67, 0.3), 0px 1px 3px 1px rgba(60, 64, 67, 0.15);\n",
              "      fill: #174EA6;\n",
              "    }\n",
              "\n",
              "    .colab-df-buttons div {\n",
              "      margin-bottom: 4px;\n",
              "    }\n",
              "\n",
              "    [theme=dark] .colab-df-convert {\n",
              "      background-color: #3B4455;\n",
              "      fill: #D2E3FC;\n",
              "    }\n",
              "\n",
              "    [theme=dark] .colab-df-convert:hover {\n",
              "      background-color: #434B5C;\n",
              "      box-shadow: 0px 1px 3px 1px rgba(0, 0, 0, 0.15);\n",
              "      filter: drop-shadow(0px 1px 2px rgba(0, 0, 0, 0.3));\n",
              "      fill: #FFFFFF;\n",
              "    }\n",
              "  </style>\n",
              "\n",
              "    <script>\n",
              "      const buttonEl =\n",
              "        document.querySelector('#df-99b85147-0abf-448f-83e0-5f2d0ba3c347 button.colab-df-convert');\n",
              "      buttonEl.style.display =\n",
              "        google.colab.kernel.accessAllowed ? 'block' : 'none';\n",
              "\n",
              "      async function convertToInteractive(key) {\n",
              "        const element = document.querySelector('#df-99b85147-0abf-448f-83e0-5f2d0ba3c347');\n",
              "        const dataTable =\n",
              "          await google.colab.kernel.invokeFunction('convertToInteractive',\n",
              "                                                    [key], {});\n",
              "        if (!dataTable) return;\n",
              "\n",
              "        const docLinkHtml = 'Like what you see? Visit the ' +\n",
              "          '<a target=\"_blank\" href=https://colab.research.google.com/notebooks/data_table.ipynb>data table notebook</a>'\n",
              "          + ' to learn more about interactive tables.';\n",
              "        element.innerHTML = '';\n",
              "        dataTable['output_type'] = 'display_data';\n",
              "        await google.colab.output.renderOutput(dataTable, element);\n",
              "        const docLink = document.createElement('div');\n",
              "        docLink.innerHTML = docLinkHtml;\n",
              "        element.appendChild(docLink);\n",
              "      }\n",
              "    </script>\n",
              "  </div>\n",
              "\n",
              "\n",
              "<div id=\"df-ec3067fa-04b0-4adb-ade9-f3ed4f2bab66\">\n",
              "  <button class=\"colab-df-quickchart\" onclick=\"quickchart('df-ec3067fa-04b0-4adb-ade9-f3ed4f2bab66')\"\n",
              "            title=\"Suggest charts\"\n",
              "            style=\"display:none;\">\n",
              "\n",
              "<svg xmlns=\"http://www.w3.org/2000/svg\" height=\"24px\"viewBox=\"0 0 24 24\"\n",
              "     width=\"24px\">\n",
              "    <g>\n",
              "        <path d=\"M19 3H5c-1.1 0-2 .9-2 2v14c0 1.1.9 2 2 2h14c1.1 0 2-.9 2-2V5c0-1.1-.9-2-2-2zM9 17H7v-7h2v7zm4 0h-2V7h2v10zm4 0h-2v-4h2v4z\"/>\n",
              "    </g>\n",
              "</svg>\n",
              "  </button>\n",
              "\n",
              "<style>\n",
              "  .colab-df-quickchart {\n",
              "      --bg-color: #E8F0FE;\n",
              "      --fill-color: #1967D2;\n",
              "      --hover-bg-color: #E2EBFA;\n",
              "      --hover-fill-color: #174EA6;\n",
              "      --disabled-fill-color: #AAA;\n",
              "      --disabled-bg-color: #DDD;\n",
              "  }\n",
              "\n",
              "  [theme=dark] .colab-df-quickchart {\n",
              "      --bg-color: #3B4455;\n",
              "      --fill-color: #D2E3FC;\n",
              "      --hover-bg-color: #434B5C;\n",
              "      --hover-fill-color: #FFFFFF;\n",
              "      --disabled-bg-color: #3B4455;\n",
              "      --disabled-fill-color: #666;\n",
              "  }\n",
              "\n",
              "  .colab-df-quickchart {\n",
              "    background-color: var(--bg-color);\n",
              "    border: none;\n",
              "    border-radius: 50%;\n",
              "    cursor: pointer;\n",
              "    display: none;\n",
              "    fill: var(--fill-color);\n",
              "    height: 32px;\n",
              "    padding: 0;\n",
              "    width: 32px;\n",
              "  }\n",
              "\n",
              "  .colab-df-quickchart:hover {\n",
              "    background-color: var(--hover-bg-color);\n",
              "    box-shadow: 0 1px 2px rgba(60, 64, 67, 0.3), 0 1px 3px 1px rgba(60, 64, 67, 0.15);\n",
              "    fill: var(--button-hover-fill-color);\n",
              "  }\n",
              "\n",
              "  .colab-df-quickchart-complete:disabled,\n",
              "  .colab-df-quickchart-complete:disabled:hover {\n",
              "    background-color: var(--disabled-bg-color);\n",
              "    fill: var(--disabled-fill-color);\n",
              "    box-shadow: none;\n",
              "  }\n",
              "\n",
              "  .colab-df-spinner {\n",
              "    border: 2px solid var(--fill-color);\n",
              "    border-color: transparent;\n",
              "    border-bottom-color: var(--fill-color);\n",
              "    animation:\n",
              "      spin 1s steps(1) infinite;\n",
              "  }\n",
              "\n",
              "  @keyframes spin {\n",
              "    0% {\n",
              "      border-color: transparent;\n",
              "      border-bottom-color: var(--fill-color);\n",
              "      border-left-color: var(--fill-color);\n",
              "    }\n",
              "    20% {\n",
              "      border-color: transparent;\n",
              "      border-left-color: var(--fill-color);\n",
              "      border-top-color: var(--fill-color);\n",
              "    }\n",
              "    30% {\n",
              "      border-color: transparent;\n",
              "      border-left-color: var(--fill-color);\n",
              "      border-top-color: var(--fill-color);\n",
              "      border-right-color: var(--fill-color);\n",
              "    }\n",
              "    40% {\n",
              "      border-color: transparent;\n",
              "      border-right-color: var(--fill-color);\n",
              "      border-top-color: var(--fill-color);\n",
              "    }\n",
              "    60% {\n",
              "      border-color: transparent;\n",
              "      border-right-color: var(--fill-color);\n",
              "    }\n",
              "    80% {\n",
              "      border-color: transparent;\n",
              "      border-right-color: var(--fill-color);\n",
              "      border-bottom-color: var(--fill-color);\n",
              "    }\n",
              "    90% {\n",
              "      border-color: transparent;\n",
              "      border-bottom-color: var(--fill-color);\n",
              "    }\n",
              "  }\n",
              "</style>\n",
              "\n",
              "  <script>\n",
              "    async function quickchart(key) {\n",
              "      const quickchartButtonEl =\n",
              "        document.querySelector('#' + key + ' button');\n",
              "      quickchartButtonEl.disabled = true;  // To prevent multiple clicks.\n",
              "      quickchartButtonEl.classList.add('colab-df-spinner');\n",
              "      try {\n",
              "        const charts = await google.colab.kernel.invokeFunction(\n",
              "            'suggestCharts', [key], {});\n",
              "      } catch (error) {\n",
              "        console.error('Error during call to suggestCharts:', error);\n",
              "      }\n",
              "      quickchartButtonEl.classList.remove('colab-df-spinner');\n",
              "      quickchartButtonEl.classList.add('colab-df-quickchart-complete');\n",
              "    }\n",
              "    (() => {\n",
              "      let quickchartButtonEl =\n",
              "        document.querySelector('#df-ec3067fa-04b0-4adb-ade9-f3ed4f2bab66 button');\n",
              "      quickchartButtonEl.style.display =\n",
              "        google.colab.kernel.accessAllowed ? 'block' : 'none';\n",
              "    })();\n",
              "  </script>\n",
              "</div>\n",
              "\n",
              "    </div>\n",
              "  </div>\n"
            ],
            "application/vnd.google.colaboratory.intrinsic+json": {
              "type": "dataframe",
              "variable_name": "df",
              "summary": "{\n  \"name\": \"df\",\n  \"rows\": 2285,\n  \"fields\": [\n    {\n      \"column\": \"Date\",\n      \"properties\": {\n        \"dtype\": \"date\",\n        \"min\": \"2018-03-01 00:00:00\",\n        \"max\": \"2024-06-01 00:00:00\",\n        \"num_unique_values\": 2285,\n        \"samples\": [\n          \"2023-11-24 00:00:00\",\n          \"2020-04-03 00:00:00\",\n          \"2018-10-27 00:00:00\"\n        ],\n        \"semantic_type\": \"\",\n        \"description\": \"\"\n      }\n    },\n    {\n      \"column\": \"Open\",\n      \"properties\": {\n        \"dtype\": \"number\",\n        \"std\": 0.5667167709657547,\n        \"min\": 0.023954,\n        \"max\": 2.96639,\n        \"num_unique_values\": 2280,\n        \"samples\": [\n          0.072561,\n          0.529449,\n          0.539386\n        ],\n        \"semantic_type\": \"\",\n        \"description\": \"\"\n      }\n    },\n    {\n      \"column\": \"High\",\n      \"properties\": {\n        \"dtype\": \"number\",\n        \"std\": 0.5908248813232642,\n        \"min\": 0.025993,\n        \"max\": 3.099186,\n        \"num_unique_values\": 2280,\n        \"samples\": [\n          0.072621,\n          0.547281,\n          0.597884\n        ],\n        \"semantic_type\": \"\",\n        \"description\": \"\"\n      }\n    },\n    {\n      \"column\": \"Low\",\n      \"properties\": {\n        \"dtype\": \"number\",\n        \"std\": 0.541111865919546,\n        \"min\": 0.01913,\n        \"max\": 2.907606,\n        \"num_unique_values\": 2277,\n        \"samples\": [\n          0.035574,\n          0.062168,\n          0.259865\n        ],\n        \"semantic_type\": \"\",\n        \"description\": \"\"\n      }\n    },\n    {\n      \"column\": \"Price\",\n      \"properties\": {\n        \"dtype\": \"number\",\n        \"std\": 0.566815140020692,\n        \"min\": 0.023961,\n        \"max\": 2.968239,\n        \"num_unique_values\": 2280,\n        \"samples\": [\n          0.071479,\n          0.529269,\n          0.556716\n        ],\n        \"semantic_type\": \"\",\n        \"description\": \"\"\n      }\n    },\n    {\n      \"column\": \"Adj Close\",\n      \"properties\": {\n        \"dtype\": \"number\",\n        \"std\": 0.566815140020692,\n        \"min\": 0.023961,\n        \"max\": 2.968239,\n        \"num_unique_values\": 2280,\n        \"samples\": [\n          0.071479,\n          0.529269,\n          0.556716\n        ],\n        \"semantic_type\": \"\",\n        \"description\": \"\"\n      }\n    },\n    {\n      \"column\": \"Volume\",\n      \"properties\": {\n        \"dtype\": \"number\",\n        \"std\": 1879645729,\n        \"min\": 8387951,\n        \"max\": 19141980288,\n        \"num_unique_values\": 2285,\n        \"samples\": [\n          350870124,\n          89797916,\n          10316000\n        ],\n        \"semantic_type\": \"\",\n        \"description\": \"\"\n      }\n    }\n  ]\n}"
            }
          },
          "metadata": {},
          "execution_count": 32
        }
      ]
    },
    {
      "cell_type": "code",
      "source": [
        "df.info()"
      ],
      "metadata": {
        "colab": {
          "base_uri": "https://localhost:8080/"
        },
        "id": "y45BW7BbcPl_",
        "outputId": "48505031-3b85-4ed5-e3ee-f07bbd55a751"
      },
      "execution_count": 33,
      "outputs": [
        {
          "output_type": "stream",
          "name": "stdout",
          "text": [
            "<class 'pandas.core.frame.DataFrame'>\n",
            "RangeIndex: 2285 entries, 0 to 2284\n",
            "Data columns (total 7 columns):\n",
            " #   Column     Non-Null Count  Dtype         \n",
            "---  ------     --------------  -----         \n",
            " 0   Date       2285 non-null   datetime64[ns]\n",
            " 1   Open       2285 non-null   float64       \n",
            " 2   High       2285 non-null   float64       \n",
            " 3   Low        2285 non-null   float64       \n",
            " 4   Price      2285 non-null   float64       \n",
            " 5   Adj Close  2285 non-null   float64       \n",
            " 6   Volume     2285 non-null   int64         \n",
            "dtypes: datetime64[ns](1), float64(5), int64(1)\n",
            "memory usage: 125.1 KB\n"
          ]
        }
      ]
    },
    {
      "cell_type": "code",
      "source": [
        "# Thiết lập index\n",
        "df1=df.reset_index()['Price']\n"
      ],
      "metadata": {
        "id": "UN5dzdoDNEet"
      },
      "execution_count": 34,
      "outputs": []
    },
    {
      "cell_type": "code",
      "source": [
        "# Scaler data\n",
        "scaler=MinMaxScaler(feature_range=(0,1))\n",
        "df1=scaler.fit_transform(np.array(df1).reshape(-1,1))"
      ],
      "metadata": {
        "id": "b1XLCdJHMRAd"
      },
      "execution_count": 61,
      "outputs": []
    },
    {
      "cell_type": "code",
      "source": [
        "# Chia train test\n",
        "train_size= int(0.9 * len(df1))\n",
        "test_size = len(df1) - train_size\n",
        "\n",
        "train_data = df1[:train_size]\n",
        "test_data = df1[train_size:]"
      ],
      "metadata": {
        "id": "G6LwdRGreOtq"
      },
      "execution_count": 62,
      "outputs": []
    },
    {
      "cell_type": "code",
      "source": [
        "# convert an array of values into a dataset matrix\n",
        "def create_dataset(dataset, time_step=1):\n",
        "\tdataX, dataY = [], []\n",
        "\tfor i in range(len(dataset) - time_step - 1):\n",
        "\t\ta = dataset[i:(i + time_step)]\n",
        "\t\tdataX.append(a)\n",
        "\t\tdataY.append(dataset[i + time_step])\n",
        "\treturn np.array(dataX), np.array(dataY)\n"
      ],
      "metadata": {
        "id": "5VummKZ8Nq9P"
      },
      "execution_count": 63,
      "outputs": []
    },
    {
      "cell_type": "code",
      "source": [
        "# Reshape into X=t,t+1,t+2..t+99 and Y=t+100 _8_2\n",
        "time_step = 100\n",
        "X_train, y_train = create_dataset(train_data, time_step)\n",
        "combined_data = np.concatenate((train_data[-time_step:], test_data))\n",
        "X_test, y_test = create_dataset(combined_data, time_step)\n",
        "\n",
        "# Reshape dữ liệu cho phù hợp với mạng GRU\n",
        "X_train = X_train.reshape(X_train.shape[0], X_train.shape[1], 1)\n",
        "X_test = X_test.reshape(X_test.shape[0], X_test.shape[1], 1)"
      ],
      "metadata": {
        "id": "9wgrf7p0kQe0"
      },
      "execution_count": 64,
      "outputs": []
    },
    {
      "cell_type": "code",
      "source": [
        "# Define GRU Model\n",
        "\n",
        "model = Sequential()\n",
        "model.add(GRU(64, input_shape=(time_step, 1)))\n",
        "model.add(Dense(1))\n",
        "model.compile(optimizer='adam', loss='mean_squared_error')"
      ],
      "metadata": {
        "id": "AghcD3L7Nww-"
      },
      "execution_count": 65,
      "outputs": []
    },
    {
      "cell_type": "code",
      "source": [
        "# 9. Fit mô hình với dữ liệu train\n",
        "model.fit(X_train, y_train, epochs=100, batch_size=64, verbose=1)"
      ],
      "metadata": {
        "colab": {
          "base_uri": "https://localhost:8080/"
        },
        "id": "khNSzr8uIlQt",
        "outputId": "65cec8b5-9efc-49f3-8577-30254ce5f55f"
      },
      "execution_count": 73,
      "outputs": [
        {
          "output_type": "stream",
          "name": "stdout",
          "text": [
            "Epoch 1/100\n",
            "31/31 [==============================] - 2s 77ms/step - loss: 2.5775e-04\n",
            "Epoch 2/100\n",
            "31/31 [==============================] - 2s 55ms/step - loss: 2.6672e-04\n",
            "Epoch 3/100\n",
            "31/31 [==============================] - 2s 52ms/step - loss: 2.7346e-04\n",
            "Epoch 4/100\n",
            "31/31 [==============================] - 2s 53ms/step - loss: 2.5467e-04\n",
            "Epoch 5/100\n",
            "31/31 [==============================] - 2s 52ms/step - loss: 2.4865e-04\n",
            "Epoch 6/100\n",
            "31/31 [==============================] - 2s 64ms/step - loss: 2.4891e-04\n",
            "Epoch 7/100\n",
            "31/31 [==============================] - 3s 84ms/step - loss: 2.4766e-04\n",
            "Epoch 8/100\n",
            "31/31 [==============================] - 3s 99ms/step - loss: 2.5285e-04\n",
            "Epoch 9/100\n",
            "31/31 [==============================] - 2s 61ms/step - loss: 2.5764e-04\n",
            "Epoch 10/100\n",
            "31/31 [==============================] - 2s 61ms/step - loss: 2.5362e-04\n",
            "Epoch 11/100\n",
            "31/31 [==============================] - 2s 60ms/step - loss: 2.5407e-04\n",
            "Epoch 12/100\n",
            "31/31 [==============================] - 2s 54ms/step - loss: 2.4225e-04\n",
            "Epoch 13/100\n",
            "31/31 [==============================] - 2s 56ms/step - loss: 2.5261e-04\n",
            "Epoch 14/100\n",
            "31/31 [==============================] - 2s 63ms/step - loss: 2.4755e-04\n",
            "Epoch 15/100\n",
            "31/31 [==============================] - 3s 86ms/step - loss: 2.7415e-04\n",
            "Epoch 16/100\n",
            "31/31 [==============================] - 3s 81ms/step - loss: 2.5134e-04\n",
            "Epoch 17/100\n",
            "31/31 [==============================] - 2s 52ms/step - loss: 2.4492e-04\n",
            "Epoch 18/100\n",
            "31/31 [==============================] - 2s 53ms/step - loss: 2.4257e-04\n",
            "Epoch 19/100\n",
            "31/31 [==============================] - 2s 53ms/step - loss: 2.4610e-04\n",
            "Epoch 20/100\n",
            "31/31 [==============================] - 2s 53ms/step - loss: 2.5360e-04\n",
            "Epoch 21/100\n",
            "31/31 [==============================] - 2s 60ms/step - loss: 2.6435e-04\n",
            "Epoch 22/100\n",
            "31/31 [==============================] - 2s 73ms/step - loss: 2.5088e-04\n",
            "Epoch 23/100\n",
            "31/31 [==============================] - 3s 83ms/step - loss: 2.4810e-04\n",
            "Epoch 24/100\n",
            "31/31 [==============================] - 3s 86ms/step - loss: 2.5306e-04\n",
            "Epoch 25/100\n",
            "31/31 [==============================] - 2s 52ms/step - loss: 2.6275e-04\n",
            "Epoch 26/100\n",
            "31/31 [==============================] - 2s 56ms/step - loss: 2.4286e-04\n",
            "Epoch 27/100\n",
            "31/31 [==============================] - 2s 71ms/step - loss: 2.5890e-04\n",
            "Epoch 28/100\n",
            "31/31 [==============================] - 2s 50ms/step - loss: 2.6497e-04\n",
            "Epoch 29/100\n",
            "31/31 [==============================] - 2s 52ms/step - loss: 2.4894e-04\n",
            "Epoch 30/100\n",
            "31/31 [==============================] - 2s 67ms/step - loss: 2.5358e-04\n",
            "Epoch 31/100\n",
            "31/31 [==============================] - 3s 84ms/step - loss: 2.6354e-04\n",
            "Epoch 32/100\n",
            "31/31 [==============================] - 2s 72ms/step - loss: 2.6176e-04\n",
            "Epoch 33/100\n",
            "31/31 [==============================] - 2s 52ms/step - loss: 2.7818e-04\n",
            "Epoch 34/100\n",
            "31/31 [==============================] - 2s 51ms/step - loss: 2.4819e-04\n",
            "Epoch 35/100\n",
            "31/31 [==============================] - 2s 54ms/step - loss: 2.6134e-04\n",
            "Epoch 36/100\n",
            "31/31 [==============================] - 2s 58ms/step - loss: 2.4596e-04\n",
            "Epoch 37/100\n",
            "31/31 [==============================] - 2s 61ms/step - loss: 2.6240e-04\n",
            "Epoch 38/100\n",
            "31/31 [==============================] - 2s 70ms/step - loss: 2.8015e-04\n",
            "Epoch 39/100\n",
            "31/31 [==============================] - 3s 88ms/step - loss: 2.4617e-04\n",
            "Epoch 40/100\n",
            "31/31 [==============================] - 2s 67ms/step - loss: 2.6284e-04\n",
            "Epoch 41/100\n",
            "31/31 [==============================] - 2s 62ms/step - loss: 2.5347e-04\n",
            "Epoch 42/100\n",
            "31/31 [==============================] - 2s 52ms/step - loss: 2.5133e-04\n",
            "Epoch 43/100\n",
            "31/31 [==============================] - 2s 50ms/step - loss: 2.6966e-04\n",
            "Epoch 44/100\n",
            "31/31 [==============================] - 2s 53ms/step - loss: 2.5222e-04\n",
            "Epoch 45/100\n",
            "31/31 [==============================] - 2s 57ms/step - loss: 2.5084e-04\n",
            "Epoch 46/100\n",
            "31/31 [==============================] - 2s 71ms/step - loss: 2.6535e-04\n",
            "Epoch 47/100\n",
            "31/31 [==============================] - 3s 87ms/step - loss: 2.6427e-04\n",
            "Epoch 48/100\n",
            "31/31 [==============================] - 2s 72ms/step - loss: 2.7091e-04\n",
            "Epoch 49/100\n",
            "31/31 [==============================] - 2s 79ms/step - loss: 2.5789e-04\n",
            "Epoch 50/100\n",
            "31/31 [==============================] - 3s 84ms/step - loss: 2.5973e-04\n",
            "Epoch 51/100\n",
            "31/31 [==============================] - 2s 59ms/step - loss: 2.6499e-04\n",
            "Epoch 52/100\n",
            "31/31 [==============================] - 2s 51ms/step - loss: 2.4177e-04\n",
            "Epoch 53/100\n",
            "31/31 [==============================] - 2s 70ms/step - loss: 2.4910e-04\n",
            "Epoch 54/100\n",
            "31/31 [==============================] - 3s 92ms/step - loss: 2.6499e-04\n",
            "Epoch 55/100\n",
            "31/31 [==============================] - 2s 75ms/step - loss: 2.4663e-04\n",
            "Epoch 56/100\n",
            "31/31 [==============================] - 2s 59ms/step - loss: 2.5959e-04\n",
            "Epoch 57/100\n",
            "31/31 [==============================] - 2s 53ms/step - loss: 2.4950e-04\n",
            "Epoch 58/100\n",
            "31/31 [==============================] - 2s 52ms/step - loss: 2.4291e-04\n",
            "Epoch 59/100\n",
            "31/31 [==============================] - 2s 59ms/step - loss: 2.4947e-04\n",
            "Epoch 60/100\n",
            "31/31 [==============================] - 2s 61ms/step - loss: 2.5175e-04\n",
            "Epoch 61/100\n",
            "31/31 [==============================] - 2s 72ms/step - loss: 2.5912e-04\n",
            "Epoch 62/100\n",
            "31/31 [==============================] - 3s 87ms/step - loss: 2.4307e-04\n",
            "Epoch 63/100\n",
            "31/31 [==============================] - 2s 75ms/step - loss: 2.5675e-04\n",
            "Epoch 64/100\n",
            "31/31 [==============================] - 2s 51ms/step - loss: 2.4277e-04\n",
            "Epoch 65/100\n",
            "31/31 [==============================] - 2s 57ms/step - loss: 2.5214e-04\n",
            "Epoch 66/100\n",
            "31/31 [==============================] - 2s 63ms/step - loss: 2.4843e-04\n",
            "Epoch 67/100\n",
            "31/31 [==============================] - 2s 59ms/step - loss: 2.4850e-04\n",
            "Epoch 68/100\n",
            "31/31 [==============================] - 2s 66ms/step - loss: 2.5063e-04\n",
            "Epoch 69/100\n",
            "31/31 [==============================] - 3s 88ms/step - loss: 2.4695e-04\n",
            "Epoch 70/100\n",
            "31/31 [==============================] - 3s 84ms/step - loss: 3.0228e-04\n",
            "Epoch 71/100\n",
            "31/31 [==============================] - 2s 63ms/step - loss: 2.7076e-04\n",
            "Epoch 72/100\n",
            "31/31 [==============================] - 2s 53ms/step - loss: 2.5618e-04\n",
            "Epoch 73/100\n",
            "31/31 [==============================] - 2s 51ms/step - loss: 2.4926e-04\n",
            "Epoch 74/100\n",
            "31/31 [==============================] - 2s 62ms/step - loss: 2.4268e-04\n",
            "Epoch 75/100\n",
            "31/31 [==============================] - 2s 68ms/step - loss: 2.5154e-04\n",
            "Epoch 76/100\n",
            "31/31 [==============================] - 2s 52ms/step - loss: 2.4676e-04\n",
            "Epoch 77/100\n",
            "31/31 [==============================] - 3s 88ms/step - loss: 2.4293e-04\n",
            "Epoch 78/100\n",
            "31/31 [==============================] - 3s 86ms/step - loss: 2.4803e-04\n",
            "Epoch 79/100\n",
            "31/31 [==============================] - 2s 54ms/step - loss: 2.3942e-04\n",
            "Epoch 80/100\n",
            "31/31 [==============================] - 2s 55ms/step - loss: 2.4399e-04\n",
            "Epoch 81/100\n",
            "31/31 [==============================] - 2s 52ms/step - loss: 2.4305e-04\n",
            "Epoch 82/100\n",
            "31/31 [==============================] - 2s 60ms/step - loss: 2.4313e-04\n",
            "Epoch 83/100\n",
            "31/31 [==============================] - 2s 59ms/step - loss: 2.4015e-04\n",
            "Epoch 84/100\n",
            "31/31 [==============================] - 2s 56ms/step - loss: 2.5292e-04\n",
            "Epoch 85/100\n",
            "31/31 [==============================] - 3s 85ms/step - loss: 2.4986e-04\n",
            "Epoch 86/100\n",
            "31/31 [==============================] - 3s 89ms/step - loss: 2.6547e-04\n",
            "Epoch 87/100\n",
            "31/31 [==============================] - 2s 58ms/step - loss: 2.6697e-04\n",
            "Epoch 88/100\n",
            "31/31 [==============================] - 2s 52ms/step - loss: 2.4590e-04\n",
            "Epoch 89/100\n",
            "31/31 [==============================] - 2s 53ms/step - loss: 2.6756e-04\n",
            "Epoch 90/100\n",
            "31/31 [==============================] - 2s 52ms/step - loss: 2.7260e-04\n",
            "Epoch 91/100\n",
            "31/31 [==============================] - 2s 51ms/step - loss: 2.5081e-04\n",
            "Epoch 92/100\n",
            "31/31 [==============================] - 2s 61ms/step - loss: 2.4247e-04\n",
            "Epoch 93/100\n",
            "31/31 [==============================] - 2s 80ms/step - loss: 2.4517e-04\n",
            "Epoch 94/100\n",
            "31/31 [==============================] - 3s 94ms/step - loss: 2.4828e-04\n",
            "Epoch 95/100\n",
            "31/31 [==============================] - 2s 68ms/step - loss: 2.4794e-04\n",
            "Epoch 96/100\n",
            "31/31 [==============================] - 2s 54ms/step - loss: 2.4783e-04\n",
            "Epoch 97/100\n",
            "31/31 [==============================] - 2s 58ms/step - loss: 2.4057e-04\n",
            "Epoch 98/100\n",
            "31/31 [==============================] - 2s 52ms/step - loss: 2.4779e-04\n",
            "Epoch 99/100\n",
            "31/31 [==============================] - 2s 53ms/step - loss: 2.4513e-04\n",
            "Epoch 100/100\n",
            "31/31 [==============================] - 2s 52ms/step - loss: 2.5138e-04\n"
          ]
        },
        {
          "output_type": "execute_result",
          "data": {
            "text/plain": [
              "<keras.src.callbacks.History at 0x7818de9a02b0>"
            ]
          },
          "metadata": {},
          "execution_count": 73
        }
      ]
    },
    {
      "cell_type": "code",
      "source": [
        "# Dự báo dữ liệu test và train\n",
        "train_predict = model.predict(X_train)\n",
        "y_pred = model.predict(X_test)"
      ],
      "metadata": {
        "colab": {
          "base_uri": "https://localhost:8080/"
        },
        "id": "Z7H6b5bilgXv",
        "outputId": "5cfb89a1-36b8-417b-8bd0-b25b3309bf19"
      },
      "execution_count": 74,
      "outputs": [
        {
          "output_type": "stream",
          "name": "stdout",
          "text": [
            "62/62 [==============================] - 1s 12ms/step\n",
            "8/8 [==============================] - 0s 11ms/step\n"
          ]
        }
      ]
    },
    {
      "cell_type": "code",
      "source": [
        "# Chuẩn hóa dữ liệu y_pred\n",
        "train_predict = scaler.inverse_transform(train_predict)\n",
        "y_pred = scaler.inverse_transform(y_pred)"
      ],
      "metadata": {
        "id": "AGrwjDEOl9Mj"
      },
      "execution_count": 75,
      "outputs": []
    },
    {
      "cell_type": "code",
      "source": [
        "# Dự báo 90 ngày tiếp theo\n",
        "x_input = test_data[-100:].reshape(1, -1)\n",
        "temp_input = list(x_input[0])\n",
        "lst_output = []\n",
        "\n",
        "i = 0\n",
        "while(i < 90):\n",
        "    if len(temp_input) > 100:\n",
        "        x_input = np.array(temp_input[1:])  # Lấy từng ngày từ ngày thứ 2 trở đi\n",
        "        x_input = x_input.reshape(1, time_step, 1)  # Reshape lại để phù hợp với input của mạng\n",
        "        yhat = model.predict(x_input, verbose=0)  # Dự đoán giá cho ngày tiếp theo\n",
        "        temp_input.extend(yhat[0].tolist())  # Thêm dự đoán vào danh sách temp_input\n",
        "        temp_input = temp_input[1:]  # Loại bỏ ngày đầu tiên\n",
        "        lst_output.extend(yhat.tolist())  # Lưu dự đoán vào mảng lst_output\n",
        "        i += 1\n",
        "    else:\n",
        "        x_input = x_input.reshape(1, time_step, 1)  # Reshape lại để phù hợp với input của mạng\n",
        "        yhat = model.predict(x_input, verbose=0)  # Dự đoán giá cho ngày tiếp theo\n",
        "        temp_input.extend(yhat[0].tolist())  # Thêm dự đoán vào danh sách temp_input\n",
        "        lst_output.extend(yhat.tolist())  # Lưu dự đoán vào mảng lst_output\n",
        "        i += 1\n",
        "\n",
        "# In ra dự đoán cho 90 ngày tiếp theo\n",
        "print(\"Dự đoán giá cho 90 ngày tiếp theo:\")\n",
        "print(lst_output)"
      ],
      "metadata": {
        "colab": {
          "base_uri": "https://localhost:8080/"
        },
        "id": "4DfyL9LMW9fX",
        "outputId": "0fcc4a86-71f7-4616-a24b-eb9887e416f3"
      },
      "execution_count": 76,
      "outputs": [
        {
          "output_type": "stream",
          "name": "stdout",
          "text": [
            "Dự đoán giá cho 90 ngày tiếp theo:\n",
            "[[0.14094659686088562], [0.13781915605068207], [0.13450241088867188], [0.13141141831874847], [0.12813712656497955], [0.12484973669052124], [0.12150014936923981], [0.11811111867427826], [0.11468080431222916], [0.11121321469545364], [0.10770948231220245], [0.10417073220014572], [0.1005975753068924], [0.09699038416147232], [0.09334930032491684], [0.08967435359954834], [0.08596543222665787], [0.0822223648428917], [0.0784449428319931], [0.07463287562131882], [0.07078585773706436], [0.06690352410078049], [0.06298552453517914], [0.05903145298361778], [0.05504092946648598], [0.0510135255753994], [0.04694882780313492], [0.042846400290727615], [0.03870580345392227], [0.034526582807302475], [0.030308306217193604], [0.026050502434372902], [0.021752726286649704], [0.017414508387446404], [0.013035397976636887], [0.008614926598966122], [0.004152633715420961], [-0.000351946335285902], [-0.00489927688613534], [-0.009489817544817924], [-0.014124024659395218], [-0.018802369013428688], [-0.023525288328528404], [-0.028293265029788017], [-0.0331067331135273], [-0.03796614333987236], [-0.04287192225456238], [-0.04782453179359436], [-0.052824392914772034], [-0.05787191167473793], [-0.06296754628419876], [-0.06811167299747467], [-0.07330472767353058], [-0.07854709029197693], [-0.08383916318416595], [-0.08918130397796631], [-0.09457387775182724], [-0.1000172570347786], [-0.10551176965236664], [-0.11105777323246002], [-0.11665556579828262], [-0.12230539321899414], [-0.12800763547420502], [-0.13376246392726898], [-0.1395702064037323], [-0.14543108642101288], [-0.15134529769420624], [-0.1573130488395691], [-0.1633344441652298], [-0.16940975189208984], [-0.1755390167236328], [-0.18172240257263184], [-0.1879599243402481], [-0.19425171613693237], [-0.20059765875339508], [-0.2069978415966034], [-0.2134522795677185], [-0.21996082365512848], [-0.22652341425418854], [-0.23313990235328674], [-0.23981010913848877], [-0.24653387069702148], [-0.2533109784126282], [-0.26014116406440735], [-0.26702412962913513], [-0.2739594280719757], [-0.2809467017650604], [-0.2879856526851654], [-0.2950756847858429], [-0.3022163212299347]]\n"
          ]
        }
      ]
    },
    {
      "cell_type": "code",
      "source": [
        "predict_future_30 = lst_output[:30]\n",
        "predict_future_60 = lst_output[30:60]\n",
        "predict_future_90 = lst_output[60:]\n"
      ],
      "metadata": {
        "id": "vPOQbRv4A-Zx"
      },
      "execution_count": 77,
      "outputs": []
    },
    {
      "cell_type": "code",
      "source": [
        "#Vẽ hình\n",
        "# train_data_index = pd.RangeIndex(start=0, stop=len(train_data), step=1)\n",
        "# plt.plot(train_data_index, scaler.inverse_transform(train_data), label='Train')\n",
        "\n",
        "test_data_index = pd.RangeIndex(start=train_size, stop=train_size+len(test_data), step=1)\n",
        "plt.plot(test_data_index, scaler.inverse_transform(test_data), label='Test')\n",
        "\n",
        "predicted_test_index = pd.RangeIndex(start=train_size, stop=train_size+len(y_pred), step=1)\n",
        "plt.plot(predicted_test_index, y_pred)\n",
        "\n",
        "predict_future_30_index = pd.RangeIndex(start=test_data_index[-1]+1, stop=test_data_index[-1]+31, step=1)\n",
        "plt.plot(predict_future_30_index, scaler.inverse_transform(predict_future_30))\n",
        "\n",
        "predict_future_60_index = pd.RangeIndex(start=test_data_index[-1]+31, stop=test_data_index[-1]+61, step=1)\n",
        "plt.plot(predict_future_60_index, scaler.inverse_transform(predict_future_60))\n",
        "\n",
        "predict_future_90_index = pd.RangeIndex(start=test_data_index[-1]+61, stop=test_data_index[-1]+91, step=1)\n",
        "plt.plot(predict_future_90_index, scaler.inverse_transform(predict_future_90))\n",
        "\n",
        "plt.title('GRU - ADA Stock Price - 9:1')\n",
        "plt.xlabel('Date')\n",
        "plt.ylabel('Price')\n",
        "plt.legend(['Test','Predict Test','Predict 30days','Predict 60days','Predict 90days'])\n",
        "plt.show()"
      ],
      "metadata": {
        "colab": {
          "base_uri": "https://localhost:8080/",
          "height": 472
        },
        "id": "9dEqqWytXSRo",
        "outputId": "025da959-7fbc-445b-9625-aa6702a8acf2"
      },
      "execution_count": 78,
      "outputs": [
        {
          "output_type": "display_data",
          "data": {
            "text/plain": [
              "<Figure size 640x480 with 1 Axes>"
            ],
            "image/png": "[encoded data removed]"
          },
          "metadata": {}
        }
      ]
    },
    {
      "cell_type": "code",
      "source": [
        "# y_test = scaler.inverse_transform(y_test.reshape(-1,1))\n",
        "# y_test"
      ],
      "metadata": {
        "id": "sT_kNftxtaiE"
      },
      "execution_count": 57,
      "outputs": []
    },
    {
      "cell_type": "code",
      "source": [
        "from sklearn.metrics import mean_absolute_error, mean_squared_error, mean_absolute_percentage_error\n",
        "\n",
        "mae = mean_absolute_error(y_test, y_pred)\n",
        "mape = mean_absolute_percentage_error(y_test, y_pred)\n",
        "rmse = np.sqrt(mean_squared_error(y_test, y_pred))\n",
        "\n",
        "print(\"Mean Absolute Error (MAE):\", mae)\n",
        "print(\"Mean Absolute Percentage Error (MAPE):\", mape * 100)\n",
        "print(\"Root Mean Square Error (RMSE):\", rmse)"
      ],
      "metadata": {
        "colab": {
          "base_uri": "https://localhost:8080/"
        },
        "id": "APE0pAmrJKcg",
        "outputId": "ed296ae4-ed4f-45bc-f0e5-93cdad39e56a"
      },
      "execution_count": 79,
      "outputs": [
        {
          "output_type": "stream",
          "name": "stdout",
          "text": [
            "Mean Absolute Error (MAE): 0.006519344621243477\n",
            "Mean Absolute Percentage Error (MAPE): 4.034722358031993\n",
            "Root Mean Square Error (RMSE): 0.008717502697772545\n"
          ]
        }
      ]
    },
    {
      "cell_type": "markdown",
      "source": [],
      "metadata": {
        "id": "3yRLTREua_1d"
      }
    },
    {
      "cell_type": "code",
      "source": [
        "# # 12. Đánh giá độ chính xác thuật toán bằng RMSE\n",
        "# test_rmse = np.sqrt(np.mean((y_pred - y_test)**2))\n",
        "# print('Testing RMSE:', test_rmse)\n",
        "# # Đánh giá độ chính xác thuật toán bằng MAE\n",
        "# test_mae = np.mean(abs(y_pred - y_test))\n",
        "# print('Testing MAE:', test_mae)\n",
        "# # Đánh giá độ chính xác thuật toán bằng MAPE\n",
        "# test_mape = np.mean(np.abs(y_pred - y_test)/np.abs(y_pred))\n",
        "# print('Testing MAPE:', test_mape)"
      ],
      "metadata": {
        "colab": {
          "base_uri": "https://localhost:8080/"
        },
        "id": "c8Ef1hD1a5y2",
        "outputId": "1369c53e-0896-439a-de2f-9eab1d52c276"
      },
      "execution_count": null,
      "outputs": [
        {
          "output_type": "stream",
          "name": "stdout",
          "text": [
            "Testing RMSE: 0.30995897321254945\n",
            "Testing MAE: 0.29635483355720177\n",
            "Testing MAPE: 0.6935905549176788\n"
          ]
        }
      ]
    },
    {
      "cell_type": "code",
      "source": [],
      "metadata": {
        "id": "fxjVSJqCa8n1"
      },
      "execution_count": null,
      "outputs": []
    }
  ]
}