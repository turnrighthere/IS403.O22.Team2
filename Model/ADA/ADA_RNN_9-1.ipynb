{
 "cells": [
  {
   "cell_type": "code",
   "execution_count": 1,
   "id": "26fdc348-5b74-4d88-a3dc-48da4d735e10",
   "metadata": {
    "tags": []
   },
   "outputs": [],
   "source": [
    "# 1. Import thư viện cần thiết\n",
    "import numpy as np\n",
    "import pandas as pd\n",
    "import matplotlib.pyplot as plt\n",
    "from sklearn.preprocessing import MinMaxScaler\n",
    "from keras.models import Sequential\n",
    "from keras.layers import Dense, SimpleRNN"
   ]
  },
  {
   "cell_type": "code",
   "execution_count": 2,
   "id": "a1081418-67c4-4366-9320-98d0255b8a87",
   "metadata": {
    "tags": []
   },
   "outputs": [
    {
     "name": "stdout",
     "output_type": "stream",
     "text": [
      "<class 'pandas.core.frame.DataFrame'>\n",
      "RangeIndex: 2285 entries, 0 to 2284\n",
      "Data columns (total 7 columns):\n",
      " #   Column     Non-Null Count  Dtype  \n",
      "---  ------     --------------  -----  \n",
      " 0   Date       2285 non-null   object \n",
      " 1   Open       2285 non-null   float64\n",
      " 2   High       2285 non-null   float64\n",
      " 3   Low        2285 non-null   float64\n",
      " 4   Price      2285 non-null   float64\n",
      " 5   Adj Close  2285 non-null   float64\n",
      " 6   Volume     2285 non-null   int64  \n",
      "dtypes: float64(5), int64(1), object(1)\n",
      "memory usage: 125.1+ KB\n"
     ]
    }
   ],
   "source": [
    "# 2. Đọc file csv và gắn index với giá Price\n",
    "df = pd.read_csv('pre_ADA-USD.csv')\n",
    "df = df.rename(columns={'Close': 'Price'})\n",
    "df1 = df.reset_index()['Price']\n",
    "df.info()"
   ]
  },
  {
   "cell_type": "code",
   "execution_count": 3,
   "id": "60ab42f9-e719-4186-ada8-ba47f31ad5a7",
   "metadata": {
    "tags": []
   },
   "outputs": [],
   "source": [
    "# 3. Scaler data\n",
    "scaler = MinMaxScaler(feature_range=(0, 1))\n",
    "df1 = scaler.fit_transform(np.array(df1).reshape(-1, 1))"
   ]
  },
  {
   "cell_type": "code",
   "execution_count": 4,
   "id": "5cc5eeb5-d78f-4ef1-87eb-4359c768e0d6",
   "metadata": {
    "tags": []
   },
   "outputs": [
    {
     "name": "stdout",
     "output_type": "stream",
     "text": [
      "Train shape: (2056, 1)\n",
      "Test shape: (229, 1)\n"
     ]
    }
   ],
   "source": [
    "# 4. Chia train test 9 - 1\n",
    "train_size = int(0.9 * len(df1))\n",
    "test_size = len(df1) - train_size\n",
    "\n",
    "# Lấy dữ liệu train và test\n",
    "train_data = df1[:train_size]\n",
    "test_data = df1[train_size:]\n",
    "\n",
    "print(\"Train shape:\", train_data.shape)\n",
    "print(\"Test shape:\", test_data.shape)"
   ]
  },
  {
   "cell_type": "code",
   "execution_count": 5,
   "id": "f9148ab3-7d6f-4b1f-ab40-c832747c52be",
   "metadata": {
    "tags": []
   },
   "outputs": [],
   "source": [
    "# 5. Hàm Create Dataset\n",
    "import numpy\n",
    "# convert an array of values into a dataset matrix\n",
    "def create_dataset(dataset, time_step=1):\n",
    "\tdataX, dataY = [], []\n",
    "\tfor i in range(len(dataset)-time_step-1):\n",
    "\t\ta = dataset[i:(i+time_step), 0]   ###i=0, X=0,1,2,3-----99   Y=100 \n",
    "\t\tdataX.append(a)\n",
    "\t\tdataY.append(dataset[i + time_step, 0])\n",
    "\treturn numpy.array(dataX), numpy.array(dataY)"
   ]
  },
  {
   "cell_type": "code",
   "execution_count": 6,
   "id": "72cc4c30-465a-4cab-8356-3baef4e1fa61",
   "metadata": {
    "tags": []
   },
   "outputs": [],
   "source": [
    "# 6. Reshape into X=t,t+1,t+2..t+99 and Y=t+100\n",
    "time_step = 100\n",
    "X_train, y_train = create_dataset(train_data, time_step)\n",
    "X_test, ytest = create_dataset(test_data, time_step)"
   ]
  },
  {
   "cell_type": "code",
   "execution_count": 7,
   "id": "ea53b5fc-9693-41c0-94d4-433f02119225",
   "metadata": {
    "tags": []
   },
   "outputs": [],
   "source": [
    "# 7. Reshape input to be [samples, time steps, features] which is required for LSTM\n",
    "X_train = X_train.reshape(X_train.shape[0], X_train.shape[1], 1)\n",
    "X_test = X_test.reshape(X_test.shape[0], X_test.shape[1], 1)"
   ]
  },
  {
   "cell_type": "code",
   "execution_count": 8,
   "id": "15bfe900-abe3-40da-8cba-618fcf530d43",
   "metadata": {
    "tags": []
   },
   "outputs": [],
   "source": [
    "# 8. Define RNN Model\n",
    "model = Sequential()\n",
    "model.add(SimpleRNN(50, input_shape=(time_step, 1)))\n",
    "model.add(Dense(1))\n",
    "model.compile(loss='mean_squared_error', optimizer='adam')"
   ]
  },
  {
   "cell_type": "code",
   "execution_count": 9,
   "id": "cc691626-b5f4-467f-a47b-0c07f204f045",
   "metadata": {
    "tags": []
   },
   "outputs": [
    {
     "name": "stdout",
     "output_type": "stream",
     "text": [
      "Epoch 1/100\n",
      "31/31 [==============================] - 2s 21ms/step - loss: 0.0060 - val_loss: 5.6561e-04\n",
      "Epoch 2/100\n",
      "31/31 [==============================] - 0s 14ms/step - loss: 9.9199e-04 - val_loss: 3.1269e-04\n",
      "Epoch 3/100\n",
      "31/31 [==============================] - 0s 13ms/step - loss: 8.0148e-04 - val_loss: 3.8295e-04\n",
      "Epoch 4/100\n",
      "31/31 [==============================] - 0s 13ms/step - loss: 7.0706e-04 - val_loss: 3.0046e-04\n",
      "Epoch 5/100\n",
      "31/31 [==============================] - 0s 14ms/step - loss: 6.6180e-04 - val_loss: 2.7208e-04\n",
      "Epoch 6/100\n",
      "31/31 [==============================] - 0s 14ms/step - loss: 5.9850e-04 - val_loss: 2.5789e-04\n",
      "Epoch 7/100\n",
      "31/31 [==============================] - 0s 14ms/step - loss: 5.9560e-04 - val_loss: 2.5386e-04\n",
      "Epoch 8/100\n",
      "31/31 [==============================] - 0s 15ms/step - loss: 6.0072e-04 - val_loss: 3.1508e-04\n",
      "Epoch 9/100\n",
      "31/31 [==============================] - 0s 13ms/step - loss: 5.5723e-04 - val_loss: 2.4102e-04\n",
      "Epoch 10/100\n",
      "31/31 [==============================] - 0s 13ms/step - loss: 5.0414e-04 - val_loss: 3.2257e-04\n",
      "Epoch 11/100\n",
      "31/31 [==============================] - 0s 14ms/step - loss: 4.8697e-04 - val_loss: 2.1817e-04\n",
      "Epoch 12/100\n",
      "31/31 [==============================] - 0s 13ms/step - loss: 4.6099e-04 - val_loss: 2.3660e-04\n",
      "Epoch 13/100\n",
      "31/31 [==============================] - 0s 13ms/step - loss: 4.4572e-04 - val_loss: 1.8476e-04\n",
      "Epoch 14/100\n",
      "31/31 [==============================] - 0s 13ms/step - loss: 4.2748e-04 - val_loss: 2.6767e-04\n",
      "Epoch 15/100\n",
      "31/31 [==============================] - 0s 14ms/step - loss: 4.3973e-04 - val_loss: 1.7473e-04\n",
      "Epoch 16/100\n",
      "31/31 [==============================] - 0s 14ms/step - loss: 4.0058e-04 - val_loss: 2.3355e-04\n",
      "Epoch 17/100\n",
      "31/31 [==============================] - 0s 14ms/step - loss: 4.7294e-04 - val_loss: 2.5212e-04\n",
      "Epoch 18/100\n",
      "31/31 [==============================] - 0s 13ms/step - loss: 4.1687e-04 - val_loss: 1.6393e-04\n",
      "Epoch 19/100\n",
      "31/31 [==============================] - 1s 37ms/step - loss: 3.8241e-04 - val_loss: 1.8516e-04\n",
      "Epoch 20/100\n",
      "31/31 [==============================] - 1s 42ms/step - loss: 3.6513e-04 - val_loss: 1.5135e-04\n",
      "Epoch 21/100\n",
      "31/31 [==============================] - 0s 15ms/step - loss: 3.8705e-04 - val_loss: 1.9255e-04\n",
      "Epoch 22/100\n",
      "31/31 [==============================] - 0s 15ms/step - loss: 4.0397e-04 - val_loss: 1.4986e-04\n",
      "Epoch 23/100\n",
      "31/31 [==============================] - 0s 14ms/step - loss: 3.5487e-04 - val_loss: 1.6179e-04\n",
      "Epoch 24/100\n",
      "31/31 [==============================] - 0s 14ms/step - loss: 3.7353e-04 - val_loss: 1.4133e-04\n",
      "Epoch 25/100\n",
      "31/31 [==============================] - 0s 14ms/step - loss: 3.7123e-04 - val_loss: 1.8177e-04\n",
      "Epoch 26/100\n",
      "31/31 [==============================] - 0s 13ms/step - loss: 3.9091e-04 - val_loss: 1.5115e-04\n",
      "Epoch 27/100\n",
      "31/31 [==============================] - 0s 13ms/step - loss: 3.7458e-04 - val_loss: 2.8539e-04\n",
      "Epoch 28/100\n",
      "31/31 [==============================] - 0s 13ms/step - loss: 4.0797e-04 - val_loss: 1.7699e-04\n",
      "Epoch 29/100\n",
      "31/31 [==============================] - 0s 13ms/step - loss: 3.3220e-04 - val_loss: 1.2613e-04\n",
      "Epoch 30/100\n",
      "31/31 [==============================] - 1s 17ms/step - loss: 3.1062e-04 - val_loss: 1.1773e-04\n",
      "Epoch 31/100\n",
      "31/31 [==============================] - 0s 13ms/step - loss: 3.1175e-04 - val_loss: 1.2676e-04\n",
      "Epoch 32/100\n",
      "31/31 [==============================] - 0s 14ms/step - loss: 3.1603e-04 - val_loss: 1.1614e-04\n",
      "Epoch 33/100\n",
      "31/31 [==============================] - 1s 22ms/step - loss: 3.2118e-04 - val_loss: 1.3070e-04\n",
      "Epoch 34/100\n",
      "31/31 [==============================] - 1s 37ms/step - loss: 3.7995e-04 - val_loss: 1.1376e-04\n",
      "Epoch 35/100\n",
      "31/31 [==============================] - 1s 32ms/step - loss: 3.1194e-04 - val_loss: 1.3633e-04\n",
      "Epoch 36/100\n",
      "31/31 [==============================] - 0s 15ms/step - loss: 3.0117e-04 - val_loss: 1.2243e-04\n",
      "Epoch 37/100\n",
      "31/31 [==============================] - 0s 14ms/step - loss: 3.2728e-04 - val_loss: 1.0968e-04\n",
      "Epoch 38/100\n",
      "31/31 [==============================] - 0s 13ms/step - loss: 2.9031e-04 - val_loss: 1.2202e-04\n",
      "Epoch 39/100\n",
      "31/31 [==============================] - 0s 13ms/step - loss: 2.8562e-04 - val_loss: 1.3239e-04\n",
      "Epoch 40/100\n",
      "31/31 [==============================] - 0s 14ms/step - loss: 2.9952e-04 - val_loss: 1.3543e-04\n",
      "Epoch 41/100\n",
      "31/31 [==============================] - 0s 13ms/step - loss: 2.7419e-04 - val_loss: 1.4090e-04\n",
      "Epoch 42/100\n",
      "31/31 [==============================] - 0s 13ms/step - loss: 2.6726e-04 - val_loss: 1.1108e-04\n",
      "Epoch 43/100\n",
      "31/31 [==============================] - 0s 13ms/step - loss: 2.9646e-04 - val_loss: 1.0601e-04\n",
      "Epoch 44/100\n",
      "31/31 [==============================] - 0s 13ms/step - loss: 2.6095e-04 - val_loss: 1.2224e-04\n",
      "Epoch 45/100\n",
      "31/31 [==============================] - 0s 16ms/step - loss: 2.6848e-04 - val_loss: 1.1004e-04\n",
      "Epoch 46/100\n",
      "31/31 [==============================] - 0s 14ms/step - loss: 2.7391e-04 - val_loss: 1.2499e-04\n",
      "Epoch 47/100\n",
      "31/31 [==============================] - 0s 15ms/step - loss: 2.7078e-04 - val_loss: 1.2972e-04\n",
      "Epoch 48/100\n",
      "31/31 [==============================] - 0s 14ms/step - loss: 2.6160e-04 - val_loss: 1.4189e-04\n",
      "Epoch 49/100\n",
      "31/31 [==============================] - 0s 15ms/step - loss: 2.5825e-04 - val_loss: 1.1968e-04\n",
      "Epoch 50/100\n",
      "31/31 [==============================] - 0s 14ms/step - loss: 2.6665e-04 - val_loss: 1.0656e-04\n",
      "Epoch 51/100\n",
      "31/31 [==============================] - 0s 15ms/step - loss: 2.5438e-04 - val_loss: 1.0840e-04\n",
      "Epoch 52/100\n",
      "31/31 [==============================] - 0s 16ms/step - loss: 2.9993e-04 - val_loss: 1.0702e-04\n",
      "Epoch 53/100\n",
      "31/31 [==============================] - 1s 17ms/step - loss: 2.6253e-04 - val_loss: 1.2438e-04\n",
      "Epoch 54/100\n",
      "31/31 [==============================] - 1s 16ms/step - loss: 2.6631e-04 - val_loss: 1.1244e-04\n",
      "Epoch 55/100\n",
      "31/31 [==============================] - 0s 16ms/step - loss: 2.4911e-04 - val_loss: 1.1366e-04\n",
      "Epoch 56/100\n",
      "31/31 [==============================] - 0s 15ms/step - loss: 2.5936e-04 - val_loss: 1.0391e-04\n",
      "Epoch 57/100\n",
      "31/31 [==============================] - 0s 13ms/step - loss: 2.4580e-04 - val_loss: 1.1139e-04\n",
      "Epoch 58/100\n",
      "31/31 [==============================] - 0s 14ms/step - loss: 2.5196e-04 - val_loss: 1.0014e-04\n",
      "Epoch 59/100\n",
      "31/31 [==============================] - 0s 15ms/step - loss: 2.7148e-04 - val_loss: 1.2466e-04\n",
      "Epoch 60/100\n",
      "31/31 [==============================] - 0s 14ms/step - loss: 2.7582e-04 - val_loss: 1.2249e-04\n",
      "Epoch 61/100\n",
      "31/31 [==============================] - 0s 13ms/step - loss: 2.5712e-04 - val_loss: 1.7314e-04\n",
      "Epoch 62/100\n",
      "31/31 [==============================] - 0s 14ms/step - loss: 2.6146e-04 - val_loss: 2.1986e-04\n",
      "Epoch 63/100\n",
      "31/31 [==============================] - 0s 14ms/step - loss: 2.6411e-04 - val_loss: 9.5318e-05\n",
      "Epoch 64/100\n",
      "31/31 [==============================] - 0s 15ms/step - loss: 2.5101e-04 - val_loss: 9.6549e-05\n",
      "Epoch 65/100\n",
      "31/31 [==============================] - 0s 13ms/step - loss: 2.4141e-04 - val_loss: 9.8844e-05\n",
      "Epoch 66/100\n",
      "31/31 [==============================] - 0s 13ms/step - loss: 2.4104e-04 - val_loss: 1.1665e-04\n",
      "Epoch 67/100\n",
      "31/31 [==============================] - 0s 14ms/step - loss: 2.7364e-04 - val_loss: 1.1426e-04\n",
      "Epoch 68/100\n",
      "31/31 [==============================] - 1s 17ms/step - loss: 2.4793e-04 - val_loss: 9.8746e-05\n",
      "Epoch 69/100\n",
      "31/31 [==============================] - 0s 13ms/step - loss: 2.3518e-04 - val_loss: 9.7284e-05\n",
      "Epoch 70/100\n",
      "31/31 [==============================] - 0s 13ms/step - loss: 2.3300e-04 - val_loss: 1.0805e-04\n",
      "Epoch 71/100\n",
      "31/31 [==============================] - 0s 13ms/step - loss: 2.4365e-04 - val_loss: 1.2610e-04\n",
      "Epoch 72/100\n",
      "31/31 [==============================] - 0s 13ms/step - loss: 2.3527e-04 - val_loss: 1.0329e-04\n",
      "Epoch 73/100\n",
      "31/31 [==============================] - 0s 14ms/step - loss: 2.3877e-04 - val_loss: 1.0181e-04\n",
      "Epoch 74/100\n",
      "31/31 [==============================] - 0s 16ms/step - loss: 2.2686e-04 - val_loss: 1.0968e-04\n",
      "Epoch 75/100\n",
      "31/31 [==============================] - 1s 17ms/step - loss: 2.3760e-04 - val_loss: 1.0287e-04\n",
      "Epoch 76/100\n",
      "31/31 [==============================] - 0s 13ms/step - loss: 2.6373e-04 - val_loss: 9.8623e-05\n",
      "Epoch 77/100\n",
      "31/31 [==============================] - 0s 14ms/step - loss: 2.4466e-04 - val_loss: 9.2528e-05\n",
      "Epoch 78/100\n",
      "31/31 [==============================] - 1s 18ms/step - loss: 2.3058e-04 - val_loss: 1.1033e-04\n",
      "Epoch 79/100\n",
      "31/31 [==============================] - 0s 15ms/step - loss: 2.6475e-04 - val_loss: 1.3323e-04\n",
      "Epoch 80/100\n",
      "31/31 [==============================] - 1s 17ms/step - loss: 2.3021e-04 - val_loss: 9.1526e-05\n",
      "Epoch 81/100\n",
      "31/31 [==============================] - 0s 14ms/step - loss: 2.2830e-04 - val_loss: 9.3488e-05\n",
      "Epoch 82/100\n",
      "31/31 [==============================] - 1s 19ms/step - loss: 2.2871e-04 - val_loss: 1.0545e-04\n",
      "Epoch 83/100\n",
      "31/31 [==============================] - 0s 15ms/step - loss: 2.2545e-04 - val_loss: 9.2600e-05\n",
      "Epoch 84/100\n",
      "31/31 [==============================] - 1s 19ms/step - loss: 2.2515e-04 - val_loss: 9.4832e-05\n",
      "Epoch 85/100\n",
      "31/31 [==============================] - 1s 16ms/step - loss: 2.4480e-04 - val_loss: 1.5082e-04\n",
      "Epoch 86/100\n",
      "31/31 [==============================] - 0s 14ms/step - loss: 2.2950e-04 - val_loss: 9.5090e-05\n",
      "Epoch 87/100\n",
      "31/31 [==============================] - 0s 15ms/step - loss: 2.3246e-04 - val_loss: 9.9483e-05\n",
      "Epoch 88/100\n",
      "31/31 [==============================] - 0s 14ms/step - loss: 2.3102e-04 - val_loss: 9.0443e-05\n",
      "Epoch 89/100\n",
      "31/31 [==============================] - 1s 16ms/step - loss: 2.3342e-04 - val_loss: 9.5419e-05\n",
      "Epoch 90/100\n",
      "31/31 [==============================] - 0s 13ms/step - loss: 2.2857e-04 - val_loss: 1.1203e-04\n",
      "Epoch 91/100\n",
      "31/31 [==============================] - 0s 13ms/step - loss: 2.2325e-04 - val_loss: 9.9486e-05\n",
      "Epoch 92/100\n",
      "31/31 [==============================] - 0s 14ms/step - loss: 2.1977e-04 - val_loss: 9.6295e-05\n",
      "Epoch 93/100\n",
      "31/31 [==============================] - 0s 14ms/step - loss: 2.2943e-04 - val_loss: 1.2471e-04\n",
      "Epoch 94/100\n",
      "31/31 [==============================] - 0s 14ms/step - loss: 2.3719e-04 - val_loss: 1.1694e-04\n",
      "Epoch 95/100\n",
      "31/31 [==============================] - 0s 14ms/step - loss: 2.3679e-04 - val_loss: 8.9895e-05\n",
      "Epoch 96/100\n",
      "31/31 [==============================] - 0s 14ms/step - loss: 2.3133e-04 - val_loss: 9.6123e-05\n",
      "Epoch 97/100\n",
      "31/31 [==============================] - 0s 13ms/step - loss: 2.3400e-04 - val_loss: 9.7551e-05\n",
      "Epoch 98/100\n",
      "31/31 [==============================] - 0s 16ms/step - loss: 2.3192e-04 - val_loss: 9.0176e-05\n",
      "Epoch 99/100\n",
      "31/31 [==============================] - 0s 13ms/step - loss: 2.2888e-04 - val_loss: 1.0388e-04\n",
      "Epoch 100/100\n",
      "31/31 [==============================] - 0s 14ms/step - loss: 2.5443e-04 - val_loss: 1.3052e-04\n"
     ]
    },
    {
     "data": {
      "text/plain": [
       "<keras.callbacks.History at 0x20b4a547070>"
      ]
     },
     "execution_count": 9,
     "metadata": {},
     "output_type": "execute_result"
    }
   ],
   "source": [
    "# 9. Fit mô hình với dữ liệu train\n",
    "model.fit(X_train, y_train, validation_data=(X_test, ytest), epochs=100, batch_size=64, verbose=1)"
   ]
  },
  {
   "cell_type": "code",
   "execution_count": 10,
   "id": "c55c37b5-5b6b-4482-8ef1-63d82cd60fae",
   "metadata": {
    "tags": []
   },
   "outputs": [
    {
     "name": "stdout",
     "output_type": "stream",
     "text": [
      "62/62 [==============================] - 1s 5ms/step\n",
      "4/4 [==============================] - 0s 5ms/step\n"
     ]
    }
   ],
   "source": [
    "# 10. Dự báo dữ liệu test\n",
    "train_predict = model.predict(X_train)\n",
    "y_pred = model.predict(X_test)"
   ]
  },
  {
   "cell_type": "code",
   "execution_count": 11,
   "id": "e1ef089c-abd2-4072-9177-25ff22485fa8",
   "metadata": {
    "tags": []
   },
   "outputs": [],
   "source": [
    "# 11. Chuẩn hóa dữ liệu y_pred\n",
    "train_predict = scaler.inverse_transform(train_predict)\n",
    "y_pred = scaler.inverse_transform(y_pred)"
   ]
  },
  {
   "cell_type": "code",
   "execution_count": 12,
   "id": "6c14ba0c-354e-4514-a7ed-98b43cbcc1f9",
   "metadata": {
    "tags": []
   },
   "outputs": [
    {
     "name": "stdout",
     "output_type": "stream",
     "text": [
      "Mean Absolute Error (MAE): 0.3561452626432453\n",
      "Mean Absolute Percentage Error (MAPE): 197.64951142010773\n",
      "Root Mean Square Error (RMSE): 0.36236374092108753\n"
     ]
    }
   ],
   "source": [
    "# 12. Tính RMSE, MAPE, MAE\n",
    "from sklearn.metrics import mean_absolute_error, mean_squared_error, mean_absolute_percentage_error\n",
    "\n",
    "mae = mean_absolute_error(ytest, y_pred)\n",
    "mape = mean_absolute_percentage_error(ytest, y_pred)\n",
    "rmse = np.sqrt(mean_squared_error(ytest, y_pred))\n",
    "\n",
    "print(\"Mean Absolute Error (MAE):\", mae)\n",
    "print(\"Mean Absolute Percentage Error (MAPE):\", mape * 100)\n",
    "print(\"Root Mean Square Error (RMSE):\", rmse)"
   ]
  },
  {
   "cell_type": "code",
   "execution_count": 13,
   "id": "a858ddd6-d663-47e2-b024-95e269c52c71",
   "metadata": {
    "tags": []
   },
   "outputs": [],
   "source": [
    "# 13. Hàm dự báo\n",
    "def forecast_days(n_days):\n",
    "    x_input = test_data[-100:].reshape(1, -1)\n",
    "    temp_input = list(x_input[0])\n",
    "\n",
    "    lst_output = []\n",
    "    i = 0\n",
    "    while i < n_days:\n",
    "        if len(temp_input) > 100:\n",
    "            x_input = np.array(temp_input[1:])\n",
    "            x_input = x_input.reshape(1, -1)\n",
    "            x_input = x_input.reshape((1, time_step, 1))\n",
    "            yhat = model.predict(x_input, verbose=0)\n",
    "            temp_input.extend(yhat[0].tolist())\n",
    "            temp_input = temp_input[1:]\n",
    "            lst_output.extend(yhat.tolist())\n",
    "            i += 1\n",
    "        else:\n",
    "            x_input = x_input.reshape((1, time_step, 1))\n",
    "            yhat = model.predict(x_input, verbose=0)\n",
    "            temp_input.extend(yhat[0].tolist())\n",
    "            lst_output.extend(yhat.tolist())\n",
    "            i += 1\n",
    "    return lst_output"
   ]
  },
  {
   "cell_type": "code",
   "execution_count": 14,
   "id": "a3f20539-86f3-4c0d-ac02-6d3159836533",
   "metadata": {
    "tags": []
   },
   "outputs": [],
   "source": [
    "# 14. Dự báo 30, 60, 90 ngày tiếp theo\n",
    "forecast_30 = forecast_days(30)\n",
    "forecast_60 = forecast_days(60)\n",
    "forecast_90 = forecast_days(90)"
   ]
  },
  {
   "cell_type": "code",
   "execution_count": 15,
   "id": "e3ed23dc-59fe-4c17-aed7-762004a4dc86",
   "metadata": {
    "tags": []
   },
   "outputs": [
    {
     "name": "stdout",
     "output_type": "stream",
     "text": [
      "Dự báo cho 30 ngày tiếp theo: [[0.13877996802330017], [0.13455830514431], [0.13124406337738037], [0.12961401045322418], [0.12616844475269318], [0.11496768891811371], [0.10474934428930283], [0.09851737320423126], [0.08887521922588348], [0.07879339903593063], [0.06932300329208374], [0.06244876608252525], [0.05331975966691971], [0.047281812876462936], [0.03709260746836662], [0.031197555363178253], [0.02232147380709648], [0.0163752268999815], [0.006648494396358728], [-0.0023338645696640015], [-0.010980560444295406], [-0.020594194531440735], [-0.02767118439078331], [-0.03784629702568054], [-0.046283844858407974], [-0.056222859770059586], [-0.06440886110067368], [-0.07201501727104187], [-0.0800030454993248], [-0.0878550261259079]]\n"
     ]
    }
   ],
   "source": [
    "# 15. In ra dự đoán cho 30 ngày tiếp theo\n",
    "print(\"Dự báo cho 30 ngày tiếp theo:\", forecast_30)"
   ]
  },
  {
   "cell_type": "code",
   "execution_count": 16,
   "id": "fbbbde1a-59a7-40bd-a4f7-cf5d05e1cda2",
   "metadata": {
    "tags": []
   },
   "outputs": [
    {
     "name": "stdout",
     "output_type": "stream",
     "text": [
      "Dự báo cho 60 ngày tiếp theo: [[0.13877996802330017], [0.13455830514431], [0.13124406337738037], [0.12961401045322418], [0.12616844475269318], [0.11496768891811371], [0.10474934428930283], [0.09851737320423126], [0.08887521922588348], [0.07879339903593063], [0.06932300329208374], [0.06244876608252525], [0.05331975966691971], [0.047281812876462936], [0.03709260746836662], [0.031197555363178253], [0.02232147380709648], [0.0163752268999815], [0.006648494396358728], [-0.0023338645696640015], [-0.010980560444295406], [-0.020594194531440735], [-0.02767118439078331], [-0.03784629702568054], [-0.046283844858407974], [-0.056222859770059586], [-0.06440886110067368], [-0.07201501727104187], [-0.0800030454993248], [-0.0878550261259079], [-0.09686506539583206], [-0.10218986123800278], [-0.10940956324338913], [-0.11792195588350296], [-0.12389656156301498], [-0.13018812239170074], [-0.13762062788009644], [-0.14553427696228027], [-0.15325883030891418], [-0.16278263926506042], [-0.17009574174880981], [-0.17598660290241241], [-0.18312503397464752], [-0.1898733675479889], [-0.19509553909301758], [-0.20017869770526886], [-0.20363451540470123], [-0.20943254232406616], [-0.21473518013954163], [-0.22000931203365326], [-0.22465120255947113], [-0.23038271069526672], [-0.2368365228176117], [-0.24182401597499847], [-0.24740682542324066], [-0.2517845332622528], [-0.2571317255496979], [-0.26219671964645386], [-0.2665451169013977], [-0.2700726091861725]]\n"
     ]
    }
   ],
   "source": [
    "# 15. In ra dự đoán cho 60 ngày tiếp theo\n",
    "print(\"Dự báo cho 60 ngày tiếp theo:\", forecast_60)"
   ]
  },
  {
   "cell_type": "code",
   "execution_count": 17,
   "id": "09bec281-2bd7-4939-9482-db139601dec3",
   "metadata": {
    "tags": []
   },
   "outputs": [
    {
     "name": "stdout",
     "output_type": "stream",
     "text": [
      "Dự báo cho 90 ngày tiếp theo: [[0.13877996802330017], [0.13455830514431], [0.13124406337738037], [0.12961401045322418], [0.12616844475269318], [0.11496768891811371], [0.10474934428930283], [0.09851737320423126], [0.08887521922588348], [0.07879339903593063], [0.06932300329208374], [0.06244876608252525], [0.05331975966691971], [0.047281812876462936], [0.03709260746836662], [0.031197555363178253], [0.02232147380709648], [0.0163752268999815], [0.006648494396358728], [-0.0023338645696640015], [-0.010980560444295406], [-0.020594194531440735], [-0.02767118439078331], [-0.03784629702568054], [-0.046283844858407974], [-0.056222859770059586], [-0.06440886110067368], [-0.07201501727104187], [-0.0800030454993248], [-0.0878550261259079], [-0.09686506539583206], [-0.10218986123800278], [-0.10940956324338913], [-0.11792195588350296], [-0.12389656156301498], [-0.13018812239170074], [-0.13762062788009644], [-0.14553427696228027], [-0.15325883030891418], [-0.16278263926506042], [-0.17009574174880981], [-0.17598660290241241], [-0.18312503397464752], [-0.1898733675479889], [-0.19509553909301758], [-0.20017869770526886], [-0.20363451540470123], [-0.20943254232406616], [-0.21473518013954163], [-0.22000931203365326], [-0.22465120255947113], [-0.23038271069526672], [-0.2368365228176117], [-0.24182401597499847], [-0.24740682542324066], [-0.2517845332622528], [-0.2571317255496979], [-0.26219671964645386], [-0.2665451169013977], [-0.2700726091861725], [-0.27321311831474304], [-0.27760544419288635], [-0.28123825788497925], [-0.28492555022239685], [-0.28842195868492126], [-0.29164430499076843], [-0.296213299036026], [-0.300430566072464], [-0.3047133684158325], [-0.3077171742916107], [-0.3119094967842102], [-0.315758615732193], [-0.3191259503364563], [-0.3220105469226837], [-0.3245106041431427], [-0.3268437087535858], [-0.32917895913124084], [-0.3310734033584595], [-0.33339235186576843], [-0.3354586362838745], [-0.33836743235588074], [-0.34062066674232483], [-0.3434664011001587], [-0.3460738956928253], [-0.34886837005615234], [-0.3517516553401947], [-0.35417667031288147], [-0.3563612103462219], [-0.35779911279678345], [-0.3597579896450043]]\n"
     ]
    }
   ],
   "source": [
    "# 15. In ra dự đoán cho 90 ngày tiếp theo\n",
    "print(\"Dự báo cho 90 ngày tiếp theo:\", forecast_90)"
   ]
  },
  {
   "cell_type": "code",
   "execution_count": 18,
   "id": "1a2ee735-ad92-4ff0-a51f-7fa1da4773fc",
   "metadata": {
    "tags": []
   },
   "outputs": [
    {
     "data": {
      "image/png": "[encoded data removed]",
      "text/plain": [
       "<Figure size 640x480 with 1 Axes>"
      ]
     },
     "metadata": {},
     "output_type": "display_data"
    }
   ],
   "source": [
    "# 16. Vẽ hình\n",
    "\n",
    "# Vẽ dữ liệu kiểm tra\n",
    "test_data_index = pd.RangeIndex(start=train_size, stop=train_size + test_size)\n",
    "plt.plot(test_data_index, scaler.inverse_transform(test_data), label='Test Data')\n",
    "\n",
    "# Vẽ dữ liệu dự đoán\n",
    "predicted_data_index = range(train_size + 100, train_size + 100 + len(y_pred))\n",
    "plt.plot(predicted_data_index, y_pred, label='Predicted Test Data')\n",
    "\n",
    "# Vẽ dự báo 90, 60, 30 ngày\n",
    "plt.plot(np.arange(train_size + len(test_data), train_size + len(test_data) + len(forecast_90)), scaler.inverse_transform(forecast_90), label='Forecast 90 days')\n",
    "plt.plot(np.arange(train_size + len(test_data), train_size + len(test_data) + len(forecast_60)), scaler.inverse_transform(forecast_60), label='Forecast 60 days')\n",
    "plt.plot(np.arange(train_size + len(test_data), train_size + len(test_data) + len(forecast_30)), scaler.inverse_transform(forecast_30), label='Forecast 30 days')\n",
    "\n",
    "plt.title('RNN - ADA Stock Price - Forecast 30, 60, 90 days')\n",
    "plt.legend()\n",
    "plt.xlabel('Day')\n",
    "plt.ylabel('Price')\n",
    "plt.show()"
   ]
  }
 ],
 "metadata": {
  "kernelspec": {
   "display_name": "Python 3 (ipykernel)",
   "language": "python",
   "name": "python3"
  },
  "language_info": {
   "codemirror_mode": {
    "name": "ipython",
    "version": 3
   },
   "file_extension": ".py",
   "mimetype": "text/x-python",
   "name": "python",
   "nbconvert_exporter": "python",
   "pygments_lexer": "ipython3",
   "version": "3.10.8"
  }
 },
 "nbformat": 4,
 "nbformat_minor": 5
}
