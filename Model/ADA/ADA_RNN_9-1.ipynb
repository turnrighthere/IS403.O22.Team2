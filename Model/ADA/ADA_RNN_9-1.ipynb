{
 "cells": [
  {
   "cell_type": "code",
   "execution_count": 1,
   "id": "26fdc348-5b74-4d88-a3dc-48da4d735e10",
   "metadata": {
    "tags": []
   },
   "outputs": [],
   "source": [
    "# 1. Import thư viện cần thiết\n",
    "import numpy as np\n",
    "import pandas as pd\n",
    "import matplotlib.pyplot as plt\n",
    "from sklearn.preprocessing import MinMaxScaler\n",
    "from keras.models import Sequential\n",
    "from keras.layers import Dense, SimpleRNN"
   ]
  },
  {
   "cell_type": "code",
   "execution_count": 2,
   "id": "a1081418-67c4-4366-9320-98d0255b8a87",
   "metadata": {
    "tags": []
   },
   "outputs": [
    {
     "name": "stdout",
     "output_type": "stream",
     "text": [
      "<class 'pandas.core.frame.DataFrame'>\n",
      "RangeIndex: 2285 entries, 0 to 2284\n",
      "Data columns (total 7 columns):\n",
      " #   Column     Non-Null Count  Dtype  \n",
      "---  ------     --------------  -----  \n",
      " 0   Date       2285 non-null   object \n",
      " 1   Open       2285 non-null   float64\n",
      " 2   High       2285 non-null   float64\n",
      " 3   Low        2285 non-null   float64\n",
      " 4   Price      2285 non-null   float64\n",
      " 5   Adj Close  2285 non-null   float64\n",
      " 6   Volume     2285 non-null   int64  \n",
      "dtypes: float64(5), int64(1), object(1)\n",
      "memory usage: 125.1+ KB\n"
     ]
    }
   ],
   "source": [
    "# 2. Đọc file csv và gắn index với giá Price\n",
    "df = pd.read_csv('pre_ADA-USD.csv')\n",
    "df = df.rename(columns={'Close': 'Price'})\n",
    "df1 = df.reset_index()['Price']\n",
    "df.info()"
   ]
  },
  {
   "cell_type": "code",
   "execution_count": 3,
   "id": "60ab42f9-e719-4186-ada8-ba47f31ad5a7",
   "metadata": {
    "tags": []
   },
   "outputs": [],
   "source": [
    "# 3. Scaler data\n",
    "scaler = MinMaxScaler(feature_range=(0, 1))\n",
    "df1 = scaler.fit_transform(np.array(df1).reshape(-1, 1))"
   ]
  },
  {
   "cell_type": "code",
   "execution_count": 4,
   "id": "5cc5eeb5-d78f-4ef1-87eb-4359c768e0d6",
   "metadata": {
    "tags": []
   },
   "outputs": [
    {
     "name": "stdout",
     "output_type": "stream",
     "text": [
      "Train shape: (2056, 1)\n",
      "Test shape: (229, 1)\n"
     ]
    }
   ],
   "source": [
    "# 4. Chia train test 9 - 1\n",
    "train_size = int(0.9 * len(df1))\n",
    "test_size = len(df1) - train_size\n",
    "\n",
    "# Lấy dữ liệu train và test\n",
    "train_data = df1[:train_size]\n",
    "test_data = df1[train_size:]\n",
    "\n",
    "print(\"Train shape:\", train_data.shape)\n",
    "print(\"Test shape:\", test_data.shape)"
   ]
  },
  {
   "cell_type": "code",
   "execution_count": 5,
   "id": "f9148ab3-7d6f-4b1f-ab40-c832747c52be",
   "metadata": {
    "tags": []
   },
   "outputs": [],
   "source": [
    "# 5. Hàm Create Dataset\n",
    "import numpy\n",
    "# convert an array of values into a dataset matrix\n",
    "def create_dataset(dataset, time_step=1):\n",
    "\tdataX, dataY = [], []\n",
    "\tfor i in range(len(dataset)-time_step-1):\n",
    "\t\ta = dataset[i:(i+time_step), 0]   ###i=0, X=0,1,2,3-----99   Y=100 \n",
    "\t\tdataX.append(a)\n",
    "\t\tdataY.append(dataset[i + time_step, 0])\n",
    "\treturn numpy.array(dataX), numpy.array(dataY)"
   ]
  },
  {
   "cell_type": "code",
   "execution_count": 6,
   "id": "72cc4c30-465a-4cab-8356-3baef4e1fa61",
   "metadata": {
    "tags": []
   },
   "outputs": [],
   "source": [
    "# 6. Reshape into X=t,t+1,t+2..t+99 and Y=t+100\n",
    "time_step = 100\n",
    "X_train, y_train = create_dataset(train_data, time_step)\n",
    "combined_data = np.concatenate((train_data[-time_step:], test_data))\n",
    "X_test, ytest = create_dataset(combined_data, time_step)"
   ]
  },
  {
   "cell_type": "code",
   "execution_count": 7,
   "id": "ea53b5fc-9693-41c0-94d4-433f02119225",
   "metadata": {
    "tags": []
   },
   "outputs": [],
   "source": [
    "# 7. Reshape input to be [samples, time steps, features] which is required for LSTM\n",
    "X_train = X_train.reshape(X_train.shape[0], X_train.shape[1], 1)\n",
    "X_test = X_test.reshape(X_test.shape[0], X_test.shape[1], 1)"
   ]
  },
  {
   "cell_type": "code",
   "execution_count": 8,
   "id": "15bfe900-abe3-40da-8cba-618fcf530d43",
   "metadata": {
    "tags": []
   },
   "outputs": [],
   "source": [
    "# 8. Define RNN Model\n",
    "model = Sequential()\n",
    "model.add(SimpleRNN(50, input_shape=(time_step, 1)))\n",
    "model.add(Dense(1))\n",
    "model.compile(loss='mean_squared_error', optimizer='adam')"
   ]
  },
  {
   "cell_type": "code",
   "execution_count": 9,
   "id": "cc691626-b5f4-467f-a47b-0c07f204f045",
   "metadata": {
    "tags": []
   },
   "outputs": [
    {
     "name": "stdout",
     "output_type": "stream",
     "text": [
      "Epoch 1/100\n",
      "31/31 [==============================] - 2s 29ms/step - loss: 0.0046 - val_loss: 4.8548e-04\n",
      "Epoch 2/100\n",
      "31/31 [==============================] - 1s 19ms/step - loss: 7.9168e-04 - val_loss: 3.0872e-04\n",
      "Epoch 3/100\n",
      "31/31 [==============================] - 1s 18ms/step - loss: 6.5196e-04 - val_loss: 2.9813e-04\n",
      "Epoch 4/100\n",
      "31/31 [==============================] - 0s 15ms/step - loss: 5.7626e-04 - val_loss: 2.5701e-04\n",
      "Epoch 5/100\n",
      "31/31 [==============================] - 0s 15ms/step - loss: 5.2874e-04 - val_loss: 2.9105e-04\n",
      "Epoch 6/100\n",
      "31/31 [==============================] - 1s 18ms/step - loss: 4.8101e-04 - val_loss: 1.7514e-04\n",
      "Epoch 7/100\n",
      "31/31 [==============================] - 1s 17ms/step - loss: 4.4419e-04 - val_loss: 4.0045e-04\n",
      "Epoch 8/100\n",
      "31/31 [==============================] - 1s 18ms/step - loss: 4.6044e-04 - val_loss: 1.4613e-04\n",
      "Epoch 9/100\n",
      "31/31 [==============================] - 1s 16ms/step - loss: 3.7518e-04 - val_loss: 1.6415e-04\n",
      "Epoch 10/100\n",
      "31/31 [==============================] - 1s 19ms/step - loss: 3.4997e-04 - val_loss: 1.2294e-04\n",
      "Epoch 11/100\n",
      "31/31 [==============================] - 1s 16ms/step - loss: 3.4667e-04 - val_loss: 1.6705e-04\n",
      "Epoch 12/100\n",
      "31/31 [==============================] - 1s 17ms/step - loss: 3.5743e-04 - val_loss: 1.6225e-04\n",
      "Epoch 13/100\n",
      "31/31 [==============================] - 1s 16ms/step - loss: 3.4524e-04 - val_loss: 1.9100e-04\n",
      "Epoch 14/100\n",
      "31/31 [==============================] - 1s 18ms/step - loss: 3.3049e-04 - val_loss: 1.5618e-04\n",
      "Epoch 15/100\n",
      "31/31 [==============================] - 1s 18ms/step - loss: 3.4144e-04 - val_loss: 1.1124e-04\n",
      "Epoch 16/100\n",
      "31/31 [==============================] - 1s 18ms/step - loss: 2.9713e-04 - val_loss: 1.0611e-04\n",
      "Epoch 17/100\n",
      "31/31 [==============================] - 1s 18ms/step - loss: 3.1498e-04 - val_loss: 1.3579e-04\n",
      "Epoch 18/100\n",
      "31/31 [==============================] - 1s 17ms/step - loss: 2.9609e-04 - val_loss: 1.1016e-04\n",
      "Epoch 19/100\n",
      "31/31 [==============================] - 0s 16ms/step - loss: 3.1328e-04 - val_loss: 1.0976e-04\n",
      "Epoch 20/100\n",
      "31/31 [==============================] - 1s 24ms/step - loss: 2.8272e-04 - val_loss: 1.3544e-04\n",
      "Epoch 21/100\n",
      "31/31 [==============================] - 1s 24ms/step - loss: 2.8140e-04 - val_loss: 9.9494e-05\n",
      "Epoch 22/100\n",
      "31/31 [==============================] - 1s 19ms/step - loss: 2.7021e-04 - val_loss: 9.6699e-05\n",
      "Epoch 23/100\n",
      "31/31 [==============================] - 0s 16ms/step - loss: 2.7527e-04 - val_loss: 1.1902e-04\n",
      "Epoch 24/100\n",
      "31/31 [==============================] - 0s 16ms/step - loss: 2.7168e-04 - val_loss: 1.1069e-04\n",
      "Epoch 25/100\n",
      "31/31 [==============================] - 1s 18ms/step - loss: 2.6968e-04 - val_loss: 1.5015e-04\n",
      "Epoch 26/100\n",
      "31/31 [==============================] - 1s 25ms/step - loss: 2.8335e-04 - val_loss: 1.0669e-04\n",
      "Epoch 27/100\n",
      "31/31 [==============================] - 0s 14ms/step - loss: 3.0196e-04 - val_loss: 1.0688e-04\n",
      "Epoch 28/100\n",
      "31/31 [==============================] - 0s 15ms/step - loss: 2.9511e-04 - val_loss: 1.0566e-04\n",
      "Epoch 29/100\n",
      "31/31 [==============================] - 0s 15ms/step - loss: 2.8554e-04 - val_loss: 9.6496e-05\n",
      "Epoch 30/100\n",
      "31/31 [==============================] - 0s 15ms/step - loss: 2.6981e-04 - val_loss: 9.6540e-05\n",
      "Epoch 31/100\n",
      "31/31 [==============================] - 0s 16ms/step - loss: 2.4724e-04 - val_loss: 8.6497e-05\n",
      "Epoch 32/100\n",
      "31/31 [==============================] - 1s 18ms/step - loss: 2.5942e-04 - val_loss: 9.1633e-05\n",
      "Epoch 33/100\n",
      "31/31 [==============================] - 0s 16ms/step - loss: 2.4769e-04 - val_loss: 1.1700e-04\n",
      "Epoch 34/100\n",
      "31/31 [==============================] - 0s 16ms/step - loss: 2.5471e-04 - val_loss: 9.5456e-05\n",
      "Epoch 35/100\n",
      "31/31 [==============================] - 0s 15ms/step - loss: 2.5088e-04 - val_loss: 1.3230e-04\n",
      "Epoch 36/100\n",
      "31/31 [==============================] - 0s 15ms/step - loss: 2.5668e-04 - val_loss: 1.0601e-04\n",
      "Epoch 37/100\n",
      "31/31 [==============================] - 0s 14ms/step - loss: 2.3790e-04 - val_loss: 8.2719e-05\n",
      "Epoch 38/100\n",
      "31/31 [==============================] - 0s 15ms/step - loss: 2.5998e-04 - val_loss: 8.3441e-05\n",
      "Epoch 39/100\n",
      "31/31 [==============================] - 0s 15ms/step - loss: 2.3603e-04 - val_loss: 8.4204e-05\n",
      "Epoch 40/100\n",
      "31/31 [==============================] - 1s 19ms/step - loss: 2.3690e-04 - val_loss: 8.3982e-05\n",
      "Epoch 41/100\n",
      "31/31 [==============================] - 0s 15ms/step - loss: 2.4389e-04 - val_loss: 8.4617e-05\n",
      "Epoch 42/100\n",
      "31/31 [==============================] - 0s 15ms/step - loss: 2.5036e-04 - val_loss: 8.6114e-05\n",
      "Epoch 43/100\n",
      "31/31 [==============================] - 1s 17ms/step - loss: 2.3843e-04 - val_loss: 8.1120e-05\n",
      "Epoch 44/100\n",
      "31/31 [==============================] - 1s 18ms/step - loss: 2.3741e-04 - val_loss: 8.4419e-05\n",
      "Epoch 45/100\n",
      "31/31 [==============================] - 0s 16ms/step - loss: 2.4270e-04 - val_loss: 8.1080e-05\n",
      "Epoch 46/100\n",
      "31/31 [==============================] - 0s 16ms/step - loss: 2.4496e-04 - val_loss: 8.5619e-05\n",
      "Epoch 47/100\n",
      "31/31 [==============================] - 0s 16ms/step - loss: 2.4413e-04 - val_loss: 9.1221e-05\n",
      "Epoch 48/100\n",
      "31/31 [==============================] - 0s 15ms/step - loss: 2.4696e-04 - val_loss: 8.9057e-05\n",
      "Epoch 49/100\n",
      "31/31 [==============================] - 1s 16ms/step - loss: 2.5436e-04 - val_loss: 8.3447e-05\n",
      "Epoch 50/100\n",
      "31/31 [==============================] - 1s 18ms/step - loss: 2.4372e-04 - val_loss: 8.6237e-05\n",
      "Epoch 51/100\n",
      "31/31 [==============================] - 0s 16ms/step - loss: 2.4041e-04 - val_loss: 1.3019e-04\n",
      "Epoch 52/100\n",
      "31/31 [==============================] - 0s 16ms/step - loss: 2.4936e-04 - val_loss: 9.5301e-05\n",
      "Epoch 53/100\n",
      "31/31 [==============================] - 0s 15ms/step - loss: 2.3316e-04 - val_loss: 9.0547e-05\n",
      "Epoch 54/100\n",
      "31/31 [==============================] - 0s 16ms/step - loss: 2.2945e-04 - val_loss: 9.8246e-05\n",
      "Epoch 55/100\n",
      "31/31 [==============================] - 0s 16ms/step - loss: 2.3107e-04 - val_loss: 9.1309e-05\n",
      "Epoch 56/100\n",
      "31/31 [==============================] - 1s 17ms/step - loss: 2.4093e-04 - val_loss: 8.1976e-05\n",
      "Epoch 57/100\n",
      "31/31 [==============================] - 0s 15ms/step - loss: 2.3499e-04 - val_loss: 8.1313e-05\n",
      "Epoch 58/100\n",
      "31/31 [==============================] - 0s 15ms/step - loss: 2.2437e-04 - val_loss: 7.8821e-05\n",
      "Epoch 59/100\n",
      "31/31 [==============================] - 1s 18ms/step - loss: 2.2833e-04 - val_loss: 8.8367e-05\n",
      "Epoch 60/100\n",
      "31/31 [==============================] - 1s 20ms/step - loss: 2.3842e-04 - val_loss: 1.1059e-04\n",
      "Epoch 61/100\n",
      "31/31 [==============================] - 0s 16ms/step - loss: 2.4029e-04 - val_loss: 8.3213e-05\n",
      "Epoch 62/100\n",
      "31/31 [==============================] - 0s 15ms/step - loss: 2.4185e-04 - val_loss: 7.5057e-05\n",
      "Epoch 63/100\n",
      "31/31 [==============================] - 1s 18ms/step - loss: 2.4224e-04 - val_loss: 1.2767e-04\n",
      "Epoch 64/100\n",
      "31/31 [==============================] - 1s 18ms/step - loss: 2.3609e-04 - val_loss: 7.8075e-05\n",
      "Epoch 65/100\n",
      "31/31 [==============================] - 1s 18ms/step - loss: 2.2925e-04 - val_loss: 9.2082e-05\n",
      "Epoch 66/100\n",
      "31/31 [==============================] - 1s 18ms/step - loss: 2.2921e-04 - val_loss: 9.3239e-05\n",
      "Epoch 67/100\n",
      "31/31 [==============================] - 1s 18ms/step - loss: 2.7623e-04 - val_loss: 7.6789e-05\n",
      "Epoch 68/100\n",
      "31/31 [==============================] - 1s 17ms/step - loss: 2.4771e-04 - val_loss: 8.4934e-05\n",
      "Epoch 69/100\n",
      "31/31 [==============================] - 0s 15ms/step - loss: 2.3245e-04 - val_loss: 7.7681e-05\n",
      "Epoch 70/100\n",
      "31/31 [==============================] - 1s 16ms/step - loss: 2.2951e-04 - val_loss: 7.7821e-05\n",
      "Epoch 71/100\n",
      "31/31 [==============================] - 0s 15ms/step - loss: 2.4478e-04 - val_loss: 8.1274e-05\n",
      "Epoch 72/100\n",
      "31/31 [==============================] - 0s 16ms/step - loss: 2.5155e-04 - val_loss: 7.4273e-05\n",
      "Epoch 73/100\n",
      "31/31 [==============================] - 0s 15ms/step - loss: 2.2799e-04 - val_loss: 1.0660e-04\n",
      "Epoch 74/100\n",
      "31/31 [==============================] - 1s 17ms/step - loss: 2.3744e-04 - val_loss: 7.5078e-05\n",
      "Epoch 75/100\n",
      "31/31 [==============================] - 1s 17ms/step - loss: 2.4560e-04 - val_loss: 7.8221e-05\n",
      "Epoch 76/100\n",
      "31/31 [==============================] - 1s 17ms/step - loss: 2.2755e-04 - val_loss: 7.8803e-05\n",
      "Epoch 77/100\n",
      "31/31 [==============================] - 1s 18ms/step - loss: 2.3176e-04 - val_loss: 7.8979e-05\n",
      "Epoch 78/100\n",
      "31/31 [==============================] - 0s 16ms/step - loss: 2.3546e-04 - val_loss: 1.1709e-04\n",
      "Epoch 79/100\n",
      "31/31 [==============================] - 1s 25ms/step - loss: 2.4134e-04 - val_loss: 7.4449e-05\n",
      "Epoch 80/100\n",
      "31/31 [==============================] - 1s 17ms/step - loss: 2.2954e-04 - val_loss: 8.0584e-05\n",
      "Epoch 81/100\n",
      "31/31 [==============================] - 0s 15ms/step - loss: 2.1834e-04 - val_loss: 8.5207e-05\n",
      "Epoch 82/100\n",
      "31/31 [==============================] - 1s 17ms/step - loss: 2.5135e-04 - val_loss: 7.5923e-05\n",
      "Epoch 83/100\n",
      "31/31 [==============================] - 1s 17ms/step - loss: 2.2899e-04 - val_loss: 7.6254e-05\n",
      "Epoch 84/100\n",
      "31/31 [==============================] - 1s 19ms/step - loss: 2.5064e-04 - val_loss: 1.6241e-04\n",
      "Epoch 85/100\n",
      "31/31 [==============================] - 1s 17ms/step - loss: 2.3894e-04 - val_loss: 7.3805e-05\n",
      "Epoch 86/100\n",
      "31/31 [==============================] - 1s 17ms/step - loss: 2.4197e-04 - val_loss: 7.6359e-05\n",
      "Epoch 87/100\n",
      "31/31 [==============================] - 1s 17ms/step - loss: 2.2984e-04 - val_loss: 8.1475e-05\n",
      "Epoch 88/100\n",
      "31/31 [==============================] - 1s 18ms/step - loss: 2.2381e-04 - val_loss: 7.5705e-05\n",
      "Epoch 89/100\n",
      "31/31 [==============================] - 0s 15ms/step - loss: 2.2611e-04 - val_loss: 7.4464e-05\n",
      "Epoch 90/100\n",
      "31/31 [==============================] - 1s 19ms/step - loss: 2.2670e-04 - val_loss: 7.8680e-05\n",
      "Epoch 91/100\n",
      "31/31 [==============================] - 0s 15ms/step - loss: 2.2773e-04 - val_loss: 1.1070e-04\n",
      "Epoch 92/100\n",
      "31/31 [==============================] - 0s 15ms/step - loss: 2.8769e-04 - val_loss: 7.4600e-05\n",
      "Epoch 93/100\n",
      "31/31 [==============================] - 0s 16ms/step - loss: 2.2686e-04 - val_loss: 7.6604e-05\n",
      "Epoch 94/100\n",
      "31/31 [==============================] - 0s 16ms/step - loss: 2.2500e-04 - val_loss: 7.6046e-05\n",
      "Epoch 95/100\n",
      "31/31 [==============================] - 1s 16ms/step - loss: 2.2489e-04 - val_loss: 8.5547e-05\n",
      "Epoch 96/100\n",
      "31/31 [==============================] - 1s 19ms/step - loss: 2.3699e-04 - val_loss: 7.7756e-05\n",
      "Epoch 97/100\n",
      "31/31 [==============================] - 0s 15ms/step - loss: 2.3026e-04 - val_loss: 7.5782e-05\n",
      "Epoch 98/100\n",
      "31/31 [==============================] - 1s 18ms/step - loss: 2.2612e-04 - val_loss: 7.9106e-05\n",
      "Epoch 99/100\n",
      "31/31 [==============================] - 0s 16ms/step - loss: 2.3793e-04 - val_loss: 1.0083e-04\n",
      "Epoch 100/100\n",
      "31/31 [==============================] - 1s 18ms/step - loss: 2.3599e-04 - val_loss: 8.7722e-05\n"
     ]
    },
    {
     "data": {
      "text/plain": [
       "<keras.callbacks.History at 0x2905f84ec20>"
      ]
     },
     "execution_count": 9,
     "metadata": {},
     "output_type": "execute_result"
    }
   ],
   "source": [
    "# 9. Fit mô hình với dữ liệu train\n",
    "model.fit(X_train, y_train, validation_data=(X_test, ytest), epochs=100, batch_size=64, verbose=1)"
   ]
  },
  {
   "cell_type": "code",
   "execution_count": 10,
   "id": "c55c37b5-5b6b-4482-8ef1-63d82cd60fae",
   "metadata": {
    "tags": []
   },
   "outputs": [
    {
     "name": "stdout",
     "output_type": "stream",
     "text": [
      "62/62 [==============================] - 1s 5ms/step\n",
      "8/8 [==============================] - 0s 6ms/step\n"
     ]
    }
   ],
   "source": [
    "# 10. Dự báo dữ liệu test\n",
    "train_predict = model.predict(X_train)\n",
    "y_pred = model.predict(X_test)"
   ]
  },
  {
   "cell_type": "code",
   "execution_count": 11,
   "id": "e1ef089c-abd2-4072-9177-25ff22485fa8",
   "metadata": {
    "tags": []
   },
   "outputs": [],
   "source": [
    "# 11. Chuẩn hóa dữ liệu y_pred\n",
    "train_predict = scaler.inverse_transform(train_predict)\n",
    "y_pred = scaler.inverse_transform(y_pred)"
   ]
  },
  {
   "cell_type": "code",
   "execution_count": 12,
   "id": "6c14ba0c-354e-4514-a7ed-98b43cbcc1f9",
   "metadata": {
    "tags": []
   },
   "outputs": [
    {
     "name": "stdout",
     "output_type": "stream",
     "text": [
      "Mean Absolute Error (MAE): 0.3563206969900811\n",
      "Mean Absolute Percentage Error (MAPE): 217.07524189611237\n",
      "Root Mean Square Error (RMSE): 0.3658559515028183\n"
     ]
    }
   ],
   "source": [
    "# 12. Tính RMSE, MAPE, MAE\n",
    "from sklearn.metrics import mean_absolute_error, mean_squared_error, mean_absolute_percentage_error\n",
    "\n",
    "mae = mean_absolute_error(ytest, y_pred)\n",
    "mape = mean_absolute_percentage_error(ytest, y_pred)\n",
    "rmse = np.sqrt(mean_squared_error(ytest, y_pred))\n",
    "\n",
    "print(\"Mean Absolute Error (MAE):\", mae)\n",
    "print(\"Mean Absolute Percentage Error (MAPE):\", mape * 100)\n",
    "print(\"Root Mean Square Error (RMSE):\", rmse)"
   ]
  },
  {
   "cell_type": "code",
   "execution_count": 13,
   "id": "a858ddd6-d663-47e2-b024-95e269c52c71",
   "metadata": {
    "tags": []
   },
   "outputs": [],
   "source": [
    "# 13. Hàm dự báo\n",
    "def forecast_days(n_days):\n",
    "    x_input = test_data[-100:].reshape(1, -1)\n",
    "    temp_input = list(x_input[0])\n",
    "\n",
    "    lst_output = []\n",
    "    i = 0\n",
    "    while i < n_days:\n",
    "        if len(temp_input) > 100:\n",
    "            x_input = np.array(temp_input[1:])\n",
    "            x_input = x_input.reshape(1, -1)\n",
    "            x_input = x_input.reshape((1, time_step, 1))\n",
    "            yhat = model.predict(x_input, verbose=0)\n",
    "            temp_input.extend(yhat[0].tolist())\n",
    "            temp_input = temp_input[1:]\n",
    "            lst_output.extend(yhat.tolist())\n",
    "            i += 1\n",
    "        else:\n",
    "            x_input = x_input.reshape((1, time_step, 1))\n",
    "            yhat = model.predict(x_input, verbose=0)\n",
    "            temp_input.extend(yhat[0].tolist())\n",
    "            lst_output.extend(yhat.tolist())\n",
    "            i += 1\n",
    "    return lst_output"
   ]
  },
  {
   "cell_type": "code",
   "execution_count": 14,
   "id": "a3f20539-86f3-4c0d-ac02-6d3159836533",
   "metadata": {
    "tags": []
   },
   "outputs": [],
   "source": [
    "# 14. Dự báo 30, 60, 90 ngày tiếp theo\n",
    "forecast_30 = forecast_days(30)\n",
    "forecast_60 = forecast_days(60)\n",
    "forecast_90 = forecast_days(90)"
   ]
  },
  {
   "cell_type": "code",
   "execution_count": 15,
   "id": "e3ed23dc-59fe-4c17-aed7-762004a4dc86",
   "metadata": {
    "tags": []
   },
   "outputs": [
    {
     "name": "stdout",
     "output_type": "stream",
     "text": [
      "Dự báo cho 30 ngày tiếp theo: [[0.14913971722126007], [0.1541573852300644], [0.16000248491764069], [0.16495202481746674], [0.17023876309394836], [0.17235545814037323], [0.17450006306171417], [0.17460709810256958], [0.175120547413826], [0.17818494141101837], [0.18309302628040314], [0.19126437604427338], [0.1989976465702057], [0.20506598055362701], [0.20847384631633759], [0.21587048470973969], [0.2192012220621109], [0.22494472563266754], [0.22697946429252625], [0.22949077188968658], [0.2328455001115799], [0.23775385320186615], [0.24532532691955566], [0.2513424754142761], [0.2583608031272888], [0.2621435821056366], [0.2671017646789551], [0.2736959755420685], [0.27854734659194946], [0.2855859696865082]]\n"
     ]
    }
   ],
   "source": [
    "# 15. In ra dự đoán cho 30 ngày tiếp theo\n",
    "print(\"Dự báo cho 30 ngày tiếp theo:\", forecast_30)"
   ]
  },
  {
   "cell_type": "code",
   "execution_count": 16,
   "id": "fbbbde1a-59a7-40bd-a4f7-cf5d05e1cda2",
   "metadata": {
    "tags": []
   },
   "outputs": [
    {
     "name": "stdout",
     "output_type": "stream",
     "text": [
      "Dự báo cho 60 ngày tiếp theo: [[0.14913971722126007], [0.1541573852300644], [0.16000248491764069], [0.16495202481746674], [0.17023876309394836], [0.17235545814037323], [0.17450006306171417], [0.17460709810256958], [0.175120547413826], [0.17818494141101837], [0.18309302628040314], [0.19126437604427338], [0.1989976465702057], [0.20506598055362701], [0.20847384631633759], [0.21587048470973969], [0.2192012220621109], [0.22494472563266754], [0.22697946429252625], [0.22949077188968658], [0.2328455001115799], [0.23775385320186615], [0.24532532691955566], [0.2513424754142761], [0.2583608031272888], [0.2621435821056366], [0.2671017646789551], [0.2736959755420685], [0.27854734659194946], [0.2855859696865082], [0.29049864411354065], [0.29542338848114014], [0.3007275462150574], [0.3074231445789337], [0.3149479329586029], [0.3224605917930603], [0.32783305644989014], [0.33297595381736755], [0.3374687135219574], [0.34233421087265015], [0.34917792677879333], [0.35515183210372925], [0.3618850111961365], [0.36745843291282654], [0.3740924000740051], [0.3812545835971832], [0.3878720700740814], [0.39360925555229187], [0.3983808159828186], [0.4024253785610199], [0.40730971097946167], [0.4138927459716797], [0.4212647080421448], [0.42811667919158936], [0.434365451335907], [0.43979236483573914], [0.445315957069397], [0.4508565366268158], [0.45644673705101013], [0.4618729054927826]]\n"
     ]
    }
   ],
   "source": [
    "# 15. In ra dự đoán cho 60 ngày tiếp theo\n",
    "print(\"Dự báo cho 60 ngày tiếp theo:\", forecast_60)"
   ]
  },
  {
   "cell_type": "code",
   "execution_count": 17,
   "id": "09bec281-2bd7-4939-9482-db139601dec3",
   "metadata": {
    "tags": []
   },
   "outputs": [
    {
     "name": "stdout",
     "output_type": "stream",
     "text": [
      "Dự báo cho 90 ngày tiếp theo: [[0.14913971722126007], [0.1541573852300644], [0.16000248491764069], [0.16495202481746674], [0.17023876309394836], [0.17235545814037323], [0.17450006306171417], [0.17460709810256958], [0.175120547413826], [0.17818494141101837], [0.18309302628040314], [0.19126437604427338], [0.1989976465702057], [0.20506598055362701], [0.20847384631633759], [0.21587048470973969], [0.2192012220621109], [0.22494472563266754], [0.22697946429252625], [0.22949077188968658], [0.2328455001115799], [0.23775385320186615], [0.24532532691955566], [0.2513424754142761], [0.2583608031272888], [0.2621435821056366], [0.2671017646789551], [0.2736959755420685], [0.27854734659194946], [0.2855859696865082], [0.29049864411354065], [0.29542338848114014], [0.3007275462150574], [0.3074231445789337], [0.3149479329586029], [0.3224605917930603], [0.32783305644989014], [0.33297595381736755], [0.3374687135219574], [0.34233421087265015], [0.34917792677879333], [0.35515183210372925], [0.3618850111961365], [0.36745843291282654], [0.3740924000740051], [0.3812545835971832], [0.3878720700740814], [0.39360925555229187], [0.3983808159828186], [0.4024253785610199], [0.40730971097946167], [0.4138927459716797], [0.4212647080421448], [0.42811667919158936], [0.434365451335907], [0.43979236483573914], [0.445315957069397], [0.4508565366268158], [0.45644673705101013], [0.4618729054927826], [0.46711263060569763], [0.47253522276878357], [0.47858256101608276], [0.48474958539009094], [0.4908648729324341], [0.4960238039493561], [0.5007789731025696], [0.5051996111869812], [0.5105777978897095], [0.516674280166626], [0.5226750373840332], [0.5282850861549377], [0.5331993699073792], [0.537779688835144], [0.5424214005470276], [0.5473507046699524], [0.5521723628044128], [0.556995153427124], [0.5613272786140442], [0.5664836764335632], [0.5715916752815247], [0.5768011212348938], [0.5816606879234314], [0.5858439803123474], [0.5898994207382202], [0.593842089176178], [0.5982681512832642], [0.6027635931968689], [0.6071590185165405], [0.611100971698761]]\n"
     ]
    }
   ],
   "source": [
    "# 15. In ra dự đoán cho 90 ngày tiếp theo\n",
    "print(\"Dự báo cho 90 ngày tiếp theo:\", forecast_90)"
   ]
  },
  {
   "cell_type": "code",
   "execution_count": 18,
   "id": "1a2ee735-ad92-4ff0-a51f-7fa1da4773fc",
   "metadata": {
    "tags": []
   },
   "outputs": [
    {
     "data": {
      "image/png": "[encoded data removed]",
      "text/plain": [
       "<Figure size 640x480 with 1 Axes>"
      ]
     },
     "metadata": {},
     "output_type": "display_data"
    }
   ],
   "source": [
    "# 16. Vẽ hình\n",
    "\n",
    "# Vẽ dữ liệu kiểm tra\n",
    "test_data_index = pd.RangeIndex(start=train_size, stop=train_size + test_size)\n",
    "plt.plot(test_data_index, scaler.inverse_transform(test_data), label='Test Data')\n",
    "\n",
    "# Vẽ dữ liệu dự đoán\n",
    "plt.plot(np.arange(train_size, train_size + len(y_pred)), y_pred, label='Predicted')\n",
    "\n",
    "# Vẽ dự báo 90, 60, 30 ngày\n",
    "plt.plot(np.arange(train_size + len(test_data), train_size + len(test_data) + len(forecast_90)), scaler.inverse_transform(forecast_90), label='Forecast 90 days')\n",
    "plt.plot(np.arange(train_size + len(test_data), train_size + len(test_data) + len(forecast_60)), scaler.inverse_transform(forecast_60), label='Forecast 60 days')\n",
    "plt.plot(np.arange(train_size + len(test_data), train_size + len(test_data) + len(forecast_30)), scaler.inverse_transform(forecast_30), label='Forecast 30 days')\n",
    "\n",
    "plt.title('RNN - ADA Stock Price - Forecast 30, 60, 90 days')\n",
    "plt.legend()\n",
    "plt.xlabel('Day')\n",
    "plt.ylabel('Price')\n",
    "plt.show()"
   ]
  }
 ],
 "metadata": {
  "kernelspec": {
   "display_name": "Python 3 (ipykernel)",
   "language": "python",
   "name": "python3"
  },
  "language_info": {
   "codemirror_mode": {
    "name": "ipython",
    "version": 3
   },
   "file_extension": ".py",
   "mimetype": "text/x-python",
   "name": "python",
   "nbconvert_exporter": "python",
   "pygments_lexer": "ipython3",
   "version": "3.10.8"
  }
 },
 "nbformat": 4,
 "nbformat_minor": 5
}
