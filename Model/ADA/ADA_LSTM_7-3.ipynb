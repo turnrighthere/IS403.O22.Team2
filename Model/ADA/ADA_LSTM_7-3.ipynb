{
 "cells": [
  {
   "cell_type": "code",
   "execution_count": 1,
   "id": "d6e03734-7a73-489d-9cdc-84acf78c00e5",
   "metadata": {
    "tags": []
   },
   "outputs": [],
   "source": [
    "# 1. Import thư viện cần thiết\n",
    "import numpy as np\n",
    "import pandas as pd\n",
    "import matplotlib.pyplot as plt\n",
    "from sklearn.preprocessing import MinMaxScaler\n",
    "from keras.models import Sequential\n",
    "from keras.layers import Dense, LSTM"
   ]
  },
  {
   "cell_type": "code",
   "execution_count": 2,
   "id": "07adbc1b-a1d2-41ba-b0a6-73848cc36a2e",
   "metadata": {
    "tags": []
   },
   "outputs": [
    {
     "name": "stdout",
     "output_type": "stream",
     "text": [
      "<class 'pandas.core.frame.DataFrame'>\n",
      "RangeIndex: 2285 entries, 0 to 2284\n",
      "Data columns (total 7 columns):\n",
      " #   Column     Non-Null Count  Dtype  \n",
      "---  ------     --------------  -----  \n",
      " 0   Date       2285 non-null   object \n",
      " 1   Open       2285 non-null   float64\n",
      " 2   High       2285 non-null   float64\n",
      " 3   Low        2285 non-null   float64\n",
      " 4   Price      2285 non-null   float64\n",
      " 5   Adj Close  2285 non-null   float64\n",
      " 6   Volume     2285 non-null   int64  \n",
      "dtypes: float64(5), int64(1), object(1)\n",
      "memory usage: 125.1+ KB\n"
     ]
    }
   ],
   "source": [
    "# 2. Đọc file csv và gắn index với giá Price\n",
    "df = pd.read_csv('pre_ADA-USD.csv')\n",
    "df = df.rename(columns={'Close': 'Price'})\n",
    "df1 = df.reset_index()['Price']\n",
    "df.info()"
   ]
  },
  {
   "cell_type": "code",
   "execution_count": 3,
   "id": "823c305d-3c3c-46d7-ab97-99ea957bb915",
   "metadata": {
    "tags": []
   },
   "outputs": [],
   "source": [
    "# 3. Scaler data\n",
    "scaler = MinMaxScaler(feature_range=(0, 1))\n",
    "df1 = scaler.fit_transform(np.array(df1).reshape(-1, 1))"
   ]
  },
  {
   "cell_type": "code",
   "execution_count": 4,
   "id": "3c933b12-160d-4589-bda4-f6e0541be771",
   "metadata": {
    "tags": []
   },
   "outputs": [
    {
     "name": "stdout",
     "output_type": "stream",
     "text": [
      "Train shape: (1599, 1)\n",
      "Test shape: (686, 1)\n"
     ]
    }
   ],
   "source": [
    "# 4. Chia train test 7 - 3\n",
    "train_size = int(0.7 * len(df1))\n",
    "test_size = len(df1) - train_size\n",
    "\n",
    "# Lấy dữ liệu train và test\n",
    "train_data = df1[:train_size]\n",
    "test_data = df1[train_size:]\n",
    "\n",
    "print(\"Train shape:\", train_data.shape)\n",
    "print(\"Test shape:\", test_data.shape)"
   ]
  },
  {
   "cell_type": "code",
   "execution_count": 5,
   "id": "86d16400-4b94-40f8-b6ec-13ca9fae2127",
   "metadata": {
    "tags": []
   },
   "outputs": [],
   "source": [
    "# 5. Hàm Create Dataset\n",
    "import numpy\n",
    "# convert an array of values into a dataset matrix\n",
    "def create_dataset(dataset, time_step=1):\n",
    "\tdataX, dataY = [], []\n",
    "\tfor i in range(len(dataset)-time_step-1):\n",
    "\t\ta = dataset[i:(i+time_step), 0]   ###i=0, X=0,1,2,3-----99   Y=100 \n",
    "\t\tdataX.append(a)\n",
    "\t\tdataY.append(dataset[i + time_step, 0])\n",
    "\treturn numpy.array(dataX), numpy.array(dataY)"
   ]
  },
  {
   "cell_type": "code",
   "execution_count": 6,
   "id": "139117ad-87be-44e9-b6ec-91bf365f7d9b",
   "metadata": {
    "tags": []
   },
   "outputs": [],
   "source": [
    "# 6. Reshape into X=t,t+1,t+2..t+99 and Y=t+100\n",
    "time_step = 100\n",
    "X_train, y_train = create_dataset(train_data, time_step)\n",
    "combined_data = np.concatenate((train_data[-time_step:], test_data))\n",
    "X_test, ytest = create_dataset(combined_data, time_step)"
   ]
  },
  {
   "cell_type": "code",
   "execution_count": 7,
   "id": "f60d12b6-f562-48b8-99a5-d59b670f42c2",
   "metadata": {
    "tags": []
   },
   "outputs": [],
   "source": [
    "# 7. Reshape input to be [samples, time steps, features] which is required for LSTM\n",
    "X_train = X_train.reshape(X_train.shape[0], X_train.shape[1], 1)\n",
    "X_test = X_test.reshape(X_test.shape[0], X_test.shape[1], 1)"
   ]
  },
  {
   "cell_type": "code",
   "execution_count": 8,
   "id": "db87fc59-fb90-4e96-8eb0-7c65084b8ff6",
   "metadata": {
    "tags": []
   },
   "outputs": [],
   "source": [
    "# 8. Define LSTM Model\n",
    "model = Sequential()\n",
    "model.add(LSTM(50, return_sequences=True, input_shape=(100, 1)))\n",
    "model.add(LSTM(50, return_sequences=True))\n",
    "model.add(LSTM(50))\n",
    "model.add(Dense(1))\n",
    "model.compile(loss='mean_squared_error', optimizer='adam')"
   ]
  },
  {
   "cell_type": "code",
   "execution_count": 9,
   "id": "7d438015-03ba-433f-9c89-4bf4f6680ffe",
   "metadata": {
    "tags": []
   },
   "outputs": [
    {
     "name": "stdout",
     "output_type": "stream",
     "text": [
      "Epoch 1/100\n",
      "24/24 [==============================] - 10s 220ms/step - loss: 0.0100 - val_loss: 5.9845e-04\n",
      "Epoch 2/100\n",
      "24/24 [==============================] - 4s 161ms/step - loss: 0.0024 - val_loss: 2.8883e-04\n",
      "Epoch 3/100\n",
      "24/24 [==============================] - 4s 166ms/step - loss: 0.0021 - val_loss: 3.1769e-04\n",
      "Epoch 4/100\n",
      "24/24 [==============================] - 4s 163ms/step - loss: 0.0016 - val_loss: 4.1095e-04\n",
      "Epoch 5/100\n",
      "24/24 [==============================] - 4s 161ms/step - loss: 0.0017 - val_loss: 2.0077e-04\n",
      "Epoch 6/100\n",
      "24/24 [==============================] - 4s 162ms/step - loss: 0.0014 - val_loss: 1.7114e-04\n",
      "Epoch 7/100\n",
      "24/24 [==============================] - 4s 164ms/step - loss: 0.0016 - val_loss: 7.2309e-04\n",
      "Epoch 8/100\n",
      "24/24 [==============================] - 4s 161ms/step - loss: 0.0014 - val_loss: 1.7156e-04\n",
      "Epoch 9/100\n",
      "24/24 [==============================] - 4s 163ms/step - loss: 0.0012 - val_loss: 1.5706e-04\n",
      "Epoch 10/100\n",
      "24/24 [==============================] - 4s 168ms/step - loss: 0.0012 - val_loss: 1.9962e-04\n",
      "Epoch 11/100\n",
      "24/24 [==============================] - 4s 162ms/step - loss: 0.0010 - val_loss: 2.4104e-04\n",
      "Epoch 12/100\n",
      "24/24 [==============================] - 4s 161ms/step - loss: 0.0010 - val_loss: 1.5678e-04\n",
      "Epoch 13/100\n",
      "24/24 [==============================] - 4s 160ms/step - loss: 9.6548e-04 - val_loss: 2.3457e-04\n",
      "Epoch 14/100\n",
      "24/24 [==============================] - 4s 169ms/step - loss: 9.9108e-04 - val_loss: 1.3166e-04\n",
      "Epoch 15/100\n",
      "24/24 [==============================] - 4s 159ms/step - loss: 9.6652e-04 - val_loss: 1.9878e-04\n",
      "Epoch 16/100\n",
      "24/24 [==============================] - 4s 159ms/step - loss: 0.0011 - val_loss: 2.1364e-04\n",
      "Epoch 17/100\n",
      "24/24 [==============================] - 4s 161ms/step - loss: 8.9238e-04 - val_loss: 1.4651e-04\n",
      "Epoch 18/100\n",
      "24/24 [==============================] - 4s 161ms/step - loss: 9.0031e-04 - val_loss: 1.2321e-04\n",
      "Epoch 19/100\n",
      "24/24 [==============================] - 4s 161ms/step - loss: 8.9225e-04 - val_loss: 2.3764e-04\n",
      "Epoch 20/100\n",
      "24/24 [==============================] - 4s 160ms/step - loss: 8.5625e-04 - val_loss: 1.2447e-04\n",
      "Epoch 21/100\n",
      "24/24 [==============================] - 4s 160ms/step - loss: 8.4762e-04 - val_loss: 1.1269e-04\n",
      "Epoch 22/100\n",
      "24/24 [==============================] - 4s 168ms/step - loss: 7.9565e-04 - val_loss: 1.5767e-04\n",
      "Epoch 23/100\n",
      "24/24 [==============================] - 4s 158ms/step - loss: 7.6583e-04 - val_loss: 1.2519e-04\n",
      "Epoch 24/100\n",
      "24/24 [==============================] - 4s 161ms/step - loss: 7.7038e-04 - val_loss: 1.5952e-04\n",
      "Epoch 25/100\n",
      "24/24 [==============================] - 4s 162ms/step - loss: 7.6335e-04 - val_loss: 1.1125e-04\n",
      "Epoch 26/100\n",
      "24/24 [==============================] - 4s 164ms/step - loss: 7.9711e-04 - val_loss: 1.4829e-04\n",
      "Epoch 27/100\n",
      "24/24 [==============================] - 4s 170ms/step - loss: 7.4123e-04 - val_loss: 1.0277e-04\n",
      "Epoch 28/100\n",
      "24/24 [==============================] - 4s 162ms/step - loss: 7.3377e-04 - val_loss: 1.3982e-04\n",
      "Epoch 29/100\n",
      "24/24 [==============================] - 4s 166ms/step - loss: 6.9004e-04 - val_loss: 9.8167e-05\n",
      "Epoch 30/100\n",
      "24/24 [==============================] - 4s 162ms/step - loss: 6.9872e-04 - val_loss: 1.7147e-04\n",
      "Epoch 31/100\n",
      "24/24 [==============================] - 4s 164ms/step - loss: 7.1400e-04 - val_loss: 1.0911e-04\n",
      "Epoch 32/100\n",
      "24/24 [==============================] - 4s 173ms/step - loss: 6.5423e-04 - val_loss: 1.0529e-04\n",
      "Epoch 33/100\n",
      "24/24 [==============================] - 4s 174ms/step - loss: 6.5714e-04 - val_loss: 1.0133e-04\n",
      "Epoch 34/100\n",
      "24/24 [==============================] - 4s 172ms/step - loss: 6.2787e-04 - val_loss: 1.1461e-04\n",
      "Epoch 35/100\n",
      "24/24 [==============================] - 4s 161ms/step - loss: 6.3620e-04 - val_loss: 8.4169e-05\n",
      "Epoch 36/100\n",
      "24/24 [==============================] - 4s 161ms/step - loss: 6.4260e-04 - val_loss: 8.6228e-05\n",
      "Epoch 37/100\n",
      "24/24 [==============================] - 4s 159ms/step - loss: 7.0807e-04 - val_loss: 2.9249e-04\n",
      "Epoch 38/100\n",
      "24/24 [==============================] - 4s 163ms/step - loss: 7.1665e-04 - val_loss: 9.4197e-05\n",
      "Epoch 39/100\n",
      "24/24 [==============================] - 4s 161ms/step - loss: 5.6318e-04 - val_loss: 1.4418e-04\n",
      "Epoch 40/100\n",
      "24/24 [==============================] - 4s 166ms/step - loss: 5.1813e-04 - val_loss: 7.5164e-05\n",
      "Epoch 41/100\n",
      "24/24 [==============================] - 4s 161ms/step - loss: 5.9011e-04 - val_loss: 1.3797e-04\n",
      "Epoch 42/100\n",
      "24/24 [==============================] - 4s 160ms/step - loss: 5.5690e-04 - val_loss: 7.6913e-05\n",
      "Epoch 43/100\n",
      "24/24 [==============================] - 4s 166ms/step - loss: 4.9281e-04 - val_loss: 8.4174e-05\n",
      "Epoch 44/100\n",
      "24/24 [==============================] - 4s 169ms/step - loss: 5.8746e-04 - val_loss: 1.2327e-04\n",
      "Epoch 45/100\n",
      "24/24 [==============================] - 4s 162ms/step - loss: 6.1763e-04 - val_loss: 1.1573e-04\n",
      "Epoch 46/100\n",
      "24/24 [==============================] - 4s 168ms/step - loss: 4.9260e-04 - val_loss: 8.1733e-05\n",
      "Epoch 47/100\n",
      "24/24 [==============================] - 4s 161ms/step - loss: 4.7564e-04 - val_loss: 6.3730e-05\n",
      "Epoch 48/100\n",
      "24/24 [==============================] - 4s 162ms/step - loss: 4.2547e-04 - val_loss: 7.7955e-05\n",
      "Epoch 49/100\n",
      "24/24 [==============================] - 4s 163ms/step - loss: 4.0878e-04 - val_loss: 6.7010e-05\n",
      "Epoch 50/100\n",
      "24/24 [==============================] - 4s 160ms/step - loss: 3.8928e-04 - val_loss: 5.6951e-05\n",
      "Epoch 51/100\n",
      "24/24 [==============================] - 4s 161ms/step - loss: 4.1164e-04 - val_loss: 7.1867e-05\n",
      "Epoch 52/100\n",
      "24/24 [==============================] - 4s 168ms/step - loss: 4.0926e-04 - val_loss: 9.2467e-05\n",
      "Epoch 53/100\n",
      "24/24 [==============================] - 4s 164ms/step - loss: 4.2636e-04 - val_loss: 7.0489e-05\n",
      "Epoch 54/100\n",
      "24/24 [==============================] - 4s 161ms/step - loss: 3.9488e-04 - val_loss: 7.3796e-05\n",
      "Epoch 55/100\n",
      "24/24 [==============================] - 4s 161ms/step - loss: 3.8794e-04 - val_loss: 5.2730e-05\n",
      "Epoch 56/100\n",
      "24/24 [==============================] - 4s 167ms/step - loss: 4.5358e-04 - val_loss: 1.2646e-04\n",
      "Epoch 57/100\n",
      "24/24 [==============================] - 4s 162ms/step - loss: 4.8425e-04 - val_loss: 5.5417e-05\n",
      "Epoch 58/100\n",
      "24/24 [==============================] - 4s 161ms/step - loss: 4.5932e-04 - val_loss: 8.1107e-05\n",
      "Epoch 59/100\n",
      "24/24 [==============================] - 4s 168ms/step - loss: 3.7717e-04 - val_loss: 5.4898e-05\n",
      "Epoch 60/100\n",
      "24/24 [==============================] - 4s 167ms/step - loss: 3.6569e-04 - val_loss: 6.7012e-05\n",
      "Epoch 61/100\n",
      "24/24 [==============================] - 4s 173ms/step - loss: 3.7331e-04 - val_loss: 5.0312e-05\n",
      "Epoch 62/100\n",
      "24/24 [==============================] - 4s 161ms/step - loss: 3.5422e-04 - val_loss: 5.4393e-05\n",
      "Epoch 63/100\n",
      "24/24 [==============================] - 4s 162ms/step - loss: 3.7910e-04 - val_loss: 4.9780e-05\n",
      "Epoch 64/100\n",
      "24/24 [==============================] - 4s 161ms/step - loss: 3.3843e-04 - val_loss: 4.8760e-05\n",
      "Epoch 65/100\n",
      "24/24 [==============================] - 4s 163ms/step - loss: 4.1271e-04 - val_loss: 1.0574e-04\n",
      "Epoch 66/100\n",
      "24/24 [==============================] - 4s 161ms/step - loss: 3.7944e-04 - val_loss: 8.5501e-05\n",
      "Epoch 67/100\n",
      "24/24 [==============================] - 4s 160ms/step - loss: 3.7986e-04 - val_loss: 5.7333e-05\n",
      "Epoch 68/100\n",
      "24/24 [==============================] - 4s 161ms/step - loss: 4.1283e-04 - val_loss: 4.7163e-05\n",
      "Epoch 69/100\n",
      "24/24 [==============================] - 4s 162ms/step - loss: 3.5744e-04 - val_loss: 5.7359e-05\n",
      "Epoch 70/100\n",
      "24/24 [==============================] - 4s 178ms/step - loss: 3.3729e-04 - val_loss: 4.7243e-05\n",
      "Epoch 71/100\n",
      "24/24 [==============================] - 4s 168ms/step - loss: 3.7253e-04 - val_loss: 4.7824e-05\n",
      "Epoch 72/100\n",
      "24/24 [==============================] - 4s 166ms/step - loss: 6.3390e-04 - val_loss: 1.0586e-04\n",
      "Epoch 73/100\n",
      "24/24 [==============================] - 4s 162ms/step - loss: 4.7741e-04 - val_loss: 1.1878e-04\n",
      "Epoch 74/100\n",
      "24/24 [==============================] - 4s 163ms/step - loss: 4.1753e-04 - val_loss: 5.5394e-05\n",
      "Epoch 75/100\n",
      "24/24 [==============================] - 4s 177ms/step - loss: 3.6216e-04 - val_loss: 4.6551e-05\n",
      "Epoch 76/100\n",
      "24/24 [==============================] - 4s 171ms/step - loss: 3.7704e-04 - val_loss: 8.8120e-05\n",
      "Epoch 77/100\n",
      "24/24 [==============================] - 4s 179ms/step - loss: 3.8228e-04 - val_loss: 5.7198e-05\n",
      "Epoch 78/100\n",
      "24/24 [==============================] - 4s 164ms/step - loss: 3.8128e-04 - val_loss: 7.0276e-05\n",
      "Epoch 79/100\n",
      "24/24 [==============================] - 4s 162ms/step - loss: 3.4903e-04 - val_loss: 5.7898e-05\n",
      "Epoch 80/100\n",
      "24/24 [==============================] - 4s 163ms/step - loss: 3.5575e-04 - val_loss: 4.6739e-05\n",
      "Epoch 81/100\n",
      "24/24 [==============================] - 4s 162ms/step - loss: 3.3581e-04 - val_loss: 4.6424e-05\n",
      "Epoch 82/100\n",
      "24/24 [==============================] - 4s 162ms/step - loss: 3.6728e-04 - val_loss: 1.1232e-04\n",
      "Epoch 83/100\n",
      "24/24 [==============================] - 4s 163ms/step - loss: 3.7868e-04 - val_loss: 6.6289e-05\n",
      "Epoch 84/100\n",
      "24/24 [==============================] - 4s 164ms/step - loss: 3.3866e-04 - val_loss: 4.6918e-05\n",
      "Epoch 85/100\n",
      "24/24 [==============================] - 4s 163ms/step - loss: 3.7454e-04 - val_loss: 1.1086e-04\n",
      "Epoch 86/100\n",
      "24/24 [==============================] - 4s 185ms/step - loss: 4.0171e-04 - val_loss: 5.6566e-05\n",
      "Epoch 87/100\n",
      "24/24 [==============================] - 4s 163ms/step - loss: 3.2161e-04 - val_loss: 4.6319e-05\n",
      "Epoch 88/100\n",
      "24/24 [==============================] - 4s 163ms/step - loss: 3.1867e-04 - val_loss: 5.4177e-05\n",
      "Epoch 89/100\n",
      "24/24 [==============================] - 4s 162ms/step - loss: 3.8159e-04 - val_loss: 1.0856e-04\n",
      "Epoch 90/100\n",
      "24/24 [==============================] - 4s 163ms/step - loss: 4.3008e-04 - val_loss: 5.2345e-05\n",
      "Epoch 91/100\n",
      "24/24 [==============================] - 4s 162ms/step - loss: 3.5113e-04 - val_loss: 4.3769e-05\n",
      "Epoch 92/100\n",
      "24/24 [==============================] - 4s 162ms/step - loss: 3.3673e-04 - val_loss: 4.9190e-05\n",
      "Epoch 93/100\n",
      "24/24 [==============================] - 4s 165ms/step - loss: 3.5509e-04 - val_loss: 5.8278e-05\n",
      "Epoch 94/100\n",
      "24/24 [==============================] - 4s 176ms/step - loss: 3.9504e-04 - val_loss: 9.7120e-05\n",
      "Epoch 95/100\n",
      "24/24 [==============================] - 4s 166ms/step - loss: 3.8858e-04 - val_loss: 1.2396e-04\n",
      "Epoch 96/100\n",
      "24/24 [==============================] - 4s 166ms/step - loss: 4.2811e-04 - val_loss: 1.5967e-04\n",
      "Epoch 97/100\n",
      "24/24 [==============================] - 4s 161ms/step - loss: 4.3663e-04 - val_loss: 6.4019e-05\n",
      "Epoch 98/100\n",
      "24/24 [==============================] - 4s 160ms/step - loss: 3.4935e-04 - val_loss: 4.7147e-05\n",
      "Epoch 99/100\n",
      "24/24 [==============================] - 4s 162ms/step - loss: 3.3219e-04 - val_loss: 4.2951e-05\n",
      "Epoch 100/100\n",
      "24/24 [==============================] - 4s 163ms/step - loss: 3.2629e-04 - val_loss: 4.2178e-05\n"
     ]
    },
    {
     "data": {
      "text/plain": [
       "<keras.callbacks.History at 0x272a0d06bf0>"
      ]
     },
     "execution_count": 9,
     "metadata": {},
     "output_type": "execute_result"
    }
   ],
   "source": [
    "# 9. Fit mô hình với dữ liệu train\n",
    "model.fit(X_train, y_train, validation_data=(X_test, ytest), epochs=100, batch_size=64, verbose=1)"
   ]
  },
  {
   "cell_type": "code",
   "execution_count": 10,
   "id": "11429718-53af-460b-bc27-6339c6f5f98e",
   "metadata": {},
   "outputs": [
    {
     "name": "stdout",
     "output_type": "stream",
     "text": [
      "47/47 [==============================] - 3s 34ms/step\n",
      "22/22 [==============================] - 1s 34ms/step\n"
     ]
    }
   ],
   "source": [
    "# 10. Dự báo dữ liệu test\n",
    "train_predict = model.predict(X_train)\n",
    "y_pred = model.predict(X_test)"
   ]
  },
  {
   "cell_type": "code",
   "execution_count": 11,
   "id": "325b6e6a-fb3e-4f67-a484-014e7ddb4183",
   "metadata": {},
   "outputs": [],
   "source": [
    "# 11. Chuẩn hóa dữ liệu y_pred\n",
    "train_predict = scaler.inverse_transform(train_predict)\n",
    "y_pred = scaler.inverse_transform(y_pred)"
   ]
  },
  {
   "cell_type": "code",
   "execution_count": 12,
   "id": "b964944b-407f-425e-9fbd-d7cd9e12b40a",
   "metadata": {
    "tags": []
   },
   "outputs": [
    {
     "name": "stdout",
     "output_type": "stream",
     "text": [
      "Mean Absolute Error (MAE): 0.27891711025608756\n",
      "Mean Absolute Percentage Error (MAPE): 216.92488425712838\n",
      "Root Mean Square Error (RMSE): 0.2896829704512775\n"
     ]
    }
   ],
   "source": [
    "# 12. Tính RMSE, MAPE, MAE\n",
    "from sklearn.metrics import mean_absolute_error, mean_squared_error, mean_absolute_percentage_error\n",
    "\n",
    "mae = mean_absolute_error(ytest, y_pred)\n",
    "mape = mean_absolute_percentage_error(ytest, y_pred)\n",
    "rmse = np.sqrt(mean_squared_error(ytest, y_pred))\n",
    "\n",
    "print(\"Mean Absolute Error (MAE):\", mae)\n",
    "print(\"Mean Absolute Percentage Error (MAPE):\", mape * 100)\n",
    "print(\"Root Mean Square Error (RMSE):\", rmse)"
   ]
  },
  {
   "cell_type": "code",
   "execution_count": 13,
   "id": "2e271a5d-d3ba-478b-ab4d-d877f6725302",
   "metadata": {
    "tags": []
   },
   "outputs": [],
   "source": [
    "# 13. Hàm dự báo\n",
    "def forecast_days(n_days):\n",
    "    x_input = test_data[-100:].reshape(1, -1)\n",
    "    temp_input = list(x_input[0])\n",
    "\n",
    "    lst_output = []\n",
    "    i = 0\n",
    "    while i < n_days:\n",
    "        if len(temp_input) > 100:\n",
    "            x_input = np.array(temp_input[1:])\n",
    "            x_input = x_input.reshape(1, -1)\n",
    "            x_input = x_input.reshape((1, time_step, 1))\n",
    "            yhat = model.predict(x_input, verbose=0)\n",
    "            temp_input.extend(yhat[0].tolist())\n",
    "            temp_input = temp_input[1:]\n",
    "            lst_output.extend(yhat.tolist())\n",
    "            i += 1\n",
    "        else:\n",
    "            x_input = x_input.reshape((1, time_step, 1))\n",
    "            yhat = model.predict(x_input, verbose=0)\n",
    "            temp_input.extend(yhat[0].tolist())\n",
    "            lst_output.extend(yhat.tolist())\n",
    "            i += 1\n",
    "    return lst_output"
   ]
  },
  {
   "cell_type": "code",
   "execution_count": 14,
   "id": "12343b63-3464-4e24-bf18-1f00bb17e507",
   "metadata": {
    "tags": []
   },
   "outputs": [],
   "source": [
    "# 14. Dự báo 30, 60, 90 ngày tiếp theo\n",
    "forecast_30 = forecast_days(30)\n",
    "forecast_60 = forecast_days(60)\n",
    "forecast_90 = forecast_days(90)"
   ]
  },
  {
   "cell_type": "code",
   "execution_count": 15,
   "id": "b4063bc9-d94d-471f-8117-331d74e51408",
   "metadata": {
    "tags": []
   },
   "outputs": [
    {
     "name": "stdout",
     "output_type": "stream",
     "text": [
      "Dự báo cho 30 ngày tiếp theo: [[0.14442217350006104], [0.14467096328735352], [0.1449809968471527], [0.14529713988304138], [0.14560925960540771], [0.14591346681118011], [0.14620736241340637], [0.14649029076099396], [0.14676307141780853], [0.1470274031162262], [0.14728540182113647], [0.1475391387939453], [0.14779061079025269], [0.1480415165424347], [0.14829321205615997], [0.1485467404127121], [0.14880292117595673], [0.14906218647956848], [0.14932481944561005], [0.1495908498764038], [0.14986026287078857], [0.15013276040554047], [0.1504080444574356], [0.1506858766078949], [0.15096579492092133], [0.15124741196632385], [0.15153037011623383], [0.1518142968416214], [0.1520988494157791], [0.1523836851119995]]\n"
     ]
    }
   ],
   "source": [
    "# 15. In ra dự đoán cho 30 ngày tiếp theo\n",
    "print(\"Dự báo cho 30 ngày tiếp theo:\", forecast_30)"
   ]
  },
  {
   "cell_type": "code",
   "execution_count": 16,
   "id": "67077348-1c5e-4d27-b85b-d6198039e6db",
   "metadata": {
    "tags": []
   },
   "outputs": [
    {
     "name": "stdout",
     "output_type": "stream",
     "text": [
      "Dự báo cho 60 ngày tiếp theo: [[0.14442217350006104], [0.14467096328735352], [0.1449809968471527], [0.14529713988304138], [0.14560925960540771], [0.14591346681118011], [0.14620736241340637], [0.14649029076099396], [0.14676307141780853], [0.1470274031162262], [0.14728540182113647], [0.1475391387939453], [0.14779061079025269], [0.1480415165424347], [0.14829321205615997], [0.1485467404127121], [0.14880292117595673], [0.14906218647956848], [0.14932481944561005], [0.1495908498764038], [0.14986026287078857], [0.15013276040554047], [0.1504080444574356], [0.1506858766078949], [0.15096579492092133], [0.15124741196632385], [0.15153037011623383], [0.1518142968416214], [0.1520988494157791], [0.1523836851119995], [0.1526685655117035], [0.15295326709747314], [0.15323753654956818], [0.15352122485637665], [0.15380409359931946], [0.154086172580719], [0.15436716377735138], [0.154647096991539], [0.1549258530139923], [0.15520340204238892], [0.15547963976860046], [0.15575461089611053], [0.1560281664133072], [0.156300351023674], [0.15657110512256622], [0.15684044361114502], [0.15710829198360443], [0.15737462043762207], [0.1576395183801651], [0.15790286660194397], [0.15816468000411987], [0.158424973487854], [0.15868370234966278], [0.158940851688385], [0.15919646620750427], [0.159450501203537], [0.15970295667648315], [0.1599537879228592], [0.16020306944847107], [0.1604507714509964]]\n"
     ]
    }
   ],
   "source": [
    "# 15. In ra dự đoán cho 60 ngày tiếp theo\n",
    "print(\"Dự báo cho 60 ngày tiếp theo:\", forecast_60)"
   ]
  },
  {
   "cell_type": "code",
   "execution_count": 17,
   "id": "64491d29-b028-4911-924a-472619538172",
   "metadata": {
    "tags": []
   },
   "outputs": [
    {
     "name": "stdout",
     "output_type": "stream",
     "text": [
      "Dự báo cho 90 ngày tiếp theo: [[0.14442217350006104], [0.14467096328735352], [0.1449809968471527], [0.14529713988304138], [0.14560925960540771], [0.14591346681118011], [0.14620736241340637], [0.14649029076099396], [0.14676307141780853], [0.1470274031162262], [0.14728540182113647], [0.1475391387939453], [0.14779061079025269], [0.1480415165424347], [0.14829321205615997], [0.1485467404127121], [0.14880292117595673], [0.14906218647956848], [0.14932481944561005], [0.1495908498764038], [0.14986026287078857], [0.15013276040554047], [0.1504080444574356], [0.1506858766078949], [0.15096579492092133], [0.15124741196632385], [0.15153037011623383], [0.1518142968416214], [0.1520988494157791], [0.1523836851119995], [0.1526685655117035], [0.15295326709747314], [0.15323753654956818], [0.15352122485637665], [0.15380409359931946], [0.154086172580719], [0.15436716377735138], [0.154647096991539], [0.1549258530139923], [0.15520340204238892], [0.15547963976860046], [0.15575461089611053], [0.1560281664133072], [0.156300351023674], [0.15657110512256622], [0.15684044361114502], [0.15710829198360443], [0.15737462043762207], [0.1576395183801651], [0.15790286660194397], [0.15816468000411987], [0.158424973487854], [0.15868370234966278], [0.158940851688385], [0.15919646620750427], [0.159450501203537], [0.15970295667648315], [0.1599537879228592], [0.16020306944847107], [0.1604507714509964], [0.1606968343257904], [0.16094130277633667], [0.16118422150611877], [0.16142550110816956], [0.1616651862859726], [0.16190333664417267], [0.16213984787464142], [0.16237476468086243], [0.16260814666748047], [0.16283996403217316], [0.16307014226913452], [0.1632988154888153], [0.16352587938308716], [0.16375143826007843], [0.16397541761398315], [0.16419783234596252], [0.1644187718629837], [0.16463811695575714], [0.1648559868335724], [0.16507232189178467], [0.16528713703155518], [0.1655004620552063], [0.16571228206157684], [0.1659225970506668], [0.16613149642944336], [0.16633884608745575], [0.16654473543167114], [0.16674917936325073], [0.16695216298103333], [0.16715370118618011]]\n"
     ]
    }
   ],
   "source": [
    "# 15. In ra dự đoán cho 90 ngày tiếp theo\n",
    "print(\"Dự báo cho 90 ngày tiếp theo:\", forecast_90)"
   ]
  },
  {
   "cell_type": "code",
   "execution_count": 18,
   "id": "3dd6ded5-fc67-4904-a0fd-59c167779a17",
   "metadata": {
    "tags": []
   },
   "outputs": [
    {
     "data": {
      "image/png": "[encoded data removed]",
      "text/plain": [
       "<Figure size 640x480 with 1 Axes>"
      ]
     },
     "metadata": {},
     "output_type": "display_data"
    }
   ],
   "source": [
    "# 16. Vẽ hình\n",
    "\n",
    "# Vẽ dữ liệu kiểm tra\n",
    "test_data_index = pd.RangeIndex(start=train_size, stop=train_size + test_size)\n",
    "plt.plot(test_data_index, scaler.inverse_transform(test_data), label='Test Data')\n",
    "\n",
    "# Vẽ dữ liệu dự đoán\n",
    "plt.plot(np.arange(train_size, train_size + len(y_pred)), y_pred, label='Predicted')\n",
    "\n",
    "# Vẽ dự báo 90, 60, 30 ngày\n",
    "plt.plot(np.arange(train_size + len(test_data), train_size + len(test_data) + len(forecast_90)), scaler.inverse_transform(forecast_90), label='Forecast 90 days')\n",
    "plt.plot(np.arange(train_size + len(test_data), train_size + len(test_data) + len(forecast_60)), scaler.inverse_transform(forecast_60), label='Forecast 60 days')\n",
    "plt.plot(np.arange(train_size + len(test_data), train_size + len(test_data) + len(forecast_30)), scaler.inverse_transform(forecast_30), label='Forecast 30 days')\n",
    "\n",
    "plt.title('LSTM - ADA Stock Price - Forecast 30, 60, 90 days')\n",
    "plt.legend()\n",
    "plt.xlabel('Day')\n",
    "plt.ylabel('Price')\n",
    "plt.show()\n"
   ]
  }
 ],
 "metadata": {
  "kernelspec": {
   "display_name": "Python 3 (ipykernel)",
   "language": "python",
   "name": "python3"
  },
  "language_info": {
   "codemirror_mode": {
    "name": "ipython",
    "version": 3
   },
   "file_extension": ".py",
   "mimetype": "text/x-python",
   "name": "python",
   "nbconvert_exporter": "python",
   "pygments_lexer": "ipython3",
   "version": "3.10.8"
  }
 },
 "nbformat": 4,
 "nbformat_minor": 5
}
