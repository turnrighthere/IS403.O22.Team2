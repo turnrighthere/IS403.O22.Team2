{
 "cells": [
  {
   "cell_type": "code",
   "execution_count": 1,
   "id": "d6e03734-7a73-489d-9cdc-84acf78c00e5",
   "metadata": {
    "tags": []
   },
   "outputs": [],
   "source": [
    "# 1. Import thư viện cần thiết\n",
    "import numpy as np\n",
    "import pandas as pd\n",
    "import matplotlib.pyplot as plt\n",
    "from sklearn.preprocessing import MinMaxScaler\n",
    "from keras.models import Sequential\n",
    "from keras.layers import Dense, LSTM"
   ]
  },
  {
   "cell_type": "code",
   "execution_count": 2,
   "id": "07adbc1b-a1d2-41ba-b0a6-73848cc36a2e",
   "metadata": {
    "tags": []
   },
   "outputs": [
    {
     "name": "stdout",
     "output_type": "stream",
     "text": [
      "<class 'pandas.core.frame.DataFrame'>\n",
      "RangeIndex: 2285 entries, 0 to 2284\n",
      "Data columns (total 7 columns):\n",
      " #   Column     Non-Null Count  Dtype  \n",
      "---  ------     --------------  -----  \n",
      " 0   Date       2285 non-null   object \n",
      " 1   Open       2285 non-null   float64\n",
      " 2   High       2285 non-null   float64\n",
      " 3   Low        2285 non-null   float64\n",
      " 4   Price      2285 non-null   float64\n",
      " 5   Adj Close  2285 non-null   float64\n",
      " 6   Volume     2285 non-null   int64  \n",
      "dtypes: float64(5), int64(1), object(1)\n",
      "memory usage: 125.1+ KB\n"
     ]
    }
   ],
   "source": [
    "# 2. Đọc file csv và gắn index với giá Price\n",
    "df = pd.read_csv('pre_ADA-USD.csv')\n",
    "df = df.rename(columns={'Close': 'Price'})\n",
    "df1 = df.reset_index()['Price']\n",
    "df.info()"
   ]
  },
  {
   "cell_type": "code",
   "execution_count": 3,
   "id": "823c305d-3c3c-46d7-ab97-99ea957bb915",
   "metadata": {
    "tags": []
   },
   "outputs": [],
   "source": [
    "# 3. Scaler data\n",
    "scaler = MinMaxScaler(feature_range=(0, 1))\n",
    "df1 = scaler.fit_transform(np.array(df1).reshape(-1, 1))"
   ]
  },
  {
   "cell_type": "code",
   "execution_count": 4,
   "id": "3c933b12-160d-4589-bda4-f6e0541be771",
   "metadata": {
    "tags": []
   },
   "outputs": [
    {
     "name": "stdout",
     "output_type": "stream",
     "text": [
      "Train shape: (1599, 1)\n",
      "Test shape: (686, 1)\n"
     ]
    }
   ],
   "source": [
    "# 4. Chia train test 7 - 3\n",
    "train_size = int(0.7 * len(df1))\n",
    "test_size = len(df1) - train_size\n",
    "\n",
    "# Lấy dữ liệu train và test\n",
    "train_data = df1[:train_size]\n",
    "test_data = df1[train_size:]\n",
    "\n",
    "print(\"Train shape:\", train_data.shape)\n",
    "print(\"Test shape:\", test_data.shape)"
   ]
  },
  {
   "cell_type": "code",
   "execution_count": 5,
   "id": "86d16400-4b94-40f8-b6ec-13ca9fae2127",
   "metadata": {
    "tags": []
   },
   "outputs": [],
   "source": [
    "# 5. Hàm Create Dataset\n",
    "import numpy\n",
    "# convert an array of values into a dataset matrix\n",
    "def create_dataset(dataset, time_step=1):\n",
    "\tdataX, dataY = [], []\n",
    "\tfor i in range(len(dataset)-time_step-1):\n",
    "\t\ta = dataset[i:(i+time_step), 0]   ###i=0, X=0,1,2,3-----99   Y=100 \n",
    "\t\tdataX.append(a)\n",
    "\t\tdataY.append(dataset[i + time_step, 0])\n",
    "\treturn numpy.array(dataX), numpy.array(dataY)"
   ]
  },
  {
   "cell_type": "code",
   "execution_count": 6,
   "id": "139117ad-87be-44e9-b6ec-91bf365f7d9b",
   "metadata": {
    "tags": []
   },
   "outputs": [],
   "source": [
    "# 6. Reshape into X=t,t+1,t+2..t+99 and Y=t+100\n",
    "time_step = 100\n",
    "X_train, y_train = create_dataset(train_data, time_step)\n",
    "X_test, ytest = create_dataset(test_data, time_step)"
   ]
  },
  {
   "cell_type": "code",
   "execution_count": 7,
   "id": "f60d12b6-f562-48b8-99a5-d59b670f42c2",
   "metadata": {
    "tags": []
   },
   "outputs": [],
   "source": [
    "# 7. Reshape input to be [samples, time steps, features] which is required for LSTM\n",
    "X_train = X_train.reshape(X_train.shape[0], X_train.shape[1], 1)\n",
    "X_test = X_test.reshape(X_test.shape[0], X_test.shape[1], 1)"
   ]
  },
  {
   "cell_type": "code",
   "execution_count": 8,
   "id": "db87fc59-fb90-4e96-8eb0-7c65084b8ff6",
   "metadata": {
    "tags": []
   },
   "outputs": [],
   "source": [
    "# 8. Define LSTM Model\n",
    "model = Sequential()\n",
    "model.add(LSTM(50, return_sequences=True, input_shape=(100, 1)))\n",
    "model.add(LSTM(50, return_sequences=True))\n",
    "model.add(LSTM(50))\n",
    "model.add(Dense(1))\n",
    "model.compile(loss='mean_squared_error', optimizer='adam')"
   ]
  },
  {
   "cell_type": "code",
   "execution_count": 9,
   "id": "7d438015-03ba-433f-9c89-4bf4f6680ffe",
   "metadata": {
    "tags": []
   },
   "outputs": [
    {
     "name": "stdout",
     "output_type": "stream",
     "text": [
      "Epoch 1/100\n",
      "24/24 [==============================] - 11s 239ms/step - loss: 0.0163 - val_loss: 4.9942e-04\n",
      "Epoch 2/100\n",
      "24/24 [==============================] - 4s 160ms/step - loss: 0.0025 - val_loss: 3.0749e-04\n",
      "Epoch 3/100\n",
      "24/24 [==============================] - 4s 162ms/step - loss: 0.0021 - val_loss: 2.8328e-04\n",
      "Epoch 4/100\n",
      "24/24 [==============================] - 4s 160ms/step - loss: 0.0017 - val_loss: 2.7881e-04\n",
      "Epoch 5/100\n",
      "24/24 [==============================] - 4s 165ms/step - loss: 0.0015 - val_loss: 2.0094e-04\n",
      "Epoch 6/100\n",
      "24/24 [==============================] - 4s 182ms/step - loss: 0.0016 - val_loss: 1.9237e-04\n",
      "Epoch 7/100\n",
      "24/24 [==============================] - 4s 163ms/step - loss: 0.0014 - val_loss: 2.2925e-04\n",
      "Epoch 8/100\n",
      "24/24 [==============================] - 4s 166ms/step - loss: 0.0013 - val_loss: 1.7638e-04\n",
      "Epoch 9/100\n",
      "24/24 [==============================] - 4s 175ms/step - loss: 0.0013 - val_loss: 2.8374e-04\n",
      "Epoch 10/100\n",
      "24/24 [==============================] - 4s 167ms/step - loss: 0.0012 - val_loss: 1.7518e-04\n",
      "Epoch 11/100\n",
      "24/24 [==============================] - 4s 177ms/step - loss: 0.0011 - val_loss: 1.8191e-04\n",
      "Epoch 12/100\n",
      "24/24 [==============================] - 5s 194ms/step - loss: 0.0011 - val_loss: 2.8921e-04\n",
      "Epoch 13/100\n",
      "24/24 [==============================] - 4s 167ms/step - loss: 0.0012 - val_loss: 1.8641e-04\n",
      "Epoch 14/100\n",
      "24/24 [==============================] - 4s 163ms/step - loss: 0.0012 - val_loss: 2.1606e-04\n",
      "Epoch 15/100\n",
      "24/24 [==============================] - 4s 156ms/step - loss: 0.0010 - val_loss: 1.4320e-04\n",
      "Epoch 16/100\n",
      "24/24 [==============================] - 4s 171ms/step - loss: 0.0010 - val_loss: 1.6698e-04\n",
      "Epoch 17/100\n",
      "24/24 [==============================] - 4s 172ms/step - loss: 0.0010 - val_loss: 1.8046e-04\n",
      "Epoch 18/100\n",
      "24/24 [==============================] - 4s 162ms/step - loss: 9.2469e-04 - val_loss: 2.8630e-04\n",
      "Epoch 19/100\n",
      "24/24 [==============================] - 4s 163ms/step - loss: 9.3743e-04 - val_loss: 1.3050e-04\n",
      "Epoch 20/100\n",
      "24/24 [==============================] - 4s 164ms/step - loss: 8.3650e-04 - val_loss: 1.2311e-04\n",
      "Epoch 21/100\n",
      "24/24 [==============================] - 4s 163ms/step - loss: 8.7083e-04 - val_loss: 1.2577e-04\n",
      "Epoch 22/100\n",
      "24/24 [==============================] - 4s 163ms/step - loss: 8.0909e-04 - val_loss: 1.8546e-04\n",
      "Epoch 23/100\n",
      "24/24 [==============================] - 4s 163ms/step - loss: 8.3810e-04 - val_loss: 1.4044e-04\n",
      "Epoch 24/100\n",
      "24/24 [==============================] - 4s 168ms/step - loss: 8.5984e-04 - val_loss: 1.3013e-04\n",
      "Epoch 25/100\n",
      "24/24 [==============================] - 4s 163ms/step - loss: 8.4803e-04 - val_loss: 1.1362e-04\n",
      "Epoch 26/100\n",
      "24/24 [==============================] - 4s 166ms/step - loss: 7.4344e-04 - val_loss: 1.1096e-04\n",
      "Epoch 27/100\n",
      "24/24 [==============================] - 4s 162ms/step - loss: 7.4353e-04 - val_loss: 1.0885e-04\n",
      "Epoch 28/100\n",
      "24/24 [==============================] - 4s 161ms/step - loss: 7.4346e-04 - val_loss: 1.0618e-04\n",
      "Epoch 29/100\n",
      "24/24 [==============================] - 4s 167ms/step - loss: 7.0084e-04 - val_loss: 1.6830e-04\n",
      "Epoch 30/100\n",
      "24/24 [==============================] - 4s 162ms/step - loss: 6.8239e-04 - val_loss: 1.1777e-04\n",
      "Epoch 31/100\n",
      "24/24 [==============================] - 4s 163ms/step - loss: 7.0242e-04 - val_loss: 2.0550e-04\n",
      "Epoch 32/100\n",
      "24/24 [==============================] - 4s 163ms/step - loss: 6.9864e-04 - val_loss: 1.1002e-04\n",
      "Epoch 33/100\n",
      "24/24 [==============================] - 4s 169ms/step - loss: 6.6951e-04 - val_loss: 9.7127e-05\n",
      "Epoch 34/100\n",
      "24/24 [==============================] - 4s 170ms/step - loss: 6.2739e-04 - val_loss: 1.1524e-04\n",
      "Epoch 35/100\n",
      "24/24 [==============================] - 4s 163ms/step - loss: 7.0360e-04 - val_loss: 1.1301e-04\n",
      "Epoch 36/100\n",
      "24/24 [==============================] - 4s 162ms/step - loss: 8.2955e-04 - val_loss: 2.6063e-04\n",
      "Epoch 37/100\n",
      "24/24 [==============================] - 4s 164ms/step - loss: 8.6266e-04 - val_loss: 2.2003e-04\n",
      "Epoch 38/100\n",
      "24/24 [==============================] - 4s 165ms/step - loss: 7.6241e-04 - val_loss: 1.0078e-04\n",
      "Epoch 39/100\n",
      "24/24 [==============================] - 4s 166ms/step - loss: 5.5888e-04 - val_loss: 1.1688e-04\n",
      "Epoch 40/100\n",
      "24/24 [==============================] - 4s 162ms/step - loss: 5.8636e-04 - val_loss: 1.7279e-04\n",
      "Epoch 41/100\n",
      "24/24 [==============================] - 4s 161ms/step - loss: 5.8983e-04 - val_loss: 1.2101e-04\n",
      "Epoch 42/100\n",
      "24/24 [==============================] - 4s 164ms/step - loss: 5.0363e-04 - val_loss: 1.0505e-04\n",
      "Epoch 43/100\n",
      "24/24 [==============================] - 4s 161ms/step - loss: 5.4456e-04 - val_loss: 7.4437e-05\n",
      "Epoch 44/100\n",
      "24/24 [==============================] - 4s 165ms/step - loss: 4.9699e-04 - val_loss: 9.6469e-05\n",
      "Epoch 45/100\n",
      "24/24 [==============================] - 4s 164ms/step - loss: 4.7870e-04 - val_loss: 7.6324e-05\n",
      "Epoch 46/100\n",
      "24/24 [==============================] - 4s 164ms/step - loss: 5.1363e-04 - val_loss: 1.3511e-04\n",
      "Epoch 47/100\n",
      "24/24 [==============================] - 4s 163ms/step - loss: 4.5649e-04 - val_loss: 1.4216e-04\n",
      "Epoch 48/100\n",
      "24/24 [==============================] - 4s 166ms/step - loss: 5.9407e-04 - val_loss: 1.0374e-04\n",
      "Epoch 49/100\n",
      "24/24 [==============================] - 4s 161ms/step - loss: 4.3832e-04 - val_loss: 6.4594e-05\n",
      "Epoch 50/100\n",
      "24/24 [==============================] - 4s 171ms/step - loss: 4.5497e-04 - val_loss: 8.9457e-05\n",
      "Epoch 51/100\n",
      "24/24 [==============================] - 4s 163ms/step - loss: 4.4245e-04 - val_loss: 8.5965e-05\n",
      "Epoch 52/100\n",
      "24/24 [==============================] - 4s 163ms/step - loss: 4.1665e-04 - val_loss: 7.1200e-05\n",
      "Epoch 53/100\n",
      "24/24 [==============================] - 4s 163ms/step - loss: 3.9861e-04 - val_loss: 6.5566e-05\n",
      "Epoch 54/100\n",
      "24/24 [==============================] - 4s 162ms/step - loss: 3.9615e-04 - val_loss: 9.4316e-05\n",
      "Epoch 55/100\n",
      "24/24 [==============================] - 4s 163ms/step - loss: 3.9887e-04 - val_loss: 6.4135e-05\n",
      "Epoch 56/100\n",
      "24/24 [==============================] - 4s 164ms/step - loss: 3.6669e-04 - val_loss: 5.3459e-05\n",
      "Epoch 57/100\n",
      "24/24 [==============================] - 4s 164ms/step - loss: 3.8039e-04 - val_loss: 7.5997e-05\n",
      "Epoch 58/100\n",
      "24/24 [==============================] - 4s 163ms/step - loss: 3.6204e-04 - val_loss: 1.1061e-04\n",
      "Epoch 59/100\n",
      "24/24 [==============================] - 4s 162ms/step - loss: 4.1819e-04 - val_loss: 8.8010e-05\n",
      "Epoch 60/100\n",
      "24/24 [==============================] - 4s 163ms/step - loss: 3.5504e-04 - val_loss: 6.4069e-05\n",
      "Epoch 61/100\n",
      "24/24 [==============================] - 4s 162ms/step - loss: 3.9785e-04 - val_loss: 1.1772e-04\n",
      "Epoch 62/100\n",
      "24/24 [==============================] - 4s 163ms/step - loss: 4.5433e-04 - val_loss: 8.3486e-05\n",
      "Epoch 63/100\n",
      "24/24 [==============================] - 4s 163ms/step - loss: 3.6843e-04 - val_loss: 4.9027e-05\n",
      "Epoch 64/100\n",
      "24/24 [==============================] - 4s 164ms/step - loss: 3.9217e-04 - val_loss: 5.4246e-05\n",
      "Epoch 65/100\n",
      "24/24 [==============================] - 4s 164ms/step - loss: 3.8686e-04 - val_loss: 6.5263e-05\n",
      "Epoch 66/100\n",
      "24/24 [==============================] - 4s 161ms/step - loss: 3.3843e-04 - val_loss: 6.1744e-05\n",
      "Epoch 67/100\n",
      "24/24 [==============================] - 5s 218ms/step - loss: 3.4950e-04 - val_loss: 6.8276e-05\n",
      "Epoch 68/100\n",
      "24/24 [==============================] - 5s 202ms/step - loss: 3.6760e-04 - val_loss: 5.8451e-05\n",
      "Epoch 69/100\n",
      "24/24 [==============================] - 4s 178ms/step - loss: 3.8161e-04 - val_loss: 8.8065e-05\n",
      "Epoch 70/100\n",
      "24/24 [==============================] - 4s 166ms/step - loss: 4.0696e-04 - val_loss: 5.5006e-05\n",
      "Epoch 71/100\n",
      "24/24 [==============================] - 4s 162ms/step - loss: 3.4265e-04 - val_loss: 5.4679e-05\n",
      "Epoch 72/100\n",
      "24/24 [==============================] - 4s 160ms/step - loss: 3.3601e-04 - val_loss: 6.6205e-05\n",
      "Epoch 73/100\n",
      "24/24 [==============================] - 4s 162ms/step - loss: 3.9390e-04 - val_loss: 4.7406e-05\n",
      "Epoch 74/100\n",
      "24/24 [==============================] - 4s 165ms/step - loss: 3.6976e-04 - val_loss: 5.1102e-05\n",
      "Epoch 75/100\n",
      "24/24 [==============================] - 4s 161ms/step - loss: 3.5163e-04 - val_loss: 9.3052e-05\n",
      "Epoch 76/100\n",
      "24/24 [==============================] - 4s 162ms/step - loss: 3.5863e-04 - val_loss: 1.1266e-04\n",
      "Epoch 77/100\n",
      "24/24 [==============================] - 4s 166ms/step - loss: 4.0917e-04 - val_loss: 7.9463e-05\n",
      "Epoch 78/100\n",
      "24/24 [==============================] - 4s 165ms/step - loss: 3.6254e-04 - val_loss: 8.6096e-05\n",
      "Epoch 79/100\n",
      "24/24 [==============================] - 4s 162ms/step - loss: 3.8474e-04 - val_loss: 5.5163e-05\n",
      "Epoch 80/100\n",
      "24/24 [==============================] - 4s 165ms/step - loss: 3.5302e-04 - val_loss: 6.3482e-05\n",
      "Epoch 81/100\n",
      "24/24 [==============================] - 4s 163ms/step - loss: 3.4705e-04 - val_loss: 5.1313e-05\n",
      "Epoch 82/100\n",
      "24/24 [==============================] - 4s 166ms/step - loss: 3.5918e-04 - val_loss: 4.4032e-05\n",
      "Epoch 83/100\n",
      "24/24 [==============================] - 4s 170ms/step - loss: 3.4658e-04 - val_loss: 4.7755e-05\n",
      "Epoch 84/100\n",
      "24/24 [==============================] - 4s 168ms/step - loss: 3.3262e-04 - val_loss: 6.3856e-05\n",
      "Epoch 85/100\n",
      "24/24 [==============================] - 4s 164ms/step - loss: 3.5824e-04 - val_loss: 7.0036e-05\n",
      "Epoch 86/100\n",
      "24/24 [==============================] - 4s 163ms/step - loss: 3.3970e-04 - val_loss: 4.3705e-05\n",
      "Epoch 87/100\n",
      "24/24 [==============================] - 4s 166ms/step - loss: 3.3714e-04 - val_loss: 4.6147e-05\n",
      "Epoch 88/100\n",
      "24/24 [==============================] - 4s 171ms/step - loss: 3.2387e-04 - val_loss: 7.5238e-05\n",
      "Epoch 89/100\n",
      "24/24 [==============================] - 4s 163ms/step - loss: 3.2551e-04 - val_loss: 4.5147e-05\n",
      "Epoch 90/100\n",
      "24/24 [==============================] - 4s 164ms/step - loss: 3.3570e-04 - val_loss: 5.2233e-05\n",
      "Epoch 91/100\n",
      "24/24 [==============================] - 4s 169ms/step - loss: 3.1936e-04 - val_loss: 4.7492e-05\n",
      "Epoch 92/100\n",
      "24/24 [==============================] - 4s 168ms/step - loss: 3.4581e-04 - val_loss: 4.7661e-05\n",
      "Epoch 93/100\n",
      "24/24 [==============================] - 4s 162ms/step - loss: 3.3854e-04 - val_loss: 9.9959e-05\n",
      "Epoch 94/100\n",
      "24/24 [==============================] - 4s 164ms/step - loss: 3.4381e-04 - val_loss: 5.3422e-05\n",
      "Epoch 95/100\n",
      "24/24 [==============================] - 4s 165ms/step - loss: 3.3729e-04 - val_loss: 4.3938e-05\n",
      "Epoch 96/100\n",
      "24/24 [==============================] - 4s 165ms/step - loss: 3.6024e-04 - val_loss: 4.2411e-05\n",
      "Epoch 97/100\n",
      "24/24 [==============================] - 4s 163ms/step - loss: 3.2628e-04 - val_loss: 4.3967e-05\n",
      "Epoch 98/100\n",
      "24/24 [==============================] - 4s 164ms/step - loss: 3.6943e-04 - val_loss: 4.1419e-05\n",
      "Epoch 99/100\n",
      "24/24 [==============================] - 4s 171ms/step - loss: 3.7168e-04 - val_loss: 1.5649e-04\n",
      "Epoch 100/100\n",
      "24/24 [==============================] - 4s 184ms/step - loss: 4.1718e-04 - val_loss: 1.7634e-04\n"
     ]
    },
    {
     "data": {
      "text/plain": [
       "<keras.callbacks.History at 0x25c73eb2dd0>"
      ]
     },
     "execution_count": 9,
     "metadata": {},
     "output_type": "execute_result"
    }
   ],
   "source": [
    "# 9. Fit mô hình với dữ liệu train\n",
    "model.fit(X_train, y_train, validation_data=(X_test, ytest), epochs=100, batch_size=64, verbose=1)"
   ]
  },
  {
   "cell_type": "code",
   "execution_count": 10,
   "id": "11429718-53af-460b-bc27-6339c6f5f98e",
   "metadata": {},
   "outputs": [
    {
     "name": "stdout",
     "output_type": "stream",
     "text": [
      "47/47 [==============================] - 3s 40ms/step\n",
      "19/19 [==============================] - 1s 34ms/step\n"
     ]
    }
   ],
   "source": [
    "# 10. Dự báo dữ liệu test\n",
    "train_predict = model.predict(X_train)\n",
    "y_pred = model.predict(X_test)"
   ]
  },
  {
   "cell_type": "code",
   "execution_count": 11,
   "id": "325b6e6a-fb3e-4f67-a484-014e7ddb4183",
   "metadata": {},
   "outputs": [],
   "source": [
    "# 11. Chuẩn hóa dữ liệu y_pred\n",
    "train_predict = scaler.inverse_transform(train_predict)\n",
    "y_pred = scaler.inverse_transform(y_pred)"
   ]
  },
  {
   "cell_type": "code",
   "execution_count": 12,
   "id": "b964944b-407f-425e-9fbd-d7cd9e12b40a",
   "metadata": {
    "tags": []
   },
   "outputs": [
    {
     "name": "stdout",
     "output_type": "stream",
     "text": [
      "Mean Absolute Error (MAE): 0.23649512262085823\n",
      "Mean Absolute Percentage Error (MAPE): 186.51624131725427\n",
      "Root Mean Square Error (RMSE): 0.24984439339112363\n"
     ]
    }
   ],
   "source": [
    "# 12. Tính RMSE, MAPE, MAE\n",
    "from sklearn.metrics import mean_absolute_error, mean_squared_error, mean_absolute_percentage_error\n",
    "\n",
    "mae = mean_absolute_error(ytest, y_pred)\n",
    "mape = mean_absolute_percentage_error(ytest, y_pred)\n",
    "rmse = np.sqrt(mean_squared_error(ytest, y_pred))\n",
    "\n",
    "print(\"Mean Absolute Error (MAE):\", mae)\n",
    "print(\"Mean Absolute Percentage Error (MAPE):\", mape * 100)\n",
    "print(\"Root Mean Square Error (RMSE):\", rmse)"
   ]
  },
  {
   "cell_type": "code",
   "execution_count": 13,
   "id": "2e271a5d-d3ba-478b-ab4d-d877f6725302",
   "metadata": {
    "tags": []
   },
   "outputs": [],
   "source": [
    "# 13. Hàm dự báo\n",
    "def forecast_days(n_days):\n",
    "    x_input = test_data[-100:].reshape(1, -1)\n",
    "    temp_input = list(x_input[0])\n",
    "\n",
    "    lst_output = []\n",
    "    i = 0\n",
    "    while i < n_days:\n",
    "        if len(temp_input) > 100:\n",
    "            x_input = np.array(temp_input[1:])\n",
    "            x_input = x_input.reshape(1, -1)\n",
    "            x_input = x_input.reshape((1, time_step, 1))\n",
    "            yhat = model.predict(x_input, verbose=0)\n",
    "            temp_input.extend(yhat[0].tolist())\n",
    "            temp_input = temp_input[1:]\n",
    "            lst_output.extend(yhat.tolist())\n",
    "            i += 1\n",
    "        else:\n",
    "            x_input = x_input.reshape((1, time_step, 1))\n",
    "            yhat = model.predict(x_input, verbose=0)\n",
    "            temp_input.extend(yhat[0].tolist())\n",
    "            lst_output.extend(yhat.tolist())\n",
    "            i += 1\n",
    "    return lst_output"
   ]
  },
  {
   "cell_type": "code",
   "execution_count": 14,
   "id": "12343b63-3464-4e24-bf18-1f00bb17e507",
   "metadata": {
    "tags": []
   },
   "outputs": [],
   "source": [
    "# 14. Dự báo 30, 60, 90 ngày tiếp theo\n",
    "forecast_30 = forecast_days(30)\n",
    "forecast_60 = forecast_days(60)\n",
    "forecast_90 = forecast_days(90)"
   ]
  },
  {
   "cell_type": "code",
   "execution_count": 15,
   "id": "b4063bc9-d94d-471f-8117-331d74e51408",
   "metadata": {
    "tags": []
   },
   "outputs": [
    {
     "name": "stdout",
     "output_type": "stream",
     "text": [
      "Dự báo cho 30 ngày tiếp theo: [[0.1319875717163086], [0.12751542031764984], [0.12132878601551056], [0.11474554240703583], [0.1081443652510643], [0.10163121670484543], [0.09524863958358765], [0.08901708573102951], [0.0829434022307396], [0.07702562212944031], [0.07125715166330338], [0.06562946736812592], [0.06013402342796326], [0.05476312339305878], [0.04951031878590584], [0.04437047243118286], [0.03933967277407646], [0.03441501036286354], [0.029594410210847855], [0.024876348674297333], [0.02025972679257393], [0.015743687748908997], [0.011327467858791351], [0.007010328583419323], [0.002791451057419181], [-0.0013301046565175056], [-0.00535542331635952], [-0.009285776875913143], [-0.013122600503265858], [-0.016867510974407196]]\n"
     ]
    }
   ],
   "source": [
    "# 15. In ra dự đoán cho 30 ngày tiếp theo\n",
    "print(\"Dự báo cho 30 ngày tiếp theo:\", forecast_30)"
   ]
  },
  {
   "cell_type": "code",
   "execution_count": 16,
   "id": "67077348-1c5e-4d27-b85b-d6198039e6db",
   "metadata": {
    "tags": []
   },
   "outputs": [
    {
     "name": "stdout",
     "output_type": "stream",
     "text": [
      "Dự báo cho 60 ngày tiếp theo: [[0.1319875717163086], [0.12751542031764984], [0.12132878601551056], [0.11474554240703583], [0.1081443652510643], [0.10163121670484543], [0.09524863958358765], [0.08901708573102951], [0.0829434022307396], [0.07702562212944031], [0.07125715166330338], [0.06562946736812592], [0.06013402342796326], [0.05476312339305878], [0.04951031878590584], [0.04437047243118286], [0.03933967277407646], [0.03441501036286354], [0.029594410210847855], [0.024876348674297333], [0.02025972679257393], [0.015743687748908997], [0.011327467858791351], [0.007010328583419323], [0.002791451057419181], [-0.0013301046565175056], [-0.00535542331635952], [-0.009285776875913143], [-0.013122600503265858], [-0.016867510974407196], [-0.020522262901067734], [-0.02408876270055771], [-0.027569003403186798], [-0.030965112149715424], [-0.034279219806194305], [-0.03751356154680252], [-0.04067033529281616], [-0.04375177249312401], [-0.04676008224487305], [-0.04969744756817818], [-0.05256599560379982], [-0.0553678497672081], [-0.05810501426458359], [-0.06077948957681656], [-0.06339315325021744], [-0.06594792008399963], [-0.06844554841518402], [-0.0708877444267273], [-0.07327617704868317], [-0.07561246305704117], [-0.07789810001850128], [-0.08013460040092468], [-0.08232339471578598], [-0.08446582406759262], [-0.08656320720911026], [-0.08861679583787918], [-0.09062782675027847], [-0.09259750694036484], [-0.09452687203884125], [-0.09641704708337784]]\n"
     ]
    }
   ],
   "source": [
    "# 15. In ra dự đoán cho 60 ngày tiếp theo\n",
    "print(\"Dự báo cho 60 ngày tiếp theo:\", forecast_60)"
   ]
  },
  {
   "cell_type": "code",
   "execution_count": 17,
   "id": "64491d29-b028-4911-924a-472619538172",
   "metadata": {
    "tags": []
   },
   "outputs": [
    {
     "name": "stdout",
     "output_type": "stream",
     "text": [
      "Dự báo cho 90 ngày tiếp theo: [[0.1319875717163086], [0.12751542031764984], [0.12132878601551056], [0.11474554240703583], [0.1081443652510643], [0.10163121670484543], [0.09524863958358765], [0.08901708573102951], [0.0829434022307396], [0.07702562212944031], [0.07125715166330338], [0.06562946736812592], [0.06013402342796326], [0.05476312339305878], [0.04951031878590584], [0.04437047243118286], [0.03933967277407646], [0.03441501036286354], [0.029594410210847855], [0.024876348674297333], [0.02025972679257393], [0.015743687748908997], [0.011327467858791351], [0.007010328583419323], [0.002791451057419181], [-0.0013301046565175056], [-0.00535542331635952], [-0.009285776875913143], [-0.013122600503265858], [-0.016867510974407196], [-0.020522262901067734], [-0.02408876270055771], [-0.027569003403186798], [-0.030965112149715424], [-0.034279219806194305], [-0.03751356154680252], [-0.04067033529281616], [-0.04375177249312401], [-0.04676008224487305], [-0.04969744756817818], [-0.05256599560379982], [-0.0553678497672081], [-0.05810501426458359], [-0.06077948957681656], [-0.06339315325021744], [-0.06594792008399963], [-0.06844554841518402], [-0.0708877444267273], [-0.07327617704868317], [-0.07561246305704117], [-0.07789810001850128], [-0.08013460040092468], [-0.08232339471578598], [-0.08446582406759262], [-0.08656320720911026], [-0.08861679583787918], [-0.09062782675027847], [-0.09259750694036484], [-0.09452687203884125], [-0.09641704708337784], [-0.09826910495758057], [-0.10008399188518524], [-0.10186272859573364], [-0.10360617935657501], [-0.10531529784202576], [-0.10699091106653214], [-0.1086338683962822], [-0.11024496704339981], [-0.11182495951652527], [-0.11337462067604065], [-0.11489462852478027], [-0.11638573557138443], [-0.11784856766462326], [-0.1192837804555893], [-0.12069200724363327], [-0.12207388132810593], [-0.12342997640371323], [-0.12476082891225815], [-0.12606698274612427], [-0.12734903395175934], [-0.12860745191574097], [-0.12984268367290497], [-0.13105536997318268], [-0.13224586844444275], [-0.13341465592384338], [-0.1345621943473816], [-0.1356888711452484], [-0.13679516315460205], [-0.13788147270679474], [-0.13894817233085632]]\n"
     ]
    }
   ],
   "source": [
    "# 15. In ra dự đoán cho 90 ngày tiếp theo\n",
    "print(\"Dự báo cho 90 ngày tiếp theo:\", forecast_90)"
   ]
  },
  {
   "cell_type": "code",
   "execution_count": 18,
   "id": "3dd6ded5-fc67-4904-a0fd-59c167779a17",
   "metadata": {
    "tags": []
   },
   "outputs": [
    {
     "data": {
      "image/png": "[encoded data removed]",
      "text/plain": [
       "<Figure size 640x480 with 1 Axes>"
      ]
     },
     "metadata": {},
     "output_type": "display_data"
    }
   ],
   "source": [
    "# 16. Vẽ hình\n",
    "\n",
    "# Vẽ dữ liệu kiểm tra\n",
    "test_data_index = pd.RangeIndex(start=train_size, stop=train_size + test_size)\n",
    "plt.plot(test_data_index, scaler.inverse_transform(test_data), label='Test Data')\n",
    "\n",
    "# Vẽ dữ liệu dự đoán\n",
    "predicted_data_index = range(train_size + 100, train_size + 100 + len(y_pred))\n",
    "plt.plot(predicted_data_index, y_pred, label='Predicted')\n",
    "\n",
    "# Vẽ dự báo 90, 60, 30 ngày\n",
    "plt.plot(np.arange(train_size + len(test_data), train_size + len(test_data) + len(forecast_90)), scaler.inverse_transform(forecast_90), label='Forecast 90 days')\n",
    "plt.plot(np.arange(train_size + len(test_data), train_size + len(test_data) + len(forecast_60)), scaler.inverse_transform(forecast_60), label='Forecast 60 days')\n",
    "plt.plot(np.arange(train_size + len(test_data), train_size + len(test_data) + len(forecast_30)), scaler.inverse_transform(forecast_30), label='Forecast 30 days')\n",
    "\n",
    "plt.title('LSTM - ADA Stock Price - Forecast 30, 60, 90 days')\n",
    "plt.legend()\n",
    "plt.xlabel('Day')\n",
    "plt.ylabel('Price')\n",
    "plt.show()\n"
   ]
  }
 ],
 "metadata": {
  "kernelspec": {
   "display_name": "Python 3 (ipykernel)",
   "language": "python",
   "name": "python3"
  },
  "language_info": {
   "codemirror_mode": {
    "name": "ipython",
    "version": 3
   },
   "file_extension": ".py",
   "mimetype": "text/x-python",
   "name": "python",
   "nbconvert_exporter": "python",
   "pygments_lexer": "ipython3",
   "version": "3.10.8"
  }
 },
 "nbformat": 4,
 "nbformat_minor": 5
}
