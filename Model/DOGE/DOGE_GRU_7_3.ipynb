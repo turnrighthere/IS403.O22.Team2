{
  "nbformat": 4,
  "nbformat_minor": 0,
  "metadata": {
    "colab": {
      "provenance": []
    },
    "kernelspec": {
      "name": "python3",
      "display_name": "Python 3"
    },
    "language_info": {
      "name": "python"
    }
  },
  "cells": [
    {
      "cell_type": "code",
      "execution_count": 1,
      "metadata": {
        "id": "2s2M7RWnLyVs",
        "colab": {
          "base_uri": "https://localhost:8080/"
        },
        "outputId": "03c50605-3eec-418b-b24d-69689735cde4"
      },
      "outputs": [
        {
          "output_type": "stream",
          "name": "stdout",
          "text": [
            "Mounted at /content/drive\n"
          ]
        }
      ],
      "source": [
        "from google.colab import drive\n",
        "drive.mount('/content/drive')\n",
        "import numpy as np\n",
        "import pandas as pd\n",
        "import matplotlib.pyplot as plt\n",
        "from sklearn.preprocessing import MinMaxScaler\n",
        "from keras.models import Sequential\n",
        "from keras.layers import Dense, GRU"
      ]
    },
    {
      "cell_type": "code",
      "source": [
        "# Đọc file csv\n",
        "df = pd.read_csv('/content/drive/MyDrive/Colab Notebooks/Data/pre_DOGE-USD.csv')\n",
        "df = df.rename(columns={'Close': 'Price'})\n",
        "df['Date'] = pd.to_datetime(df['Date'])\n",
        "df.head(5)"
      ],
      "metadata": {
        "id": "N4mD72x5nuXt",
        "colab": {
          "base_uri": "https://localhost:8080/",
          "height": 206
        },
        "outputId": "09092191-fc83-46a9-d579-cc9dc74b44fe"
      },
      "execution_count": 2,
      "outputs": [
        {
          "output_type": "execute_result",
          "data": {
            "text/plain": [
              "        Date      Open      High       Low     Price  Adj Close    Volume\n",
              "0 2018-03-01  0.006042  0.006320  0.005945  0.006215   0.006215  15518400\n",
              "1 2018-03-02  0.006174  0.006232  0.005447  0.005482   0.005482  22498100\n",
              "2 2018-03-03  0.005494  0.005756  0.005181  0.005301   0.005301  21545000\n",
              "3 2018-03-04  0.005234  0.005502  0.005164  0.005502   0.005502  12133500\n",
              "4 2018-03-05  0.005462  0.005535  0.005157  0.005218   0.005218  13627700"
            ],
            "text/html": [
              "\n",
              "  <div id=\"df-e6ed5c65-d09c-49cf-a718-bfb74aeb5377\" class=\"colab-df-container\">\n",
              "    <div>\n",
              "<style scoped>\n",
              "    .dataframe tbody tr th:only-of-type {\n",
              "        vertical-align: middle;\n",
              "    }\n",
              "\n",
              "    .dataframe tbody tr th {\n",
              "        vertical-align: top;\n",
              "    }\n",
              "\n",
              "    .dataframe thead th {\n",
              "        text-align: right;\n",
              "    }\n",
              "</style>\n",
              "<table border=\"1\" class=\"dataframe\">\n",
              "  <thead>\n",
              "    <tr style=\"text-align: right;\">\n",
              "      <th></th>\n",
              "      <th>Date</th>\n",
              "      <th>Open</th>\n",
              "      <th>High</th>\n",
              "      <th>Low</th>\n",
              "      <th>Price</th>\n",
              "      <th>Adj Close</th>\n",
              "      <th>Volume</th>\n",
              "    </tr>\n",
              "  </thead>\n",
              "  <tbody>\n",
              "    <tr>\n",
              "      <th>0</th>\n",
              "      <td>2018-03-01</td>\n",
              "      <td>0.006042</td>\n",
              "      <td>0.006320</td>\n",
              "      <td>0.005945</td>\n",
              "      <td>0.006215</td>\n",
              "      <td>0.006215</td>\n",
              "      <td>15518400</td>\n",
              "    </tr>\n",
              "    <tr>\n",
              "      <th>1</th>\n",
              "      <td>2018-03-02</td>\n",
              "      <td>0.006174</td>\n",
              "      <td>0.006232</td>\n",
              "      <td>0.005447</td>\n",
              "      <td>0.005482</td>\n",
              "      <td>0.005482</td>\n",
              "      <td>22498100</td>\n",
              "    </tr>\n",
              "    <tr>\n",
              "      <th>2</th>\n",
              "      <td>2018-03-03</td>\n",
              "      <td>0.005494</td>\n",
              "      <td>0.005756</td>\n",
              "      <td>0.005181</td>\n",
              "      <td>0.005301</td>\n",
              "      <td>0.005301</td>\n",
              "      <td>21545000</td>\n",
              "    </tr>\n",
              "    <tr>\n",
              "      <th>3</th>\n",
              "      <td>2018-03-04</td>\n",
              "      <td>0.005234</td>\n",
              "      <td>0.005502</td>\n",
              "      <td>0.005164</td>\n",
              "      <td>0.005502</td>\n",
              "      <td>0.005502</td>\n",
              "      <td>12133500</td>\n",
              "    </tr>\n",
              "    <tr>\n",
              "      <th>4</th>\n",
              "      <td>2018-03-05</td>\n",
              "      <td>0.005462</td>\n",
              "      <td>0.005535</td>\n",
              "      <td>0.005157</td>\n",
              "      <td>0.005218</td>\n",
              "      <td>0.005218</td>\n",
              "      <td>13627700</td>\n",
              "    </tr>\n",
              "  </tbody>\n",
              "</table>\n",
              "</div>\n",
              "    <div class=\"colab-df-buttons\">\n",
              "\n",
              "  <div class=\"colab-df-container\">\n",
              "    <button class=\"colab-df-convert\" onclick=\"convertToInteractive('df-e6ed5c65-d09c-49cf-a718-bfb74aeb5377')\"\n",
              "            title=\"Convert this dataframe to an interactive table.\"\n",
              "            style=\"display:none;\">\n",
              "\n",
              "  <svg xmlns=\"http://www.w3.org/2000/svg\" height=\"24px\" viewBox=\"0 -960 960 960\">\n",
              "    <path d=\"M120-120v-720h720v720H120Zm60-500h600v-160H180v160Zm220 220h160v-160H400v160Zm0 220h160v-160H400v160ZM180-400h160v-160H180v160Zm440 0h160v-160H620v160ZM180-180h160v-160H180v160Zm440 0h160v-160H620v160Z\"/>\n",
              "  </svg>\n",
              "    </button>\n",
              "\n",
              "  <style>\n",
              "    .colab-df-container {\n",
              "      display:flex;\n",
              "      gap: 12px;\n",
              "    }\n",
              "\n",
              "    .colab-df-convert {\n",
              "      background-color: #E8F0FE;\n",
              "      border: none;\n",
              "      border-radius: 50%;\n",
              "      cursor: pointer;\n",
              "      display: none;\n",
              "      fill: #1967D2;\n",
              "      height: 32px;\n",
              "      padding: 0 0 0 0;\n",
              "      width: 32px;\n",
              "    }\n",
              "\n",
              "    .colab-df-convert:hover {\n",
              "      background-color: #E2EBFA;\n",
              "      box-shadow: 0px 1px 2px rgba(60, 64, 67, 0.3), 0px 1px 3px 1px rgba(60, 64, 67, 0.15);\n",
              "      fill: #174EA6;\n",
              "    }\n",
              "\n",
              "    .colab-df-buttons div {\n",
              "      margin-bottom: 4px;\n",
              "    }\n",
              "\n",
              "    [theme=dark] .colab-df-convert {\n",
              "      background-color: #3B4455;\n",
              "      fill: #D2E3FC;\n",
              "    }\n",
              "\n",
              "    [theme=dark] .colab-df-convert:hover {\n",
              "      background-color: #434B5C;\n",
              "      box-shadow: 0px 1px 3px 1px rgba(0, 0, 0, 0.15);\n",
              "      filter: drop-shadow(0px 1px 2px rgba(0, 0, 0, 0.3));\n",
              "      fill: #FFFFFF;\n",
              "    }\n",
              "  </style>\n",
              "\n",
              "    <script>\n",
              "      const buttonEl =\n",
              "        document.querySelector('#df-e6ed5c65-d09c-49cf-a718-bfb74aeb5377 button.colab-df-convert');\n",
              "      buttonEl.style.display =\n",
              "        google.colab.kernel.accessAllowed ? 'block' : 'none';\n",
              "\n",
              "      async function convertToInteractive(key) {\n",
              "        const element = document.querySelector('#df-e6ed5c65-d09c-49cf-a718-bfb74aeb5377');\n",
              "        const dataTable =\n",
              "          await google.colab.kernel.invokeFunction('convertToInteractive',\n",
              "                                                    [key], {});\n",
              "        if (!dataTable) return;\n",
              "\n",
              "        const docLinkHtml = 'Like what you see? Visit the ' +\n",
              "          '<a target=\"_blank\" href=https://colab.research.google.com/notebooks/data_table.ipynb>data table notebook</a>'\n",
              "          + ' to learn more about interactive tables.';\n",
              "        element.innerHTML = '';\n",
              "        dataTable['output_type'] = 'display_data';\n",
              "        await google.colab.output.renderOutput(dataTable, element);\n",
              "        const docLink = document.createElement('div');\n",
              "        docLink.innerHTML = docLinkHtml;\n",
              "        element.appendChild(docLink);\n",
              "      }\n",
              "    </script>\n",
              "  </div>\n",
              "\n",
              "\n",
              "<div id=\"df-fc409c0b-a6f3-4454-a4e3-38edf8dc5751\">\n",
              "  <button class=\"colab-df-quickchart\" onclick=\"quickchart('df-fc409c0b-a6f3-4454-a4e3-38edf8dc5751')\"\n",
              "            title=\"Suggest charts\"\n",
              "            style=\"display:none;\">\n",
              "\n",
              "<svg xmlns=\"http://www.w3.org/2000/svg\" height=\"24px\"viewBox=\"0 0 24 24\"\n",
              "     width=\"24px\">\n",
              "    <g>\n",
              "        <path d=\"M19 3H5c-1.1 0-2 .9-2 2v14c0 1.1.9 2 2 2h14c1.1 0 2-.9 2-2V5c0-1.1-.9-2-2-2zM9 17H7v-7h2v7zm4 0h-2V7h2v10zm4 0h-2v-4h2v4z\"/>\n",
              "    </g>\n",
              "</svg>\n",
              "  </button>\n",
              "\n",
              "<style>\n",
              "  .colab-df-quickchart {\n",
              "      --bg-color: #E8F0FE;\n",
              "      --fill-color: #1967D2;\n",
              "      --hover-bg-color: #E2EBFA;\n",
              "      --hover-fill-color: #174EA6;\n",
              "      --disabled-fill-color: #AAA;\n",
              "      --disabled-bg-color: #DDD;\n",
              "  }\n",
              "\n",
              "  [theme=dark] .colab-df-quickchart {\n",
              "      --bg-color: #3B4455;\n",
              "      --fill-color: #D2E3FC;\n",
              "      --hover-bg-color: #434B5C;\n",
              "      --hover-fill-color: #FFFFFF;\n",
              "      --disabled-bg-color: #3B4455;\n",
              "      --disabled-fill-color: #666;\n",
              "  }\n",
              "\n",
              "  .colab-df-quickchart {\n",
              "    background-color: var(--bg-color);\n",
              "    border: none;\n",
              "    border-radius: 50%;\n",
              "    cursor: pointer;\n",
              "    display: none;\n",
              "    fill: var(--fill-color);\n",
              "    height: 32px;\n",
              "    padding: 0;\n",
              "    width: 32px;\n",
              "  }\n",
              "\n",
              "  .colab-df-quickchart:hover {\n",
              "    background-color: var(--hover-bg-color);\n",
              "    box-shadow: 0 1px 2px rgba(60, 64, 67, 0.3), 0 1px 3px 1px rgba(60, 64, 67, 0.15);\n",
              "    fill: var(--button-hover-fill-color);\n",
              "  }\n",
              "\n",
              "  .colab-df-quickchart-complete:disabled,\n",
              "  .colab-df-quickchart-complete:disabled:hover {\n",
              "    background-color: var(--disabled-bg-color);\n",
              "    fill: var(--disabled-fill-color);\n",
              "    box-shadow: none;\n",
              "  }\n",
              "\n",
              "  .colab-df-spinner {\n",
              "    border: 2px solid var(--fill-color);\n",
              "    border-color: transparent;\n",
              "    border-bottom-color: var(--fill-color);\n",
              "    animation:\n",
              "      spin 1s steps(1) infinite;\n",
              "  }\n",
              "\n",
              "  @keyframes spin {\n",
              "    0% {\n",
              "      border-color: transparent;\n",
              "      border-bottom-color: var(--fill-color);\n",
              "      border-left-color: var(--fill-color);\n",
              "    }\n",
              "    20% {\n",
              "      border-color: transparent;\n",
              "      border-left-color: var(--fill-color);\n",
              "      border-top-color: var(--fill-color);\n",
              "    }\n",
              "    30% {\n",
              "      border-color: transparent;\n",
              "      border-left-color: var(--fill-color);\n",
              "      border-top-color: var(--fill-color);\n",
              "      border-right-color: var(--fill-color);\n",
              "    }\n",
              "    40% {\n",
              "      border-color: transparent;\n",
              "      border-right-color: var(--fill-color);\n",
              "      border-top-color: var(--fill-color);\n",
              "    }\n",
              "    60% {\n",
              "      border-color: transparent;\n",
              "      border-right-color: var(--fill-color);\n",
              "    }\n",
              "    80% {\n",
              "      border-color: transparent;\n",
              "      border-right-color: var(--fill-color);\n",
              "      border-bottom-color: var(--fill-color);\n",
              "    }\n",
              "    90% {\n",
              "      border-color: transparent;\n",
              "      border-bottom-color: var(--fill-color);\n",
              "    }\n",
              "  }\n",
              "</style>\n",
              "\n",
              "  <script>\n",
              "    async function quickchart(key) {\n",
              "      const quickchartButtonEl =\n",
              "        document.querySelector('#' + key + ' button');\n",
              "      quickchartButtonEl.disabled = true;  // To prevent multiple clicks.\n",
              "      quickchartButtonEl.classList.add('colab-df-spinner');\n",
              "      try {\n",
              "        const charts = await google.colab.kernel.invokeFunction(\n",
              "            'suggestCharts', [key], {});\n",
              "      } catch (error) {\n",
              "        console.error('Error during call to suggestCharts:', error);\n",
              "      }\n",
              "      quickchartButtonEl.classList.remove('colab-df-spinner');\n",
              "      quickchartButtonEl.classList.add('colab-df-quickchart-complete');\n",
              "    }\n",
              "    (() => {\n",
              "      let quickchartButtonEl =\n",
              "        document.querySelector('#df-fc409c0b-a6f3-4454-a4e3-38edf8dc5751 button');\n",
              "      quickchartButtonEl.style.display =\n",
              "        google.colab.kernel.accessAllowed ? 'block' : 'none';\n",
              "    })();\n",
              "  </script>\n",
              "</div>\n",
              "\n",
              "    </div>\n",
              "  </div>\n"
            ],
            "application/vnd.google.colaboratory.intrinsic+json": {
              "type": "dataframe",
              "variable_name": "df",
              "summary": "{\n  \"name\": \"df\",\n  \"rows\": 2285,\n  \"fields\": [\n    {\n      \"column\": \"Date\",\n      \"properties\": {\n        \"dtype\": \"date\",\n        \"min\": \"2018-03-01 00:00:00\",\n        \"max\": \"2024-06-01 00:00:00\",\n        \"num_unique_values\": 2285,\n        \"samples\": [\n          \"2023-11-24 00:00:00\",\n          \"2020-04-03 00:00:00\",\n          \"2018-10-27 00:00:00\"\n        ],\n        \"semantic_type\": \"\",\n        \"description\": \"\"\n      }\n    },\n    {\n      \"column\": \"Open\",\n      \"properties\": {\n        \"dtype\": \"number\",\n        \"std\": 0.09059040845441783,\n        \"min\": 0.00154,\n        \"max\": 0.687801,\n        \"num_unique_values\": 2066,\n        \"samples\": [\n          0.072799,\n          0.086148,\n          0.082248\n        ],\n        \"semantic_type\": \"\",\n        \"description\": \"\"\n      }\n    },\n    {\n      \"column\": \"High\",\n      \"properties\": {\n        \"dtype\": \"number\",\n        \"std\": 0.09747188362048517,\n        \"min\": 0.001612,\n        \"max\": 0.737567,\n        \"num_unique_values\": 2069,\n        \"samples\": [\n          0.082083,\n          0.005296,\n          0.087904\n        ],\n        \"semantic_type\": \"\",\n        \"description\": \"\"\n      }\n    },\n    {\n      \"column\": \"Low\",\n      \"properties\": {\n        \"dtype\": \"number\",\n        \"std\": 0.08392189081357403,\n        \"min\": 0.001247,\n        \"max\": 0.608168,\n        \"num_unique_values\": 2055,\n        \"samples\": [\n          0.072109,\n          0.002642,\n          0.075151\n        ],\n        \"semantic_type\": \"\",\n        \"description\": \"\"\n      }\n    },\n    {\n      \"column\": \"Price\",\n      \"properties\": {\n        \"dtype\": \"number\",\n        \"std\": 0.09065331630816681,\n        \"min\": 0.001537,\n        \"max\": 0.684777,\n        \"num_unique_values\": 2075,\n        \"samples\": [\n          0.049376,\n          0.003867,\n          0.161768\n        ],\n        \"semantic_type\": \"\",\n        \"description\": \"\"\n      }\n    },\n    {\n      \"column\": \"Adj Close\",\n      \"properties\": {\n        \"dtype\": \"number\",\n        \"std\": 0.09065331630816681,\n        \"min\": 0.001537,\n        \"max\": 0.684777,\n        \"num_unique_values\": 2075,\n        \"samples\": [\n          0.049376,\n          0.003867,\n          0.161768\n        ],\n        \"semantic_type\": \"\",\n        \"description\": \"\"\n      }\n    },\n    {\n      \"column\": \"Volume\",\n      \"properties\": {\n        \"dtype\": \"number\",\n        \"std\": 3182514812,\n        \"min\": 2134170,\n        \"max\": 69410680685,\n        \"num_unique_values\": 2285,\n        \"samples\": [\n          401116993,\n          161121845,\n          23286000\n        ],\n        \"semantic_type\": \"\",\n        \"description\": \"\"\n      }\n    }\n  ]\n}"
            }
          },
          "metadata": {},
          "execution_count": 2
        }
      ]
    },
    {
      "cell_type": "code",
      "source": [
        "df.info()"
      ],
      "metadata": {
        "colab": {
          "base_uri": "https://localhost:8080/"
        },
        "id": "y45BW7BbcPl_",
        "outputId": "5e1ca869-1af8-4ded-d706-36991627514b"
      },
      "execution_count": 3,
      "outputs": [
        {
          "output_type": "stream",
          "name": "stdout",
          "text": [
            "<class 'pandas.core.frame.DataFrame'>\n",
            "RangeIndex: 2285 entries, 0 to 2284\n",
            "Data columns (total 7 columns):\n",
            " #   Column     Non-Null Count  Dtype         \n",
            "---  ------     --------------  -----         \n",
            " 0   Date       2285 non-null   datetime64[ns]\n",
            " 1   Open       2285 non-null   float64       \n",
            " 2   High       2285 non-null   float64       \n",
            " 3   Low        2285 non-null   float64       \n",
            " 4   Price      2285 non-null   float64       \n",
            " 5   Adj Close  2285 non-null   float64       \n",
            " 6   Volume     2285 non-null   int64         \n",
            "dtypes: datetime64[ns](1), float64(5), int64(1)\n",
            "memory usage: 125.1 KB\n"
          ]
        }
      ]
    },
    {
      "cell_type": "code",
      "source": [
        "# Thiết lập index\n",
        "df1=df.reset_index()['Price']\n"
      ],
      "metadata": {
        "id": "UN5dzdoDNEet"
      },
      "execution_count": 4,
      "outputs": []
    },
    {
      "cell_type": "code",
      "source": [
        "# Scaler data\n",
        "scaler=MinMaxScaler(feature_range=(0,1))\n",
        "df1=scaler.fit_transform(np.array(df1).reshape(-1,1))"
      ],
      "metadata": {
        "id": "b1XLCdJHMRAd"
      },
      "execution_count": 5,
      "outputs": []
    },
    {
      "cell_type": "code",
      "source": [
        "# Chia train test\n",
        "train_size= int(0.7 * len(df1))\n",
        "test_size = len(df1) - train_size\n",
        "\n",
        "train_data = df1[:train_size]\n",
        "test_data = df1[train_size:]"
      ],
      "metadata": {
        "id": "G6LwdRGreOtq"
      },
      "execution_count": 6,
      "outputs": []
    },
    {
      "cell_type": "code",
      "source": [
        "# convert an array of values into a dataset matrix\n",
        "def create_dataset(dataset, time_step=1):\n",
        "\tdataX, dataY = [], []\n",
        "\tfor i in range(len(dataset) - time_step - 1):\n",
        "\t\ta = dataset[i:(i + time_step)]\n",
        "\t\tdataX.append(a)\n",
        "\t\tdataY.append(dataset[i + time_step])\n",
        "\treturn np.array(dataX), np.array(dataY)\n"
      ],
      "metadata": {
        "id": "5VummKZ8Nq9P"
      },
      "execution_count": 7,
      "outputs": []
    },
    {
      "cell_type": "code",
      "source": [
        "# Reshape into X=t,t+1,t+2..t+99 and Y=t+100 _8_2\n",
        "time_step = 100\n",
        "X_train, y_train = create_dataset(train_data, time_step)\n",
        "combined_data = np.concatenate((train_data[-time_step:], test_data))\n",
        "X_test, y_test = create_dataset(combined_data, time_step)\n",
        "\n",
        "# Reshape dữ liệu cho phù hợp với mạng GRU\n",
        "X_train = X_train.reshape(X_train.shape[0], X_train.shape[1], 1)\n",
        "X_test = X_test.reshape(X_test.shape[0], X_test.shape[1], 1)"
      ],
      "metadata": {
        "id": "9wgrf7p0kQe0"
      },
      "execution_count": 8,
      "outputs": []
    },
    {
      "cell_type": "code",
      "source": [
        "# Define GRU Model\n",
        "\n",
        "model = Sequential()\n",
        "model.add(GRU(64, input_shape=(time_step, 1)))\n",
        "model.add(Dense(1))\n",
        "model.compile(optimizer='adam', loss='mean_squared_error')"
      ],
      "metadata": {
        "id": "AghcD3L7Nww-"
      },
      "execution_count": 9,
      "outputs": []
    },
    {
      "cell_type": "code",
      "source": [
        "# 9. Fit mô hình với dữ liệu train\n",
        "model.fit(X_train, y_train, epochs=100, batch_size=64, verbose=1)"
      ],
      "metadata": {
        "colab": {
          "base_uri": "https://localhost:8080/"
        },
        "id": "khNSzr8uIlQt",
        "outputId": "277b3096-7ebe-4c67-b918-c1ff17e971e3"
      },
      "execution_count": 10,
      "outputs": [
        {
          "output_type": "stream",
          "name": "stdout",
          "text": [
            "Epoch 1/100\n",
            "24/24 [==============================] - 4s 59ms/step - loss: 0.0145\n",
            "Epoch 2/100\n",
            "24/24 [==============================] - 2s 86ms/step - loss: 0.0013\n",
            "Epoch 3/100\n",
            "24/24 [==============================] - 2s 90ms/step - loss: 8.3523e-04\n",
            "Epoch 4/100\n",
            "24/24 [==============================] - 2s 64ms/step - loss: 7.7204e-04\n",
            "Epoch 5/100\n",
            "24/24 [==============================] - 1s 52ms/step - loss: 7.2652e-04\n",
            "Epoch 6/100\n",
            "24/24 [==============================] - 1s 55ms/step - loss: 6.9612e-04\n",
            "Epoch 7/100\n",
            "24/24 [==============================] - 1s 56ms/step - loss: 7.0493e-04\n",
            "Epoch 8/100\n",
            "24/24 [==============================] - 1s 54ms/step - loss: 6.5290e-04\n",
            "Epoch 9/100\n",
            "24/24 [==============================] - 1s 51ms/step - loss: 6.2983e-04\n",
            "Epoch 10/100\n",
            "24/24 [==============================] - 1s 53ms/step - loss: 5.9697e-04\n",
            "Epoch 11/100\n",
            "24/24 [==============================] - 1s 52ms/step - loss: 5.8037e-04\n",
            "Epoch 12/100\n",
            "24/24 [==============================] - 2s 83ms/step - loss: 5.6863e-04\n",
            "Epoch 13/100\n",
            "24/24 [==============================] - 2s 90ms/step - loss: 5.6134e-04\n",
            "Epoch 14/100\n",
            "24/24 [==============================] - 2s 76ms/step - loss: 5.4182e-04\n",
            "Epoch 15/100\n",
            "24/24 [==============================] - 1s 51ms/step - loss: 5.4682e-04\n",
            "Epoch 16/100\n",
            "24/24 [==============================] - 1s 55ms/step - loss: 5.2978e-04\n",
            "Epoch 17/100\n",
            "24/24 [==============================] - 2s 63ms/step - loss: 4.9905e-04\n",
            "Epoch 18/100\n",
            "24/24 [==============================] - 1s 51ms/step - loss: 5.0152e-04\n",
            "Epoch 19/100\n",
            "24/24 [==============================] - 1s 46ms/step - loss: 4.9015e-04\n",
            "Epoch 20/100\n",
            "24/24 [==============================] - 1s 49ms/step - loss: 4.6196e-04\n",
            "Epoch 21/100\n",
            "24/24 [==============================] - 1s 54ms/step - loss: 4.8002e-04\n",
            "Epoch 22/100\n",
            "24/24 [==============================] - 1s 60ms/step - loss: 4.6582e-04\n",
            "Epoch 23/100\n",
            "24/24 [==============================] - 2s 82ms/step - loss: 4.4409e-04\n",
            "Epoch 24/100\n",
            "24/24 [==============================] - 2s 89ms/step - loss: 4.4782e-04\n",
            "Epoch 25/100\n",
            "24/24 [==============================] - 2s 76ms/step - loss: 4.5188e-04\n",
            "Epoch 26/100\n",
            "24/24 [==============================] - 1s 58ms/step - loss: 4.3211e-04\n",
            "Epoch 27/100\n",
            "24/24 [==============================] - 1s 62ms/step - loss: 4.2407e-04\n",
            "Epoch 28/100\n",
            "24/24 [==============================] - 1s 57ms/step - loss: 4.3355e-04\n",
            "Epoch 29/100\n",
            "24/24 [==============================] - 1s 57ms/step - loss: 4.1417e-04\n",
            "Epoch 30/100\n",
            "24/24 [==============================] - 1s 54ms/step - loss: 4.2199e-04\n",
            "Epoch 31/100\n",
            "24/24 [==============================] - 1s 49ms/step - loss: 4.3664e-04\n",
            "Epoch 32/100\n",
            "24/24 [==============================] - 1s 48ms/step - loss: 4.1046e-04\n",
            "Epoch 33/100\n",
            "24/24 [==============================] - 2s 81ms/step - loss: 4.0757e-04\n",
            "Epoch 34/100\n",
            "24/24 [==============================] - 2s 85ms/step - loss: 3.9029e-04\n",
            "Epoch 35/100\n",
            "24/24 [==============================] - 2s 85ms/step - loss: 4.0814e-04\n",
            "Epoch 36/100\n",
            "24/24 [==============================] - 1s 61ms/step - loss: 3.9218e-04\n",
            "Epoch 37/100\n",
            "24/24 [==============================] - 1s 53ms/step - loss: 3.9097e-04\n",
            "Epoch 38/100\n",
            "24/24 [==============================] - 1s 48ms/step - loss: 3.7944e-04\n",
            "Epoch 39/100\n",
            "24/24 [==============================] - 1s 54ms/step - loss: 3.8555e-04\n",
            "Epoch 40/100\n",
            "24/24 [==============================] - 1s 58ms/step - loss: 3.9037e-04\n",
            "Epoch 41/100\n",
            "24/24 [==============================] - 1s 55ms/step - loss: 3.7915e-04\n",
            "Epoch 42/100\n",
            "24/24 [==============================] - 1s 50ms/step - loss: 3.6838e-04\n",
            "Epoch 43/100\n",
            "24/24 [==============================] - 2s 66ms/step - loss: 4.1403e-04\n",
            "Epoch 44/100\n",
            "24/24 [==============================] - 2s 86ms/step - loss: 3.9746e-04\n",
            "Epoch 45/100\n",
            "24/24 [==============================] - 2s 88ms/step - loss: 3.8833e-04\n",
            "Epoch 46/100\n",
            "24/24 [==============================] - 2s 68ms/step - loss: 3.8683e-04\n",
            "Epoch 47/100\n",
            "24/24 [==============================] - 1s 51ms/step - loss: 3.7362e-04\n",
            "Epoch 48/100\n",
            "24/24 [==============================] - 2s 80ms/step - loss: 3.7100e-04\n",
            "Epoch 49/100\n",
            "24/24 [==============================] - 1s 55ms/step - loss: 3.8461e-04\n",
            "Epoch 50/100\n",
            "24/24 [==============================] - 1s 54ms/step - loss: 3.6832e-04\n",
            "Epoch 51/100\n",
            "24/24 [==============================] - 1s 51ms/step - loss: 3.9075e-04\n",
            "Epoch 52/100\n",
            "24/24 [==============================] - 1s 47ms/step - loss: 3.8798e-04\n",
            "Epoch 53/100\n",
            "24/24 [==============================] - 1s 60ms/step - loss: 3.7754e-04\n",
            "Epoch 54/100\n",
            "24/24 [==============================] - 2s 83ms/step - loss: 3.7765e-04\n",
            "Epoch 55/100\n",
            "24/24 [==============================] - 2s 81ms/step - loss: 3.5715e-04\n",
            "Epoch 56/100\n",
            "24/24 [==============================] - 2s 77ms/step - loss: 3.5954e-04\n",
            "Epoch 57/100\n",
            "24/24 [==============================] - 1s 52ms/step - loss: 3.8312e-04\n",
            "Epoch 58/100\n",
            "24/24 [==============================] - 1s 54ms/step - loss: 3.7810e-04\n",
            "Epoch 59/100\n",
            "24/24 [==============================] - 1s 49ms/step - loss: 3.6354e-04\n",
            "Epoch 60/100\n",
            "24/24 [==============================] - 1s 49ms/step - loss: 3.7862e-04\n",
            "Epoch 61/100\n",
            "24/24 [==============================] - 1s 50ms/step - loss: 3.8708e-04\n",
            "Epoch 62/100\n",
            "24/24 [==============================] - 1s 53ms/step - loss: 3.6448e-04\n",
            "Epoch 63/100\n",
            "24/24 [==============================] - 1s 52ms/step - loss: 3.7194e-04\n",
            "Epoch 64/100\n",
            "24/24 [==============================] - 1s 49ms/step - loss: 3.6819e-04\n",
            "Epoch 65/100\n",
            "24/24 [==============================] - 2s 81ms/step - loss: 3.7412e-04\n",
            "Epoch 66/100\n",
            "24/24 [==============================] - 2s 87ms/step - loss: 3.5813e-04\n",
            "Epoch 67/100\n",
            "24/24 [==============================] - 2s 78ms/step - loss: 3.8165e-04\n",
            "Epoch 68/100\n",
            "24/24 [==============================] - 1s 46ms/step - loss: 3.4930e-04\n",
            "Epoch 69/100\n",
            "24/24 [==============================] - 1s 51ms/step - loss: 3.5462e-04\n",
            "Epoch 70/100\n",
            "24/24 [==============================] - 1s 47ms/step - loss: 3.7257e-04\n",
            "Epoch 71/100\n",
            "24/24 [==============================] - 1s 50ms/step - loss: 3.5672e-04\n",
            "Epoch 72/100\n",
            "24/24 [==============================] - 1s 50ms/step - loss: 3.5216e-04\n",
            "Epoch 73/100\n",
            "24/24 [==============================] - 1s 50ms/step - loss: 3.6383e-04\n",
            "Epoch 74/100\n",
            "24/24 [==============================] - 1s 52ms/step - loss: 3.5267e-04\n",
            "Epoch 75/100\n",
            "24/24 [==============================] - 1s 47ms/step - loss: 3.5524e-04\n",
            "Epoch 76/100\n",
            "24/24 [==============================] - 2s 73ms/step - loss: 3.6040e-04\n",
            "Epoch 77/100\n",
            "24/24 [==============================] - 2s 79ms/step - loss: 3.5204e-04\n",
            "Epoch 78/100\n",
            "24/24 [==============================] - 2s 87ms/step - loss: 3.7308e-04\n",
            "Epoch 79/100\n",
            "24/24 [==============================] - 1s 59ms/step - loss: 3.4700e-04\n",
            "Epoch 80/100\n",
            "24/24 [==============================] - 1s 52ms/step - loss: 3.5881e-04\n",
            "Epoch 81/100\n",
            "24/24 [==============================] - 1s 55ms/step - loss: 3.6936e-04\n",
            "Epoch 82/100\n",
            "24/24 [==============================] - 1s 54ms/step - loss: 3.6850e-04\n",
            "Epoch 83/100\n",
            "24/24 [==============================] - 2s 96ms/step - loss: 3.7898e-04\n",
            "Epoch 84/100\n",
            "24/24 [==============================] - 2s 61ms/step - loss: 3.8240e-04\n",
            "Epoch 85/100\n",
            "24/24 [==============================] - 1s 59ms/step - loss: 3.5619e-04\n",
            "Epoch 86/100\n",
            "24/24 [==============================] - 2s 85ms/step - loss: 3.4429e-04\n",
            "Epoch 87/100\n",
            "24/24 [==============================] - 2s 83ms/step - loss: 3.5379e-04\n",
            "Epoch 88/100\n",
            "24/24 [==============================] - 2s 82ms/step - loss: 3.4928e-04\n",
            "Epoch 89/100\n",
            "24/24 [==============================] - 1s 51ms/step - loss: 3.7152e-04\n",
            "Epoch 90/100\n",
            "24/24 [==============================] - 1s 56ms/step - loss: 3.4899e-04\n",
            "Epoch 91/100\n",
            "24/24 [==============================] - 1s 55ms/step - loss: 3.4864e-04\n",
            "Epoch 92/100\n",
            "24/24 [==============================] - 1s 48ms/step - loss: 3.4515e-04\n",
            "Epoch 93/100\n",
            "24/24 [==============================] - 1s 57ms/step - loss: 3.5499e-04\n",
            "Epoch 94/100\n",
            "24/24 [==============================] - 1s 54ms/step - loss: 3.4908e-04\n",
            "Epoch 95/100\n",
            "24/24 [==============================] - 1s 51ms/step - loss: 3.5161e-04\n",
            "Epoch 96/100\n",
            "24/24 [==============================] - 2s 63ms/step - loss: 3.5846e-04\n",
            "Epoch 97/100\n",
            "24/24 [==============================] - 2s 86ms/step - loss: 3.4567e-04\n",
            "Epoch 98/100\n",
            "24/24 [==============================] - 2s 79ms/step - loss: 3.6313e-04\n",
            "Epoch 99/100\n",
            "24/24 [==============================] - 2s 71ms/step - loss: 3.5262e-04\n",
            "Epoch 100/100\n",
            "24/24 [==============================] - 1s 48ms/step - loss: 3.5973e-04\n"
          ]
        },
        {
          "output_type": "execute_result",
          "data": {
            "text/plain": [
              "<keras.src.callbacks.History at 0x7b5b5820b490>"
            ]
          },
          "metadata": {},
          "execution_count": 10
        }
      ]
    },
    {
      "cell_type": "code",
      "source": [
        "# Dự báo dữ liệu test và train\n",
        "train_predict = model.predict(X_train)\n",
        "y_pred = model.predict(X_test)"
      ],
      "metadata": {
        "colab": {
          "base_uri": "https://localhost:8080/"
        },
        "id": "Z7H6b5bilgXv",
        "outputId": "02d98bcf-b4ff-4882-9e2c-d2ca63dcff44"
      },
      "execution_count": 11,
      "outputs": [
        {
          "output_type": "stream",
          "name": "stdout",
          "text": [
            "47/47 [==============================] - 1s 14ms/step\n",
            "22/22 [==============================] - 0s 11ms/step\n"
          ]
        }
      ]
    },
    {
      "cell_type": "code",
      "source": [
        "# Chuẩn hóa dữ liệu y_pred\n",
        "train_predict = scaler.inverse_transform(train_predict)\n",
        "y_pred = scaler.inverse_transform(y_pred)"
      ],
      "metadata": {
        "id": "AGrwjDEOl9Mj"
      },
      "execution_count": 12,
      "outputs": []
    },
    {
      "cell_type": "code",
      "source": [
        "# Dự báo 90 ngày tiếp theo\n",
        "x_input = test_data[-100:].reshape(1, -1)\n",
        "temp_input = list(x_input[0])\n",
        "lst_output = []\n",
        "\n",
        "i = 0\n",
        "while(i < 90):\n",
        "    if len(temp_input) > 100:\n",
        "        x_input = np.array(temp_input[1:])  # Lấy từng ngày từ ngày thứ 2 trở đi\n",
        "        x_input = x_input.reshape(1, time_step, 1)  # Reshape lại để phù hợp với input của mạng\n",
        "        yhat = model.predict(x_input, verbose=0)  # Dự đoán giá cho ngày tiếp theo\n",
        "        temp_input.extend(yhat[0].tolist())  # Thêm dự đoán vào danh sách temp_input\n",
        "        temp_input = temp_input[1:]  # Loại bỏ ngày đầu tiên\n",
        "        lst_output.extend(yhat.tolist())  # Lưu dự đoán vào mảng lst_output\n",
        "        i += 1\n",
        "    else:\n",
        "        x_input = x_input.reshape(1, time_step, 1)  # Reshape lại để phù hợp với input của mạng\n",
        "        yhat = model.predict(x_input, verbose=0)  # Dự đoán giá cho ngày tiếp theo\n",
        "        temp_input.extend(yhat[0].tolist())  # Thêm dự đoán vào danh sách temp_input\n",
        "        lst_output.extend(yhat.tolist())  # Lưu dự đoán vào mảng lst_output\n",
        "        i += 1\n",
        "\n",
        "# In ra dự đoán cho 90 ngày tiếp theo\n",
        "print(\"Dự đoán giá cho 90 ngày tiếp theo:\")\n",
        "print(lst_output)"
      ],
      "metadata": {
        "colab": {
          "base_uri": "https://localhost:8080/"
        },
        "id": "4DfyL9LMW9fX",
        "outputId": "f613a042-6884-4567-a605-c24cdbdc99c7"
      },
      "execution_count": 13,
      "outputs": [
        {
          "output_type": "stream",
          "name": "stdout",
          "text": [
            "Dự đoán giá cho 90 ngày tiếp theo:\n",
            "[[0.23446723818778992], [0.23810911178588867], [0.2428375482559204], [0.24780143797397614], [0.2524403929710388], [0.2565682828426361], [0.26026302576065063], [0.26370999217033386], [0.26708054542541504], [0.27047449350357056], [0.27391642332077026], [0.27738234400749207], [0.28083160519599915], [0.2842290997505188], [0.28755590319633484], [0.29080790281295776], [0.29399028420448303], [0.2971111536026001], [0.3001764714717865], [0.303189218044281], [0.30614936351776123], [0.3090551495552063], [0.3119049370288849], [0.3146973252296448], [0.31743189692497253], [0.3201090097427368], [0.3227292597293854], [0.32529309391975403], [0.32780131697654724], [0.3302541673183441], [0.3326520621776581], [0.33499541878700256], [0.33728453516960144], [0.33952009677886963], [0.3417024612426758], [0.3438323736190796], [0.3459104895591736], [0.3479374647140503], [0.3499141037464142], [0.3518409729003906], [0.35371893644332886], [0.3555486798286438], [0.3573310673236847], [0.3590667247772217], [0.3607565760612488], [0.36240148544311523], [0.36400216817855835], [0.36555948853492737], [0.3670743703842163], [0.36854758858680725], [0.3699800670146942], [0.37137243151664734], [0.37272584438323975], [0.3740409016609192], [0.3753184974193573], [0.3765594959259033], [0.37776488065719604], [0.3789352476596832], [0.38007161021232605], [0.38117462396621704], [0.38224533200263977], [0.38328424096107483], [0.38429227471351624], [0.38527020812034607], [0.3862188458442688], [0.38713884353637695], [0.3880310356616974], [0.38889604806900024], [0.38973480463027954], [0.39054784178733826], [0.3913358449935913], [0.39209961891174316], [0.3928397297859192], [0.3935568630695343], [0.39425167441368103], [0.39492475986480713], [0.3955768048763275], [0.39620834589004517], [0.39681994915008545], [0.39741238951683044], [0.39798593521118164], [0.39854124188423157], [0.39907893538475037], [0.39959949254989624], [0.400103360414505], [0.40059107542037964], [0.4010631740093231], [0.4015200138092041], [0.4019622504711151], [0.40239012241363525]]\n"
          ]
        }
      ]
    },
    {
      "cell_type": "code",
      "source": [
        "predict_future_30 = lst_output[:30]\n",
        "predict_future_60 = lst_output[30:60]\n",
        "predict_future_90 = lst_output[60:]\n"
      ],
      "metadata": {
        "id": "vPOQbRv4A-Zx"
      },
      "execution_count": 14,
      "outputs": []
    },
    {
      "cell_type": "code",
      "source": [
        "#Vẽ hình\n",
        "# train_data_index = pd.RangeIndex(start=0, stop=len(train_data), step=1)\n",
        "# plt.plot(train_data_index, scaler.inverse_transform(train_data), label='Train')\n",
        "\n",
        "test_data_index = pd.RangeIndex(start=train_size, stop=train_size+len(test_data), step=1)\n",
        "plt.plot(test_data_index, scaler.inverse_transform(test_data), label='Test')\n",
        "\n",
        "predicted_test_index = pd.RangeIndex(start=train_size, stop=train_size+len(y_pred), step=1)\n",
        "plt.plot(predicted_test_index, y_pred)\n",
        "\n",
        "predict_future_30_index = pd.RangeIndex(start=test_data_index[-1]+1, stop=test_data_index[-1]+31, step=1)\n",
        "plt.plot(predict_future_30_index, scaler.inverse_transform(predict_future_30))\n",
        "\n",
        "predict_future_60_index = pd.RangeIndex(start=test_data_index[-1]+31, stop=test_data_index[-1]+61, step=1)\n",
        "plt.plot(predict_future_60_index, scaler.inverse_transform(predict_future_60))\n",
        "\n",
        "predict_future_90_index = pd.RangeIndex(start=test_data_index[-1]+61, stop=test_data_index[-1]+91, step=1)\n",
        "plt.plot(predict_future_90_index, scaler.inverse_transform(predict_future_90))\n",
        "\n",
        "plt.title('GRU - DOGE Stock Price - 7:3')\n",
        "plt.xlabel('Date')\n",
        "plt.ylabel('Price')\n",
        "plt.legend(['Test','Predict Test','Predict 30days','Predict 60days','Predict 90days'])\n",
        "plt.show()"
      ],
      "metadata": {
        "colab": {
          "base_uri": "https://localhost:8080/",
          "height": 472
        },
        "id": "9dEqqWytXSRo",
        "outputId": "560025db-e35b-427c-d8f2-d7f067ae0948"
      },
      "execution_count": 18,
      "outputs": [
        {
          "output_type": "display_data",
          "data": {
            "text/plain": [
              "<Figure size 640x480 with 1 Axes>"
            ],
            "image/png": "[encoded data removed]"
          },
          "metadata": {}
        }
      ]
    },
    {
      "cell_type": "code",
      "source": [
        "from sklearn.metrics import mean_absolute_error, mean_squared_error, mean_absolute_percentage_error\n",
        "\n",
        "mae = mean_absolute_error(y_test, y_pred)\n",
        "mape = mean_absolute_percentage_error(y_test, y_pred)\n",
        "rmse = np.sqrt(mean_squared_error(y_test, y_pred))\n",
        "\n",
        "print(\"Mean Absolute Error (MAE):\", mae)\n",
        "print(\"Mean Absolute Percentage Error (MAPE):\", mape * 100)\n",
        "print(\"Root Mean Square Error (RMSE):\", rmse)"
      ],
      "metadata": {
        "colab": {
          "base_uri": "https://localhost:8080/"
        },
        "id": "APE0pAmrJKcg",
        "outputId": "34a25315-9ae8-41a3-eabb-fabc1bff4e97"
      },
      "execution_count": 17,
      "outputs": [
        {
          "output_type": "stream",
          "name": "stdout",
          "text": [
            "Mean Absolute Error (MAE): 0.03526367549019522\n",
            "Mean Absolute Percentage Error (MAPE): 27.4560145830677\n",
            "Root Mean Square Error (RMSE): 0.0390693998465557\n"
          ]
        }
      ]
    },
    {
      "cell_type": "markdown",
      "source": [],
      "metadata": {
        "id": "3yRLTREua_1d"
      }
    },
    {
      "cell_type": "code",
      "source": [],
      "metadata": {
        "id": "fxjVSJqCa8n1"
      },
      "execution_count": null,
      "outputs": []
    }
  ]
}