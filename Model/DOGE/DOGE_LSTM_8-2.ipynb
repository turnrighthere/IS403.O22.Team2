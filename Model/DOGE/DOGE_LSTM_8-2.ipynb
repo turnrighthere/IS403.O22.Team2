{
 "cells": [
  {
   "cell_type": "code",
   "execution_count": 2,
   "id": "d6e03734-7a73-489d-9cdc-84acf78c00e5",
   "metadata": {
    "tags": []
   },
   "outputs": [],
   "source": [
    "# 1. Import thư viện cần thiết\n",
    "import numpy as np\n",
    "import pandas as pd\n",
    "import matplotlib.pyplot as plt\n",
    "from sklearn.preprocessing import MinMaxScaler\n",
    "from keras.models import Sequential\n",
    "from keras.layers import Dense, LSTM"
   ]
  },
  {
   "cell_type": "code",
   "execution_count": 3,
   "id": "07adbc1b-a1d2-41ba-b0a6-73848cc36a2e",
   "metadata": {
    "tags": []
   },
   "outputs": [
    {
     "name": "stdout",
     "output_type": "stream",
     "text": [
      "<class 'pandas.core.frame.DataFrame'>\n",
      "RangeIndex: 2285 entries, 0 to 2284\n",
      "Data columns (total 7 columns):\n",
      " #   Column     Non-Null Count  Dtype  \n",
      "---  ------     --------------  -----  \n",
      " 0   Date       2285 non-null   object \n",
      " 1   Open       2285 non-null   float64\n",
      " 2   High       2285 non-null   float64\n",
      " 3   Low        2285 non-null   float64\n",
      " 4   Price      2285 non-null   float64\n",
      " 5   Adj Close  2285 non-null   float64\n",
      " 6   Volume     2285 non-null   int64  \n",
      "dtypes: float64(5), int64(1), object(1)\n",
      "memory usage: 125.1+ KB\n"
     ]
    }
   ],
   "source": [
    "# 2. Đọc file csv và gắn index với giá Price\n",
    "df = pd.read_csv('pre_DOGE-USD.csv')\n",
    "df = df.rename(columns={'Close': 'Price'})\n",
    "df1 = df.reset_index()['Price']\n",
    "df.info()"
   ]
  },
  {
   "cell_type": "code",
   "execution_count": 4,
   "id": "823c305d-3c3c-46d7-ab97-99ea957bb915",
   "metadata": {
    "tags": []
   },
   "outputs": [],
   "source": [
    "# 3. Scaler data\n",
    "scaler = MinMaxScaler(feature_range=(0, 1))\n",
    "df1 = scaler.fit_transform(np.array(df1).reshape(-1, 1))"
   ]
  },
  {
   "cell_type": "code",
   "execution_count": 5,
   "id": "3c933b12-160d-4589-bda4-f6e0541be771",
   "metadata": {
    "tags": []
   },
   "outputs": [
    {
     "name": "stdout",
     "output_type": "stream",
     "text": [
      "Train shape: (1828, 1)\n",
      "Test shape: (457, 1)\n"
     ]
    }
   ],
   "source": [
    "# 4. Chia train test 8 - 2\n",
    "train_size = int(0.8 * len(df1))\n",
    "test_size = len(df1) - train_size\n",
    "\n",
    "# Lấy dữ liệu train và test\n",
    "train_data = df1[:train_size]\n",
    "test_data = df1[train_size:]\n",
    "\n",
    "print(\"Train shape:\", train_data.shape)\n",
    "print(\"Test shape:\", test_data.shape)"
   ]
  },
  {
   "cell_type": "code",
   "execution_count": 6,
   "id": "86d16400-4b94-40f8-b6ec-13ca9fae2127",
   "metadata": {
    "tags": []
   },
   "outputs": [],
   "source": [
    "# 5. Hàm Create Dataset\n",
    "import numpy\n",
    "# convert an array of values into a dataset matrix\n",
    "def create_dataset(dataset, time_step=1):\n",
    "\tdataX, dataY = [], []\n",
    "\tfor i in range(len(dataset)-time_step-1):\n",
    "\t\ta = dataset[i:(i+time_step), 0]   ###i=0, X=0,1,2,3-----99   Y=100 \n",
    "\t\tdataX.append(a)\n",
    "\t\tdataY.append(dataset[i + time_step, 0])\n",
    "\treturn numpy.array(dataX), numpy.array(dataY)"
   ]
  },
  {
   "cell_type": "code",
   "execution_count": 7,
   "id": "139117ad-87be-44e9-b6ec-91bf365f7d9b",
   "metadata": {
    "tags": []
   },
   "outputs": [],
   "source": [
    "# 6. Reshape into X=t,t+1,t+2..t+99 and Y=t+100\n",
    "time_step = 100\n",
    "X_train, y_train = create_dataset(train_data, time_step)\n",
    "combined_data = np.concatenate((train_data[-time_step:], test_data))\n",
    "X_test, ytest = create_dataset(combined_data, time_step)"
   ]
  },
  {
   "cell_type": "code",
   "execution_count": 8,
   "id": "f60d12b6-f562-48b8-99a5-d59b670f42c2",
   "metadata": {
    "tags": []
   },
   "outputs": [],
   "source": [
    "# 7. Reshape input to be [samples, time steps, features] which is required for LSTM\n",
    "X_train = X_train.reshape(X_train.shape[0], X_train.shape[1], 1)\n",
    "X_test = X_test.reshape(X_test.shape[0], X_test.shape[1], 1)"
   ]
  },
  {
   "cell_type": "code",
   "execution_count": 9,
   "id": "db87fc59-fb90-4e96-8eb0-7c65084b8ff6",
   "metadata": {
    "tags": []
   },
   "outputs": [],
   "source": [
    "# 8. Define LSTM Model\n",
    "model = Sequential()\n",
    "model.add(LSTM(50, return_sequences=True, input_shape=(100, 1)))\n",
    "model.add(LSTM(50, return_sequences=True))\n",
    "model.add(LSTM(50))\n",
    "model.add(Dense(1))\n",
    "model.compile(loss='mean_squared_error', optimizer='adam')"
   ]
  },
  {
   "cell_type": "code",
   "execution_count": 10,
   "id": "7d438015-03ba-433f-9c89-4bf4f6680ffe",
   "metadata": {
    "tags": []
   },
   "outputs": [
    {
     "name": "stdout",
     "output_type": "stream",
     "text": [
      "Epoch 1/100\n",
      "27/27 [==============================] - 32s 367ms/step - loss: 0.0057 - val_loss: 5.1872e-04\n",
      "Epoch 2/100\n",
      "27/27 [==============================] - 5s 186ms/step - loss: 0.0021 - val_loss: 4.1412e-04\n",
      "Epoch 3/100\n",
      "27/27 [==============================] - 5s 185ms/step - loss: 0.0016 - val_loss: 3.4468e-04\n",
      "Epoch 4/100\n",
      "27/27 [==============================] - 5s 185ms/step - loss: 0.0016 - val_loss: 4.5780e-04\n",
      "Epoch 5/100\n",
      "27/27 [==============================] - 5s 181ms/step - loss: 0.0014 - val_loss: 4.3531e-04\n",
      "Epoch 6/100\n",
      "27/27 [==============================] - 5s 190ms/step - loss: 0.0013 - val_loss: 2.8016e-04\n",
      "Epoch 7/100\n",
      "27/27 [==============================] - 6s 208ms/step - loss: 0.0013 - val_loss: 3.5397e-04\n",
      "Epoch 8/100\n",
      "27/27 [==============================] - 5s 190ms/step - loss: 0.0013 - val_loss: 4.0780e-04\n",
      "Epoch 9/100\n",
      "27/27 [==============================] - 5s 196ms/step - loss: 0.0013 - val_loss: 3.5144e-04\n",
      "Epoch 10/100\n",
      "27/27 [==============================] - 5s 190ms/step - loss: 0.0012 - val_loss: 2.8549e-04\n",
      "Epoch 11/100\n",
      "27/27 [==============================] - 5s 178ms/step - loss: 0.0012 - val_loss: 9.3928e-04\n",
      "Epoch 12/100\n",
      "27/27 [==============================] - 5s 179ms/step - loss: 0.0012 - val_loss: 3.4316e-04\n",
      "Epoch 13/100\n",
      "27/27 [==============================] - 5s 186ms/step - loss: 0.0011 - val_loss: 4.2046e-04\n",
      "Epoch 14/100\n",
      "27/27 [==============================] - 5s 187ms/step - loss: 9.9326e-04 - val_loss: 2.8275e-04\n",
      "Epoch 15/100\n",
      "27/27 [==============================] - 5s 182ms/step - loss: 0.0011 - val_loss: 9.1187e-04\n",
      "Epoch 16/100\n",
      "27/27 [==============================] - 5s 177ms/step - loss: 9.7719e-04 - val_loss: 3.3073e-04\n",
      "Epoch 17/100\n",
      "27/27 [==============================] - 6s 213ms/step - loss: 8.9696e-04 - val_loss: 2.2158e-04\n",
      "Epoch 18/100\n",
      "27/27 [==============================] - 6s 208ms/step - loss: 8.1316e-04 - val_loss: 3.3626e-04\n",
      "Epoch 19/100\n",
      "27/27 [==============================] - 5s 178ms/step - loss: 0.0010 - val_loss: 2.1302e-04\n",
      "Epoch 20/100\n",
      "27/27 [==============================] - 4s 162ms/step - loss: 8.3681e-04 - val_loss: 1.6822e-04\n",
      "Epoch 21/100\n",
      "27/27 [==============================] - 5s 194ms/step - loss: 6.8320e-04 - val_loss: 2.2614e-04\n",
      "Epoch 22/100\n",
      "27/27 [==============================] - 5s 186ms/step - loss: 7.9678e-04 - val_loss: 2.6516e-04\n",
      "Epoch 23/100\n",
      "27/27 [==============================] - 4s 166ms/step - loss: 6.2453e-04 - val_loss: 2.2659e-04\n",
      "Epoch 24/100\n",
      "27/27 [==============================] - 5s 169ms/step - loss: 5.6492e-04 - val_loss: 2.3742e-04\n",
      "Epoch 25/100\n",
      "27/27 [==============================] - 5s 171ms/step - loss: 5.1224e-04 - val_loss: 1.6658e-04\n",
      "Epoch 26/100\n",
      "27/27 [==============================] - 4s 164ms/step - loss: 5.4019e-04 - val_loss: 1.3393e-04\n",
      "Epoch 27/100\n",
      "27/27 [==============================] - 5s 172ms/step - loss: 4.7258e-04 - val_loss: 3.7027e-04\n",
      "Epoch 28/100\n",
      "27/27 [==============================] - 5s 175ms/step - loss: 4.2071e-04 - val_loss: 1.5433e-04\n",
      "Epoch 29/100\n",
      "27/27 [==============================] - 5s 197ms/step - loss: 4.0274e-04 - val_loss: 2.7455e-04\n",
      "Epoch 30/100\n",
      "27/27 [==============================] - 5s 182ms/step - loss: 6.0598e-04 - val_loss: 1.9667e-04\n",
      "Epoch 31/100\n",
      "27/27 [==============================] - 5s 169ms/step - loss: 4.6551e-04 - val_loss: 1.1225e-04\n",
      "Epoch 32/100\n",
      "27/27 [==============================] - 5s 175ms/step - loss: 3.9267e-04 - val_loss: 1.1442e-04\n",
      "Epoch 33/100\n",
      "27/27 [==============================] - 5s 171ms/step - loss: 3.8311e-04 - val_loss: 2.3339e-04\n",
      "Epoch 34/100\n",
      "27/27 [==============================] - 5s 193ms/step - loss: 4.1793e-04 - val_loss: 1.7995e-04\n",
      "Epoch 35/100\n",
      "27/27 [==============================] - 5s 182ms/step - loss: 4.1245e-04 - val_loss: 1.0568e-04\n",
      "Epoch 36/100\n",
      "27/27 [==============================] - 5s 197ms/step - loss: 3.5713e-04 - val_loss: 1.5354e-04\n",
      "Epoch 37/100\n",
      "27/27 [==============================] - 5s 168ms/step - loss: 4.1912e-04 - val_loss: 1.0351e-04\n",
      "Epoch 38/100\n",
      "27/27 [==============================] - 5s 170ms/step - loss: 3.8717e-04 - val_loss: 9.3299e-05\n",
      "Epoch 39/100\n",
      "27/27 [==============================] - 5s 177ms/step - loss: 3.6121e-04 - val_loss: 9.2343e-05\n",
      "Epoch 40/100\n",
      "27/27 [==============================] - 5s 180ms/step - loss: 3.7331e-04 - val_loss: 9.8319e-05\n",
      "Epoch 41/100\n",
      "27/27 [==============================] - 5s 175ms/step - loss: 3.3877e-04 - val_loss: 1.3137e-04\n",
      "Epoch 42/100\n",
      "27/27 [==============================] - 5s 178ms/step - loss: 4.4328e-04 - val_loss: 9.0877e-05\n",
      "Epoch 43/100\n",
      "27/27 [==============================] - 5s 184ms/step - loss: 3.8344e-04 - val_loss: 9.2387e-05\n",
      "Epoch 44/100\n",
      "27/27 [==============================] - 5s 193ms/step - loss: 3.4645e-04 - val_loss: 1.0529e-04\n",
      "Epoch 45/100\n",
      "27/27 [==============================] - 5s 183ms/step - loss: 3.8829e-04 - val_loss: 2.2143e-04\n",
      "Epoch 46/100\n",
      "27/27 [==============================] - 5s 201ms/step - loss: 3.9789e-04 - val_loss: 8.8437e-05\n",
      "Epoch 47/100\n",
      "27/27 [==============================] - 5s 184ms/step - loss: 3.7851e-04 - val_loss: 2.5688e-04\n",
      "Epoch 48/100\n",
      "27/27 [==============================] - 4s 165ms/step - loss: 3.7735e-04 - val_loss: 1.9794e-04\n",
      "Epoch 49/100\n",
      "27/27 [==============================] - 5s 178ms/step - loss: 3.7590e-04 - val_loss: 1.0968e-04\n",
      "Epoch 50/100\n",
      "27/27 [==============================] - 5s 166ms/step - loss: 3.4055e-04 - val_loss: 8.5377e-05\n",
      "Epoch 51/100\n",
      "27/27 [==============================] - 5s 169ms/step - loss: 3.5005e-04 - val_loss: 9.6790e-05\n",
      "Epoch 52/100\n",
      "27/27 [==============================] - 5s 187ms/step - loss: 3.6991e-04 - val_loss: 1.0933e-04\n",
      "Epoch 53/100\n",
      "27/27 [==============================] - 5s 197ms/step - loss: 3.6906e-04 - val_loss: 8.7573e-05\n",
      "Epoch 54/100\n",
      "27/27 [==============================] - 5s 191ms/step - loss: 3.4673e-04 - val_loss: 9.0400e-05\n",
      "Epoch 55/100\n",
      "27/27 [==============================] - 5s 172ms/step - loss: 3.5751e-04 - val_loss: 8.6104e-05\n",
      "Epoch 56/100\n",
      "27/27 [==============================] - 5s 170ms/step - loss: 3.1862e-04 - val_loss: 1.0814e-04\n",
      "Epoch 57/100\n",
      "27/27 [==============================] - 5s 172ms/step - loss: 3.4246e-04 - val_loss: 1.2133e-04\n",
      "Epoch 58/100\n",
      "27/27 [==============================] - 5s 175ms/step - loss: 3.7849e-04 - val_loss: 8.5039e-05\n",
      "Epoch 59/100\n",
      "27/27 [==============================] - 5s 182ms/step - loss: 3.7358e-04 - val_loss: 9.2815e-05\n",
      "Epoch 60/100\n",
      "27/27 [==============================] - 5s 200ms/step - loss: 3.4436e-04 - val_loss: 1.0211e-04\n",
      "Epoch 61/100\n",
      "27/27 [==============================] - 5s 180ms/step - loss: 3.5898e-04 - val_loss: 8.6211e-05\n",
      "Epoch 62/100\n",
      "27/27 [==============================] - 5s 200ms/step - loss: 3.2608e-04 - val_loss: 9.0115e-05\n",
      "Epoch 63/100\n",
      "27/27 [==============================] - 5s 199ms/step - loss: 3.4048e-04 - val_loss: 9.9797e-05\n",
      "Epoch 64/100\n",
      "27/27 [==============================] - 5s 175ms/step - loss: 3.4615e-04 - val_loss: 1.7864e-04\n",
      "Epoch 65/100\n",
      "27/27 [==============================] - 5s 177ms/step - loss: 3.6757e-04 - val_loss: 1.7984e-04\n",
      "Epoch 66/100\n",
      "27/27 [==============================] - 5s 180ms/step - loss: 3.3969e-04 - val_loss: 8.6685e-05\n",
      "Epoch 67/100\n",
      "27/27 [==============================] - 6s 209ms/step - loss: 3.1347e-04 - val_loss: 1.1330e-04\n",
      "Epoch 68/100\n",
      "27/27 [==============================] - 5s 173ms/step - loss: 3.3101e-04 - val_loss: 9.0719e-05\n",
      "Epoch 69/100\n",
      "27/27 [==============================] - 4s 165ms/step - loss: 3.3967e-04 - val_loss: 8.1167e-05\n",
      "Epoch 70/100\n",
      "27/27 [==============================] - 5s 173ms/step - loss: 3.2670e-04 - val_loss: 7.9715e-05\n",
      "Epoch 71/100\n",
      "27/27 [==============================] - 4s 164ms/step - loss: 3.3225e-04 - val_loss: 1.4866e-04\n",
      "Epoch 72/100\n",
      "27/27 [==============================] - 5s 177ms/step - loss: 3.3528e-04 - val_loss: 1.5249e-04\n",
      "Epoch 73/100\n",
      "27/27 [==============================] - 5s 189ms/step - loss: 3.4176e-04 - val_loss: 9.7907e-05\n",
      "Epoch 74/100\n",
      "27/27 [==============================] - 5s 177ms/step - loss: 3.4512e-04 - val_loss: 8.6484e-05\n",
      "Epoch 75/100\n",
      "27/27 [==============================] - 5s 196ms/step - loss: 3.2755e-04 - val_loss: 1.1552e-04\n",
      "Epoch 76/100\n",
      "27/27 [==============================] - 6s 220ms/step - loss: 3.3386e-04 - val_loss: 1.0158e-04\n",
      "Epoch 77/100\n",
      "27/27 [==============================] - 6s 207ms/step - loss: 3.7590e-04 - val_loss: 1.9391e-04\n",
      "Epoch 78/100\n",
      "27/27 [==============================] - 5s 204ms/step - loss: 3.9141e-04 - val_loss: 1.2119e-04\n",
      "Epoch 79/100\n",
      "27/27 [==============================] - 5s 187ms/step - loss: 3.1235e-04 - val_loss: 1.4710e-04\n",
      "Epoch 80/100\n",
      "27/27 [==============================] - 5s 197ms/step - loss: 3.3637e-04 - val_loss: 8.1475e-05\n",
      "Epoch 81/100\n",
      "27/27 [==============================] - 6s 239ms/step - loss: 3.1999e-04 - val_loss: 8.2168e-05\n",
      "Epoch 82/100\n",
      "27/27 [==============================] - 6s 206ms/step - loss: 2.9588e-04 - val_loss: 1.3845e-04\n",
      "Epoch 83/100\n",
      "27/27 [==============================] - 6s 212ms/step - loss: 3.1327e-04 - val_loss: 8.1523e-05\n",
      "Epoch 84/100\n",
      "27/27 [==============================] - 5s 196ms/step - loss: 3.0872e-04 - val_loss: 8.1734e-05\n",
      "Epoch 85/100\n",
      "27/27 [==============================] - 5s 192ms/step - loss: 3.4572e-04 - val_loss: 9.5559e-05\n",
      "Epoch 86/100\n",
      "27/27 [==============================] - 5s 191ms/step - loss: 2.9986e-04 - val_loss: 8.1911e-05\n",
      "Epoch 87/100\n",
      "27/27 [==============================] - 5s 179ms/step - loss: 2.9657e-04 - val_loss: 9.5572e-05\n",
      "Epoch 88/100\n",
      "27/27 [==============================] - 4s 164ms/step - loss: 2.8865e-04 - val_loss: 8.4125e-05\n",
      "Epoch 89/100\n",
      "27/27 [==============================] - 6s 210ms/step - loss: 2.9208e-04 - val_loss: 1.5833e-04\n",
      "Epoch 90/100\n",
      "27/27 [==============================] - 5s 168ms/step - loss: 3.3732e-04 - val_loss: 9.0496e-05\n",
      "Epoch 91/100\n",
      "27/27 [==============================] - 5s 178ms/step - loss: 3.0708e-04 - val_loss: 8.9951e-05\n",
      "Epoch 92/100\n",
      "27/27 [==============================] - 4s 166ms/step - loss: 3.1536e-04 - val_loss: 1.1676e-04\n",
      "Epoch 93/100\n",
      "27/27 [==============================] - 5s 184ms/step - loss: 3.0618e-04 - val_loss: 9.6819e-05\n",
      "Epoch 94/100\n",
      "27/27 [==============================] - 5s 179ms/step - loss: 3.2737e-04 - val_loss: 7.8979e-05\n",
      "Epoch 95/100\n",
      "27/27 [==============================] - 5s 171ms/step - loss: 3.0537e-04 - val_loss: 7.6039e-05\n",
      "Epoch 96/100\n",
      "27/27 [==============================] - 4s 160ms/step - loss: 3.0875e-04 - val_loss: 7.8342e-05\n",
      "Epoch 97/100\n",
      "27/27 [==============================] - 5s 175ms/step - loss: 2.9278e-04 - val_loss: 8.6971e-05\n",
      "Epoch 98/100\n",
      "27/27 [==============================] - 5s 170ms/step - loss: 2.7599e-04 - val_loss: 8.2369e-05\n",
      "Epoch 99/100\n",
      "27/27 [==============================] - 5s 184ms/step - loss: 2.9761e-04 - val_loss: 1.0323e-04\n",
      "Epoch 100/100\n",
      "27/27 [==============================] - 4s 155ms/step - loss: 2.9930e-04 - val_loss: 8.0470e-05\n"
     ]
    },
    {
     "data": {
      "text/plain": [
       "<keras.callbacks.History at 0x2051ad961d0>"
      ]
     },
     "execution_count": 10,
     "metadata": {},
     "output_type": "execute_result"
    }
   ],
   "source": [
    "# 9. Fit mô hình với dữ liệu train\n",
    "model.fit(X_train, y_train, validation_data=(X_test, ytest), epochs=100, batch_size=64, verbose=1)"
   ]
  },
  {
   "cell_type": "code",
   "execution_count": 11,
   "id": "11429718-53af-460b-bc27-6339c6f5f98e",
   "metadata": {},
   "outputs": [
    {
     "name": "stdout",
     "output_type": "stream",
     "text": [
      "54/54 [==============================] - 3s 33ms/step\n",
      "15/15 [==============================] - 1s 33ms/step\n"
     ]
    }
   ],
   "source": [
    "# 10. Dự báo dữ liệu test\n",
    "train_predict = model.predict(X_train)\n",
    "y_pred = model.predict(X_test)"
   ]
  },
  {
   "cell_type": "code",
   "execution_count": 12,
   "id": "325b6e6a-fb3e-4f67-a484-014e7ddb4183",
   "metadata": {},
   "outputs": [],
   "source": [
    "# 11. Chuẩn hóa dữ liệu y_pred\n",
    "train_predict = scaler.inverse_transform(train_predict)\n",
    "y_pred = scaler.inverse_transform(y_pred)"
   ]
  },
  {
   "cell_type": "code",
   "execution_count": 13,
   "id": "b964944b-407f-425e-9fbd-d7cd9e12b40a",
   "metadata": {
    "tags": []
   },
   "outputs": [
    {
     "name": "stdout",
     "output_type": "stream",
     "text": [
      "Mean Absolute Error (MAE): 0.04222867643682542\n",
      "Mean Absolute Percentage Error (MAPE): 31.544864340745153\n",
      "Root Mean Square Error (RMSE): 0.04622951228762152\n"
     ]
    }
   ],
   "source": [
    "# 12. Tính RMSE, MAPE, MAE\n",
    "from sklearn.metrics import mean_absolute_error, mean_squared_error, mean_absolute_percentage_error\n",
    "\n",
    "mae = mean_absolute_error(ytest, y_pred)\n",
    "mape = mean_absolute_percentage_error(ytest, y_pred)\n",
    "rmse = np.sqrt(mean_squared_error(ytest, y_pred))\n",
    "\n",
    "print(\"Mean Absolute Error (MAE):\", mae)\n",
    "print(\"Mean Absolute Percentage Error (MAPE):\", mape * 100)\n",
    "print(\"Root Mean Square Error (RMSE):\", rmse)"
   ]
  },
  {
   "cell_type": "code",
   "execution_count": 14,
   "id": "2e271a5d-d3ba-478b-ab4d-d877f6725302",
   "metadata": {
    "tags": []
   },
   "outputs": [],
   "source": [
    "# 13. Hàm dự báo\n",
    "def forecast_days(n_days):\n",
    "    x_input = test_data[-100:].reshape(1, -1)\n",
    "    temp_input = list(x_input[0])\n",
    "\n",
    "    lst_output = []\n",
    "    i = 0\n",
    "    while i < n_days:\n",
    "        if len(temp_input) > 100:\n",
    "            x_input = np.array(temp_input[1:])\n",
    "            x_input = x_input.reshape(1, -1)\n",
    "            x_input = x_input.reshape((1, time_step, 1))\n",
    "            yhat = model.predict(x_input, verbose=0)\n",
    "            temp_input.extend(yhat[0].tolist())\n",
    "            temp_input = temp_input[1:]\n",
    "            lst_output.extend(yhat.tolist())\n",
    "            i += 1\n",
    "        else:\n",
    "            x_input = x_input.reshape((1, time_step, 1))\n",
    "            yhat = model.predict(x_input, verbose=0)\n",
    "            temp_input.extend(yhat[0].tolist())\n",
    "            lst_output.extend(yhat.tolist())\n",
    "            i += 1\n",
    "    return lst_output"
   ]
  },
  {
   "cell_type": "code",
   "execution_count": 15,
   "id": "12343b63-3464-4e24-bf18-1f00bb17e507",
   "metadata": {
    "tags": []
   },
   "outputs": [],
   "source": [
    "# 14. Dự báo 30, 60, 90 ngày tiếp theo\n",
    "forecast_30 = forecast_days(30)\n",
    "forecast_60 = forecast_days(60)\n",
    "forecast_90 = forecast_days(90)"
   ]
  },
  {
   "cell_type": "code",
   "execution_count": 16,
   "id": "b4063bc9-d94d-471f-8117-331d74e51408",
   "metadata": {
    "tags": []
   },
   "outputs": [
    {
     "name": "stdout",
     "output_type": "stream",
     "text": [
      "Dự báo cho 30 ngày tiếp theo: [[0.22880062460899353], [0.22801044583320618], [0.2269349992275238], [0.2256200611591339], [0.22415097057819366], [0.22260986268520355], [0.22108325362205505], [0.2196284532546997], [0.21830612421035767], [0.2171175628900528], [0.21605536341667175], [0.21509498357772827], [0.21415174007415771], [0.21319647133350372], [0.2121768295764923], [0.21105948090553284], [0.20982250571250916], [0.20843489468097687], [0.20690318942070007], [0.20520733296871185], [0.2033601850271225], [0.20137226581573486], [0.1992398053407669], [0.1969722956418991], [0.19460555911064148], [0.19214458763599396], [0.1896105706691742], [0.18705147504806519], [0.18448123335838318], [0.18192413449287415]]\n"
     ]
    }
   ],
   "source": [
    "# 15. In ra dự đoán cho 30 ngày tiếp theo\n",
    "print(\"Dự báo cho 30 ngày tiếp theo:\", forecast_30)"
   ]
  },
  {
   "cell_type": "code",
   "execution_count": 17,
   "id": "67077348-1c5e-4d27-b85b-d6198039e6db",
   "metadata": {
    "tags": []
   },
   "outputs": [
    {
     "name": "stdout",
     "output_type": "stream",
     "text": [
      "Dự báo cho 60 ngày tiếp theo: [[0.22880062460899353], [0.22801044583320618], [0.2269349992275238], [0.2256200611591339], [0.22415097057819366], [0.22260986268520355], [0.22108325362205505], [0.2196284532546997], [0.21830612421035767], [0.2171175628900528], [0.21605536341667175], [0.21509498357772827], [0.21415174007415771], [0.21319647133350372], [0.2121768295764923], [0.21105948090553284], [0.20982250571250916], [0.20843489468097687], [0.20690318942070007], [0.20520733296871185], [0.2033601850271225], [0.20137226581573486], [0.1992398053407669], [0.1969722956418991], [0.19460555911064148], [0.19214458763599396], [0.1896105706691742], [0.18705147504806519], [0.18448123335838318], [0.18192413449287415], [0.17941074073314667], [0.17696428298950195], [0.17459288239479065], [0.17231351137161255], [0.17013344168663025], [0.1680678427219391], [0.16609637439250946], [0.16420960426330566], [0.16241466999053955], [0.16067902743816376], [0.15898340940475464], [0.15731845796108246], [0.15567250549793243], [0.15402750670909882], [0.1523771584033966], [0.15071360766887665], [0.1490233838558197], [0.14728957414627075], [0.1455172300338745], [0.14369145035743713], [0.14180243015289307], [0.1398470401763916], [0.13784003257751465], [0.13578122854232788], [0.13367736339569092], [0.13153712451457977], [0.1293773502111435], [0.12720942497253418], [0.12504738569259644], [0.1228981763124466]]\n"
     ]
    }
   ],
   "source": [
    "# 15. In ra dự đoán cho 60 ngày tiếp theo\n",
    "print(\"Dự báo cho 60 ngày tiếp theo:\", forecast_60)"
   ]
  },
  {
   "cell_type": "code",
   "execution_count": 18,
   "id": "64491d29-b028-4911-924a-472619538172",
   "metadata": {
    "tags": []
   },
   "outputs": [
    {
     "name": "stdout",
     "output_type": "stream",
     "text": [
      "Dự báo cho 90 ngày tiếp theo: [[0.22880062460899353], [0.22801044583320618], [0.2269349992275238], [0.2256200611591339], [0.22415097057819366], [0.22260986268520355], [0.22108325362205505], [0.2196284532546997], [0.21830612421035767], [0.2171175628900528], [0.21605536341667175], [0.21509498357772827], [0.21415174007415771], [0.21319647133350372], [0.2121768295764923], [0.21105948090553284], [0.20982250571250916], [0.20843489468097687], [0.20690318942070007], [0.20520733296871185], [0.2033601850271225], [0.20137226581573486], [0.1992398053407669], [0.1969722956418991], [0.19460555911064148], [0.19214458763599396], [0.1896105706691742], [0.18705147504806519], [0.18448123335838318], [0.18192413449287415], [0.17941074073314667], [0.17696428298950195], [0.17459288239479065], [0.17231351137161255], [0.17013344168663025], [0.1680678427219391], [0.16609637439250946], [0.16420960426330566], [0.16241466999053955], [0.16067902743816376], [0.15898340940475464], [0.15731845796108246], [0.15567250549793243], [0.15402750670909882], [0.1523771584033966], [0.15071360766887665], [0.1490233838558197], [0.14728957414627075], [0.1455172300338745], [0.14369145035743713], [0.14180243015289307], [0.1398470401763916], [0.13784003257751465], [0.13578122854232788], [0.13367736339569092], [0.13153712451457977], [0.1293773502111435], [0.12720942497253418], [0.12504738569259644], [0.1228981763124466], [0.12077575922012329], [0.11868691444396973], [0.11663535237312317], [0.11463009566068649], [0.11267297714948654], [0.11076793819665909], [0.10891560465097427], [0.10711485147476196], [0.1053609549999237], [0.10365324467420578], [0.1019892692565918], [0.10036960989236832], [0.09879062324762344], [0.09724357724189758], [0.09572140872478485], [0.0942164957523346], [0.09272105246782303], [0.0912332683801651], [0.08974115550518036], [0.08824174106121063], [0.08672994375228882], [0.08520490676164627], [0.08366120606660843], [0.0821014940738678], [0.08052078634500504], [0.0789228081703186], [0.07730624079704285], [0.07567242532968521], [0.07402891665697098], [0.0723763182759285]]\n"
     ]
    }
   ],
   "source": [
    "# 15. In ra dự đoán cho 90 ngày tiếp theo\n",
    "print(\"Dự báo cho 90 ngày tiếp theo:\", forecast_90)"
   ]
  },
  {
   "cell_type": "code",
   "execution_count": 19,
   "id": "3dd6ded5-fc67-4904-a0fd-59c167779a17",
   "metadata": {
    "tags": []
   },
   "outputs": [
    {
     "data": {
      "image/png": "[encoded data removed]",
      "text/plain": [
       "<Figure size 640x480 with 1 Axes>"
      ]
     },
     "metadata": {},
     "output_type": "display_data"
    }
   ],
   "source": [
    "# 16. Vẽ hình\n",
    "\n",
    "# Vẽ dữ liệu kiểm tra\n",
    "test_data_index = pd.RangeIndex(start=train_size, stop=train_size + test_size)\n",
    "plt.plot(test_data_index, scaler.inverse_transform(test_data), label='Test Data')\n",
    "\n",
    "# Vẽ dữ liệu dự đoán\n",
    "plt.plot(np.arange(train_size, train_size + len(y_pred)), y_pred, label='Predicted')\n",
    "\n",
    "# Vẽ dự báo 90, 60, 30 ngày\n",
    "plt.plot(np.arange(train_size + len(test_data), train_size + len(test_data) + len(forecast_90)), scaler.inverse_transform(forecast_90), label='Forecast 90 days')\n",
    "plt.plot(np.arange(train_size + len(test_data), train_size + len(test_data) + len(forecast_60)), scaler.inverse_transform(forecast_60), label='Forecast 60 days')\n",
    "plt.plot(np.arange(train_size + len(test_data), train_size + len(test_data) + len(forecast_30)), scaler.inverse_transform(forecast_30), label='Forecast 30 days')\n",
    "\n",
    "plt.title('LSTM - DOGE Stock Price - Forecast 30, 60, 90 days')\n",
    "plt.xlabel('Day')\n",
    "plt.ylabel('Price')\n",
    "plt.legend()\n",
    "plt.show()"
   ]
  }
 ],
 "metadata": {
  "kernelspec": {
   "display_name": "Python 3 (ipykernel)",
   "language": "python",
   "name": "python3"
  },
  "language_info": {
   "codemirror_mode": {
    "name": "ipython",
    "version": 3
   },
   "file_extension": ".py",
   "mimetype": "text/x-python",
   "name": "python",
   "nbconvert_exporter": "python",
   "pygments_lexer": "ipython3",
   "version": "3.10.8"
  }
 },
 "nbformat": 4,
 "nbformat_minor": 5
}
