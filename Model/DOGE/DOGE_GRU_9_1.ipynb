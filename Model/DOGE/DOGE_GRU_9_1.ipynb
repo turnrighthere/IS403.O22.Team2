{
  "nbformat": 4,
  "nbformat_minor": 0,
  "metadata": {
    "colab": {
      "provenance": []
    },
    "kernelspec": {
      "name": "python3",
      "display_name": "Python 3"
    },
    "language_info": {
      "name": "python"
    }
  },
  "cells": [
    {
      "cell_type": "code",
      "execution_count": 1,
      "metadata": {
        "id": "2s2M7RWnLyVs",
        "colab": {
          "base_uri": "https://localhost:8080/"
        },
        "outputId": "c1db17fb-9222-42b0-dcaf-12577382fed3"
      },
      "outputs": [
        {
          "output_type": "stream",
          "name": "stdout",
          "text": [
            "Mounted at /content/drive\n"
          ]
        }
      ],
      "source": [
        "from google.colab import drive\n",
        "drive.mount('/content/drive')\n",
        "import numpy as np\n",
        "import pandas as pd\n",
        "import matplotlib.pyplot as plt\n",
        "from sklearn.preprocessing import MinMaxScaler\n",
        "from keras.models import Sequential\n",
        "from keras.layers import Dense, GRU"
      ]
    },
    {
      "cell_type": "code",
      "source": [
        "# Đọc file csv\n",
        "df = pd.read_csv('/content/drive/MyDrive/Colab Notebooks/Data/pre_DOGE-USD.csv')\n",
        "df = df.rename(columns={'Close': 'Price'})\n",
        "df['Date'] = pd.to_datetime(df['Date'])\n",
        "df.head(5)"
      ],
      "metadata": {
        "id": "N4mD72x5nuXt",
        "colab": {
          "base_uri": "https://localhost:8080/",
          "height": 206
        },
        "outputId": "0a7fd9fc-dc4b-4920-e0db-4b6fde9a1904"
      },
      "execution_count": 3,
      "outputs": [
        {
          "output_type": "execute_result",
          "data": {
            "text/plain": [
              "        Date      Open      High       Low     Price  Adj Close    Volume\n",
              "0 2018-03-01  0.006042  0.006320  0.005945  0.006215   0.006215  15518400\n",
              "1 2018-03-02  0.006174  0.006232  0.005447  0.005482   0.005482  22498100\n",
              "2 2018-03-03  0.005494  0.005756  0.005181  0.005301   0.005301  21545000\n",
              "3 2018-03-04  0.005234  0.005502  0.005164  0.005502   0.005502  12133500\n",
              "4 2018-03-05  0.005462  0.005535  0.005157  0.005218   0.005218  13627700"
            ],
            "text/html": [
              "\n",
              "  <div id=\"df-b3d55c35-084a-491e-b46e-9042e2b1b2d3\" class=\"colab-df-container\">\n",
              "    <div>\n",
              "<style scoped>\n",
              "    .dataframe tbody tr th:only-of-type {\n",
              "        vertical-align: middle;\n",
              "    }\n",
              "\n",
              "    .dataframe tbody tr th {\n",
              "        vertical-align: top;\n",
              "    }\n",
              "\n",
              "    .dataframe thead th {\n",
              "        text-align: right;\n",
              "    }\n",
              "</style>\n",
              "<table border=\"1\" class=\"dataframe\">\n",
              "  <thead>\n",
              "    <tr style=\"text-align: right;\">\n",
              "      <th></th>\n",
              "      <th>Date</th>\n",
              "      <th>Open</th>\n",
              "      <th>High</th>\n",
              "      <th>Low</th>\n",
              "      <th>Price</th>\n",
              "      <th>Adj Close</th>\n",
              "      <th>Volume</th>\n",
              "    </tr>\n",
              "  </thead>\n",
              "  <tbody>\n",
              "    <tr>\n",
              "      <th>0</th>\n",
              "      <td>2018-03-01</td>\n",
              "      <td>0.006042</td>\n",
              "      <td>0.006320</td>\n",
              "      <td>0.005945</td>\n",
              "      <td>0.006215</td>\n",
              "      <td>0.006215</td>\n",
              "      <td>15518400</td>\n",
              "    </tr>\n",
              "    <tr>\n",
              "      <th>1</th>\n",
              "      <td>2018-03-02</td>\n",
              "      <td>0.006174</td>\n",
              "      <td>0.006232</td>\n",
              "      <td>0.005447</td>\n",
              "      <td>0.005482</td>\n",
              "      <td>0.005482</td>\n",
              "      <td>22498100</td>\n",
              "    </tr>\n",
              "    <tr>\n",
              "      <th>2</th>\n",
              "      <td>2018-03-03</td>\n",
              "      <td>0.005494</td>\n",
              "      <td>0.005756</td>\n",
              "      <td>0.005181</td>\n",
              "      <td>0.005301</td>\n",
              "      <td>0.005301</td>\n",
              "      <td>21545000</td>\n",
              "    </tr>\n",
              "    <tr>\n",
              "      <th>3</th>\n",
              "      <td>2018-03-04</td>\n",
              "      <td>0.005234</td>\n",
              "      <td>0.005502</td>\n",
              "      <td>0.005164</td>\n",
              "      <td>0.005502</td>\n",
              "      <td>0.005502</td>\n",
              "      <td>12133500</td>\n",
              "    </tr>\n",
              "    <tr>\n",
              "      <th>4</th>\n",
              "      <td>2018-03-05</td>\n",
              "      <td>0.005462</td>\n",
              "      <td>0.005535</td>\n",
              "      <td>0.005157</td>\n",
              "      <td>0.005218</td>\n",
              "      <td>0.005218</td>\n",
              "      <td>13627700</td>\n",
              "    </tr>\n",
              "  </tbody>\n",
              "</table>\n",
              "</div>\n",
              "    <div class=\"colab-df-buttons\">\n",
              "\n",
              "  <div class=\"colab-df-container\">\n",
              "    <button class=\"colab-df-convert\" onclick=\"convertToInteractive('df-b3d55c35-084a-491e-b46e-9042e2b1b2d3')\"\n",
              "            title=\"Convert this dataframe to an interactive table.\"\n",
              "            style=\"display:none;\">\n",
              "\n",
              "  <svg xmlns=\"http://www.w3.org/2000/svg\" height=\"24px\" viewBox=\"0 -960 960 960\">\n",
              "    <path d=\"M120-120v-720h720v720H120Zm60-500h600v-160H180v160Zm220 220h160v-160H400v160Zm0 220h160v-160H400v160ZM180-400h160v-160H180v160Zm440 0h160v-160H620v160ZM180-180h160v-160H180v160Zm440 0h160v-160H620v160Z\"/>\n",
              "  </svg>\n",
              "    </button>\n",
              "\n",
              "  <style>\n",
              "    .colab-df-container {\n",
              "      display:flex;\n",
              "      gap: 12px;\n",
              "    }\n",
              "\n",
              "    .colab-df-convert {\n",
              "      background-color: #E8F0FE;\n",
              "      border: none;\n",
              "      border-radius: 50%;\n",
              "      cursor: pointer;\n",
              "      display: none;\n",
              "      fill: #1967D2;\n",
              "      height: 32px;\n",
              "      padding: 0 0 0 0;\n",
              "      width: 32px;\n",
              "    }\n",
              "\n",
              "    .colab-df-convert:hover {\n",
              "      background-color: #E2EBFA;\n",
              "      box-shadow: 0px 1px 2px rgba(60, 64, 67, 0.3), 0px 1px 3px 1px rgba(60, 64, 67, 0.15);\n",
              "      fill: #174EA6;\n",
              "    }\n",
              "\n",
              "    .colab-df-buttons div {\n",
              "      margin-bottom: 4px;\n",
              "    }\n",
              "\n",
              "    [theme=dark] .colab-df-convert {\n",
              "      background-color: #3B4455;\n",
              "      fill: #D2E3FC;\n",
              "    }\n",
              "\n",
              "    [theme=dark] .colab-df-convert:hover {\n",
              "      background-color: #434B5C;\n",
              "      box-shadow: 0px 1px 3px 1px rgba(0, 0, 0, 0.15);\n",
              "      filter: drop-shadow(0px 1px 2px rgba(0, 0, 0, 0.3));\n",
              "      fill: #FFFFFF;\n",
              "    }\n",
              "  </style>\n",
              "\n",
              "    <script>\n",
              "      const buttonEl =\n",
              "        document.querySelector('#df-b3d55c35-084a-491e-b46e-9042e2b1b2d3 button.colab-df-convert');\n",
              "      buttonEl.style.display =\n",
              "        google.colab.kernel.accessAllowed ? 'block' : 'none';\n",
              "\n",
              "      async function convertToInteractive(key) {\n",
              "        const element = document.querySelector('#df-b3d55c35-084a-491e-b46e-9042e2b1b2d3');\n",
              "        const dataTable =\n",
              "          await google.colab.kernel.invokeFunction('convertToInteractive',\n",
              "                                                    [key], {});\n",
              "        if (!dataTable) return;\n",
              "\n",
              "        const docLinkHtml = 'Like what you see? Visit the ' +\n",
              "          '<a target=\"_blank\" href=https://colab.research.google.com/notebooks/data_table.ipynb>data table notebook</a>'\n",
              "          + ' to learn more about interactive tables.';\n",
              "        element.innerHTML = '';\n",
              "        dataTable['output_type'] = 'display_data';\n",
              "        await google.colab.output.renderOutput(dataTable, element);\n",
              "        const docLink = document.createElement('div');\n",
              "        docLink.innerHTML = docLinkHtml;\n",
              "        element.appendChild(docLink);\n",
              "      }\n",
              "    </script>\n",
              "  </div>\n",
              "\n",
              "\n",
              "<div id=\"df-474ebd71-ae1d-462e-85df-c42ef0fbd544\">\n",
              "  <button class=\"colab-df-quickchart\" onclick=\"quickchart('df-474ebd71-ae1d-462e-85df-c42ef0fbd544')\"\n",
              "            title=\"Suggest charts\"\n",
              "            style=\"display:none;\">\n",
              "\n",
              "<svg xmlns=\"http://www.w3.org/2000/svg\" height=\"24px\"viewBox=\"0 0 24 24\"\n",
              "     width=\"24px\">\n",
              "    <g>\n",
              "        <path d=\"M19 3H5c-1.1 0-2 .9-2 2v14c0 1.1.9 2 2 2h14c1.1 0 2-.9 2-2V5c0-1.1-.9-2-2-2zM9 17H7v-7h2v7zm4 0h-2V7h2v10zm4 0h-2v-4h2v4z\"/>\n",
              "    </g>\n",
              "</svg>\n",
              "  </button>\n",
              "\n",
              "<style>\n",
              "  .colab-df-quickchart {\n",
              "      --bg-color: #E8F0FE;\n",
              "      --fill-color: #1967D2;\n",
              "      --hover-bg-color: #E2EBFA;\n",
              "      --hover-fill-color: #174EA6;\n",
              "      --disabled-fill-color: #AAA;\n",
              "      --disabled-bg-color: #DDD;\n",
              "  }\n",
              "\n",
              "  [theme=dark] .colab-df-quickchart {\n",
              "      --bg-color: #3B4455;\n",
              "      --fill-color: #D2E3FC;\n",
              "      --hover-bg-color: #434B5C;\n",
              "      --hover-fill-color: #FFFFFF;\n",
              "      --disabled-bg-color: #3B4455;\n",
              "      --disabled-fill-color: #666;\n",
              "  }\n",
              "\n",
              "  .colab-df-quickchart {\n",
              "    background-color: var(--bg-color);\n",
              "    border: none;\n",
              "    border-radius: 50%;\n",
              "    cursor: pointer;\n",
              "    display: none;\n",
              "    fill: var(--fill-color);\n",
              "    height: 32px;\n",
              "    padding: 0;\n",
              "    width: 32px;\n",
              "  }\n",
              "\n",
              "  .colab-df-quickchart:hover {\n",
              "    background-color: var(--hover-bg-color);\n",
              "    box-shadow: 0 1px 2px rgba(60, 64, 67, 0.3), 0 1px 3px 1px rgba(60, 64, 67, 0.15);\n",
              "    fill: var(--button-hover-fill-color);\n",
              "  }\n",
              "\n",
              "  .colab-df-quickchart-complete:disabled,\n",
              "  .colab-df-quickchart-complete:disabled:hover {\n",
              "    background-color: var(--disabled-bg-color);\n",
              "    fill: var(--disabled-fill-color);\n",
              "    box-shadow: none;\n",
              "  }\n",
              "\n",
              "  .colab-df-spinner {\n",
              "    border: 2px solid var(--fill-color);\n",
              "    border-color: transparent;\n",
              "    border-bottom-color: var(--fill-color);\n",
              "    animation:\n",
              "      spin 1s steps(1) infinite;\n",
              "  }\n",
              "\n",
              "  @keyframes spin {\n",
              "    0% {\n",
              "      border-color: transparent;\n",
              "      border-bottom-color: var(--fill-color);\n",
              "      border-left-color: var(--fill-color);\n",
              "    }\n",
              "    20% {\n",
              "      border-color: transparent;\n",
              "      border-left-color: var(--fill-color);\n",
              "      border-top-color: var(--fill-color);\n",
              "    }\n",
              "    30% {\n",
              "      border-color: transparent;\n",
              "      border-left-color: var(--fill-color);\n",
              "      border-top-color: var(--fill-color);\n",
              "      border-right-color: var(--fill-color);\n",
              "    }\n",
              "    40% {\n",
              "      border-color: transparent;\n",
              "      border-right-color: var(--fill-color);\n",
              "      border-top-color: var(--fill-color);\n",
              "    }\n",
              "    60% {\n",
              "      border-color: transparent;\n",
              "      border-right-color: var(--fill-color);\n",
              "    }\n",
              "    80% {\n",
              "      border-color: transparent;\n",
              "      border-right-color: var(--fill-color);\n",
              "      border-bottom-color: var(--fill-color);\n",
              "    }\n",
              "    90% {\n",
              "      border-color: transparent;\n",
              "      border-bottom-color: var(--fill-color);\n",
              "    }\n",
              "  }\n",
              "</style>\n",
              "\n",
              "  <script>\n",
              "    async function quickchart(key) {\n",
              "      const quickchartButtonEl =\n",
              "        document.querySelector('#' + key + ' button');\n",
              "      quickchartButtonEl.disabled = true;  // To prevent multiple clicks.\n",
              "      quickchartButtonEl.classList.add('colab-df-spinner');\n",
              "      try {\n",
              "        const charts = await google.colab.kernel.invokeFunction(\n",
              "            'suggestCharts', [key], {});\n",
              "      } catch (error) {\n",
              "        console.error('Error during call to suggestCharts:', error);\n",
              "      }\n",
              "      quickchartButtonEl.classList.remove('colab-df-spinner');\n",
              "      quickchartButtonEl.classList.add('colab-df-quickchart-complete');\n",
              "    }\n",
              "    (() => {\n",
              "      let quickchartButtonEl =\n",
              "        document.querySelector('#df-474ebd71-ae1d-462e-85df-c42ef0fbd544 button');\n",
              "      quickchartButtonEl.style.display =\n",
              "        google.colab.kernel.accessAllowed ? 'block' : 'none';\n",
              "    })();\n",
              "  </script>\n",
              "</div>\n",
              "\n",
              "    </div>\n",
              "  </div>\n"
            ],
            "application/vnd.google.colaboratory.intrinsic+json": {
              "type": "dataframe",
              "variable_name": "df",
              "summary": "{\n  \"name\": \"df\",\n  \"rows\": 2285,\n  \"fields\": [\n    {\n      \"column\": \"Date\",\n      \"properties\": {\n        \"dtype\": \"date\",\n        \"min\": \"2018-03-01 00:00:00\",\n        \"max\": \"2024-06-01 00:00:00\",\n        \"num_unique_values\": 2285,\n        \"samples\": [\n          \"2023-11-24 00:00:00\",\n          \"2020-04-03 00:00:00\",\n          \"2018-10-27 00:00:00\"\n        ],\n        \"semantic_type\": \"\",\n        \"description\": \"\"\n      }\n    },\n    {\n      \"column\": \"Open\",\n      \"properties\": {\n        \"dtype\": \"number\",\n        \"std\": 0.09059040845441783,\n        \"min\": 0.00154,\n        \"max\": 0.687801,\n        \"num_unique_values\": 2066,\n        \"samples\": [\n          0.072799,\n          0.086148,\n          0.082248\n        ],\n        \"semantic_type\": \"\",\n        \"description\": \"\"\n      }\n    },\n    {\n      \"column\": \"High\",\n      \"properties\": {\n        \"dtype\": \"number\",\n        \"std\": 0.09747188362048517,\n        \"min\": 0.001612,\n        \"max\": 0.737567,\n        \"num_unique_values\": 2069,\n        \"samples\": [\n          0.082083,\n          0.005296,\n          0.087904\n        ],\n        \"semantic_type\": \"\",\n        \"description\": \"\"\n      }\n    },\n    {\n      \"column\": \"Low\",\n      \"properties\": {\n        \"dtype\": \"number\",\n        \"std\": 0.08392189081357403,\n        \"min\": 0.001247,\n        \"max\": 0.608168,\n        \"num_unique_values\": 2055,\n        \"samples\": [\n          0.072109,\n          0.002642,\n          0.075151\n        ],\n        \"semantic_type\": \"\",\n        \"description\": \"\"\n      }\n    },\n    {\n      \"column\": \"Price\",\n      \"properties\": {\n        \"dtype\": \"number\",\n        \"std\": 0.09065331630816681,\n        \"min\": 0.001537,\n        \"max\": 0.684777,\n        \"num_unique_values\": 2075,\n        \"samples\": [\n          0.049376,\n          0.003867,\n          0.161768\n        ],\n        \"semantic_type\": \"\",\n        \"description\": \"\"\n      }\n    },\n    {\n      \"column\": \"Adj Close\",\n      \"properties\": {\n        \"dtype\": \"number\",\n        \"std\": 0.09065331630816681,\n        \"min\": 0.001537,\n        \"max\": 0.684777,\n        \"num_unique_values\": 2075,\n        \"samples\": [\n          0.049376,\n          0.003867,\n          0.161768\n        ],\n        \"semantic_type\": \"\",\n        \"description\": \"\"\n      }\n    },\n    {\n      \"column\": \"Volume\",\n      \"properties\": {\n        \"dtype\": \"number\",\n        \"std\": 3182514812,\n        \"min\": 2134170,\n        \"max\": 69410680685,\n        \"num_unique_values\": 2285,\n        \"samples\": [\n          401116993,\n          161121845,\n          23286000\n        ],\n        \"semantic_type\": \"\",\n        \"description\": \"\"\n      }\n    }\n  ]\n}"
            }
          },
          "metadata": {},
          "execution_count": 3
        }
      ]
    },
    {
      "cell_type": "code",
      "source": [
        "df.info()"
      ],
      "metadata": {
        "colab": {
          "base_uri": "https://localhost:8080/"
        },
        "id": "y45BW7BbcPl_",
        "outputId": "3c394204-df04-4209-c60a-8d398c6bca28"
      },
      "execution_count": 4,
      "outputs": [
        {
          "output_type": "stream",
          "name": "stdout",
          "text": [
            "<class 'pandas.core.frame.DataFrame'>\n",
            "RangeIndex: 2285 entries, 0 to 2284\n",
            "Data columns (total 7 columns):\n",
            " #   Column     Non-Null Count  Dtype         \n",
            "---  ------     --------------  -----         \n",
            " 0   Date       2285 non-null   datetime64[ns]\n",
            " 1   Open       2285 non-null   float64       \n",
            " 2   High       2285 non-null   float64       \n",
            " 3   Low        2285 non-null   float64       \n",
            " 4   Price      2285 non-null   float64       \n",
            " 5   Adj Close  2285 non-null   float64       \n",
            " 6   Volume     2285 non-null   int64         \n",
            "dtypes: datetime64[ns](1), float64(5), int64(1)\n",
            "memory usage: 125.1 KB\n"
          ]
        }
      ]
    },
    {
      "cell_type": "code",
      "source": [
        "# Thiết lập index\n",
        "df1=df.reset_index()['Price']\n"
      ],
      "metadata": {
        "id": "UN5dzdoDNEet"
      },
      "execution_count": 5,
      "outputs": []
    },
    {
      "cell_type": "code",
      "source": [
        "# Scaler data\n",
        "scaler=MinMaxScaler(feature_range=(0,1))\n",
        "df1=scaler.fit_transform(np.array(df1).reshape(-1,1))"
      ],
      "metadata": {
        "id": "b1XLCdJHMRAd"
      },
      "execution_count": 6,
      "outputs": []
    },
    {
      "cell_type": "code",
      "source": [
        "# Chia train test\n",
        "train_size= int(0.9 * len(df1))\n",
        "test_size = len(df1) - train_size\n",
        "\n",
        "train_data = df1[:train_size]\n",
        "test_data = df1[train_size:]"
      ],
      "metadata": {
        "id": "G6LwdRGreOtq"
      },
      "execution_count": 7,
      "outputs": []
    },
    {
      "cell_type": "code",
      "source": [
        "# convert an array of values into a dataset matrix\n",
        "def create_dataset(dataset, time_step=1):\n",
        "\tdataX, dataY = [], []\n",
        "\tfor i in range(len(dataset) - time_step - 1):\n",
        "\t\ta = dataset[i:(i + time_step)]\n",
        "\t\tdataX.append(a)\n",
        "\t\tdataY.append(dataset[i + time_step])\n",
        "\treturn np.array(dataX), np.array(dataY)\n"
      ],
      "metadata": {
        "id": "5VummKZ8Nq9P"
      },
      "execution_count": 8,
      "outputs": []
    },
    {
      "cell_type": "code",
      "source": [
        "# Reshape into X=t,t+1,t+2..t+99 and Y=t+100 _8_2\n",
        "time_step = 100\n",
        "X_train, y_train = create_dataset(train_data, time_step)\n",
        "combined_data = np.concatenate((train_data[-time_step:], test_data))\n",
        "X_test, y_test = create_dataset(combined_data, time_step)\n",
        "\n",
        "# Reshape dữ liệu cho phù hợp với mạng GRU\n",
        "X_train = X_train.reshape(X_train.shape[0], X_train.shape[1], 1)\n",
        "X_test = X_test.reshape(X_test.shape[0], X_test.shape[1], 1)"
      ],
      "metadata": {
        "id": "9wgrf7p0kQe0"
      },
      "execution_count": 9,
      "outputs": []
    },
    {
      "cell_type": "code",
      "source": [
        "# Define GRU Model\n",
        "\n",
        "model = Sequential()\n",
        "model.add(GRU(64, input_shape=(time_step, 1)))\n",
        "model.add(Dense(1))\n",
        "model.compile(optimizer='adam', loss='mean_squared_error')"
      ],
      "metadata": {
        "id": "AghcD3L7Nww-"
      },
      "execution_count": 10,
      "outputs": []
    },
    {
      "cell_type": "code",
      "source": [
        "# 9. Fit mô hình với dữ liệu train\n",
        "model.fit(X_train, y_train, epochs=100, batch_size=64, verbose=1)"
      ],
      "metadata": {
        "colab": {
          "base_uri": "https://localhost:8080/"
        },
        "id": "khNSzr8uIlQt",
        "outputId": "ef9762fd-196d-4780-a292-d9f5d2e62550"
      },
      "execution_count": 11,
      "outputs": [
        {
          "output_type": "stream",
          "name": "stdout",
          "text": [
            "Epoch 1/100\n",
            "31/31 [==============================] - 4s 44ms/step - loss: 0.0077\n",
            "Epoch 2/100\n",
            "31/31 [==============================] - 1s 42ms/step - loss: 9.3717e-04\n",
            "Epoch 3/100\n",
            "31/31 [==============================] - 2s 60ms/step - loss: 7.0146e-04\n",
            "Epoch 4/100\n",
            "31/31 [==============================] - 2s 71ms/step - loss: 6.0351e-04\n",
            "Epoch 5/100\n",
            "31/31 [==============================] - 3s 81ms/step - loss: 5.8117e-04\n",
            "Epoch 6/100\n",
            "31/31 [==============================] - 2s 72ms/step - loss: 5.6579e-04\n",
            "Epoch 7/100\n",
            "31/31 [==============================] - 2s 67ms/step - loss: 5.2930e-04\n",
            "Epoch 8/100\n",
            "31/31 [==============================] - 1s 43ms/step - loss: 4.9401e-04\n",
            "Epoch 9/100\n",
            "31/31 [==============================] - 1s 43ms/step - loss: 4.7617e-04\n",
            "Epoch 10/100\n",
            "31/31 [==============================] - 1s 43ms/step - loss: 4.5351e-04\n",
            "Epoch 11/100\n",
            "31/31 [==============================] - 2s 49ms/step - loss: 4.3443e-04\n",
            "Epoch 12/100\n",
            "31/31 [==============================] - 2s 72ms/step - loss: 4.3145e-04\n",
            "Epoch 13/100\n",
            "31/31 [==============================] - 2s 72ms/step - loss: 4.0300e-04\n",
            "Epoch 14/100\n",
            "31/31 [==============================] - 1s 42ms/step - loss: 3.9439e-04\n",
            "Epoch 15/100\n",
            "31/31 [==============================] - 1s 42ms/step - loss: 3.8223e-04\n",
            "Epoch 16/100\n",
            "31/31 [==============================] - 1s 43ms/step - loss: 3.7852e-04\n",
            "Epoch 17/100\n",
            "31/31 [==============================] - 1s 43ms/step - loss: 3.6804e-04\n",
            "Epoch 18/100\n",
            "31/31 [==============================] - 1s 44ms/step - loss: 3.4948e-04\n",
            "Epoch 19/100\n",
            "31/31 [==============================] - 1s 43ms/step - loss: 3.3935e-04\n",
            "Epoch 20/100\n",
            "31/31 [==============================] - 1s 44ms/step - loss: 3.8520e-04\n",
            "Epoch 21/100\n",
            "31/31 [==============================] - 2s 72ms/step - loss: 3.4235e-04\n",
            "Epoch 22/100\n",
            "31/31 [==============================] - 2s 73ms/step - loss: 3.4454e-04\n",
            "Epoch 23/100\n",
            "31/31 [==============================] - 2s 59ms/step - loss: 3.4311e-04\n",
            "Epoch 24/100\n",
            "31/31 [==============================] - 1s 44ms/step - loss: 3.4065e-04\n",
            "Epoch 25/100\n",
            "31/31 [==============================] - 1s 43ms/step - loss: 3.2016e-04\n",
            "Epoch 26/100\n",
            "31/31 [==============================] - 1s 44ms/step - loss: 3.0765e-04\n",
            "Epoch 27/100\n",
            "31/31 [==============================] - 1s 43ms/step - loss: 3.2254e-04\n",
            "Epoch 28/100\n",
            "31/31 [==============================] - 1s 44ms/step - loss: 3.1297e-04\n",
            "Epoch 29/100\n",
            "31/31 [==============================] - 1s 44ms/step - loss: 3.1497e-04\n",
            "Epoch 30/100\n",
            "31/31 [==============================] - 2s 79ms/step - loss: 3.1021e-04\n",
            "Epoch 31/100\n",
            "31/31 [==============================] - 2s 79ms/step - loss: 3.0960e-04\n",
            "Epoch 32/100\n",
            "31/31 [==============================] - 2s 63ms/step - loss: 3.0720e-04\n",
            "Epoch 33/100\n",
            "31/31 [==============================] - 1s 43ms/step - loss: 3.1877e-04\n",
            "Epoch 34/100\n",
            "31/31 [==============================] - 1s 45ms/step - loss: 2.8847e-04\n",
            "Epoch 35/100\n",
            "31/31 [==============================] - 1s 43ms/step - loss: 3.1486e-04\n",
            "Epoch 36/100\n",
            "31/31 [==============================] - 1s 43ms/step - loss: 3.0250e-04\n",
            "Epoch 37/100\n",
            "31/31 [==============================] - 1s 44ms/step - loss: 3.0116e-04\n",
            "Epoch 38/100\n",
            "31/31 [==============================] - 1s 43ms/step - loss: 2.9759e-04\n",
            "Epoch 39/100\n",
            "31/31 [==============================] - 1s 44ms/step - loss: 3.0436e-04\n",
            "Epoch 40/100\n",
            "31/31 [==============================] - 2s 73ms/step - loss: 2.8227e-04\n",
            "Epoch 41/100\n",
            "31/31 [==============================] - 2s 77ms/step - loss: 2.8678e-04\n",
            "Epoch 42/100\n",
            "31/31 [==============================] - 2s 51ms/step - loss: 2.8530e-04\n",
            "Epoch 43/100\n",
            "31/31 [==============================] - 1s 44ms/step - loss: 2.9716e-04\n",
            "Epoch 44/100\n",
            "31/31 [==============================] - 1s 43ms/step - loss: 2.8775e-04\n",
            "Epoch 45/100\n",
            "31/31 [==============================] - 2s 62ms/step - loss: 2.8258e-04\n",
            "Epoch 46/100\n",
            "31/31 [==============================] - 2s 59ms/step - loss: 2.7768e-04\n",
            "Epoch 47/100\n",
            "31/31 [==============================] - 1s 44ms/step - loss: 3.0591e-04\n",
            "Epoch 48/100\n",
            "31/31 [==============================] - 2s 52ms/step - loss: 2.8739e-04\n",
            "Epoch 49/100\n",
            "31/31 [==============================] - 2s 72ms/step - loss: 3.0630e-04\n",
            "Epoch 50/100\n",
            "31/31 [==============================] - 2s 74ms/step - loss: 3.0739e-04\n",
            "Epoch 51/100\n",
            "31/31 [==============================] - 1s 43ms/step - loss: 3.0456e-04\n",
            "Epoch 52/100\n",
            "31/31 [==============================] - 1s 43ms/step - loss: 2.8614e-04\n",
            "Epoch 53/100\n",
            "31/31 [==============================] - 1s 44ms/step - loss: 2.9167e-04\n",
            "Epoch 54/100\n",
            "31/31 [==============================] - 1s 43ms/step - loss: 3.0764e-04\n",
            "Epoch 55/100\n",
            "31/31 [==============================] - 1s 43ms/step - loss: 3.0330e-04\n",
            "Epoch 56/100\n",
            "31/31 [==============================] - 1s 44ms/step - loss: 3.0068e-04\n",
            "Epoch 57/100\n",
            "31/31 [==============================] - 1s 45ms/step - loss: 2.9472e-04\n",
            "Epoch 58/100\n",
            "31/31 [==============================] - 2s 62ms/step - loss: 2.8141e-04\n",
            "Epoch 59/100\n",
            "31/31 [==============================] - 2s 71ms/step - loss: 3.0320e-04\n",
            "Epoch 60/100\n",
            "31/31 [==============================] - 2s 68ms/step - loss: 2.9118e-04\n",
            "Epoch 61/100\n",
            "31/31 [==============================] - 1s 43ms/step - loss: 3.1081e-04\n",
            "Epoch 62/100\n",
            "31/31 [==============================] - 1s 43ms/step - loss: 2.7610e-04\n",
            "Epoch 63/100\n",
            "31/31 [==============================] - 1s 43ms/step - loss: 3.0055e-04\n",
            "Epoch 64/100\n",
            "31/31 [==============================] - 1s 45ms/step - loss: 2.9270e-04\n",
            "Epoch 65/100\n",
            "31/31 [==============================] - 1s 43ms/step - loss: 2.8787e-04\n",
            "Epoch 66/100\n",
            "31/31 [==============================] - 1s 43ms/step - loss: 2.7816e-04\n",
            "Epoch 67/100\n",
            "31/31 [==============================] - 1s 44ms/step - loss: 2.8037e-04\n",
            "Epoch 68/100\n",
            "31/31 [==============================] - 2s 68ms/step - loss: 3.0400e-04\n",
            "Epoch 69/100\n",
            "31/31 [==============================] - 2s 75ms/step - loss: 2.8664e-04\n",
            "Epoch 70/100\n",
            "31/31 [==============================] - 2s 54ms/step - loss: 2.7535e-04\n",
            "Epoch 71/100\n",
            "31/31 [==============================] - 1s 45ms/step - loss: 2.8538e-04\n",
            "Epoch 72/100\n",
            "31/31 [==============================] - 1s 45ms/step - loss: 3.1246e-04\n",
            "Epoch 73/100\n",
            "31/31 [==============================] - 1s 44ms/step - loss: 2.8456e-04\n",
            "Epoch 74/100\n",
            "31/31 [==============================] - 1s 45ms/step - loss: 2.9303e-04\n",
            "Epoch 75/100\n",
            "31/31 [==============================] - 2s 63ms/step - loss: 2.8607e-04\n",
            "Epoch 76/100\n",
            "31/31 [==============================] - 4s 121ms/step - loss: 2.9191e-04\n",
            "Epoch 77/100\n",
            "31/31 [==============================] - 4s 129ms/step - loss: 2.8603e-04\n",
            "Epoch 78/100\n",
            "31/31 [==============================] - 3s 90ms/step - loss: 2.7872e-04\n",
            "Epoch 79/100\n",
            "31/31 [==============================] - 2s 76ms/step - loss: 2.8370e-04\n",
            "Epoch 80/100\n",
            "31/31 [==============================] - 1s 43ms/step - loss: 2.8661e-04\n",
            "Epoch 81/100\n",
            "31/31 [==============================] - 1s 44ms/step - loss: 2.7593e-04\n",
            "Epoch 82/100\n",
            "31/31 [==============================] - 1s 43ms/step - loss: 2.7392e-04\n",
            "Epoch 83/100\n",
            "31/31 [==============================] - 2s 49ms/step - loss: 2.8064e-04\n",
            "Epoch 84/100\n",
            "31/31 [==============================] - 2s 71ms/step - loss: 2.8336e-04\n",
            "Epoch 85/100\n",
            "31/31 [==============================] - 2s 75ms/step - loss: 3.0929e-04\n",
            "Epoch 86/100\n",
            "31/31 [==============================] - 1s 47ms/step - loss: 2.7453e-04\n",
            "Epoch 87/100\n",
            "31/31 [==============================] - 1s 43ms/step - loss: 3.0052e-04\n",
            "Epoch 88/100\n",
            "31/31 [==============================] - 1s 44ms/step - loss: 2.8833e-04\n",
            "Epoch 89/100\n",
            "31/31 [==============================] - 1s 44ms/step - loss: 2.8935e-04\n",
            "Epoch 90/100\n",
            "31/31 [==============================] - 1s 43ms/step - loss: 2.7645e-04\n",
            "Epoch 91/100\n",
            "31/31 [==============================] - 1s 45ms/step - loss: 2.8490e-04\n",
            "Epoch 92/100\n",
            "31/31 [==============================] - 1s 43ms/step - loss: 2.7986e-04\n",
            "Epoch 93/100\n",
            "31/31 [==============================] - 2s 60ms/step - loss: 2.7757e-04\n",
            "Epoch 94/100\n",
            "31/31 [==============================] - 2s 71ms/step - loss: 2.7381e-04\n",
            "Epoch 95/100\n",
            "31/31 [==============================] - 2s 69ms/step - loss: 2.7795e-04\n",
            "Epoch 96/100\n",
            "31/31 [==============================] - 1s 44ms/step - loss: 2.8613e-04\n",
            "Epoch 97/100\n",
            "31/31 [==============================] - 1s 43ms/step - loss: 2.9007e-04\n",
            "Epoch 98/100\n",
            "31/31 [==============================] - 1s 44ms/step - loss: 2.7639e-04\n",
            "Epoch 99/100\n",
            "31/31 [==============================] - 1s 43ms/step - loss: 2.7189e-04\n",
            "Epoch 100/100\n",
            "31/31 [==============================] - 1s 43ms/step - loss: 2.7590e-04\n"
          ]
        },
        {
          "output_type": "execute_result",
          "data": {
            "text/plain": [
              "<keras.src.callbacks.History at 0x79052d61f6d0>"
            ]
          },
          "metadata": {},
          "execution_count": 11
        }
      ]
    },
    {
      "cell_type": "code",
      "source": [
        "# Dự báo dữ liệu test và train\n",
        "train_predict = model.predict(X_train)\n",
        "y_pred = model.predict(X_test)"
      ],
      "metadata": {
        "colab": {
          "base_uri": "https://localhost:8080/"
        },
        "id": "Z7H6b5bilgXv",
        "outputId": "fbc08608-33ce-4618-d365-4b3ff8879d2b"
      },
      "execution_count": 12,
      "outputs": [
        {
          "output_type": "stream",
          "name": "stdout",
          "text": [
            "62/62 [==============================] - 2s 16ms/step\n",
            "8/8 [==============================] - 0s 15ms/step\n"
          ]
        }
      ]
    },
    {
      "cell_type": "code",
      "source": [
        "# Chuẩn hóa dữ liệu y_pred\n",
        "train_predict = scaler.inverse_transform(train_predict)\n",
        "y_pred = scaler.inverse_transform(y_pred)"
      ],
      "metadata": {
        "id": "AGrwjDEOl9Mj"
      },
      "execution_count": 13,
      "outputs": []
    },
    {
      "cell_type": "code",
      "source": [
        "# Dự báo 90 ngày tiếp theo\n",
        "x_input = test_data[-100:].reshape(1, -1)\n",
        "temp_input = list(x_input[0])\n",
        "lst_output = []\n",
        "\n",
        "i = 0\n",
        "while(i < 90):\n",
        "    if len(temp_input) > 100:\n",
        "        x_input = np.array(temp_input[1:])  # Lấy từng ngày từ ngày thứ 2 trở đi\n",
        "        x_input = x_input.reshape(1, time_step, 1)  # Reshape lại để phù hợp với input của mạng\n",
        "        yhat = model.predict(x_input, verbose=0)  # Dự đoán giá cho ngày tiếp theo\n",
        "        temp_input.extend(yhat[0].tolist())  # Thêm dự đoán vào danh sách temp_input\n",
        "        temp_input = temp_input[1:]  # Loại bỏ ngày đầu tiên\n",
        "        lst_output.extend(yhat.tolist())  # Lưu dự đoán vào mảng lst_output\n",
        "        i += 1\n",
        "    else:\n",
        "        x_input = x_input.reshape(1, time_step, 1)  # Reshape lại để phù hợp với input của mạng\n",
        "        yhat = model.predict(x_input, verbose=0)  # Dự đoán giá cho ngày tiếp theo\n",
        "        temp_input.extend(yhat[0].tolist())  # Thêm dự đoán vào danh sách temp_input\n",
        "        lst_output.extend(yhat.tolist())  # Lưu dự đoán vào mảng lst_output\n",
        "        i += 1\n",
        "\n",
        "# In ra dự đoán cho 90 ngày tiếp theo\n",
        "print(\"Dự đoán giá cho 90 ngày tiếp theo:\")\n",
        "print(lst_output)"
      ],
      "metadata": {
        "colab": {
          "base_uri": "https://localhost:8080/"
        },
        "id": "4DfyL9LMW9fX",
        "outputId": "f8fe8b0a-0d65-497a-c86e-8d40674b4cb8"
      },
      "execution_count": 14,
      "outputs": [
        {
          "output_type": "stream",
          "name": "stdout",
          "text": [
            "Dự đoán giá cho 90 ngày tiếp theo:\n",
            "[[0.22673466801643372], [0.2246270328760147], [0.2223432958126068], [0.21960081160068512], [0.21651996672153473], [0.21331405639648438], [0.21015651524066925], [0.20714148879051208], [0.204292431473732], [0.20158913731575012], [0.1989956498146057], [0.1964789777994156], [0.19401763379573822], [0.1916022002696991], [0.1892317533493042], [0.18690937757492065], [0.18463870882987976], [0.18242186307907104], [0.18025913834571838], [0.17814916372299194], [0.17608976364135742], [0.1740785837173462], [0.1721133589744568], [0.17019225656986237], [0.168313667178154], [0.16647633910179138], [0.164679154753685], [0.1629210114479065], [0.16120082139968872], [0.15951748192310333], [0.15786996483802795], [0.1562572419643402], [0.15467827022075653], [0.15313208103179932], [0.15161775052547455], [0.1501343846321106], [0.1486811488866806], [0.1472572237253189], [0.14586178958415985], [0.14449410140514374], [0.14315342903137207], [0.14183904230594635], [0.14055025577545166], [0.13928644359111786], [0.13804695010185242], [0.136831134557724], [0.13563838601112366], [0.1344681829214096], [0.1333199441432953], [0.13219307363033295], [0.13108712434768677], [0.13000157475471497], [0.12893588840961456], [0.12788964807987213], [0.12686237692832947], [0.12585359811782837], [0.12486288696527481], [0.12388987094163895], [0.12293407320976257], [0.12199516594409943], [0.12107273191213608], [0.1201663687825203], [0.11927579343318939], [0.11840061098337173], [0.11754047125577927], [0.11669508367776871], [0.11586408317089081], [0.11504718661308289], [0.11424407362937927], [0.11345446109771729], [0.11267807334661484], [0.11191460490226746], [0.11116380989551544], [0.1104254350066185], [0.10969917476177216], [0.10898482799530029], [0.10828213393688202], [0.10759083926677704], [0.10691071301698685], [0.10624158382415771], [0.10558316856622696], [0.10493527352809906], [0.10429773479700089], [0.10367026925086975], [0.10305274277925491], [0.10244493186473846], [0.10184666514396667], [0.10125774890184402], [0.10067801177501678], [0.10010728985071182]]\n"
          ]
        }
      ]
    },
    {
      "cell_type": "code",
      "source": [
        "predict_future_30 = lst_output[:30]\n",
        "predict_future_60 = lst_output[30:60]\n",
        "predict_future_90 = lst_output[60:]\n"
      ],
      "metadata": {
        "id": "vPOQbRv4A-Zx"
      },
      "execution_count": 15,
      "outputs": []
    },
    {
      "cell_type": "code",
      "source": [
        "#Vẽ hình\n",
        "# train_data_index = pd.RangeIndex(start=0, stop=len(train_data), step=1)\n",
        "# plt.plot(train_data_index, scaler.inverse_transform(train_data), label='Train')\n",
        "\n",
        "test_data_index = pd.RangeIndex(start=train_size, stop=train_size+len(test_data), step=1)\n",
        "plt.plot(test_data_index, scaler.inverse_transform(test_data), label='Test')\n",
        "\n",
        "predicted_test_index = pd.RangeIndex(start=train_size, stop=train_size+len(y_pred), step=1)\n",
        "plt.plot(predicted_test_index, y_pred)\n",
        "\n",
        "predict_future_30_index = pd.RangeIndex(start=test_data_index[-1]+1, stop=test_data_index[-1]+31, step=1)\n",
        "plt.plot(predict_future_30_index, scaler.inverse_transform(predict_future_30))\n",
        "\n",
        "predict_future_60_index = pd.RangeIndex(start=test_data_index[-1]+31, stop=test_data_index[-1]+61, step=1)\n",
        "plt.plot(predict_future_60_index, scaler.inverse_transform(predict_future_60))\n",
        "\n",
        "predict_future_90_index = pd.RangeIndex(start=test_data_index[-1]+61, stop=test_data_index[-1]+91, step=1)\n",
        "plt.plot(predict_future_90_index, scaler.inverse_transform(predict_future_90))\n",
        "\n",
        "plt.title('GRU - DOGE Stock Price - 9:1')\n",
        "plt.xlabel('Date')\n",
        "plt.ylabel('Price')\n",
        "plt.legend(['Test','Predict Test','Predict 30days','Predict 60days','Predict 90days'])\n",
        "plt.show()"
      ],
      "metadata": {
        "colab": {
          "base_uri": "https://localhost:8080/",
          "height": 472
        },
        "id": "9dEqqWytXSRo",
        "outputId": "efe2f9d7-5e57-409d-958c-53725d93411e"
      },
      "execution_count": 18,
      "outputs": [
        {
          "output_type": "display_data",
          "data": {
            "text/plain": [
              "<Figure size 640x480 with 1 Axes>"
            ],
            "image/png": "[encoded data removed]"
          },
          "metadata": {}
        }
      ]
    },
    {
      "cell_type": "code",
      "source": [
        "# y_test = scaler.inverse_transform(y_test.reshape(-1,1))\n",
        "# y_test"
      ],
      "metadata": {
        "id": "sT_kNftxtaiE"
      },
      "execution_count": null,
      "outputs": []
    },
    {
      "cell_type": "code",
      "source": [
        "from sklearn.metrics import mean_absolute_error, mean_squared_error, mean_absolute_percentage_error\n",
        "\n",
        "mae = mean_absolute_error(y_test, y_pred)\n",
        "mape = mean_absolute_percentage_error(y_test, y_pred)\n",
        "rmse = np.sqrt(mean_squared_error(y_test, y_pred))\n",
        "\n",
        "print(\"Mean Absolute Error (MAE):\", mae)\n",
        "print(\"Mean Absolute Percentage Error (MAPE):\", mape * 100)\n",
        "print(\"Root Mean Square Error (RMSE):\", rmse)"
      ],
      "metadata": {
        "colab": {
          "base_uri": "https://localhost:8080/"
        },
        "id": "APE0pAmrJKcg",
        "outputId": "8494338e-c01c-4fb5-ccfa-8979ede146f5"
      },
      "execution_count": 17,
      "outputs": [
        {
          "output_type": "stream",
          "name": "stdout",
          "text": [
            "Mean Absolute Error (MAE): 0.05293332348046438\n",
            "Mean Absolute Percentage Error (MAPE): 31.588985304981183\n",
            "Root Mean Square Error (RMSE): 0.0574998273785187\n"
          ]
        }
      ]
    },
    {
      "cell_type": "markdown",
      "source": [],
      "metadata": {
        "id": "3yRLTREua_1d"
      }
    },
    {
      "cell_type": "code",
      "source": [
        "# # 12. Đánh giá độ chính xác thuật toán bằng RMSE\n",
        "# test_rmse = np.sqrt(np.mean((y_pred - y_test)**2))\n",
        "# print('Testing RMSE:', test_rmse)\n",
        "# # Đánh giá độ chính xác thuật toán bằng MAE\n",
        "# test_mae = np.mean(abs(y_pred - y_test))\n",
        "# print('Testing MAE:', test_mae)\n",
        "# # Đánh giá độ chính xác thuật toán bằng MAPE\n",
        "# test_mape = np.mean(np.abs(y_pred - y_test)/np.abs(y_pred))\n",
        "# print('Testing MAPE:', test_mape)"
      ],
      "metadata": {
        "colab": {
          "base_uri": "https://localhost:8080/"
        },
        "id": "c8Ef1hD1a5y2",
        "outputId": "1369c53e-0896-439a-de2f-9eab1d52c276"
      },
      "execution_count": null,
      "outputs": [
        {
          "output_type": "stream",
          "name": "stdout",
          "text": [
            "Testing RMSE: 0.30995897321254945\n",
            "Testing MAE: 0.29635483355720177\n",
            "Testing MAPE: 0.6935905549176788\n"
          ]
        }
      ]
    },
    {
      "cell_type": "code",
      "source": [],
      "metadata": {
        "id": "fxjVSJqCa8n1"
      },
      "execution_count": null,
      "outputs": []
    }
  ]
}