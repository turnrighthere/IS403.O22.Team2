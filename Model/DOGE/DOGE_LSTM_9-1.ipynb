{
 "cells": [
  {
   "cell_type": "code",
   "execution_count": 1,
   "id": "d6e03734-7a73-489d-9cdc-84acf78c00e5",
   "metadata": {
    "tags": []
   },
   "outputs": [],
   "source": [
    "# 1. Import thư viện cần thiết\n",
    "import numpy as np\n",
    "import pandas as pd\n",
    "import matplotlib.pyplot as plt\n",
    "from sklearn.preprocessing import MinMaxScaler\n",
    "from keras.models import Sequential\n",
    "from keras.layers import Dense, LSTM"
   ]
  },
  {
   "cell_type": "code",
   "execution_count": 2,
   "id": "07adbc1b-a1d2-41ba-b0a6-73848cc36a2e",
   "metadata": {
    "tags": []
   },
   "outputs": [
    {
     "name": "stdout",
     "output_type": "stream",
     "text": [
      "<class 'pandas.core.frame.DataFrame'>\n",
      "RangeIndex: 2285 entries, 0 to 2284\n",
      "Data columns (total 7 columns):\n",
      " #   Column     Non-Null Count  Dtype  \n",
      "---  ------     --------------  -----  \n",
      " 0   Date       2285 non-null   object \n",
      " 1   Open       2285 non-null   float64\n",
      " 2   High       2285 non-null   float64\n",
      " 3   Low        2285 non-null   float64\n",
      " 4   Price      2285 non-null   float64\n",
      " 5   Adj Close  2285 non-null   float64\n",
      " 6   Volume     2285 non-null   int64  \n",
      "dtypes: float64(5), int64(1), object(1)\n",
      "memory usage: 125.1+ KB\n"
     ]
    }
   ],
   "source": [
    "# 2. Đọc file csv và gắn index với giá Price\n",
    "df = pd.read_csv('pre_DOGE-USD.csv')\n",
    "df = df.rename(columns={'Close': 'Price'})\n",
    "df1 = df.reset_index()['Price']\n",
    "df.info()"
   ]
  },
  {
   "cell_type": "code",
   "execution_count": 3,
   "id": "823c305d-3c3c-46d7-ab97-99ea957bb915",
   "metadata": {
    "tags": []
   },
   "outputs": [],
   "source": [
    "# 3. Scaler data\n",
    "scaler = MinMaxScaler(feature_range=(0, 1))\n",
    "df1 = scaler.fit_transform(np.array(df1).reshape(-1, 1))"
   ]
  },
  {
   "cell_type": "code",
   "execution_count": 4,
   "id": "3c933b12-160d-4589-bda4-f6e0541be771",
   "metadata": {
    "tags": []
   },
   "outputs": [
    {
     "name": "stdout",
     "output_type": "stream",
     "text": [
      "Train shape: (2056, 1)\n",
      "Test shape: (229, 1)\n"
     ]
    }
   ],
   "source": [
    "# 4. Chia train test 9 - 1\n",
    "train_size = int(0.9 * len(df1))\n",
    "test_size = len(df1) - train_size\n",
    "\n",
    "# Lấy dữ liệu train và test\n",
    "train_data = df1[:train_size]\n",
    "test_data = df1[train_size:]\n",
    "\n",
    "print(\"Train shape:\", train_data.shape)\n",
    "print(\"Test shape:\", test_data.shape)"
   ]
  },
  {
   "cell_type": "code",
   "execution_count": 5,
   "id": "86d16400-4b94-40f8-b6ec-13ca9fae2127",
   "metadata": {
    "tags": []
   },
   "outputs": [],
   "source": [
    "# 5. Hàm Create Dataset\n",
    "import numpy\n",
    "# convert an array of values into a dataset matrix\n",
    "def create_dataset(dataset, time_step=1):\n",
    "\tdataX, dataY = [], []\n",
    "\tfor i in range(len(dataset)-time_step-1):\n",
    "\t\ta = dataset[i:(i+time_step), 0]   ###i=0, X=0,1,2,3-----99   Y=100 \n",
    "\t\tdataX.append(a)\n",
    "\t\tdataY.append(dataset[i + time_step, 0])\n",
    "\treturn numpy.array(dataX), numpy.array(dataY)"
   ]
  },
  {
   "cell_type": "code",
   "execution_count": 6,
   "id": "139117ad-87be-44e9-b6ec-91bf365f7d9b",
   "metadata": {
    "tags": []
   },
   "outputs": [],
   "source": [
    "# 6. Reshape into X=t,t+1,t+2..t+99 and Y=t+100\n",
    "time_step = 100\n",
    "X_train, y_train = create_dataset(train_data, time_step)\n",
    "combined_data = np.concatenate((train_data[-time_step:], test_data))\n",
    "X_test, ytest = create_dataset(combined_data, time_step)"
   ]
  },
  {
   "cell_type": "code",
   "execution_count": 7,
   "id": "f60d12b6-f562-48b8-99a5-d59b670f42c2",
   "metadata": {
    "tags": []
   },
   "outputs": [],
   "source": [
    "# 7. Reshape input to be [samples, time steps, features] which is required for LSTM\n",
    "X_train = X_train.reshape(X_train.shape[0], X_train.shape[1], 1)\n",
    "X_test = X_test.reshape(X_test.shape[0], X_test.shape[1], 1)"
   ]
  },
  {
   "cell_type": "code",
   "execution_count": 8,
   "id": "db87fc59-fb90-4e96-8eb0-7c65084b8ff6",
   "metadata": {
    "tags": []
   },
   "outputs": [],
   "source": [
    "# 8. Define LSTM Model\n",
    "model = Sequential()\n",
    "model.add(LSTM(50, return_sequences=True, input_shape=(100, 1)))\n",
    "model.add(LSTM(50, return_sequences=True))\n",
    "model.add(LSTM(50))\n",
    "model.add(Dense(1))\n",
    "model.compile(loss='mean_squared_error', optimizer='adam')"
   ]
  },
  {
   "cell_type": "code",
   "execution_count": 9,
   "id": "7d438015-03ba-433f-9c89-4bf4f6680ffe",
   "metadata": {
    "tags": []
   },
   "outputs": [
    {
     "name": "stdout",
     "output_type": "stream",
     "text": [
      "Epoch 1/100\n",
      "31/31 [==============================] - 13s 222ms/step - loss: 0.0051 - val_loss: 6.9493e-04\n",
      "Epoch 2/100\n",
      "31/31 [==============================] - 5s 174ms/step - loss: 0.0019 - val_loss: 7.5495e-04\n",
      "Epoch 3/100\n",
      "31/31 [==============================] - 5s 160ms/step - loss: 0.0016 - val_loss: 6.1879e-04\n",
      "Epoch 4/100\n",
      "31/31 [==============================] - 5s 157ms/step - loss: 0.0013 - val_loss: 5.8813e-04\n",
      "Epoch 5/100\n",
      "31/31 [==============================] - 5s 160ms/step - loss: 0.0012 - val_loss: 5.8915e-04\n",
      "Epoch 6/100\n",
      "31/31 [==============================] - 5s 168ms/step - loss: 0.0012 - val_loss: 5.4126e-04\n",
      "Epoch 7/100\n",
      "31/31 [==============================] - 5s 157ms/step - loss: 0.0011 - val_loss: 9.3381e-04\n",
      "Epoch 8/100\n",
      "31/31 [==============================] - 5s 158ms/step - loss: 0.0012 - val_loss: 5.4319e-04\n",
      "Epoch 9/100\n",
      "31/31 [==============================] - 6s 179ms/step - loss: 0.0011 - val_loss: 4.8418e-04\n",
      "Epoch 10/100\n",
      "31/31 [==============================] - 5s 154ms/step - loss: 0.0010 - val_loss: 5.5454e-04\n",
      "Epoch 11/100\n",
      "31/31 [==============================] - 5s 175ms/step - loss: 0.0011 - val_loss: 4.4831e-04\n",
      "Epoch 12/100\n",
      "31/31 [==============================] - 5s 170ms/step - loss: 9.2527e-04 - val_loss: 4.2334e-04\n",
      "Epoch 13/100\n",
      "31/31 [==============================] - 5s 163ms/step - loss: 0.0010 - val_loss: 5.9778e-04\n",
      "Epoch 14/100\n",
      "31/31 [==============================] - 5s 170ms/step - loss: 9.4450e-04 - val_loss: 4.5668e-04\n",
      "Epoch 15/100\n",
      "31/31 [==============================] - 5s 159ms/step - loss: 8.5835e-04 - val_loss: 3.8958e-04\n",
      "Epoch 16/100\n",
      "31/31 [==============================] - 5s 164ms/step - loss: 8.5545e-04 - val_loss: 4.1758e-04\n",
      "Epoch 17/100\n",
      "31/31 [==============================] - 5s 166ms/step - loss: 7.7005e-04 - val_loss: 7.4650e-04\n",
      "Epoch 18/100\n",
      "31/31 [==============================] - 5s 169ms/step - loss: 0.0010 - val_loss: 6.3073e-04\n",
      "Epoch 19/100\n",
      "31/31 [==============================] - 5s 162ms/step - loss: 7.1799e-04 - val_loss: 3.1745e-04\n",
      "Epoch 20/100\n",
      "31/31 [==============================] - 5s 165ms/step - loss: 6.4590e-04 - val_loss: 3.4207e-04\n",
      "Epoch 21/100\n",
      "31/31 [==============================] - 5s 174ms/step - loss: 5.9048e-04 - val_loss: 3.5993e-04\n",
      "Epoch 22/100\n",
      "31/31 [==============================] - 5s 168ms/step - loss: 4.9493e-04 - val_loss: 2.5499e-04\n",
      "Epoch 23/100\n",
      "31/31 [==============================] - 6s 198ms/step - loss: 4.6407e-04 - val_loss: 2.7759e-04\n",
      "Epoch 24/100\n",
      "31/31 [==============================] - 5s 158ms/step - loss: 4.2766e-04 - val_loss: 2.4983e-04\n",
      "Epoch 25/100\n",
      "31/31 [==============================] - 5s 151ms/step - loss: 3.9294e-04 - val_loss: 2.4410e-04\n",
      "Epoch 26/100\n",
      "31/31 [==============================] - 5s 154ms/step - loss: 3.9264e-04 - val_loss: 2.3497e-04\n",
      "Epoch 27/100\n",
      "31/31 [==============================] - 5s 148ms/step - loss: 4.1380e-04 - val_loss: 2.2543e-04\n",
      "Epoch 28/100\n",
      "31/31 [==============================] - 6s 185ms/step - loss: 3.7943e-04 - val_loss: 2.0183e-04\n",
      "Epoch 29/100\n",
      "31/31 [==============================] - 6s 179ms/step - loss: 3.9036e-04 - val_loss: 3.1046e-04\n",
      "Epoch 30/100\n",
      "31/31 [==============================] - 5s 172ms/step - loss: 3.6909e-04 - val_loss: 1.9831e-04\n",
      "Epoch 31/100\n",
      "31/31 [==============================] - 5s 177ms/step - loss: 4.4841e-04 - val_loss: 1.7104e-04\n",
      "Epoch 32/100\n",
      "31/31 [==============================] - 5s 147ms/step - loss: 3.4438e-04 - val_loss: 1.7938e-04\n",
      "Epoch 33/100\n",
      "31/31 [==============================] - 5s 164ms/step - loss: 3.4596e-04 - val_loss: 2.0312e-04\n",
      "Epoch 34/100\n",
      "31/31 [==============================] - 5s 159ms/step - loss: 3.2662e-04 - val_loss: 2.1823e-04\n",
      "Epoch 35/100\n",
      "31/31 [==============================] - 5s 167ms/step - loss: 3.4593e-04 - val_loss: 2.4479e-04\n",
      "Epoch 36/100\n",
      "31/31 [==============================] - 6s 182ms/step - loss: 3.4005e-04 - val_loss: 2.0496e-04\n",
      "Epoch 37/100\n",
      "31/31 [==============================] - 5s 149ms/step - loss: 3.1574e-04 - val_loss: 2.1016e-04\n",
      "Epoch 38/100\n",
      "31/31 [==============================] - 5s 148ms/step - loss: 3.4176e-04 - val_loss: 1.6809e-04\n",
      "Epoch 39/100\n",
      "31/31 [==============================] - 5s 152ms/step - loss: 3.0829e-04 - val_loss: 2.2562e-04\n",
      "Epoch 40/100\n",
      "31/31 [==============================] - 5s 167ms/step - loss: 3.7737e-04 - val_loss: 2.2710e-04\n",
      "Epoch 41/100\n",
      "31/31 [==============================] - 6s 185ms/step - loss: 3.3709e-04 - val_loss: 1.5480e-04\n",
      "Epoch 42/100\n",
      "31/31 [==============================] - 5s 167ms/step - loss: 3.6212e-04 - val_loss: 2.0924e-04\n",
      "Epoch 43/100\n",
      "31/31 [==============================] - 5s 167ms/step - loss: 3.1012e-04 - val_loss: 1.8855e-04\n",
      "Epoch 44/100\n",
      "31/31 [==============================] - 5s 161ms/step - loss: 3.1233e-04 - val_loss: 2.4421e-04\n",
      "Epoch 45/100\n",
      "31/31 [==============================] - 5s 153ms/step - loss: 3.4267e-04 - val_loss: 3.3394e-04\n",
      "Epoch 46/100\n",
      "31/31 [==============================] - 5s 152ms/step - loss: 3.0516e-04 - val_loss: 1.8234e-04\n",
      "Epoch 47/100\n",
      "31/31 [==============================] - 5s 164ms/step - loss: 3.7043e-04 - val_loss: 1.9234e-04\n",
      "Epoch 48/100\n",
      "31/31 [==============================] - 5s 159ms/step - loss: 3.1773e-04 - val_loss: 1.4892e-04\n",
      "Epoch 49/100\n",
      "31/31 [==============================] - 6s 197ms/step - loss: 3.1238e-04 - val_loss: 1.5799e-04\n",
      "Epoch 50/100\n",
      "31/31 [==============================] - 5s 162ms/step - loss: 3.0654e-04 - val_loss: 1.7292e-04\n",
      "Epoch 51/100\n",
      "31/31 [==============================] - 5s 169ms/step - loss: 3.3400e-04 - val_loss: 2.6047e-04\n",
      "Epoch 52/100\n",
      "31/31 [==============================] - 5s 176ms/step - loss: 3.6411e-04 - val_loss: 1.5621e-04\n",
      "Epoch 53/100\n",
      "31/31 [==============================] - 5s 159ms/step - loss: 2.9740e-04 - val_loss: 1.4541e-04\n",
      "Epoch 54/100\n",
      "31/31 [==============================] - 5s 169ms/step - loss: 3.5224e-04 - val_loss: 2.1152e-04\n",
      "Epoch 55/100\n",
      "31/31 [==============================] - 5s 173ms/step - loss: 3.6912e-04 - val_loss: 1.9124e-04\n",
      "Epoch 56/100\n",
      "31/31 [==============================] - 5s 170ms/step - loss: 3.0060e-04 - val_loss: 1.4040e-04\n",
      "Epoch 57/100\n",
      "31/31 [==============================] - 5s 173ms/step - loss: 2.8292e-04 - val_loss: 1.5191e-04\n",
      "Epoch 58/100\n",
      "31/31 [==============================] - 5s 163ms/step - loss: 3.0797e-04 - val_loss: 1.4426e-04\n",
      "Epoch 59/100\n",
      "31/31 [==============================] - 5s 155ms/step - loss: 3.1654e-04 - val_loss: 1.8374e-04\n",
      "Epoch 60/100\n",
      "31/31 [==============================] - 6s 179ms/step - loss: 3.0833e-04 - val_loss: 2.3150e-04\n",
      "Epoch 61/100\n",
      "31/31 [==============================] - 5s 158ms/step - loss: 2.9454e-04 - val_loss: 1.6574e-04\n",
      "Epoch 62/100\n",
      "31/31 [==============================] - 5s 157ms/step - loss: 2.9541e-04 - val_loss: 1.5273e-04\n",
      "Epoch 63/100\n",
      "31/31 [==============================] - 5s 174ms/step - loss: 2.9545e-04 - val_loss: 1.9279e-04\n",
      "Epoch 64/100\n",
      "31/31 [==============================] - 5s 174ms/step - loss: 2.7436e-04 - val_loss: 1.3342e-04\n",
      "Epoch 65/100\n",
      "31/31 [==============================] - 5s 174ms/step - loss: 3.0180e-04 - val_loss: 1.5564e-04\n",
      "Epoch 66/100\n",
      "31/31 [==============================] - 5s 171ms/step - loss: 2.8394e-04 - val_loss: 3.3483e-04\n",
      "Epoch 67/100\n",
      "31/31 [==============================] - 5s 154ms/step - loss: 3.2531e-04 - val_loss: 1.5524e-04\n",
      "Epoch 68/100\n",
      "31/31 [==============================] - 5s 156ms/step - loss: 3.1707e-04 - val_loss: 1.5205e-04\n",
      "Epoch 69/100\n",
      "31/31 [==============================] - 5s 149ms/step - loss: 2.7685e-04 - val_loss: 1.4720e-04\n",
      "Epoch 70/100\n",
      "31/31 [==============================] - 5s 160ms/step - loss: 2.9814e-04 - val_loss: 2.1693e-04\n",
      "Epoch 71/100\n",
      "31/31 [==============================] - 5s 164ms/step - loss: 2.9242e-04 - val_loss: 1.4832e-04\n",
      "Epoch 72/100\n",
      "31/31 [==============================] - 5s 169ms/step - loss: 3.0101e-04 - val_loss: 1.6240e-04\n",
      "Epoch 73/100\n",
      "31/31 [==============================] - 5s 152ms/step - loss: 2.7989e-04 - val_loss: 1.4062e-04\n",
      "Epoch 74/100\n",
      "31/31 [==============================] - 5s 150ms/step - loss: 2.7519e-04 - val_loss: 1.4576e-04\n",
      "Epoch 75/100\n",
      "31/31 [==============================] - 5s 146ms/step - loss: 2.6471e-04 - val_loss: 1.4650e-04\n",
      "Epoch 76/100\n",
      "31/31 [==============================] - 5s 154ms/step - loss: 2.7873e-04 - val_loss: 1.3989e-04\n",
      "Epoch 77/100\n",
      "31/31 [==============================] - 5s 160ms/step - loss: 2.9381e-04 - val_loss: 1.8544e-04\n",
      "Epoch 78/100\n",
      "31/31 [==============================] - 5s 156ms/step - loss: 2.8878e-04 - val_loss: 1.4491e-04\n",
      "Epoch 79/100\n",
      "31/31 [==============================] - 5s 171ms/step - loss: 2.9136e-04 - val_loss: 3.2205e-04\n",
      "Epoch 80/100\n",
      "31/31 [==============================] - 4s 144ms/step - loss: 2.9450e-04 - val_loss: 1.3591e-04\n",
      "Epoch 81/100\n",
      "31/31 [==============================] - 5s 157ms/step - loss: 2.7941e-04 - val_loss: 1.3678e-04\n",
      "Epoch 82/100\n",
      "31/31 [==============================] - 5s 169ms/step - loss: 2.7485e-04 - val_loss: 1.8125e-04\n",
      "Epoch 83/100\n",
      "31/31 [==============================] - 5s 168ms/step - loss: 2.6513e-04 - val_loss: 1.3901e-04\n",
      "Epoch 84/100\n",
      "31/31 [==============================] - 5s 174ms/step - loss: 3.9435e-04 - val_loss: 1.5002e-04\n",
      "Epoch 85/100\n",
      "31/31 [==============================] - 5s 161ms/step - loss: 3.3402e-04 - val_loss: 1.4115e-04\n",
      "Epoch 86/100\n",
      "31/31 [==============================] - 5s 156ms/step - loss: 2.8055e-04 - val_loss: 1.4588e-04\n",
      "Epoch 87/100\n",
      "31/31 [==============================] - 6s 181ms/step - loss: 3.0787e-04 - val_loss: 2.5544e-04\n",
      "Epoch 88/100\n",
      "31/31 [==============================] - 5s 145ms/step - loss: 2.8561e-04 - val_loss: 1.3224e-04\n",
      "Epoch 89/100\n",
      "31/31 [==============================] - 5s 155ms/step - loss: 2.7176e-04 - val_loss: 1.3732e-04\n",
      "Epoch 90/100\n",
      "31/31 [==============================] - 6s 182ms/step - loss: 2.6069e-04 - val_loss: 1.3862e-04\n",
      "Epoch 91/100\n",
      "31/31 [==============================] - 5s 173ms/step - loss: 3.0583e-04 - val_loss: 1.4110e-04\n",
      "Epoch 92/100\n",
      "31/31 [==============================] - 5s 172ms/step - loss: 2.9196e-04 - val_loss: 1.6847e-04\n",
      "Epoch 93/100\n",
      "31/31 [==============================] - 5s 161ms/step - loss: 2.7577e-04 - val_loss: 1.7657e-04\n",
      "Epoch 94/100\n",
      "31/31 [==============================] - 5s 152ms/step - loss: 2.7731e-04 - val_loss: 1.2923e-04\n",
      "Epoch 95/100\n",
      "31/31 [==============================] - 5s 165ms/step - loss: 2.7387e-04 - val_loss: 1.3868e-04\n",
      "Epoch 96/100\n",
      "31/31 [==============================] - 5s 148ms/step - loss: 3.2626e-04 - val_loss: 1.3632e-04\n",
      "Epoch 97/100\n",
      "31/31 [==============================] - 5s 155ms/step - loss: 2.6181e-04 - val_loss: 1.6161e-04\n",
      "Epoch 98/100\n",
      "31/31 [==============================] - 5s 169ms/step - loss: 2.7995e-04 - val_loss: 1.9307e-04\n",
      "Epoch 99/100\n",
      "31/31 [==============================] - 5s 176ms/step - loss: 2.6639e-04 - val_loss: 1.3630e-04\n",
      "Epoch 100/100\n",
      "31/31 [==============================] - 6s 203ms/step - loss: 3.1216e-04 - val_loss: 1.6666e-04\n"
     ]
    },
    {
     "data": {
      "text/plain": [
       "<keras.callbacks.History at 0x186b0542a10>"
      ]
     },
     "execution_count": 9,
     "metadata": {},
     "output_type": "execute_result"
    }
   ],
   "source": [
    "# 9. Fit mô hình với dữ liệu train\n",
    "model.fit(X_train, y_train, validation_data=(X_test, ytest), epochs=100, batch_size=64, verbose=1)"
   ]
  },
  {
   "cell_type": "code",
   "execution_count": 10,
   "id": "11429718-53af-460b-bc27-6339c6f5f98e",
   "metadata": {},
   "outputs": [
    {
     "name": "stdout",
     "output_type": "stream",
     "text": [
      "62/62 [==============================] - 4s 35ms/step\n",
      "8/8 [==============================] - 0s 35ms/step\n"
     ]
    }
   ],
   "source": [
    "# 10. Dự báo dữ liệu test\n",
    "train_predict = model.predict(X_train)\n",
    "y_pred = model.predict(X_test)"
   ]
  },
  {
   "cell_type": "code",
   "execution_count": 11,
   "id": "325b6e6a-fb3e-4f67-a484-014e7ddb4183",
   "metadata": {},
   "outputs": [],
   "source": [
    "# 11. Chuẩn hóa dữ liệu y_pred\n",
    "train_predict = scaler.inverse_transform(train_predict)\n",
    "y_pred = scaler.inverse_transform(y_pred)"
   ]
  },
  {
   "cell_type": "code",
   "execution_count": 12,
   "id": "b964944b-407f-425e-9fbd-d7cd9e12b40a",
   "metadata": {
    "tags": []
   },
   "outputs": [
    {
     "name": "stdout",
     "output_type": "stream",
     "text": [
      "Mean Absolute Error (MAE): 0.046912154204765424\n",
      "Mean Absolute Percentage Error (MAPE): 27.701376968479924\n",
      "Root Mean Square Error (RMSE): 0.051676205834416115\n"
     ]
    }
   ],
   "source": [
    "# 12. Tính RMSE, MAPE, MAE\n",
    "from sklearn.metrics import mean_absolute_error, mean_squared_error, mean_absolute_percentage_error\n",
    "\n",
    "mae = mean_absolute_error(ytest, y_pred)\n",
    "mape = mean_absolute_percentage_error(ytest, y_pred)\n",
    "rmse = np.sqrt(mean_squared_error(ytest, y_pred))\n",
    "\n",
    "print(\"Mean Absolute Error (MAE):\", mae)\n",
    "print(\"Mean Absolute Percentage Error (MAPE):\", mape * 100)\n",
    "print(\"Root Mean Square Error (RMSE):\", rmse)"
   ]
  },
  {
   "cell_type": "code",
   "execution_count": 13,
   "id": "2e271a5d-d3ba-478b-ab4d-d877f6725302",
   "metadata": {
    "tags": []
   },
   "outputs": [],
   "source": [
    "# 13. Hàm dự báo\n",
    "def forecast_days(n_days):\n",
    "    x_input = test_data[-100:].reshape(1, -1)\n",
    "    temp_input = list(x_input[0])\n",
    "\n",
    "    lst_output = []\n",
    "    i = 0\n",
    "    while i < n_days:\n",
    "        if len(temp_input) > 100:\n",
    "            x_input = np.array(temp_input[1:])\n",
    "            x_input = x_input.reshape(1, -1)\n",
    "            x_input = x_input.reshape((1, time_step, 1))\n",
    "            yhat = model.predict(x_input, verbose=0)\n",
    "            temp_input.extend(yhat[0].tolist())\n",
    "            temp_input = temp_input[1:]\n",
    "            lst_output.extend(yhat.tolist())\n",
    "            i += 1\n",
    "        else:\n",
    "            x_input = x_input.reshape((1, time_step, 1))\n",
    "            yhat = model.predict(x_input, verbose=0)\n",
    "            temp_input.extend(yhat[0].tolist())\n",
    "            lst_output.extend(yhat.tolist())\n",
    "            i += 1\n",
    "    return lst_output"
   ]
  },
  {
   "cell_type": "code",
   "execution_count": 14,
   "id": "12343b63-3464-4e24-bf18-1f00bb17e507",
   "metadata": {
    "tags": []
   },
   "outputs": [],
   "source": [
    "# 14. Dự báo 30, 60, 90 ngày tiếp theo\n",
    "forecast_30 = forecast_days(30)\n",
    "forecast_60 = forecast_days(60)\n",
    "forecast_90 = forecast_days(90)"
   ]
  },
  {
   "cell_type": "code",
   "execution_count": 15,
   "id": "b4063bc9-d94d-471f-8117-331d74e51408",
   "metadata": {
    "tags": []
   },
   "outputs": [
    {
     "name": "stdout",
     "output_type": "stream",
     "text": [
      "Dự báo cho 30 ngày tiếp theo: [[0.2367011308670044], [0.24010561406612396], [0.24497419595718384], [0.2504020035266876], [0.2560809254646301], [0.2618882656097412], [0.26776227355003357], [0.2736637592315674], [0.27955904603004456], [0.28540244698524475], [0.29113709926605225], [0.29669830203056335], [0.3020250201225281], [0.3070792257785797], [0.3118520975112915], [0.3163720369338989], [0.32070276141166687], [0.32493430376052856], [0.3291758596897125], [0.33353766798973083], [0.33812564611434937], [0.3430287837982178], [0.34831327199935913], [0.3540213406085968], [0.360169917345047], [0.36674419045448303], [0.3737027943134308], [0.3809797763824463], [0.38848087191581726], [0.39609473943710327]]\n"
     ]
    }
   ],
   "source": [
    "# 15. In ra dự đoán cho 30 ngày tiếp theo\n",
    "print(\"Dự báo cho 30 ngày tiếp theo:\", forecast_30)"
   ]
  },
  {
   "cell_type": "code",
   "execution_count": 16,
   "id": "67077348-1c5e-4d27-b85b-d6198039e6db",
   "metadata": {
    "tags": []
   },
   "outputs": [
    {
     "name": "stdout",
     "output_type": "stream",
     "text": [
      "Dự báo cho 60 ngày tiếp theo: [[0.2367011308670044], [0.24010561406612396], [0.24497419595718384], [0.2504020035266876], [0.2560809254646301], [0.2618882656097412], [0.26776227355003357], [0.2736637592315674], [0.27955904603004456], [0.28540244698524475], [0.29113709926605225], [0.29669830203056335], [0.3020250201225281], [0.3070792257785797], [0.3118520975112915], [0.3163720369338989], [0.32070276141166687], [0.32493430376052856], [0.3291758596897125], [0.33353766798973083], [0.33812564611434937], [0.3430287837982178], [0.34831327199935913], [0.3540213406085968], [0.360169917345047], [0.36674419045448303], [0.3737027943134308], [0.3809797763824463], [0.38848087191581726], [0.39609473943710327], [0.40369972586631775], [0.4111716151237488], [0.41839367151260376], [0.42526867985725403], [0.4317243993282318], [0.4377182722091675], [0.44323429465293884], [0.4482855796813965], [0.4529058635234833], [0.4571397006511688], [0.4610411524772644], [0.4646660089492798], [0.46806657314300537], [0.47128719091415405], [0.47436514496803284], [0.4773261845111847], [0.48018327355384827], [0.48293808102607727], [0.48558399081230164], [0.48810282349586487], [0.4904719293117523], [0.4926668405532837], [0.4946630895137787], [0.4964362680912018], [0.49796658754348755], [0.4992397725582123], [0.5002484321594238], [0.500990629196167], [0.5014703869819641], [0.5016959309577942]]\n"
     ]
    }
   ],
   "source": [
    "# 15. In ra dự đoán cho 60 ngày tiếp theo\n",
    "print(\"Dự báo cho 60 ngày tiếp theo:\", forecast_60)"
   ]
  },
  {
   "cell_type": "code",
   "execution_count": 17,
   "id": "64491d29-b028-4911-924a-472619538172",
   "metadata": {
    "tags": []
   },
   "outputs": [
    {
     "name": "stdout",
     "output_type": "stream",
     "text": [
      "Dự báo cho 90 ngày tiếp theo: [[0.2367011308670044], [0.24010561406612396], [0.24497419595718384], [0.2504020035266876], [0.2560809254646301], [0.2618882656097412], [0.26776227355003357], [0.2736637592315674], [0.27955904603004456], [0.28540244698524475], [0.29113709926605225], [0.29669830203056335], [0.3020250201225281], [0.3070792257785797], [0.3118520975112915], [0.3163720369338989], [0.32070276141166687], [0.32493430376052856], [0.3291758596897125], [0.33353766798973083], [0.33812564611434937], [0.3430287837982178], [0.34831327199935913], [0.3540213406085968], [0.360169917345047], [0.36674419045448303], [0.3737027943134308], [0.3809797763824463], [0.38848087191581726], [0.39609473943710327], [0.40369972586631775], [0.4111716151237488], [0.41839367151260376], [0.42526867985725403], [0.4317243993282318], [0.4377182722091675], [0.44323429465293884], [0.4482855796813965], [0.4529058635234833], [0.4571397006511688], [0.4610411524772644], [0.4646660089492798], [0.46806657314300537], [0.47128719091415405], [0.47436514496803284], [0.4773261845111847], [0.48018327355384827], [0.48293808102607727], [0.48558399081230164], [0.48810282349586487], [0.4904719293117523], [0.4926668405532837], [0.4946630895137787], [0.4964362680912018], [0.49796658754348755], [0.4992397725582123], [0.5002484321594238], [0.500990629196167], [0.5014703869819641], [0.5016959309577942], [0.5016819834709167], [0.5014455914497375], [0.501007080078125], [0.500390887260437], [0.49962118268013], [0.4987238049507141], [0.4977234899997711], [0.49664390087127686], [0.4955058991909027], [0.4943303167819977], [0.4931334853172302], [0.49193084239959717], [0.49073195457458496], [0.4895423650741577], [0.48836490511894226], [0.48719993233680725], [0.48604676127433777], [0.48490533232688904], [0.48377224802970886], [0.4826461970806122], [0.48152539134025574], [0.48040974140167236], [0.4792972207069397], [0.4781893193721771], [0.4770848751068115], [0.47598713636398315], [0.4748980700969696], [0.47382116317749023], [0.472763329744339], [0.47172871232032776]]\n"
     ]
    }
   ],
   "source": [
    "# 15. In ra dự đoán cho 90 ngày tiếp theo\n",
    "print(\"Dự báo cho 90 ngày tiếp theo:\", forecast_90)"
   ]
  },
  {
   "cell_type": "code",
   "execution_count": 18,
   "id": "3dd6ded5-fc67-4904-a0fd-59c167779a17",
   "metadata": {
    "tags": []
   },
   "outputs": [
    {
     "data": {
      "image/png": "[encoded data removed]",
      "text/plain": [
       "<Figure size 640x480 with 1 Axes>"
      ]
     },
     "metadata": {},
     "output_type": "display_data"
    }
   ],
   "source": [
    "# 16. Vẽ hình\n",
    "\n",
    "# Vẽ dữ liệu kiểm tra\n",
    "test_data_index = pd.RangeIndex(start=train_size, stop=train_size + test_size)\n",
    "plt.plot(test_data_index, scaler.inverse_transform(test_data), label='Test Data')\n",
    "\n",
    "# Vẽ dữ liệu dự đoán\n",
    "plt.plot(np.arange(train_size, train_size + len(y_pred)), y_pred, label='Predicted')\n",
    "\n",
    "# Vẽ dự báo 90, 60, 30 ngày\n",
    "plt.plot(np.arange(train_size + len(test_data), train_size + len(test_data) + len(forecast_90)), scaler.inverse_transform(forecast_90), label='Forecast 90 days')\n",
    "plt.plot(np.arange(train_size + len(test_data), train_size + len(test_data) + len(forecast_60)), scaler.inverse_transform(forecast_60), label='Forecast 60 days')\n",
    "plt.plot(np.arange(train_size + len(test_data), train_size + len(test_data) + len(forecast_30)), scaler.inverse_transform(forecast_30), label='Forecast 30 days')\n",
    "\n",
    "plt.title('LSTM - DOGE Stock Price - Forecast 30, 60, 90 days')\n",
    "plt.xlabel('Day')\n",
    "plt.ylabel('Price')\n",
    "plt.legend()\n",
    "plt.show()"
   ]
  }
 ],
 "metadata": {
  "kernelspec": {
   "display_name": "Python 3 (ipykernel)",
   "language": "python",
   "name": "python3"
  },
  "language_info": {
   "codemirror_mode": {
    "name": "ipython",
    "version": 3
   },
   "file_extension": ".py",
   "mimetype": "text/x-python",
   "name": "python",
   "nbconvert_exporter": "python",
   "pygments_lexer": "ipython3",
   "version": "3.10.8"
  }
 },
 "nbformat": 4,
 "nbformat_minor": 5
}
