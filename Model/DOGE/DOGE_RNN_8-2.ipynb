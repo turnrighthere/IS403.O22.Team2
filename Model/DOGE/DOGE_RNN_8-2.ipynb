{
 "cells": [
  {
   "cell_type": "code",
   "execution_count": 2,
   "id": "26fdc348-5b74-4d88-a3dc-48da4d735e10",
   "metadata": {
    "tags": []
   },
   "outputs": [],
   "source": [
    "# 1. Import thư viện cần thiết\n",
    "import numpy as np\n",
    "import pandas as pd\n",
    "import matplotlib.pyplot as plt\n",
    "from sklearn.preprocessing import MinMaxScaler\n",
    "from keras.models import Sequential\n",
    "from keras.layers import Dense, SimpleRNN"
   ]
  },
  {
   "cell_type": "code",
   "execution_count": 3,
   "id": "a1081418-67c4-4366-9320-98d0255b8a87",
   "metadata": {
    "tags": []
   },
   "outputs": [
    {
     "name": "stdout",
     "output_type": "stream",
     "text": [
      "<class 'pandas.core.frame.DataFrame'>\n",
      "RangeIndex: 2285 entries, 0 to 2284\n",
      "Data columns (total 7 columns):\n",
      " #   Column     Non-Null Count  Dtype  \n",
      "---  ------     --------------  -----  \n",
      " 0   Date       2285 non-null   object \n",
      " 1   Open       2285 non-null   float64\n",
      " 2   High       2285 non-null   float64\n",
      " 3   Low        2285 non-null   float64\n",
      " 4   Price      2285 non-null   float64\n",
      " 5   Adj Close  2285 non-null   float64\n",
      " 6   Volume     2285 non-null   int64  \n",
      "dtypes: float64(5), int64(1), object(1)\n",
      "memory usage: 125.1+ KB\n"
     ]
    }
   ],
   "source": [
    "# 2. Đọc file csv và gắn index với giá Price\n",
    "df = pd.read_csv('pre_DOGE-USD.csv')\n",
    "df = df.rename(columns={'Close': 'Price'})\n",
    "df1 = df.reset_index()['Price']\n",
    "df.info()"
   ]
  },
  {
   "cell_type": "code",
   "execution_count": 4,
   "id": "60ab42f9-e719-4186-ada8-ba47f31ad5a7",
   "metadata": {
    "tags": []
   },
   "outputs": [],
   "source": [
    "# 3. Scaler data\n",
    "scaler = MinMaxScaler(feature_range=(0, 1))\n",
    "df1 = scaler.fit_transform(np.array(df1).reshape(-1, 1))"
   ]
  },
  {
   "cell_type": "code",
   "execution_count": 5,
   "id": "5cc5eeb5-d78f-4ef1-87eb-4359c768e0d6",
   "metadata": {
    "tags": []
   },
   "outputs": [
    {
     "name": "stdout",
     "output_type": "stream",
     "text": [
      "Train shape: (1828, 1)\n",
      "Test shape: (457, 1)\n"
     ]
    }
   ],
   "source": [
    "# 4. Chia train test 8 - 2\n",
    "train_size = int(0.8 * len(df1))\n",
    "test_size = len(df1) - train_size\n",
    "\n",
    "# Lấy dữ liệu train và test\n",
    "train_data = df1[:train_size]\n",
    "test_data = df1[train_size:]\n",
    "\n",
    "print(\"Train shape:\", train_data.shape)\n",
    "print(\"Test shape:\", test_data.shape)"
   ]
  },
  {
   "cell_type": "code",
   "execution_count": 6,
   "id": "f9148ab3-7d6f-4b1f-ab40-c832747c52be",
   "metadata": {
    "tags": []
   },
   "outputs": [],
   "source": [
    "# 5. Hàm Create Dataset\n",
    "import numpy\n",
    "# convert an array of values into a dataset matrix\n",
    "def create_dataset(dataset, time_step=1):\n",
    "\tdataX, dataY = [], []\n",
    "\tfor i in range(len(dataset)-time_step-1):\n",
    "\t\ta = dataset[i:(i+time_step), 0]   ###i=0, X=0,1,2,3-----99   Y=100 \n",
    "\t\tdataX.append(a)\n",
    "\t\tdataY.append(dataset[i + time_step, 0])\n",
    "\treturn numpy.array(dataX), numpy.array(dataY)"
   ]
  },
  {
   "cell_type": "code",
   "execution_count": 7,
   "id": "72cc4c30-465a-4cab-8356-3baef4e1fa61",
   "metadata": {
    "tags": []
   },
   "outputs": [],
   "source": [
    "# 6. Reshape into X=t,t+1,t+2..t+99 and Y=t+100\n",
    "time_step = 100\n",
    "X_train, y_train = create_dataset(train_data, time_step)\n",
    "combined_data = np.concatenate((train_data[-time_step:], test_data))\n",
    "X_test, ytest = create_dataset(combined_data, time_step)"
   ]
  },
  {
   "cell_type": "code",
   "execution_count": 8,
   "id": "ea53b5fc-9693-41c0-94d4-433f02119225",
   "metadata": {
    "tags": []
   },
   "outputs": [],
   "source": [
    "# 7. Reshape input to be [samples, time steps, features] which is required for LSTM\n",
    "X_train = X_train.reshape(X_train.shape[0], X_train.shape[1], 1)\n",
    "X_test = X_test.reshape(X_test.shape[0], X_test.shape[1], 1)"
   ]
  },
  {
   "cell_type": "code",
   "execution_count": 9,
   "id": "15bfe900-abe3-40da-8cba-618fcf530d43",
   "metadata": {
    "tags": []
   },
   "outputs": [],
   "source": [
    "# 8. Define RNN Model\n",
    "model = Sequential()\n",
    "model.add(SimpleRNN(50, input_shape=(time_step, 1)))\n",
    "model.add(Dense(1))\n",
    "model.compile(loss='mean_squared_error', optimizer='adam')"
   ]
  },
  {
   "cell_type": "code",
   "execution_count": 10,
   "id": "cc691626-b5f4-467f-a47b-0c07f204f045",
   "metadata": {
    "tags": []
   },
   "outputs": [
    {
     "name": "stdout",
     "output_type": "stream",
     "text": [
      "Epoch 1/100\n",
      "27/27 [==============================] - 2s 26ms/step - loss: 0.0034 - val_loss: 2.9666e-04\n",
      "Epoch 2/100\n",
      "27/27 [==============================] - 0s 17ms/step - loss: 0.0010 - val_loss: 2.1519e-04\n",
      "Epoch 3/100\n",
      "27/27 [==============================] - 1s 19ms/step - loss: 8.5652e-04 - val_loss: 3.3068e-04\n",
      "Epoch 4/100\n",
      "27/27 [==============================] - 0s 18ms/step - loss: 7.2676e-04 - val_loss: 2.2247e-04\n",
      "Epoch 5/100\n",
      "27/27 [==============================] - 0s 16ms/step - loss: 6.3779e-04 - val_loss: 1.6236e-04\n",
      "Epoch 6/100\n",
      "27/27 [==============================] - 0s 18ms/step - loss: 5.9801e-04 - val_loss: 1.7626e-04\n",
      "Epoch 7/100\n",
      "27/27 [==============================] - 1s 19ms/step - loss: 5.5502e-04 - val_loss: 1.7281e-04\n",
      "Epoch 8/100\n",
      "27/27 [==============================] - 1s 21ms/step - loss: 5.2874e-04 - val_loss: 2.2307e-04\n",
      "Epoch 9/100\n",
      "27/27 [==============================] - 1s 19ms/step - loss: 5.1472e-04 - val_loss: 1.3914e-04\n",
      "Epoch 10/100\n",
      "27/27 [==============================] - 1s 22ms/step - loss: 4.4414e-04 - val_loss: 1.1528e-04\n",
      "Epoch 11/100\n",
      "27/27 [==============================] - 1s 22ms/step - loss: 4.2501e-04 - val_loss: 2.1423e-04\n",
      "Epoch 12/100\n",
      "27/27 [==============================] - 1s 23ms/step - loss: 4.2308e-04 - val_loss: 1.0655e-04\n",
      "Epoch 13/100\n",
      "27/27 [==============================] - 1s 19ms/step - loss: 3.9152e-04 - val_loss: 1.0407e-04\n",
      "Epoch 14/100\n",
      "27/27 [==============================] - 0s 17ms/step - loss: 3.9910e-04 - val_loss: 1.2634e-04\n",
      "Epoch 15/100\n",
      "27/27 [==============================] - 1s 21ms/step - loss: 3.9305e-04 - val_loss: 1.4694e-04\n",
      "Epoch 16/100\n",
      "27/27 [==============================] - 1s 32ms/step - loss: 3.7696e-04 - val_loss: 1.1655e-04\n",
      "Epoch 17/100\n",
      "27/27 [==============================] - 1s 19ms/step - loss: 3.4372e-04 - val_loss: 1.0827e-04\n",
      "Epoch 18/100\n",
      "27/27 [==============================] - 0s 17ms/step - loss: 3.3202e-04 - val_loss: 1.2402e-04\n",
      "Epoch 19/100\n",
      "27/27 [==============================] - 1s 26ms/step - loss: 3.3680e-04 - val_loss: 8.6030e-05\n",
      "Epoch 20/100\n",
      "27/27 [==============================] - 1s 22ms/step - loss: 3.3432e-04 - val_loss: 1.3592e-04\n",
      "Epoch 21/100\n",
      "27/27 [==============================] - 1s 23ms/step - loss: 3.2791e-04 - val_loss: 1.2023e-04\n",
      "Epoch 22/100\n",
      "27/27 [==============================] - 1s 21ms/step - loss: 3.3432e-04 - val_loss: 1.0422e-04\n",
      "Epoch 23/100\n",
      "27/27 [==============================] - 1s 22ms/step - loss: 3.1771e-04 - val_loss: 9.7292e-05\n",
      "Epoch 24/100\n",
      "27/27 [==============================] - 1s 21ms/step - loss: 3.8056e-04 - val_loss: 8.2033e-05\n",
      "Epoch 25/100\n",
      "27/27 [==============================] - 1s 19ms/step - loss: 3.1091e-04 - val_loss: 1.0494e-04\n",
      "Epoch 26/100\n",
      "27/27 [==============================] - 1s 27ms/step - loss: 2.9980e-04 - val_loss: 8.1176e-05\n",
      "Epoch 27/100\n",
      "27/27 [==============================] - 1s 26ms/step - loss: 3.1841e-04 - val_loss: 7.6293e-05\n",
      "Epoch 28/100\n",
      "27/27 [==============================] - 1s 21ms/step - loss: 3.0165e-04 - val_loss: 8.9357e-05\n",
      "Epoch 29/100\n",
      "27/27 [==============================] - 1s 22ms/step - loss: 2.9952e-04 - val_loss: 8.5607e-05\n",
      "Epoch 30/100\n",
      "27/27 [==============================] - 1s 23ms/step - loss: 2.9105e-04 - val_loss: 8.0585e-05\n",
      "Epoch 31/100\n",
      "27/27 [==============================] - 1s 22ms/step - loss: 2.9164e-04 - val_loss: 8.3207e-05\n",
      "Epoch 32/100\n",
      "27/27 [==============================] - 1s 19ms/step - loss: 2.8326e-04 - val_loss: 7.8652e-05\n",
      "Epoch 33/100\n",
      "27/27 [==============================] - 1s 29ms/step - loss: 3.1215e-04 - val_loss: 2.2023e-04\n",
      "Epoch 34/100\n",
      "27/27 [==============================] - 0s 16ms/step - loss: 3.0038e-04 - val_loss: 8.3836e-05\n",
      "Epoch 35/100\n",
      "27/27 [==============================] - 1s 19ms/step - loss: 2.9651e-04 - val_loss: 8.0097e-05\n",
      "Epoch 36/100\n",
      "27/27 [==============================] - 0s 18ms/step - loss: 3.0202e-04 - val_loss: 1.4601e-04\n",
      "Epoch 37/100\n",
      "27/27 [==============================] - 0s 18ms/step - loss: 2.9288e-04 - val_loss: 8.0119e-05\n",
      "Epoch 38/100\n",
      "27/27 [==============================] - 0s 18ms/step - loss: 2.7989e-04 - val_loss: 7.6791e-05\n",
      "Epoch 39/100\n",
      "27/27 [==============================] - 0s 18ms/step - loss: 2.7075e-04 - val_loss: 7.7399e-05\n",
      "Epoch 40/100\n",
      "27/27 [==============================] - 0s 16ms/step - loss: 2.7971e-04 - val_loss: 1.0173e-04\n",
      "Epoch 41/100\n",
      "27/27 [==============================] - 0s 18ms/step - loss: 2.8666e-04 - val_loss: 8.0275e-05\n",
      "Epoch 42/100\n",
      "27/27 [==============================] - 1s 25ms/step - loss: 2.6678e-04 - val_loss: 8.5958e-05\n",
      "Epoch 43/100\n",
      "27/27 [==============================] - 0s 18ms/step - loss: 2.7939e-04 - val_loss: 9.6194e-05\n",
      "Epoch 44/100\n",
      "27/27 [==============================] - 1s 21ms/step - loss: 2.8066e-04 - val_loss: 8.3422e-05\n",
      "Epoch 45/100\n",
      "27/27 [==============================] - 1s 19ms/step - loss: 2.6561e-04 - val_loss: 8.4391e-05\n",
      "Epoch 46/100\n",
      "27/27 [==============================] - 0s 19ms/step - loss: 2.9252e-04 - val_loss: 8.5286e-05\n",
      "Epoch 47/100\n",
      "27/27 [==============================] - 0s 18ms/step - loss: 3.0921e-04 - val_loss: 2.0509e-04\n",
      "Epoch 48/100\n",
      "27/27 [==============================] - 0s 18ms/step - loss: 3.3781e-04 - val_loss: 7.6365e-05\n",
      "Epoch 49/100\n",
      "27/27 [==============================] - 0s 17ms/step - loss: 3.0309e-04 - val_loss: 9.2560e-05\n",
      "Epoch 50/100\n",
      "27/27 [==============================] - 0s 17ms/step - loss: 2.7910e-04 - val_loss: 1.0638e-04\n",
      "Epoch 51/100\n",
      "27/27 [==============================] - 0s 16ms/step - loss: 2.6482e-04 - val_loss: 8.2974e-05\n",
      "Epoch 52/100\n",
      "27/27 [==============================] - 0s 17ms/step - loss: 2.5471e-04 - val_loss: 1.6343e-04\n",
      "Epoch 53/100\n",
      "27/27 [==============================] - 0s 17ms/step - loss: 2.8274e-04 - val_loss: 7.3934e-05\n",
      "Epoch 54/100\n",
      "27/27 [==============================] - 1s 21ms/step - loss: 2.8235e-04 - val_loss: 1.2479e-04\n",
      "Epoch 55/100\n",
      "27/27 [==============================] - 1s 20ms/step - loss: 2.8540e-04 - val_loss: 7.3580e-05\n",
      "Epoch 56/100\n",
      "27/27 [==============================] - 1s 19ms/step - loss: 2.7294e-04 - val_loss: 7.4592e-05\n",
      "Epoch 57/100\n",
      "27/27 [==============================] - 0s 17ms/step - loss: 2.6887e-04 - val_loss: 7.4130e-05\n",
      "Epoch 58/100\n",
      "27/27 [==============================] - 0s 18ms/step - loss: 2.6543e-04 - val_loss: 9.9964e-05\n",
      "Epoch 59/100\n",
      "27/27 [==============================] - 1s 19ms/step - loss: 2.5616e-04 - val_loss: 7.8667e-05\n",
      "Epoch 60/100\n",
      "27/27 [==============================] - 1s 20ms/step - loss: 2.4927e-04 - val_loss: 7.8139e-05\n",
      "Epoch 61/100\n",
      "27/27 [==============================] - 1s 26ms/step - loss: 2.7984e-04 - val_loss: 7.6458e-05\n",
      "Epoch 62/100\n",
      "27/27 [==============================] - 0s 18ms/step - loss: 2.6401e-04 - val_loss: 1.3836e-04\n",
      "Epoch 63/100\n",
      "27/27 [==============================] - 1s 19ms/step - loss: 2.7980e-04 - val_loss: 1.6706e-04\n",
      "Epoch 64/100\n",
      "27/27 [==============================] - 1s 22ms/step - loss: 2.6990e-04 - val_loss: 8.9321e-05\n",
      "Epoch 65/100\n",
      "27/27 [==============================] - 1s 20ms/step - loss: 2.6074e-04 - val_loss: 7.1549e-05\n",
      "Epoch 66/100\n",
      "27/27 [==============================] - 1s 21ms/step - loss: 2.5342e-04 - val_loss: 8.7366e-05\n",
      "Epoch 67/100\n",
      "27/27 [==============================] - 1s 20ms/step - loss: 2.5991e-04 - val_loss: 7.8737e-05\n",
      "Epoch 68/100\n",
      "27/27 [==============================] - 1s 18ms/step - loss: 2.4900e-04 - val_loss: 8.3244e-05\n",
      "Epoch 69/100\n",
      "27/27 [==============================] - 0s 17ms/step - loss: 2.6915e-04 - val_loss: 1.0365e-04\n",
      "Epoch 70/100\n",
      "27/27 [==============================] - 1s 20ms/step - loss: 3.0090e-04 - val_loss: 1.4967e-04\n",
      "Epoch 71/100\n",
      "27/27 [==============================] - 1s 19ms/step - loss: 2.5898e-04 - val_loss: 7.2242e-05\n",
      "Epoch 72/100\n",
      "27/27 [==============================] - 0s 18ms/step - loss: 2.6963e-04 - val_loss: 7.5054e-05\n",
      "Epoch 73/100\n",
      "27/27 [==============================] - 0s 16ms/step - loss: 2.8522e-04 - val_loss: 7.6507e-05\n",
      "Epoch 74/100\n",
      "27/27 [==============================] - 0s 19ms/step - loss: 2.7188e-04 - val_loss: 7.7243e-05\n",
      "Epoch 75/100\n",
      "27/27 [==============================] - 0s 18ms/step - loss: 2.6310e-04 - val_loss: 6.7826e-05\n",
      "Epoch 76/100\n",
      "27/27 [==============================] - 1s 20ms/step - loss: 2.7597e-04 - val_loss: 7.0200e-05\n",
      "Epoch 77/100\n",
      "27/27 [==============================] - 0s 16ms/step - loss: 2.5004e-04 - val_loss: 8.7948e-05\n",
      "Epoch 78/100\n",
      "27/27 [==============================] - 0s 17ms/step - loss: 2.7385e-04 - val_loss: 8.3286e-05\n",
      "Epoch 79/100\n",
      "27/27 [==============================] - 0s 17ms/step - loss: 2.4759e-04 - val_loss: 7.8408e-05\n",
      "Epoch 80/100\n",
      "27/27 [==============================] - 0s 17ms/step - loss: 2.4478e-04 - val_loss: 8.7734e-05\n",
      "Epoch 81/100\n",
      "27/27 [==============================] - 0s 17ms/step - loss: 2.5567e-04 - val_loss: 1.1563e-04\n",
      "Epoch 82/100\n",
      "27/27 [==============================] - 0s 18ms/step - loss: 2.5907e-04 - val_loss: 8.5066e-05\n",
      "Epoch 83/100\n",
      "27/27 [==============================] - 1s 21ms/step - loss: 2.7850e-04 - val_loss: 8.9597e-05\n",
      "Epoch 84/100\n",
      "27/27 [==============================] - 1s 20ms/step - loss: 2.6432e-04 - val_loss: 9.4374e-05\n",
      "Epoch 85/100\n",
      "27/27 [==============================] - 0s 17ms/step - loss: 2.5061e-04 - val_loss: 7.8493e-05\n",
      "Epoch 86/100\n",
      "27/27 [==============================] - 0s 18ms/step - loss: 2.5927e-04 - val_loss: 8.0381e-05\n",
      "Epoch 87/100\n",
      "27/27 [==============================] - 0s 17ms/step - loss: 2.5964e-04 - val_loss: 8.1418e-05\n",
      "Epoch 88/100\n",
      "27/27 [==============================] - 0s 17ms/step - loss: 2.4648e-04 - val_loss: 1.0448e-04\n",
      "Epoch 89/100\n",
      "27/27 [==============================] - 1s 19ms/step - loss: 2.5886e-04 - val_loss: 7.2453e-05\n",
      "Epoch 90/100\n",
      "27/27 [==============================] - 0s 17ms/step - loss: 2.5006e-04 - val_loss: 7.4134e-05\n",
      "Epoch 91/100\n",
      "27/27 [==============================] - 0s 17ms/step - loss: 2.5807e-04 - val_loss: 9.4333e-05\n",
      "Epoch 92/100\n",
      "27/27 [==============================] - 1s 20ms/step - loss: 2.4829e-04 - val_loss: 7.3930e-05\n",
      "Epoch 93/100\n",
      "27/27 [==============================] - 0s 15ms/step - loss: 2.4301e-04 - val_loss: 8.9204e-05\n",
      "Epoch 94/100\n",
      "27/27 [==============================] - 1s 24ms/step - loss: 2.6509e-04 - val_loss: 1.0041e-04\n",
      "Epoch 95/100\n",
      "27/27 [==============================] - 1s 32ms/step - loss: 2.4907e-04 - val_loss: 8.1922e-05\n",
      "Epoch 96/100\n",
      "27/27 [==============================] - 1s 24ms/step - loss: 2.9884e-04 - val_loss: 1.0801e-04\n",
      "Epoch 97/100\n",
      "27/27 [==============================] - 1s 28ms/step - loss: 2.6256e-04 - val_loss: 8.6665e-05\n",
      "Epoch 98/100\n",
      "27/27 [==============================] - 1s 36ms/step - loss: 2.5010e-04 - val_loss: 8.1487e-05\n",
      "Epoch 99/100\n",
      "27/27 [==============================] - 1s 27ms/step - loss: 2.3557e-04 - val_loss: 1.1471e-04\n",
      "Epoch 100/100\n",
      "27/27 [==============================] - 1s 32ms/step - loss: 2.5679e-04 - val_loss: 8.9145e-05\n"
     ]
    },
    {
     "data": {
      "text/plain": [
       "<keras.callbacks.History at 0x18ff99bf250>"
      ]
     },
     "execution_count": 10,
     "metadata": {},
     "output_type": "execute_result"
    }
   ],
   "source": [
    "# 9. Fit mô hình với dữ liệu train\n",
    "model.fit(X_train, y_train, validation_data=(X_test, ytest), epochs=100, batch_size=64, verbose=1)"
   ]
  },
  {
   "cell_type": "code",
   "execution_count": 11,
   "id": "c55c37b5-5b6b-4482-8ef1-63d82cd60fae",
   "metadata": {
    "tags": []
   },
   "outputs": [
    {
     "name": "stdout",
     "output_type": "stream",
     "text": [
      "54/54 [==============================] - 1s 7ms/step\n",
      "15/15 [==============================] - 0s 5ms/step\n"
     ]
    }
   ],
   "source": [
    "# 10. Dự báo dữ liệu test\n",
    "train_predict = model.predict(X_train)\n",
    "y_pred = model.predict(X_test)"
   ]
  },
  {
   "cell_type": "code",
   "execution_count": 12,
   "id": "e1ef089c-abd2-4072-9177-25ff22485fa8",
   "metadata": {
    "tags": []
   },
   "outputs": [],
   "source": [
    "# 11. Chuẩn hóa dữ liệu y_pred\n",
    "train_predict = scaler.inverse_transform(train_predict)\n",
    "y_pred = scaler.inverse_transform(y_pred)"
   ]
  },
  {
   "cell_type": "code",
   "execution_count": 13,
   "id": "6c14ba0c-354e-4514-a7ed-98b43cbcc1f9",
   "metadata": {
    "tags": []
   },
   "outputs": [
    {
     "name": "stdout",
     "output_type": "stream",
     "text": [
      "Mean Absolute Error (MAE): 0.04036993432979274\n",
      "Mean Absolute Percentage Error (MAPE): 30.33166218031304\n",
      "Root Mean Square Error (RMSE): 0.04403141549660818\n"
     ]
    }
   ],
   "source": [
    "# 12. Tính RMSE, MAPE, MAE\n",
    "from sklearn.metrics import mean_absolute_error, mean_squared_error, mean_absolute_percentage_error\n",
    "\n",
    "mae = mean_absolute_error(ytest, y_pred)\n",
    "mape = mean_absolute_percentage_error(ytest, y_pred)\n",
    "rmse = np.sqrt(mean_squared_error(ytest, y_pred))\n",
    "\n",
    "print(\"Mean Absolute Error (MAE):\", mae)\n",
    "print(\"Mean Absolute Percentage Error (MAPE):\", mape * 100)\n",
    "print(\"Root Mean Square Error (RMSE):\", rmse)"
   ]
  },
  {
   "cell_type": "code",
   "execution_count": 14,
   "id": "a858ddd6-d663-47e2-b024-95e269c52c71",
   "metadata": {
    "tags": []
   },
   "outputs": [],
   "source": [
    "# 13. Hàm dự báo\n",
    "def forecast_days(n_days):\n",
    "    x_input = test_data[-100:].reshape(1, -1)\n",
    "    temp_input = list(x_input[0])\n",
    "\n",
    "    lst_output = []\n",
    "    i = 0\n",
    "    while i < n_days:\n",
    "        if len(temp_input) > 100:\n",
    "            x_input = np.array(temp_input[1:])\n",
    "            x_input = x_input.reshape(1, -1)\n",
    "            x_input = x_input.reshape((1, time_step, 1))\n",
    "            yhat = model.predict(x_input, verbose=0)\n",
    "            temp_input.extend(yhat[0].tolist())\n",
    "            temp_input = temp_input[1:]\n",
    "            lst_output.extend(yhat.tolist())\n",
    "            i += 1\n",
    "        else:\n",
    "            x_input = x_input.reshape((1, time_step, 1))\n",
    "            yhat = model.predict(x_input, verbose=0)\n",
    "            temp_input.extend(yhat[0].tolist())\n",
    "            lst_output.extend(yhat.tolist())\n",
    "            i += 1\n",
    "    return lst_output"
   ]
  },
  {
   "cell_type": "code",
   "execution_count": 15,
   "id": "a3f20539-86f3-4c0d-ac02-6d3159836533",
   "metadata": {
    "tags": []
   },
   "outputs": [],
   "source": [
    "# 14. Dự báo 30, 60, 90 ngày tiếp theo\n",
    "forecast_30 = forecast_days(30)\n",
    "forecast_60 = forecast_days(60)\n",
    "forecast_90 = forecast_days(90)"
   ]
  },
  {
   "cell_type": "code",
   "execution_count": 16,
   "id": "e3ed23dc-59fe-4c17-aed7-762004a4dc86",
   "metadata": {
    "tags": []
   },
   "outputs": [
    {
     "name": "stdout",
     "output_type": "stream",
     "text": [
      "Dự báo cho 30 ngày tiếp theo: [[0.24577534198760986], [0.25690609216690063], [0.2466413974761963], [0.26502513885498047], [0.2787259817123413], [0.2899433374404907], [0.3022465109825134], [0.30152076482772827], [0.31192445755004883], [0.3202367424964905], [0.33130943775177], [0.33823293447494507], [0.3409353494644165], [0.34357374906539917], [0.34731531143188477], [0.3581022620201111], [0.35970795154571533], [0.3576555848121643], [0.357354998588562], [0.35945725440979004], [0.3606374263763428], [0.36507123708724976], [0.37746137380599976], [0.38103723526000977], [0.3857744336128235], [0.40564268827438354], [0.41371798515319824], [0.42689627408981323], [0.444877028465271], [0.4523782730102539]]\n"
     ]
    }
   ],
   "source": [
    "# 15. In ra dự đoán cho 30 ngày tiếp theo\n",
    "print(\"Dự báo cho 30 ngày tiếp theo:\", forecast_30)"
   ]
  },
  {
   "cell_type": "code",
   "execution_count": 17,
   "id": "fbbbde1a-59a7-40bd-a4f7-cf5d05e1cda2",
   "metadata": {
    "tags": []
   },
   "outputs": [
    {
     "name": "stdout",
     "output_type": "stream",
     "text": [
      "Dự báo cho 60 ngày tiếp theo: [[0.24577534198760986], [0.25690609216690063], [0.2466413974761963], [0.26502513885498047], [0.2787259817123413], [0.2899433374404907], [0.3022465109825134], [0.30152076482772827], [0.31192445755004883], [0.3202367424964905], [0.33130943775177], [0.33823293447494507], [0.3409353494644165], [0.34357374906539917], [0.34731531143188477], [0.3581022620201111], [0.35970795154571533], [0.3576555848121643], [0.357354998588562], [0.35945725440979004], [0.3606374263763428], [0.36507123708724976], [0.37746137380599976], [0.38103723526000977], [0.3857744336128235], [0.40564268827438354], [0.41371798515319824], [0.42689627408981323], [0.444877028465271], [0.4523782730102539], [0.4617246985435486], [0.4701616168022156], [0.47913658618927], [0.4888277053833008], [0.48916006088256836], [0.4886165261268616], [0.48725104331970215], [0.4828695058822632], [0.4820787310600281], [0.47717583179473877], [0.473874568939209], [0.47041940689086914], [0.4676651358604431], [0.4741377830505371], [0.4800131916999817], [0.4827888607978821], [0.4857825040817261], [0.49306774139404297], [0.49783408641815186], [0.5042956471443176], [0.5125918984413147], [0.5160457491874695], [0.5174458622932434], [0.5208069682121277], [0.5227571129798889], [0.5228763222694397], [0.5206408500671387], [0.5180603861808777], [0.5143328309059143], [0.5111336708068848]]\n"
     ]
    }
   ],
   "source": [
    "# 15. In ra dự đoán cho 60 ngày tiếp theo\n",
    "print(\"Dự báo cho 60 ngày tiếp theo:\", forecast_60)"
   ]
  },
  {
   "cell_type": "code",
   "execution_count": 18,
   "id": "09bec281-2bd7-4939-9482-db139601dec3",
   "metadata": {
    "tags": []
   },
   "outputs": [
    {
     "name": "stdout",
     "output_type": "stream",
     "text": [
      "Dự báo cho 90 ngày tiếp theo: [[0.24577534198760986], [0.25690609216690063], [0.2466413974761963], [0.26502513885498047], [0.2787259817123413], [0.2899433374404907], [0.3022465109825134], [0.30152076482772827], [0.31192445755004883], [0.3202367424964905], [0.33130943775177], [0.33823293447494507], [0.3409353494644165], [0.34357374906539917], [0.34731531143188477], [0.3581022620201111], [0.35970795154571533], [0.3576555848121643], [0.357354998588562], [0.35945725440979004], [0.3606374263763428], [0.36507123708724976], [0.37746137380599976], [0.38103723526000977], [0.3857744336128235], [0.40564268827438354], [0.41371798515319824], [0.42689627408981323], [0.444877028465271], [0.4523782730102539], [0.4617246985435486], [0.4701616168022156], [0.47913658618927], [0.4888277053833008], [0.48916006088256836], [0.4886165261268616], [0.48725104331970215], [0.4828695058822632], [0.4820787310600281], [0.47717583179473877], [0.473874568939209], [0.47041940689086914], [0.4676651358604431], [0.4741377830505371], [0.4800131916999817], [0.4827888607978821], [0.4857825040817261], [0.49306774139404297], [0.49783408641815186], [0.5042956471443176], [0.5125918984413147], [0.5160457491874695], [0.5174458622932434], [0.5208069682121277], [0.5227571129798889], [0.5228763222694397], [0.5206408500671387], [0.5180603861808777], [0.5143328309059143], [0.5111336708068848], [0.5088034868240356], [0.5054214596748352], [0.5056018829345703], [0.502575695514679], [0.5000581741333008], [0.5024880766868591], [0.5032349824905396], [0.5044759511947632], [0.5074958801269531], [0.5102118849754333], [0.5115854144096375], [0.5154434442520142], [0.5210695862770081], [0.5226208567619324], [0.5238224267959595], [0.5271000862121582], [0.5282432436943054], [0.5294860005378723], [0.532135009765625], [0.5314553380012512], [0.5307595729827881], [0.5306433439254761], [0.5305971503257751], [0.5300582647323608], [0.5306828618049622], [0.529511570930481], [0.5294308066368103], [0.5316330790519714], [0.5314218997955322], [0.5335619449615479]]\n"
     ]
    }
   ],
   "source": [
    "# 15. In ra dự đoán cho 90 ngày tiếp theo\n",
    "print(\"Dự báo cho 90 ngày tiếp theo:\", forecast_90)"
   ]
  },
  {
   "cell_type": "code",
   "execution_count": 19,
   "id": "1a2ee735-ad92-4ff0-a51f-7fa1da4773fc",
   "metadata": {
    "tags": []
   },
   "outputs": [
    {
     "data": {
      "image/png": "[encoded data removed]",
      "text/plain": [
       "<Figure size 640x480 with 1 Axes>"
      ]
     },
     "metadata": {},
     "output_type": "display_data"
    }
   ],
   "source": [
    "# 16. Vẽ hình\n",
    "\n",
    "# Vẽ dữ liệu kiểm tra\n",
    "test_data_index = pd.RangeIndex(start=train_size, stop=train_size + test_size)\n",
    "plt.plot(test_data_index, scaler.inverse_transform(test_data), label='Test Data')\n",
    "\n",
    "# Vẽ dữ liệu dự đoán\n",
    "plt.plot(np.arange(train_size, train_size + len(y_pred)), y_pred, label='Predicted')\n",
    "\n",
    "# Vẽ dự báo 90, 60, 30 ngày\n",
    "plt.plot(np.arange(train_size + len(test_data), train_size + len(test_data) + len(forecast_90)), scaler.inverse_transform(forecast_90), label='Forecast 90 days')\n",
    "plt.plot(np.arange(train_size + len(test_data), train_size + len(test_data) + len(forecast_60)), scaler.inverse_transform(forecast_60), label='Forecast 60 days')\n",
    "plt.plot(np.arange(train_size + len(test_data), train_size + len(test_data) + len(forecast_30)), scaler.inverse_transform(forecast_30), label='Forecast 30 days')\n",
    "\n",
    "plt.title('RNN - DOGE Stock Price - Forecast 30, 60, 90 days')\n",
    "plt.xlabel('Day')\n",
    "plt.ylabel('Price')\n",
    "plt.legend()\n",
    "plt.show()"
   ]
  }
 ],
 "metadata": {
  "kernelspec": {
   "display_name": "Python 3 (ipykernel)",
   "language": "python",
   "name": "python3"
  },
  "language_info": {
   "codemirror_mode": {
    "name": "ipython",
    "version": 3
   },
   "file_extension": ".py",
   "mimetype": "text/x-python",
   "name": "python",
   "nbconvert_exporter": "python",
   "pygments_lexer": "ipython3",
   "version": "3.10.8"
  }
 },
 "nbformat": 4,
 "nbformat_minor": 5
}
