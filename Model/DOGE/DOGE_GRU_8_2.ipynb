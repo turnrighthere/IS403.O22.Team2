{
  "nbformat": 4,
  "nbformat_minor": 0,
  "metadata": {
    "colab": {
      "provenance": []
    },
    "kernelspec": {
      "name": "python3",
      "display_name": "Python 3"
    },
    "language_info": {
      "name": "python"
    }
  },
  "cells": [
    {
      "cell_type": "code",
      "execution_count": 1,
      "metadata": {
        "id": "2s2M7RWnLyVs",
        "colab": {
          "base_uri": "https://localhost:8080/"
        },
        "outputId": "40c4b18d-425f-4cb8-d642-416c0d10496e"
      },
      "outputs": [
        {
          "output_type": "stream",
          "name": "stdout",
          "text": [
            "Mounted at /content/drive\n"
          ]
        }
      ],
      "source": [
        "from google.colab import drive\n",
        "drive.mount('/content/drive')\n",
        "import numpy as np\n",
        "import pandas as pd\n",
        "import matplotlib.pyplot as plt\n",
        "from sklearn.preprocessing import MinMaxScaler\n",
        "from keras.models import Sequential\n",
        "from keras.layers import Dense, GRU"
      ]
    },
    {
      "cell_type": "code",
      "source": [
        "# Đọc file csv\n",
        "df = pd.read_csv('/content/drive/MyDrive/Colab Notebooks/Data/pre_DOGE-USD.csv')\n",
        "df = df.rename(columns={'Close': 'Price'})\n",
        "df['Date'] = pd.to_datetime(df['Date'])\n",
        "df.head(5)"
      ],
      "metadata": {
        "id": "N4mD72x5nuXt",
        "colab": {
          "base_uri": "https://localhost:8080/",
          "height": 206
        },
        "outputId": "02e4cc0b-e2f8-4397-8903-2bfcbb366e78"
      },
      "execution_count": 2,
      "outputs": [
        {
          "output_type": "execute_result",
          "data": {
            "text/plain": [
              "        Date      Open      High       Low     Price  Adj Close    Volume\n",
              "0 2018-03-01  0.006042  0.006320  0.005945  0.006215   0.006215  15518400\n",
              "1 2018-03-02  0.006174  0.006232  0.005447  0.005482   0.005482  22498100\n",
              "2 2018-03-03  0.005494  0.005756  0.005181  0.005301   0.005301  21545000\n",
              "3 2018-03-04  0.005234  0.005502  0.005164  0.005502   0.005502  12133500\n",
              "4 2018-03-05  0.005462  0.005535  0.005157  0.005218   0.005218  13627700"
            ],
            "text/html": [
              "\n",
              "  <div id=\"df-beb06367-47ed-484d-97ef-189106b9e067\" class=\"colab-df-container\">\n",
              "    <div>\n",
              "<style scoped>\n",
              "    .dataframe tbody tr th:only-of-type {\n",
              "        vertical-align: middle;\n",
              "    }\n",
              "\n",
              "    .dataframe tbody tr th {\n",
              "        vertical-align: top;\n",
              "    }\n",
              "\n",
              "    .dataframe thead th {\n",
              "        text-align: right;\n",
              "    }\n",
              "</style>\n",
              "<table border=\"1\" class=\"dataframe\">\n",
              "  <thead>\n",
              "    <tr style=\"text-align: right;\">\n",
              "      <th></th>\n",
              "      <th>Date</th>\n",
              "      <th>Open</th>\n",
              "      <th>High</th>\n",
              "      <th>Low</th>\n",
              "      <th>Price</th>\n",
              "      <th>Adj Close</th>\n",
              "      <th>Volume</th>\n",
              "    </tr>\n",
              "  </thead>\n",
              "  <tbody>\n",
              "    <tr>\n",
              "      <th>0</th>\n",
              "      <td>2018-03-01</td>\n",
              "      <td>0.006042</td>\n",
              "      <td>0.006320</td>\n",
              "      <td>0.005945</td>\n",
              "      <td>0.006215</td>\n",
              "      <td>0.006215</td>\n",
              "      <td>15518400</td>\n",
              "    </tr>\n",
              "    <tr>\n",
              "      <th>1</th>\n",
              "      <td>2018-03-02</td>\n",
              "      <td>0.006174</td>\n",
              "      <td>0.006232</td>\n",
              "      <td>0.005447</td>\n",
              "      <td>0.005482</td>\n",
              "      <td>0.005482</td>\n",
              "      <td>22498100</td>\n",
              "    </tr>\n",
              "    <tr>\n",
              "      <th>2</th>\n",
              "      <td>2018-03-03</td>\n",
              "      <td>0.005494</td>\n",
              "      <td>0.005756</td>\n",
              "      <td>0.005181</td>\n",
              "      <td>0.005301</td>\n",
              "      <td>0.005301</td>\n",
              "      <td>21545000</td>\n",
              "    </tr>\n",
              "    <tr>\n",
              "      <th>3</th>\n",
              "      <td>2018-03-04</td>\n",
              "      <td>0.005234</td>\n",
              "      <td>0.005502</td>\n",
              "      <td>0.005164</td>\n",
              "      <td>0.005502</td>\n",
              "      <td>0.005502</td>\n",
              "      <td>12133500</td>\n",
              "    </tr>\n",
              "    <tr>\n",
              "      <th>4</th>\n",
              "      <td>2018-03-05</td>\n",
              "      <td>0.005462</td>\n",
              "      <td>0.005535</td>\n",
              "      <td>0.005157</td>\n",
              "      <td>0.005218</td>\n",
              "      <td>0.005218</td>\n",
              "      <td>13627700</td>\n",
              "    </tr>\n",
              "  </tbody>\n",
              "</table>\n",
              "</div>\n",
              "    <div class=\"colab-df-buttons\">\n",
              "\n",
              "  <div class=\"colab-df-container\">\n",
              "    <button class=\"colab-df-convert\" onclick=\"convertToInteractive('df-beb06367-47ed-484d-97ef-189106b9e067')\"\n",
              "            title=\"Convert this dataframe to an interactive table.\"\n",
              "            style=\"display:none;\">\n",
              "\n",
              "  <svg xmlns=\"http://www.w3.org/2000/svg\" height=\"24px\" viewBox=\"0 -960 960 960\">\n",
              "    <path d=\"M120-120v-720h720v720H120Zm60-500h600v-160H180v160Zm220 220h160v-160H400v160Zm0 220h160v-160H400v160ZM180-400h160v-160H180v160Zm440 0h160v-160H620v160ZM180-180h160v-160H180v160Zm440 0h160v-160H620v160Z\"/>\n",
              "  </svg>\n",
              "    </button>\n",
              "\n",
              "  <style>\n",
              "    .colab-df-container {\n",
              "      display:flex;\n",
              "      gap: 12px;\n",
              "    }\n",
              "\n",
              "    .colab-df-convert {\n",
              "      background-color: #E8F0FE;\n",
              "      border: none;\n",
              "      border-radius: 50%;\n",
              "      cursor: pointer;\n",
              "      display: none;\n",
              "      fill: #1967D2;\n",
              "      height: 32px;\n",
              "      padding: 0 0 0 0;\n",
              "      width: 32px;\n",
              "    }\n",
              "\n",
              "    .colab-df-convert:hover {\n",
              "      background-color: #E2EBFA;\n",
              "      box-shadow: 0px 1px 2px rgba(60, 64, 67, 0.3), 0px 1px 3px 1px rgba(60, 64, 67, 0.15);\n",
              "      fill: #174EA6;\n",
              "    }\n",
              "\n",
              "    .colab-df-buttons div {\n",
              "      margin-bottom: 4px;\n",
              "    }\n",
              "\n",
              "    [theme=dark] .colab-df-convert {\n",
              "      background-color: #3B4455;\n",
              "      fill: #D2E3FC;\n",
              "    }\n",
              "\n",
              "    [theme=dark] .colab-df-convert:hover {\n",
              "      background-color: #434B5C;\n",
              "      box-shadow: 0px 1px 3px 1px rgba(0, 0, 0, 0.15);\n",
              "      filter: drop-shadow(0px 1px 2px rgba(0, 0, 0, 0.3));\n",
              "      fill: #FFFFFF;\n",
              "    }\n",
              "  </style>\n",
              "\n",
              "    <script>\n",
              "      const buttonEl =\n",
              "        document.querySelector('#df-beb06367-47ed-484d-97ef-189106b9e067 button.colab-df-convert');\n",
              "      buttonEl.style.display =\n",
              "        google.colab.kernel.accessAllowed ? 'block' : 'none';\n",
              "\n",
              "      async function convertToInteractive(key) {\n",
              "        const element = document.querySelector('#df-beb06367-47ed-484d-97ef-189106b9e067');\n",
              "        const dataTable =\n",
              "          await google.colab.kernel.invokeFunction('convertToInteractive',\n",
              "                                                    [key], {});\n",
              "        if (!dataTable) return;\n",
              "\n",
              "        const docLinkHtml = 'Like what you see? Visit the ' +\n",
              "          '<a target=\"_blank\" href=https://colab.research.google.com/notebooks/data_table.ipynb>data table notebook</a>'\n",
              "          + ' to learn more about interactive tables.';\n",
              "        element.innerHTML = '';\n",
              "        dataTable['output_type'] = 'display_data';\n",
              "        await google.colab.output.renderOutput(dataTable, element);\n",
              "        const docLink = document.createElement('div');\n",
              "        docLink.innerHTML = docLinkHtml;\n",
              "        element.appendChild(docLink);\n",
              "      }\n",
              "    </script>\n",
              "  </div>\n",
              "\n",
              "\n",
              "<div id=\"df-a0393875-3dc6-4521-98c0-e9b363bb784c\">\n",
              "  <button class=\"colab-df-quickchart\" onclick=\"quickchart('df-a0393875-3dc6-4521-98c0-e9b363bb784c')\"\n",
              "            title=\"Suggest charts\"\n",
              "            style=\"display:none;\">\n",
              "\n",
              "<svg xmlns=\"http://www.w3.org/2000/svg\" height=\"24px\"viewBox=\"0 0 24 24\"\n",
              "     width=\"24px\">\n",
              "    <g>\n",
              "        <path d=\"M19 3H5c-1.1 0-2 .9-2 2v14c0 1.1.9 2 2 2h14c1.1 0 2-.9 2-2V5c0-1.1-.9-2-2-2zM9 17H7v-7h2v7zm4 0h-2V7h2v10zm4 0h-2v-4h2v4z\"/>\n",
              "    </g>\n",
              "</svg>\n",
              "  </button>\n",
              "\n",
              "<style>\n",
              "  .colab-df-quickchart {\n",
              "      --bg-color: #E8F0FE;\n",
              "      --fill-color: #1967D2;\n",
              "      --hover-bg-color: #E2EBFA;\n",
              "      --hover-fill-color: #174EA6;\n",
              "      --disabled-fill-color: #AAA;\n",
              "      --disabled-bg-color: #DDD;\n",
              "  }\n",
              "\n",
              "  [theme=dark] .colab-df-quickchart {\n",
              "      --bg-color: #3B4455;\n",
              "      --fill-color: #D2E3FC;\n",
              "      --hover-bg-color: #434B5C;\n",
              "      --hover-fill-color: #FFFFFF;\n",
              "      --disabled-bg-color: #3B4455;\n",
              "      --disabled-fill-color: #666;\n",
              "  }\n",
              "\n",
              "  .colab-df-quickchart {\n",
              "    background-color: var(--bg-color);\n",
              "    border: none;\n",
              "    border-radius: 50%;\n",
              "    cursor: pointer;\n",
              "    display: none;\n",
              "    fill: var(--fill-color);\n",
              "    height: 32px;\n",
              "    padding: 0;\n",
              "    width: 32px;\n",
              "  }\n",
              "\n",
              "  .colab-df-quickchart:hover {\n",
              "    background-color: var(--hover-bg-color);\n",
              "    box-shadow: 0 1px 2px rgba(60, 64, 67, 0.3), 0 1px 3px 1px rgba(60, 64, 67, 0.15);\n",
              "    fill: var(--button-hover-fill-color);\n",
              "  }\n",
              "\n",
              "  .colab-df-quickchart-complete:disabled,\n",
              "  .colab-df-quickchart-complete:disabled:hover {\n",
              "    background-color: var(--disabled-bg-color);\n",
              "    fill: var(--disabled-fill-color);\n",
              "    box-shadow: none;\n",
              "  }\n",
              "\n",
              "  .colab-df-spinner {\n",
              "    border: 2px solid var(--fill-color);\n",
              "    border-color: transparent;\n",
              "    border-bottom-color: var(--fill-color);\n",
              "    animation:\n",
              "      spin 1s steps(1) infinite;\n",
              "  }\n",
              "\n",
              "  @keyframes spin {\n",
              "    0% {\n",
              "      border-color: transparent;\n",
              "      border-bottom-color: var(--fill-color);\n",
              "      border-left-color: var(--fill-color);\n",
              "    }\n",
              "    20% {\n",
              "      border-color: transparent;\n",
              "      border-left-color: var(--fill-color);\n",
              "      border-top-color: var(--fill-color);\n",
              "    }\n",
              "    30% {\n",
              "      border-color: transparent;\n",
              "      border-left-color: var(--fill-color);\n",
              "      border-top-color: var(--fill-color);\n",
              "      border-right-color: var(--fill-color);\n",
              "    }\n",
              "    40% {\n",
              "      border-color: transparent;\n",
              "      border-right-color: var(--fill-color);\n",
              "      border-top-color: var(--fill-color);\n",
              "    }\n",
              "    60% {\n",
              "      border-color: transparent;\n",
              "      border-right-color: var(--fill-color);\n",
              "    }\n",
              "    80% {\n",
              "      border-color: transparent;\n",
              "      border-right-color: var(--fill-color);\n",
              "      border-bottom-color: var(--fill-color);\n",
              "    }\n",
              "    90% {\n",
              "      border-color: transparent;\n",
              "      border-bottom-color: var(--fill-color);\n",
              "    }\n",
              "  }\n",
              "</style>\n",
              "\n",
              "  <script>\n",
              "    async function quickchart(key) {\n",
              "      const quickchartButtonEl =\n",
              "        document.querySelector('#' + key + ' button');\n",
              "      quickchartButtonEl.disabled = true;  // To prevent multiple clicks.\n",
              "      quickchartButtonEl.classList.add('colab-df-spinner');\n",
              "      try {\n",
              "        const charts = await google.colab.kernel.invokeFunction(\n",
              "            'suggestCharts', [key], {});\n",
              "      } catch (error) {\n",
              "        console.error('Error during call to suggestCharts:', error);\n",
              "      }\n",
              "      quickchartButtonEl.classList.remove('colab-df-spinner');\n",
              "      quickchartButtonEl.classList.add('colab-df-quickchart-complete');\n",
              "    }\n",
              "    (() => {\n",
              "      let quickchartButtonEl =\n",
              "        document.querySelector('#df-a0393875-3dc6-4521-98c0-e9b363bb784c button');\n",
              "      quickchartButtonEl.style.display =\n",
              "        google.colab.kernel.accessAllowed ? 'block' : 'none';\n",
              "    })();\n",
              "  </script>\n",
              "</div>\n",
              "\n",
              "    </div>\n",
              "  </div>\n"
            ],
            "application/vnd.google.colaboratory.intrinsic+json": {
              "type": "dataframe",
              "variable_name": "df",
              "summary": "{\n  \"name\": \"df\",\n  \"rows\": 2285,\n  \"fields\": [\n    {\n      \"column\": \"Date\",\n      \"properties\": {\n        \"dtype\": \"date\",\n        \"min\": \"2018-03-01 00:00:00\",\n        \"max\": \"2024-06-01 00:00:00\",\n        \"num_unique_values\": 2285,\n        \"samples\": [\n          \"2023-11-24 00:00:00\",\n          \"2020-04-03 00:00:00\",\n          \"2018-10-27 00:00:00\"\n        ],\n        \"semantic_type\": \"\",\n        \"description\": \"\"\n      }\n    },\n    {\n      \"column\": \"Open\",\n      \"properties\": {\n        \"dtype\": \"number\",\n        \"std\": 0.09059040845441783,\n        \"min\": 0.00154,\n        \"max\": 0.687801,\n        \"num_unique_values\": 2066,\n        \"samples\": [\n          0.072799,\n          0.086148,\n          0.082248\n        ],\n        \"semantic_type\": \"\",\n        \"description\": \"\"\n      }\n    },\n    {\n      \"column\": \"High\",\n      \"properties\": {\n        \"dtype\": \"number\",\n        \"std\": 0.09747188362048517,\n        \"min\": 0.001612,\n        \"max\": 0.737567,\n        \"num_unique_values\": 2069,\n        \"samples\": [\n          0.082083,\n          0.005296,\n          0.087904\n        ],\n        \"semantic_type\": \"\",\n        \"description\": \"\"\n      }\n    },\n    {\n      \"column\": \"Low\",\n      \"properties\": {\n        \"dtype\": \"number\",\n        \"std\": 0.08392189081357403,\n        \"min\": 0.001247,\n        \"max\": 0.608168,\n        \"num_unique_values\": 2055,\n        \"samples\": [\n          0.072109,\n          0.002642,\n          0.075151\n        ],\n        \"semantic_type\": \"\",\n        \"description\": \"\"\n      }\n    },\n    {\n      \"column\": \"Price\",\n      \"properties\": {\n        \"dtype\": \"number\",\n        \"std\": 0.09065331630816681,\n        \"min\": 0.001537,\n        \"max\": 0.684777,\n        \"num_unique_values\": 2075,\n        \"samples\": [\n          0.049376,\n          0.003867,\n          0.161768\n        ],\n        \"semantic_type\": \"\",\n        \"description\": \"\"\n      }\n    },\n    {\n      \"column\": \"Adj Close\",\n      \"properties\": {\n        \"dtype\": \"number\",\n        \"std\": 0.09065331630816681,\n        \"min\": 0.001537,\n        \"max\": 0.684777,\n        \"num_unique_values\": 2075,\n        \"samples\": [\n          0.049376,\n          0.003867,\n          0.161768\n        ],\n        \"semantic_type\": \"\",\n        \"description\": \"\"\n      }\n    },\n    {\n      \"column\": \"Volume\",\n      \"properties\": {\n        \"dtype\": \"number\",\n        \"std\": 3182514812,\n        \"min\": 2134170,\n        \"max\": 69410680685,\n        \"num_unique_values\": 2285,\n        \"samples\": [\n          401116993,\n          161121845,\n          23286000\n        ],\n        \"semantic_type\": \"\",\n        \"description\": \"\"\n      }\n    }\n  ]\n}"
            }
          },
          "metadata": {},
          "execution_count": 2
        }
      ]
    },
    {
      "cell_type": "code",
      "source": [
        "df.info()"
      ],
      "metadata": {
        "colab": {
          "base_uri": "https://localhost:8080/"
        },
        "id": "y45BW7BbcPl_",
        "outputId": "a61c1a06-5abb-4d21-fdd9-a744cecf57d2"
      },
      "execution_count": 3,
      "outputs": [
        {
          "output_type": "stream",
          "name": "stdout",
          "text": [
            "<class 'pandas.core.frame.DataFrame'>\n",
            "RangeIndex: 2285 entries, 0 to 2284\n",
            "Data columns (total 7 columns):\n",
            " #   Column     Non-Null Count  Dtype         \n",
            "---  ------     --------------  -----         \n",
            " 0   Date       2285 non-null   datetime64[ns]\n",
            " 1   Open       2285 non-null   float64       \n",
            " 2   High       2285 non-null   float64       \n",
            " 3   Low        2285 non-null   float64       \n",
            " 4   Price      2285 non-null   float64       \n",
            " 5   Adj Close  2285 non-null   float64       \n",
            " 6   Volume     2285 non-null   int64         \n",
            "dtypes: datetime64[ns](1), float64(5), int64(1)\n",
            "memory usage: 125.1 KB\n"
          ]
        }
      ]
    },
    {
      "cell_type": "code",
      "source": [
        "# Thiết lập index\n",
        "df1=df.reset_index()['Price']\n"
      ],
      "metadata": {
        "id": "UN5dzdoDNEet"
      },
      "execution_count": 4,
      "outputs": []
    },
    {
      "cell_type": "code",
      "source": [
        "# Scaler data\n",
        "scaler=MinMaxScaler(feature_range=(0,1))\n",
        "df1=scaler.fit_transform(np.array(df1).reshape(-1,1))"
      ],
      "metadata": {
        "id": "b1XLCdJHMRAd"
      },
      "execution_count": 5,
      "outputs": []
    },
    {
      "cell_type": "code",
      "source": [
        "# Chia train test\n",
        "train_size= int(0.8 * len(df1))\n",
        "test_size = len(df1) - train_size\n",
        "\n",
        "train_data = df1[:train_size]\n",
        "test_data = df1[train_size:]"
      ],
      "metadata": {
        "id": "G6LwdRGreOtq"
      },
      "execution_count": 6,
      "outputs": []
    },
    {
      "cell_type": "code",
      "source": [
        "# convert an array of values into a dataset matrix\n",
        "def create_dataset(dataset, time_step=1):\n",
        "\tdataX, dataY = [], []\n",
        "\tfor i in range(len(dataset) - time_step - 1):\n",
        "\t\ta = dataset[i:(i + time_step)]\n",
        "\t\tdataX.append(a)\n",
        "\t\tdataY.append(dataset[i + time_step])\n",
        "\treturn np.array(dataX), np.array(dataY)\n"
      ],
      "metadata": {
        "id": "5VummKZ8Nq9P"
      },
      "execution_count": 7,
      "outputs": []
    },
    {
      "cell_type": "code",
      "source": [
        "# Reshape into X=t,t+1,t+2..t+99 and Y=t+100 _8_2\n",
        "time_step = 100\n",
        "X_train, y_train = create_dataset(train_data, time_step)\n",
        "combined_data = np.concatenate((train_data[-time_step:], test_data))\n",
        "X_test, y_test = create_dataset(combined_data, time_step)\n",
        "\n",
        "# Reshape dữ liệu cho phù hợp với mạng GRU\n",
        "X_train = X_train.reshape(X_train.shape[0], X_train.shape[1], 1)\n",
        "X_test = X_test.reshape(X_test.shape[0], X_test.shape[1], 1)"
      ],
      "metadata": {
        "id": "9wgrf7p0kQe0"
      },
      "execution_count": 8,
      "outputs": []
    },
    {
      "cell_type": "code",
      "source": [
        "# Define GRU Model\n",
        "\n",
        "model = Sequential()\n",
        "model.add(GRU(64, input_shape=(time_step, 1)))\n",
        "model.add(Dense(1))\n",
        "model.compile(optimizer='adam', loss='mean_squared_error')"
      ],
      "metadata": {
        "id": "AghcD3L7Nww-"
      },
      "execution_count": 9,
      "outputs": []
    },
    {
      "cell_type": "code",
      "source": [
        "# 9. Fit mô hình với dữ liệu train\n",
        "model.fit(X_train, y_train, epochs=100, batch_size=64, verbose=1)"
      ],
      "metadata": {
        "colab": {
          "base_uri": "https://localhost:8080/"
        },
        "id": "khNSzr8uIlQt",
        "outputId": "01d4a7fc-16a2-4b5a-971b-4a872a19e205"
      },
      "execution_count": 10,
      "outputs": [
        {
          "output_type": "stream",
          "name": "stdout",
          "text": [
            "Epoch 1/100\n",
            "27/27 [==============================] - 5s 83ms/step - loss: 0.0164\n",
            "Epoch 2/100\n",
            "27/27 [==============================] - 2s 84ms/step - loss: 0.0011\n",
            "Epoch 3/100\n",
            "27/27 [==============================] - 2s 65ms/step - loss: 7.7201e-04\n",
            "Epoch 4/100\n",
            "27/27 [==============================] - 2s 81ms/step - loss: 7.5423e-04\n",
            "Epoch 5/100\n",
            "27/27 [==============================] - 3s 104ms/step - loss: 6.9694e-04\n",
            "Epoch 6/100\n",
            "27/27 [==============================] - 3s 97ms/step - loss: 6.5432e-04\n",
            "Epoch 7/100\n",
            "27/27 [==============================] - 3s 129ms/step - loss: 6.7394e-04\n",
            "Epoch 8/100\n",
            "27/27 [==============================] - 4s 131ms/step - loss: 6.0720e-04\n",
            "Epoch 9/100\n",
            "27/27 [==============================] - 3s 128ms/step - loss: 5.9056e-04\n",
            "Epoch 10/100\n",
            "27/27 [==============================] - 2s 76ms/step - loss: 5.3964e-04\n",
            "Epoch 11/100\n",
            "27/27 [==============================] - 1s 51ms/step - loss: 5.1949e-04\n",
            "Epoch 12/100\n",
            "27/27 [==============================] - 1s 52ms/step - loss: 5.0775e-04\n",
            "Epoch 13/100\n",
            "27/27 [==============================] - 2s 56ms/step - loss: 5.3058e-04\n",
            "Epoch 14/100\n",
            "27/27 [==============================] - 1s 53ms/step - loss: 5.2369e-04\n",
            "Epoch 15/100\n",
            "27/27 [==============================] - 2s 76ms/step - loss: 4.7175e-04\n",
            "Epoch 16/100\n",
            "27/27 [==============================] - 2s 82ms/step - loss: 4.6539e-04\n",
            "Epoch 17/100\n",
            "27/27 [==============================] - 2s 82ms/step - loss: 4.3485e-04\n",
            "Epoch 18/100\n",
            "27/27 [==============================] - 1s 53ms/step - loss: 4.2630e-04\n",
            "Epoch 19/100\n",
            "27/27 [==============================] - 1s 54ms/step - loss: 4.1343e-04\n",
            "Epoch 20/100\n",
            "27/27 [==============================] - 1s 52ms/step - loss: 4.1394e-04\n",
            "Epoch 21/100\n",
            "27/27 [==============================] - 1s 52ms/step - loss: 4.1782e-04\n",
            "Epoch 22/100\n",
            "27/27 [==============================] - 1s 53ms/step - loss: 4.2176e-04\n",
            "Epoch 23/100\n",
            "27/27 [==============================] - 1s 52ms/step - loss: 3.8931e-04\n",
            "Epoch 24/100\n",
            "27/27 [==============================] - 2s 56ms/step - loss: 3.9609e-04\n",
            "Epoch 25/100\n",
            "27/27 [==============================] - 2s 84ms/step - loss: 3.7603e-04\n",
            "Epoch 26/100\n",
            "27/27 [==============================] - 2s 86ms/step - loss: 3.7165e-04\n",
            "Epoch 27/100\n",
            "27/27 [==============================] - 2s 63ms/step - loss: 3.6229e-04\n",
            "Epoch 28/100\n",
            "27/27 [==============================] - 1s 52ms/step - loss: 3.7673e-04\n",
            "Epoch 29/100\n",
            "27/27 [==============================] - 1s 53ms/step - loss: 3.6377e-04\n",
            "Epoch 30/100\n",
            "27/27 [==============================] - 1s 53ms/step - loss: 3.7958e-04\n",
            "Epoch 31/100\n",
            "27/27 [==============================] - 1s 53ms/step - loss: 3.4915e-04\n",
            "Epoch 32/100\n",
            "27/27 [==============================] - 1s 53ms/step - loss: 3.4998e-04\n",
            "Epoch 33/100\n",
            "27/27 [==============================] - 1s 53ms/step - loss: 3.5184e-04\n",
            "Epoch 34/100\n",
            "27/27 [==============================] - 2s 74ms/step - loss: 3.5323e-04\n",
            "Epoch 35/100\n",
            "27/27 [==============================] - 2s 83ms/step - loss: 3.5427e-04\n",
            "Epoch 36/100\n",
            "27/27 [==============================] - 2s 80ms/step - loss: 3.5596e-04\n",
            "Epoch 37/100\n",
            "27/27 [==============================] - 2s 58ms/step - loss: 3.4566e-04\n",
            "Epoch 38/100\n",
            "27/27 [==============================] - 2s 59ms/step - loss: 3.4984e-04\n",
            "Epoch 39/100\n",
            "27/27 [==============================] - 1s 54ms/step - loss: 3.5610e-04\n",
            "Epoch 40/100\n",
            "27/27 [==============================] - 2s 56ms/step - loss: 3.4452e-04\n",
            "Epoch 41/100\n",
            "27/27 [==============================] - 1s 54ms/step - loss: 3.4027e-04\n",
            "Epoch 42/100\n",
            "27/27 [==============================] - 1s 54ms/step - loss: 3.5926e-04\n",
            "Epoch 43/100\n",
            "27/27 [==============================] - 3s 109ms/step - loss: 3.3335e-04\n",
            "Epoch 44/100\n",
            "27/27 [==============================] - 2s 85ms/step - loss: 3.3316e-04\n",
            "Epoch 45/100\n",
            "27/27 [==============================] - 2s 73ms/step - loss: 3.2909e-04\n",
            "Epoch 46/100\n",
            "27/27 [==============================] - 1s 54ms/step - loss: 3.3523e-04\n",
            "Epoch 47/100\n",
            "27/27 [==============================] - 1s 53ms/step - loss: 3.4014e-04\n",
            "Epoch 48/100\n",
            "27/27 [==============================] - 3s 96ms/step - loss: 3.3603e-04\n",
            "Epoch 49/100\n",
            "27/27 [==============================] - 1s 52ms/step - loss: 3.4006e-04\n",
            "Epoch 50/100\n",
            "27/27 [==============================] - 2s 57ms/step - loss: 3.4680e-04\n",
            "Epoch 51/100\n",
            "27/27 [==============================] - 2s 65ms/step - loss: 3.5138e-04\n",
            "Epoch 52/100\n",
            "27/27 [==============================] - 2s 84ms/step - loss: 3.5353e-04\n",
            "Epoch 53/100\n",
            "27/27 [==============================] - 2s 87ms/step - loss: 3.3712e-04\n",
            "Epoch 54/100\n",
            "27/27 [==============================] - 2s 59ms/step - loss: 3.3239e-04\n",
            "Epoch 55/100\n",
            "27/27 [==============================] - 1s 53ms/step - loss: 3.3298e-04\n",
            "Epoch 56/100\n",
            "27/27 [==============================] - 1s 54ms/step - loss: 3.2534e-04\n",
            "Epoch 57/100\n",
            "27/27 [==============================] - 1s 53ms/step - loss: 3.3359e-04\n",
            "Epoch 58/100\n",
            "27/27 [==============================] - 1s 53ms/step - loss: 3.2941e-04\n",
            "Epoch 59/100\n",
            "27/27 [==============================] - 1s 51ms/step - loss: 3.2645e-04\n",
            "Epoch 60/100\n",
            "27/27 [==============================] - 1s 55ms/step - loss: 3.4193e-04\n",
            "Epoch 61/100\n",
            "27/27 [==============================] - 2s 84ms/step - loss: 3.3553e-04\n",
            "Epoch 62/100\n",
            "27/27 [==============================] - 3s 121ms/step - loss: 3.3991e-04\n",
            "Epoch 63/100\n",
            "27/27 [==============================] - 2s 74ms/step - loss: 3.3179e-04\n",
            "Epoch 64/100\n",
            "27/27 [==============================] - 1s 56ms/step - loss: 3.3534e-04\n",
            "Epoch 65/100\n",
            "27/27 [==============================] - 1s 52ms/step - loss: 3.1687e-04\n",
            "Epoch 66/100\n",
            "27/27 [==============================] - 1s 55ms/step - loss: 3.2622e-04\n",
            "Epoch 67/100\n",
            "27/27 [==============================] - 1s 55ms/step - loss: 3.2238e-04\n",
            "Epoch 68/100\n",
            "27/27 [==============================] - 1s 52ms/step - loss: 3.2593e-04\n",
            "Epoch 69/100\n",
            "27/27 [==============================] - 1s 53ms/step - loss: 3.3898e-04\n",
            "Epoch 70/100\n",
            "27/27 [==============================] - 2s 82ms/step - loss: 3.2393e-04\n",
            "Epoch 71/100\n",
            "27/27 [==============================] - 2s 83ms/step - loss: 3.1842e-04\n",
            "Epoch 72/100\n",
            "27/27 [==============================] - 2s 69ms/step - loss: 3.2088e-04\n",
            "Epoch 73/100\n",
            "27/27 [==============================] - 1s 52ms/step - loss: 3.1226e-04\n",
            "Epoch 74/100\n",
            "27/27 [==============================] - 1s 50ms/step - loss: 3.2269e-04\n",
            "Epoch 75/100\n",
            "27/27 [==============================] - 1s 51ms/step - loss: 3.2271e-04\n",
            "Epoch 76/100\n",
            "27/27 [==============================] - 1s 52ms/step - loss: 3.3461e-04\n",
            "Epoch 77/100\n",
            "27/27 [==============================] - 2s 57ms/step - loss: 3.1795e-04\n",
            "Epoch 78/100\n",
            "27/27 [==============================] - 1s 55ms/step - loss: 3.3002e-04\n",
            "Epoch 79/100\n",
            "27/27 [==============================] - 2s 70ms/step - loss: 3.4809e-04\n",
            "Epoch 80/100\n",
            "27/27 [==============================] - 2s 83ms/step - loss: 3.5063e-04\n",
            "Epoch 81/100\n",
            "27/27 [==============================] - 2s 89ms/step - loss: 3.3151e-04\n",
            "Epoch 82/100\n",
            "27/27 [==============================] - 2s 58ms/step - loss: 3.1798e-04\n",
            "Epoch 83/100\n",
            "27/27 [==============================] - 1s 55ms/step - loss: 3.1447e-04\n",
            "Epoch 84/100\n",
            "27/27 [==============================] - 2s 56ms/step - loss: 3.1804e-04\n",
            "Epoch 85/100\n",
            "27/27 [==============================] - 1s 52ms/step - loss: 3.2722e-04\n",
            "Epoch 86/100\n",
            "27/27 [==============================] - 1s 53ms/step - loss: 3.1118e-04\n",
            "Epoch 87/100\n",
            "27/27 [==============================] - 1s 55ms/step - loss: 3.2761e-04\n",
            "Epoch 88/100\n",
            "27/27 [==============================] - 2s 64ms/step - loss: 3.3044e-04\n",
            "Epoch 89/100\n",
            "27/27 [==============================] - 2s 85ms/step - loss: 3.2683e-04\n",
            "Epoch 90/100\n",
            "27/27 [==============================] - 2s 85ms/step - loss: 3.3302e-04\n",
            "Epoch 91/100\n",
            "27/27 [==============================] - 2s 68ms/step - loss: 3.2162e-04\n",
            "Epoch 92/100\n",
            "27/27 [==============================] - 1s 54ms/step - loss: 3.0890e-04\n",
            "Epoch 93/100\n",
            "27/27 [==============================] - 1s 52ms/step - loss: 3.1232e-04\n",
            "Epoch 94/100\n",
            "27/27 [==============================] - 1s 55ms/step - loss: 3.2438e-04\n",
            "Epoch 95/100\n",
            "27/27 [==============================] - 1s 53ms/step - loss: 3.3009e-04\n",
            "Epoch 96/100\n",
            "27/27 [==============================] - 2s 56ms/step - loss: 3.1007e-04\n",
            "Epoch 97/100\n",
            "27/27 [==============================] - 1s 52ms/step - loss: 3.1908e-04\n",
            "Epoch 98/100\n",
            "27/27 [==============================] - 2s 77ms/step - loss: 3.1696e-04\n",
            "Epoch 99/100\n",
            "27/27 [==============================] - 2s 86ms/step - loss: 3.0907e-04\n",
            "Epoch 100/100\n",
            "27/27 [==============================] - 2s 84ms/step - loss: 3.2256e-04\n"
          ]
        },
        {
          "output_type": "execute_result",
          "data": {
            "text/plain": [
              "<keras.src.callbacks.History at 0x786d567726b0>"
            ]
          },
          "metadata": {},
          "execution_count": 10
        }
      ]
    },
    {
      "cell_type": "code",
      "source": [
        "# Dự báo dữ liệu test và train\n",
        "train_predict = model.predict(X_train)\n",
        "y_pred = model.predict(X_test)"
      ],
      "metadata": {
        "colab": {
          "base_uri": "https://localhost:8080/"
        },
        "id": "Z7H6b5bilgXv",
        "outputId": "55fa38e2-cfc5-4191-b47e-6288a1f7dc7a"
      },
      "execution_count": 11,
      "outputs": [
        {
          "output_type": "stream",
          "name": "stdout",
          "text": [
            "54/54 [==============================] - 2s 18ms/step\n",
            "15/15 [==============================] - 0s 18ms/step\n"
          ]
        }
      ]
    },
    {
      "cell_type": "code",
      "source": [
        "# Chuẩn hóa dữ liệu y_pred\n",
        "train_predict = scaler.inverse_transform(train_predict)\n",
        "y_pred = scaler.inverse_transform(y_pred)"
      ],
      "metadata": {
        "id": "AGrwjDEOl9Mj"
      },
      "execution_count": 12,
      "outputs": []
    },
    {
      "cell_type": "code",
      "source": [
        "# Dự báo 90 ngày tiếp theo\n",
        "x_input = test_data[-100:].reshape(1, -1)\n",
        "temp_input = list(x_input[0])\n",
        "lst_output = []\n",
        "\n",
        "i = 0\n",
        "while(i < 90):\n",
        "    if len(temp_input) > 100:\n",
        "        x_input = np.array(temp_input[1:])  # Lấy từng ngày từ ngày thứ 2 trở đi\n",
        "        x_input = x_input.reshape(1, time_step, 1)  # Reshape lại để phù hợp với input của mạng\n",
        "        yhat = model.predict(x_input, verbose=0)  # Dự đoán giá cho ngày tiếp theo\n",
        "        temp_input.extend(yhat[0].tolist())  # Thêm dự đoán vào danh sách temp_input\n",
        "        temp_input = temp_input[1:]  # Loại bỏ ngày đầu tiên\n",
        "        lst_output.extend(yhat.tolist())  # Lưu dự đoán vào mảng lst_output\n",
        "        i += 1\n",
        "    else:\n",
        "        x_input = x_input.reshape(1, time_step, 1)  # Reshape lại để phù hợp với input của mạng\n",
        "        yhat = model.predict(x_input, verbose=0)  # Dự đoán giá cho ngày tiếp theo\n",
        "        temp_input.extend(yhat[0].tolist())  # Thêm dự đoán vào danh sách temp_input\n",
        "        lst_output.extend(yhat.tolist())  # Lưu dự đoán vào mảng lst_output\n",
        "        i += 1\n",
        "\n",
        "# In ra dự đoán cho 90 ngày tiếp theo\n",
        "print(\"Dự đoán giá cho 90 ngày tiếp theo:\")\n",
        "print(lst_output)"
      ],
      "metadata": {
        "colab": {
          "base_uri": "https://localhost:8080/"
        },
        "id": "4DfyL9LMW9fX",
        "outputId": "59e879eb-b967-4c02-eb5f-e15ad5663647"
      },
      "execution_count": 13,
      "outputs": [
        {
          "output_type": "stream",
          "name": "stdout",
          "text": [
            "Dự đoán giá cho 90 ngày tiếp theo:\n",
            "[[0.23700934648513794], [0.24242454767227173], [0.249489426612854], [0.257257878780365], [0.2649683952331543], [0.27222228050231934], [0.2789361774921417], [0.28522196412086487], [0.29126280546188354], [0.297222763299942], [0.3032020628452301], [0.30923157930374146], [0.31529200077056885], [0.3213401734828949], [0.327332079410553], [0.33323585987091064], [0.3390360474586487], [0.34473055601119995], [0.350324809551239], [0.35582587122917175], [0.36123862862586975], [0.36656463146209717], [0.37180188298225403], [0.37694692611694336], [0.38199561834335327], [0.3869447410106659], [0.3917921185493469], [0.3965367376804352], [0.4011785089969635], [0.40571749210357666], [0.410153865814209], [0.41448795795440674], [0.4187195599079132], [0.42284896969795227], [0.4268761873245239], [0.4308016300201416], [0.4346257448196411], [0.4383496344089508], [0.44197380542755127], [0.4454996883869171], [0.44892826676368713], [0.4522608518600464], [0.45549869537353516], [0.4586433172225952], [0.46169593930244446], [0.46465834975242615], [0.46753180027008057], [0.47031813859939575], [0.4730190336704254], [0.4756360948085785], [0.4781712293624878], [0.48062604665756226], [0.48300251364707947], [0.4853023588657379], [0.4875272810459137], [0.4896793067455292], [0.49176016449928284], [0.4937717020511627], [0.4957156181335449], [0.4975939691066742], [0.49940812587738037], [0.5011602640151978], [0.5028519034385681], [0.5044848918914795], [0.5060607194900513], [0.507581353187561], [0.5090482234954834], [0.5104631781578064], [0.5118276476860046], [0.5131434202194214], [0.5144116878509521], [0.515634298324585], [0.5168125033378601], [0.5179478526115417], [0.5190416574478149], [0.5200954675674438], [0.5211104154586792], [0.522087812423706], [0.523029088973999], [0.5239351987838745], [0.5248076319694519], [0.5256474018096924], [0.5264557003974915], [0.5272336006164551], [0.5279820561408997], [0.5287023186683655], [0.5293954014778137], [0.5300620198249817], [0.5307032465934753], [0.5313200950622559]]\n"
          ]
        }
      ]
    },
    {
      "cell_type": "code",
      "source": [
        "predict_future_30 = lst_output[:30]\n",
        "predict_future_60 = lst_output[30:60]\n",
        "predict_future_90 = lst_output[60:]\n"
      ],
      "metadata": {
        "id": "vPOQbRv4A-Zx"
      },
      "execution_count": 14,
      "outputs": []
    },
    {
      "cell_type": "code",
      "source": [
        "#Vẽ hình\n",
        "# train_data_index = pd.RangeIndex(start=0, stop=len(train_data), step=1)\n",
        "# plt.plot(train_data_index, scaler.inverse_transform(train_data), label='Train')\n",
        "\n",
        "test_data_index = pd.RangeIndex(start=train_size, stop=train_size+len(test_data), step=1)\n",
        "plt.plot(test_data_index, scaler.inverse_transform(test_data), label='Test')\n",
        "\n",
        "predicted_test_index = pd.RangeIndex(start=train_size, stop=train_size+len(y_pred), step=1)\n",
        "plt.plot(predicted_test_index, y_pred)\n",
        "\n",
        "predict_future_30_index = pd.RangeIndex(start=test_data_index[-1]+1, stop=test_data_index[-1]+31, step=1)\n",
        "plt.plot(predict_future_30_index, scaler.inverse_transform(predict_future_30))\n",
        "\n",
        "predict_future_60_index = pd.RangeIndex(start=test_data_index[-1]+31, stop=test_data_index[-1]+61, step=1)\n",
        "plt.plot(predict_future_60_index, scaler.inverse_transform(predict_future_60))\n",
        "\n",
        "predict_future_90_index = pd.RangeIndex(start=test_data_index[-1]+61, stop=test_data_index[-1]+91, step=1)\n",
        "plt.plot(predict_future_90_index, scaler.inverse_transform(predict_future_90))\n",
        "\n",
        "plt.title('GRU - DOGE Stock Price - 8:2')\n",
        "plt.xlabel('Date')\n",
        "plt.ylabel('Price')\n",
        "plt.legend(['Test','Predict Test','Predict 30days','Predict 60days','Predict 90days'])\n",
        "plt.show()"
      ],
      "metadata": {
        "colab": {
          "base_uri": "https://localhost:8080/",
          "height": 472
        },
        "id": "9dEqqWytXSRo",
        "outputId": "3e2dfeae-f3e6-490b-9651-65d86f56a8ba"
      },
      "execution_count": 16,
      "outputs": [
        {
          "output_type": "display_data",
          "data": {
            "text/plain": [
              "<Figure size 640x480 with 1 Axes>"
            ],
            "image/png": "[encoded data removed]"
          },
          "metadata": {}
        }
      ]
    },
    {
      "cell_type": "code",
      "source": [
        "from sklearn.metrics import mean_absolute_error, mean_squared_error, mean_absolute_percentage_error\n",
        "\n",
        "mae = mean_absolute_error(y_test, y_pred)\n",
        "mape = mean_absolute_percentage_error(y_test, y_pred)\n",
        "rmse = np.sqrt(mean_squared_error(y_test, y_pred))\n",
        "\n",
        "print(\"Mean Absolute Error (MAE):\", mae)\n",
        "print(\"Mean Absolute Percentage Error (MAPE):\", mape * 100)\n",
        "print(\"Root Mean Square Error (RMSE):\", rmse)"
      ],
      "metadata": {
        "colab": {
          "base_uri": "https://localhost:8080/"
        },
        "id": "APE0pAmrJKcg",
        "outputId": "09076089-544b-49f7-a0f5-7b418bb733a3"
      },
      "execution_count": 17,
      "outputs": [
        {
          "output_type": "stream",
          "name": "stdout",
          "text": [
            "Mean Absolute Error (MAE): 0.03640557532371621\n",
            "Mean Absolute Percentage Error (MAPE): 26.606615883811237\n",
            "Root Mean Square Error (RMSE): 0.04097383778715872\n"
          ]
        }
      ]
    },
    {
      "cell_type": "markdown",
      "source": [],
      "metadata": {
        "id": "3yRLTREua_1d"
      }
    },
    {
      "cell_type": "code",
      "source": [],
      "metadata": {
        "id": "fxjVSJqCa8n1"
      },
      "execution_count": null,
      "outputs": []
    }
  ]
}