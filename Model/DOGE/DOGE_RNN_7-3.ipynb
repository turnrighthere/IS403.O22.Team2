{
 "cells": [
  {
   "cell_type": "code",
   "execution_count": 2,
   "id": "26fdc348-5b74-4d88-a3dc-48da4d735e10",
   "metadata": {
    "tags": []
   },
   "outputs": [],
   "source": [
    "# 1. Import thư viện cần thiết\n",
    "import numpy as np\n",
    "import pandas as pd\n",
    "import matplotlib.pyplot as plt\n",
    "from sklearn.preprocessing import MinMaxScaler\n",
    "from keras.models import Sequential\n",
    "from keras.layers import Dense, SimpleRNN"
   ]
  },
  {
   "cell_type": "code",
   "execution_count": 3,
   "id": "a1081418-67c4-4366-9320-98d0255b8a87",
   "metadata": {
    "tags": []
   },
   "outputs": [
    {
     "name": "stdout",
     "output_type": "stream",
     "text": [
      "<class 'pandas.core.frame.DataFrame'>\n",
      "RangeIndex: 2285 entries, 0 to 2284\n",
      "Data columns (total 7 columns):\n",
      " #   Column     Non-Null Count  Dtype  \n",
      "---  ------     --------------  -----  \n",
      " 0   Date       2285 non-null   object \n",
      " 1   Open       2285 non-null   float64\n",
      " 2   High       2285 non-null   float64\n",
      " 3   Low        2285 non-null   float64\n",
      " 4   Price      2285 non-null   float64\n",
      " 5   Adj Close  2285 non-null   float64\n",
      " 6   Volume     2285 non-null   int64  \n",
      "dtypes: float64(5), int64(1), object(1)\n",
      "memory usage: 125.1+ KB\n"
     ]
    }
   ],
   "source": [
    "# 2. Đọc file csv và gắn index với giá Price\n",
    "df = pd.read_csv('pre_DOGE-USD.csv')\n",
    "df = df.rename(columns={'Close': 'Price'})\n",
    "df1 = df.reset_index()['Price']\n",
    "df.info()"
   ]
  },
  {
   "cell_type": "code",
   "execution_count": 4,
   "id": "60ab42f9-e719-4186-ada8-ba47f31ad5a7",
   "metadata": {
    "tags": []
   },
   "outputs": [],
   "source": [
    "# 3. Scaler data\n",
    "scaler = MinMaxScaler(feature_range=(0, 1))\n",
    "df1 = scaler.fit_transform(np.array(df1).reshape(-1, 1))"
   ]
  },
  {
   "cell_type": "code",
   "execution_count": 5,
   "id": "5cc5eeb5-d78f-4ef1-87eb-4359c768e0d6",
   "metadata": {
    "tags": []
   },
   "outputs": [
    {
     "name": "stdout",
     "output_type": "stream",
     "text": [
      "Train shape: (1599, 1)\n",
      "Test shape: (686, 1)\n"
     ]
    }
   ],
   "source": [
    "# 4. Chia train test 7 - 3\n",
    "train_size = int(0.7 * len(df1))\n",
    "test_size = len(df1) - train_size\n",
    "\n",
    "# Lấy dữ liệu train và test\n",
    "train_data = df1[:train_size]\n",
    "test_data = df1[train_size:]\n",
    "\n",
    "print(\"Train shape:\", train_data.shape)\n",
    "print(\"Test shape:\", test_data.shape)"
   ]
  },
  {
   "cell_type": "code",
   "execution_count": 6,
   "id": "f9148ab3-7d6f-4b1f-ab40-c832747c52be",
   "metadata": {
    "tags": []
   },
   "outputs": [],
   "source": [
    "# 5. Hàm Create Dataset\n",
    "import numpy\n",
    "# convert an array of values into a dataset matrix\n",
    "def create_dataset(dataset, time_step=1):\n",
    "\tdataX, dataY = [], []\n",
    "\tfor i in range(len(dataset)-time_step-1):\n",
    "\t\ta = dataset[i:(i+time_step), 0]   ###i=0, X=0,1,2,3-----99   Y=100 \n",
    "\t\tdataX.append(a)\n",
    "\t\tdataY.append(dataset[i + time_step, 0])\n",
    "\treturn numpy.array(dataX), numpy.array(dataY)"
   ]
  },
  {
   "cell_type": "code",
   "execution_count": 7,
   "id": "72cc4c30-465a-4cab-8356-3baef4e1fa61",
   "metadata": {
    "tags": []
   },
   "outputs": [],
   "source": [
    "# 6. Reshape into X=t,t+1,t+2..t+99 and Y=t+100\n",
    "time_step = 100\n",
    "X_train, y_train = create_dataset(train_data, time_step)\n",
    "combined_data = np.concatenate((train_data[-time_step:], test_data))\n",
    "X_test, ytest = create_dataset(combined_data, time_step)"
   ]
  },
  {
   "cell_type": "code",
   "execution_count": 8,
   "id": "ea53b5fc-9693-41c0-94d4-433f02119225",
   "metadata": {
    "tags": []
   },
   "outputs": [],
   "source": [
    "# 7. Reshape input to be [samples, time steps, features] which is required for LSTM\n",
    "X_train = X_train.reshape(X_train.shape[0], X_train.shape[1], 1)\n",
    "X_test = X_test.reshape(X_test.shape[0], X_test.shape[1], 1)"
   ]
  },
  {
   "cell_type": "code",
   "execution_count": 9,
   "id": "15bfe900-abe3-40da-8cba-618fcf530d43",
   "metadata": {
    "tags": []
   },
   "outputs": [],
   "source": [
    "# 8. Define RNN Model\n",
    "model = Sequential()\n",
    "model.add(SimpleRNN(50, input_shape=(time_step, 1)))\n",
    "model.add(Dense(1))\n",
    "model.compile(loss='mean_squared_error', optimizer='adam')"
   ]
  },
  {
   "cell_type": "code",
   "execution_count": 10,
   "id": "cc691626-b5f4-467f-a47b-0c07f204f045",
   "metadata": {
    "tags": []
   },
   "outputs": [
    {
     "name": "stdout",
     "output_type": "stream",
     "text": [
      "Epoch 1/100\n",
      "24/24 [==============================] - 2s 28ms/step - loss: 0.0011 - val_loss: 1.1672e-04\n",
      "Epoch 2/100\n",
      "24/24 [==============================] - 0s 17ms/step - loss: 6.3951e-04 - val_loss: 2.0343e-04\n",
      "Epoch 3/100\n",
      "24/24 [==============================] - 0s 18ms/step - loss: 5.6153e-04 - val_loss: 1.2392e-04\n",
      "Epoch 4/100\n",
      "24/24 [==============================] - 0s 19ms/step - loss: 4.6759e-04 - val_loss: 1.0757e-04\n",
      "Epoch 5/100\n",
      "24/24 [==============================] - 0s 17ms/step - loss: 4.4631e-04 - val_loss: 1.4873e-04\n",
      "Epoch 6/100\n",
      "24/24 [==============================] - 0s 18ms/step - loss: 4.4145e-04 - val_loss: 1.3395e-04\n",
      "Epoch 7/100\n",
      "24/24 [==============================] - 0s 18ms/step - loss: 3.9131e-04 - val_loss: 9.3767e-05\n",
      "Epoch 8/100\n",
      "24/24 [==============================] - 0s 19ms/step - loss: 3.7985e-04 - val_loss: 9.1779e-05\n",
      "Epoch 9/100\n",
      "24/24 [==============================] - 0s 18ms/step - loss: 3.7342e-04 - val_loss: 1.0597e-04\n",
      "Epoch 10/100\n",
      "24/24 [==============================] - 0s 19ms/step - loss: 3.6522e-04 - val_loss: 9.9785e-05\n",
      "Epoch 11/100\n",
      "24/24 [==============================] - 0s 17ms/step - loss: 3.4610e-04 - val_loss: 9.5528e-05\n",
      "Epoch 12/100\n",
      "24/24 [==============================] - 0s 18ms/step - loss: 3.5188e-04 - val_loss: 9.7607e-05\n",
      "Epoch 13/100\n",
      "24/24 [==============================] - 0s 18ms/step - loss: 3.3513e-04 - val_loss: 8.8735e-05\n",
      "Epoch 14/100\n",
      "24/24 [==============================] - 0s 17ms/step - loss: 3.3834e-04 - val_loss: 1.2611e-04\n",
      "Epoch 15/100\n",
      "24/24 [==============================] - 0s 17ms/step - loss: 3.6353e-04 - val_loss: 7.9716e-05\n",
      "Epoch 16/100\n",
      "24/24 [==============================] - 0s 17ms/step - loss: 3.5063e-04 - val_loss: 8.0362e-05\n",
      "Epoch 17/100\n",
      "24/24 [==============================] - 0s 17ms/step - loss: 3.4317e-04 - val_loss: 8.7873e-05\n",
      "Epoch 18/100\n",
      "24/24 [==============================] - 0s 17ms/step - loss: 3.3970e-04 - val_loss: 1.6187e-04\n",
      "Epoch 19/100\n",
      "24/24 [==============================] - 0s 16ms/step - loss: 3.4606e-04 - val_loss: 1.4719e-04\n",
      "Epoch 20/100\n",
      "24/24 [==============================] - 0s 17ms/step - loss: 3.4667e-04 - val_loss: 7.8513e-05\n",
      "Epoch 21/100\n",
      "24/24 [==============================] - 0s 18ms/step - loss: 3.4227e-04 - val_loss: 1.2269e-04\n",
      "Epoch 22/100\n",
      "24/24 [==============================] - 0s 17ms/step - loss: 3.3025e-04 - val_loss: 9.7515e-05\n",
      "Epoch 23/100\n",
      "24/24 [==============================] - 0s 16ms/step - loss: 3.2963e-04 - val_loss: 8.1629e-05\n",
      "Epoch 24/100\n",
      "24/24 [==============================] - 0s 18ms/step - loss: 3.4013e-04 - val_loss: 7.6576e-05\n",
      "Epoch 25/100\n",
      "24/24 [==============================] - 0s 18ms/step - loss: 3.2028e-04 - val_loss: 9.4036e-05\n",
      "Epoch 26/100\n",
      "24/24 [==============================] - 0s 17ms/step - loss: 3.2482e-04 - val_loss: 8.6784e-05\n",
      "Epoch 27/100\n",
      "24/24 [==============================] - 0s 18ms/step - loss: 3.2634e-04 - val_loss: 1.2150e-04\n",
      "Epoch 28/100\n",
      "24/24 [==============================] - 0s 18ms/step - loss: 3.9380e-04 - val_loss: 2.0353e-04\n",
      "Epoch 29/100\n",
      "24/24 [==============================] - 0s 17ms/step - loss: 3.9842e-04 - val_loss: 1.9151e-04\n",
      "Epoch 30/100\n",
      "24/24 [==============================] - 1s 24ms/step - loss: 3.4865e-04 - val_loss: 8.5088e-05\n",
      "Epoch 31/100\n",
      "24/24 [==============================] - 1s 23ms/step - loss: 3.1705e-04 - val_loss: 8.1969e-05\n",
      "Epoch 32/100\n",
      "24/24 [==============================] - 0s 19ms/step - loss: 3.2080e-04 - val_loss: 8.7670e-05\n",
      "Epoch 33/100\n",
      "24/24 [==============================] - 0s 18ms/step - loss: 3.1395e-04 - val_loss: 7.4702e-05\n",
      "Epoch 34/100\n",
      "24/24 [==============================] - 0s 17ms/step - loss: 3.1073e-04 - val_loss: 7.6705e-05\n",
      "Epoch 35/100\n",
      "24/24 [==============================] - 0s 17ms/step - loss: 3.1264e-04 - val_loss: 7.8373e-05\n",
      "Epoch 36/100\n",
      "24/24 [==============================] - 0s 18ms/step - loss: 3.3216e-04 - val_loss: 7.8194e-05\n",
      "Epoch 37/100\n",
      "24/24 [==============================] - 0s 18ms/step - loss: 3.2459e-04 - val_loss: 7.6774e-05\n",
      "Epoch 38/100\n",
      "24/24 [==============================] - 0s 18ms/step - loss: 3.1950e-04 - val_loss: 7.8763e-05\n",
      "Epoch 39/100\n",
      "24/24 [==============================] - 0s 18ms/step - loss: 3.2253e-04 - val_loss: 7.6928e-05\n",
      "Epoch 40/100\n",
      "24/24 [==============================] - 0s 19ms/step - loss: 3.1659e-04 - val_loss: 9.2411e-05\n",
      "Epoch 41/100\n",
      "24/24 [==============================] - 0s 19ms/step - loss: 3.3188e-04 - val_loss: 8.2604e-05\n",
      "Epoch 42/100\n",
      "24/24 [==============================] - 0s 20ms/step - loss: 3.1774e-04 - val_loss: 7.2258e-05\n",
      "Epoch 43/100\n",
      "24/24 [==============================] - 0s 20ms/step - loss: 3.1042e-04 - val_loss: 9.2397e-05\n",
      "Epoch 44/100\n",
      "24/24 [==============================] - 0s 20ms/step - loss: 3.6315e-04 - val_loss: 1.0180e-04\n",
      "Epoch 45/100\n",
      "24/24 [==============================] - 0s 21ms/step - loss: 3.4255e-04 - val_loss: 7.6123e-05\n",
      "Epoch 46/100\n",
      "24/24 [==============================] - 0s 18ms/step - loss: 3.2014e-04 - val_loss: 9.4973e-05\n",
      "Epoch 47/100\n",
      "24/24 [==============================] - 0s 18ms/step - loss: 3.1779e-04 - val_loss: 8.9657e-05\n",
      "Epoch 48/100\n",
      "24/24 [==============================] - 0s 19ms/step - loss: 3.3065e-04 - val_loss: 6.6606e-05\n",
      "Epoch 49/100\n",
      "24/24 [==============================] - 0s 17ms/step - loss: 3.2376e-04 - val_loss: 7.2715e-05\n",
      "Epoch 50/100\n",
      "24/24 [==============================] - 0s 20ms/step - loss: 3.1195e-04 - val_loss: 7.4929e-05\n",
      "Epoch 51/100\n",
      "24/24 [==============================] - 0s 18ms/step - loss: 3.3144e-04 - val_loss: 7.2166e-05\n",
      "Epoch 52/100\n",
      "24/24 [==============================] - 0s 17ms/step - loss: 3.1924e-04 - val_loss: 8.5008e-05\n",
      "Epoch 53/100\n",
      "24/24 [==============================] - 0s 17ms/step - loss: 3.1863e-04 - val_loss: 1.0109e-04\n",
      "Epoch 54/100\n",
      "24/24 [==============================] - 0s 17ms/step - loss: 3.0365e-04 - val_loss: 7.4483e-05\n",
      "Epoch 55/100\n",
      "24/24 [==============================] - 0s 18ms/step - loss: 3.1381e-04 - val_loss: 8.1449e-05\n",
      "Epoch 56/100\n",
      "24/24 [==============================] - 0s 18ms/step - loss: 3.0695e-04 - val_loss: 7.6532e-05\n",
      "Epoch 57/100\n",
      "24/24 [==============================] - 0s 17ms/step - loss: 3.1638e-04 - val_loss: 9.0703e-05\n",
      "Epoch 58/100\n",
      "24/24 [==============================] - 0s 18ms/step - loss: 3.2769e-04 - val_loss: 7.5036e-05\n",
      "Epoch 59/100\n",
      "24/24 [==============================] - 0s 18ms/step - loss: 3.1258e-04 - val_loss: 6.4707e-05\n",
      "Epoch 60/100\n",
      "24/24 [==============================] - 1s 26ms/step - loss: 3.1592e-04 - val_loss: 7.9524e-05\n",
      "Epoch 61/100\n",
      "24/24 [==============================] - 0s 18ms/step - loss: 3.0833e-04 - val_loss: 6.9341e-05\n",
      "Epoch 62/100\n",
      "24/24 [==============================] - 0s 19ms/step - loss: 3.0853e-04 - val_loss: 9.7522e-05\n",
      "Epoch 63/100\n",
      "24/24 [==============================] - 0s 19ms/step - loss: 3.0774e-04 - val_loss: 7.2051e-05\n",
      "Epoch 64/100\n",
      "24/24 [==============================] - 0s 20ms/step - loss: 2.9858e-04 - val_loss: 8.7641e-05\n",
      "Epoch 65/100\n",
      "24/24 [==============================] - 0s 19ms/step - loss: 3.1364e-04 - val_loss: 8.9287e-05\n",
      "Epoch 66/100\n",
      "24/24 [==============================] - 1s 21ms/step - loss: 2.9817e-04 - val_loss: 7.6752e-05\n",
      "Epoch 67/100\n",
      "24/24 [==============================] - 0s 21ms/step - loss: 3.1018e-04 - val_loss: 7.2908e-05\n",
      "Epoch 68/100\n",
      "24/24 [==============================] - 0s 20ms/step - loss: 3.5011e-04 - val_loss: 9.5737e-05\n",
      "Epoch 69/100\n",
      "24/24 [==============================] - 0s 20ms/step - loss: 3.2480e-04 - val_loss: 8.8389e-05\n",
      "Epoch 70/100\n",
      "24/24 [==============================] - 0s 20ms/step - loss: 3.2496e-04 - val_loss: 7.8183e-05\n",
      "Epoch 71/100\n",
      "24/24 [==============================] - 0s 20ms/step - loss: 3.1525e-04 - val_loss: 7.6298e-05\n",
      "Epoch 72/100\n",
      "24/24 [==============================] - 0s 20ms/step - loss: 3.0748e-04 - val_loss: 7.1662e-05\n",
      "Epoch 73/100\n",
      "24/24 [==============================] - 0s 18ms/step - loss: 3.2108e-04 - val_loss: 7.3959e-05\n",
      "Epoch 74/100\n",
      "24/24 [==============================] - 0s 19ms/step - loss: 3.0836e-04 - val_loss: 7.6245e-05\n",
      "Epoch 75/100\n",
      "24/24 [==============================] - 0s 18ms/step - loss: 3.2149e-04 - val_loss: 8.7387e-05\n",
      "Epoch 76/100\n",
      "24/24 [==============================] - 0s 19ms/step - loss: 3.0507e-04 - val_loss: 7.4016e-05\n",
      "Epoch 77/100\n",
      "24/24 [==============================] - 0s 19ms/step - loss: 3.1133e-04 - val_loss: 8.6683e-05\n",
      "Epoch 78/100\n",
      "24/24 [==============================] - 0s 19ms/step - loss: 3.0645e-04 - val_loss: 8.1678e-05\n",
      "Epoch 79/100\n",
      "24/24 [==============================] - 0s 20ms/step - loss: 3.1292e-04 - val_loss: 7.0657e-05\n",
      "Epoch 80/100\n",
      "24/24 [==============================] - 0s 19ms/step - loss: 3.0500e-04 - val_loss: 8.8834e-05\n",
      "Epoch 81/100\n",
      "24/24 [==============================] - 0s 18ms/step - loss: 3.0002e-04 - val_loss: 7.3555e-05\n",
      "Epoch 82/100\n",
      "24/24 [==============================] - 0s 19ms/step - loss: 3.0780e-04 - val_loss: 1.0006e-04\n",
      "Epoch 83/100\n",
      "24/24 [==============================] - 0s 17ms/step - loss: 3.1962e-04 - val_loss: 7.5672e-05\n",
      "Epoch 84/100\n",
      "24/24 [==============================] - 1s 24ms/step - loss: 3.6760e-04 - val_loss: 1.3477e-04\n",
      "Epoch 85/100\n",
      "24/24 [==============================] - 1s 24ms/step - loss: 3.4859e-04 - val_loss: 8.4808e-05\n",
      "Epoch 86/100\n",
      "24/24 [==============================] - 0s 21ms/step - loss: 3.0449e-04 - val_loss: 7.3791e-05\n",
      "Epoch 87/100\n",
      "24/24 [==============================] - 1s 22ms/step - loss: 3.0372e-04 - val_loss: 1.0160e-04\n",
      "Epoch 88/100\n",
      "24/24 [==============================] - 0s 20ms/step - loss: 3.2003e-04 - val_loss: 9.0111e-05\n",
      "Epoch 89/100\n",
      "24/24 [==============================] - 0s 18ms/step - loss: 3.1224e-04 - val_loss: 7.8580e-05\n",
      "Epoch 90/100\n",
      "24/24 [==============================] - 0s 17ms/step - loss: 2.9712e-04 - val_loss: 8.4522e-05\n",
      "Epoch 91/100\n",
      "24/24 [==============================] - 0s 19ms/step - loss: 3.2039e-04 - val_loss: 9.4119e-05\n",
      "Epoch 92/100\n",
      "24/24 [==============================] - 0s 16ms/step - loss: 3.4766e-04 - val_loss: 9.9355e-05\n",
      "Epoch 93/100\n",
      "24/24 [==============================] - 0s 21ms/step - loss: 3.2321e-04 - val_loss: 6.8188e-05\n",
      "Epoch 94/100\n",
      "24/24 [==============================] - 0s 17ms/step - loss: 3.0592e-04 - val_loss: 7.5343e-05\n",
      "Epoch 95/100\n",
      "24/24 [==============================] - 0s 17ms/step - loss: 3.1320e-04 - val_loss: 6.9298e-05\n",
      "Epoch 96/100\n",
      "24/24 [==============================] - 0s 18ms/step - loss: 3.1412e-04 - val_loss: 8.2364e-05\n",
      "Epoch 97/100\n",
      "24/24 [==============================] - 0s 18ms/step - loss: 3.1940e-04 - val_loss: 6.6747e-05\n",
      "Epoch 98/100\n",
      "24/24 [==============================] - 0s 21ms/step - loss: 3.0127e-04 - val_loss: 8.8762e-05\n",
      "Epoch 99/100\n",
      "24/24 [==============================] - 0s 17ms/step - loss: 3.0328e-04 - val_loss: 8.1756e-05\n",
      "Epoch 100/100\n",
      "24/24 [==============================] - 0s 18ms/step - loss: 3.0735e-04 - val_loss: 1.0776e-04\n"
     ]
    },
    {
     "data": {
      "text/plain": [
       "<keras.callbacks.History at 0x24b2126e620>"
      ]
     },
     "execution_count": 10,
     "metadata": {},
     "output_type": "execute_result"
    }
   ],
   "source": [
    "# 9. Fit mô hình với dữ liệu train\n",
    "model.fit(X_train, y_train, validation_data=(X_test, ytest), epochs=100, batch_size=64, verbose=1)"
   ]
  },
  {
   "cell_type": "code",
   "execution_count": 11,
   "id": "c55c37b5-5b6b-4482-8ef1-63d82cd60fae",
   "metadata": {
    "tags": []
   },
   "outputs": [
    {
     "name": "stdout",
     "output_type": "stream",
     "text": [
      "47/47 [==============================] - 1s 5ms/step\n",
      "22/22 [==============================] - 0s 5ms/step\n"
     ]
    }
   ],
   "source": [
    "# 10. Dự báo dữ liệu test\n",
    "train_predict = model.predict(X_train)\n",
    "y_pred = model.predict(X_test)"
   ]
  },
  {
   "cell_type": "code",
   "execution_count": 12,
   "id": "e1ef089c-abd2-4072-9177-25ff22485fa8",
   "metadata": {
    "tags": []
   },
   "outputs": [],
   "source": [
    "# 11. Chuẩn hóa dữ liệu y_pred\n",
    "train_predict = scaler.inverse_transform(train_predict)\n",
    "y_pred = scaler.inverse_transform(y_pred)"
   ]
  },
  {
   "cell_type": "code",
   "execution_count": 13,
   "id": "6c14ba0c-354e-4514-a7ed-98b43cbcc1f9",
   "metadata": {
    "tags": []
   },
   "outputs": [
    {
     "name": "stdout",
     "output_type": "stream",
     "text": [
      "Mean Absolute Error (MAE): 0.034444101367748926\n",
      "Mean Absolute Percentage Error (MAPE): 27.055581121130807\n",
      "Root Mean Square Error (RMSE): 0.037826055191777466\n"
     ]
    }
   ],
   "source": [
    "# 12. Tính RMSE, MAPE, MAE\n",
    "from sklearn.metrics import mean_absolute_error, mean_squared_error, mean_absolute_percentage_error\n",
    "\n",
    "mae = mean_absolute_error(ytest, y_pred)\n",
    "mape = mean_absolute_percentage_error(ytest, y_pred)\n",
    "rmse = np.sqrt(mean_squared_error(ytest, y_pred))\n",
    "\n",
    "print(\"Mean Absolute Error (MAE):\", mae)\n",
    "print(\"Mean Absolute Percentage Error (MAPE):\", mape * 100)\n",
    "print(\"Root Mean Square Error (RMSE):\", rmse)"
   ]
  },
  {
   "cell_type": "code",
   "execution_count": 14,
   "id": "a858ddd6-d663-47e2-b024-95e269c52c71",
   "metadata": {
    "tags": []
   },
   "outputs": [],
   "source": [
    "# 13. Hàm dự báo\n",
    "def forecast_days(n_days):\n",
    "    x_input = test_data[-100:].reshape(1, -1)\n",
    "    temp_input = list(x_input[0])\n",
    "\n",
    "    lst_output = []\n",
    "    i = 0\n",
    "    while i < n_days:\n",
    "        if len(temp_input) > 100:\n",
    "            x_input = np.array(temp_input[1:])\n",
    "            x_input = x_input.reshape(1, -1)\n",
    "            x_input = x_input.reshape((1, time_step, 1))\n",
    "            yhat = model.predict(x_input, verbose=0)\n",
    "            temp_input.extend(yhat[0].tolist())\n",
    "            temp_input = temp_input[1:]\n",
    "            lst_output.extend(yhat.tolist())\n",
    "            i += 1\n",
    "        else:\n",
    "            x_input = x_input.reshape((1, time_step, 1))\n",
    "            yhat = model.predict(x_input, verbose=0)\n",
    "            temp_input.extend(yhat[0].tolist())\n",
    "            lst_output.extend(yhat.tolist())\n",
    "            i += 1\n",
    "    return lst_output"
   ]
  },
  {
   "cell_type": "code",
   "execution_count": 15,
   "id": "a3f20539-86f3-4c0d-ac02-6d3159836533",
   "metadata": {
    "tags": []
   },
   "outputs": [],
   "source": [
    "# 14. Dự báo 30, 60, 90 ngày tiếp theo\n",
    "forecast_30 = forecast_days(30)\n",
    "forecast_60 = forecast_days(60)\n",
    "forecast_90 = forecast_days(90)"
   ]
  },
  {
   "cell_type": "code",
   "execution_count": 16,
   "id": "e3ed23dc-59fe-4c17-aed7-762004a4dc86",
   "metadata": {
    "tags": []
   },
   "outputs": [
    {
     "name": "stdout",
     "output_type": "stream",
     "text": [
      "Dự báo cho 30 ngày tiếp theo: [[0.24364404380321503], [0.2531048059463501], [0.255761981010437], [0.2730697989463806], [0.2860230505466461], [0.29439014196395874], [0.30304834246635437], [0.31746718287467957], [0.3163832128047943], [0.33574211597442627], [0.34594592452049255], [0.36273765563964844], [0.3765926659107208], [0.3849169909954071], [0.39356255531311035], [0.3999320864677429], [0.40716761350631714], [0.4102070927619934], [0.41327765583992004], [0.42549917101860046], [0.44081684947013855], [0.4569248557090759], [0.47718432545661926], [0.4870315194129944], [0.4943870007991791], [0.5018892884254456], [0.5132154822349548], [0.5210057497024536], [0.5315762162208557], [0.5413709282875061]]\n"
     ]
    }
   ],
   "source": [
    "# 15. In ra dự đoán cho 30 ngày tiếp theo\n",
    "print(\"Dự báo cho 30 ngày tiếp theo:\", forecast_30)"
   ]
  },
  {
   "cell_type": "code",
   "execution_count": 17,
   "id": "fbbbde1a-59a7-40bd-a4f7-cf5d05e1cda2",
   "metadata": {
    "tags": []
   },
   "outputs": [
    {
     "name": "stdout",
     "output_type": "stream",
     "text": [
      "Dự báo cho 60 ngày tiếp theo: [[0.24364404380321503], [0.2531048059463501], [0.255761981010437], [0.2730697989463806], [0.2860230505466461], [0.29439014196395874], [0.30304834246635437], [0.31746718287467957], [0.3163832128047943], [0.33574211597442627], [0.34594592452049255], [0.36273765563964844], [0.3765926659107208], [0.3849169909954071], [0.39356255531311035], [0.3999320864677429], [0.40716761350631714], [0.4102070927619934], [0.41327765583992004], [0.42549917101860046], [0.44081684947013855], [0.4569248557090759], [0.47718432545661926], [0.4870315194129944], [0.4943870007991791], [0.5018892884254456], [0.5132154822349548], [0.5210057497024536], [0.5315762162208557], [0.5413709282875061], [0.5493764281272888], [0.5589954853057861], [0.5667053461074829], [0.5749304294586182], [0.5825728178024292], [0.5849906206130981], [0.5896961688995361], [0.592777669429779], [0.6028977036476135], [0.6093854904174805], [0.6139535307884216], [0.618157684803009], [0.6205260753631592], [0.6228211522102356], [0.6256320476531982], [0.626125693321228], [0.627155065536499], [0.6290051937103271], [0.630833625793457], [0.6340161561965942], [0.6373703479766846], [0.6396957635879517], [0.6383739709854126], [0.6392256021499634], [0.6400733590126038], [0.6400736570358276], [0.6418209075927734], [0.6430521011352539], [0.6423569917678833], [0.6421188712120056]]\n"
     ]
    }
   ],
   "source": [
    "# 15. In ra dự đoán cho 60 ngày tiếp theo\n",
    "print(\"Dự báo cho 60 ngày tiếp theo:\", forecast_60)"
   ]
  },
  {
   "cell_type": "code",
   "execution_count": 18,
   "id": "09bec281-2bd7-4939-9482-db139601dec3",
   "metadata": {
    "tags": []
   },
   "outputs": [
    {
     "name": "stdout",
     "output_type": "stream",
     "text": [
      "Dự báo cho 90 ngày tiếp theo: [[0.24364404380321503], [0.2531048059463501], [0.255761981010437], [0.2730697989463806], [0.2860230505466461], [0.29439014196395874], [0.30304834246635437], [0.31746718287467957], [0.3163832128047943], [0.33574211597442627], [0.34594592452049255], [0.36273765563964844], [0.3765926659107208], [0.3849169909954071], [0.39356255531311035], [0.3999320864677429], [0.40716761350631714], [0.4102070927619934], [0.41327765583992004], [0.42549917101860046], [0.44081684947013855], [0.4569248557090759], [0.47718432545661926], [0.4870315194129944], [0.4943870007991791], [0.5018892884254456], [0.5132154822349548], [0.5210057497024536], [0.5315762162208557], [0.5413709282875061], [0.5493764281272888], [0.5589954853057861], [0.5667053461074829], [0.5749304294586182], [0.5825728178024292], [0.5849906206130981], [0.5896961688995361], [0.592777669429779], [0.6028977036476135], [0.6093854904174805], [0.6139535307884216], [0.618157684803009], [0.6205260753631592], [0.6228211522102356], [0.6256320476531982], [0.626125693321228], [0.627155065536499], [0.6290051937103271], [0.630833625793457], [0.6340161561965942], [0.6373703479766846], [0.6396957635879517], [0.6383739709854126], [0.6392256021499634], [0.6400733590126038], [0.6400736570358276], [0.6418209075927734], [0.6430521011352539], [0.6423569917678833], [0.6421188712120056], [0.6426795721054077], [0.6433054804801941], [0.6441478729248047], [0.6441500186920166], [0.6427429914474487], [0.6435993909835815], [0.64521324634552], [0.6456987261772156], [0.6467187404632568], [0.6470379829406738], [0.6462277173995972], [0.6460101008415222], [0.646032989025116], [0.6460684537887573], [0.6457973122596741], [0.6458002924919128], [0.6462579965591431], [0.6465556025505066], [0.648066520690918], [0.6485087871551514], [0.6484216451644897], [0.6486810445785522], [0.6481433510780334], [0.6480079293251038], [0.6488103866577148], [0.6490652561187744], [0.6487722992897034], [0.6489039063453674], [0.6489415168762207], [0.649300217628479]]\n"
     ]
    }
   ],
   "source": [
    "# 15. In ra dự đoán cho 90 ngày tiếp theo\n",
    "print(\"Dự báo cho 90 ngày tiếp theo:\", forecast_90)"
   ]
  },
  {
   "cell_type": "code",
   "execution_count": 19,
   "id": "1a2ee735-ad92-4ff0-a51f-7fa1da4773fc",
   "metadata": {
    "tags": []
   },
   "outputs": [
    {
     "data": {
      "image/png": "[encoded data removed]",
      "text/plain": [
       "<Figure size 640x480 with 1 Axes>"
      ]
     },
     "metadata": {},
     "output_type": "display_data"
    }
   ],
   "source": [
    "# 16. Vẽ hình\n",
    "\n",
    "# Vẽ dữ liệu kiểm tra\n",
    "test_data_index = pd.RangeIndex(start=train_size, stop=train_size + test_size)\n",
    "plt.plot(test_data_index, scaler.inverse_transform(test_data), label='Test Data')\n",
    "\n",
    "# Vẽ dữ liệu dự đoán\n",
    "plt.plot(np.arange(train_size, train_size + len(y_pred)), y_pred, label='Predicted')\n",
    "\n",
    "# Vẽ dự báo 90, 60, 30 ngày\n",
    "plt.plot(np.arange(train_size + len(test_data), train_size + len(test_data) + len(forecast_90)), scaler.inverse_transform(forecast_90), label='Forecast 90 days')\n",
    "plt.plot(np.arange(train_size + len(test_data), train_size + len(test_data) + len(forecast_60)), scaler.inverse_transform(forecast_60), label='Forecast 60 days')\n",
    "plt.plot(np.arange(train_size + len(test_data), train_size + len(test_data) + len(forecast_30)), scaler.inverse_transform(forecast_30), label='Forecast 30 days')\n",
    "\n",
    "plt.title('RNN - DOGE Stock Price - Forecast 30, 60, 90 days')\n",
    "plt.xlabel('Day')\n",
    "plt.ylabel('Price')\n",
    "plt.legend()\n",
    "plt.show()"
   ]
  }
 ],
 "metadata": {
  "kernelspec": {
   "display_name": "Python 3 (ipykernel)",
   "language": "python",
   "name": "python3"
  },
  "language_info": {
   "codemirror_mode": {
    "name": "ipython",
    "version": 3
   },
   "file_extension": ".py",
   "mimetype": "text/x-python",
   "name": "python",
   "nbconvert_exporter": "python",
   "pygments_lexer": "ipython3",
   "version": "3.10.8"
  }
 },
 "nbformat": 4,
 "nbformat_minor": 5
}
