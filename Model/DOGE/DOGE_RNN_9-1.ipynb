{
 "cells": [
  {
   "cell_type": "code",
   "execution_count": 1,
   "id": "26fdc348-5b74-4d88-a3dc-48da4d735e10",
   "metadata": {
    "tags": []
   },
   "outputs": [],
   "source": [
    "# 1. Import thư viện cần thiết\n",
    "import numpy as np\n",
    "import pandas as pd\n",
    "import matplotlib.pyplot as plt\n",
    "from sklearn.preprocessing import MinMaxScaler\n",
    "from keras.models import Sequential\n",
    "from keras.layers import Dense, SimpleRNN"
   ]
  },
  {
   "cell_type": "code",
   "execution_count": 2,
   "id": "a1081418-67c4-4366-9320-98d0255b8a87",
   "metadata": {
    "tags": []
   },
   "outputs": [
    {
     "name": "stdout",
     "output_type": "stream",
     "text": [
      "<class 'pandas.core.frame.DataFrame'>\n",
      "RangeIndex: 2285 entries, 0 to 2284\n",
      "Data columns (total 7 columns):\n",
      " #   Column     Non-Null Count  Dtype  \n",
      "---  ------     --------------  -----  \n",
      " 0   Date       2285 non-null   object \n",
      " 1   Open       2285 non-null   float64\n",
      " 2   High       2285 non-null   float64\n",
      " 3   Low        2285 non-null   float64\n",
      " 4   Price      2285 non-null   float64\n",
      " 5   Adj Close  2285 non-null   float64\n",
      " 6   Volume     2285 non-null   int64  \n",
      "dtypes: float64(5), int64(1), object(1)\n",
      "memory usage: 125.1+ KB\n"
     ]
    }
   ],
   "source": [
    "# 2. Đọc file csv và gắn index với giá Price\n",
    "df = pd.read_csv('pre_DOGE-USD.csv')\n",
    "df = df.rename(columns={'Close': 'Price'})\n",
    "df1 = df.reset_index()['Price']\n",
    "df.info()"
   ]
  },
  {
   "cell_type": "code",
   "execution_count": 3,
   "id": "60ab42f9-e719-4186-ada8-ba47f31ad5a7",
   "metadata": {
    "tags": []
   },
   "outputs": [],
   "source": [
    "# 3. Scaler data\n",
    "scaler = MinMaxScaler(feature_range=(0, 1))\n",
    "df1 = scaler.fit_transform(np.array(df1).reshape(-1, 1))"
   ]
  },
  {
   "cell_type": "code",
   "execution_count": 4,
   "id": "5cc5eeb5-d78f-4ef1-87eb-4359c768e0d6",
   "metadata": {
    "tags": []
   },
   "outputs": [
    {
     "name": "stdout",
     "output_type": "stream",
     "text": [
      "Train shape: (2056, 1)\n",
      "Test shape: (229, 1)\n"
     ]
    }
   ],
   "source": [
    "# 4. Chia train test 9 - 1\n",
    "train_size = int(0.9 * len(df1))\n",
    "test_size = len(df1) - train_size\n",
    "\n",
    "# Lấy dữ liệu train và test\n",
    "train_data = df1[:train_size]\n",
    "test_data = df1[train_size:]\n",
    "\n",
    "print(\"Train shape:\", train_data.shape)\n",
    "print(\"Test shape:\", test_data.shape)"
   ]
  },
  {
   "cell_type": "code",
   "execution_count": 5,
   "id": "f9148ab3-7d6f-4b1f-ab40-c832747c52be",
   "metadata": {
    "tags": []
   },
   "outputs": [],
   "source": [
    "# 5. Hàm Create Dataset\n",
    "import numpy\n",
    "# convert an array of values into a dataset matrix\n",
    "def create_dataset(dataset, time_step=1):\n",
    "\tdataX, dataY = [], []\n",
    "\tfor i in range(len(dataset)-time_step-1):\n",
    "\t\ta = dataset[i:(i+time_step), 0]   ###i=0, X=0,1,2,3-----99   Y=100 \n",
    "\t\tdataX.append(a)\n",
    "\t\tdataY.append(dataset[i + time_step, 0])\n",
    "\treturn numpy.array(dataX), numpy.array(dataY)"
   ]
  },
  {
   "cell_type": "code",
   "execution_count": 6,
   "id": "72cc4c30-465a-4cab-8356-3baef4e1fa61",
   "metadata": {
    "tags": []
   },
   "outputs": [],
   "source": [
    "# 6. Reshape into X=t,t+1,t+2..t+99 and Y=t+100\n",
    "time_step = 100\n",
    "X_train, y_train = create_dataset(train_data, time_step)\n",
    "combined_data = np.concatenate((train_data[-time_step:], test_data))\n",
    "X_test, ytest = create_dataset(combined_data, time_step)"
   ]
  },
  {
   "cell_type": "code",
   "execution_count": 7,
   "id": "ea53b5fc-9693-41c0-94d4-433f02119225",
   "metadata": {
    "tags": []
   },
   "outputs": [],
   "source": [
    "# 7. Reshape input to be [samples, time steps, features] which is required for LSTM\n",
    "X_train = X_train.reshape(X_train.shape[0], X_train.shape[1], 1)\n",
    "X_test = X_test.reshape(X_test.shape[0], X_test.shape[1], 1)"
   ]
  },
  {
   "cell_type": "code",
   "execution_count": 8,
   "id": "15bfe900-abe3-40da-8cba-618fcf530d43",
   "metadata": {
    "tags": []
   },
   "outputs": [],
   "source": [
    "# 8. Define RNN Model\n",
    "model = Sequential()\n",
    "model.add(SimpleRNN(50, input_shape=(time_step, 1)))\n",
    "model.add(Dense(1))\n",
    "model.compile(loss='mean_squared_error', optimizer='adam')"
   ]
  },
  {
   "cell_type": "code",
   "execution_count": 9,
   "id": "cc691626-b5f4-467f-a47b-0c07f204f045",
   "metadata": {
    "tags": []
   },
   "outputs": [
    {
     "name": "stdout",
     "output_type": "stream",
     "text": [
      "Epoch 1/100\n",
      "31/31 [==============================] - 2s 25ms/step - loss: 0.0064 - val_loss: 8.8869e-04\n",
      "Epoch 2/100\n",
      "31/31 [==============================] - 1s 18ms/step - loss: 0.0014 - val_loss: 6.4689e-04\n",
      "Epoch 3/100\n",
      "31/31 [==============================] - 0s 15ms/step - loss: 0.0012 - val_loss: 6.0138e-04\n",
      "Epoch 4/100\n",
      "31/31 [==============================] - 1s 17ms/step - loss: 0.0010 - val_loss: 5.1661e-04\n",
      "Epoch 5/100\n",
      "31/31 [==============================] - 0s 14ms/step - loss: 8.9322e-04 - val_loss: 6.5285e-04\n",
      "Epoch 6/100\n",
      "31/31 [==============================] - 0s 14ms/step - loss: 8.2623e-04 - val_loss: 5.4485e-04\n",
      "Epoch 7/100\n",
      "31/31 [==============================] - 0s 14ms/step - loss: 7.1803e-04 - val_loss: 4.1729e-04\n",
      "Epoch 8/100\n",
      "31/31 [==============================] - 0s 15ms/step - loss: 6.6737e-04 - val_loss: 3.7372e-04\n",
      "Epoch 9/100\n",
      "31/31 [==============================] - 0s 14ms/step - loss: 5.9408e-04 - val_loss: 3.3622e-04\n",
      "Epoch 10/100\n",
      "31/31 [==============================] - 0s 14ms/step - loss: 5.2970e-04 - val_loss: 4.0210e-04\n",
      "Epoch 11/100\n",
      "31/31 [==============================] - 0s 15ms/step - loss: 4.7958e-04 - val_loss: 2.7299e-04\n",
      "Epoch 12/100\n",
      "31/31 [==============================] - 0s 15ms/step - loss: 4.4024e-04 - val_loss: 3.6174e-04\n",
      "Epoch 13/100\n",
      "31/31 [==============================] - 1s 18ms/step - loss: 4.3211e-04 - val_loss: 2.6317e-04\n",
      "Epoch 14/100\n",
      "31/31 [==============================] - 1s 22ms/step - loss: 4.4630e-04 - val_loss: 3.4419e-04\n",
      "Epoch 15/100\n",
      "31/31 [==============================] - 1s 17ms/step - loss: 3.6810e-04 - val_loss: 2.0602e-04\n",
      "Epoch 16/100\n",
      "31/31 [==============================] - 0s 16ms/step - loss: 3.6224e-04 - val_loss: 2.1027e-04\n",
      "Epoch 17/100\n",
      "31/31 [==============================] - 1s 17ms/step - loss: 3.6179e-04 - val_loss: 2.2861e-04\n",
      "Epoch 18/100\n",
      "31/31 [==============================] - 1s 20ms/step - loss: 3.1702e-04 - val_loss: 1.8034e-04\n",
      "Epoch 19/100\n",
      "31/31 [==============================] - 1s 41ms/step - loss: 3.2055e-04 - val_loss: 2.2750e-04\n",
      "Epoch 20/100\n",
      "31/31 [==============================] - 1s 17ms/step - loss: 3.6171e-04 - val_loss: 2.4361e-04\n",
      "Epoch 21/100\n",
      "31/31 [==============================] - 1s 20ms/step - loss: 3.0587e-04 - val_loss: 1.8790e-04\n",
      "Epoch 22/100\n",
      "31/31 [==============================] - 1s 18ms/step - loss: 2.9613e-04 - val_loss: 1.7749e-04\n",
      "Epoch 23/100\n",
      "31/31 [==============================] - 1s 18ms/step - loss: 3.2204e-04 - val_loss: 2.0167e-04\n",
      "Epoch 24/100\n",
      "31/31 [==============================] - 1s 23ms/step - loss: 2.8599e-04 - val_loss: 1.6797e-04\n",
      "Epoch 25/100\n",
      "31/31 [==============================] - 1s 17ms/step - loss: 2.8711e-04 - val_loss: 2.0992e-04\n",
      "Epoch 26/100\n",
      "31/31 [==============================] - 1s 17ms/step - loss: 2.9009e-04 - val_loss: 2.2929e-04\n",
      "Epoch 27/100\n",
      "31/31 [==============================] - 1s 17ms/step - loss: 2.8074e-04 - val_loss: 1.6229e-04\n",
      "Epoch 28/100\n",
      "31/31 [==============================] - 1s 17ms/step - loss: 2.6373e-04 - val_loss: 1.9445e-04\n",
      "Epoch 29/100\n",
      "31/31 [==============================] - 1s 19ms/step - loss: 2.9774e-04 - val_loss: 1.5034e-04\n",
      "Epoch 30/100\n",
      "31/31 [==============================] - 1s 17ms/step - loss: 2.9052e-04 - val_loss: 1.7758e-04\n",
      "Epoch 31/100\n",
      "31/31 [==============================] - 1s 16ms/step - loss: 2.6467e-04 - val_loss: 2.8745e-04\n",
      "Epoch 32/100\n",
      "31/31 [==============================] - 1s 18ms/step - loss: 2.6559e-04 - val_loss: 1.6146e-04\n",
      "Epoch 33/100\n",
      "31/31 [==============================] - 1s 29ms/step - loss: 2.7882e-04 - val_loss: 1.8631e-04\n",
      "Epoch 34/100\n",
      "31/31 [==============================] - 1s 19ms/step - loss: 2.7830e-04 - val_loss: 1.7531e-04\n",
      "Epoch 35/100\n",
      "31/31 [==============================] - 0s 13ms/step - loss: 2.4572e-04 - val_loss: 3.0908e-04\n",
      "Epoch 36/100\n",
      "31/31 [==============================] - 1s 16ms/step - loss: 2.6260e-04 - val_loss: 1.9775e-04\n",
      "Epoch 37/100\n",
      "31/31 [==============================] - 0s 16ms/step - loss: 2.6361e-04 - val_loss: 1.9929e-04\n",
      "Epoch 38/100\n",
      "31/31 [==============================] - 0s 15ms/step - loss: 2.6988e-04 - val_loss: 3.7096e-04\n",
      "Epoch 39/100\n",
      "31/31 [==============================] - 0s 15ms/step - loss: 2.7175e-04 - val_loss: 2.3024e-04\n",
      "Epoch 40/100\n",
      "31/31 [==============================] - 0s 16ms/step - loss: 2.5248e-04 - val_loss: 1.6761e-04\n",
      "Epoch 41/100\n",
      "31/31 [==============================] - 1s 18ms/step - loss: 2.9775e-04 - val_loss: 2.1997e-04\n",
      "Epoch 42/100\n",
      "31/31 [==============================] - 1s 16ms/step - loss: 2.5520e-04 - val_loss: 1.5613e-04\n",
      "Epoch 43/100\n",
      "31/31 [==============================] - 0s 15ms/step - loss: 2.6109e-04 - val_loss: 2.4776e-04\n",
      "Epoch 44/100\n",
      "31/31 [==============================] - 1s 18ms/step - loss: 2.7965e-04 - val_loss: 2.3434e-04\n",
      "Epoch 45/100\n",
      "31/31 [==============================] - 1s 17ms/step - loss: 2.5172e-04 - val_loss: 2.5045e-04\n",
      "Epoch 46/100\n",
      "31/31 [==============================] - 1s 18ms/step - loss: 2.3340e-04 - val_loss: 1.9116e-04\n",
      "Epoch 47/100\n",
      "31/31 [==============================] - 1s 17ms/step - loss: 2.3637e-04 - val_loss: 2.7379e-04\n",
      "Epoch 48/100\n",
      "31/31 [==============================] - 0s 16ms/step - loss: 2.6926e-04 - val_loss: 2.2103e-04\n",
      "Epoch 49/100\n",
      "31/31 [==============================] - 1s 22ms/step - loss: 2.8421e-04 - val_loss: 2.0323e-04\n",
      "Epoch 50/100\n",
      "31/31 [==============================] - 1s 20ms/step - loss: 3.1816e-04 - val_loss: 1.7520e-04\n",
      "Epoch 51/100\n",
      "31/31 [==============================] - 0s 16ms/step - loss: 2.9732e-04 - val_loss: 1.7503e-04\n",
      "Epoch 52/100\n",
      "31/31 [==============================] - 0s 15ms/step - loss: 2.3904e-04 - val_loss: 2.2595e-04\n",
      "Epoch 53/100\n",
      "31/31 [==============================] - 0s 15ms/step - loss: 2.5382e-04 - val_loss: 2.3035e-04\n",
      "Epoch 54/100\n",
      "31/31 [==============================] - 1s 17ms/step - loss: 2.2535e-04 - val_loss: 1.6396e-04\n",
      "Epoch 55/100\n",
      "31/31 [==============================] - 1s 19ms/step - loss: 2.4099e-04 - val_loss: 1.5647e-04\n",
      "Epoch 56/100\n",
      "31/31 [==============================] - 1s 24ms/step - loss: 2.2842e-04 - val_loss: 1.4480e-04\n",
      "Epoch 57/100\n",
      "31/31 [==============================] - 0s 15ms/step - loss: 2.2617e-04 - val_loss: 1.4517e-04\n",
      "Epoch 58/100\n",
      "31/31 [==============================] - 0s 14ms/step - loss: 2.2757e-04 - val_loss: 1.6578e-04\n",
      "Epoch 59/100\n",
      "31/31 [==============================] - 1s 24ms/step - loss: 2.4351e-04 - val_loss: 1.5636e-04\n",
      "Epoch 60/100\n",
      "31/31 [==============================] - 1s 18ms/step - loss: 2.3079e-04 - val_loss: 2.7049e-04\n",
      "Epoch 61/100\n",
      "31/31 [==============================] - 1s 17ms/step - loss: 2.3937e-04 - val_loss: 2.3822e-04\n",
      "Epoch 62/100\n",
      "31/31 [==============================] - 0s 16ms/step - loss: 2.2472e-04 - val_loss: 2.3822e-04\n",
      "Epoch 63/100\n",
      "31/31 [==============================] - 0s 15ms/step - loss: 2.4564e-04 - val_loss: 2.5003e-04\n",
      "Epoch 64/100\n",
      "31/31 [==============================] - 1s 17ms/step - loss: 2.3415e-04 - val_loss: 1.5610e-04\n",
      "Epoch 65/100\n",
      "31/31 [==============================] - 1s 18ms/step - loss: 2.1740e-04 - val_loss: 1.9196e-04\n",
      "Epoch 66/100\n",
      "31/31 [==============================] - 0s 14ms/step - loss: 2.5429e-04 - val_loss: 1.4740e-04\n",
      "Epoch 67/100\n",
      "31/31 [==============================] - 0s 14ms/step - loss: 2.3032e-04 - val_loss: 2.7846e-04\n",
      "Epoch 68/100\n",
      "31/31 [==============================] - 0s 14ms/step - loss: 2.3984e-04 - val_loss: 3.1151e-04\n",
      "Epoch 69/100\n",
      "31/31 [==============================] - 0s 14ms/step - loss: 2.8294e-04 - val_loss: 2.2412e-04\n",
      "Epoch 70/100\n",
      "31/31 [==============================] - 0s 14ms/step - loss: 2.5933e-04 - val_loss: 2.4153e-04\n",
      "Epoch 71/100\n",
      "31/31 [==============================] - 0s 14ms/step - loss: 2.2974e-04 - val_loss: 2.3560e-04\n",
      "Epoch 72/100\n",
      "31/31 [==============================] - 0s 15ms/step - loss: 2.6638e-04 - val_loss: 2.6309e-04\n",
      "Epoch 73/100\n",
      "31/31 [==============================] - 0s 13ms/step - loss: 2.4167e-04 - val_loss: 2.1918e-04\n",
      "Epoch 74/100\n",
      "31/31 [==============================] - 0s 14ms/step - loss: 2.3143e-04 - val_loss: 2.6981e-04\n",
      "Epoch 75/100\n",
      "31/31 [==============================] - 0s 14ms/step - loss: 2.1300e-04 - val_loss: 2.8961e-04\n",
      "Epoch 76/100\n",
      "31/31 [==============================] - 0s 16ms/step - loss: 2.1508e-04 - val_loss: 2.7764e-04\n",
      "Epoch 77/100\n",
      "31/31 [==============================] - 0s 15ms/step - loss: 2.1334e-04 - val_loss: 2.4300e-04\n",
      "Epoch 78/100\n",
      "31/31 [==============================] - 0s 15ms/step - loss: 2.3322e-04 - val_loss: 3.0190e-04\n",
      "Epoch 79/100\n",
      "31/31 [==============================] - 0s 14ms/step - loss: 2.2777e-04 - val_loss: 2.5329e-04\n",
      "Epoch 80/100\n",
      "31/31 [==============================] - 0s 14ms/step - loss: 2.5867e-04 - val_loss: 3.5248e-04\n",
      "Epoch 81/100\n",
      "31/31 [==============================] - 0s 16ms/step - loss: 2.3675e-04 - val_loss: 2.3003e-04\n",
      "Epoch 82/100\n",
      "31/31 [==============================] - 1s 23ms/step - loss: 2.2459e-04 - val_loss: 2.4746e-04\n",
      "Epoch 83/100\n",
      "31/31 [==============================] - 1s 26ms/step - loss: 2.1352e-04 - val_loss: 3.3086e-04\n",
      "Epoch 84/100\n",
      "31/31 [==============================] - 0s 15ms/step - loss: 2.2684e-04 - val_loss: 2.4630e-04\n",
      "Epoch 85/100\n",
      "31/31 [==============================] - 0s 14ms/step - loss: 2.2724e-04 - val_loss: 2.8930e-04\n",
      "Epoch 86/100\n",
      "31/31 [==============================] - 0s 14ms/step - loss: 2.2581e-04 - val_loss: 3.1181e-04\n",
      "Epoch 87/100\n",
      "31/31 [==============================] - 0s 16ms/step - loss: 2.2076e-04 - val_loss: 4.0290e-04\n",
      "Epoch 88/100\n",
      "31/31 [==============================] - 1s 17ms/step - loss: 2.3665e-04 - val_loss: 2.8799e-04\n",
      "Epoch 89/100\n",
      "31/31 [==============================] - 0s 14ms/step - loss: 2.1625e-04 - val_loss: 4.1562e-04\n",
      "Epoch 90/100\n",
      "31/31 [==============================] - 0s 14ms/step - loss: 2.2456e-04 - val_loss: 4.1624e-04\n",
      "Epoch 91/100\n",
      "31/31 [==============================] - 0s 14ms/step - loss: 2.3492e-04 - val_loss: 2.8948e-04\n",
      "Epoch 92/100\n",
      "31/31 [==============================] - 0s 14ms/step - loss: 2.1469e-04 - val_loss: 3.2171e-04\n",
      "Epoch 93/100\n",
      "31/31 [==============================] - 0s 15ms/step - loss: 2.1807e-04 - val_loss: 1.2465e-04\n",
      "Epoch 94/100\n",
      "31/31 [==============================] - 0s 13ms/step - loss: 3.0939e-04 - val_loss: 2.2951e-04\n",
      "Epoch 95/100\n",
      "31/31 [==============================] - 0s 15ms/step - loss: 2.9304e-04 - val_loss: 2.8101e-04\n",
      "Epoch 96/100\n",
      "31/31 [==============================] - 0s 14ms/step - loss: 2.6174e-04 - val_loss: 1.9782e-04\n",
      "Epoch 97/100\n",
      "31/31 [==============================] - 0s 14ms/step - loss: 3.0534e-04 - val_loss: 1.6317e-04\n",
      "Epoch 98/100\n",
      "31/31 [==============================] - 0s 14ms/step - loss: 2.7201e-04 - val_loss: 1.4500e-04\n",
      "Epoch 99/100\n",
      "31/31 [==============================] - 0s 14ms/step - loss: 2.7734e-04 - val_loss: 1.5745e-04\n",
      "Epoch 100/100\n",
      "31/31 [==============================] - 0s 15ms/step - loss: 2.5781e-04 - val_loss: 1.7204e-04\n"
     ]
    },
    {
     "data": {
      "text/plain": [
       "<keras.callbacks.History at 0x2144d81ec50>"
      ]
     },
     "execution_count": 9,
     "metadata": {},
     "output_type": "execute_result"
    }
   ],
   "source": [
    "# 9. Fit mô hình với dữ liệu train\n",
    "model.fit(X_train, y_train, validation_data=(X_test, ytest), epochs=100, batch_size=64, verbose=1)"
   ]
  },
  {
   "cell_type": "code",
   "execution_count": 10,
   "id": "c55c37b5-5b6b-4482-8ef1-63d82cd60fae",
   "metadata": {
    "tags": []
   },
   "outputs": [
    {
     "name": "stdout",
     "output_type": "stream",
     "text": [
      "62/62 [==============================] - 1s 5ms/step\n",
      "8/8 [==============================] - 0s 5ms/step\n"
     ]
    }
   ],
   "source": [
    "# 10. Dự báo dữ liệu test\n",
    "train_predict = model.predict(X_train)\n",
    "y_pred = model.predict(X_test)"
   ]
  },
  {
   "cell_type": "code",
   "execution_count": 11,
   "id": "e1ef089c-abd2-4072-9177-25ff22485fa8",
   "metadata": {
    "tags": []
   },
   "outputs": [],
   "source": [
    "# 11. Chuẩn hóa dữ liệu y_pred\n",
    "train_predict = scaler.inverse_transform(train_predict)\n",
    "y_pred = scaler.inverse_transform(y_pred)"
   ]
  },
  {
   "cell_type": "code",
   "execution_count": 12,
   "id": "6c14ba0c-354e-4514-a7ed-98b43cbcc1f9",
   "metadata": {
    "tags": []
   },
   "outputs": [
    {
     "name": "stdout",
     "output_type": "stream",
     "text": [
      "Mean Absolute Error (MAE): 0.04758598334147584\n",
      "Mean Absolute Percentage Error (MAPE): 28.098004466302072\n",
      "Root Mean Square Error (RMSE): 0.05242577915297619\n"
     ]
    }
   ],
   "source": [
    "# 12. Tính RMSE, MAPE, MAE\n",
    "from sklearn.metrics import mean_absolute_error, mean_squared_error, mean_absolute_percentage_error\n",
    "\n",
    "mae = mean_absolute_error(ytest, y_pred)\n",
    "mape = mean_absolute_percentage_error(ytest, y_pred)\n",
    "rmse = np.sqrt(mean_squared_error(ytest, y_pred))\n",
    "\n",
    "print(\"Mean Absolute Error (MAE):\", mae)\n",
    "print(\"Mean Absolute Percentage Error (MAPE):\", mape * 100)\n",
    "print(\"Root Mean Square Error (RMSE):\", rmse)"
   ]
  },
  {
   "cell_type": "code",
   "execution_count": 13,
   "id": "a858ddd6-d663-47e2-b024-95e269c52c71",
   "metadata": {
    "tags": []
   },
   "outputs": [],
   "source": [
    "# 13. Hàm dự báo\n",
    "def forecast_days(n_days):\n",
    "    x_input = test_data[-100:].reshape(1, -1)\n",
    "    temp_input = list(x_input[0])\n",
    "\n",
    "    lst_output = []\n",
    "    i = 0\n",
    "    while i < n_days:\n",
    "        if len(temp_input) > 100:\n",
    "            x_input = np.array(temp_input[1:])\n",
    "            x_input = x_input.reshape(1, -1)\n",
    "            x_input = x_input.reshape((1, time_step, 1))\n",
    "            yhat = model.predict(x_input, verbose=0)\n",
    "            temp_input.extend(yhat[0].tolist())\n",
    "            temp_input = temp_input[1:]\n",
    "            lst_output.extend(yhat.tolist())\n",
    "            i += 1\n",
    "        else:\n",
    "            x_input = x_input.reshape((1, time_step, 1))\n",
    "            yhat = model.predict(x_input, verbose=0)\n",
    "            temp_input.extend(yhat[0].tolist())\n",
    "            lst_output.extend(yhat.tolist())\n",
    "            i += 1\n",
    "    return lst_output"
   ]
  },
  {
   "cell_type": "code",
   "execution_count": 14,
   "id": "a3f20539-86f3-4c0d-ac02-6d3159836533",
   "metadata": {
    "tags": []
   },
   "outputs": [],
   "source": [
    "# 14. Dự báo 30, 60, 90 ngày tiếp theo\n",
    "forecast_30 = forecast_days(30)\n",
    "forecast_60 = forecast_days(60)\n",
    "forecast_90 = forecast_days(90)"
   ]
  },
  {
   "cell_type": "code",
   "execution_count": 15,
   "id": "e3ed23dc-59fe-4c17-aed7-762004a4dc86",
   "metadata": {
    "tags": []
   },
   "outputs": [
    {
     "name": "stdout",
     "output_type": "stream",
     "text": [
      "Dự báo cho 30 ngày tiếp theo: [[0.23261459171772003], [0.23639607429504395], [0.23936165869235992], [0.24002456665039062], [0.24341048300266266], [0.244898721575737], [0.24237078428268433], [0.2435750961303711], [0.24376006424427032], [0.2547030448913574], [0.25115957856178284], [0.26064226031303406], [0.26608535647392273], [0.2657856047153473], [0.2636922597885132], [0.26938551664352417], [0.2690899074077606], [0.2615181803703308], [0.26004794239997864], [0.26944655179977417], [0.2717253267765045], [0.27131175994873047], [0.28046858310699463], [0.2797796130180359], [0.2819588780403137], [0.2838144302368164], [0.2895302176475525], [0.28935885429382324], [0.29133498668670654], [0.3006857633590698]]\n"
     ]
    }
   ],
   "source": [
    "# 15. In ra dự đoán cho 30 ngày tiếp theo\n",
    "print(\"Dự báo cho 30 ngày tiếp theo:\", forecast_30)"
   ]
  },
  {
   "cell_type": "code",
   "execution_count": 16,
   "id": "fbbbde1a-59a7-40bd-a4f7-cf5d05e1cda2",
   "metadata": {
    "tags": []
   },
   "outputs": [
    {
     "name": "stdout",
     "output_type": "stream",
     "text": [
      "Dự báo cho 60 ngày tiếp theo: [[0.23261459171772003], [0.23639607429504395], [0.23936165869235992], [0.24002456665039062], [0.24341048300266266], [0.244898721575737], [0.24237078428268433], [0.2435750961303711], [0.24376006424427032], [0.2547030448913574], [0.25115957856178284], [0.26064226031303406], [0.26608535647392273], [0.2657856047153473], [0.2636922597885132], [0.26938551664352417], [0.2690899074077606], [0.2615181803703308], [0.26004794239997864], [0.26944655179977417], [0.2717253267765045], [0.27131175994873047], [0.28046858310699463], [0.2797796130180359], [0.2819588780403137], [0.2838144302368164], [0.2895302176475525], [0.28935885429382324], [0.29133498668670654], [0.3006857633590698], [0.3023807406425476], [0.30510762333869934], [0.30060169100761414], [0.30466988682746887], [0.30644652247428894], [0.2983560264110565], [0.29790785908699036], [0.3024883568286896], [0.30515536665916443], [0.3079523742198944], [0.31446772813796997], [0.31998884677886963], [0.32017824053764343], [0.3235698938369751], [0.3259028494358063], [0.32288891077041626], [0.32332712411880493], [0.3289828300476074], [0.33194077014923096], [0.3315143287181854], [0.3320637345314026], [0.33376196026802063], [0.33279749751091003], [0.3308641314506531], [0.32869014143943787], [0.32869648933410645], [0.33190563321113586], [0.33121028542518616], [0.3368709981441498], [0.34035512804985046]]\n"
     ]
    }
   ],
   "source": [
    "# 15. In ra dự đoán cho 60 ngày tiếp theo\n",
    "print(\"Dự báo cho 60 ngày tiếp theo:\", forecast_60)"
   ]
  },
  {
   "cell_type": "code",
   "execution_count": 17,
   "id": "09bec281-2bd7-4939-9482-db139601dec3",
   "metadata": {
    "tags": []
   },
   "outputs": [
    {
     "name": "stdout",
     "output_type": "stream",
     "text": [
      "Dự báo cho 90 ngày tiếp theo: [[0.23261459171772003], [0.23639607429504395], [0.23936165869235992], [0.24002456665039062], [0.24341048300266266], [0.244898721575737], [0.24237078428268433], [0.2435750961303711], [0.24376006424427032], [0.2547030448913574], [0.25115957856178284], [0.26064226031303406], [0.26608535647392273], [0.2657856047153473], [0.2636922597885132], [0.26938551664352417], [0.2690899074077606], [0.2615181803703308], [0.26004794239997864], [0.26944655179977417], [0.2717253267765045], [0.27131175994873047], [0.28046858310699463], [0.2797796130180359], [0.2819588780403137], [0.2838144302368164], [0.2895302176475525], [0.28935885429382324], [0.29133498668670654], [0.3006857633590698], [0.3023807406425476], [0.30510762333869934], [0.30060169100761414], [0.30466988682746887], [0.30644652247428894], [0.2983560264110565], [0.29790785908699036], [0.3024883568286896], [0.30515536665916443], [0.3079523742198944], [0.31446772813796997], [0.31998884677886963], [0.32017824053764343], [0.3235698938369751], [0.3259028494358063], [0.32288891077041626], [0.32332712411880493], [0.3289828300476074], [0.33194077014923096], [0.3315143287181854], [0.3320637345314026], [0.33376196026802063], [0.33279749751091003], [0.3308641314506531], [0.32869014143943787], [0.32869648933410645], [0.33190563321113586], [0.33121028542518616], [0.3368709981441498], [0.34035512804985046], [0.3400799334049225], [0.3420966565608978], [0.34451934695243835], [0.3413333594799042], [0.3380855321884155], [0.33998429775238037], [0.3410970866680145], [0.34104058146476746], [0.3421417772769928], [0.34429746866226196], [0.3425002694129944], [0.34120500087738037], [0.3406073749065399], [0.33750617504119873], [0.33555376529693604], [0.33643680810928345], [0.3381956219673157], [0.33914393186569214], [0.33986613154411316], [0.3413547873497009], [0.3423194885253906], [0.34056827425956726], [0.3375728130340576], [0.33783483505249023], [0.33699339628219604], [0.33475035429000854], [0.3361503481864929], [0.33741500973701477], [0.3357447385787964], [0.3352047801017761]]\n"
     ]
    }
   ],
   "source": [
    "# 15. In ra dự đoán cho 90 ngày tiếp theo\n",
    "print(\"Dự báo cho 90 ngày tiếp theo:\", forecast_90)"
   ]
  },
  {
   "cell_type": "code",
   "execution_count": 18,
   "id": "1a2ee735-ad92-4ff0-a51f-7fa1da4773fc",
   "metadata": {
    "tags": []
   },
   "outputs": [
    {
     "data": {
      "image/png": "[encoded data removed]",
      "text/plain": [
       "<Figure size 640x480 with 1 Axes>"
      ]
     },
     "metadata": {},
     "output_type": "display_data"
    }
   ],
   "source": [
    "# 16. Vẽ hình\n",
    "\n",
    "# Vẽ dữ liệu kiểm tra\n",
    "test_data_index = pd.RangeIndex(start=train_size, stop=train_size + test_size)\n",
    "plt.plot(test_data_index, scaler.inverse_transform(test_data), label='Test Data')\n",
    "\n",
    "# Vẽ dữ liệu dự đoán\n",
    "plt.plot(np.arange(train_size, train_size + len(y_pred)), y_pred, label='Predicted')\n",
    "\n",
    "# Vẽ dự báo 90, 60, 30 ngày\n",
    "plt.plot(np.arange(train_size + len(test_data), train_size + len(test_data) + len(forecast_90)), scaler.inverse_transform(forecast_90), label='Forecast 90 days')\n",
    "plt.plot(np.arange(train_size + len(test_data), train_size + len(test_data) + len(forecast_60)), scaler.inverse_transform(forecast_60), label='Forecast 60 days')\n",
    "plt.plot(np.arange(train_size + len(test_data), train_size + len(test_data) + len(forecast_30)), scaler.inverse_transform(forecast_30), label='Forecast 30 days')\n",
    "\n",
    "plt.title('RNN - DOGE Stock Price - Forecast 30, 60, 90 days')\n",
    "plt.xlabel('Day')\n",
    "plt.ylabel('Price')\n",
    "plt.legend()\n",
    "plt.show()"
   ]
  }
 ],
 "metadata": {
  "kernelspec": {
   "display_name": "Python 3 (ipykernel)",
   "language": "python",
   "name": "python3"
  },
  "language_info": {
   "codemirror_mode": {
    "name": "ipython",
    "version": 3
   },
   "file_extension": ".py",
   "mimetype": "text/x-python",
   "name": "python",
   "nbconvert_exporter": "python",
   "pygments_lexer": "ipython3",
   "version": "3.10.8"
  }
 },
 "nbformat": 4,
 "nbformat_minor": 5
}
