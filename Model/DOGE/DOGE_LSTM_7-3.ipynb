{
 "cells": [
  {
   "cell_type": "code",
   "execution_count": 1,
   "id": "d6e03734-7a73-489d-9cdc-84acf78c00e5",
   "metadata": {
    "tags": []
   },
   "outputs": [],
   "source": [
    "# 1. Import thư viện cần thiết\n",
    "import numpy as np\n",
    "import pandas as pd\n",
    "import matplotlib.pyplot as plt\n",
    "from sklearn.preprocessing import MinMaxScaler\n",
    "from keras.models import Sequential\n",
    "from keras.layers import Dense, LSTM"
   ]
  },
  {
   "cell_type": "code",
   "execution_count": 2,
   "id": "07adbc1b-a1d2-41ba-b0a6-73848cc36a2e",
   "metadata": {
    "tags": []
   },
   "outputs": [
    {
     "name": "stdout",
     "output_type": "stream",
     "text": [
      "<class 'pandas.core.frame.DataFrame'>\n",
      "RangeIndex: 2285 entries, 0 to 2284\n",
      "Data columns (total 7 columns):\n",
      " #   Column     Non-Null Count  Dtype  \n",
      "---  ------     --------------  -----  \n",
      " 0   Date       2285 non-null   object \n",
      " 1   Open       2285 non-null   float64\n",
      " 2   High       2285 non-null   float64\n",
      " 3   Low        2285 non-null   float64\n",
      " 4   Price      2285 non-null   float64\n",
      " 5   Adj Close  2285 non-null   float64\n",
      " 6   Volume     2285 non-null   int64  \n",
      "dtypes: float64(5), int64(1), object(1)\n",
      "memory usage: 125.1+ KB\n"
     ]
    }
   ],
   "source": [
    "# 2. Đọc file csv và gắn index với giá Price\n",
    "df = pd.read_csv('pre_DOGE-USD.csv')\n",
    "df = df.rename(columns={'Close': 'Price'})\n",
    "df1 = df.reset_index()['Price']\n",
    "df.info()"
   ]
  },
  {
   "cell_type": "code",
   "execution_count": 3,
   "id": "823c305d-3c3c-46d7-ab97-99ea957bb915",
   "metadata": {
    "tags": []
   },
   "outputs": [],
   "source": [
    "# 3. Scaler data\n",
    "scaler = MinMaxScaler(feature_range=(0, 1))\n",
    "df1 = scaler.fit_transform(np.array(df1).reshape(-1, 1))"
   ]
  },
  {
   "cell_type": "code",
   "execution_count": 4,
   "id": "3c933b12-160d-4589-bda4-f6e0541be771",
   "metadata": {
    "tags": []
   },
   "outputs": [
    {
     "name": "stdout",
     "output_type": "stream",
     "text": [
      "Train shape: (1599, 1)\n",
      "Test shape: (686, 1)\n"
     ]
    }
   ],
   "source": [
    "# 4. Chia train test 7 - 3\n",
    "train_size = int(0.7 * len(df1))\n",
    "test_size = len(df1) - train_size\n",
    "\n",
    "# Lấy dữ liệu train và test\n",
    "train_data = df1[:train_size]\n",
    "test_data = df1[train_size:]\n",
    "\n",
    "print(\"Train shape:\", train_data.shape)\n",
    "print(\"Test shape:\", test_data.shape)"
   ]
  },
  {
   "cell_type": "code",
   "execution_count": 5,
   "id": "86d16400-4b94-40f8-b6ec-13ca9fae2127",
   "metadata": {
    "tags": []
   },
   "outputs": [],
   "source": [
    "# 5. Hàm Create Dataset\n",
    "import numpy\n",
    "# convert an array of values into a dataset matrix\n",
    "def create_dataset(dataset, time_step=1):\n",
    "\tdataX, dataY = [], []\n",
    "\tfor i in range(len(dataset)-time_step-1):\n",
    "\t\ta = dataset[i:(i+time_step), 0]   ###i=0, X=0,1,2,3-----99   Y=100 \n",
    "\t\tdataX.append(a)\n",
    "\t\tdataY.append(dataset[i + time_step, 0])\n",
    "\treturn numpy.array(dataX), numpy.array(dataY)"
   ]
  },
  {
   "cell_type": "code",
   "execution_count": 6,
   "id": "139117ad-87be-44e9-b6ec-91bf365f7d9b",
   "metadata": {
    "tags": []
   },
   "outputs": [],
   "source": [
    "# 6. Reshape into X=t,t+1,t+2..t+99 and Y=t+100\n",
    "time_step = 100\n",
    "X_train, y_train = create_dataset(train_data, time_step)\n",
    "combined_data = np.concatenate((train_data[-time_step:], test_data))\n",
    "X_test, ytest = create_dataset(combined_data, time_step)"
   ]
  },
  {
   "cell_type": "code",
   "execution_count": 7,
   "id": "f60d12b6-f562-48b8-99a5-d59b670f42c2",
   "metadata": {
    "tags": []
   },
   "outputs": [],
   "source": [
    "# 7. Reshape input to be [samples, time steps, features] which is required for LSTM\n",
    "X_train = X_train.reshape(X_train.shape[0], X_train.shape[1], 1)\n",
    "X_test = X_test.reshape(X_test.shape[0], X_test.shape[1], 1)"
   ]
  },
  {
   "cell_type": "code",
   "execution_count": 8,
   "id": "db87fc59-fb90-4e96-8eb0-7c65084b8ff6",
   "metadata": {
    "tags": []
   },
   "outputs": [],
   "source": [
    "# 8. Define LSTM Model\n",
    "model = Sequential()\n",
    "model.add(LSTM(50, return_sequences=True, input_shape=(100, 1)))\n",
    "model.add(LSTM(50, return_sequences=True))\n",
    "model.add(LSTM(50))\n",
    "model.add(Dense(1))\n",
    "model.compile(loss='mean_squared_error', optimizer='adam')"
   ]
  },
  {
   "cell_type": "code",
   "execution_count": 9,
   "id": "7d438015-03ba-433f-9c89-4bf4f6680ffe",
   "metadata": {
    "tags": []
   },
   "outputs": [
    {
     "name": "stdout",
     "output_type": "stream",
     "text": [
      "Epoch 1/100\n",
      "24/24 [==============================] - 15s 293ms/step - loss: 0.0076 - val_loss: 4.3728e-04\n",
      "Epoch 2/100\n",
      "24/24 [==============================] - 5s 192ms/step - loss: 0.0024 - val_loss: 4.6367e-04\n",
      "Epoch 3/100\n",
      "24/24 [==============================] - 4s 168ms/step - loss: 0.0019 - val_loss: 5.3906e-04\n",
      "Epoch 4/100\n",
      "24/24 [==============================] - 4s 167ms/step - loss: 0.0018 - val_loss: 5.0783e-04\n",
      "Epoch 5/100\n",
      "24/24 [==============================] - 4s 169ms/step - loss: 0.0017 - val_loss: 3.4159e-04\n",
      "Epoch 6/100\n",
      "24/24 [==============================] - 4s 165ms/step - loss: 0.0015 - val_loss: 3.4817e-04\n",
      "Epoch 7/100\n",
      "24/24 [==============================] - 4s 183ms/step - loss: 0.0015 - val_loss: 4.1538e-04\n",
      "Epoch 8/100\n",
      "24/24 [==============================] - 4s 181ms/step - loss: 0.0014 - val_loss: 6.8525e-04\n",
      "Epoch 9/100\n",
      "24/24 [==============================] - 5s 193ms/step - loss: 0.0014 - val_loss: 5.7145e-04\n",
      "Epoch 10/100\n",
      "24/24 [==============================] - 5s 219ms/step - loss: 0.0013 - val_loss: 7.0325e-04\n",
      "Epoch 11/100\n",
      "24/24 [==============================] - 4s 180ms/step - loss: 0.0013 - val_loss: 7.4778e-04\n",
      "Epoch 12/100\n",
      "24/24 [==============================] - 5s 207ms/step - loss: 0.0014 - val_loss: 7.4257e-04\n",
      "Epoch 13/100\n",
      "24/24 [==============================] - 4s 182ms/step - loss: 0.0013 - val_loss: 2.9962e-04\n",
      "Epoch 14/100\n",
      "24/24 [==============================] - 4s 176ms/step - loss: 0.0011 - val_loss: 4.4421e-04\n",
      "Epoch 15/100\n",
      "24/24 [==============================] - 5s 192ms/step - loss: 0.0011 - val_loss: 7.1730e-04\n",
      "Epoch 16/100\n",
      "24/24 [==============================] - 4s 183ms/step - loss: 0.0011 - val_loss: 2.6844e-04\n",
      "Epoch 17/100\n",
      "24/24 [==============================] - 5s 195ms/step - loss: 0.0010 - val_loss: 2.5231e-04\n",
      "Epoch 18/100\n",
      "24/24 [==============================] - 4s 186ms/step - loss: 0.0011 - val_loss: 2.5008e-04\n",
      "Epoch 19/100\n",
      "24/24 [==============================] - 5s 212ms/step - loss: 9.5977e-04 - val_loss: 3.5888e-04\n",
      "Epoch 20/100\n",
      "24/24 [==============================] - 5s 186ms/step - loss: 9.0996e-04 - val_loss: 4.1918e-04\n",
      "Epoch 21/100\n",
      "24/24 [==============================] - 5s 201ms/step - loss: 8.5581e-04 - val_loss: 3.9350e-04\n",
      "Epoch 22/100\n",
      "24/24 [==============================] - 4s 180ms/step - loss: 8.0785e-04 - val_loss: 2.4404e-04\n",
      "Epoch 23/100\n",
      "24/24 [==============================] - 4s 185ms/step - loss: 7.6724e-04 - val_loss: 4.4528e-04\n",
      "Epoch 24/100\n",
      "24/24 [==============================] - 4s 185ms/step - loss: 7.8410e-04 - val_loss: 5.3658e-04\n",
      "Epoch 25/100\n",
      "24/24 [==============================] - 4s 180ms/step - loss: 7.0325e-04 - val_loss: 2.8821e-04\n",
      "Epoch 26/100\n",
      "24/24 [==============================] - 4s 181ms/step - loss: 7.3167e-04 - val_loss: 3.0230e-04\n",
      "Epoch 27/100\n",
      "24/24 [==============================] - 4s 174ms/step - loss: 5.6429e-04 - val_loss: 2.3773e-04\n",
      "Epoch 28/100\n",
      "24/24 [==============================] - 4s 181ms/step - loss: 5.5914e-04 - val_loss: 2.8572e-04\n",
      "Epoch 29/100\n",
      "24/24 [==============================] - 4s 178ms/step - loss: 5.7431e-04 - val_loss: 3.5994e-04\n",
      "Epoch 30/100\n",
      "24/24 [==============================] - 5s 202ms/step - loss: 5.4972e-04 - val_loss: 1.3449e-04\n",
      "Epoch 31/100\n",
      "24/24 [==============================] - 5s 212ms/step - loss: 5.1014e-04 - val_loss: 1.3494e-04\n",
      "Epoch 32/100\n",
      "24/24 [==============================] - 4s 180ms/step - loss: 5.0945e-04 - val_loss: 1.5273e-04\n",
      "Epoch 33/100\n",
      "24/24 [==============================] - 4s 187ms/step - loss: 4.7390e-04 - val_loss: 1.1834e-04\n",
      "Epoch 34/100\n",
      "24/24 [==============================] - 5s 191ms/step - loss: 5.0594e-04 - val_loss: 1.1990e-04\n",
      "Epoch 35/100\n",
      "24/24 [==============================] - 5s 214ms/step - loss: 5.1492e-04 - val_loss: 1.2227e-04\n",
      "Epoch 36/100\n",
      "24/24 [==============================] - 4s 177ms/step - loss: 5.1651e-04 - val_loss: 1.1358e-04\n",
      "Epoch 37/100\n",
      "24/24 [==============================] - 5s 197ms/step - loss: 4.4187e-04 - val_loss: 1.1408e-04\n",
      "Epoch 38/100\n",
      "24/24 [==============================] - 5s 216ms/step - loss: 4.4351e-04 - val_loss: 1.0326e-04\n",
      "Epoch 39/100\n",
      "24/24 [==============================] - 4s 183ms/step - loss: 4.4708e-04 - val_loss: 1.7052e-04\n",
      "Epoch 40/100\n",
      "24/24 [==============================] - 4s 170ms/step - loss: 4.6680e-04 - val_loss: 1.4675e-04\n",
      "Epoch 41/100\n",
      "24/24 [==============================] - 4s 169ms/step - loss: 4.4438e-04 - val_loss: 1.0077e-04\n",
      "Epoch 42/100\n",
      "24/24 [==============================] - 4s 164ms/step - loss: 4.6887e-04 - val_loss: 1.1107e-04\n",
      "Epoch 43/100\n",
      "24/24 [==============================] - 4s 169ms/step - loss: 4.3376e-04 - val_loss: 1.1718e-04\n",
      "Epoch 44/100\n",
      "24/24 [==============================] - 4s 172ms/step - loss: 4.0230e-04 - val_loss: 1.1068e-04\n",
      "Epoch 45/100\n",
      "24/24 [==============================] - 4s 166ms/step - loss: 3.9216e-04 - val_loss: 1.0184e-04\n",
      "Epoch 46/100\n",
      "24/24 [==============================] - 4s 167ms/step - loss: 4.0405e-04 - val_loss: 2.6942e-04\n",
      "Epoch 47/100\n",
      "24/24 [==============================] - 4s 174ms/step - loss: 4.8538e-04 - val_loss: 2.1064e-04\n",
      "Epoch 48/100\n",
      "24/24 [==============================] - 4s 187ms/step - loss: 4.4755e-04 - val_loss: 1.7107e-04\n",
      "Epoch 49/100\n",
      "24/24 [==============================] - 4s 177ms/step - loss: 4.2441e-04 - val_loss: 9.0863e-05\n",
      "Epoch 50/100\n",
      "24/24 [==============================] - 4s 173ms/step - loss: 4.7453e-04 - val_loss: 1.0604e-04\n",
      "Epoch 51/100\n",
      "24/24 [==============================] - 4s 173ms/step - loss: 3.9524e-04 - val_loss: 1.0115e-04\n",
      "Epoch 52/100\n",
      "24/24 [==============================] - 4s 184ms/step - loss: 4.1032e-04 - val_loss: 1.7263e-04\n",
      "Epoch 53/100\n",
      "24/24 [==============================] - 5s 211ms/step - loss: 4.3610e-04 - val_loss: 9.8798e-05\n",
      "Epoch 54/100\n",
      "24/24 [==============================] - 5s 205ms/step - loss: 4.3433e-04 - val_loss: 8.5987e-05\n",
      "Epoch 55/100\n",
      "24/24 [==============================] - 5s 204ms/step - loss: 4.2201e-04 - val_loss: 1.0051e-04\n",
      "Epoch 56/100\n",
      "24/24 [==============================] - 5s 204ms/step - loss: 4.0034e-04 - val_loss: 1.0828e-04\n",
      "Epoch 57/100\n",
      "24/24 [==============================] - 4s 172ms/step - loss: 3.8859e-04 - val_loss: 8.7849e-05\n",
      "Epoch 58/100\n",
      "24/24 [==============================] - 4s 167ms/step - loss: 3.9035e-04 - val_loss: 1.1840e-04\n",
      "Epoch 59/100\n",
      "24/24 [==============================] - 4s 169ms/step - loss: 4.6244e-04 - val_loss: 1.6255e-04\n",
      "Epoch 60/100\n",
      "24/24 [==============================] - 4s 165ms/step - loss: 5.6320e-04 - val_loss: 1.3215e-04\n",
      "Epoch 61/100\n",
      "24/24 [==============================] - 4s 166ms/step - loss: 4.1075e-04 - val_loss: 9.3831e-05\n",
      "Epoch 62/100\n",
      "24/24 [==============================] - 4s 166ms/step - loss: 3.7712e-04 - val_loss: 9.0628e-05\n",
      "Epoch 63/100\n",
      "24/24 [==============================] - 4s 166ms/step - loss: 3.9602e-04 - val_loss: 9.2621e-05\n",
      "Epoch 64/100\n",
      "24/24 [==============================] - 4s 167ms/step - loss: 4.0145e-04 - val_loss: 8.6204e-05\n",
      "Epoch 65/100\n",
      "24/24 [==============================] - 4s 166ms/step - loss: 3.6629e-04 - val_loss: 1.5181e-04\n",
      "Epoch 66/100\n",
      "24/24 [==============================] - 4s 182ms/step - loss: 3.9487e-04 - val_loss: 1.0170e-04\n",
      "Epoch 67/100\n",
      "24/24 [==============================] - 4s 176ms/step - loss: 3.7871e-04 - val_loss: 1.2651e-04\n",
      "Epoch 68/100\n",
      "24/24 [==============================] - 4s 171ms/step - loss: 3.7991e-04 - val_loss: 1.2259e-04\n",
      "Epoch 69/100\n",
      "24/24 [==============================] - 4s 163ms/step - loss: 3.6350e-04 - val_loss: 9.6542e-05\n",
      "Epoch 70/100\n",
      "24/24 [==============================] - 4s 180ms/step - loss: 3.8412e-04 - val_loss: 8.5710e-05\n",
      "Epoch 71/100\n",
      "24/24 [==============================] - 5s 228ms/step - loss: 3.7127e-04 - val_loss: 8.5900e-05\n",
      "Epoch 72/100\n",
      "24/24 [==============================] - 5s 197ms/step - loss: 3.7936e-04 - val_loss: 8.6837e-05\n",
      "Epoch 73/100\n",
      "24/24 [==============================] - 5s 202ms/step - loss: 4.0186e-04 - val_loss: 2.1784e-04\n",
      "Epoch 74/100\n",
      "24/24 [==============================] - 5s 202ms/step - loss: 3.5969e-04 - val_loss: 8.4210e-05\n",
      "Epoch 75/100\n",
      "24/24 [==============================] - 5s 210ms/step - loss: 3.6091e-04 - val_loss: 8.3342e-05\n",
      "Epoch 76/100\n",
      "24/24 [==============================] - 5s 192ms/step - loss: 3.8974e-04 - val_loss: 1.0035e-04\n",
      "Epoch 77/100\n",
      "24/24 [==============================] - 4s 183ms/step - loss: 4.4236e-04 - val_loss: 1.9114e-04\n",
      "Epoch 78/100\n",
      "24/24 [==============================] - 5s 194ms/step - loss: 3.9856e-04 - val_loss: 8.4022e-05\n",
      "Epoch 79/100\n",
      "24/24 [==============================] - 5s 194ms/step - loss: 3.5076e-04 - val_loss: 8.8448e-05\n",
      "Epoch 80/100\n",
      "24/24 [==============================] - 4s 182ms/step - loss: 3.9640e-04 - val_loss: 8.1711e-05\n",
      "Epoch 81/100\n",
      "24/24 [==============================] - 5s 190ms/step - loss: 3.6750e-04 - val_loss: 8.2139e-05\n",
      "Epoch 82/100\n",
      "24/24 [==============================] - 5s 208ms/step - loss: 3.5060e-04 - val_loss: 1.5509e-04\n",
      "Epoch 83/100\n",
      "24/24 [==============================] - 4s 183ms/step - loss: 3.7880e-04 - val_loss: 8.4256e-05\n",
      "Epoch 84/100\n",
      "24/24 [==============================] - 4s 174ms/step - loss: 3.4010e-04 - val_loss: 7.9980e-05\n",
      "Epoch 85/100\n",
      "24/24 [==============================] - 4s 172ms/step - loss: 3.3879e-04 - val_loss: 8.5721e-05\n",
      "Epoch 86/100\n",
      "24/24 [==============================] - 4s 168ms/step - loss: 3.8187e-04 - val_loss: 2.1070e-04\n",
      "Epoch 87/100\n",
      "24/24 [==============================] - 4s 161ms/step - loss: 4.1906e-04 - val_loss: 1.1801e-04\n",
      "Epoch 88/100\n",
      "24/24 [==============================] - 4s 182ms/step - loss: 3.4282e-04 - val_loss: 9.1851e-05\n",
      "Epoch 89/100\n",
      "24/24 [==============================] - 5s 189ms/step - loss: 3.5800e-04 - val_loss: 7.8733e-05\n",
      "Epoch 90/100\n",
      "24/24 [==============================] - 4s 163ms/step - loss: 3.8671e-04 - val_loss: 1.0187e-04\n",
      "Epoch 91/100\n",
      "24/24 [==============================] - 4s 166ms/step - loss: 4.2101e-04 - val_loss: 1.1528e-04\n",
      "Epoch 92/100\n",
      "24/24 [==============================] - 5s 191ms/step - loss: 3.7232e-04 - val_loss: 1.3012e-04\n",
      "Epoch 93/100\n",
      "24/24 [==============================] - 4s 169ms/step - loss: 3.8816e-04 - val_loss: 7.9511e-05\n",
      "Epoch 94/100\n",
      "24/24 [==============================] - 4s 168ms/step - loss: 3.6675e-04 - val_loss: 8.4202e-05\n",
      "Epoch 95/100\n",
      "24/24 [==============================] - 4s 173ms/step - loss: 3.5641e-04 - val_loss: 8.5847e-05\n",
      "Epoch 96/100\n",
      "24/24 [==============================] - 4s 166ms/step - loss: 3.8459e-04 - val_loss: 1.4588e-04\n",
      "Epoch 97/100\n",
      "24/24 [==============================] - 4s 160ms/step - loss: 3.4269e-04 - val_loss: 7.7526e-05\n",
      "Epoch 98/100\n",
      "24/24 [==============================] - 4s 158ms/step - loss: 3.4914e-04 - val_loss: 7.8372e-05\n",
      "Epoch 99/100\n",
      "24/24 [==============================] - 4s 159ms/step - loss: 3.8599e-04 - val_loss: 9.4567e-05\n",
      "Epoch 100/100\n",
      "24/24 [==============================] - 4s 161ms/step - loss: 3.2667e-04 - val_loss: 1.7428e-04\n"
     ]
    },
    {
     "data": {
      "text/plain": [
       "<keras.callbacks.History at 0x11103b46c20>"
      ]
     },
     "execution_count": 9,
     "metadata": {},
     "output_type": "execute_result"
    }
   ],
   "source": [
    "# 9. Fit mô hình với dữ liệu train\n",
    "model.fit(X_train, y_train, validation_data=(X_test, ytest), epochs=100, batch_size=64, verbose=1)"
   ]
  },
  {
   "cell_type": "code",
   "execution_count": 10,
   "id": "11429718-53af-460b-bc27-6339c6f5f98e",
   "metadata": {},
   "outputs": [
    {
     "name": "stdout",
     "output_type": "stream",
     "text": [
      "47/47 [==============================] - 3s 33ms/step\n",
      "22/22 [==============================] - 1s 36ms/step\n"
     ]
    }
   ],
   "source": [
    "# 10. Dự báo dữ liệu test\n",
    "train_predict = model.predict(X_train)\n",
    "y_pred = model.predict(X_test)"
   ]
  },
  {
   "cell_type": "code",
   "execution_count": 11,
   "id": "325b6e6a-fb3e-4f67-a484-014e7ddb4183",
   "metadata": {},
   "outputs": [],
   "source": [
    "# 11. Chuẩn hóa dữ liệu y_pred\n",
    "train_predict = scaler.inverse_transform(train_predict)\n",
    "y_pred = scaler.inverse_transform(y_pred)"
   ]
  },
  {
   "cell_type": "code",
   "execution_count": 12,
   "id": "b964944b-407f-425e-9fbd-d7cd9e12b40a",
   "metadata": {
    "tags": []
   },
   "outputs": [
    {
     "name": "stdout",
     "output_type": "stream",
     "text": [
      "Mean Absolute Error (MAE): 0.032059447461797744\n",
      "Mean Absolute Percentage Error (MAPE): 25.05747098686101\n",
      "Root Mean Square Error (RMSE): 0.03555351991623491\n"
     ]
    }
   ],
   "source": [
    "# 12. Tính RMSE, MAPE, MAE\n",
    "from sklearn.metrics import mean_absolute_error, mean_squared_error, mean_absolute_percentage_error\n",
    "\n",
    "mae = mean_absolute_error(ytest, y_pred)\n",
    "mape = mean_absolute_percentage_error(ytest, y_pred)\n",
    "rmse = np.sqrt(mean_squared_error(ytest, y_pred))\n",
    "\n",
    "print(\"Mean Absolute Error (MAE):\", mae)\n",
    "print(\"Mean Absolute Percentage Error (MAPE):\", mape * 100)\n",
    "print(\"Root Mean Square Error (RMSE):\", rmse)"
   ]
  },
  {
   "cell_type": "code",
   "execution_count": 13,
   "id": "2e271a5d-d3ba-478b-ab4d-d877f6725302",
   "metadata": {
    "tags": []
   },
   "outputs": [],
   "source": [
    "# 13. Hàm dự báo\n",
    "def forecast_days(n_days):\n",
    "    x_input = test_data[-100:].reshape(1, -1)\n",
    "    temp_input = list(x_input[0])\n",
    "\n",
    "    lst_output = []\n",
    "    i = 0\n",
    "    while i < n_days:\n",
    "        if len(temp_input) > 100:\n",
    "            x_input = np.array(temp_input[1:])\n",
    "            x_input = x_input.reshape(1, -1)\n",
    "            x_input = x_input.reshape((1, time_step, 1))\n",
    "            yhat = model.predict(x_input, verbose=0)\n",
    "            temp_input.extend(yhat[0].tolist())\n",
    "            temp_input = temp_input[1:]\n",
    "            lst_output.extend(yhat.tolist())\n",
    "            i += 1\n",
    "        else:\n",
    "            x_input = x_input.reshape((1, time_step, 1))\n",
    "            yhat = model.predict(x_input, verbose=0)\n",
    "            temp_input.extend(yhat[0].tolist())\n",
    "            lst_output.extend(yhat.tolist())\n",
    "            i += 1\n",
    "    return lst_output"
   ]
  },
  {
   "cell_type": "code",
   "execution_count": 14,
   "id": "12343b63-3464-4e24-bf18-1f00bb17e507",
   "metadata": {
    "tags": []
   },
   "outputs": [],
   "source": [
    "# 14. Dự báo 30, 60, 90 ngày tiếp theo\n",
    "forecast_30 = forecast_days(30)\n",
    "forecast_60 = forecast_days(60)\n",
    "forecast_90 = forecast_days(90)"
   ]
  },
  {
   "cell_type": "code",
   "execution_count": 15,
   "id": "b4063bc9-d94d-471f-8117-331d74e51408",
   "metadata": {
    "tags": []
   },
   "outputs": [
    {
     "name": "stdout",
     "output_type": "stream",
     "text": [
      "Dự báo cho 30 ngày tiếp theo: [[0.2463199943304062], [0.2529298663139343], [0.26342812180519104], [0.2757188081741333], [0.28912147879600525], [0.30338233709335327], [0.31830307841300964], [0.33367517590522766], [0.34929588437080383], [0.36498546600341797], [0.38060685992240906], [0.396081805229187], [0.41139504313468933], [0.42660775780677795], [0.44185030460357666], [0.4573151469230652], [0.4732413589954376], [0.48989468812942505], [0.5075514912605286], [0.5264672040939331], [0.546850323677063], [0.5688173174858093], [0.5923300385475159], [0.6171323657035828], [0.6427004337310791], [0.6681938171386719], [0.6925023198127747], [0.7143942713737488], [0.7327132225036621], [0.7466697096824646]]\n"
     ]
    }
   ],
   "source": [
    "# 15. In ra dự đoán cho 30 ngày tiếp theo\n",
    "print(\"Dự báo cho 30 ngày tiếp theo:\", forecast_30)"
   ]
  },
  {
   "cell_type": "code",
   "execution_count": 16,
   "id": "67077348-1c5e-4d27-b85b-d6198039e6db",
   "metadata": {
    "tags": []
   },
   "outputs": [
    {
     "name": "stdout",
     "output_type": "stream",
     "text": [
      "Dự báo cho 60 ngày tiếp theo: [[0.2463199943304062], [0.2529298663139343], [0.26342812180519104], [0.2757188081741333], [0.28912147879600525], [0.30338233709335327], [0.31830307841300964], [0.33367517590522766], [0.34929588437080383], [0.36498546600341797], [0.38060685992240906], [0.396081805229187], [0.41139504313468933], [0.42660775780677795], [0.44185030460357666], [0.4573151469230652], [0.4732413589954376], [0.48989468812942505], [0.5075514912605286], [0.5264672040939331], [0.546850323677063], [0.5688173174858093], [0.5923300385475159], [0.6171323657035828], [0.6427004337310791], [0.6681938171386719], [0.6925023198127747], [0.7143942713737488], [0.7327132225036621], [0.7466697096824646], [0.7560669183731079], [0.7613450884819031], [0.7633873820304871], [0.763163685798645], [0.7613417506217957], [0.7581073045730591], [0.7532245516777039], [0.7463394999504089], [0.7372959852218628], [0.7263170480728149], [0.7140353322029114], [0.7013251185417175], [0.6890511512756348], [0.6778516173362732], [0.6680400371551514], [0.6596372723579407], [0.6524871587753296], [0.6463853120803833], [0.6411715745925903], [0.6367746591567993], [0.633201539516449], [0.6304963827133179], [0.6286867260932922], [0.6277485489845276], [0.6275838613510132], [0.6280295848846436], [0.6288824677467346], [0.6299381852149963], [0.6310241222381592], [0.6320235729217529]]\n"
     ]
    }
   ],
   "source": [
    "# 15. In ra dự đoán cho 60 ngày tiếp theo\n",
    "print(\"Dự báo cho 60 ngày tiếp theo:\", forecast_60)"
   ]
  },
  {
   "cell_type": "code",
   "execution_count": 17,
   "id": "64491d29-b028-4911-924a-472619538172",
   "metadata": {
    "tags": []
   },
   "outputs": [
    {
     "name": "stdout",
     "output_type": "stream",
     "text": [
      "Dự báo cho 90 ngày tiếp theo: [[0.2463199943304062], [0.2529298663139343], [0.26342812180519104], [0.2757188081741333], [0.28912147879600525], [0.30338233709335327], [0.31830307841300964], [0.33367517590522766], [0.34929588437080383], [0.36498546600341797], [0.38060685992240906], [0.396081805229187], [0.41139504313468933], [0.42660775780677795], [0.44185030460357666], [0.4573151469230652], [0.4732413589954376], [0.48989468812942505], [0.5075514912605286], [0.5264672040939331], [0.546850323677063], [0.5688173174858093], [0.5923300385475159], [0.6171323657035828], [0.6427004337310791], [0.6681938171386719], [0.6925023198127747], [0.7143942713737488], [0.7327132225036621], [0.7466697096824646], [0.7560669183731079], [0.7613450884819031], [0.7633873820304871], [0.763163685798645], [0.7613417506217957], [0.7581073045730591], [0.7532245516777039], [0.7463394999504089], [0.7372959852218628], [0.7263170480728149], [0.7140353322029114], [0.7013251185417175], [0.6890511512756348], [0.6778516173362732], [0.6680400371551514], [0.6596372723579407], [0.6524871587753296], [0.6463853120803833], [0.6411715745925903], [0.6367746591567993], [0.633201539516449], [0.6304963827133179], [0.6286867260932922], [0.6277485489845276], [0.6275838613510132], [0.6280295848846436], [0.6288824677467346], [0.6299381852149963], [0.6310241222381592], [0.6320235729217529], [0.6328777074813843], [0.633576512336731], [0.6341365575790405], [0.6345760226249695], [0.6349000930786133], [0.6350948214530945], [0.6351346373558044], [0.6349958777427673], [0.6346690058708191], [0.6341672539710999], [0.6335254907608032], [0.6327928304672241], [0.6320217847824097], [0.6312587261199951], [0.6305352449417114], [0.6298689246177673], [0.6292644739151001], [0.6287211179733276], [0.6282383799552917], [0.6278186440467834], [0.6274692416191101], [0.6271999478340149], [0.6270201802253723], [0.6269352436065674], [0.6269445419311523], [0.6270402669906616], [0.6272090077400208], [0.6274345517158508], [0.6276993155479431], [0.6279879808425903]]\n"
     ]
    }
   ],
   "source": [
    "# 15. In ra dự đoán cho 90 ngày tiếp theo\n",
    "print(\"Dự báo cho 90 ngày tiếp theo:\", forecast_90)"
   ]
  },
  {
   "cell_type": "code",
   "execution_count": 18,
   "id": "3dd6ded5-fc67-4904-a0fd-59c167779a17",
   "metadata": {
    "tags": []
   },
   "outputs": [
    {
     "data": {
      "image/png": "[encoded data removed]",
      "text/plain": [
       "<Figure size 640x480 with 1 Axes>"
      ]
     },
     "metadata": {},
     "output_type": "display_data"
    }
   ],
   "source": [
    "# 16. Vẽ hình\n",
    "\n",
    "# Vẽ dữ liệu kiểm tra\n",
    "test_data_index = pd.RangeIndex(start=train_size, stop=train_size + test_size)\n",
    "plt.plot(test_data_index, scaler.inverse_transform(test_data), label='Test Data')\n",
    "\n",
    "# Vẽ dữ liệu dự đoán\n",
    "plt.plot(np.arange(train_size, train_size + len(y_pred)), y_pred, label='Predicted')\n",
    "\n",
    "# Vẽ dự báo 90, 60, 30 ngày\n",
    "plt.plot(np.arange(train_size + len(test_data), train_size + len(test_data) + len(forecast_90)), scaler.inverse_transform(forecast_90), label='Forecast 90 days')\n",
    "plt.plot(np.arange(train_size + len(test_data), train_size + len(test_data) + len(forecast_60)), scaler.inverse_transform(forecast_60), label='Forecast 60 days')\n",
    "plt.plot(np.arange(train_size + len(test_data), train_size + len(test_data) + len(forecast_30)), scaler.inverse_transform(forecast_30), label='Forecast 30 days')\n",
    "\n",
    "plt.title('LSTM - DOGE Stock Price - Forecast 30, 60, 90 days')\n",
    "plt.legend()\n",
    "plt.xlabel('Day')\n",
    "plt.ylabel('Price')\n",
    "plt.show()"
   ]
  }
 ],
 "metadata": {
  "kernelspec": {
   "display_name": "Python 3 (ipykernel)",
   "language": "python",
   "name": "python3"
  },
  "language_info": {
   "codemirror_mode": {
    "name": "ipython",
    "version": 3
   },
   "file_extension": ".py",
   "mimetype": "text/x-python",
   "name": "python",
   "nbconvert_exporter": "python",
   "pygments_lexer": "ipython3",
   "version": "3.10.8"
  }
 },
 "nbformat": 4,
 "nbformat_minor": 5
}
