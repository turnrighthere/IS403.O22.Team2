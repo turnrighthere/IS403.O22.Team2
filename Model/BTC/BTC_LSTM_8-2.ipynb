{
 "cells": [
  {
   "cell_type": "code",
   "execution_count": 1,
   "id": "d6e03734-7a73-489d-9cdc-84acf78c00e5",
   "metadata": {
    "tags": []
   },
   "outputs": [],
   "source": [
    "# 1. Import thư viện cần thiết\n",
    "import numpy as np\n",
    "import pandas as pd\n",
    "import matplotlib.pyplot as plt\n",
    "from sklearn.preprocessing import MinMaxScaler\n",
    "from keras.models import Sequential\n",
    "from keras.layers import Dense, LSTM"
   ]
  },
  {
   "cell_type": "code",
   "execution_count": 2,
   "id": "07adbc1b-a1d2-41ba-b0a6-73848cc36a2e",
   "metadata": {
    "tags": []
   },
   "outputs": [
    {
     "name": "stdout",
     "output_type": "stream",
     "text": [
      "<class 'pandas.core.frame.DataFrame'>\n",
      "RangeIndex: 2285 entries, 0 to 2284\n",
      "Data columns (total 7 columns):\n",
      " #   Column     Non-Null Count  Dtype  \n",
      "---  ------     --------------  -----  \n",
      " 0   Date       2285 non-null   object \n",
      " 1   Open       2285 non-null   float64\n",
      " 2   High       2285 non-null   float64\n",
      " 3   Low        2285 non-null   float64\n",
      " 4   Price      2285 non-null   float64\n",
      " 5   Adj Close  2285 non-null   float64\n",
      " 6   Volume     2285 non-null   int64  \n",
      "dtypes: float64(5), int64(1), object(1)\n",
      "memory usage: 125.1+ KB\n"
     ]
    }
   ],
   "source": [
    "# 2. Đọc file csv và gắn index với giá Price\n",
    "df = pd.read_csv('pre_BTC-USD.csv')\n",
    "df = df.rename(columns={'Close': 'Price'})\n",
    "df1 = df.reset_index()['Price']\n",
    "df.info()"
   ]
  },
  {
   "cell_type": "code",
   "execution_count": 3,
   "id": "823c305d-3c3c-46d7-ab97-99ea957bb915",
   "metadata": {
    "tags": []
   },
   "outputs": [],
   "source": [
    "# 3. Scaler data\n",
    "scaler = MinMaxScaler(feature_range=(0, 1))\n",
    "df1 = scaler.fit_transform(np.array(df1).reshape(-1, 1))"
   ]
  },
  {
   "cell_type": "code",
   "execution_count": 4,
   "id": "3c933b12-160d-4589-bda4-f6e0541be771",
   "metadata": {
    "tags": []
   },
   "outputs": [
    {
     "name": "stdout",
     "output_type": "stream",
     "text": [
      "Train shape: (1828, 1)\n",
      "Test shape: (457, 1)\n"
     ]
    }
   ],
   "source": [
    "# 4. Chia train test 8 - 2\n",
    "train_size = int(0.8 * len(df1))\n",
    "test_size = len(df1) - train_size\n",
    "\n",
    "# Lấy dữ liệu train và test\n",
    "train_data = df1[:train_size]\n",
    "test_data = df1[train_size:]\n",
    "\n",
    "print(\"Train shape:\", train_data.shape)\n",
    "print(\"Test shape:\", test_data.shape)"
   ]
  },
  {
   "cell_type": "code",
   "execution_count": 5,
   "id": "86d16400-4b94-40f8-b6ec-13ca9fae2127",
   "metadata": {
    "tags": []
   },
   "outputs": [],
   "source": [
    "# 5. Hàm Create Dataset\n",
    "import numpy\n",
    "# convert an array of values into a dataset matrix\n",
    "def create_dataset(dataset, time_step=1):\n",
    "\tdataX, dataY = [], []\n",
    "\tfor i in range(len(dataset)-time_step-1):\n",
    "\t\ta = dataset[i:(i+time_step), 0]   ###i=0, X=0,1,2,3-----99   Y=100 \n",
    "\t\tdataX.append(a)\n",
    "\t\tdataY.append(dataset[i + time_step, 0])\n",
    "\treturn numpy.array(dataX), numpy.array(dataY)"
   ]
  },
  {
   "cell_type": "code",
   "execution_count": 6,
   "id": "139117ad-87be-44e9-b6ec-91bf365f7d9b",
   "metadata": {
    "tags": []
   },
   "outputs": [],
   "source": [
    "# 6. Reshape into X=t,t+1,t+2..t+99 and Y=t+100\n",
    "time_step = 100\n",
    "X_train, y_train = create_dataset(train_data, time_step)\n",
    "combined_data = np.concatenate((train_data[-time_step:], test_data))\n",
    "X_test, ytest = create_dataset(combined_data, time_step)"
   ]
  },
  {
   "cell_type": "code",
   "execution_count": 7,
   "id": "f60d12b6-f562-48b8-99a5-d59b670f42c2",
   "metadata": {
    "tags": []
   },
   "outputs": [],
   "source": [
    "# 7. Reshape input to be [samples, time steps, features] which is required for LSTM\n",
    "X_train = X_train.reshape(X_train.shape[0], X_train.shape[1], 1)\n",
    "X_test = X_test.reshape(X_test.shape[0], X_test.shape[1], 1)"
   ]
  },
  {
   "cell_type": "code",
   "execution_count": 8,
   "id": "db87fc59-fb90-4e96-8eb0-7c65084b8ff6",
   "metadata": {
    "tags": []
   },
   "outputs": [],
   "source": [
    "# 8. Define LSTM Model\n",
    "model = Sequential()\n",
    "model.add(LSTM(50, return_sequences=True, input_shape=(100, 1)))\n",
    "model.add(LSTM(50, return_sequences=True))\n",
    "model.add(LSTM(50))\n",
    "model.add(Dense(1))\n",
    "model.compile(loss='mean_squared_error', optimizer='adam')"
   ]
  },
  {
   "cell_type": "code",
   "execution_count": 9,
   "id": "7d438015-03ba-433f-9c89-4bf4f6680ffe",
   "metadata": {
    "tags": []
   },
   "outputs": [
    {
     "name": "stdout",
     "output_type": "stream",
     "text": [
      "Epoch 1/100\n",
      "27/27 [==============================] - 12s 229ms/step - loss: 0.0168 - val_loss: 0.0077\n",
      "Epoch 2/100\n",
      "27/27 [==============================] - 4s 164ms/step - loss: 0.0026 - val_loss: 0.0025\n",
      "Epoch 3/100\n",
      "27/27 [==============================] - 4s 161ms/step - loss: 0.0020 - val_loss: 0.0030\n",
      "Epoch 4/100\n",
      "27/27 [==============================] - 4s 164ms/step - loss: 0.0019 - val_loss: 0.0037\n",
      "Epoch 5/100\n",
      "27/27 [==============================] - 4s 164ms/step - loss: 0.0018 - val_loss: 0.0019\n",
      "Epoch 6/100\n",
      "27/27 [==============================] - 4s 162ms/step - loss: 0.0016 - val_loss: 0.0016\n",
      "Epoch 7/100\n",
      "27/27 [==============================] - 4s 166ms/step - loss: 0.0016 - val_loss: 0.0015\n",
      "Epoch 8/100\n",
      "27/27 [==============================] - 4s 163ms/step - loss: 0.0013 - val_loss: 0.0018\n",
      "Epoch 9/100\n",
      "27/27 [==============================] - 4s 163ms/step - loss: 0.0014 - val_loss: 0.0017\n",
      "Epoch 10/100\n",
      "27/27 [==============================] - 4s 162ms/step - loss: 0.0013 - val_loss: 0.0013\n",
      "Epoch 11/100\n",
      "27/27 [==============================] - 4s 166ms/step - loss: 0.0012 - val_loss: 0.0024\n",
      "Epoch 12/100\n",
      "27/27 [==============================] - 5s 168ms/step - loss: 0.0011 - val_loss: 0.0017\n",
      "Epoch 13/100\n",
      "27/27 [==============================] - 4s 162ms/step - loss: 0.0010 - val_loss: 0.0011\n",
      "Epoch 14/100\n",
      "27/27 [==============================] - 4s 156ms/step - loss: 9.6872e-04 - val_loss: 0.0011\n",
      "Epoch 15/100\n",
      "27/27 [==============================] - 4s 155ms/step - loss: 9.2196e-04 - val_loss: 0.0023\n",
      "Epoch 16/100\n",
      "27/27 [==============================] - 4s 160ms/step - loss: 9.1212e-04 - val_loss: 0.0014\n",
      "Epoch 17/100\n",
      "27/27 [==============================] - 4s 158ms/step - loss: 0.0010 - val_loss: 0.0012\n",
      "Epoch 18/100\n",
      "27/27 [==============================] - 4s 163ms/step - loss: 9.0470e-04 - val_loss: 9.5688e-04\n",
      "Epoch 19/100\n",
      "27/27 [==============================] - 4s 160ms/step - loss: 7.9456e-04 - val_loss: 0.0011\n",
      "Epoch 20/100\n",
      "27/27 [==============================] - 4s 161ms/step - loss: 7.1553e-04 - val_loss: 0.0013\n",
      "Epoch 21/100\n",
      "27/27 [==============================] - 4s 159ms/step - loss: 7.1326e-04 - val_loss: 8.0727e-04\n",
      "Epoch 22/100\n",
      "27/27 [==============================] - 4s 159ms/step - loss: 6.3153e-04 - val_loss: 8.2295e-04\n",
      "Epoch 23/100\n",
      "27/27 [==============================] - 4s 162ms/step - loss: 6.5054e-04 - val_loss: 0.0020\n",
      "Epoch 24/100\n",
      "27/27 [==============================] - 5s 184ms/step - loss: 6.7388e-04 - val_loss: 8.7798e-04\n",
      "Epoch 25/100\n",
      "27/27 [==============================] - 4s 164ms/step - loss: 6.6862e-04 - val_loss: 9.7025e-04\n",
      "Epoch 26/100\n",
      "27/27 [==============================] - 5s 170ms/step - loss: 6.3378e-04 - val_loss: 9.0455e-04\n",
      "Epoch 27/100\n",
      "27/27 [==============================] - 5s 196ms/step - loss: 5.3959e-04 - val_loss: 6.5495e-04\n",
      "Epoch 28/100\n",
      "27/27 [==============================] - 4s 164ms/step - loss: 5.5135e-04 - val_loss: 7.5190e-04\n",
      "Epoch 29/100\n",
      "27/27 [==============================] - 4s 164ms/step - loss: 5.1957e-04 - val_loss: 6.7686e-04\n",
      "Epoch 30/100\n",
      "27/27 [==============================] - 4s 164ms/step - loss: 5.1321e-04 - val_loss: 5.8669e-04\n",
      "Epoch 31/100\n",
      "27/27 [==============================] - 5s 188ms/step - loss: 4.7872e-04 - val_loss: 5.4516e-04\n",
      "Epoch 32/100\n",
      "27/27 [==============================] - 6s 220ms/step - loss: 4.9066e-04 - val_loss: 5.2290e-04\n",
      "Epoch 33/100\n",
      "27/27 [==============================] - 4s 167ms/step - loss: 4.6643e-04 - val_loss: 7.6799e-04\n",
      "Epoch 34/100\n",
      "27/27 [==============================] - 4s 160ms/step - loss: 4.5809e-04 - val_loss: 4.6424e-04\n",
      "Epoch 35/100\n",
      "27/27 [==============================] - 4s 160ms/step - loss: 5.6492e-04 - val_loss: 9.5055e-04\n",
      "Epoch 36/100\n",
      "27/27 [==============================] - 4s 158ms/step - loss: 5.3415e-04 - val_loss: 0.0019\n",
      "Epoch 37/100\n",
      "27/27 [==============================] - 4s 162ms/step - loss: 6.6909e-04 - val_loss: 5.2954e-04\n",
      "Epoch 38/100\n",
      "27/27 [==============================] - 4s 159ms/step - loss: 4.3236e-04 - val_loss: 8.0953e-04\n",
      "Epoch 39/100\n",
      "27/27 [==============================] - 4s 164ms/step - loss: 4.1815e-04 - val_loss: 6.4176e-04\n",
      "Epoch 40/100\n",
      "27/27 [==============================] - 4s 163ms/step - loss: 4.7520e-04 - val_loss: 0.0015\n",
      "Epoch 41/100\n",
      "27/27 [==============================] - 4s 159ms/step - loss: 4.4759e-04 - val_loss: 4.9383e-04\n",
      "Epoch 42/100\n",
      "27/27 [==============================] - 4s 160ms/step - loss: 3.8315e-04 - val_loss: 4.3090e-04\n",
      "Epoch 43/100\n",
      "27/27 [==============================] - 4s 158ms/step - loss: 3.6747e-04 - val_loss: 4.1968e-04\n",
      "Epoch 44/100\n",
      "27/27 [==============================] - 4s 157ms/step - loss: 3.8557e-04 - val_loss: 3.8640e-04\n",
      "Epoch 45/100\n",
      "27/27 [==============================] - 4s 159ms/step - loss: 3.5458e-04 - val_loss: 8.5859e-04\n",
      "Epoch 46/100\n",
      "27/27 [==============================] - 4s 161ms/step - loss: 4.1382e-04 - val_loss: 4.4423e-04\n",
      "Epoch 47/100\n",
      "27/27 [==============================] - 5s 169ms/step - loss: 3.4253e-04 - val_loss: 6.9554e-04\n",
      "Epoch 48/100\n",
      "27/27 [==============================] - 4s 165ms/step - loss: 3.3282e-04 - val_loss: 3.8355e-04\n",
      "Epoch 49/100\n",
      "27/27 [==============================] - 6s 235ms/step - loss: 3.4667e-04 - val_loss: 4.1383e-04\n",
      "Epoch 50/100\n",
      "27/27 [==============================] - 5s 196ms/step - loss: 3.6186e-04 - val_loss: 7.5512e-04\n",
      "Epoch 51/100\n",
      "27/27 [==============================] - 6s 241ms/step - loss: 3.8100e-04 - val_loss: 0.0028\n",
      "Epoch 52/100\n",
      "27/27 [==============================] - 5s 192ms/step - loss: 5.3939e-04 - val_loss: 4.8123e-04\n",
      "Epoch 53/100\n",
      "27/27 [==============================] - 5s 184ms/step - loss: 4.0272e-04 - val_loss: 4.9082e-04\n",
      "Epoch 54/100\n",
      "27/27 [==============================] - 5s 194ms/step - loss: 3.2420e-04 - val_loss: 4.1137e-04\n",
      "Epoch 55/100\n",
      "27/27 [==============================] - 5s 204ms/step - loss: 3.1019e-04 - val_loss: 3.4703e-04\n",
      "Epoch 56/100\n",
      "27/27 [==============================] - 5s 201ms/step - loss: 2.7884e-04 - val_loss: 3.4549e-04\n",
      "Epoch 57/100\n",
      "27/27 [==============================] - 5s 197ms/step - loss: 2.8354e-04 - val_loss: 3.4044e-04\n",
      "Epoch 58/100\n",
      "27/27 [==============================] - 5s 183ms/step - loss: 2.8027e-04 - val_loss: 4.2279e-04\n",
      "Epoch 59/100\n",
      "27/27 [==============================] - 5s 202ms/step - loss: 2.7474e-04 - val_loss: 3.6255e-04\n",
      "Epoch 60/100\n",
      "27/27 [==============================] - 6s 205ms/step - loss: 3.1109e-04 - val_loss: 3.6898e-04\n",
      "Epoch 61/100\n",
      "27/27 [==============================] - 7s 276ms/step - loss: 2.9718e-04 - val_loss: 4.9331e-04\n",
      "Epoch 62/100\n",
      "27/27 [==============================] - 6s 221ms/step - loss: 3.0145e-04 - val_loss: 4.1308e-04\n",
      "Epoch 63/100\n",
      "27/27 [==============================] - 5s 195ms/step - loss: 3.0299e-04 - val_loss: 3.4380e-04\n",
      "Epoch 64/100\n",
      "27/27 [==============================] - 6s 232ms/step - loss: 2.6715e-04 - val_loss: 8.3823e-04\n",
      "Epoch 65/100\n",
      "27/27 [==============================] - 5s 186ms/step - loss: 2.6582e-04 - val_loss: 3.6483e-04\n",
      "Epoch 66/100\n",
      "27/27 [==============================] - 4s 161ms/step - loss: 3.2980e-04 - val_loss: 4.3503e-04\n",
      "Epoch 67/100\n",
      "27/27 [==============================] - 5s 190ms/step - loss: 3.3350e-04 - val_loss: 7.9207e-04\n",
      "Epoch 68/100\n",
      "27/27 [==============================] - 5s 182ms/step - loss: 2.9561e-04 - val_loss: 3.6045e-04\n",
      "Epoch 69/100\n",
      "27/27 [==============================] - 5s 175ms/step - loss: 3.0673e-04 - val_loss: 3.3541e-04\n",
      "Epoch 70/100\n",
      "27/27 [==============================] - 5s 194ms/step - loss: 3.3829e-04 - val_loss: 3.9876e-04\n",
      "Epoch 71/100\n",
      "27/27 [==============================] - 5s 179ms/step - loss: 3.3843e-04 - val_loss: 3.5813e-04\n",
      "Epoch 72/100\n",
      "27/27 [==============================] - 5s 189ms/step - loss: 2.5076e-04 - val_loss: 4.1917e-04\n",
      "Epoch 73/100\n",
      "27/27 [==============================] - 5s 189ms/step - loss: 2.5921e-04 - val_loss: 5.8661e-04\n",
      "Epoch 74/100\n",
      "27/27 [==============================] - 5s 181ms/step - loss: 2.5200e-04 - val_loss: 3.4989e-04\n",
      "Epoch 75/100\n",
      "27/27 [==============================] - 5s 187ms/step - loss: 2.5974e-04 - val_loss: 5.1084e-04\n",
      "Epoch 76/100\n",
      "27/27 [==============================] - 5s 191ms/step - loss: 2.8245e-04 - val_loss: 3.4222e-04\n",
      "Epoch 77/100\n",
      "27/27 [==============================] - 5s 175ms/step - loss: 2.4600e-04 - val_loss: 4.5749e-04\n",
      "Epoch 78/100\n",
      "27/27 [==============================] - 5s 170ms/step - loss: 2.4938e-04 - val_loss: 3.5219e-04\n",
      "Epoch 79/100\n",
      "27/27 [==============================] - 4s 165ms/step - loss: 2.6962e-04 - val_loss: 4.8645e-04\n",
      "Epoch 80/100\n",
      "27/27 [==============================] - 5s 169ms/step - loss: 2.4608e-04 - val_loss: 4.6869e-04\n",
      "Epoch 81/100\n",
      "27/27 [==============================] - 5s 175ms/step - loss: 2.4696e-04 - val_loss: 3.3613e-04\n",
      "Epoch 82/100\n",
      "27/27 [==============================] - 5s 189ms/step - loss: 2.4772e-04 - val_loss: 6.2769e-04\n",
      "Epoch 83/100\n",
      "27/27 [==============================] - 5s 192ms/step - loss: 3.0626e-04 - val_loss: 4.9608e-04\n",
      "Epoch 84/100\n",
      "27/27 [==============================] - 5s 179ms/step - loss: 2.4866e-04 - val_loss: 3.3641e-04\n",
      "Epoch 85/100\n",
      "27/27 [==============================] - 5s 187ms/step - loss: 2.4483e-04 - val_loss: 3.8552e-04\n",
      "Epoch 86/100\n",
      "27/27 [==============================] - 5s 177ms/step - loss: 2.6787e-04 - val_loss: 4.1863e-04\n",
      "Epoch 87/100\n",
      "27/27 [==============================] - 5s 174ms/step - loss: 2.4638e-04 - val_loss: 7.3990e-04\n",
      "Epoch 88/100\n",
      "27/27 [==============================] - 5s 174ms/step - loss: 3.0486e-04 - val_loss: 6.9016e-04\n",
      "Epoch 89/100\n",
      "27/27 [==============================] - 5s 168ms/step - loss: 2.7056e-04 - val_loss: 3.8181e-04\n",
      "Epoch 90/100\n",
      "27/27 [==============================] - 5s 169ms/step - loss: 2.5128e-04 - val_loss: 4.6203e-04\n",
      "Epoch 91/100\n",
      "27/27 [==============================] - 5s 197ms/step - loss: 2.4681e-04 - val_loss: 6.1623e-04\n",
      "Epoch 92/100\n",
      "27/27 [==============================] - 5s 170ms/step - loss: 2.7410e-04 - val_loss: 3.7633e-04\n",
      "Epoch 93/100\n",
      "27/27 [==============================] - 4s 166ms/step - loss: 2.6447e-04 - val_loss: 3.6712e-04\n",
      "Epoch 94/100\n",
      "27/27 [==============================] - 5s 174ms/step - loss: 2.4693e-04 - val_loss: 4.3245e-04\n",
      "Epoch 95/100\n",
      "27/27 [==============================] - 5s 168ms/step - loss: 2.4171e-04 - val_loss: 3.4841e-04\n",
      "Epoch 96/100\n",
      "27/27 [==============================] - 4s 165ms/step - loss: 2.6365e-04 - val_loss: 3.3804e-04\n",
      "Epoch 97/100\n",
      "27/27 [==============================] - 4s 160ms/step - loss: 3.3261e-04 - val_loss: 4.7551e-04\n",
      "Epoch 98/100\n",
      "27/27 [==============================] - 4s 160ms/step - loss: 2.8830e-04 - val_loss: 3.4143e-04\n",
      "Epoch 99/100\n",
      "27/27 [==============================] - 4s 163ms/step - loss: 2.4563e-04 - val_loss: 3.4013e-04\n",
      "Epoch 100/100\n",
      "27/27 [==============================] - 4s 159ms/step - loss: 2.3891e-04 - val_loss: 3.6186e-04\n"
     ]
    },
    {
     "data": {
      "text/plain": [
       "<keras.callbacks.History at 0x16d92646980>"
      ]
     },
     "execution_count": 9,
     "metadata": {},
     "output_type": "execute_result"
    }
   ],
   "source": [
    "# 9. Fit mô hình với dữ liệu train\n",
    "model.fit(X_train, y_train, validation_data=(X_test, ytest), epochs=100, batch_size=64, verbose=1)"
   ]
  },
  {
   "cell_type": "code",
   "execution_count": 10,
   "id": "11429718-53af-460b-bc27-6339c6f5f98e",
   "metadata": {},
   "outputs": [
    {
     "name": "stdout",
     "output_type": "stream",
     "text": [
      "54/54 [==============================] - 4s 38ms/step\n",
      "15/15 [==============================] - 1s 35ms/step\n"
     ]
    }
   ],
   "source": [
    "# 10. Dự báo dữ liệu test\n",
    "train_predict = model.predict(X_train)\n",
    "y_pred = model.predict(X_test)"
   ]
  },
  {
   "cell_type": "code",
   "execution_count": 11,
   "id": "325b6e6a-fb3e-4f67-a484-014e7ddb4183",
   "metadata": {},
   "outputs": [],
   "source": [
    "# 11. Chuẩn hóa dữ liệu y_pred\n",
    "train_predict = scaler.inverse_transform(train_predict)\n",
    "y_pred = scaler.inverse_transform(y_pred)"
   ]
  },
  {
   "cell_type": "code",
   "execution_count": 12,
   "id": "b964944b-407f-425e-9fbd-d7cd9e12b40a",
   "metadata": {
    "tags": []
   },
   "outputs": [
    {
     "name": "stdout",
     "output_type": "stream",
     "text": [
      "Mean Absolute Error (MAE): 39360.810429595156\n",
      "Mean Absolute Percentage Error (MAPE): 7667680.62823013\n",
      "Root Mean Square Error (RMSE): 42060.821802476836\n"
     ]
    }
   ],
   "source": [
    "# 12. Tính RMSE, MAPE, MAE\n",
    "from sklearn.metrics import mean_absolute_error, mean_squared_error, mean_absolute_percentage_error\n",
    "\n",
    "mae = mean_absolute_error(ytest, y_pred)\n",
    "mape = mean_absolute_percentage_error(ytest, y_pred)\n",
    "rmse = np.sqrt(mean_squared_error(ytest, y_pred))\n",
    "\n",
    "print(\"Mean Absolute Error (MAE):\", mae)\n",
    "print(\"Mean Absolute Percentage Error (MAPE):\", mape * 100)\n",
    "print(\"Root Mean Square Error (RMSE):\", rmse)"
   ]
  },
  {
   "cell_type": "code",
   "execution_count": 13,
   "id": "2e271a5d-d3ba-478b-ab4d-d877f6725302",
   "metadata": {
    "tags": []
   },
   "outputs": [],
   "source": [
    "# 13. Hàm dự báo\n",
    "def forecast_days(n_days):\n",
    "    x_input = test_data[-100:].reshape(1, -1)\n",
    "    temp_input = list(x_input[0])\n",
    "\n",
    "    lst_output = []\n",
    "    i = 0\n",
    "    while i < n_days:\n",
    "        if len(temp_input) > 100:\n",
    "            x_input = np.array(temp_input[1:])\n",
    "            x_input = x_input.reshape(1, -1)\n",
    "            x_input = x_input.reshape((1, time_step, 1))\n",
    "            yhat = model.predict(x_input, verbose=0)\n",
    "            temp_input.extend(yhat[0].tolist())\n",
    "            temp_input = temp_input[1:]\n",
    "            lst_output.extend(yhat.tolist())\n",
    "            i += 1\n",
    "        else:\n",
    "            x_input = x_input.reshape((1, time_step, 1))\n",
    "            yhat = model.predict(x_input, verbose=0)\n",
    "            temp_input.extend(yhat[0].tolist())\n",
    "            lst_output.extend(yhat.tolist())\n",
    "            i += 1\n",
    "    return lst_output"
   ]
  },
  {
   "cell_type": "code",
   "execution_count": 14,
   "id": "12343b63-3464-4e24-bf18-1f00bb17e507",
   "metadata": {
    "tags": []
   },
   "outputs": [],
   "source": [
    "# 14. Dự báo 30, 60, 90 ngày tiếp theo\n",
    "forecast_30 = forecast_days(30)\n",
    "forecast_60 = forecast_days(60)\n",
    "forecast_90 = forecast_days(90)"
   ]
  },
  {
   "cell_type": "code",
   "execution_count": 15,
   "id": "b4063bc9-d94d-471f-8117-331d74e51408",
   "metadata": {
    "tags": []
   },
   "outputs": [
    {
     "name": "stdout",
     "output_type": "stream",
     "text": [
      "Dự báo cho 30 ngày tiếp theo: [[0.9075146913528442], [0.8880240321159363], [0.8732107877731323], [0.8607439398765564], [0.8500798344612122], [0.8408592939376831], [0.832677960395813], [0.8252397775650024], [0.8183552026748657], [0.8118975758552551], [0.8057649731636047], [0.7998577952384949], [0.7940706014633179], [0.7882951498031616], [0.7824270725250244], [0.776373028755188], [0.7700573801994324], [0.7634254693984985], [0.7564442157745361], [0.7491017580032349], [0.7414050698280334], [0.7333763837814331], [0.7250508666038513], [0.716472327709198], [0.7076908946037292], [0.6987600326538086], [0.689733624458313], [0.6806653738021851], [0.67160564661026], [0.6626007556915283]]\n"
     ]
    }
   ],
   "source": [
    "# 15. In ra dự đoán cho 30 ngày tiếp theo\n",
    "print(\"Dự báo cho 30 ngày tiếp theo:\", forecast_30)"
   ]
  },
  {
   "cell_type": "code",
   "execution_count": 16,
   "id": "67077348-1c5e-4d27-b85b-d6198039e6db",
   "metadata": {
    "tags": []
   },
   "outputs": [
    {
     "name": "stdout",
     "output_type": "stream",
     "text": [
      "Dự báo cho 60 ngày tiếp theo: [[0.9075146913528442], [0.8880240321159363], [0.8732107877731323], [0.8607439398765564], [0.8500798344612122], [0.8408592939376831], [0.832677960395813], [0.8252397775650024], [0.8183552026748657], [0.8118975758552551], [0.8057649731636047], [0.7998577952384949], [0.7940706014633179], [0.7882951498031616], [0.7824270725250244], [0.776373028755188], [0.7700573801994324], [0.7634254693984985], [0.7564442157745361], [0.7491017580032349], [0.7414050698280334], [0.7333763837814331], [0.7250508666038513], [0.716472327709198], [0.7076908946037292], [0.6987600326538086], [0.689733624458313], [0.6806653738021851], [0.67160564661026], [0.6626007556915283], [0.6536926627159119], [0.6449171900749207], [0.6363046765327454], [0.6278796792030334], [0.6196602582931519], [0.6116597652435303], [0.6038862466812134], [0.5963432788848877], [0.5890312790870667], [0.5819469094276428], [0.5750845074653625], [0.5684368014335632], [0.5619952082633972], [0.5557498931884766], [0.5496914982795715], [0.5438104867935181], [0.5380977988243103], [0.532544732093811], [0.5271440148353577], [0.5218889713287354], [0.5167742967605591], [0.5117955207824707], [0.5069493651390076], [0.502233624458313], [0.49764686822891235], [0.49318811297416687], [0.48885756731033325], [0.48465579748153687], [0.480583518743515], [0.47664183378219604]]\n"
     ]
    }
   ],
   "source": [
    "# 15. In ra dự đoán cho 60 ngày tiếp theo\n",
    "print(\"Dự báo cho 60 ngày tiếp theo:\", forecast_60)"
   ]
  },
  {
   "cell_type": "code",
   "execution_count": 17,
   "id": "64491d29-b028-4911-924a-472619538172",
   "metadata": {
    "tags": []
   },
   "outputs": [
    {
     "name": "stdout",
     "output_type": "stream",
     "text": [
      "Dự báo cho 90 ngày tiếp theo: [[0.9075146913528442], [0.8880240321159363], [0.8732107877731323], [0.8607439398765564], [0.8500798344612122], [0.8408592939376831], [0.832677960395813], [0.8252397775650024], [0.8183552026748657], [0.8118975758552551], [0.8057649731636047], [0.7998577952384949], [0.7940706014633179], [0.7882951498031616], [0.7824270725250244], [0.776373028755188], [0.7700573801994324], [0.7634254693984985], [0.7564442157745361], [0.7491017580032349], [0.7414050698280334], [0.7333763837814331], [0.7250508666038513], [0.716472327709198], [0.7076908946037292], [0.6987600326538086], [0.689733624458313], [0.6806653738021851], [0.67160564661026], [0.6626007556915283], [0.6536926627159119], [0.6449171900749207], [0.6363046765327454], [0.6278796792030334], [0.6196602582931519], [0.6116597652435303], [0.6038862466812134], [0.5963432788848877], [0.5890312790870667], [0.5819469094276428], [0.5750845074653625], [0.5684368014335632], [0.5619952082633972], [0.5557498931884766], [0.5496914982795715], [0.5438104867935181], [0.5380977988243103], [0.532544732093811], [0.5271440148353577], [0.5218889713287354], [0.5167742967605591], [0.5117955207824707], [0.5069493651390076], [0.502233624458313], [0.49764686822891235], [0.49318811297416687], [0.48885756731033325], [0.48465579748153687], [0.480583518743515], [0.47664183378219604], [0.4728318154811859], [0.4691544771194458], [0.4656105637550354], [0.46220093965530396], [0.45892584323883057], [0.4557850658893585], [0.45277801156044006], [0.44990378618240356], [0.447160929441452], [0.4445473551750183], [0.442060649394989], [0.43969810009002686], [0.4374563992023468], [0.43533217906951904], [0.43332138657569885], [0.431420236825943], [0.42962440848350525], [0.42792949080467224], [0.4263313412666321], [0.4248253107070923], [0.42340731620788574], [0.4220729172229767], [0.42081788182258606], [0.41963839530944824], [0.41853049397468567], [0.4174906313419342], [0.4165152311325073], [0.41560113430023193], [0.4147453010082245], [0.41394516825675964]]\n"
     ]
    }
   ],
   "source": [
    "# 15. In ra dự đoán cho 90 ngày tiếp theo\n",
    "print(\"Dự báo cho 90 ngày tiếp theo:\", forecast_90)"
   ]
  },
  {
   "cell_type": "code",
   "execution_count": 18,
   "id": "3dd6ded5-fc67-4904-a0fd-59c167779a17",
   "metadata": {
    "tags": []
   },
   "outputs": [
    {
     "data": {
      "image/png": "[encoded data removed]",
      "text/plain": [
       "<Figure size 640x480 with 1 Axes>"
      ]
     },
     "metadata": {},
     "output_type": "display_data"
    }
   ],
   "source": [
    "# 16. Vẽ hình\n",
    "\n",
    "# Vẽ dữ liệu kiểm tra\n",
    "test_data_index = pd.RangeIndex(start=train_size, stop=train_size + test_size)\n",
    "plt.plot(test_data_index, scaler.inverse_transform(test_data), label='Test Data')\n",
    "\n",
    "# Vẽ dữ liệu dự đoán\n",
    "plt.plot(np.arange(train_size, train_size + len(y_pred)), y_pred, label='Predicted')\n",
    "\n",
    "# Vẽ dự báo 90, 60, 30 ngày\n",
    "plt.plot(np.arange(train_size + len(test_data), train_size + len(test_data) + len(forecast_90)), scaler.inverse_transform(forecast_90), label='Forecast 90 days')\n",
    "plt.plot(np.arange(train_size + len(test_data), train_size + len(test_data) + len(forecast_60)), scaler.inverse_transform(forecast_60), label='Forecast 60 days')\n",
    "plt.plot(np.arange(train_size + len(test_data), train_size + len(test_data) + len(forecast_30)), scaler.inverse_transform(forecast_30), label='Forecast 30 days')\n",
    "\n",
    "plt.title('LSTM - BTC Stock Price - Forecast 30, 60, 90 days')\n",
    "plt.legend()\n",
    "plt.show()"
   ]
  }
 ],
 "metadata": {
  "kernelspec": {
   "display_name": "Python 3 (ipykernel)",
   "language": "python",
   "name": "python3"
  },
  "language_info": {
   "codemirror_mode": {
    "name": "ipython",
    "version": 3
   },
   "file_extension": ".py",
   "mimetype": "text/x-python",
   "name": "python",
   "nbconvert_exporter": "python",
   "pygments_lexer": "ipython3",
   "version": "3.10.8"
  }
 },
 "nbformat": 4,
 "nbformat_minor": 5
}
