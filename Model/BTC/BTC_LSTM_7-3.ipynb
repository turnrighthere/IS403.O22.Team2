{
 "cells": [
  {
   "cell_type": "code",
   "execution_count": 1,
   "id": "d6e03734-7a73-489d-9cdc-84acf78c00e5",
   "metadata": {
    "tags": []
   },
   "outputs": [],
   "source": [
    "# 1. Import thư viện cần thiết\n",
    "import numpy as np\n",
    "import pandas as pd\n",
    "import matplotlib.pyplot as plt\n",
    "from sklearn.preprocessing import MinMaxScaler\n",
    "from keras.models import Sequential\n",
    "from keras.layers import Dense, LSTM"
   ]
  },
  {
   "cell_type": "code",
   "execution_count": 2,
   "id": "07adbc1b-a1d2-41ba-b0a6-73848cc36a2e",
   "metadata": {
    "tags": []
   },
   "outputs": [
    {
     "name": "stdout",
     "output_type": "stream",
     "text": [
      "<class 'pandas.core.frame.DataFrame'>\n",
      "RangeIndex: 2285 entries, 0 to 2284\n",
      "Data columns (total 7 columns):\n",
      " #   Column     Non-Null Count  Dtype  \n",
      "---  ------     --------------  -----  \n",
      " 0   Date       2285 non-null   object \n",
      " 1   Open       2285 non-null   float64\n",
      " 2   High       2285 non-null   float64\n",
      " 3   Low        2285 non-null   float64\n",
      " 4   Price      2285 non-null   float64\n",
      " 5   Adj Close  2285 non-null   float64\n",
      " 6   Volume     2285 non-null   int64  \n",
      "dtypes: float64(5), int64(1), object(1)\n",
      "memory usage: 125.1+ KB\n"
     ]
    }
   ],
   "source": [
    "# 2. Đọc file csv và gắn index với giá Price\n",
    "df = pd.read_csv('pre_BTC-USD.csv')\n",
    "df = df.rename(columns={'Close': 'Price'})\n",
    "df1 = df.reset_index()['Price']\n",
    "df.info()"
   ]
  },
  {
   "cell_type": "code",
   "execution_count": 3,
   "id": "823c305d-3c3c-46d7-ab97-99ea957bb915",
   "metadata": {
    "tags": []
   },
   "outputs": [],
   "source": [
    "# 3. Scaler data\n",
    "scaler = MinMaxScaler(feature_range=(0, 1))\n",
    "df1 = scaler.fit_transform(np.array(df1).reshape(-1, 1))"
   ]
  },
  {
   "cell_type": "code",
   "execution_count": 4,
   "id": "3c933b12-160d-4589-bda4-f6e0541be771",
   "metadata": {
    "tags": []
   },
   "outputs": [
    {
     "name": "stdout",
     "output_type": "stream",
     "text": [
      "Train shape: (1599, 1)\n",
      "Test shape: (686, 1)\n"
     ]
    }
   ],
   "source": [
    "# 4. Chia train test 7 - 3\n",
    "train_size = int(0.7 * len(df1))\n",
    "test_size = len(df1) - train_size\n",
    "\n",
    "# Lấy dữ liệu train và test\n",
    "train_data = df1[:train_size]\n",
    "test_data = df1[train_size:]\n",
    "\n",
    "print(\"Train shape:\", train_data.shape)\n",
    "print(\"Test shape:\", test_data.shape)"
   ]
  },
  {
   "cell_type": "code",
   "execution_count": 5,
   "id": "86d16400-4b94-40f8-b6ec-13ca9fae2127",
   "metadata": {
    "tags": []
   },
   "outputs": [],
   "source": [
    "# 5. Hàm Create Dataset\n",
    "import numpy\n",
    "# convert an array of values into a dataset matrix\n",
    "def create_dataset(dataset, time_step=1):\n",
    "\tdataX, dataY = [], []\n",
    "\tfor i in range(len(dataset)-time_step-1):\n",
    "\t\ta = dataset[i:(i+time_step), 0]   ###i=0, X=0,1,2,3-----99   Y=100 \n",
    "\t\tdataX.append(a)\n",
    "\t\tdataY.append(dataset[i + time_step, 0])\n",
    "\treturn numpy.array(dataX), numpy.array(dataY)"
   ]
  },
  {
   "cell_type": "code",
   "execution_count": 6,
   "id": "139117ad-87be-44e9-b6ec-91bf365f7d9b",
   "metadata": {
    "tags": []
   },
   "outputs": [],
   "source": [
    "# 6. Reshape into X=t,t+1,t+2..t+99 and Y=t+100\n",
    "time_step = 100\n",
    "X_train, y_train = create_dataset(train_data, time_step)\n",
    "combined_data = np.concatenate((train_data[-time_step:], test_data))\n",
    "X_test, ytest = create_dataset(combined_data, time_step)"
   ]
  },
  {
   "cell_type": "code",
   "execution_count": 7,
   "id": "f60d12b6-f562-48b8-99a5-d59b670f42c2",
   "metadata": {
    "tags": []
   },
   "outputs": [],
   "source": [
    "# 7. Reshape input to be [samples, time steps, features] which is required for LSTM\n",
    "X_train = X_train.reshape(X_train.shape[0], X_train.shape[1], 1)\n",
    "X_test = X_test.reshape(X_test.shape[0], X_test.shape[1], 1)"
   ]
  },
  {
   "cell_type": "code",
   "execution_count": 8,
   "id": "db87fc59-fb90-4e96-8eb0-7c65084b8ff6",
   "metadata": {
    "tags": []
   },
   "outputs": [],
   "source": [
    "# 8. Define LSTM Model\n",
    "model = Sequential()\n",
    "model.add(LSTM(50, return_sequences=True, input_shape=(100, 1)))\n",
    "model.add(LSTM(50, return_sequences=True))\n",
    "model.add(LSTM(50))\n",
    "model.add(Dense(1))\n",
    "model.compile(loss='mean_squared_error', optimizer='adam')"
   ]
  },
  {
   "cell_type": "code",
   "execution_count": 9,
   "id": "7d438015-03ba-433f-9c89-4bf4f6680ffe",
   "metadata": {
    "tags": []
   },
   "outputs": [
    {
     "name": "stdout",
     "output_type": "stream",
     "text": [
      "Epoch 1/100\n",
      "24/24 [==============================] - 12s 273ms/step - loss: 0.0322 - val_loss: 0.0030\n",
      "Epoch 2/100\n",
      "24/24 [==============================] - 4s 168ms/step - loss: 0.0029 - val_loss: 0.0024\n",
      "Epoch 3/100\n",
      "24/24 [==============================] - 4s 169ms/step - loss: 0.0023 - val_loss: 0.0042\n",
      "Epoch 4/100\n",
      "24/24 [==============================] - 4s 169ms/step - loss: 0.0022 - val_loss: 0.0025\n",
      "Epoch 5/100\n",
      "24/24 [==============================] - 4s 167ms/step - loss: 0.0019 - val_loss: 0.0020\n",
      "Epoch 6/100\n",
      "24/24 [==============================] - 4s 169ms/step - loss: 0.0017 - val_loss: 0.0018\n",
      "Epoch 7/100\n",
      "24/24 [==============================] - 4s 174ms/step - loss: 0.0016 - val_loss: 0.0017\n",
      "Epoch 8/100\n",
      "24/24 [==============================] - 4s 165ms/step - loss: 0.0015 - val_loss: 0.0014\n",
      "Epoch 9/100\n",
      "24/24 [==============================] - 4s 173ms/step - loss: 0.0016 - val_loss: 0.0017\n",
      "Epoch 10/100\n",
      "24/24 [==============================] - 4s 164ms/step - loss: 0.0013 - val_loss: 0.0022\n",
      "Epoch 11/100\n",
      "24/24 [==============================] - 4s 167ms/step - loss: 0.0015 - val_loss: 0.0012\n",
      "Epoch 12/100\n",
      "24/24 [==============================] - 4s 174ms/step - loss: 0.0013 - val_loss: 0.0011\n",
      "Epoch 13/100\n",
      "24/24 [==============================] - 4s 171ms/step - loss: 0.0013 - val_loss: 0.0012\n",
      "Epoch 14/100\n",
      "24/24 [==============================] - 4s 169ms/step - loss: 0.0013 - val_loss: 0.0017\n",
      "Epoch 15/100\n",
      "24/24 [==============================] - 4s 166ms/step - loss: 0.0013 - val_loss: 0.0011\n",
      "Epoch 16/100\n",
      "24/24 [==============================] - 4s 168ms/step - loss: 0.0011 - val_loss: 9.9129e-04\n",
      "Epoch 17/100\n",
      "24/24 [==============================] - 4s 169ms/step - loss: 0.0010 - val_loss: 0.0017\n",
      "Epoch 18/100\n",
      "24/24 [==============================] - 4s 177ms/step - loss: 0.0011 - val_loss: 8.2872e-04\n",
      "Epoch 19/100\n",
      "24/24 [==============================] - 4s 172ms/step - loss: 9.9031e-04 - val_loss: 8.7730e-04\n",
      "Epoch 20/100\n",
      "24/24 [==============================] - 4s 180ms/step - loss: 0.0011 - val_loss: 9.0450e-04\n",
      "Epoch 21/100\n",
      "24/24 [==============================] - 4s 176ms/step - loss: 0.0011 - val_loss: 7.7717e-04\n",
      "Epoch 22/100\n",
      "24/24 [==============================] - 4s 169ms/step - loss: 8.7371e-04 - val_loss: 7.1645e-04\n",
      "Epoch 23/100\n",
      "24/24 [==============================] - 4s 169ms/step - loss: 7.7768e-04 - val_loss: 6.7608e-04\n",
      "Epoch 24/100\n",
      "24/24 [==============================] - 4s 170ms/step - loss: 7.8132e-04 - val_loss: 6.3877e-04\n",
      "Epoch 25/100\n",
      "24/24 [==============================] - 4s 174ms/step - loss: 8.5879e-04 - val_loss: 0.0011\n",
      "Epoch 26/100\n",
      "24/24 [==============================] - 4s 174ms/step - loss: 8.4265e-04 - val_loss: 6.8542e-04\n",
      "Epoch 27/100\n",
      "24/24 [==============================] - 4s 170ms/step - loss: 7.8094e-04 - val_loss: 8.7902e-04\n",
      "Epoch 28/100\n",
      "24/24 [==============================] - 4s 170ms/step - loss: 8.5500e-04 - val_loss: 8.1568e-04\n",
      "Epoch 29/100\n",
      "24/24 [==============================] - 4s 169ms/step - loss: 6.6140e-04 - val_loss: 7.0173e-04\n",
      "Epoch 30/100\n",
      "24/24 [==============================] - 4s 167ms/step - loss: 6.5997e-04 - val_loss: 6.3483e-04\n",
      "Epoch 31/100\n",
      "24/24 [==============================] - 4s 165ms/step - loss: 6.6143e-04 - val_loss: 5.7592e-04\n",
      "Epoch 32/100\n",
      "24/24 [==============================] - 4s 169ms/step - loss: 7.2606e-04 - val_loss: 5.8722e-04\n",
      "Epoch 33/100\n",
      "24/24 [==============================] - 4s 169ms/step - loss: 6.3555e-04 - val_loss: 5.5384e-04\n",
      "Epoch 34/100\n",
      "24/24 [==============================] - 4s 175ms/step - loss: 5.7622e-04 - val_loss: 5.7492e-04\n",
      "Epoch 35/100\n",
      "24/24 [==============================] - 4s 168ms/step - loss: 5.9705e-04 - val_loss: 5.1782e-04\n",
      "Epoch 36/100\n",
      "24/24 [==============================] - 4s 169ms/step - loss: 5.6815e-04 - val_loss: 5.9752e-04\n",
      "Epoch 37/100\n",
      "24/24 [==============================] - 4s 167ms/step - loss: 5.6325e-04 - val_loss: 6.6087e-04\n",
      "Epoch 38/100\n",
      "24/24 [==============================] - 4s 167ms/step - loss: 5.9375e-04 - val_loss: 8.2566e-04\n",
      "Epoch 39/100\n",
      "24/24 [==============================] - 4s 168ms/step - loss: 5.9827e-04 - val_loss: 6.8142e-04\n",
      "Epoch 40/100\n",
      "24/24 [==============================] - 4s 168ms/step - loss: 5.2324e-04 - val_loss: 4.6862e-04\n",
      "Epoch 41/100\n",
      "24/24 [==============================] - 4s 173ms/step - loss: 5.0393e-04 - val_loss: 5.4678e-04\n",
      "Epoch 42/100\n",
      "24/24 [==============================] - 4s 176ms/step - loss: 5.2728e-04 - val_loss: 5.2082e-04\n",
      "Epoch 43/100\n",
      "24/24 [==============================] - 4s 166ms/step - loss: 5.3608e-04 - val_loss: 6.1627e-04\n",
      "Epoch 44/100\n",
      "24/24 [==============================] - 4s 169ms/step - loss: 5.1515e-04 - val_loss: 6.5824e-04\n",
      "Epoch 45/100\n",
      "24/24 [==============================] - 4s 170ms/step - loss: 4.8569e-04 - val_loss: 4.4593e-04\n",
      "Epoch 46/100\n",
      "24/24 [==============================] - 4s 170ms/step - loss: 4.8100e-04 - val_loss: 4.3538e-04\n",
      "Epoch 47/100\n",
      "24/24 [==============================] - 4s 174ms/step - loss: 4.5024e-04 - val_loss: 5.5764e-04\n",
      "Epoch 48/100\n",
      "24/24 [==============================] - 4s 175ms/step - loss: 4.5031e-04 - val_loss: 4.4636e-04\n",
      "Epoch 49/100\n",
      "24/24 [==============================] - 4s 173ms/step - loss: 4.4416e-04 - val_loss: 4.3873e-04\n",
      "Epoch 50/100\n",
      "24/24 [==============================] - 4s 162ms/step - loss: 4.3927e-04 - val_loss: 3.9927e-04\n",
      "Epoch 51/100\n",
      "24/24 [==============================] - 4s 162ms/step - loss: 4.1057e-04 - val_loss: 3.7685e-04\n",
      "Epoch 52/100\n",
      "24/24 [==============================] - 4s 159ms/step - loss: 4.2930e-04 - val_loss: 3.5328e-04\n",
      "Epoch 53/100\n",
      "24/24 [==============================] - 4s 161ms/step - loss: 4.5834e-04 - val_loss: 3.4407e-04\n",
      "Epoch 54/100\n",
      "24/24 [==============================] - 4s 168ms/step - loss: 4.1008e-04 - val_loss: 3.7135e-04\n",
      "Epoch 55/100\n",
      "24/24 [==============================] - 4s 166ms/step - loss: 3.9323e-04 - val_loss: 3.2241e-04\n",
      "Epoch 56/100\n",
      "24/24 [==============================] - 4s 166ms/step - loss: 4.1967e-04 - val_loss: 3.9130e-04\n",
      "Epoch 57/100\n",
      "24/24 [==============================] - 4s 171ms/step - loss: 4.0194e-04 - val_loss: 4.3762e-04\n",
      "Epoch 58/100\n",
      "24/24 [==============================] - 4s 171ms/step - loss: 4.6142e-04 - val_loss: 7.8490e-04\n",
      "Epoch 59/100\n",
      "24/24 [==============================] - 4s 166ms/step - loss: 3.9091e-04 - val_loss: 3.0864e-04\n",
      "Epoch 60/100\n",
      "24/24 [==============================] - 4s 161ms/step - loss: 4.7322e-04 - val_loss: 3.3256e-04\n",
      "Epoch 61/100\n",
      "24/24 [==============================] - 4s 159ms/step - loss: 4.7074e-04 - val_loss: 4.2334e-04\n",
      "Epoch 62/100\n",
      "24/24 [==============================] - 4s 161ms/step - loss: 3.7192e-04 - val_loss: 3.6329e-04\n",
      "Epoch 63/100\n",
      "24/24 [==============================] - 4s 161ms/step - loss: 3.5271e-04 - val_loss: 4.3007e-04\n",
      "Epoch 64/100\n",
      "24/24 [==============================] - 4s 164ms/step - loss: 4.2676e-04 - val_loss: 6.2117e-04\n",
      "Epoch 65/100\n",
      "24/24 [==============================] - 4s 164ms/step - loss: 4.4859e-04 - val_loss: 4.6112e-04\n",
      "Epoch 66/100\n",
      "24/24 [==============================] - 4s 161ms/step - loss: 3.9274e-04 - val_loss: 3.3122e-04\n",
      "Epoch 67/100\n",
      "24/24 [==============================] - 4s 160ms/step - loss: 3.3912e-04 - val_loss: 2.9455e-04\n",
      "Epoch 68/100\n",
      "24/24 [==============================] - 4s 160ms/step - loss: 3.4051e-04 - val_loss: 4.9026e-04\n",
      "Epoch 69/100\n",
      "24/24 [==============================] - 4s 162ms/step - loss: 3.5174e-04 - val_loss: 8.0438e-04\n",
      "Epoch 70/100\n",
      "24/24 [==============================] - 4s 163ms/step - loss: 3.8977e-04 - val_loss: 3.6523e-04\n",
      "Epoch 71/100\n",
      "24/24 [==============================] - 4s 175ms/step - loss: 3.5095e-04 - val_loss: 2.8433e-04\n",
      "Epoch 72/100\n",
      "24/24 [==============================] - 4s 169ms/step - loss: 3.2701e-04 - val_loss: 3.4443e-04\n",
      "Epoch 73/100\n",
      "24/24 [==============================] - 4s 162ms/step - loss: 3.3604e-04 - val_loss: 2.8140e-04\n",
      "Epoch 74/100\n",
      "24/24 [==============================] - 4s 172ms/step - loss: 3.4452e-04 - val_loss: 3.5409e-04\n",
      "Epoch 75/100\n",
      "24/24 [==============================] - 4s 160ms/step - loss: 3.4846e-04 - val_loss: 6.1550e-04\n",
      "Epoch 76/100\n",
      "24/24 [==============================] - 4s 159ms/step - loss: 4.2307e-04 - val_loss: 3.0190e-04\n",
      "Epoch 77/100\n",
      "24/24 [==============================] - 4s 161ms/step - loss: 5.0300e-04 - val_loss: 5.7538e-04\n",
      "Epoch 78/100\n",
      "24/24 [==============================] - 4s 164ms/step - loss: 4.3630e-04 - val_loss: 3.0791e-04\n",
      "Epoch 79/100\n",
      "24/24 [==============================] - 4s 160ms/step - loss: 3.5157e-04 - val_loss: 3.6842e-04\n",
      "Epoch 80/100\n",
      "24/24 [==============================] - 4s 162ms/step - loss: 3.3261e-04 - val_loss: 3.2274e-04\n",
      "Epoch 81/100\n",
      "24/24 [==============================] - 4s 160ms/step - loss: 3.4157e-04 - val_loss: 2.7834e-04\n",
      "Epoch 82/100\n",
      "24/24 [==============================] - 4s 162ms/step - loss: 3.2754e-04 - val_loss: 2.9784e-04\n",
      "Epoch 83/100\n",
      "24/24 [==============================] - 4s 168ms/step - loss: 3.1480e-04 - val_loss: 3.0237e-04\n",
      "Epoch 84/100\n",
      "24/24 [==============================] - 4s 160ms/step - loss: 3.2783e-04 - val_loss: 4.1953e-04\n",
      "Epoch 85/100\n",
      "24/24 [==============================] - 4s 160ms/step - loss: 3.2670e-04 - val_loss: 0.0011\n",
      "Epoch 86/100\n",
      "24/24 [==============================] - 4s 162ms/step - loss: 3.9330e-04 - val_loss: 3.3190e-04\n",
      "Epoch 87/100\n",
      "24/24 [==============================] - 4s 165ms/step - loss: 4.5179e-04 - val_loss: 3.8115e-04\n",
      "Epoch 88/100\n",
      "24/24 [==============================] - 4s 168ms/step - loss: 4.1477e-04 - val_loss: 4.6722e-04\n",
      "Epoch 89/100\n",
      "24/24 [==============================] - 4s 160ms/step - loss: 3.7764e-04 - val_loss: 2.8815e-04\n",
      "Epoch 90/100\n",
      "24/24 [==============================] - 4s 163ms/step - loss: 3.0709e-04 - val_loss: 3.9358e-04\n",
      "Epoch 91/100\n",
      "24/24 [==============================] - 4s 160ms/step - loss: 2.8889e-04 - val_loss: 2.9997e-04\n",
      "Epoch 92/100\n",
      "24/24 [==============================] - 4s 162ms/step - loss: 2.8742e-04 - val_loss: 3.6397e-04\n",
      "Epoch 93/100\n",
      "24/24 [==============================] - 4s 162ms/step - loss: 3.1918e-04 - val_loss: 5.0757e-04\n",
      "Epoch 94/100\n",
      "24/24 [==============================] - 4s 161ms/step - loss: 3.6542e-04 - val_loss: 4.3970e-04\n",
      "Epoch 95/100\n",
      "24/24 [==============================] - 4s 159ms/step - loss: 3.4933e-04 - val_loss: 3.4806e-04\n",
      "Epoch 96/100\n",
      "24/24 [==============================] - 4s 164ms/step - loss: 3.1993e-04 - val_loss: 2.6222e-04\n",
      "Epoch 97/100\n",
      "24/24 [==============================] - 4s 160ms/step - loss: 2.9374e-04 - val_loss: 3.9074e-04\n",
      "Epoch 98/100\n",
      "24/24 [==============================] - 4s 163ms/step - loss: 2.9240e-04 - val_loss: 2.8684e-04\n",
      "Epoch 99/100\n",
      "24/24 [==============================] - 4s 161ms/step - loss: 2.8084e-04 - val_loss: 2.5635e-04\n",
      "Epoch 100/100\n",
      "24/24 [==============================] - 4s 161ms/step - loss: 2.9603e-04 - val_loss: 2.9244e-04\n"
     ]
    },
    {
     "data": {
      "text/plain": [
       "<keras.callbacks.History at 0x29ef74769e0>"
      ]
     },
     "execution_count": 9,
     "metadata": {},
     "output_type": "execute_result"
    }
   ],
   "source": [
    "# 9. Fit mô hình với dữ liệu train\n",
    "model.fit(X_train, y_train, validation_data=(X_test, ytest), epochs=100, batch_size=64, verbose=1)"
   ]
  },
  {
   "cell_type": "code",
   "execution_count": 10,
   "id": "11429718-53af-460b-bc27-6339c6f5f98e",
   "metadata": {},
   "outputs": [
    {
     "name": "stdout",
     "output_type": "stream",
     "text": [
      "47/47 [==============================] - 3s 35ms/step\n",
      "22/22 [==============================] - 1s 34ms/step\n"
     ]
    }
   ],
   "source": [
    "# 10. Dự báo dữ liệu test\n",
    "train_predict = model.predict(X_train)\n",
    "y_pred = model.predict(X_test)"
   ]
  },
  {
   "cell_type": "code",
   "execution_count": 11,
   "id": "325b6e6a-fb3e-4f67-a484-014e7ddb4183",
   "metadata": {},
   "outputs": [],
   "source": [
    "# 11. Chuẩn hóa dữ liệu y_pred\n",
    "train_predict = scaler.inverse_transform(train_predict)\n",
    "y_pred = scaler.inverse_transform(y_pred)"
   ]
  },
  {
   "cell_type": "code",
   "execution_count": 12,
   "id": "b964944b-407f-425e-9fbd-d7cd9e12b40a",
   "metadata": {
    "tags": []
   },
   "outputs": [
    {
     "name": "stdout",
     "output_type": "stream",
     "text": [
      "Mean Absolute Error (MAE): 32994.86747802552\n",
      "Mean Absolute Percentage Error (MAPE): 7923743.265470598\n",
      "Root Mean Square Error (RMSE): 36272.19140218955\n"
     ]
    }
   ],
   "source": [
    "# 12. Tính RMSE, MAPE, MAE\n",
    "from sklearn.metrics import mean_absolute_error, mean_squared_error, mean_absolute_percentage_error\n",
    "\n",
    "mae = mean_absolute_error(ytest, y_pred)\n",
    "mape = mean_absolute_percentage_error(ytest, y_pred)\n",
    "rmse = np.sqrt(mean_squared_error(ytest, y_pred))\n",
    "\n",
    "print(\"Mean Absolute Error (MAE):\", mae)\n",
    "print(\"Mean Absolute Percentage Error (MAPE):\", mape * 100)\n",
    "print(\"Root Mean Square Error (RMSE):\", rmse)"
   ]
  },
  {
   "cell_type": "code",
   "execution_count": 13,
   "id": "2e271a5d-d3ba-478b-ab4d-d877f6725302",
   "metadata": {
    "tags": []
   },
   "outputs": [],
   "source": [
    "# 13. Hàm dự báo\n",
    "def forecast_days(n_days):\n",
    "    x_input = test_data[-100:].reshape(1, -1)\n",
    "    temp_input = list(x_input[0])\n",
    "\n",
    "    lst_output = []\n",
    "    i = 0\n",
    "    while i < n_days:\n",
    "        if len(temp_input) > 100:\n",
    "            x_input = np.array(temp_input[1:])\n",
    "            x_input = x_input.reshape(1, -1)\n",
    "            x_input = x_input.reshape((1, time_step, 1))\n",
    "            yhat = model.predict(x_input, verbose=0)\n",
    "            temp_input.extend(yhat[0].tolist())\n",
    "            temp_input = temp_input[1:]\n",
    "            lst_output.extend(yhat.tolist())\n",
    "            i += 1\n",
    "        else:\n",
    "            x_input = x_input.reshape((1, time_step, 1))\n",
    "            yhat = model.predict(x_input, verbose=0)\n",
    "            temp_input.extend(yhat[0].tolist())\n",
    "            lst_output.extend(yhat.tolist())\n",
    "            i += 1\n",
    "    return lst_output"
   ]
  },
  {
   "cell_type": "code",
   "execution_count": 14,
   "id": "12343b63-3464-4e24-bf18-1f00bb17e507",
   "metadata": {
    "tags": []
   },
   "outputs": [],
   "source": [
    "# 14. Dự báo 30, 60, 90 ngày tiếp theo\n",
    "forecast_30 = forecast_days(30)\n",
    "forecast_60 = forecast_days(60)\n",
    "forecast_90 = forecast_days(90)"
   ]
  },
  {
   "cell_type": "code",
   "execution_count": 15,
   "id": "b4063bc9-d94d-471f-8117-331d74e51408",
   "metadata": {
    "tags": []
   },
   "outputs": [
    {
     "name": "stdout",
     "output_type": "stream",
     "text": [
      "Dự báo cho 30 ngày tiếp theo: [[0.8994076251983643], [0.8801286816596985], [0.8606369495391846], [0.8446110486984253], [0.831110954284668], [0.8191230297088623], [0.8080902099609375], [0.7977810502052307], [0.7881176471710205], [0.7790540456771851], [0.7705220580101013], [0.7624194025993347], [0.7546199560165405], [0.7469898462295532], [0.7394016981124878], [0.7317448854446411], [0.7239303588867188], [0.7158918976783752], [0.7075863480567932], [0.6989906430244446], [0.690099835395813], [0.6809240579605103], [0.6714859008789062], [0.6618167757987976], [0.6519548296928406], [0.6419424414634705], [0.6318241357803345], [0.6216442584991455], [0.6114454865455627], [0.6012681722640991]]\n"
     ]
    }
   ],
   "source": [
    "# 15. In ra dự đoán cho 30 ngày tiếp theo\n",
    "print(\"Dự báo cho 30 ngày tiếp theo:\", forecast_30)"
   ]
  },
  {
   "cell_type": "code",
   "execution_count": 16,
   "id": "67077348-1c5e-4d27-b85b-d6198039e6db",
   "metadata": {
    "tags": []
   },
   "outputs": [
    {
     "name": "stdout",
     "output_type": "stream",
     "text": [
      "Dự báo cho 60 ngày tiếp theo: [[0.8994076251983643], [0.8801286816596985], [0.8606369495391846], [0.8446110486984253], [0.831110954284668], [0.8191230297088623], [0.8080902099609375], [0.7977810502052307], [0.7881176471710205], [0.7790540456771851], [0.7705220580101013], [0.7624194025993347], [0.7546199560165405], [0.7469898462295532], [0.7394016981124878], [0.7317448854446411], [0.7239303588867188], [0.7158918976783752], [0.7075863480567932], [0.6989906430244446], [0.690099835395813], [0.6809240579605103], [0.6714859008789062], [0.6618167757987976], [0.6519548296928406], [0.6419424414634705], [0.6318241357803345], [0.6216442584991455], [0.6114454865455627], [0.6012681722640991], [0.5911487340927124], [0.5811201333999634], [0.5712107419967651], [0.5614446997642517], [0.5518420338630676], [0.5424193143844604], [0.5331891179084778], [0.5241612195968628], [0.5153428912162781], [0.5067391395568848], [0.4983533024787903], [0.4901873469352722], [0.48224207758903503], [0.474517822265625], [0.46701428294181824], [0.4597310721874237], [0.4526674449443817], [0.44582271575927734], [0.4391964375972748], [0.4327879548072815], [0.4265969395637512], [0.42062288522720337], [0.41486525535583496], [0.40932396054267883], [0.4039980471134186], [0.398887038230896], [0.39398977160453796], [0.3893052637577057], [0.3848316967487335], [0.3805675506591797]]\n"
     ]
    }
   ],
   "source": [
    "# 15. In ra dự đoán cho 60 ngày tiếp theo\n",
    "print(\"Dự báo cho 60 ngày tiếp theo:\", forecast_60)"
   ]
  },
  {
   "cell_type": "code",
   "execution_count": 17,
   "id": "64491d29-b028-4911-924a-472619538172",
   "metadata": {
    "tags": []
   },
   "outputs": [
    {
     "name": "stdout",
     "output_type": "stream",
     "text": [
      "Dự báo cho 90 ngày tiếp theo: [[0.8994076251983643], [0.8801286816596985], [0.8606369495391846], [0.8446110486984253], [0.831110954284668], [0.8191230297088623], [0.8080902099609375], [0.7977810502052307], [0.7881176471710205], [0.7790540456771851], [0.7705220580101013], [0.7624194025993347], [0.7546199560165405], [0.7469898462295532], [0.7394016981124878], [0.7317448854446411], [0.7239303588867188], [0.7158918976783752], [0.7075863480567932], [0.6989906430244446], [0.690099835395813], [0.6809240579605103], [0.6714859008789062], [0.6618167757987976], [0.6519548296928406], [0.6419424414634705], [0.6318241357803345], [0.6216442584991455], [0.6114454865455627], [0.6012681722640991], [0.5911487340927124], [0.5811201333999634], [0.5712107419967651], [0.5614446997642517], [0.5518420338630676], [0.5424193143844604], [0.5331891179084778], [0.5241612195968628], [0.5153428912162781], [0.5067391395568848], [0.4983533024787903], [0.4901873469352722], [0.48224207758903503], [0.474517822265625], [0.46701428294181824], [0.4597310721874237], [0.4526674449443817], [0.44582271575927734], [0.4391964375972748], [0.4327879548072815], [0.4265969395637512], [0.42062288522720337], [0.41486525535583496], [0.40932396054267883], [0.4039980471134186], [0.398887038230896], [0.39398977160453796], [0.3893052637577057], [0.3848316967487335], [0.3805675506591797], [0.3765104115009308], [0.37265777587890625], [0.3690069317817688], [0.3655543923377991], [0.3622966408729553], [0.35922983288764954], [0.35634973645210266], [0.3536519706249237], [0.3511319160461426], [0.3487846851348877], [0.34660542011260986], [0.3445889949798584], [0.34273019433021545], [0.3410239517688751], [0.3394651710987091], [0.3380487561225891], [0.3367696702480316], [0.3356229066848755], [0.3346036672592163], [0.33370712399482727], [0.3329288363456726], [0.33226439356803894], [0.3317092955112457], [0.3312595784664154], [0.330911248922348], [0.33066028356552124], [0.33050337433815], [0.3304367661476135], [0.3304571807384491], [0.33056163787841797]]\n"
     ]
    }
   ],
   "source": [
    "# 15. In ra dự đoán cho 90 ngày tiếp theo\n",
    "print(\"Dự báo cho 90 ngày tiếp theo:\", forecast_90)"
   ]
  },
  {
   "cell_type": "code",
   "execution_count": 18,
   "id": "3dd6ded5-fc67-4904-a0fd-59c167779a17",
   "metadata": {
    "tags": []
   },
   "outputs": [
    {
     "data": {
      "image/png": "[encoded data removed]",
      "text/plain": [
       "<Figure size 640x480 with 1 Axes>"
      ]
     },
     "metadata": {},
     "output_type": "display_data"
    }
   ],
   "source": [
    "# 16. Vẽ hình\n",
    "\n",
    "# Vẽ dữ liệu kiểm tra\n",
    "test_data_index = pd.RangeIndex(start=train_size, stop=train_size + test_size)\n",
    "plt.plot(test_data_index, scaler.inverse_transform(test_data), label='Test Data')\n",
    "\n",
    "# Vẽ dữ liệu dự đoán\n",
    "plt.plot(np.arange(train_size, train_size + len(y_pred)), y_pred, label='Predicted')\n",
    "\n",
    "# Vẽ dự báo 90, 60, 30 ngày\n",
    "plt.plot(np.arange(train_size + len(test_data), train_size + len(test_data) + len(forecast_90)), scaler.inverse_transform(forecast_90), label='Forecast 90 days')\n",
    "plt.plot(np.arange(train_size + len(test_data), train_size + len(test_data) + len(forecast_60)), scaler.inverse_transform(forecast_60), label='Forecast 60 days')\n",
    "plt.plot(np.arange(train_size + len(test_data), train_size + len(test_data) + len(forecast_30)), scaler.inverse_transform(forecast_30), label='Forecast 30 days')\n",
    "\n",
    "plt.title('LSTM - BTC Stock Price - Forecast 30, 60, 90 days')\n",
    "plt.legend()\n",
    "plt.xlabel('Day')\n",
    "plt.ylabel('Price')\n",
    "plt.show()\n"
   ]
  }
 ],
 "metadata": {
  "kernelspec": {
   "display_name": "Python 3 (ipykernel)",
   "language": "python",
   "name": "python3"
  },
  "language_info": {
   "codemirror_mode": {
    "name": "ipython",
    "version": 3
   },
   "file_extension": ".py",
   "mimetype": "text/x-python",
   "name": "python",
   "nbconvert_exporter": "python",
   "pygments_lexer": "ipython3",
   "version": "3.10.8"
  }
 },
 "nbformat": 4,
 "nbformat_minor": 5
}
