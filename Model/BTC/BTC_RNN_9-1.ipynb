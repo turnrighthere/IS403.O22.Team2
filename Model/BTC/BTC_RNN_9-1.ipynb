{
 "cells": [
  {
   "cell_type": "code",
   "execution_count": 1,
   "id": "26fdc348-5b74-4d88-a3dc-48da4d735e10",
   "metadata": {
    "tags": []
   },
   "outputs": [],
   "source": [
    "# 1. Import thư viện cần thiết\n",
    "import numpy as np\n",
    "import pandas as pd\n",
    "import matplotlib.pyplot as plt\n",
    "from sklearn.preprocessing import MinMaxScaler\n",
    "from keras.models import Sequential\n",
    "from keras.layers import Dense, SimpleRNN"
   ]
  },
  {
   "cell_type": "code",
   "execution_count": 2,
   "id": "a1081418-67c4-4366-9320-98d0255b8a87",
   "metadata": {
    "tags": []
   },
   "outputs": [
    {
     "name": "stdout",
     "output_type": "stream",
     "text": [
      "<class 'pandas.core.frame.DataFrame'>\n",
      "RangeIndex: 2285 entries, 0 to 2284\n",
      "Data columns (total 7 columns):\n",
      " #   Column     Non-Null Count  Dtype  \n",
      "---  ------     --------------  -----  \n",
      " 0   Date       2285 non-null   object \n",
      " 1   Open       2285 non-null   float64\n",
      " 2   High       2285 non-null   float64\n",
      " 3   Low        2285 non-null   float64\n",
      " 4   Price      2285 non-null   float64\n",
      " 5   Adj Close  2285 non-null   float64\n",
      " 6   Volume     2285 non-null   int64  \n",
      "dtypes: float64(5), int64(1), object(1)\n",
      "memory usage: 125.1+ KB\n"
     ]
    }
   ],
   "source": [
    "# 2. Đọc file csv và gắn index với giá Price\n",
    "df = pd.read_csv('pre_BTC-USD.csv')\n",
    "df = df.rename(columns={'Close': 'Price'})\n",
    "df1 = df.reset_index()['Price']\n",
    "df.info()"
   ]
  },
  {
   "cell_type": "code",
   "execution_count": 3,
   "id": "60ab42f9-e719-4186-ada8-ba47f31ad5a7",
   "metadata": {
    "tags": []
   },
   "outputs": [],
   "source": [
    "# 3. Scaler data\n",
    "scaler = MinMaxScaler(feature_range=(0, 1))\n",
    "df1 = scaler.fit_transform(np.array(df1).reshape(-1, 1))"
   ]
  },
  {
   "cell_type": "code",
   "execution_count": 4,
   "id": "5cc5eeb5-d78f-4ef1-87eb-4359c768e0d6",
   "metadata": {
    "tags": []
   },
   "outputs": [
    {
     "name": "stdout",
     "output_type": "stream",
     "text": [
      "Train shape: (2056, 1)\n",
      "Test shape: (229, 1)\n"
     ]
    }
   ],
   "source": [
    "# 4. Chia train test 9 - 1\n",
    "train_size = int(0.9 * len(df1))\n",
    "test_size = len(df1) - train_size\n",
    "\n",
    "# Lấy dữ liệu train và test\n",
    "train_data = df1[:train_size]\n",
    "test_data = df1[train_size:]\n",
    "\n",
    "print(\"Train shape:\", train_data.shape)\n",
    "print(\"Test shape:\", test_data.shape)"
   ]
  },
  {
   "cell_type": "code",
   "execution_count": 5,
   "id": "f9148ab3-7d6f-4b1f-ab40-c832747c52be",
   "metadata": {
    "tags": []
   },
   "outputs": [],
   "source": [
    "# 5. Hàm Create Dataset\n",
    "import numpy\n",
    "# convert an array of values into a dataset matrix\n",
    "def create_dataset(dataset, time_step=1):\n",
    "\tdataX, dataY = [], []\n",
    "\tfor i in range(len(dataset)-time_step-1):\n",
    "\t\ta = dataset[i:(i+time_step), 0]   ###i=0, X=0,1,2,3-----99   Y=100 \n",
    "\t\tdataX.append(a)\n",
    "\t\tdataY.append(dataset[i + time_step, 0])\n",
    "\treturn numpy.array(dataX), numpy.array(dataY)"
   ]
  },
  {
   "cell_type": "code",
   "execution_count": 6,
   "id": "72cc4c30-465a-4cab-8356-3baef4e1fa61",
   "metadata": {
    "tags": []
   },
   "outputs": [],
   "source": [
    "# 6. Reshape into X=t,t+1,t+2..t+99 and Y=t+100\n",
    "time_step = 100\n",
    "X_train, y_train = create_dataset(train_data, time_step)\n",
    "combined_data = np.concatenate((train_data[-time_step:], test_data))\n",
    "X_test, ytest = create_dataset(combined_data, time_step)"
   ]
  },
  {
   "cell_type": "code",
   "execution_count": 7,
   "id": "ea53b5fc-9693-41c0-94d4-433f02119225",
   "metadata": {
    "tags": []
   },
   "outputs": [],
   "source": [
    "# 7. Reshape input to be [samples, time steps, features] which is required for LSTM\n",
    "X_train = X_train.reshape(X_train.shape[0], X_train.shape[1], 1)\n",
    "X_test = X_test.reshape(X_test.shape[0], X_test.shape[1], 1)"
   ]
  },
  {
   "cell_type": "code",
   "execution_count": 8,
   "id": "15bfe900-abe3-40da-8cba-618fcf530d43",
   "metadata": {
    "tags": []
   },
   "outputs": [],
   "source": [
    "# 8. Define RNN Model\n",
    "model = Sequential()\n",
    "model.add(SimpleRNN(50, input_shape=(time_step, 1)))\n",
    "model.add(Dense(1))\n",
    "model.compile(loss='mean_squared_error', optimizer='adam')"
   ]
  },
  {
   "cell_type": "code",
   "execution_count": 9,
   "id": "cc691626-b5f4-467f-a47b-0c07f204f045",
   "metadata": {
    "tags": []
   },
   "outputs": [
    {
     "name": "stdout",
     "output_type": "stream",
     "text": [
      "Epoch 1/100\n",
      "31/31 [==============================] - 2s 22ms/step - loss: 0.0199 - val_loss: 0.0062\n",
      "Epoch 2/100\n",
      "31/31 [==============================] - 0s 14ms/step - loss: 0.0016 - val_loss: 0.0051\n",
      "Epoch 3/100\n",
      "31/31 [==============================] - 0s 15ms/step - loss: 0.0013 - val_loss: 0.0035\n",
      "Epoch 4/100\n",
      "31/31 [==============================] - 0s 14ms/step - loss: 0.0012 - val_loss: 0.0039\n",
      "Epoch 5/100\n",
      "31/31 [==============================] - 0s 14ms/step - loss: 0.0011 - val_loss: 0.0032\n",
      "Epoch 6/100\n",
      "31/31 [==============================] - 0s 15ms/step - loss: 9.8493e-04 - val_loss: 0.0032\n",
      "Epoch 7/100\n",
      "31/31 [==============================] - 0s 14ms/step - loss: 9.2607e-04 - val_loss: 0.0024\n",
      "Epoch 8/100\n",
      "31/31 [==============================] - 0s 14ms/step - loss: 8.5970e-04 - val_loss: 0.0019\n",
      "Epoch 9/100\n",
      "31/31 [==============================] - 1s 22ms/step - loss: 8.6372e-04 - val_loss: 0.0023\n",
      "Epoch 10/100\n",
      "31/31 [==============================] - 0s 14ms/step - loss: 7.6832e-04 - val_loss: 0.0022\n",
      "Epoch 11/100\n",
      "31/31 [==============================] - 0s 14ms/step - loss: 7.4656e-04 - val_loss: 0.0019\n",
      "Epoch 12/100\n",
      "31/31 [==============================] - 0s 14ms/step - loss: 6.9637e-04 - val_loss: 0.0017\n",
      "Epoch 13/100\n",
      "31/31 [==============================] - 0s 14ms/step - loss: 7.1602e-04 - val_loss: 0.0023\n",
      "Epoch 14/100\n",
      "31/31 [==============================] - 0s 15ms/step - loss: 6.5509e-04 - val_loss: 0.0017\n",
      "Epoch 15/100\n",
      "31/31 [==============================] - 0s 14ms/step - loss: 6.2924e-04 - val_loss: 0.0014\n",
      "Epoch 16/100\n",
      "31/31 [==============================] - 0s 15ms/step - loss: 6.1223e-04 - val_loss: 0.0017\n",
      "Epoch 17/100\n",
      "31/31 [==============================] - 0s 15ms/step - loss: 6.0023e-04 - val_loss: 0.0013\n",
      "Epoch 18/100\n",
      "31/31 [==============================] - 0s 14ms/step - loss: 5.7057e-04 - val_loss: 0.0015\n",
      "Epoch 19/100\n",
      "31/31 [==============================] - 0s 14ms/step - loss: 5.5130e-04 - val_loss: 0.0012\n",
      "Epoch 20/100\n",
      "31/31 [==============================] - 0s 15ms/step - loss: 5.5237e-04 - val_loss: 0.0011\n",
      "Epoch 21/100\n",
      "31/31 [==============================] - 1s 16ms/step - loss: 5.1282e-04 - val_loss: 0.0019\n",
      "Epoch 22/100\n",
      "31/31 [==============================] - 0s 16ms/step - loss: 5.3366e-04 - val_loss: 0.0011\n",
      "Epoch 23/100\n",
      "31/31 [==============================] - 1s 17ms/step - loss: 5.0479e-04 - val_loss: 0.0023\n",
      "Epoch 24/100\n",
      "31/31 [==============================] - 0s 15ms/step - loss: 4.9954e-04 - val_loss: 0.0013\n",
      "Epoch 25/100\n",
      "31/31 [==============================] - 0s 16ms/step - loss: 4.7075e-04 - val_loss: 0.0014\n",
      "Epoch 26/100\n",
      "31/31 [==============================] - 1s 16ms/step - loss: 5.0769e-04 - val_loss: 0.0014\n",
      "Epoch 27/100\n",
      "31/31 [==============================] - 1s 16ms/step - loss: 4.7751e-04 - val_loss: 0.0010\n",
      "Epoch 28/100\n",
      "31/31 [==============================] - 0s 15ms/step - loss: 4.7781e-04 - val_loss: 0.0013\n",
      "Epoch 29/100\n",
      "31/31 [==============================] - 0s 15ms/step - loss: 4.6079e-04 - val_loss: 0.0013\n",
      "Epoch 30/100\n",
      "31/31 [==============================] - 1s 16ms/step - loss: 4.1295e-04 - val_loss: 0.0013\n",
      "Epoch 31/100\n",
      "31/31 [==============================] - 0s 15ms/step - loss: 4.3054e-04 - val_loss: 9.3883e-04\n",
      "Epoch 32/100\n",
      "31/31 [==============================] - 0s 15ms/step - loss: 4.0502e-04 - val_loss: 8.5230e-04\n",
      "Epoch 33/100\n",
      "31/31 [==============================] - 0s 14ms/step - loss: 3.8384e-04 - val_loss: 9.0218e-04\n",
      "Epoch 34/100\n",
      "31/31 [==============================] - 0s 14ms/step - loss: 3.8725e-04 - val_loss: 9.7754e-04\n",
      "Epoch 35/100\n",
      "31/31 [==============================] - 1s 21ms/step - loss: 3.7154e-04 - val_loss: 9.9891e-04\n",
      "Epoch 36/100\n",
      "31/31 [==============================] - 0s 15ms/step - loss: 3.7092e-04 - val_loss: 9.3115e-04\n",
      "Epoch 37/100\n",
      "31/31 [==============================] - 0s 15ms/step - loss: 3.7142e-04 - val_loss: 8.3995e-04\n",
      "Epoch 38/100\n",
      "31/31 [==============================] - 0s 15ms/step - loss: 3.5284e-04 - val_loss: 0.0010\n",
      "Epoch 39/100\n",
      "31/31 [==============================] - 0s 16ms/step - loss: 3.5338e-04 - val_loss: 9.2521e-04\n",
      "Epoch 40/100\n",
      "31/31 [==============================] - 0s 15ms/step - loss: 3.3858e-04 - val_loss: 0.0013\n",
      "Epoch 41/100\n",
      "31/31 [==============================] - 0s 15ms/step - loss: 3.3480e-04 - val_loss: 7.5433e-04\n",
      "Epoch 42/100\n",
      "31/31 [==============================] - 0s 15ms/step - loss: 3.5562e-04 - val_loss: 7.5198e-04\n",
      "Epoch 43/100\n",
      "31/31 [==============================] - 0s 15ms/step - loss: 3.2544e-04 - val_loss: 7.7836e-04\n",
      "Epoch 44/100\n",
      "31/31 [==============================] - 0s 15ms/step - loss: 3.2192e-04 - val_loss: 8.7910e-04\n",
      "Epoch 45/100\n",
      "31/31 [==============================] - 0s 15ms/step - loss: 3.2232e-04 - val_loss: 0.0011\n",
      "Epoch 46/100\n",
      "31/31 [==============================] - 0s 15ms/step - loss: 3.1756e-04 - val_loss: 7.1456e-04\n",
      "Epoch 47/100\n",
      "31/31 [==============================] - 0s 15ms/step - loss: 3.1157e-04 - val_loss: 7.6168e-04\n",
      "Epoch 48/100\n",
      "31/31 [==============================] - 0s 14ms/step - loss: 3.2229e-04 - val_loss: 6.8612e-04\n",
      "Epoch 49/100\n",
      "31/31 [==============================] - 0s 15ms/step - loss: 2.9359e-04 - val_loss: 6.9890e-04\n",
      "Epoch 50/100\n",
      "31/31 [==============================] - 0s 14ms/step - loss: 3.0599e-04 - val_loss: 6.8514e-04\n",
      "Epoch 51/100\n",
      "31/31 [==============================] - 0s 14ms/step - loss: 3.0410e-04 - val_loss: 6.6623e-04\n",
      "Epoch 52/100\n",
      "31/31 [==============================] - 0s 14ms/step - loss: 2.8375e-04 - val_loss: 6.6651e-04\n",
      "Epoch 53/100\n",
      "31/31 [==============================] - 0s 15ms/step - loss: 3.1292e-04 - val_loss: 6.8457e-04\n",
      "Epoch 54/100\n",
      "31/31 [==============================] - 0s 15ms/step - loss: 2.9198e-04 - val_loss: 6.4825e-04\n",
      "Epoch 55/100\n",
      "31/31 [==============================] - 0s 14ms/step - loss: 2.7483e-04 - val_loss: 7.9544e-04\n",
      "Epoch 56/100\n",
      "31/31 [==============================] - 0s 14ms/step - loss: 2.6793e-04 - val_loss: 0.0012\n",
      "Epoch 57/100\n",
      "31/31 [==============================] - 0s 15ms/step - loss: 2.7861e-04 - val_loss: 7.4290e-04\n",
      "Epoch 58/100\n",
      "31/31 [==============================] - 0s 16ms/step - loss: 2.8153e-04 - val_loss: 7.3018e-04\n",
      "Epoch 59/100\n",
      "31/31 [==============================] - 0s 15ms/step - loss: 2.6422e-04 - val_loss: 6.4735e-04\n",
      "Epoch 60/100\n",
      "31/31 [==============================] - 0s 15ms/step - loss: 2.5936e-04 - val_loss: 6.2877e-04\n",
      "Epoch 61/100\n",
      "31/31 [==============================] - 0s 16ms/step - loss: 2.5198e-04 - val_loss: 6.2750e-04\n",
      "Epoch 62/100\n",
      "31/31 [==============================] - 1s 16ms/step - loss: 2.5734e-04 - val_loss: 6.0368e-04\n",
      "Epoch 63/100\n",
      "31/31 [==============================] - 0s 15ms/step - loss: 2.6004e-04 - val_loss: 6.4126e-04\n",
      "Epoch 64/100\n",
      "31/31 [==============================] - 0s 15ms/step - loss: 2.4589e-04 - val_loss: 0.0011\n",
      "Epoch 65/100\n",
      "31/31 [==============================] - 0s 14ms/step - loss: 2.5821e-04 - val_loss: 5.8787e-04\n",
      "Epoch 66/100\n",
      "31/31 [==============================] - 0s 15ms/step - loss: 2.4755e-04 - val_loss: 7.7515e-04\n",
      "Epoch 67/100\n",
      "31/31 [==============================] - 0s 15ms/step - loss: 2.6191e-04 - val_loss: 5.8138e-04\n",
      "Epoch 68/100\n",
      "31/31 [==============================] - 0s 14ms/step - loss: 2.4196e-04 - val_loss: 8.8513e-04\n",
      "Epoch 69/100\n",
      "31/31 [==============================] - 0s 15ms/step - loss: 2.4878e-04 - val_loss: 7.7480e-04\n",
      "Epoch 70/100\n",
      "31/31 [==============================] - 0s 15ms/step - loss: 2.4017e-04 - val_loss: 8.2657e-04\n",
      "Epoch 71/100\n",
      "31/31 [==============================] - 0s 15ms/step - loss: 2.4411e-04 - val_loss: 5.6913e-04\n",
      "Epoch 72/100\n",
      "31/31 [==============================] - 0s 15ms/step - loss: 2.4185e-04 - val_loss: 5.6360e-04\n",
      "Epoch 73/100\n",
      "31/31 [==============================] - 0s 15ms/step - loss: 2.3049e-04 - val_loss: 7.6200e-04\n",
      "Epoch 74/100\n",
      "31/31 [==============================] - 0s 15ms/step - loss: 2.2543e-04 - val_loss: 5.6802e-04\n",
      "Epoch 75/100\n",
      "31/31 [==============================] - 0s 15ms/step - loss: 2.2791e-04 - val_loss: 5.7138e-04\n",
      "Epoch 76/100\n",
      "31/31 [==============================] - 0s 15ms/step - loss: 2.2557e-04 - val_loss: 5.5890e-04\n",
      "Epoch 77/100\n",
      "31/31 [==============================] - 1s 21ms/step - loss: 2.4026e-04 - val_loss: 5.9273e-04\n",
      "Epoch 78/100\n",
      "31/31 [==============================] - 1s 17ms/step - loss: 2.4388e-04 - val_loss: 0.0013\n",
      "Epoch 79/100\n",
      "31/31 [==============================] - 1s 17ms/step - loss: 2.4421e-04 - val_loss: 5.6031e-04\n",
      "Epoch 80/100\n",
      "31/31 [==============================] - 1s 17ms/step - loss: 2.1182e-04 - val_loss: 5.9917e-04\n",
      "Epoch 81/100\n",
      "31/31 [==============================] - 1s 16ms/step - loss: 2.2367e-04 - val_loss: 5.8466e-04\n",
      "Epoch 82/100\n",
      "31/31 [==============================] - 1s 17ms/step - loss: 2.1585e-04 - val_loss: 5.5442e-04\n",
      "Epoch 83/100\n",
      "31/31 [==============================] - 0s 15ms/step - loss: 2.2007e-04 - val_loss: 5.4012e-04\n",
      "Epoch 84/100\n",
      "31/31 [==============================] - 0s 15ms/step - loss: 2.2482e-04 - val_loss: 5.6796e-04\n",
      "Epoch 85/100\n",
      "31/31 [==============================] - 0s 15ms/step - loss: 2.2955e-04 - val_loss: 6.0010e-04\n",
      "Epoch 86/100\n",
      "31/31 [==============================] - 0s 15ms/step - loss: 2.0878e-04 - val_loss: 6.2586e-04\n",
      "Epoch 87/100\n",
      "31/31 [==============================] - 0s 15ms/step - loss: 2.1691e-04 - val_loss: 7.0789e-04\n",
      "Epoch 88/100\n",
      "31/31 [==============================] - 0s 15ms/step - loss: 2.1676e-04 - val_loss: 6.6440e-04\n",
      "Epoch 89/100\n",
      "31/31 [==============================] - 0s 15ms/step - loss: 2.2740e-04 - val_loss: 6.7966e-04\n",
      "Epoch 90/100\n",
      "31/31 [==============================] - 0s 15ms/step - loss: 2.2696e-04 - val_loss: 5.3093e-04\n",
      "Epoch 91/100\n",
      "31/31 [==============================] - 0s 15ms/step - loss: 2.2706e-04 - val_loss: 5.5017e-04\n",
      "Epoch 92/100\n",
      "31/31 [==============================] - 0s 15ms/step - loss: 2.2359e-04 - val_loss: 5.4258e-04\n",
      "Epoch 93/100\n",
      "31/31 [==============================] - 0s 15ms/step - loss: 2.1661e-04 - val_loss: 5.4112e-04\n",
      "Epoch 94/100\n",
      "31/31 [==============================] - 0s 15ms/step - loss: 2.1467e-04 - val_loss: 5.3560e-04\n",
      "Epoch 95/100\n",
      "31/31 [==============================] - 0s 15ms/step - loss: 2.0217e-04 - val_loss: 5.9907e-04\n",
      "Epoch 96/100\n",
      "31/31 [==============================] - 0s 15ms/step - loss: 2.0462e-04 - val_loss: 7.0767e-04\n",
      "Epoch 97/100\n",
      "31/31 [==============================] - 0s 15ms/step - loss: 2.1583e-04 - val_loss: 6.7469e-04\n",
      "Epoch 98/100\n",
      "31/31 [==============================] - 0s 15ms/step - loss: 2.0120e-04 - val_loss: 5.5037e-04\n",
      "Epoch 99/100\n",
      "31/31 [==============================] - 0s 15ms/step - loss: 1.9957e-04 - val_loss: 6.3691e-04\n",
      "Epoch 100/100\n",
      "31/31 [==============================] - 1s 16ms/step - loss: 2.0728e-04 - val_loss: 5.5482e-04\n"
     ]
    },
    {
     "data": {
      "text/plain": [
       "<keras.callbacks.History at 0x1cfee0fec20>"
      ]
     },
     "execution_count": 9,
     "metadata": {},
     "output_type": "execute_result"
    }
   ],
   "source": [
    "# 9. Fit mô hình với dữ liệu train\n",
    "model.fit(X_train, y_train, validation_data=(X_test, ytest), epochs=100, batch_size=64, verbose=1)"
   ]
  },
  {
   "cell_type": "code",
   "execution_count": 10,
   "id": "c55c37b5-5b6b-4482-8ef1-63d82cd60fae",
   "metadata": {
    "tags": []
   },
   "outputs": [
    {
     "name": "stdout",
     "output_type": "stream",
     "text": [
      "62/62 [==============================] - 0s 5ms/step\n",
      "8/8 [==============================] - 0s 5ms/step\n"
     ]
    }
   ],
   "source": [
    "# 10. Dự báo dữ liệu test\n",
    "train_predict = model.predict(X_train)\n",
    "y_pred = model.predict(X_test)"
   ]
  },
  {
   "cell_type": "code",
   "execution_count": 11,
   "id": "e1ef089c-abd2-4072-9177-25ff22485fa8",
   "metadata": {
    "tags": []
   },
   "outputs": [],
   "source": [
    "# 11. Chuẩn hóa dữ liệu y_pred\n",
    "train_predict = scaler.inverse_transform(train_predict)\n",
    "y_pred = scaler.inverse_transform(y_pred)"
   ]
  },
  {
   "cell_type": "code",
   "execution_count": 12,
   "id": "6c14ba0c-354e-4514-a7ed-98b43cbcc1f9",
   "metadata": {
    "tags": []
   },
   "outputs": [
    {
     "name": "stdout",
     "output_type": "stream",
     "text": [
      "Mean Absolute Error (MAE): 51311.64496442192\n",
      "Mean Absolute Percentage Error (MAPE): 7447792.385948019\n",
      "Root Mean Square Error (RMSE): 52919.02091215523\n"
     ]
    }
   ],
   "source": [
    "# 12. Tính RMSE, MAPE, MAE\n",
    "from sklearn.metrics import mean_absolute_error, mean_squared_error, mean_absolute_percentage_error\n",
    "\n",
    "mae = mean_absolute_error(ytest, y_pred)\n",
    "mape = mean_absolute_percentage_error(ytest, y_pred)\n",
    "rmse = np.sqrt(mean_squared_error(ytest, y_pred))\n",
    "\n",
    "print(\"Mean Absolute Error (MAE):\", mae)\n",
    "print(\"Mean Absolute Percentage Error (MAPE):\", mape * 100)\n",
    "print(\"Root Mean Square Error (RMSE):\", rmse)"
   ]
  },
  {
   "cell_type": "code",
   "execution_count": 13,
   "id": "a858ddd6-d663-47e2-b024-95e269c52c71",
   "metadata": {
    "tags": []
   },
   "outputs": [],
   "source": [
    "# 13. Hàm dự báo\n",
    "def forecast_days(n_days):\n",
    "    x_input = test_data[-100:].reshape(1, -1)\n",
    "    temp_input = list(x_input[0])\n",
    "\n",
    "    lst_output = []\n",
    "    i = 0\n",
    "    while i < n_days:\n",
    "        if len(temp_input) > 100:\n",
    "            x_input = np.array(temp_input[1:])\n",
    "            x_input = x_input.reshape(1, -1)\n",
    "            x_input = x_input.reshape((1, time_step, 1))\n",
    "            yhat = model.predict(x_input, verbose=0)\n",
    "            temp_input.extend(yhat[0].tolist())\n",
    "            temp_input = temp_input[1:]\n",
    "            lst_output.extend(yhat.tolist())\n",
    "            i += 1\n",
    "        else:\n",
    "            x_input = x_input.reshape((1, time_step, 1))\n",
    "            yhat = model.predict(x_input, verbose=0)\n",
    "            temp_input.extend(yhat[0].tolist())\n",
    "            lst_output.extend(yhat.tolist())\n",
    "            i += 1\n",
    "    return lst_output"
   ]
  },
  {
   "cell_type": "code",
   "execution_count": 14,
   "id": "a3f20539-86f3-4c0d-ac02-6d3159836533",
   "metadata": {
    "tags": []
   },
   "outputs": [],
   "source": [
    "# 14. Dự báo 30, 60, 90 ngày tiếp theo\n",
    "forecast_30 = forecast_days(30)\n",
    "forecast_60 = forecast_days(60)\n",
    "forecast_90 = forecast_days(90)"
   ]
  },
  {
   "cell_type": "code",
   "execution_count": 15,
   "id": "e3ed23dc-59fe-4c17-aed7-762004a4dc86",
   "metadata": {
    "tags": []
   },
   "outputs": [
    {
     "name": "stdout",
     "output_type": "stream",
     "text": [
      "Dự báo cho 30 ngày tiếp theo: [[0.9159634709358215], [0.9074439406394958], [0.9028510451316833], [0.8995325565338135], [0.8987202048301697], [0.8859977722167969], [0.8824517130851746], [0.8811402320861816], [0.8756714463233948], [0.8726395964622498], [0.8669723272323608], [0.8666829466819763], [0.8599559664726257], [0.861297070980072], [0.8577468395233154], [0.8527519702911377], [0.8483659029006958], [0.8439483642578125], [0.8433405756950378], [0.8386324644088745], [0.8352378010749817], [0.8331084251403809], [0.8313732743263245], [0.8275407552719116], [0.8252813816070557], [0.8224506974220276], [0.820187509059906], [0.817899763584137], [0.815711259841919], [0.8122118711471558]]\n"
     ]
    }
   ],
   "source": [
    "# 15. In ra dự đoán cho 30 ngày tiếp theo\n",
    "print(\"Dự báo cho 30 ngày tiếp theo:\", forecast_30)"
   ]
  },
  {
   "cell_type": "code",
   "execution_count": 16,
   "id": "fbbbde1a-59a7-40bd-a4f7-cf5d05e1cda2",
   "metadata": {
    "tags": []
   },
   "outputs": [
    {
     "name": "stdout",
     "output_type": "stream",
     "text": [
      "Dự báo cho 60 ngày tiếp theo: [[0.9159634709358215], [0.9074439406394958], [0.9028510451316833], [0.8995325565338135], [0.8987202048301697], [0.8859977722167969], [0.8824517130851746], [0.8811402320861816], [0.8756714463233948], [0.8726395964622498], [0.8669723272323608], [0.8666829466819763], [0.8599559664726257], [0.861297070980072], [0.8577468395233154], [0.8527519702911377], [0.8483659029006958], [0.8439483642578125], [0.8433405756950378], [0.8386324644088745], [0.8352378010749817], [0.8331084251403809], [0.8313732743263245], [0.8275407552719116], [0.8252813816070557], [0.8224506974220276], [0.820187509059906], [0.817899763584137], [0.815711259841919], [0.8122118711471558], [0.8085179924964905], [0.8076568245887756], [0.8037860989570618], [0.8010246753692627], [0.7995426654815674], [0.7976122498512268], [0.7953059077262878], [0.7935986518859863], [0.7923446297645569], [0.7899819016456604], [0.788185715675354], [0.7864215970039368], [0.7839971780776978], [0.78190678358078], [0.7802661657333374], [0.7783857583999634], [0.7767995595932007], [0.7751273512840271], [0.7732580304145813], [0.7716256380081177], [0.7703799605369568], [0.7691603899002075], [0.7673808932304382], [0.7659053206443787], [0.7647060751914978], [0.7629693746566772], [0.7612981796264648], [0.7597134113311768], [0.7586820721626282], [0.7569670677185059]]\n"
     ]
    }
   ],
   "source": [
    "# 15. In ra dự đoán cho 60 ngày tiếp theo\n",
    "print(\"Dự báo cho 60 ngày tiếp theo:\", forecast_60)"
   ]
  },
  {
   "cell_type": "code",
   "execution_count": 17,
   "id": "09bec281-2bd7-4939-9482-db139601dec3",
   "metadata": {
    "tags": []
   },
   "outputs": [
    {
     "name": "stdout",
     "output_type": "stream",
     "text": [
      "Dự báo cho 90 ngày tiếp theo: [[0.9159634709358215], [0.9074439406394958], [0.9028510451316833], [0.8995325565338135], [0.8987202048301697], [0.8859977722167969], [0.8824517130851746], [0.8811402320861816], [0.8756714463233948], [0.8726395964622498], [0.8669723272323608], [0.8666829466819763], [0.8599559664726257], [0.861297070980072], [0.8577468395233154], [0.8527519702911377], [0.8483659029006958], [0.8439483642578125], [0.8433405756950378], [0.8386324644088745], [0.8352378010749817], [0.8331084251403809], [0.8313732743263245], [0.8275407552719116], [0.8252813816070557], [0.8224506974220276], [0.820187509059906], [0.817899763584137], [0.815711259841919], [0.8122118711471558], [0.8085179924964905], [0.8076568245887756], [0.8037860989570618], [0.8010246753692627], [0.7995426654815674], [0.7976122498512268], [0.7953059077262878], [0.7935986518859863], [0.7923446297645569], [0.7899819016456604], [0.788185715675354], [0.7864215970039368], [0.7839971780776978], [0.78190678358078], [0.7802661657333374], [0.7783857583999634], [0.7767995595932007], [0.7751273512840271], [0.7732580304145813], [0.7716256380081177], [0.7703799605369568], [0.7691603899002075], [0.7673808932304382], [0.7659053206443787], [0.7647060751914978], [0.7629693746566772], [0.7612981796264648], [0.7597134113311768], [0.7586820721626282], [0.7569670677185059], [0.7553696036338806], [0.7545632123947144], [0.753494143486023], [0.751929521560669], [0.7508800625801086], [0.75014328956604], [0.7486408948898315], [0.7473878264427185], [0.7466157078742981], [0.745570719242096], [0.7440462112426758], [0.7433134913444519], [0.742398738861084], [0.7411817908287048], [0.7401729822158813], [0.7394319176673889], [0.7384772896766663], [0.7374215126037598], [0.7367562651634216], [0.7358133792877197], [0.7348960638046265], [0.7340095043182373], [0.7331448197364807], [0.7322015166282654], [0.7312898635864258], [0.7305518388748169], [0.7296186089515686], [0.7287259697914124], [0.7279834151268005], [0.7272520065307617]]\n"
     ]
    }
   ],
   "source": [
    "# 15. In ra dự đoán cho 90 ngày tiếp theo\n",
    "print(\"Dự báo cho 90 ngày tiếp theo:\", forecast_90)"
   ]
  },
  {
   "cell_type": "code",
   "execution_count": 18,
   "id": "1a2ee735-ad92-4ff0-a51f-7fa1da4773fc",
   "metadata": {
    "tags": []
   },
   "outputs": [
    {
     "data": {
      "image/png": "[encoded data removed]",
      "text/plain": [
       "<Figure size 640x480 with 1 Axes>"
      ]
     },
     "metadata": {},
     "output_type": "display_data"
    }
   ],
   "source": [
    "# 16. Vẽ hình\n",
    "\n",
    "# Vẽ dữ liệu kiểm tra\n",
    "test_data_index = pd.RangeIndex(start=train_size, stop=train_size + test_size)\n",
    "plt.plot(test_data_index, scaler.inverse_transform(test_data), label='Test Data')\n",
    "\n",
    "# Vẽ dữ liệu dự đoán\n",
    "plt.plot(np.arange(train_size, train_size + len(y_pred)), y_pred, label='Predicted')\n",
    "\n",
    "# Vẽ dự báo 90, 60, 30 ngày\n",
    "plt.plot(np.arange(train_size + len(test_data), train_size + len(test_data) + len(forecast_90)), scaler.inverse_transform(forecast_90), label='Forecast 90 days')\n",
    "plt.plot(np.arange(train_size + len(test_data), train_size + len(test_data) + len(forecast_60)), scaler.inverse_transform(forecast_60), label='Forecast 60 days')\n",
    "plt.plot(np.arange(train_size + len(test_data), train_size + len(test_data) + len(forecast_30)), scaler.inverse_transform(forecast_30), label='Forecast 30 days')\n",
    "\n",
    "plt.title('RNN - BTC Stock Price - Forecast 30, 60, 90 days')\n",
    "plt.legend()\n",
    "plt.show()\n"
   ]
  }
 ],
 "metadata": {
  "kernelspec": {
   "display_name": "Python 3 (ipykernel)",
   "language": "python",
   "name": "python3"
  },
  "language_info": {
   "codemirror_mode": {
    "name": "ipython",
    "version": 3
   },
   "file_extension": ".py",
   "mimetype": "text/x-python",
   "name": "python",
   "nbconvert_exporter": "python",
   "pygments_lexer": "ipython3",
   "version": "3.10.8"
  }
 },
 "nbformat": 4,
 "nbformat_minor": 5
}
