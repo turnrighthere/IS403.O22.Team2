{
 "cells": [
  {
   "cell_type": "code",
   "execution_count": 1,
   "id": "d6e03734-7a73-489d-9cdc-84acf78c00e5",
   "metadata": {
    "tags": []
   },
   "outputs": [],
   "source": [
    "# 1. Import thư viện cần thiết\n",
    "import numpy as np\n",
    "import pandas as pd\n",
    "import matplotlib.pyplot as plt\n",
    "from sklearn.preprocessing import MinMaxScaler\n",
    "from keras.models import Sequential\n",
    "from keras.layers import Dense, LSTM"
   ]
  },
  {
   "cell_type": "code",
   "execution_count": 2,
   "id": "07adbc1b-a1d2-41ba-b0a6-73848cc36a2e",
   "metadata": {
    "tags": []
   },
   "outputs": [
    {
     "name": "stdout",
     "output_type": "stream",
     "text": [
      "<class 'pandas.core.frame.DataFrame'>\n",
      "RangeIndex: 2285 entries, 0 to 2284\n",
      "Data columns (total 7 columns):\n",
      " #   Column     Non-Null Count  Dtype  \n",
      "---  ------     --------------  -----  \n",
      " 0   Date       2285 non-null   object \n",
      " 1   Open       2285 non-null   float64\n",
      " 2   High       2285 non-null   float64\n",
      " 3   Low        2285 non-null   float64\n",
      " 4   Price      2285 non-null   float64\n",
      " 5   Adj Close  2285 non-null   float64\n",
      " 6   Volume     2285 non-null   int64  \n",
      "dtypes: float64(5), int64(1), object(1)\n",
      "memory usage: 125.1+ KB\n"
     ]
    }
   ],
   "source": [
    "# 2. Đọc file csv và gắn index với giá Price\n",
    "df = pd.read_csv('pre_BTC-USD.csv')\n",
    "df = df.rename(columns={'Close': 'Price'})\n",
    "df1 = df.reset_index()['Price']\n",
    "df.info()"
   ]
  },
  {
   "cell_type": "code",
   "execution_count": 3,
   "id": "823c305d-3c3c-46d7-ab97-99ea957bb915",
   "metadata": {
    "tags": []
   },
   "outputs": [],
   "source": [
    "# 3. Scaler data\n",
    "scaler = MinMaxScaler(feature_range=(0, 1))\n",
    "df1 = scaler.fit_transform(np.array(df1).reshape(-1, 1))"
   ]
  },
  {
   "cell_type": "code",
   "execution_count": 4,
   "id": "3c933b12-160d-4589-bda4-f6e0541be771",
   "metadata": {
    "tags": []
   },
   "outputs": [
    {
     "name": "stdout",
     "output_type": "stream",
     "text": [
      "Train shape: (2056, 1)\n",
      "Test shape: (229, 1)\n"
     ]
    }
   ],
   "source": [
    "# 4. Chia train test 9 - 1\n",
    "train_size = int(0.9 * len(df1))\n",
    "test_size = len(df1) - train_size\n",
    "\n",
    "# Lấy dữ liệu train và test\n",
    "train_data = df1[:train_size]\n",
    "test_data = df1[train_size:]\n",
    "\n",
    "print(\"Train shape:\", train_data.shape)\n",
    "print(\"Test shape:\", test_data.shape)"
   ]
  },
  {
   "cell_type": "code",
   "execution_count": 5,
   "id": "86d16400-4b94-40f8-b6ec-13ca9fae2127",
   "metadata": {
    "tags": []
   },
   "outputs": [],
   "source": [
    "# 5. Hàm Create Dataset\n",
    "import numpy\n",
    "# convert an array of values into a dataset matrix\n",
    "def create_dataset(dataset, time_step=1):\n",
    "\tdataX, dataY = [], []\n",
    "\tfor i in range(len(dataset)-time_step-1):\n",
    "\t\ta = dataset[i:(i+time_step), 0]   ###i=0, X=0,1,2,3-----99   Y=100 \n",
    "\t\tdataX.append(a)\n",
    "\t\tdataY.append(dataset[i + time_step, 0])\n",
    "\treturn numpy.array(dataX), numpy.array(dataY)"
   ]
  },
  {
   "cell_type": "code",
   "execution_count": 6,
   "id": "139117ad-87be-44e9-b6ec-91bf365f7d9b",
   "metadata": {
    "tags": []
   },
   "outputs": [],
   "source": [
    "# 6. Reshape into X=t,t+1,t+2..t+99 and Y=t+100\n",
    "time_step = 100\n",
    "X_train, y_train = create_dataset(train_data, time_step)\n",
    "combined_data = np.concatenate((train_data[-time_step:], test_data))\n",
    "X_test, ytest = create_dataset(combined_data, time_step)"
   ]
  },
  {
   "cell_type": "code",
   "execution_count": 7,
   "id": "f60d12b6-f562-48b8-99a5-d59b670f42c2",
   "metadata": {
    "tags": []
   },
   "outputs": [],
   "source": [
    "# 7. Reshape input to be [samples, time steps, features] which is required for LSTM\n",
    "X_train = X_train.reshape(X_train.shape[0], X_train.shape[1], 1)\n",
    "X_test = X_test.reshape(X_test.shape[0], X_test.shape[1], 1)"
   ]
  },
  {
   "cell_type": "code",
   "execution_count": 8,
   "id": "db87fc59-fb90-4e96-8eb0-7c65084b8ff6",
   "metadata": {
    "tags": []
   },
   "outputs": [],
   "source": [
    "# 8. Define LSTM Model\n",
    "model = Sequential()\n",
    "model.add(LSTM(50, return_sequences=True, input_shape=(100, 1)))\n",
    "model.add(LSTM(50, return_sequences=True))\n",
    "model.add(LSTM(50))\n",
    "model.add(Dense(1))\n",
    "model.compile(loss='mean_squared_error', optimizer='adam')"
   ]
  },
  {
   "cell_type": "code",
   "execution_count": 9,
   "id": "7d438015-03ba-433f-9c89-4bf4f6680ffe",
   "metadata": {
    "tags": []
   },
   "outputs": [
    {
     "name": "stdout",
     "output_type": "stream",
     "text": [
      "Epoch 1/100\n",
      "31/31 [==============================] - 13s 227ms/step - loss: 0.0174 - val_loss: 0.0129\n",
      "Epoch 2/100\n",
      "31/31 [==============================] - 5s 159ms/step - loss: 0.0021 - val_loss: 0.0071\n",
      "Epoch 3/100\n",
      "31/31 [==============================] - 5s 148ms/step - loss: 0.0018 - val_loss: 0.0038\n",
      "Epoch 4/100\n",
      "31/31 [==============================] - 5s 147ms/step - loss: 0.0016 - val_loss: 0.0054\n",
      "Epoch 5/100\n",
      "31/31 [==============================] - 5s 155ms/step - loss: 0.0015 - val_loss: 0.0046\n",
      "Epoch 6/100\n",
      "31/31 [==============================] - 5s 149ms/step - loss: 0.0014 - val_loss: 0.0062\n",
      "Epoch 7/100\n",
      "31/31 [==============================] - 5s 155ms/step - loss: 0.0013 - val_loss: 0.0028\n",
      "Epoch 8/100\n",
      "31/31 [==============================] - 5s 153ms/step - loss: 0.0013 - val_loss: 0.0018\n",
      "Epoch 9/100\n",
      "31/31 [==============================] - 5s 149ms/step - loss: 0.0012 - val_loss: 0.0043\n",
      "Epoch 10/100\n",
      "31/31 [==============================] - 5s 148ms/step - loss: 0.0011 - val_loss: 0.0028\n",
      "Epoch 11/100\n",
      "31/31 [==============================] - 5s 150ms/step - loss: 0.0010 - val_loss: 0.0030\n",
      "Epoch 12/100\n",
      "31/31 [==============================] - 5s 157ms/step - loss: 0.0012 - val_loss: 0.0015\n",
      "Epoch 13/100\n",
      "31/31 [==============================] - 5s 150ms/step - loss: 9.6864e-04 - val_loss: 0.0015\n",
      "Epoch 14/100\n",
      "31/31 [==============================] - 5s 149ms/step - loss: 9.0803e-04 - val_loss: 0.0015\n",
      "Epoch 15/100\n",
      "31/31 [==============================] - 5s 148ms/step - loss: 8.6840e-04 - val_loss: 0.0052\n",
      "Epoch 16/100\n",
      "31/31 [==============================] - 5s 146ms/step - loss: 8.8333e-04 - val_loss: 0.0013\n",
      "Epoch 17/100\n",
      "31/31 [==============================] - 5s 151ms/step - loss: 7.6063e-04 - val_loss: 0.0027\n",
      "Epoch 18/100\n",
      "31/31 [==============================] - 5s 150ms/step - loss: 6.8759e-04 - val_loss: 0.0014\n",
      "Epoch 19/100\n",
      "31/31 [==============================] - 5s 155ms/step - loss: 6.5991e-04 - val_loss: 0.0019\n",
      "Epoch 20/100\n",
      "31/31 [==============================] - 5s 150ms/step - loss: 7.0297e-04 - val_loss: 0.0017\n",
      "Epoch 21/100\n",
      "31/31 [==============================] - 5s 160ms/step - loss: 6.1052e-04 - val_loss: 0.0028\n",
      "Epoch 22/100\n",
      "31/31 [==============================] - 5s 148ms/step - loss: 5.6208e-04 - val_loss: 0.0013\n",
      "Epoch 23/100\n",
      "31/31 [==============================] - 5s 150ms/step - loss: 6.7217e-04 - val_loss: 0.0011\n",
      "Epoch 24/100\n",
      "31/31 [==============================] - 5s 151ms/step - loss: 5.3052e-04 - val_loss: 0.0010\n",
      "Epoch 25/100\n",
      "31/31 [==============================] - 5s 151ms/step - loss: 4.9522e-04 - val_loss: 0.0012\n",
      "Epoch 26/100\n",
      "31/31 [==============================] - 5s 153ms/step - loss: 4.9521e-04 - val_loss: 9.3550e-04\n",
      "Epoch 27/100\n",
      "31/31 [==============================] - 5s 150ms/step - loss: 5.1138e-04 - val_loss: 9.3442e-04\n",
      "Epoch 28/100\n",
      "31/31 [==============================] - 5s 149ms/step - loss: 4.8715e-04 - val_loss: 9.0678e-04\n",
      "Epoch 29/100\n",
      "31/31 [==============================] - 5s 147ms/step - loss: 4.6615e-04 - val_loss: 0.0014\n",
      "Epoch 30/100\n",
      "31/31 [==============================] - 5s 148ms/step - loss: 4.2310e-04 - val_loss: 0.0013\n",
      "Epoch 31/100\n",
      "31/31 [==============================] - 5s 159ms/step - loss: 4.6721e-04 - val_loss: 0.0018\n",
      "Epoch 32/100\n",
      "31/31 [==============================] - 5s 152ms/step - loss: 4.4524e-04 - val_loss: 0.0022\n",
      "Epoch 33/100\n",
      "31/31 [==============================] - 5s 150ms/step - loss: 4.3128e-04 - val_loss: 6.8359e-04\n",
      "Epoch 34/100\n",
      "31/31 [==============================] - 5s 152ms/step - loss: 3.8604e-04 - val_loss: 8.9224e-04\n",
      "Epoch 35/100\n",
      "31/31 [==============================] - 5s 148ms/step - loss: 3.6362e-04 - val_loss: 0.0012\n",
      "Epoch 36/100\n",
      "31/31 [==============================] - 5s 165ms/step - loss: 4.8469e-04 - val_loss: 6.5107e-04\n",
      "Epoch 37/100\n",
      "31/31 [==============================] - 6s 179ms/step - loss: 3.7060e-04 - val_loss: 7.5551e-04\n",
      "Epoch 38/100\n",
      "31/31 [==============================] - 5s 174ms/step - loss: 3.7906e-04 - val_loss: 7.1366e-04\n",
      "Epoch 39/100\n",
      "31/31 [==============================] - 5s 177ms/step - loss: 4.2105e-04 - val_loss: 6.5593e-04\n",
      "Epoch 40/100\n",
      "31/31 [==============================] - 5s 169ms/step - loss: 3.1938e-04 - val_loss: 6.3781e-04\n",
      "Epoch 41/100\n",
      "31/31 [==============================] - 5s 166ms/step - loss: 4.0717e-04 - val_loss: 0.0011\n",
      "Epoch 42/100\n",
      "31/31 [==============================] - 6s 183ms/step - loss: 3.5593e-04 - val_loss: 5.6407e-04\n",
      "Epoch 43/100\n",
      "31/31 [==============================] - 6s 190ms/step - loss: 3.1389e-04 - val_loss: 5.8768e-04\n",
      "Epoch 44/100\n",
      "31/31 [==============================] - 6s 182ms/step - loss: 3.2799e-04 - val_loss: 0.0011\n",
      "Epoch 45/100\n",
      "31/31 [==============================] - 6s 196ms/step - loss: 3.7107e-04 - val_loss: 8.1910e-04\n",
      "Epoch 46/100\n",
      "31/31 [==============================] - 6s 188ms/step - loss: 3.3256e-04 - val_loss: 6.0279e-04\n",
      "Epoch 47/100\n",
      "31/31 [==============================] - 6s 181ms/step - loss: 2.7199e-04 - val_loss: 5.4318e-04\n",
      "Epoch 48/100\n",
      "31/31 [==============================] - 7s 216ms/step - loss: 3.0092e-04 - val_loss: 8.8511e-04\n",
      "Epoch 49/100\n",
      "31/31 [==============================] - 6s 196ms/step - loss: 2.7872e-04 - val_loss: 6.1359e-04\n",
      "Epoch 50/100\n",
      "31/31 [==============================] - 6s 190ms/step - loss: 2.7825e-04 - val_loss: 5.3334e-04\n",
      "Epoch 51/100\n",
      "31/31 [==============================] - 6s 183ms/step - loss: 2.5622e-04 - val_loss: 6.0777e-04\n",
      "Epoch 52/100\n",
      "31/31 [==============================] - 6s 191ms/step - loss: 2.7048e-04 - val_loss: 5.4779e-04\n",
      "Epoch 53/100\n",
      "31/31 [==============================] - 6s 194ms/step - loss: 2.4208e-04 - val_loss: 0.0018\n",
      "Epoch 54/100\n",
      "31/31 [==============================] - 7s 225ms/step - loss: 2.7437e-04 - val_loss: 8.3185e-04\n",
      "Epoch 55/100\n",
      "31/31 [==============================] - 5s 176ms/step - loss: 2.4236e-04 - val_loss: 9.1033e-04\n",
      "Epoch 56/100\n",
      "31/31 [==============================] - 5s 161ms/step - loss: 2.5416e-04 - val_loss: 6.9682e-04\n",
      "Epoch 57/100\n",
      "31/31 [==============================] - 5s 157ms/step - loss: 2.5809e-04 - val_loss: 5.8827e-04\n",
      "Epoch 58/100\n",
      "31/31 [==============================] - 5s 163ms/step - loss: 2.6535e-04 - val_loss: 0.0015\n",
      "Epoch 59/100\n",
      "31/31 [==============================] - 6s 188ms/step - loss: 2.4691e-04 - val_loss: 5.4656e-04\n",
      "Epoch 60/100\n",
      "31/31 [==============================] - 6s 197ms/step - loss: 2.4369e-04 - val_loss: 5.5427e-04\n",
      "Epoch 61/100\n",
      "31/31 [==============================] - 5s 175ms/step - loss: 2.7820e-04 - val_loss: 8.6096e-04\n",
      "Epoch 62/100\n",
      "31/31 [==============================] - 5s 165ms/step - loss: 2.4304e-04 - val_loss: 5.8316e-04\n",
      "Epoch 63/100\n",
      "31/31 [==============================] - 5s 162ms/step - loss: 2.2055e-04 - val_loss: 5.4183e-04\n",
      "Epoch 64/100\n",
      "31/31 [==============================] - 5s 157ms/step - loss: 3.0079e-04 - val_loss: 6.8393e-04\n",
      "Epoch 65/100\n",
      "31/31 [==============================] - 5s 164ms/step - loss: 2.5488e-04 - val_loss: 0.0013\n",
      "Epoch 66/100\n",
      "31/31 [==============================] - 5s 169ms/step - loss: 2.6539e-04 - val_loss: 6.5160e-04\n",
      "Epoch 67/100\n",
      "31/31 [==============================] - 5s 175ms/step - loss: 2.4062e-04 - val_loss: 7.9139e-04\n",
      "Epoch 68/100\n",
      "31/31 [==============================] - 5s 171ms/step - loss: 2.5171e-04 - val_loss: 6.0906e-04\n",
      "Epoch 69/100\n",
      "31/31 [==============================] - 5s 168ms/step - loss: 2.7822e-04 - val_loss: 7.9862e-04\n",
      "Epoch 70/100\n",
      "31/31 [==============================] - 5s 146ms/step - loss: 2.3226e-04 - val_loss: 6.6498e-04\n",
      "Epoch 71/100\n",
      "31/31 [==============================] - 5s 146ms/step - loss: 2.3428e-04 - val_loss: 5.7195e-04\n",
      "Epoch 72/100\n",
      "31/31 [==============================] - 5s 156ms/step - loss: 2.3021e-04 - val_loss: 6.1621e-04\n",
      "Epoch 73/100\n",
      "31/31 [==============================] - 5s 158ms/step - loss: 3.3784e-04 - val_loss: 5.6256e-04\n",
      "Epoch 74/100\n",
      "31/31 [==============================] - 5s 153ms/step - loss: 2.7578e-04 - val_loss: 0.0012\n",
      "Epoch 75/100\n",
      "31/31 [==============================] - 5s 159ms/step - loss: 2.3804e-04 - val_loss: 5.6177e-04\n",
      "Epoch 76/100\n",
      "31/31 [==============================] - 5s 155ms/step - loss: 2.5034e-04 - val_loss: 8.7256e-04\n",
      "Epoch 77/100\n",
      "31/31 [==============================] - 5s 166ms/step - loss: 2.6897e-04 - val_loss: 8.8782e-04\n",
      "Epoch 78/100\n",
      "31/31 [==============================] - 6s 185ms/step - loss: 2.5100e-04 - val_loss: 5.5777e-04\n",
      "Epoch 79/100\n",
      "31/31 [==============================] - 6s 196ms/step - loss: 2.3920e-04 - val_loss: 6.4714e-04\n",
      "Epoch 80/100\n",
      "31/31 [==============================] - 6s 197ms/step - loss: 2.4360e-04 - val_loss: 6.6373e-04\n",
      "Epoch 81/100\n",
      "31/31 [==============================] - 6s 195ms/step - loss: 2.4343e-04 - val_loss: 7.7184e-04\n",
      "Epoch 82/100\n",
      "31/31 [==============================] - 6s 182ms/step - loss: 2.5300e-04 - val_loss: 0.0010\n",
      "Epoch 83/100\n",
      "31/31 [==============================] - 5s 164ms/step - loss: 2.5553e-04 - val_loss: 0.0018\n",
      "Epoch 84/100\n",
      "31/31 [==============================] - 5s 158ms/step - loss: 2.7840e-04 - val_loss: 8.2375e-04\n",
      "Epoch 85/100\n",
      "31/31 [==============================] - 5s 152ms/step - loss: 2.3272e-04 - val_loss: 6.0299e-04\n",
      "Epoch 86/100\n",
      "31/31 [==============================] - 5s 157ms/step - loss: 2.4353e-04 - val_loss: 7.2403e-04\n",
      "Epoch 87/100\n",
      "31/31 [==============================] - 5s 155ms/step - loss: 2.2225e-04 - val_loss: 6.5505e-04\n",
      "Epoch 88/100\n",
      "31/31 [==============================] - 5s 164ms/step - loss: 2.2701e-04 - val_loss: 5.6556e-04\n",
      "Epoch 89/100\n",
      "31/31 [==============================] - 5s 167ms/step - loss: 2.3181e-04 - val_loss: 6.9300e-04\n",
      "Epoch 90/100\n",
      "31/31 [==============================] - 5s 165ms/step - loss: 2.4786e-04 - val_loss: 0.0011\n",
      "Epoch 91/100\n",
      "31/31 [==============================] - 5s 158ms/step - loss: 3.3665e-04 - val_loss: 5.7364e-04\n",
      "Epoch 92/100\n",
      "31/31 [==============================] - 5s 165ms/step - loss: 2.3702e-04 - val_loss: 5.8525e-04\n",
      "Epoch 93/100\n",
      "31/31 [==============================] - 5s 163ms/step - loss: 2.4063e-04 - val_loss: 8.0504e-04\n",
      "Epoch 94/100\n",
      "31/31 [==============================] - 5s 167ms/step - loss: 2.3877e-04 - val_loss: 0.0012\n",
      "Epoch 95/100\n",
      "31/31 [==============================] - 5s 168ms/step - loss: 2.2337e-04 - val_loss: 0.0016\n",
      "Epoch 96/100\n",
      "31/31 [==============================] - 5s 159ms/step - loss: 3.0250e-04 - val_loss: 5.9263e-04\n",
      "Epoch 97/100\n",
      "31/31 [==============================] - 5s 152ms/step - loss: 2.2375e-04 - val_loss: 5.5118e-04\n",
      "Epoch 98/100\n",
      "31/31 [==============================] - 5s 150ms/step - loss: 2.1711e-04 - val_loss: 7.0948e-04\n",
      "Epoch 99/100\n",
      "31/31 [==============================] - 5s 151ms/step - loss: 2.1571e-04 - val_loss: 5.5602e-04\n",
      "Epoch 100/100\n",
      "31/31 [==============================] - 5s 155ms/step - loss: 2.2985e-04 - val_loss: 5.4302e-04\n"
     ]
    },
    {
     "data": {
      "text/plain": [
       "<keras.callbacks.History at 0x21ea7ec69e0>"
      ]
     },
     "execution_count": 9,
     "metadata": {},
     "output_type": "execute_result"
    }
   ],
   "source": [
    "# 9. Fit mô hình với dữ liệu train\n",
    "model.fit(X_train, y_train, validation_data=(X_test, ytest), epochs=100, batch_size=64, verbose=1)"
   ]
  },
  {
   "cell_type": "code",
   "execution_count": 10,
   "id": "11429718-53af-460b-bc27-6339c6f5f98e",
   "metadata": {},
   "outputs": [
    {
     "name": "stdout",
     "output_type": "stream",
     "text": [
      "62/62 [==============================] - 4s 37ms/step\n",
      "8/8 [==============================] - 0s 43ms/step\n"
     ]
    }
   ],
   "source": [
    "# 10. Dự báo dữ liệu test\n",
    "train_predict = model.predict(X_train)\n",
    "y_pred = model.predict(X_test)"
   ]
  },
  {
   "cell_type": "code",
   "execution_count": 11,
   "id": "325b6e6a-fb3e-4f67-a484-014e7ddb4183",
   "metadata": {},
   "outputs": [],
   "source": [
    "# 11. Chuẩn hóa dữ liệu y_pred\n",
    "train_predict = scaler.inverse_transform(train_predict)\n",
    "y_pred = scaler.inverse_transform(y_pred)"
   ]
  },
  {
   "cell_type": "code",
   "execution_count": 12,
   "id": "b964944b-407f-425e-9fbd-d7cd9e12b40a",
   "metadata": {
    "tags": []
   },
   "outputs": [
    {
     "name": "stdout",
     "output_type": "stream",
     "text": [
      "Mean Absolute Error (MAE): 51679.19697065822\n",
      "Mean Absolute Percentage Error (MAPE): 7504225.352074902\n",
      "Root Mean Square Error (RMSE): 53279.30224061882\n"
     ]
    }
   ],
   "source": [
    "# 12. Tính RMSE, MAPE, MAE\n",
    "from sklearn.metrics import mean_absolute_error, mean_squared_error, mean_absolute_percentage_error\n",
    "\n",
    "mae = mean_absolute_error(ytest, y_pred)\n",
    "mape = mean_absolute_percentage_error(ytest, y_pred)\n",
    "rmse = np.sqrt(mean_squared_error(ytest, y_pred))\n",
    "\n",
    "print(\"Mean Absolute Error (MAE):\", mae)\n",
    "print(\"Mean Absolute Percentage Error (MAPE):\", mape * 100)\n",
    "print(\"Root Mean Square Error (RMSE):\", rmse)"
   ]
  },
  {
   "cell_type": "code",
   "execution_count": 13,
   "id": "2e271a5d-d3ba-478b-ab4d-d877f6725302",
   "metadata": {
    "tags": []
   },
   "outputs": [],
   "source": [
    "# 13. Hàm dự báo\n",
    "def forecast_days(n_days):\n",
    "    x_input = test_data[-100:].reshape(1, -1)\n",
    "    temp_input = list(x_input[0])\n",
    "\n",
    "    lst_output = []\n",
    "    i = 0\n",
    "    while i < n_days:\n",
    "        if len(temp_input) > 100:\n",
    "            x_input = np.array(temp_input[1:])\n",
    "            x_input = x_input.reshape(1, -1)\n",
    "            x_input = x_input.reshape((1, time_step, 1))\n",
    "            yhat = model.predict(x_input, verbose=0)\n",
    "            temp_input.extend(yhat[0].tolist())\n",
    "            temp_input = temp_input[1:]\n",
    "            lst_output.extend(yhat.tolist())\n",
    "            i += 1\n",
    "        else:\n",
    "            x_input = x_input.reshape((1, time_step, 1))\n",
    "            yhat = model.predict(x_input, verbose=0)\n",
    "            temp_input.extend(yhat[0].tolist())\n",
    "            lst_output.extend(yhat.tolist())\n",
    "            i += 1\n",
    "    return lst_output"
   ]
  },
  {
   "cell_type": "code",
   "execution_count": 14,
   "id": "12343b63-3464-4e24-bf18-1f00bb17e507",
   "metadata": {
    "tags": []
   },
   "outputs": [],
   "source": [
    "# 14. Dự báo 30, 60, 90 ngày tiếp theo\n",
    "forecast_30 = forecast_days(30)\n",
    "forecast_60 = forecast_days(60)\n",
    "forecast_90 = forecast_days(90)"
   ]
  },
  {
   "cell_type": "code",
   "execution_count": 15,
   "id": "b4063bc9-d94d-471f-8117-331d74e51408",
   "metadata": {
    "tags": []
   },
   "outputs": [
    {
     "name": "stdout",
     "output_type": "stream",
     "text": [
      "Dự báo cho 30 ngày tiếp theo: [[0.9193916916847229], [0.9137921333312988], [0.9095802307128906], [0.9064489006996155], [0.9039918184280396], [0.9019701480865479], [0.9002631306648254], [0.8987866044044495], [0.8974660038948059], [0.8962332010269165], [0.8950257897377014], [0.8937883973121643], [0.8924739360809326], [0.8910442590713501], [0.8894708156585693], [0.8877343535423279], [0.8858254551887512], [0.883743166923523], [0.8814941048622131], [0.8790916204452515], [0.8765538930892944], [0.8739024996757507], [0.8711612820625305], [0.8683543801307678], [0.8655051589012146], [0.8626360297203064], [0.8597673177719116], [0.8569163680076599], [0.8540980219841003], [0.8513242602348328]]\n"
     ]
    }
   ],
   "source": [
    "# 15. In ra dự đoán cho 30 ngày tiếp theo\n",
    "print(\"Dự báo cho 30 ngày tiếp theo:\", forecast_30)"
   ]
  },
  {
   "cell_type": "code",
   "execution_count": 16,
   "id": "67077348-1c5e-4d27-b85b-d6198039e6db",
   "metadata": {
    "tags": []
   },
   "outputs": [
    {
     "name": "stdout",
     "output_type": "stream",
     "text": [
      "Dự báo cho 60 ngày tiếp theo: [[0.9193916916847229], [0.9137921333312988], [0.9095802307128906], [0.9064489006996155], [0.9039918184280396], [0.9019701480865479], [0.9002631306648254], [0.8987866044044495], [0.8974660038948059], [0.8962332010269165], [0.8950257897377014], [0.8937883973121643], [0.8924739360809326], [0.8910442590713501], [0.8894708156585693], [0.8877343535423279], [0.8858254551887512], [0.883743166923523], [0.8814941048622131], [0.8790916204452515], [0.8765538930892944], [0.8739024996757507], [0.8711612820625305], [0.8683543801307678], [0.8655051589012146], [0.8626360297203064], [0.8597673177719116], [0.8569163680076599], [0.8540980219841003], [0.8513242602348328], [0.8486040234565735], [0.8459435105323792], [0.8433466553688049], [0.840815544128418], [0.8383504152297974], [0.8359503149986267], [0.8336136341094971], [0.831338107585907], [0.8291206955909729], [0.8269593715667725], [0.8248521089553833], [0.8227972388267517], [0.8207929134368896], [0.8188385963439941], [0.8169341087341309], [0.8150798082351685], [0.8132767677307129], [0.8115264773368835], [0.8098307251930237], [0.8081914186477661], [0.8066111207008362], [0.8050923943519592], [0.8036374449729919], [0.8022481203079224], [0.8009265065193176], [0.7996747493743896], [0.7984939813613892], [0.797385573387146], [0.7963501811027527], [0.7953885197639465]]\n"
     ]
    }
   ],
   "source": [
    "# 15. In ra dự đoán cho 60 ngày tiếp theo\n",
    "print(\"Dự báo cho 60 ngày tiếp theo:\", forecast_60)"
   ]
  },
  {
   "cell_type": "code",
   "execution_count": 17,
   "id": "64491d29-b028-4911-924a-472619538172",
   "metadata": {
    "tags": []
   },
   "outputs": [
    {
     "name": "stdout",
     "output_type": "stream",
     "text": [
      "Dự báo cho 90 ngày tiếp theo: [[0.9193916916847229], [0.9137921333312988], [0.9095802307128906], [0.9064489006996155], [0.9039918184280396], [0.9019701480865479], [0.9002631306648254], [0.8987866044044495], [0.8974660038948059], [0.8962332010269165], [0.8950257897377014], [0.8937883973121643], [0.8924739360809326], [0.8910442590713501], [0.8894708156585693], [0.8877343535423279], [0.8858254551887512], [0.883743166923523], [0.8814941048622131], [0.8790916204452515], [0.8765538930892944], [0.8739024996757507], [0.8711612820625305], [0.8683543801307678], [0.8655051589012146], [0.8626360297203064], [0.8597673177719116], [0.8569163680076599], [0.8540980219841003], [0.8513242602348328], [0.8486040234565735], [0.8459435105323792], [0.8433466553688049], [0.840815544128418], [0.8383504152297974], [0.8359503149986267], [0.8336136341094971], [0.831338107585907], [0.8291206955909729], [0.8269593715667725], [0.8248521089553833], [0.8227972388267517], [0.8207929134368896], [0.8188385963439941], [0.8169341087341309], [0.8150798082351685], [0.8132767677307129], [0.8115264773368835], [0.8098307251930237], [0.8081914186477661], [0.8066111207008362], [0.8050923943519592], [0.8036374449729919], [0.8022481203079224], [0.8009265065193176], [0.7996747493743896], [0.7984939813613892], [0.797385573387146], [0.7963501811027527], [0.7953885197639465], [0.7945008873939514], [0.7936872243881226], [0.7929473519325256], [0.7922809720039368], [0.7916871905326843], [0.7911654114723206], [0.7907148003578186], [0.7903338074684143], [0.7900215983390808], [0.7897771596908569], [0.7895988821983337], [0.7894852161407471], [0.7894352078437805], [0.7894468903541565], [0.7895192503929138], [0.7896507382392883], [0.7898403406143188], [0.7900866270065308], [0.7903879880905151], [0.7907429337501526], [0.7911501526832581], [0.7916079759597778], [0.7921150326728821], [0.7926692366600037], [0.7932690382003784], [0.7939127087593079], [0.7945985794067383], [0.7953248023986816], [0.796089231967926], [0.7968904376029968]]\n"
     ]
    }
   ],
   "source": [
    "# 15. In ra dự đoán cho 90 ngày tiếp theo\n",
    "print(\"Dự báo cho 90 ngày tiếp theo:\", forecast_90)"
   ]
  },
  {
   "cell_type": "code",
   "execution_count": 18,
   "id": "3dd6ded5-fc67-4904-a0fd-59c167779a17",
   "metadata": {
    "tags": []
   },
   "outputs": [
    {
     "data": {
      "image/png": "[encoded data removed]",
      "text/plain": [
       "<Figure size 640x480 with 1 Axes>"
      ]
     },
     "metadata": {},
     "output_type": "display_data"
    }
   ],
   "source": [
    "# 16. Vẽ hình\n",
    "\n",
    "# Vẽ dữ liệu kiểm tra\n",
    "test_data_index = pd.RangeIndex(start=train_size, stop=train_size + test_size)\n",
    "plt.plot(test_data_index, scaler.inverse_transform(test_data), label='Test Data')\n",
    "\n",
    "# Vẽ dữ liệu dự đoán\n",
    "plt.plot(np.arange(train_size, train_size + len(y_pred)), y_pred, label='Predicted')\n",
    "\n",
    "# Vẽ dự báo 90, 60, 30 ngày\n",
    "plt.plot(np.arange(train_size + len(test_data), train_size + len(test_data) + len(forecast_90)), scaler.inverse_transform(forecast_90), label='Forecast 90 days')\n",
    "plt.plot(np.arange(train_size + len(test_data), train_size + len(test_data) + len(forecast_60)), scaler.inverse_transform(forecast_60), label='Forecast 60 days')\n",
    "plt.plot(np.arange(train_size + len(test_data), train_size + len(test_data) + len(forecast_30)), scaler.inverse_transform(forecast_30), label='Forecast 30 days')\n",
    "\n",
    "plt.title('LSTM - BTC Stock Price - Forecast 30, 60, 90 days')\n",
    "plt.legend()\n",
    "plt.show()"
   ]
  }
 ],
 "metadata": {
  "kernelspec": {
   "display_name": "Python 3 (ipykernel)",
   "language": "python",
   "name": "python3"
  },
  "language_info": {
   "codemirror_mode": {
    "name": "ipython",
    "version": 3
   },
   "file_extension": ".py",
   "mimetype": "text/x-python",
   "name": "python",
   "nbconvert_exporter": "python",
   "pygments_lexer": "ipython3",
   "version": "3.10.8"
  }
 },
 "nbformat": 4,
 "nbformat_minor": 5
}
