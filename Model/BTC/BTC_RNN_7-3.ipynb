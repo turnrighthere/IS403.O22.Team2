{
 "cells": [
  {
   "cell_type": "code",
   "execution_count": 1,
   "id": "26fdc348-5b74-4d88-a3dc-48da4d735e10",
   "metadata": {
    "tags": []
   },
   "outputs": [],
   "source": [
    "# 1. Import thư viện cần thiết\n",
    "import numpy as np\n",
    "import pandas as pd\n",
    "import matplotlib.pyplot as plt\n",
    "from sklearn.preprocessing import MinMaxScaler\n",
    "from keras.models import Sequential\n",
    "from keras.layers import Dense, SimpleRNN"
   ]
  },
  {
   "cell_type": "code",
   "execution_count": 2,
   "id": "a1081418-67c4-4366-9320-98d0255b8a87",
   "metadata": {
    "tags": []
   },
   "outputs": [
    {
     "name": "stdout",
     "output_type": "stream",
     "text": [
      "<class 'pandas.core.frame.DataFrame'>\n",
      "RangeIndex: 2285 entries, 0 to 2284\n",
      "Data columns (total 7 columns):\n",
      " #   Column     Non-Null Count  Dtype  \n",
      "---  ------     --------------  -----  \n",
      " 0   Date       2285 non-null   object \n",
      " 1   Open       2285 non-null   float64\n",
      " 2   High       2285 non-null   float64\n",
      " 3   Low        2285 non-null   float64\n",
      " 4   Price      2285 non-null   float64\n",
      " 5   Adj Close  2285 non-null   float64\n",
      " 6   Volume     2285 non-null   int64  \n",
      "dtypes: float64(5), int64(1), object(1)\n",
      "memory usage: 125.1+ KB\n"
     ]
    }
   ],
   "source": [
    "# 2. Đọc file csv và gắn index với giá Price\n",
    "df = pd.read_csv('pre_BTC-USD.csv')\n",
    "df = df.rename(columns={'Close': 'Price'})\n",
    "df1 = df.reset_index()['Price']\n",
    "df.info()"
   ]
  },
  {
   "cell_type": "code",
   "execution_count": 3,
   "id": "60ab42f9-e719-4186-ada8-ba47f31ad5a7",
   "metadata": {
    "tags": []
   },
   "outputs": [],
   "source": [
    "# 3. Scaler data\n",
    "scaler = MinMaxScaler(feature_range=(0, 1))\n",
    "df1 = scaler.fit_transform(np.array(df1).reshape(-1, 1))"
   ]
  },
  {
   "cell_type": "code",
   "execution_count": 4,
   "id": "5cc5eeb5-d78f-4ef1-87eb-4359c768e0d6",
   "metadata": {
    "tags": []
   },
   "outputs": [
    {
     "name": "stdout",
     "output_type": "stream",
     "text": [
      "Train shape: (1599, 1)\n",
      "Test shape: (686, 1)\n"
     ]
    }
   ],
   "source": [
    "# 4. Chia train test 7 - 3\n",
    "train_size = int(0.7 * len(df1))\n",
    "test_size = len(df1) - train_size\n",
    "\n",
    "# Lấy dữ liệu train và test\n",
    "train_data = df1[:train_size]\n",
    "test_data = df1[train_size:]\n",
    "\n",
    "print(\"Train shape:\", train_data.shape)\n",
    "print(\"Test shape:\", test_data.shape)"
   ]
  },
  {
   "cell_type": "code",
   "execution_count": 5,
   "id": "f9148ab3-7d6f-4b1f-ab40-c832747c52be",
   "metadata": {
    "tags": []
   },
   "outputs": [],
   "source": [
    "# 5. Hàm Create Dataset\n",
    "import numpy\n",
    "# convert an array of values into a dataset matrix\n",
    "def create_dataset(dataset, time_step=1):\n",
    "\tdataX, dataY = [], []\n",
    "\tfor i in range(len(dataset)-time_step-1):\n",
    "\t\ta = dataset[i:(i+time_step), 0]   ###i=0, X=0,1,2,3-----99   Y=100 \n",
    "\t\tdataX.append(a)\n",
    "\t\tdataY.append(dataset[i + time_step, 0])\n",
    "\treturn numpy.array(dataX), numpy.array(dataY)"
   ]
  },
  {
   "cell_type": "code",
   "execution_count": 6,
   "id": "72cc4c30-465a-4cab-8356-3baef4e1fa61",
   "metadata": {
    "tags": []
   },
   "outputs": [],
   "source": [
    "# 6. Reshape into X=t,t+1,t+2..t+99 and Y=t+100\n",
    "time_step = 100\n",
    "X_train, y_train = create_dataset(train_data, time_step)\n",
    "combined_data = np.concatenate((train_data[-time_step:], test_data))\n",
    "X_test, ytest = create_dataset(combined_data, time_step)"
   ]
  },
  {
   "cell_type": "code",
   "execution_count": 7,
   "id": "ea53b5fc-9693-41c0-94d4-433f02119225",
   "metadata": {
    "tags": []
   },
   "outputs": [],
   "source": [
    "# 7. Reshape input to be [samples, time steps, features] which is required for LSTM\n",
    "X_train = X_train.reshape(X_train.shape[0], X_train.shape[1], 1)\n",
    "X_test = X_test.reshape(X_test.shape[0], X_test.shape[1], 1)"
   ]
  },
  {
   "cell_type": "code",
   "execution_count": 8,
   "id": "15bfe900-abe3-40da-8cba-618fcf530d43",
   "metadata": {
    "tags": []
   },
   "outputs": [],
   "source": [
    "# 8. Define RNN Model\n",
    "model = Sequential()\n",
    "model.add(SimpleRNN(50, input_shape=(time_step, 1)))\n",
    "model.add(Dense(1))\n",
    "model.compile(loss='mean_squared_error', optimizer='adam')"
   ]
  },
  {
   "cell_type": "code",
   "execution_count": 9,
   "id": "cc691626-b5f4-467f-a47b-0c07f204f045",
   "metadata": {
    "tags": []
   },
   "outputs": [
    {
     "name": "stdout",
     "output_type": "stream",
     "text": [
      "Epoch 1/100\n",
      "24/24 [==============================] - 2s 28ms/step - loss: 0.0553 - val_loss: 0.0058\n",
      "Epoch 2/100\n",
      "24/24 [==============================] - 0s 17ms/step - loss: 0.0020 - val_loss: 0.0022\n",
      "Epoch 3/100\n",
      "24/24 [==============================] - 0s 16ms/step - loss: 0.0013 - val_loss: 0.0019\n",
      "Epoch 4/100\n",
      "24/24 [==============================] - 0s 16ms/step - loss: 0.0012 - val_loss: 0.0016\n",
      "Epoch 5/100\n",
      "24/24 [==============================] - 0s 16ms/step - loss: 0.0011 - val_loss: 0.0015\n",
      "Epoch 6/100\n",
      "24/24 [==============================] - 0s 16ms/step - loss: 9.8896e-04 - val_loss: 0.0013\n",
      "Epoch 7/100\n",
      "24/24 [==============================] - 0s 16ms/step - loss: 9.0194e-04 - val_loss: 9.8247e-04\n",
      "Epoch 8/100\n",
      "24/24 [==============================] - 0s 16ms/step - loss: 8.3126e-04 - val_loss: 9.9283e-04\n",
      "Epoch 9/100\n",
      "24/24 [==============================] - 0s 16ms/step - loss: 7.7054e-04 - val_loss: 9.0341e-04\n",
      "Epoch 10/100\n",
      "24/24 [==============================] - 0s 16ms/step - loss: 7.2049e-04 - val_loss: 7.6209e-04\n",
      "Epoch 11/100\n",
      "24/24 [==============================] - 0s 16ms/step - loss: 6.7854e-04 - val_loss: 7.8464e-04\n",
      "Epoch 12/100\n",
      "24/24 [==============================] - 0s 16ms/step - loss: 6.4820e-04 - val_loss: 6.7932e-04\n",
      "Epoch 13/100\n",
      "24/24 [==============================] - 0s 16ms/step - loss: 6.3548e-04 - val_loss: 6.1211e-04\n",
      "Epoch 14/100\n",
      "24/24 [==============================] - 0s 16ms/step - loss: 6.1878e-04 - val_loss: 7.0957e-04\n",
      "Epoch 15/100\n",
      "24/24 [==============================] - 0s 16ms/step - loss: 5.6533e-04 - val_loss: 5.6821e-04\n",
      "Epoch 16/100\n",
      "24/24 [==============================] - 0s 16ms/step - loss: 5.5135e-04 - val_loss: 5.5120e-04\n",
      "Epoch 17/100\n",
      "24/24 [==============================] - 0s 16ms/step - loss: 5.1292e-04 - val_loss: 5.9527e-04\n",
      "Epoch 18/100\n",
      "24/24 [==============================] - 0s 16ms/step - loss: 5.1341e-04 - val_loss: 4.9904e-04\n",
      "Epoch 19/100\n",
      "24/24 [==============================] - 0s 16ms/step - loss: 4.8445e-04 - val_loss: 5.1074e-04\n",
      "Epoch 20/100\n",
      "24/24 [==============================] - 0s 17ms/step - loss: 4.7047e-04 - val_loss: 4.9111e-04\n",
      "Epoch 21/100\n",
      "24/24 [==============================] - 0s 19ms/step - loss: 4.6077e-04 - val_loss: 4.6208e-04\n",
      "Epoch 22/100\n",
      "24/24 [==============================] - 0s 18ms/step - loss: 4.5428e-04 - val_loss: 4.5539e-04\n",
      "Epoch 23/100\n",
      "24/24 [==============================] - 0s 18ms/step - loss: 4.3267e-04 - val_loss: 4.1651e-04\n",
      "Epoch 24/100\n",
      "24/24 [==============================] - 0s 19ms/step - loss: 4.2837e-04 - val_loss: 4.1660e-04\n",
      "Epoch 25/100\n",
      "24/24 [==============================] - 0s 19ms/step - loss: 4.5169e-04 - val_loss: 4.1621e-04\n",
      "Epoch 26/100\n",
      "24/24 [==============================] - 0s 18ms/step - loss: 3.9802e-04 - val_loss: 3.7844e-04\n",
      "Epoch 27/100\n",
      "24/24 [==============================] - 0s 18ms/step - loss: 4.0737e-04 - val_loss: 3.9072e-04\n",
      "Epoch 28/100\n",
      "24/24 [==============================] - 0s 18ms/step - loss: 4.0126e-04 - val_loss: 3.8892e-04\n",
      "Epoch 29/100\n",
      "24/24 [==============================] - 0s 17ms/step - loss: 3.8091e-04 - val_loss: 3.6917e-04\n",
      "Epoch 30/100\n",
      "24/24 [==============================] - 0s 18ms/step - loss: 3.7618e-04 - val_loss: 3.7254e-04\n",
      "Epoch 31/100\n",
      "24/24 [==============================] - 0s 18ms/step - loss: 3.7514e-04 - val_loss: 4.6228e-04\n",
      "Epoch 32/100\n",
      "24/24 [==============================] - 0s 17ms/step - loss: 3.8050e-04 - val_loss: 4.6053e-04\n",
      "Epoch 33/100\n",
      "24/24 [==============================] - 0s 17ms/step - loss: 3.6152e-04 - val_loss: 3.4294e-04\n",
      "Epoch 34/100\n",
      "24/24 [==============================] - 0s 17ms/step - loss: 3.5209e-04 - val_loss: 3.6505e-04\n",
      "Epoch 35/100\n",
      "24/24 [==============================] - 0s 17ms/step - loss: 3.4683e-04 - val_loss: 3.4196e-04\n",
      "Epoch 36/100\n",
      "24/24 [==============================] - 0s 17ms/step - loss: 3.6374e-04 - val_loss: 3.7313e-04\n",
      "Epoch 37/100\n",
      "24/24 [==============================] - 0s 16ms/step - loss: 3.7229e-04 - val_loss: 3.3811e-04\n",
      "Epoch 38/100\n",
      "24/24 [==============================] - 0s 17ms/step - loss: 3.5505e-04 - val_loss: 3.2039e-04\n",
      "Epoch 39/100\n",
      "24/24 [==============================] - 0s 17ms/step - loss: 3.3950e-04 - val_loss: 3.1747e-04\n",
      "Epoch 40/100\n",
      "24/24 [==============================] - 0s 17ms/step - loss: 3.5980e-04 - val_loss: 3.2304e-04\n",
      "Epoch 41/100\n",
      "24/24 [==============================] - 0s 17ms/step - loss: 3.4415e-04 - val_loss: 3.1165e-04\n",
      "Epoch 42/100\n",
      "24/24 [==============================] - 0s 16ms/step - loss: 3.4390e-04 - val_loss: 3.9169e-04\n",
      "Epoch 43/100\n",
      "24/24 [==============================] - 0s 17ms/step - loss: 3.3181e-04 - val_loss: 3.0625e-04\n",
      "Epoch 44/100\n",
      "24/24 [==============================] - 0s 16ms/step - loss: 3.2150e-04 - val_loss: 3.6403e-04\n",
      "Epoch 45/100\n",
      "24/24 [==============================] - 0s 18ms/step - loss: 3.2849e-04 - val_loss: 4.4009e-04\n",
      "Epoch 46/100\n",
      "24/24 [==============================] - 0s 16ms/step - loss: 3.2811e-04 - val_loss: 3.8849e-04\n",
      "Epoch 47/100\n",
      "24/24 [==============================] - 0s 17ms/step - loss: 3.3783e-04 - val_loss: 3.9755e-04\n",
      "Epoch 48/100\n",
      "24/24 [==============================] - 0s 17ms/step - loss: 3.1386e-04 - val_loss: 3.1587e-04\n",
      "Epoch 49/100\n",
      "24/24 [==============================] - 0s 17ms/step - loss: 3.0170e-04 - val_loss: 3.3449e-04\n",
      "Epoch 50/100\n",
      "24/24 [==============================] - 0s 16ms/step - loss: 3.0679e-04 - val_loss: 2.9270e-04\n",
      "Epoch 51/100\n",
      "24/24 [==============================] - 0s 16ms/step - loss: 3.0474e-04 - val_loss: 3.0802e-04\n",
      "Epoch 52/100\n",
      "24/24 [==============================] - 0s 16ms/step - loss: 2.9927e-04 - val_loss: 2.9258e-04\n",
      "Epoch 53/100\n",
      "24/24 [==============================] - 0s 17ms/step - loss: 3.0184e-04 - val_loss: 3.9991e-04\n",
      "Epoch 54/100\n",
      "24/24 [==============================] - 0s 17ms/step - loss: 3.0189e-04 - val_loss: 3.3285e-04\n",
      "Epoch 55/100\n",
      "24/24 [==============================] - 0s 16ms/step - loss: 2.9930e-04 - val_loss: 3.1980e-04\n",
      "Epoch 56/100\n",
      "24/24 [==============================] - 0s 17ms/step - loss: 3.1036e-04 - val_loss: 2.8892e-04\n",
      "Epoch 57/100\n",
      "24/24 [==============================] - 0s 17ms/step - loss: 2.9959e-04 - val_loss: 2.9487e-04\n",
      "Epoch 58/100\n",
      "24/24 [==============================] - 0s 17ms/step - loss: 3.1220e-04 - val_loss: 3.3241e-04\n",
      "Epoch 59/100\n",
      "24/24 [==============================] - 0s 17ms/step - loss: 3.2291e-04 - val_loss: 2.8881e-04\n",
      "Epoch 60/100\n",
      "24/24 [==============================] - 0s 17ms/step - loss: 2.9048e-04 - val_loss: 2.8445e-04\n",
      "Epoch 61/100\n",
      "24/24 [==============================] - 1s 26ms/step - loss: 2.9998e-04 - val_loss: 2.7818e-04\n",
      "Epoch 62/100\n",
      "24/24 [==============================] - 0s 17ms/step - loss: 2.8639e-04 - val_loss: 2.8031e-04\n",
      "Epoch 63/100\n",
      "24/24 [==============================] - 0s 17ms/step - loss: 2.7770e-04 - val_loss: 2.6989e-04\n",
      "Epoch 64/100\n",
      "24/24 [==============================] - 0s 17ms/step - loss: 2.7579e-04 - val_loss: 2.7476e-04\n",
      "Epoch 65/100\n",
      "24/24 [==============================] - 0s 17ms/step - loss: 2.7985e-04 - val_loss: 2.9464e-04\n",
      "Epoch 66/100\n",
      "24/24 [==============================] - 0s 17ms/step - loss: 2.8054e-04 - val_loss: 2.7638e-04\n",
      "Epoch 67/100\n",
      "24/24 [==============================] - 0s 17ms/step - loss: 2.8032e-04 - val_loss: 2.6565e-04\n",
      "Epoch 68/100\n",
      "24/24 [==============================] - 0s 17ms/step - loss: 2.7569e-04 - val_loss: 2.5881e-04\n",
      "Epoch 69/100\n",
      "24/24 [==============================] - 0s 17ms/step - loss: 2.6729e-04 - val_loss: 2.7736e-04\n",
      "Epoch 70/100\n",
      "24/24 [==============================] - 0s 17ms/step - loss: 2.9202e-04 - val_loss: 2.8511e-04\n",
      "Epoch 71/100\n",
      "24/24 [==============================] - 0s 18ms/step - loss: 3.2841e-04 - val_loss: 2.9352e-04\n",
      "Epoch 72/100\n",
      "24/24 [==============================] - 0s 17ms/step - loss: 2.8500e-04 - val_loss: 3.0315e-04\n",
      "Epoch 73/100\n",
      "24/24 [==============================] - 0s 17ms/step - loss: 2.9325e-04 - val_loss: 2.8710e-04\n",
      "Epoch 74/100\n",
      "24/24 [==============================] - 0s 17ms/step - loss: 2.9276e-04 - val_loss: 2.7026e-04\n",
      "Epoch 75/100\n",
      "24/24 [==============================] - 0s 17ms/step - loss: 2.9561e-04 - val_loss: 2.6897e-04\n",
      "Epoch 76/100\n",
      "24/24 [==============================] - 0s 17ms/step - loss: 2.5945e-04 - val_loss: 2.9324e-04\n",
      "Epoch 77/100\n",
      "24/24 [==============================] - 0s 17ms/step - loss: 2.6473e-04 - val_loss: 2.5638e-04\n",
      "Epoch 78/100\n",
      "24/24 [==============================] - 0s 17ms/step - loss: 2.6353e-04 - val_loss: 2.5379e-04\n",
      "Epoch 79/100\n",
      "24/24 [==============================] - 0s 17ms/step - loss: 2.5940e-04 - val_loss: 2.5716e-04\n",
      "Epoch 80/100\n",
      "24/24 [==============================] - 0s 17ms/step - loss: 2.6817e-04 - val_loss: 3.1942e-04\n",
      "Epoch 81/100\n",
      "24/24 [==============================] - 0s 17ms/step - loss: 2.6336e-04 - val_loss: 2.6284e-04\n",
      "Epoch 82/100\n",
      "24/24 [==============================] - 0s 17ms/step - loss: 2.7613e-04 - val_loss: 2.6826e-04\n",
      "Epoch 83/100\n",
      "24/24 [==============================] - 0s 17ms/step - loss: 2.6098e-04 - val_loss: 2.8280e-04\n",
      "Epoch 84/100\n",
      "24/24 [==============================] - 0s 17ms/step - loss: 2.5622e-04 - val_loss: 4.0704e-04\n",
      "Epoch 85/100\n",
      "24/24 [==============================] - 0s 17ms/step - loss: 2.6518e-04 - val_loss: 2.6762e-04\n",
      "Epoch 86/100\n",
      "24/24 [==============================] - 0s 17ms/step - loss: 2.6454e-04 - val_loss: 2.5267e-04\n",
      "Epoch 87/100\n",
      "24/24 [==============================] - 0s 17ms/step - loss: 2.5579e-04 - val_loss: 2.5046e-04\n",
      "Epoch 88/100\n",
      "24/24 [==============================] - 0s 17ms/step - loss: 2.5359e-04 - val_loss: 2.6049e-04\n",
      "Epoch 89/100\n",
      "24/24 [==============================] - 0s 17ms/step - loss: 2.5985e-04 - val_loss: 3.9761e-04\n",
      "Epoch 90/100\n",
      "24/24 [==============================] - 0s 18ms/step - loss: 2.5717e-04 - val_loss: 2.5778e-04\n",
      "Epoch 91/100\n",
      "24/24 [==============================] - 0s 17ms/step - loss: 2.5699e-04 - val_loss: 2.5572e-04\n",
      "Epoch 92/100\n",
      "24/24 [==============================] - 0s 17ms/step - loss: 2.4892e-04 - val_loss: 2.7742e-04\n",
      "Epoch 93/100\n",
      "24/24 [==============================] - 0s 18ms/step - loss: 2.6256e-04 - val_loss: 2.7790e-04\n",
      "Epoch 94/100\n",
      "24/24 [==============================] - 0s 18ms/step - loss: 2.4834e-04 - val_loss: 2.4220e-04\n",
      "Epoch 95/100\n",
      "24/24 [==============================] - 0s 17ms/step - loss: 2.5133e-04 - val_loss: 2.8807e-04\n",
      "Epoch 96/100\n",
      "24/24 [==============================] - 0s 18ms/step - loss: 2.6568e-04 - val_loss: 2.5593e-04\n",
      "Epoch 97/100\n",
      "24/24 [==============================] - 0s 17ms/step - loss: 2.4781e-04 - val_loss: 2.6010e-04\n",
      "Epoch 98/100\n",
      "24/24 [==============================] - 0s 17ms/step - loss: 2.7761e-04 - val_loss: 2.4174e-04\n",
      "Epoch 99/100\n",
      "24/24 [==============================] - 0s 16ms/step - loss: 2.6827e-04 - val_loss: 2.7011e-04\n",
      "Epoch 100/100\n",
      "24/24 [==============================] - 0s 17ms/step - loss: 2.4733e-04 - val_loss: 2.4386e-04\n"
     ]
    },
    {
     "data": {
      "text/plain": [
       "<keras.callbacks.History at 0x2b7638c2c20>"
      ]
     },
     "execution_count": 9,
     "metadata": {},
     "output_type": "execute_result"
    }
   ],
   "source": [
    "# 9. Fit mô hình với dữ liệu train\n",
    "model.fit(X_train, y_train, validation_data=(X_test, ytest), epochs=100, batch_size=64, verbose=1)"
   ]
  },
  {
   "cell_type": "code",
   "execution_count": 10,
   "id": "c55c37b5-5b6b-4482-8ef1-63d82cd60fae",
   "metadata": {
    "tags": []
   },
   "outputs": [
    {
     "name": "stdout",
     "output_type": "stream",
     "text": [
      "47/47 [==============================] - 0s 5ms/step\n",
      "22/22 [==============================] - 0s 5ms/step\n"
     ]
    }
   ],
   "source": [
    "# 10. Dự báo dữ liệu test\n",
    "train_predict = model.predict(X_train)\n",
    "y_pred = model.predict(X_test)"
   ]
  },
  {
   "cell_type": "code",
   "execution_count": 11,
   "id": "e1ef089c-abd2-4072-9177-25ff22485fa8",
   "metadata": {
    "tags": []
   },
   "outputs": [],
   "source": [
    "# 11. Chuẩn hóa dữ liệu y_pred\n",
    "train_predict = scaler.inverse_transform(train_predict)\n",
    "y_pred = scaler.inverse_transform(y_pred)"
   ]
  },
  {
   "cell_type": "code",
   "execution_count": 12,
   "id": "6c14ba0c-354e-4514-a7ed-98b43cbcc1f9",
   "metadata": {
    "tags": []
   },
   "outputs": [
    {
     "name": "stdout",
     "output_type": "stream",
     "text": [
      "Mean Absolute Error (MAE): 33285.00494381019\n",
      "Mean Absolute Percentage Error (MAPE): 7985661.860894076\n",
      "Root Mean Square Error (RMSE): 36624.07589692137\n"
     ]
    }
   ],
   "source": [
    "# 12. Tính RMSE, MAPE, MAE\n",
    "from sklearn.metrics import mean_absolute_error, mean_squared_error, mean_absolute_percentage_error\n",
    "\n",
    "mae = mean_absolute_error(ytest, y_pred)\n",
    "mape = mean_absolute_percentage_error(ytest, y_pred)\n",
    "rmse = np.sqrt(mean_squared_error(ytest, y_pred))\n",
    "\n",
    "print(\"Mean Absolute Error (MAE):\", mae)\n",
    "print(\"Mean Absolute Percentage Error (MAPE):\", mape * 100)\n",
    "print(\"Root Mean Square Error (RMSE):\", rmse)"
   ]
  },
  {
   "cell_type": "code",
   "execution_count": 13,
   "id": "a858ddd6-d663-47e2-b024-95e269c52c71",
   "metadata": {
    "tags": []
   },
   "outputs": [],
   "source": [
    "# 13. Hàm dự báo\n",
    "def forecast_days(n_days):\n",
    "    x_input = test_data[-100:].reshape(1, -1)\n",
    "    temp_input = list(x_input[0])\n",
    "\n",
    "    lst_output = []\n",
    "    i = 0\n",
    "    while i < n_days:\n",
    "        if len(temp_input) > 100:\n",
    "            x_input = np.array(temp_input[1:])\n",
    "            x_input = x_input.reshape(1, -1)\n",
    "            x_input = x_input.reshape((1, time_step, 1))\n",
    "            yhat = model.predict(x_input, verbose=0)\n",
    "            temp_input.extend(yhat[0].tolist())\n",
    "            temp_input = temp_input[1:]\n",
    "            lst_output.extend(yhat.tolist())\n",
    "            i += 1\n",
    "        else:\n",
    "            x_input = x_input.reshape((1, time_step, 1))\n",
    "            yhat = model.predict(x_input, verbose=0)\n",
    "            temp_input.extend(yhat[0].tolist())\n",
    "            lst_output.extend(yhat.tolist())\n",
    "            i += 1\n",
    "    return lst_output"
   ]
  },
  {
   "cell_type": "code",
   "execution_count": 14,
   "id": "a3f20539-86f3-4c0d-ac02-6d3159836533",
   "metadata": {
    "tags": []
   },
   "outputs": [],
   "source": [
    "# 14. Dự báo 30, 60, 90 ngày tiếp theo\n",
    "forecast_30 = forecast_days(30)\n",
    "forecast_60 = forecast_days(60)\n",
    "forecast_90 = forecast_days(90)"
   ]
  },
  {
   "cell_type": "code",
   "execution_count": 15,
   "id": "e3ed23dc-59fe-4c17-aed7-762004a4dc86",
   "metadata": {
    "tags": []
   },
   "outputs": [
    {
     "name": "stdout",
     "output_type": "stream",
     "text": [
      "Dự báo cho 30 ngày tiếp theo: [[0.917827844619751], [0.9079844951629639], [0.9022276401519775], [0.9027150273323059], [0.8980085849761963], [0.8912560343742371], [0.8872166275978088], [0.8844290971755981], [0.8812686800956726], [0.8790854215621948], [0.874331533908844], [0.8724250197410583], [0.8673785328865051], [0.867889940738678], [0.8658519387245178], [0.8651362657546997], [0.8595932722091675], [0.8586263656616211], [0.8564777374267578], [0.8529610633850098], [0.8533011078834534], [0.8503077030181885], [0.8482284545898438], [0.8437545299530029], [0.8433469533920288], [0.8425528407096863], [0.8394680023193359], [0.8394427299499512], [0.8364633917808533], [0.8353915214538574]]\n"
     ]
    }
   ],
   "source": [
    "# 15. In ra dự đoán cho 30 ngày tiếp theo\n",
    "print(\"Dự báo cho 30 ngày tiếp theo:\", forecast_30)"
   ]
  },
  {
   "cell_type": "code",
   "execution_count": 16,
   "id": "fbbbde1a-59a7-40bd-a4f7-cf5d05e1cda2",
   "metadata": {
    "tags": []
   },
   "outputs": [
    {
     "name": "stdout",
     "output_type": "stream",
     "text": [
      "Dự báo cho 60 ngày tiếp theo: [[0.917827844619751], [0.9079844951629639], [0.9022276401519775], [0.9027150273323059], [0.8980085849761963], [0.8912560343742371], [0.8872166275978088], [0.8844290971755981], [0.8812686800956726], [0.8790854215621948], [0.874331533908844], [0.8724250197410583], [0.8673785328865051], [0.867889940738678], [0.8658519387245178], [0.8651362657546997], [0.8595932722091675], [0.8586263656616211], [0.8564777374267578], [0.8529610633850098], [0.8533011078834534], [0.8503077030181885], [0.8482284545898438], [0.8437545299530029], [0.8433469533920288], [0.8425528407096863], [0.8394680023193359], [0.8394427299499512], [0.8364633917808533], [0.8353915214538574], [0.8340415954589844], [0.8322475552558899], [0.8316331505775452], [0.8282754421234131], [0.8275198936462402], [0.8265822529792786], [0.824919581413269], [0.8245113492012024], [0.8227983713150024], [0.8218744993209839], [0.8205933570861816], [0.8200213313102722], [0.8192149996757507], [0.8176979422569275], [0.8170926570892334], [0.8159224390983582], [0.815467357635498], [0.8143872022628784], [0.8141055107116699], [0.8129390478134155], [0.8121743202209473], [0.8117761015892029], [0.8107985854148865], [0.8105418086051941], [0.8093989491462708], [0.8090418577194214], [0.8083130717277527], [0.8075641393661499], [0.8073510527610779], [0.806542694568634]]\n"
     ]
    }
   ],
   "source": [
    "# 15. In ra dự đoán cho 60 ngày tiếp theo\n",
    "print(\"Dự báo cho 60 ngày tiếp theo:\", forecast_60)"
   ]
  },
  {
   "cell_type": "code",
   "execution_count": 17,
   "id": "09bec281-2bd7-4939-9482-db139601dec3",
   "metadata": {
    "tags": []
   },
   "outputs": [
    {
     "name": "stdout",
     "output_type": "stream",
     "text": [
      "Dự báo cho 90 ngày tiếp theo: [[0.917827844619751], [0.9079844951629639], [0.9022276401519775], [0.9027150273323059], [0.8980085849761963], [0.8912560343742371], [0.8872166275978088], [0.8844290971755981], [0.8812686800956726], [0.8790854215621948], [0.874331533908844], [0.8724250197410583], [0.8673785328865051], [0.867889940738678], [0.8658519387245178], [0.8651362657546997], [0.8595932722091675], [0.8586263656616211], [0.8564777374267578], [0.8529610633850098], [0.8533011078834534], [0.8503077030181885], [0.8482284545898438], [0.8437545299530029], [0.8433469533920288], [0.8425528407096863], [0.8394680023193359], [0.8394427299499512], [0.8364633917808533], [0.8353915214538574], [0.8340415954589844], [0.8322475552558899], [0.8316331505775452], [0.8282754421234131], [0.8275198936462402], [0.8265822529792786], [0.824919581413269], [0.8245113492012024], [0.8227983713150024], [0.8218744993209839], [0.8205933570861816], [0.8200213313102722], [0.8192149996757507], [0.8176979422569275], [0.8170926570892334], [0.8159224390983582], [0.815467357635498], [0.8143872022628784], [0.8141055107116699], [0.8129390478134155], [0.8121743202209473], [0.8117761015892029], [0.8107985854148865], [0.8105418086051941], [0.8093989491462708], [0.8090418577194214], [0.8083130717277527], [0.8075641393661499], [0.8073510527610779], [0.806542694568634], [0.8061956167221069], [0.8056975603103638], [0.8051932454109192], [0.8047369122505188], [0.8041420578956604], [0.8037713766098022], [0.8033249974250793], [0.8028255105018616], [0.8025084733963013], [0.8020024299621582], [0.8016529679298401], [0.8012989163398743], [0.8010167479515076], [0.8006454110145569], [0.8003115057945251], [0.7999883890151978], [0.7996589541435242], [0.7994145750999451], [0.7990202307701111], [0.7988210916519165], [0.7984241843223572], [0.7982057929039001], [0.7980155348777771], [0.7977381348609924], [0.7975721955299377], [0.797288715839386], [0.7971516847610474], [0.796920895576477], [0.7968106269836426], [0.7966275215148926]]\n"
     ]
    }
   ],
   "source": [
    "# 15. In ra dự đoán cho 90 ngày tiếp theo\n",
    "print(\"Dự báo cho 90 ngày tiếp theo:\", forecast_90)"
   ]
  },
  {
   "cell_type": "code",
   "execution_count": 18,
   "id": "1a2ee735-ad92-4ff0-a51f-7fa1da4773fc",
   "metadata": {
    "tags": []
   },
   "outputs": [
    {
     "data": {
      "image/png": "[encoded data removed]",
      "text/plain": [
       "<Figure size 640x480 with 1 Axes>"
      ]
     },
     "metadata": {},
     "output_type": "display_data"
    }
   ],
   "source": [
    "# 16. Vẽ hình\n",
    "\n",
    "# Vẽ dữ liệu kiểm tra\n",
    "test_data_index = pd.RangeIndex(start=train_size, stop=train_size + test_size)\n",
    "plt.plot(test_data_index, scaler.inverse_transform(test_data), label='Test Data')\n",
    "\n",
    "# Vẽ dữ liệu dự đoán\n",
    "plt.plot(np.arange(train_size, train_size + len(y_pred)), y_pred, label='Predicted')\n",
    "\n",
    "# Vẽ dự báo 90, 60, 30 ngày\n",
    "plt.plot(np.arange(train_size + len(test_data), train_size + len(test_data) + len(forecast_90)), scaler.inverse_transform(forecast_90), label='Forecast 90 days')\n",
    "plt.plot(np.arange(train_size + len(test_data), train_size + len(test_data) + len(forecast_60)), scaler.inverse_transform(forecast_60), label='Forecast 60 days')\n",
    "plt.plot(np.arange(train_size + len(test_data), train_size + len(test_data) + len(forecast_30)), scaler.inverse_transform(forecast_30), label='Forecast 30 days')\n",
    "\n",
    "plt.title('RNN - BTC Stock Price - Forecast 30, 60, 90 days')\n",
    "plt.legend()\n",
    "plt.show()\n"
   ]
  }
 ],
 "metadata": {
  "kernelspec": {
   "display_name": "Python 3 (ipykernel)",
   "language": "python",
   "name": "python3"
  },
  "language_info": {
   "codemirror_mode": {
    "name": "ipython",
    "version": 3
   },
   "file_extension": ".py",
   "mimetype": "text/x-python",
   "name": "python",
   "nbconvert_exporter": "python",
   "pygments_lexer": "ipython3",
   "version": "3.10.8"
  }
 },
 "nbformat": 4,
 "nbformat_minor": 5
}
