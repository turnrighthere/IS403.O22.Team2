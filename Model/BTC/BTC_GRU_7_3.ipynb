{
  "nbformat": 4,
  "nbformat_minor": 0,
  "metadata": {
    "colab": {
      "provenance": []
    },
    "kernelspec": {
      "name": "python3",
      "display_name": "Python 3"
    },
    "language_info": {
      "name": "python"
    }
  },
  "cells": [
    {
      "cell_type": "code",
      "execution_count": 1,
      "metadata": {
        "id": "2s2M7RWnLyVs",
        "colab": {
          "base_uri": "https://localhost:8080/"
        },
        "outputId": "8ce48786-5ef4-4e39-d0bf-38deca7d6ce3"
      },
      "outputs": [
        {
          "output_type": "stream",
          "name": "stdout",
          "text": [
            "Mounted at /content/drive\n"
          ]
        }
      ],
      "source": [
        "from google.colab import drive\n",
        "drive.mount('/content/drive')\n",
        "import numpy as np\n",
        "import pandas as pd\n",
        "import matplotlib.pyplot as plt\n",
        "from sklearn.preprocessing import MinMaxScaler\n",
        "from keras.models import Sequential\n",
        "from keras.layers import Dense, GRU"
      ]
    },
    {
      "cell_type": "code",
      "source": [
        "# Đọc file csv\n",
        "df = pd.read_csv('/content/drive/MyDrive/Colab Notebooks/Data/pre_BTC-USD.csv')\n",
        "df = df.rename(columns={'Close': 'Price'})\n",
        "df['Date'] = pd.to_datetime(df['Date'])\n",
        "df.head(5)"
      ],
      "metadata": {
        "id": "N4mD72x5nuXt",
        "colab": {
          "base_uri": "https://localhost:8080/",
          "height": 206
        },
        "outputId": "ffb49b00-7019-49f1-f5d1-c393f7bfefda"
      },
      "execution_count": 2,
      "outputs": [
        {
          "output_type": "execute_result",
          "data": {
            "text/plain": [
              "        Date          Open          High           Low         Price  \\\n",
              "0 2018-03-01  10385.000000  11052.299805  10352.700195  10951.000000   \n",
              "1 2018-03-02  10977.400391  11189.000000  10850.099609  11086.400391   \n",
              "2 2018-03-03  11101.900391  11528.200195  11002.400391  11489.700195   \n",
              "3 2018-03-04  11497.400391  11512.599609  11136.099609  11512.599609   \n",
              "4 2018-03-05  11532.400391  11704.099609  11443.900391  11573.299805   \n",
              "\n",
              "      Adj Close      Volume  \n",
              "0  10951.000000  7317279744  \n",
              "1  11086.400391  7620590080  \n",
              "2  11489.700195  6690570240  \n",
              "3  11512.599609  6084149760  \n",
              "4  11573.299805  6468539904  "
            ],
            "text/html": [
              "\n",
              "  <div id=\"df-cb985037-27fb-486b-a46a-f7177e5b60e0\" class=\"colab-df-container\">\n",
              "    <div>\n",
              "<style scoped>\n",
              "    .dataframe tbody tr th:only-of-type {\n",
              "        vertical-align: middle;\n",
              "    }\n",
              "\n",
              "    .dataframe tbody tr th {\n",
              "        vertical-align: top;\n",
              "    }\n",
              "\n",
              "    .dataframe thead th {\n",
              "        text-align: right;\n",
              "    }\n",
              "</style>\n",
              "<table border=\"1\" class=\"dataframe\">\n",
              "  <thead>\n",
              "    <tr style=\"text-align: right;\">\n",
              "      <th></th>\n",
              "      <th>Date</th>\n",
              "      <th>Open</th>\n",
              "      <th>High</th>\n",
              "      <th>Low</th>\n",
              "      <th>Price</th>\n",
              "      <th>Adj Close</th>\n",
              "      <th>Volume</th>\n",
              "    </tr>\n",
              "  </thead>\n",
              "  <tbody>\n",
              "    <tr>\n",
              "      <th>0</th>\n",
              "      <td>2018-03-01</td>\n",
              "      <td>10385.000000</td>\n",
              "      <td>11052.299805</td>\n",
              "      <td>10352.700195</td>\n",
              "      <td>10951.000000</td>\n",
              "      <td>10951.000000</td>\n",
              "      <td>7317279744</td>\n",
              "    </tr>\n",
              "    <tr>\n",
              "      <th>1</th>\n",
              "      <td>2018-03-02</td>\n",
              "      <td>10977.400391</td>\n",
              "      <td>11189.000000</td>\n",
              "      <td>10850.099609</td>\n",
              "      <td>11086.400391</td>\n",
              "      <td>11086.400391</td>\n",
              "      <td>7620590080</td>\n",
              "    </tr>\n",
              "    <tr>\n",
              "      <th>2</th>\n",
              "      <td>2018-03-03</td>\n",
              "      <td>11101.900391</td>\n",
              "      <td>11528.200195</td>\n",
              "      <td>11002.400391</td>\n",
              "      <td>11489.700195</td>\n",
              "      <td>11489.700195</td>\n",
              "      <td>6690570240</td>\n",
              "    </tr>\n",
              "    <tr>\n",
              "      <th>3</th>\n",
              "      <td>2018-03-04</td>\n",
              "      <td>11497.400391</td>\n",
              "      <td>11512.599609</td>\n",
              "      <td>11136.099609</td>\n",
              "      <td>11512.599609</td>\n",
              "      <td>11512.599609</td>\n",
              "      <td>6084149760</td>\n",
              "    </tr>\n",
              "    <tr>\n",
              "      <th>4</th>\n",
              "      <td>2018-03-05</td>\n",
              "      <td>11532.400391</td>\n",
              "      <td>11704.099609</td>\n",
              "      <td>11443.900391</td>\n",
              "      <td>11573.299805</td>\n",
              "      <td>11573.299805</td>\n",
              "      <td>6468539904</td>\n",
              "    </tr>\n",
              "  </tbody>\n",
              "</table>\n",
              "</div>\n",
              "    <div class=\"colab-df-buttons\">\n",
              "\n",
              "  <div class=\"colab-df-container\">\n",
              "    <button class=\"colab-df-convert\" onclick=\"convertToInteractive('df-cb985037-27fb-486b-a46a-f7177e5b60e0')\"\n",
              "            title=\"Convert this dataframe to an interactive table.\"\n",
              "            style=\"display:none;\">\n",
              "\n",
              "  <svg xmlns=\"http://www.w3.org/2000/svg\" height=\"24px\" viewBox=\"0 -960 960 960\">\n",
              "    <path d=\"M120-120v-720h720v720H120Zm60-500h600v-160H180v160Zm220 220h160v-160H400v160Zm0 220h160v-160H400v160ZM180-400h160v-160H180v160Zm440 0h160v-160H620v160ZM180-180h160v-160H180v160Zm440 0h160v-160H620v160Z\"/>\n",
              "  </svg>\n",
              "    </button>\n",
              "\n",
              "  <style>\n",
              "    .colab-df-container {\n",
              "      display:flex;\n",
              "      gap: 12px;\n",
              "    }\n",
              "\n",
              "    .colab-df-convert {\n",
              "      background-color: #E8F0FE;\n",
              "      border: none;\n",
              "      border-radius: 50%;\n",
              "      cursor: pointer;\n",
              "      display: none;\n",
              "      fill: #1967D2;\n",
              "      height: 32px;\n",
              "      padding: 0 0 0 0;\n",
              "      width: 32px;\n",
              "    }\n",
              "\n",
              "    .colab-df-convert:hover {\n",
              "      background-color: #E2EBFA;\n",
              "      box-shadow: 0px 1px 2px rgba(60, 64, 67, 0.3), 0px 1px 3px 1px rgba(60, 64, 67, 0.15);\n",
              "      fill: #174EA6;\n",
              "    }\n",
              "\n",
              "    .colab-df-buttons div {\n",
              "      margin-bottom: 4px;\n",
              "    }\n",
              "\n",
              "    [theme=dark] .colab-df-convert {\n",
              "      background-color: #3B4455;\n",
              "      fill: #D2E3FC;\n",
              "    }\n",
              "\n",
              "    [theme=dark] .colab-df-convert:hover {\n",
              "      background-color: #434B5C;\n",
              "      box-shadow: 0px 1px 3px 1px rgba(0, 0, 0, 0.15);\n",
              "      filter: drop-shadow(0px 1px 2px rgba(0, 0, 0, 0.3));\n",
              "      fill: #FFFFFF;\n",
              "    }\n",
              "  </style>\n",
              "\n",
              "    <script>\n",
              "      const buttonEl =\n",
              "        document.querySelector('#df-cb985037-27fb-486b-a46a-f7177e5b60e0 button.colab-df-convert');\n",
              "      buttonEl.style.display =\n",
              "        google.colab.kernel.accessAllowed ? 'block' : 'none';\n",
              "\n",
              "      async function convertToInteractive(key) {\n",
              "        const element = document.querySelector('#df-cb985037-27fb-486b-a46a-f7177e5b60e0');\n",
              "        const dataTable =\n",
              "          await google.colab.kernel.invokeFunction('convertToInteractive',\n",
              "                                                    [key], {});\n",
              "        if (!dataTable) return;\n",
              "\n",
              "        const docLinkHtml = 'Like what you see? Visit the ' +\n",
              "          '<a target=\"_blank\" href=https://colab.research.google.com/notebooks/data_table.ipynb>data table notebook</a>'\n",
              "          + ' to learn more about interactive tables.';\n",
              "        element.innerHTML = '';\n",
              "        dataTable['output_type'] = 'display_data';\n",
              "        await google.colab.output.renderOutput(dataTable, element);\n",
              "        const docLink = document.createElement('div');\n",
              "        docLink.innerHTML = docLinkHtml;\n",
              "        element.appendChild(docLink);\n",
              "      }\n",
              "    </script>\n",
              "  </div>\n",
              "\n",
              "\n",
              "<div id=\"df-1c4c3151-3132-456e-890d-7c7f7278468f\">\n",
              "  <button class=\"colab-df-quickchart\" onclick=\"quickchart('df-1c4c3151-3132-456e-890d-7c7f7278468f')\"\n",
              "            title=\"Suggest charts\"\n",
              "            style=\"display:none;\">\n",
              "\n",
              "<svg xmlns=\"http://www.w3.org/2000/svg\" height=\"24px\"viewBox=\"0 0 24 24\"\n",
              "     width=\"24px\">\n",
              "    <g>\n",
              "        <path d=\"M19 3H5c-1.1 0-2 .9-2 2v14c0 1.1.9 2 2 2h14c1.1 0 2-.9 2-2V5c0-1.1-.9-2-2-2zM9 17H7v-7h2v7zm4 0h-2V7h2v10zm4 0h-2v-4h2v4z\"/>\n",
              "    </g>\n",
              "</svg>\n",
              "  </button>\n",
              "\n",
              "<style>\n",
              "  .colab-df-quickchart {\n",
              "      --bg-color: #E8F0FE;\n",
              "      --fill-color: #1967D2;\n",
              "      --hover-bg-color: #E2EBFA;\n",
              "      --hover-fill-color: #174EA6;\n",
              "      --disabled-fill-color: #AAA;\n",
              "      --disabled-bg-color: #DDD;\n",
              "  }\n",
              "\n",
              "  [theme=dark] .colab-df-quickchart {\n",
              "      --bg-color: #3B4455;\n",
              "      --fill-color: #D2E3FC;\n",
              "      --hover-bg-color: #434B5C;\n",
              "      --hover-fill-color: #FFFFFF;\n",
              "      --disabled-bg-color: #3B4455;\n",
              "      --disabled-fill-color: #666;\n",
              "  }\n",
              "\n",
              "  .colab-df-quickchart {\n",
              "    background-color: var(--bg-color);\n",
              "    border: none;\n",
              "    border-radius: 50%;\n",
              "    cursor: pointer;\n",
              "    display: none;\n",
              "    fill: var(--fill-color);\n",
              "    height: 32px;\n",
              "    padding: 0;\n",
              "    width: 32px;\n",
              "  }\n",
              "\n",
              "  .colab-df-quickchart:hover {\n",
              "    background-color: var(--hover-bg-color);\n",
              "    box-shadow: 0 1px 2px rgba(60, 64, 67, 0.3), 0 1px 3px 1px rgba(60, 64, 67, 0.15);\n",
              "    fill: var(--button-hover-fill-color);\n",
              "  }\n",
              "\n",
              "  .colab-df-quickchart-complete:disabled,\n",
              "  .colab-df-quickchart-complete:disabled:hover {\n",
              "    background-color: var(--disabled-bg-color);\n",
              "    fill: var(--disabled-fill-color);\n",
              "    box-shadow: none;\n",
              "  }\n",
              "\n",
              "  .colab-df-spinner {\n",
              "    border: 2px solid var(--fill-color);\n",
              "    border-color: transparent;\n",
              "    border-bottom-color: var(--fill-color);\n",
              "    animation:\n",
              "      spin 1s steps(1) infinite;\n",
              "  }\n",
              "\n",
              "  @keyframes spin {\n",
              "    0% {\n",
              "      border-color: transparent;\n",
              "      border-bottom-color: var(--fill-color);\n",
              "      border-left-color: var(--fill-color);\n",
              "    }\n",
              "    20% {\n",
              "      border-color: transparent;\n",
              "      border-left-color: var(--fill-color);\n",
              "      border-top-color: var(--fill-color);\n",
              "    }\n",
              "    30% {\n",
              "      border-color: transparent;\n",
              "      border-left-color: var(--fill-color);\n",
              "      border-top-color: var(--fill-color);\n",
              "      border-right-color: var(--fill-color);\n",
              "    }\n",
              "    40% {\n",
              "      border-color: transparent;\n",
              "      border-right-color: var(--fill-color);\n",
              "      border-top-color: var(--fill-color);\n",
              "    }\n",
              "    60% {\n",
              "      border-color: transparent;\n",
              "      border-right-color: var(--fill-color);\n",
              "    }\n",
              "    80% {\n",
              "      border-color: transparent;\n",
              "      border-right-color: var(--fill-color);\n",
              "      border-bottom-color: var(--fill-color);\n",
              "    }\n",
              "    90% {\n",
              "      border-color: transparent;\n",
              "      border-bottom-color: var(--fill-color);\n",
              "    }\n",
              "  }\n",
              "</style>\n",
              "\n",
              "  <script>\n",
              "    async function quickchart(key) {\n",
              "      const quickchartButtonEl =\n",
              "        document.querySelector('#' + key + ' button');\n",
              "      quickchartButtonEl.disabled = true;  // To prevent multiple clicks.\n",
              "      quickchartButtonEl.classList.add('colab-df-spinner');\n",
              "      try {\n",
              "        const charts = await google.colab.kernel.invokeFunction(\n",
              "            'suggestCharts', [key], {});\n",
              "      } catch (error) {\n",
              "        console.error('Error during call to suggestCharts:', error);\n",
              "      }\n",
              "      quickchartButtonEl.classList.remove('colab-df-spinner');\n",
              "      quickchartButtonEl.classList.add('colab-df-quickchart-complete');\n",
              "    }\n",
              "    (() => {\n",
              "      let quickchartButtonEl =\n",
              "        document.querySelector('#df-1c4c3151-3132-456e-890d-7c7f7278468f button');\n",
              "      quickchartButtonEl.style.display =\n",
              "        google.colab.kernel.accessAllowed ? 'block' : 'none';\n",
              "    })();\n",
              "  </script>\n",
              "</div>\n",
              "\n",
              "    </div>\n",
              "  </div>\n"
            ],
            "application/vnd.google.colaboratory.intrinsic+json": {
              "type": "dataframe",
              "variable_name": "df",
              "summary": "{\n  \"name\": \"df\",\n  \"rows\": 2285,\n  \"fields\": [\n    {\n      \"column\": \"Date\",\n      \"properties\": {\n        \"dtype\": \"date\",\n        \"min\": \"2018-03-01 00:00:00\",\n        \"max\": \"2024-06-01 00:00:00\",\n        \"num_unique_values\": 2285,\n        \"samples\": [\n          \"2023-11-24 00:00:00\",\n          \"2020-04-03 00:00:00\",\n          \"2018-10-27 00:00:00\"\n        ],\n        \"semantic_type\": \"\",\n        \"description\": \"\"\n      }\n    },\n    {\n      \"column\": \"Open\",\n      \"properties\": {\n        \"dtype\": \"number\",\n        \"std\": 18234.366114520344,\n        \"min\": 3236.274658,\n        \"max\": 73079.375,\n        \"num_unique_values\": 2285,\n        \"samples\": [\n          37296.316406,\n          6797.396484,\n          6480.839844\n        ],\n        \"semantic_type\": \"\",\n        \"description\": \"\"\n      }\n    },\n    {\n      \"column\": \"High\",\n      \"properties\": {\n        \"dtype\": \"number\",\n        \"std\": 18677.8325791842,\n        \"min\": 3275.37793,\n        \"max\": 73750.070313,\n        \"num_unique_values\": 2284,\n        \"samples\": [\n          4089.461914,\n          51684.195313,\n          65442.457031\n        ],\n        \"semantic_type\": \"\",\n        \"description\": \"\"\n      }\n    },\n    {\n      \"column\": \"Low\",\n      \"properties\": {\n        \"dtype\": \"number\",\n        \"std\": 17742.882905129023,\n        \"min\": 3191.303467,\n        \"max\": 71334.09375,\n        \"num_unique_values\": 2284,\n        \"samples\": [\n          4023.8125,\n          50585.445313,\n          63172.402344\n        ],\n        \"semantic_type\": \"\",\n        \"description\": \"\"\n      }\n    },\n    {\n      \"column\": \"Price\",\n      \"properties\": {\n        \"dtype\": \"number\",\n        \"std\": 18251.60391857925,\n        \"min\": 3236.761719,\n        \"max\": 73083.5,\n        \"num_unique_values\": 2284,\n        \"samples\": [\n          4087.476318,\n          51571.101563,\n          64994.441406\n        ],\n        \"semantic_type\": \"\",\n        \"description\": \"\"\n      }\n    },\n    {\n      \"column\": \"Adj Close\",\n      \"properties\": {\n        \"dtype\": \"number\",\n        \"std\": 18251.60391857925,\n        \"min\": 3236.761719,\n        \"max\": 73083.5,\n        \"num_unique_values\": 2284,\n        \"samples\": [\n          4087.476318,\n          51571.101563,\n          64994.441406\n        ],\n        \"semantic_type\": \"\",\n        \"description\": \"\"\n      }\n    },\n    {\n      \"column\": \"Volume\",\n      \"properties\": {\n        \"dtype\": \"number\",\n        \"std\": 18668899027,\n        \"min\": 2923670016,\n        \"max\": 350967941479,\n        \"num_unique_values\": 2285,\n        \"samples\": [\n          22922957823,\n          38976504903,\n          3393250000\n        ],\n        \"semantic_type\": \"\",\n        \"description\": \"\"\n      }\n    }\n  ]\n}"
            }
          },
          "metadata": {},
          "execution_count": 2
        }
      ]
    },
    {
      "cell_type": "code",
      "source": [
        "df.info()"
      ],
      "metadata": {
        "colab": {
          "base_uri": "https://localhost:8080/"
        },
        "id": "y45BW7BbcPl_",
        "outputId": "90447f05-351d-4ef2-d8aa-8f9c9a557df0"
      },
      "execution_count": 3,
      "outputs": [
        {
          "output_type": "stream",
          "name": "stdout",
          "text": [
            "<class 'pandas.core.frame.DataFrame'>\n",
            "RangeIndex: 2285 entries, 0 to 2284\n",
            "Data columns (total 7 columns):\n",
            " #   Column     Non-Null Count  Dtype         \n",
            "---  ------     --------------  -----         \n",
            " 0   Date       2285 non-null   datetime64[ns]\n",
            " 1   Open       2285 non-null   float64       \n",
            " 2   High       2285 non-null   float64       \n",
            " 3   Low        2285 non-null   float64       \n",
            " 4   Price      2285 non-null   float64       \n",
            " 5   Adj Close  2285 non-null   float64       \n",
            " 6   Volume     2285 non-null   int64         \n",
            "dtypes: datetime64[ns](1), float64(5), int64(1)\n",
            "memory usage: 125.1 KB\n"
          ]
        }
      ]
    },
    {
      "cell_type": "code",
      "source": [
        "# Thiết lập index\n",
        "df1=df.reset_index()['Price']\n"
      ],
      "metadata": {
        "id": "UN5dzdoDNEet"
      },
      "execution_count": 4,
      "outputs": []
    },
    {
      "cell_type": "code",
      "source": [
        "# Scaler data\n",
        "scaler=MinMaxScaler(feature_range=(0,1))\n",
        "df1=scaler.fit_transform(np.array(df1).reshape(-1,1))"
      ],
      "metadata": {
        "id": "b1XLCdJHMRAd"
      },
      "execution_count": 5,
      "outputs": []
    },
    {
      "cell_type": "code",
      "source": [
        "# Chia train test\n",
        "train_size= int(0.7 * len(df1))\n",
        "test_size = len(df1) - train_size\n",
        "\n",
        "train_data = df1[:train_size]\n",
        "test_data = df1[train_size:]"
      ],
      "metadata": {
        "id": "G6LwdRGreOtq"
      },
      "execution_count": 6,
      "outputs": []
    },
    {
      "cell_type": "code",
      "source": [
        "# convert an array of values into a dataset matrix\n",
        "def create_dataset(dataset, time_step=1):\n",
        "\tdataX, dataY = [], []\n",
        "\tfor i in range(len(dataset) - time_step - 1):\n",
        "\t\ta = dataset[i:(i + time_step)]\n",
        "\t\tdataX.append(a)\n",
        "\t\tdataY.append(dataset[i + time_step])\n",
        "\treturn np.array(dataX), np.array(dataY)\n"
      ],
      "metadata": {
        "id": "5VummKZ8Nq9P"
      },
      "execution_count": 7,
      "outputs": []
    },
    {
      "cell_type": "code",
      "source": [
        "# Reshape into X=t,t+1,t+2..t+99 and Y=t+100 _8_2\n",
        "time_step = 100\n",
        "X_train, y_train = create_dataset(train_data, time_step)\n",
        "combined_data = np.concatenate((train_data[-time_step:], test_data))\n",
        "X_test, y_test = create_dataset(combined_data, time_step)\n",
        "\n",
        "# Reshape dữ liệu cho phù hợp với mạng GRU\n",
        "X_train = X_train.reshape(X_train.shape[0], X_train.shape[1], 1)\n",
        "X_test = X_test.reshape(X_test.shape[0], X_test.shape[1], 1)"
      ],
      "metadata": {
        "id": "9wgrf7p0kQe0"
      },
      "execution_count": 8,
      "outputs": []
    },
    {
      "cell_type": "code",
      "source": [
        "# Define GRU Model\n",
        "\n",
        "model = Sequential()\n",
        "model.add(GRU(64, input_shape=(time_step, 1)))\n",
        "model.add(Dense(1))\n",
        "model.compile(optimizer='adam', loss='mean_squared_error')"
      ],
      "metadata": {
        "id": "AghcD3L7Nww-"
      },
      "execution_count": 9,
      "outputs": []
    },
    {
      "cell_type": "code",
      "source": [
        "# 9. Fit mô hình với dữ liệu train\n",
        "model.fit(X_train, y_train, epochs=100, batch_size=64, verbose=1)"
      ],
      "metadata": {
        "colab": {
          "base_uri": "https://localhost:8080/"
        },
        "id": "khNSzr8uIlQt",
        "outputId": "e1e25d64-14c6-4e89-ac00-67e7775d78ab"
      },
      "execution_count": 10,
      "outputs": [
        {
          "output_type": "stream",
          "name": "stdout",
          "text": [
            "Epoch 1/100\n",
            "24/24 [==============================] - 4s 66ms/step - loss: 0.0203\n",
            "Epoch 2/100\n",
            "24/24 [==============================] - 2s 89ms/step - loss: 0.0014\n",
            "Epoch 3/100\n",
            "24/24 [==============================] - 2s 96ms/step - loss: 5.2585e-04\n",
            "Epoch 4/100\n",
            "24/24 [==============================] - 2s 103ms/step - loss: 4.4834e-04\n",
            "Epoch 5/100\n",
            "24/24 [==============================] - 2s 66ms/step - loss: 4.2065e-04\n",
            "Epoch 6/100\n",
            "24/24 [==============================] - 1s 62ms/step - loss: 4.3242e-04\n",
            "Epoch 7/100\n",
            "24/24 [==============================] - 1s 48ms/step - loss: 4.0278e-04\n",
            "Epoch 8/100\n",
            "24/24 [==============================] - 1s 49ms/step - loss: 3.8752e-04\n",
            "Epoch 9/100\n",
            "24/24 [==============================] - 1s 51ms/step - loss: 3.8039e-04\n",
            "Epoch 10/100\n",
            "24/24 [==============================] - 1s 50ms/step - loss: 3.7961e-04\n",
            "Epoch 11/100\n",
            "24/24 [==============================] - 1s 50ms/step - loss: 3.6331e-04\n",
            "Epoch 12/100\n",
            "24/24 [==============================] - 1s 52ms/step - loss: 3.5319e-04\n",
            "Epoch 13/100\n",
            "24/24 [==============================] - 2s 81ms/step - loss: 3.4174e-04\n",
            "Epoch 14/100\n",
            "24/24 [==============================] - 2s 82ms/step - loss: 3.3212e-04\n",
            "Epoch 15/100\n",
            "24/24 [==============================] - 2s 74ms/step - loss: 3.2973e-04\n",
            "Epoch 16/100\n",
            "24/24 [==============================] - 1s 51ms/step - loss: 3.2463e-04\n",
            "Epoch 17/100\n",
            "24/24 [==============================] - 1s 49ms/step - loss: 3.1560e-04\n",
            "Epoch 18/100\n",
            "24/24 [==============================] - 1s 50ms/step - loss: 3.1418e-04\n",
            "Epoch 19/100\n",
            "24/24 [==============================] - 1s 49ms/step - loss: 3.0729e-04\n",
            "Epoch 20/100\n",
            "24/24 [==============================] - 1s 49ms/step - loss: 3.1039e-04\n",
            "Epoch 21/100\n",
            "24/24 [==============================] - 1s 50ms/step - loss: 3.1833e-04\n",
            "Epoch 22/100\n",
            "24/24 [==============================] - 1s 49ms/step - loss: 3.0974e-04\n",
            "Epoch 23/100\n",
            "24/24 [==============================] - 1s 50ms/step - loss: 2.9571e-04\n",
            "Epoch 24/100\n",
            "24/24 [==============================] - 2s 79ms/step - loss: 2.8911e-04\n",
            "Epoch 25/100\n",
            "24/24 [==============================] - 2s 82ms/step - loss: 3.0016e-04\n",
            "Epoch 26/100\n",
            "24/24 [==============================] - 2s 82ms/step - loss: 2.9269e-04\n",
            "Epoch 27/100\n",
            "24/24 [==============================] - 1s 49ms/step - loss: 2.8585e-04\n",
            "Epoch 28/100\n",
            "24/24 [==============================] - 1s 48ms/step - loss: 2.8447e-04\n",
            "Epoch 29/100\n",
            "24/24 [==============================] - 1s 51ms/step - loss: 2.8172e-04\n",
            "Epoch 30/100\n",
            "24/24 [==============================] - 1s 49ms/step - loss: 2.8756e-04\n",
            "Epoch 31/100\n",
            "24/24 [==============================] - 1s 50ms/step - loss: 2.7726e-04\n",
            "Epoch 32/100\n",
            "24/24 [==============================] - 1s 49ms/step - loss: 2.7498e-04\n",
            "Epoch 33/100\n",
            "24/24 [==============================] - 1s 49ms/step - loss: 2.8329e-04\n",
            "Epoch 34/100\n",
            "24/24 [==============================] - 1s 51ms/step - loss: 2.8753e-04\n",
            "Epoch 35/100\n",
            "24/24 [==============================] - 2s 75ms/step - loss: 2.7761e-04\n",
            "Epoch 36/100\n",
            "24/24 [==============================] - 2s 82ms/step - loss: 2.7898e-04\n",
            "Epoch 37/100\n",
            "24/24 [==============================] - 2s 84ms/step - loss: 2.7147e-04\n",
            "Epoch 38/100\n",
            "24/24 [==============================] - 1s 54ms/step - loss: 2.7049e-04\n",
            "Epoch 39/100\n",
            "24/24 [==============================] - 1s 49ms/step - loss: 2.7039e-04\n",
            "Epoch 40/100\n",
            "24/24 [==============================] - 1s 49ms/step - loss: 2.7719e-04\n",
            "Epoch 41/100\n",
            "24/24 [==============================] - 1s 49ms/step - loss: 2.7212e-04\n",
            "Epoch 42/100\n",
            "24/24 [==============================] - 1s 52ms/step - loss: 2.9042e-04\n",
            "Epoch 43/100\n",
            "24/24 [==============================] - 1s 50ms/step - loss: 2.7196e-04\n",
            "Epoch 44/100\n",
            "24/24 [==============================] - 1s 49ms/step - loss: 2.7009e-04\n",
            "Epoch 45/100\n",
            "24/24 [==============================] - 1s 49ms/step - loss: 2.7703e-04\n",
            "Epoch 46/100\n",
            "24/24 [==============================] - 2s 65ms/step - loss: 2.6595e-04\n",
            "Epoch 47/100\n",
            "24/24 [==============================] - 2s 81ms/step - loss: 2.7048e-04\n",
            "Epoch 48/100\n",
            "24/24 [==============================] - 2s 83ms/step - loss: 2.6384e-04\n",
            "Epoch 49/100\n",
            "24/24 [==============================] - 2s 69ms/step - loss: 2.7158e-04\n",
            "Epoch 50/100\n",
            "24/24 [==============================] - 2s 75ms/step - loss: 2.6494e-04\n",
            "Epoch 51/100\n",
            "24/24 [==============================] - 1s 51ms/step - loss: 2.6230e-04\n",
            "Epoch 52/100\n",
            "24/24 [==============================] - 1s 53ms/step - loss: 2.6108e-04\n",
            "Epoch 53/100\n",
            "24/24 [==============================] - 1s 51ms/step - loss: 2.6636e-04\n",
            "Epoch 54/100\n",
            "24/24 [==============================] - 1s 50ms/step - loss: 2.6162e-04\n",
            "Epoch 55/100\n",
            "24/24 [==============================] - 1s 51ms/step - loss: 2.6512e-04\n",
            "Epoch 56/100\n",
            "24/24 [==============================] - 1s 52ms/step - loss: 2.6549e-04\n",
            "Epoch 57/100\n",
            "24/24 [==============================] - 2s 75ms/step - loss: 2.6933e-04\n",
            "Epoch 58/100\n",
            "24/24 [==============================] - 2s 81ms/step - loss: 2.9355e-04\n",
            "Epoch 59/100\n",
            "24/24 [==============================] - 2s 88ms/step - loss: 2.6836e-04\n",
            "Epoch 60/100\n",
            "24/24 [==============================] - 1s 52ms/step - loss: 2.5508e-04\n",
            "Epoch 61/100\n",
            "24/24 [==============================] - 1s 50ms/step - loss: 2.7614e-04\n",
            "Epoch 62/100\n",
            "24/24 [==============================] - 1s 50ms/step - loss: 2.6477e-04\n",
            "Epoch 63/100\n",
            "24/24 [==============================] - 1s 50ms/step - loss: 2.7498e-04\n",
            "Epoch 64/100\n",
            "24/24 [==============================] - 1s 49ms/step - loss: 2.6118e-04\n",
            "Epoch 65/100\n",
            "24/24 [==============================] - 1s 51ms/step - loss: 2.7763e-04\n",
            "Epoch 66/100\n",
            "24/24 [==============================] - 1s 49ms/step - loss: 2.7347e-04\n",
            "Epoch 67/100\n",
            "24/24 [==============================] - 1s 49ms/step - loss: 2.6822e-04\n",
            "Epoch 68/100\n",
            "24/24 [==============================] - 2s 70ms/step - loss: 2.6482e-04\n",
            "Epoch 69/100\n",
            "24/24 [==============================] - 2s 78ms/step - loss: 2.6465e-04\n",
            "Epoch 70/100\n",
            "24/24 [==============================] - 2s 84ms/step - loss: 2.5642e-04\n",
            "Epoch 71/100\n",
            "24/24 [==============================] - 2s 61ms/step - loss: 2.5395e-04\n",
            "Epoch 72/100\n",
            "24/24 [==============================] - 1s 49ms/step - loss: 2.6375e-04\n",
            "Epoch 73/100\n",
            "24/24 [==============================] - 1s 51ms/step - loss: 2.6194e-04\n",
            "Epoch 74/100\n",
            "24/24 [==============================] - 1s 50ms/step - loss: 2.7791e-04\n",
            "Epoch 75/100\n",
            "24/24 [==============================] - 1s 51ms/step - loss: 2.5439e-04\n",
            "Epoch 76/100\n",
            "24/24 [==============================] - 1s 49ms/step - loss: 2.6326e-04\n",
            "Epoch 77/100\n",
            "24/24 [==============================] - 1s 51ms/step - loss: 2.5902e-04\n",
            "Epoch 78/100\n",
            "24/24 [==============================] - 1s 50ms/step - loss: 2.5327e-04\n",
            "Epoch 79/100\n",
            "24/24 [==============================] - 2s 63ms/step - loss: 2.5621e-04\n",
            "Epoch 80/100\n",
            "24/24 [==============================] - 2s 82ms/step - loss: 2.6496e-04\n",
            "Epoch 81/100\n",
            "24/24 [==============================] - 2s 83ms/step - loss: 2.7391e-04\n",
            "Epoch 82/100\n",
            "24/24 [==============================] - 2s 69ms/step - loss: 2.6120e-04\n",
            "Epoch 83/100\n",
            "24/24 [==============================] - 1s 50ms/step - loss: 2.5741e-04\n",
            "Epoch 84/100\n",
            "24/24 [==============================] - 1s 51ms/step - loss: 2.4851e-04\n",
            "Epoch 85/100\n",
            "24/24 [==============================] - 1s 51ms/step - loss: 2.4929e-04\n",
            "Epoch 86/100\n",
            "24/24 [==============================] - 1s 53ms/step - loss: 2.5414e-04\n",
            "Epoch 87/100\n",
            "24/24 [==============================] - 2s 68ms/step - loss: 2.4917e-04\n",
            "Epoch 88/100\n",
            "24/24 [==============================] - 2s 80ms/step - loss: 2.5472e-04\n",
            "Epoch 89/100\n",
            "24/24 [==============================] - 2s 86ms/step - loss: 2.4957e-04\n",
            "Epoch 90/100\n",
            "24/24 [==============================] - 4s 173ms/step - loss: 2.7626e-04\n",
            "Epoch 91/100\n",
            "24/24 [==============================] - 2s 83ms/step - loss: 2.9326e-04\n",
            "Epoch 92/100\n",
            "24/24 [==============================] - 1s 61ms/step - loss: 2.5751e-04\n",
            "Epoch 93/100\n",
            "24/24 [==============================] - 1s 51ms/step - loss: 2.5394e-04\n",
            "Epoch 94/100\n",
            "24/24 [==============================] - 1s 51ms/step - loss: 2.4745e-04\n",
            "Epoch 95/100\n",
            "24/24 [==============================] - 1s 51ms/step - loss: 2.6302e-04\n",
            "Epoch 96/100\n",
            "24/24 [==============================] - 1s 51ms/step - loss: 2.6250e-04\n",
            "Epoch 97/100\n",
            "24/24 [==============================] - 1s 52ms/step - loss: 2.5345e-04\n",
            "Epoch 98/100\n",
            "24/24 [==============================] - 1s 52ms/step - loss: 2.4865e-04\n",
            "Epoch 99/100\n",
            "24/24 [==============================] - 1s 51ms/step - loss: 2.4336e-04\n",
            "Epoch 100/100\n",
            "24/24 [==============================] - 2s 71ms/step - loss: 2.4931e-04\n"
          ]
        },
        {
          "output_type": "execute_result",
          "data": {
            "text/plain": [
              "<keras.src.callbacks.History at 0x7e177d05e860>"
            ]
          },
          "metadata": {},
          "execution_count": 10
        }
      ]
    },
    {
      "cell_type": "code",
      "source": [
        "# Dự báo dữ liệu test và train\n",
        "train_predict = model.predict(X_train)\n",
        "y_pred = model.predict(X_test)"
      ],
      "metadata": {
        "colab": {
          "base_uri": "https://localhost:8080/"
        },
        "id": "Z7H6b5bilgXv",
        "outputId": "5f7c3305-7213-49e5-9d05-773c487f362f"
      },
      "execution_count": 11,
      "outputs": [
        {
          "output_type": "stream",
          "name": "stdout",
          "text": [
            "47/47 [==============================] - 1s 12ms/step\n",
            "22/22 [==============================] - 0s 12ms/step\n"
          ]
        }
      ]
    },
    {
      "cell_type": "code",
      "source": [
        "# Chuẩn hóa dữ liệu y_pred\n",
        "train_predict = scaler.inverse_transform(train_predict)\n",
        "y_pred = scaler.inverse_transform(y_pred)"
      ],
      "metadata": {
        "id": "AGrwjDEOl9Mj"
      },
      "execution_count": 12,
      "outputs": []
    },
    {
      "cell_type": "code",
      "source": [
        "# Dự báo 90 ngày tiếp theo\n",
        "x_input = test_data[-100:].reshape(1, -1)\n",
        "temp_input = list(x_input[0])\n",
        "lst_output = []\n",
        "\n",
        "i = 0\n",
        "while(i < 90):\n",
        "    if len(temp_input) > 100:\n",
        "        x_input = np.array(temp_input[1:])  # Lấy từng ngày từ ngày thứ 2 trở đi\n",
        "        x_input = x_input.reshape(1, time_step, 1)  # Reshape lại để phù hợp với input của mạng\n",
        "        yhat = model.predict(x_input, verbose=0)  # Dự đoán giá cho ngày tiếp theo\n",
        "        temp_input.extend(yhat[0].tolist())  # Thêm dự đoán vào danh sách temp_input\n",
        "        temp_input = temp_input[1:]  # Loại bỏ ngày đầu tiên\n",
        "        lst_output.extend(yhat.tolist())  # Lưu dự đoán vào mảng lst_output\n",
        "        i += 1\n",
        "    else:\n",
        "        x_input = x_input.reshape(1, time_step, 1)  # Reshape lại để phù hợp với input của mạng\n",
        "        yhat = model.predict(x_input, verbose=0)  # Dự đoán giá cho ngày tiếp theo\n",
        "        temp_input.extend(yhat[0].tolist())  # Thêm dự đoán vào danh sách temp_input\n",
        "        lst_output.extend(yhat.tolist())  # Lưu dự đoán vào mảng lst_output\n",
        "        i += 1\n",
        "\n",
        "# In ra dự đoán cho 90 ngày tiếp theo\n",
        "print(\"Dự đoán giá cho 90 ngày tiếp theo:\")\n",
        "print(lst_output)"
      ],
      "metadata": {
        "colab": {
          "base_uri": "https://localhost:8080/"
        },
        "id": "4DfyL9LMW9fX",
        "outputId": "710b55eb-6ae1-4e7f-d909-e22b4deb17be"
      },
      "execution_count": 13,
      "outputs": [
        {
          "output_type": "stream",
          "name": "stdout",
          "text": [
            "Dự đoán giá cho 90 ngày tiếp theo:\n",
            "[[0.9008508324623108], [0.881278395652771], [0.8613240718841553], [0.8411193490028381], [0.8209267854690552], [0.8008967638015747], [0.7811381816864014], [0.7617332339286804], [0.7427480220794678], [0.7242353558540344], [0.7062370777130127], [0.6887859106063843], [0.6719056367874146], [0.6556127667427063], [0.6399174332618713], [0.6248233318328857], [0.6103289723396301], [0.5964284539222717], [0.5831120014190674], [0.5703659057617188], [0.5581744909286499], [0.5465193390846252], [0.5353803038597107], [0.5247359871864319], [0.5145641565322876], [0.5048422813415527], [0.49554726481437683], [0.4866565465927124], [0.47814762592315674], [0.4699983596801758], [0.4621877074241638], [0.4546951651573181], [0.4475012421607971], [0.44058719277381897], [0.43393558263778687], [0.42752957344055176], [0.42135360836982727], [0.41539302468299866], [0.4096341133117676], [0.40406426787376404], [0.398671418428421], [0.39344456791877747], [0.38837364315986633], [0.38344910740852356], [0.37866222858428955], [0.37400490045547485], [0.36946961283683777], [0.36504966020584106], [0.3607383966445923], [0.35652992129325867], [0.35241907835006714], [0.3484005331993103], [0.3444698750972748], [0.3406226336956024], [0.3368549048900604], [0.33316293358802795], [0.3295433521270752], [0.3259929418563843], [0.3225087821483612], [0.3190879225730896], [0.31572797894477844], [0.31242644786834717], [0.30918094515800476], [0.305989533662796], [0.30285006761550903], [0.2997608482837677], [0.29671990871429443], [0.2937256991863251], [0.2907765805721283], [0.2878711223602295], [0.28500786423683167], [0.28218546509742737], [0.27940264344215393], [0.2766582667827606], [0.27395114302635193], [0.2712801396846771], [0.2686442732810974], [0.2660425305366516], [0.26347383856773376], [0.2609374225139618], [0.2584322690963745], [0.255957692861557], [0.25351276993751526], [0.25109678506851196], [0.24870900809764862], [0.24634863436222076], [0.24401508271694183], [0.24170759320259094], [0.23942556977272034], [0.23716838657855988]]\n"
          ]
        }
      ]
    },
    {
      "cell_type": "code",
      "source": [
        "predict_future_30 = lst_output[:30]\n",
        "predict_future_60 = lst_output[30:60]\n",
        "predict_future_90 = lst_output[60:]\n"
      ],
      "metadata": {
        "id": "vPOQbRv4A-Zx"
      },
      "execution_count": 14,
      "outputs": []
    },
    {
      "cell_type": "code",
      "source": [
        "#Vẽ hình\n",
        "# train_data_index = pd.RangeIndex(start=0, stop=len(train_data), step=1)\n",
        "# plt.plot(train_data_index, scaler.inverse_transform(train_data), label='Train')\n",
        "\n",
        "test_data_index = pd.RangeIndex(start=train_size, stop=train_size+len(test_data), step=1)\n",
        "plt.plot(test_data_index, scaler.inverse_transform(test_data), label='Test')\n",
        "\n",
        "predicted_test_index = pd.RangeIndex(start=train_size, stop=train_size+len(y_pred), step=1)\n",
        "plt.plot(predicted_test_index, y_pred)\n",
        "\n",
        "predict_future_30_index = pd.RangeIndex(start=test_data_index[-1]+1, stop=test_data_index[-1]+31, step=1)\n",
        "plt.plot(predict_future_30_index, scaler.inverse_transform(predict_future_30))\n",
        "\n",
        "predict_future_60_index = pd.RangeIndex(start=test_data_index[-1]+31, stop=test_data_index[-1]+61, step=1)\n",
        "plt.plot(predict_future_60_index, scaler.inverse_transform(predict_future_60))\n",
        "\n",
        "predict_future_90_index = pd.RangeIndex(start=test_data_index[-1]+61, stop=test_data_index[-1]+91, step=1)\n",
        "plt.plot(predict_future_90_index, scaler.inverse_transform(predict_future_90))\n",
        "\n",
        "plt.title('GRU - BTC Stock Price - 8:2')\n",
        "plt.xlabel('Date')\n",
        "plt.ylabel('Price')\n",
        "plt.legend(['Test','Predict Test','Predict 30days','Predict 60days','Predict 90days'])\n",
        "plt.show()"
      ],
      "metadata": {
        "colab": {
          "base_uri": "https://localhost:8080/",
          "height": 472
        },
        "id": "9dEqqWytXSRo",
        "outputId": "8d7042e5-fc8c-4f9b-a909-452c048cd7c8"
      },
      "execution_count": 15,
      "outputs": [
        {
          "output_type": "display_data",
          "data": {
            "text/plain": [
              "<Figure size 640x480 with 1 Axes>"
            ],
            "image/png": "[encoded data removed]"
          },
          "metadata": {}
        }
      ]
    },
    {
      "cell_type": "code",
      "source": [
        "from sklearn.metrics import mean_absolute_error, mean_squared_error, mean_absolute_percentage_error\n",
        "\n",
        "mae = mean_absolute_error(y_test, y_pred)\n",
        "mape = mean_absolute_percentage_error(y_test, y_pred)\n",
        "rmse = np.sqrt(mean_squared_error(y_test, y_pred))\n",
        "\n",
        "print(\"Mean Absolute Error (MAE):\", mae)\n",
        "print(\"Mean Absolute Percentage Error (MAPE):\", mape * 100)\n",
        "print(\"Root Mean Square Error (RMSE):\", rmse)"
      ],
      "metadata": {
        "colab": {
          "base_uri": "https://localhost:8080/"
        },
        "id": "APE0pAmrJKcg",
        "outputId": "4df1eaff-f355-40b3-d610-a39e60211a7f"
      },
      "execution_count": 16,
      "outputs": [
        {
          "output_type": "stream",
          "name": "stdout",
          "text": [
            "Mean Absolute Error (MAE): 32630.536768342583\n",
            "Mean Absolute Percentage Error (MAPE): 7820766.856748024\n",
            "Root Mean Square Error (RMSE): 35951.35358180854\n"
          ]
        }
      ]
    },
    {
      "cell_type": "markdown",
      "source": [],
      "metadata": {
        "id": "3yRLTREua_1d"
      }
    },
    {
      "cell_type": "code",
      "source": [],
      "metadata": {
        "id": "fxjVSJqCa8n1"
      },
      "execution_count": null,
      "outputs": []
    }
  ]
}