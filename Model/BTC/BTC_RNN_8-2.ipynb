{
 "cells": [
  {
   "cell_type": "code",
   "execution_count": 1,
   "id": "26fdc348-5b74-4d88-a3dc-48da4d735e10",
   "metadata": {
    "tags": []
   },
   "outputs": [],
   "source": [
    "# 1. Import thư viện cần thiết\n",
    "import numpy as np\n",
    "import pandas as pd\n",
    "import matplotlib.pyplot as plt\n",
    "from sklearn.preprocessing import MinMaxScaler\n",
    "from keras.models import Sequential\n",
    "from keras.layers import Dense, SimpleRNN"
   ]
  },
  {
   "cell_type": "code",
   "execution_count": 2,
   "id": "a1081418-67c4-4366-9320-98d0255b8a87",
   "metadata": {
    "tags": []
   },
   "outputs": [
    {
     "name": "stdout",
     "output_type": "stream",
     "text": [
      "<class 'pandas.core.frame.DataFrame'>\n",
      "RangeIndex: 2285 entries, 0 to 2284\n",
      "Data columns (total 7 columns):\n",
      " #   Column     Non-Null Count  Dtype  \n",
      "---  ------     --------------  -----  \n",
      " 0   Date       2285 non-null   object \n",
      " 1   Open       2285 non-null   float64\n",
      " 2   High       2285 non-null   float64\n",
      " 3   Low        2285 non-null   float64\n",
      " 4   Price      2285 non-null   float64\n",
      " 5   Adj Close  2285 non-null   float64\n",
      " 6   Volume     2285 non-null   int64  \n",
      "dtypes: float64(5), int64(1), object(1)\n",
      "memory usage: 125.1+ KB\n"
     ]
    }
   ],
   "source": [
    "# 2. Đọc file csv và gắn index với giá Price\n",
    "df = pd.read_csv('pre_BTC-USD.csv')\n",
    "df = df.rename(columns={'Close': 'Price'})\n",
    "df1 = df.reset_index()['Price']\n",
    "df.info()"
   ]
  },
  {
   "cell_type": "code",
   "execution_count": 3,
   "id": "60ab42f9-e719-4186-ada8-ba47f31ad5a7",
   "metadata": {
    "tags": []
   },
   "outputs": [],
   "source": [
    "# 3. Scaler data\n",
    "scaler = MinMaxScaler(feature_range=(0, 1))\n",
    "df1 = scaler.fit_transform(np.array(df1).reshape(-1, 1))"
   ]
  },
  {
   "cell_type": "code",
   "execution_count": 4,
   "id": "5cc5eeb5-d78f-4ef1-87eb-4359c768e0d6",
   "metadata": {
    "tags": []
   },
   "outputs": [
    {
     "name": "stdout",
     "output_type": "stream",
     "text": [
      "Train shape: (1828, 1)\n",
      "Test shape: (457, 1)\n"
     ]
    }
   ],
   "source": [
    "# 4. Chia train test 8 - 2\n",
    "train_size = int(0.8 * len(df1))\n",
    "test_size = len(df1) - train_size\n",
    "\n",
    "# Lấy dữ liệu train và test\n",
    "train_data = df1[:train_size]\n",
    "test_data = df1[train_size:]\n",
    "\n",
    "print(\"Train shape:\", train_data.shape)\n",
    "print(\"Test shape:\", test_data.shape)"
   ]
  },
  {
   "cell_type": "code",
   "execution_count": 5,
   "id": "f9148ab3-7d6f-4b1f-ab40-c832747c52be",
   "metadata": {
    "tags": []
   },
   "outputs": [],
   "source": [
    "# 5. Hàm Create Dataset\n",
    "import numpy\n",
    "# convert an array of values into a dataset matrix\n",
    "def create_dataset(dataset, time_step=1):\n",
    "\tdataX, dataY = [], []\n",
    "\tfor i in range(len(dataset)-time_step-1):\n",
    "\t\ta = dataset[i:(i+time_step), 0]   ###i=0, X=0,1,2,3-----99   Y=100 \n",
    "\t\tdataX.append(a)\n",
    "\t\tdataY.append(dataset[i + time_step, 0])\n",
    "\treturn numpy.array(dataX), numpy.array(dataY)"
   ]
  },
  {
   "cell_type": "code",
   "execution_count": 6,
   "id": "72cc4c30-465a-4cab-8356-3baef4e1fa61",
   "metadata": {
    "tags": []
   },
   "outputs": [],
   "source": [
    "# 6. Reshape into X=t,t+1,t+2..t+99 and Y=t+100\n",
    "time_step = 100\n",
    "X_train, y_train = create_dataset(train_data, time_step)\n",
    "combined_data = np.concatenate((train_data[-time_step:], test_data))\n",
    "X_test, ytest = create_dataset(combined_data, time_step)"
   ]
  },
  {
   "cell_type": "code",
   "execution_count": 7,
   "id": "ea53b5fc-9693-41c0-94d4-433f02119225",
   "metadata": {
    "tags": []
   },
   "outputs": [],
   "source": [
    "# 7. Reshape input to be [samples, time steps, features] which is required for LSTM\n",
    "X_train = X_train.reshape(X_train.shape[0], X_train.shape[1], 1)\n",
    "X_test = X_test.reshape(X_test.shape[0], X_test.shape[1], 1)"
   ]
  },
  {
   "cell_type": "code",
   "execution_count": 8,
   "id": "15bfe900-abe3-40da-8cba-618fcf530d43",
   "metadata": {
    "tags": []
   },
   "outputs": [],
   "source": [
    "# 8. Define RNN Model\n",
    "model = Sequential()\n",
    "model.add(SimpleRNN(50, input_shape=(time_step, 1)))\n",
    "model.add(Dense(1))\n",
    "model.compile(loss='mean_squared_error', optimizer='adam')"
   ]
  },
  {
   "cell_type": "code",
   "execution_count": 9,
   "id": "cc691626-b5f4-467f-a47b-0c07f204f045",
   "metadata": {
    "tags": []
   },
   "outputs": [
    {
     "name": "stdout",
     "output_type": "stream",
     "text": [
      "Epoch 1/100\n",
      "27/27 [==============================] - 2s 38ms/step - loss: 0.0014 - val_loss: 0.0010\n",
      "Epoch 2/100\n",
      "27/27 [==============================] - 1s 20ms/step - loss: 5.9696e-04 - val_loss: 8.6823e-04\n",
      "Epoch 3/100\n",
      "27/27 [==============================] - 1s 22ms/step - loss: 5.7671e-04 - val_loss: 0.0010\n",
      "Epoch 4/100\n",
      "27/27 [==============================] - 0s 17ms/step - loss: 5.3872e-04 - val_loss: 5.8111e-04\n",
      "Epoch 5/100\n",
      "27/27 [==============================] - 0s 17ms/step - loss: 4.1681e-04 - val_loss: 6.2821e-04\n",
      "Epoch 6/100\n",
      "27/27 [==============================] - 0s 17ms/step - loss: 3.7695e-04 - val_loss: 5.4650e-04\n",
      "Epoch 7/100\n",
      "27/27 [==============================] - 0s 18ms/step - loss: 4.4007e-04 - val_loss: 5.0805e-04\n",
      "Epoch 8/100\n",
      "27/27 [==============================] - 1s 29ms/step - loss: 3.8130e-04 - val_loss: 4.7803e-04\n",
      "Epoch 9/100\n",
      "27/27 [==============================] - 0s 16ms/step - loss: 4.0031e-04 - val_loss: 4.5735e-04\n",
      "Epoch 10/100\n",
      "27/27 [==============================] - 0s 17ms/step - loss: 3.1445e-04 - val_loss: 4.4161e-04\n",
      "Epoch 11/100\n",
      "27/27 [==============================] - 0s 16ms/step - loss: 3.1156e-04 - val_loss: 4.1920e-04\n",
      "Epoch 12/100\n",
      "27/27 [==============================] - 0s 18ms/step - loss: 3.0985e-04 - val_loss: 5.2496e-04\n",
      "Epoch 13/100\n",
      "27/27 [==============================] - 1s 20ms/step - loss: 2.8723e-04 - val_loss: 5.4393e-04\n",
      "Epoch 14/100\n",
      "27/27 [==============================] - 1s 19ms/step - loss: 2.9178e-04 - val_loss: 3.9256e-04\n",
      "Epoch 15/100\n",
      "27/27 [==============================] - 0s 18ms/step - loss: 2.9709e-04 - val_loss: 4.3515e-04\n",
      "Epoch 16/100\n",
      "27/27 [==============================] - 0s 17ms/step - loss: 2.9217e-04 - val_loss: 3.5913e-04\n",
      "Epoch 17/100\n",
      "27/27 [==============================] - 0s 16ms/step - loss: 2.9115e-04 - val_loss: 3.4935e-04\n",
      "Epoch 18/100\n",
      "27/27 [==============================] - 0s 18ms/step - loss: 2.8698e-04 - val_loss: 4.5535e-04\n",
      "Epoch 19/100\n",
      "27/27 [==============================] - 0s 17ms/step - loss: 2.8547e-04 - val_loss: 3.8918e-04\n",
      "Epoch 20/100\n",
      "27/27 [==============================] - 0s 18ms/step - loss: 2.6893e-04 - val_loss: 3.5812e-04\n",
      "Epoch 21/100\n",
      "27/27 [==============================] - 0s 17ms/step - loss: 2.5739e-04 - val_loss: 3.3693e-04\n",
      "Epoch 22/100\n",
      "27/27 [==============================] - 0s 18ms/step - loss: 2.6389e-04 - val_loss: 3.8820e-04\n",
      "Epoch 23/100\n",
      "27/27 [==============================] - 1s 24ms/step - loss: 2.4014e-04 - val_loss: 3.4046e-04\n",
      "Epoch 24/100\n",
      "27/27 [==============================] - 1s 20ms/step - loss: 2.4221e-04 - val_loss: 3.3502e-04\n",
      "Epoch 25/100\n",
      "27/27 [==============================] - 0s 17ms/step - loss: 2.4354e-04 - val_loss: 3.5247e-04\n",
      "Epoch 26/100\n",
      "27/27 [==============================] - 0s 16ms/step - loss: 2.4376e-04 - val_loss: 3.4710e-04\n",
      "Epoch 27/100\n",
      "27/27 [==============================] - 0s 17ms/step - loss: 2.4032e-04 - val_loss: 3.6942e-04\n",
      "Epoch 28/100\n",
      "27/27 [==============================] - 1s 19ms/step - loss: 2.6652e-04 - val_loss: 3.4744e-04\n",
      "Epoch 29/100\n",
      "27/27 [==============================] - 1s 20ms/step - loss: 2.4696e-04 - val_loss: 4.6415e-04\n",
      "Epoch 30/100\n",
      "27/27 [==============================] - 1s 23ms/step - loss: 2.6068e-04 - val_loss: 3.6078e-04\n",
      "Epoch 31/100\n",
      "27/27 [==============================] - 1s 20ms/step - loss: 2.3733e-04 - val_loss: 3.2904e-04\n",
      "Epoch 32/100\n",
      "27/27 [==============================] - 0s 16ms/step - loss: 2.4224e-04 - val_loss: 4.7442e-04\n",
      "Epoch 33/100\n",
      "27/27 [==============================] - 0s 16ms/step - loss: 3.1665e-04 - val_loss: 4.0450e-04\n",
      "Epoch 34/100\n",
      "27/27 [==============================] - 0s 16ms/step - loss: 2.3052e-04 - val_loss: 3.1386e-04\n",
      "Epoch 35/100\n",
      "27/27 [==============================] - 0s 15ms/step - loss: 2.1855e-04 - val_loss: 3.1955e-04\n",
      "Epoch 36/100\n",
      "27/27 [==============================] - 0s 16ms/step - loss: 2.4856e-04 - val_loss: 3.2410e-04\n",
      "Epoch 37/100\n",
      "27/27 [==============================] - 0s 17ms/step - loss: 2.3854e-04 - val_loss: 3.1125e-04\n",
      "Epoch 38/100\n",
      "27/27 [==============================] - 0s 16ms/step - loss: 2.3588e-04 - val_loss: 4.2870e-04\n",
      "Epoch 39/100\n",
      "27/27 [==============================] - 0s 16ms/step - loss: 2.2517e-04 - val_loss: 3.2965e-04\n",
      "Epoch 40/100\n",
      "27/27 [==============================] - 0s 16ms/step - loss: 2.1913e-04 - val_loss: 3.4089e-04\n",
      "Epoch 41/100\n",
      "27/27 [==============================] - 1s 19ms/step - loss: 2.1666e-04 - val_loss: 3.4628e-04\n",
      "Epoch 42/100\n",
      "27/27 [==============================] - 0s 17ms/step - loss: 2.2257e-04 - val_loss: 3.5419e-04\n",
      "Epoch 43/100\n",
      "27/27 [==============================] - 0s 18ms/step - loss: 2.1450e-04 - val_loss: 3.2131e-04\n",
      "Epoch 44/100\n",
      "27/27 [==============================] - 1s 23ms/step - loss: 2.1253e-04 - val_loss: 3.2419e-04\n",
      "Epoch 45/100\n",
      "27/27 [==============================] - 0s 17ms/step - loss: 2.1844e-04 - val_loss: 3.0693e-04\n",
      "Epoch 46/100\n",
      "27/27 [==============================] - 0s 18ms/step - loss: 2.1875e-04 - val_loss: 3.2709e-04\n",
      "Epoch 47/100\n",
      "27/27 [==============================] - 1s 26ms/step - loss: 2.1052e-04 - val_loss: 3.4564e-04\n",
      "Epoch 48/100\n",
      "27/27 [==============================] - 0s 17ms/step - loss: 2.1169e-04 - val_loss: 3.8124e-04\n",
      "Epoch 49/100\n",
      "27/27 [==============================] - 1s 21ms/step - loss: 2.1757e-04 - val_loss: 3.5113e-04\n",
      "Epoch 50/100\n",
      "27/27 [==============================] - 0s 18ms/step - loss: 2.3930e-04 - val_loss: 3.6933e-04\n",
      "Epoch 51/100\n",
      "27/27 [==============================] - 0s 15ms/step - loss: 2.2140e-04 - val_loss: 3.3351e-04\n",
      "Epoch 52/100\n",
      "27/27 [==============================] - 0s 16ms/step - loss: 2.3337e-04 - val_loss: 3.2041e-04\n",
      "Epoch 53/100\n",
      "27/27 [==============================] - 1s 19ms/step - loss: 2.5358e-04 - val_loss: 6.4645e-04\n",
      "Epoch 54/100\n",
      "27/27 [==============================] - 1s 20ms/step - loss: 2.8196e-04 - val_loss: 3.3798e-04\n",
      "Epoch 55/100\n",
      "27/27 [==============================] - 1s 18ms/step - loss: 2.1896e-04 - val_loss: 3.3063e-04\n",
      "Epoch 56/100\n",
      "27/27 [==============================] - 0s 17ms/step - loss: 2.0923e-04 - val_loss: 3.1208e-04\n",
      "Epoch 57/100\n",
      "27/27 [==============================] - 0s 16ms/step - loss: 2.1287e-04 - val_loss: 3.5759e-04\n",
      "Epoch 58/100\n",
      "27/27 [==============================] - 1s 19ms/step - loss: 2.2170e-04 - val_loss: 3.2427e-04\n",
      "Epoch 59/100\n",
      "27/27 [==============================] - 0s 18ms/step - loss: 2.3689e-04 - val_loss: 3.2138e-04\n",
      "Epoch 60/100\n",
      "27/27 [==============================] - 0s 17ms/step - loss: 2.1220e-04 - val_loss: 3.1590e-04\n",
      "Epoch 61/100\n",
      "27/27 [==============================] - 0s 16ms/step - loss: 2.1412e-04 - val_loss: 3.0889e-04\n",
      "Epoch 62/100\n",
      "27/27 [==============================] - 0s 15ms/step - loss: 2.0548e-04 - val_loss: 3.1047e-04\n",
      "Epoch 63/100\n",
      "27/27 [==============================] - 0s 16ms/step - loss: 2.0947e-04 - val_loss: 3.1451e-04\n",
      "Epoch 64/100\n",
      "27/27 [==============================] - 0s 18ms/step - loss: 2.1538e-04 - val_loss: 3.6715e-04\n",
      "Epoch 65/100\n",
      "27/27 [==============================] - 0s 17ms/step - loss: 2.1838e-04 - val_loss: 3.2054e-04\n",
      "Epoch 66/100\n",
      "27/27 [==============================] - 1s 18ms/step - loss: 2.2089e-04 - val_loss: 3.1030e-04\n",
      "Epoch 67/100\n",
      "27/27 [==============================] - 1s 26ms/step - loss: 2.0579e-04 - val_loss: 3.1830e-04\n",
      "Epoch 68/100\n",
      "27/27 [==============================] - 0s 17ms/step - loss: 2.1894e-04 - val_loss: 3.1264e-04\n",
      "Epoch 69/100\n",
      "27/27 [==============================] - 1s 19ms/step - loss: 2.2435e-04 - val_loss: 3.7186e-04\n",
      "Epoch 70/100\n",
      "27/27 [==============================] - 0s 16ms/step - loss: 2.2084e-04 - val_loss: 3.8055e-04\n",
      "Epoch 71/100\n",
      "27/27 [==============================] - 0s 15ms/step - loss: 2.1530e-04 - val_loss: 4.3561e-04\n",
      "Epoch 72/100\n",
      "27/27 [==============================] - 0s 18ms/step - loss: 2.1936e-04 - val_loss: 3.4811e-04\n",
      "Epoch 73/100\n",
      "27/27 [==============================] - 1s 26ms/step - loss: 2.4244e-04 - val_loss: 3.1982e-04\n",
      "Epoch 74/100\n",
      "27/27 [==============================] - 1s 21ms/step - loss: 2.1377e-04 - val_loss: 3.2296e-04\n",
      "Epoch 75/100\n",
      "27/27 [==============================] - 0s 18ms/step - loss: 2.0937e-04 - val_loss: 3.2351e-04\n",
      "Epoch 76/100\n",
      "27/27 [==============================] - 0s 16ms/step - loss: 2.2408e-04 - val_loss: 3.2257e-04\n",
      "Epoch 77/100\n",
      "27/27 [==============================] - 0s 16ms/step - loss: 2.2044e-04 - val_loss: 4.2576e-04\n",
      "Epoch 78/100\n",
      "27/27 [==============================] - 0s 17ms/step - loss: 2.2755e-04 - val_loss: 3.1946e-04\n",
      "Epoch 79/100\n",
      "27/27 [==============================] - 0s 17ms/step - loss: 2.0748e-04 - val_loss: 3.1616e-04\n",
      "Epoch 80/100\n",
      "27/27 [==============================] - 0s 16ms/step - loss: 2.1101e-04 - val_loss: 3.5277e-04\n",
      "Epoch 81/100\n",
      "27/27 [==============================] - 1s 20ms/step - loss: 2.2544e-04 - val_loss: 4.0787e-04\n",
      "Epoch 82/100\n",
      "27/27 [==============================] - 1s 25ms/step - loss: 2.2584e-04 - val_loss: 4.2748e-04\n",
      "Epoch 83/100\n",
      "27/27 [==============================] - 1s 18ms/step - loss: 2.1466e-04 - val_loss: 3.3687e-04\n",
      "Epoch 84/100\n",
      "27/27 [==============================] - 0s 17ms/step - loss: 2.2931e-04 - val_loss: 4.3084e-04\n",
      "Epoch 85/100\n",
      "27/27 [==============================] - 0s 16ms/step - loss: 2.2759e-04 - val_loss: 3.2083e-04\n",
      "Epoch 86/100\n",
      "27/27 [==============================] - 0s 15ms/step - loss: 2.0592e-04 - val_loss: 3.2405e-04\n",
      "Epoch 87/100\n",
      "27/27 [==============================] - 0s 17ms/step - loss: 2.1266e-04 - val_loss: 3.4318e-04\n",
      "Epoch 88/100\n",
      "27/27 [==============================] - 0s 16ms/step - loss: 2.1495e-04 - val_loss: 3.9814e-04\n",
      "Epoch 89/100\n",
      "27/27 [==============================] - 0s 16ms/step - loss: 2.0577e-04 - val_loss: 3.3331e-04\n",
      "Epoch 90/100\n",
      "27/27 [==============================] - 0s 15ms/step - loss: 2.1576e-04 - val_loss: 3.2848e-04\n",
      "Epoch 91/100\n",
      "27/27 [==============================] - 0s 16ms/step - loss: 2.2587e-04 - val_loss: 3.8616e-04\n",
      "Epoch 92/100\n",
      "27/27 [==============================] - 0s 16ms/step - loss: 2.1551e-04 - val_loss: 3.1242e-04\n",
      "Epoch 93/100\n",
      "27/27 [==============================] - 0s 16ms/step - loss: 2.0959e-04 - val_loss: 3.1352e-04\n",
      "Epoch 94/100\n",
      "27/27 [==============================] - 0s 16ms/step - loss: 2.0877e-04 - val_loss: 3.1695e-04\n",
      "Epoch 95/100\n",
      "27/27 [==============================] - 0s 15ms/step - loss: 2.0670e-04 - val_loss: 3.7252e-04\n",
      "Epoch 96/100\n",
      "27/27 [==============================] - 0s 16ms/step - loss: 2.4337e-04 - val_loss: 3.1044e-04\n",
      "Epoch 97/100\n",
      "27/27 [==============================] - 0s 18ms/step - loss: 2.0680e-04 - val_loss: 3.2331e-04\n",
      "Epoch 98/100\n",
      "27/27 [==============================] - 0s 18ms/step - loss: 2.0650e-04 - val_loss: 3.2039e-04\n",
      "Epoch 99/100\n",
      "27/27 [==============================] - 1s 19ms/step - loss: 2.1290e-04 - val_loss: 3.3550e-04\n",
      "Epoch 100/100\n",
      "27/27 [==============================] - 1s 26ms/step - loss: 2.1890e-04 - val_loss: 3.2940e-04\n"
     ]
    },
    {
     "data": {
      "text/plain": [
       "<keras.callbacks.History at 0x24306f82c20>"
      ]
     },
     "execution_count": 9,
     "metadata": {},
     "output_type": "execute_result"
    }
   ],
   "source": [
    "# 9. Fit mô hình với dữ liệu train\n",
    "model.fit(X_train, y_train, validation_data=(X_test, ytest), epochs=100, batch_size=64, verbose=1)"
   ]
  },
  {
   "cell_type": "code",
   "execution_count": 10,
   "id": "c55c37b5-5b6b-4482-8ef1-63d82cd60fae",
   "metadata": {
    "tags": []
   },
   "outputs": [
    {
     "name": "stdout",
     "output_type": "stream",
     "text": [
      "54/54 [==============================] - 0s 6ms/step\n",
      "15/15 [==============================] - 0s 5ms/step\n"
     ]
    }
   ],
   "source": [
    "# 10. Dự báo dữ liệu test\n",
    "train_predict = model.predict(X_train)\n",
    "y_pred = model.predict(X_test)"
   ]
  },
  {
   "cell_type": "code",
   "execution_count": 11,
   "id": "e1ef089c-abd2-4072-9177-25ff22485fa8",
   "metadata": {
    "tags": []
   },
   "outputs": [],
   "source": [
    "# 11. Chuẩn hóa dữ liệu y_pred\n",
    "train_predict = scaler.inverse_transform(train_predict)\n",
    "y_pred = scaler.inverse_transform(y_pred)"
   ]
  },
  {
   "cell_type": "code",
   "execution_count": 12,
   "id": "6c14ba0c-354e-4514-a7ed-98b43cbcc1f9",
   "metadata": {
    "tags": []
   },
   "outputs": [
    {
     "name": "stdout",
     "output_type": "stream",
     "text": [
      "Mean Absolute Error (MAE): 39408.14876995289\n",
      "Mean Absolute Percentage Error (MAPE): 7665900.582715941\n",
      "Root Mean Square Error (RMSE): 42174.6448493787\n"
     ]
    }
   ],
   "source": [
    "# 12. Tính RMSE, MAPE, MAE\n",
    "from sklearn.metrics import mean_absolute_error, mean_squared_error, mean_absolute_percentage_error\n",
    "\n",
    "mae = mean_absolute_error(ytest, y_pred)\n",
    "mape = mean_absolute_percentage_error(ytest, y_pred)\n",
    "rmse = np.sqrt(mean_squared_error(ytest, y_pred))\n",
    "\n",
    "print(\"Mean Absolute Error (MAE):\", mae)\n",
    "print(\"Mean Absolute Percentage Error (MAPE):\", mape * 100)\n",
    "print(\"Root Mean Square Error (RMSE):\", rmse)"
   ]
  },
  {
   "cell_type": "code",
   "execution_count": 13,
   "id": "a858ddd6-d663-47e2-b024-95e269c52c71",
   "metadata": {
    "tags": []
   },
   "outputs": [],
   "source": [
    "# 13. Hàm dự báo\n",
    "def forecast_days(n_days):\n",
    "    x_input = test_data[-100:].reshape(1, -1)\n",
    "    temp_input = list(x_input[0])\n",
    "\n",
    "    lst_output = []\n",
    "    i = 0\n",
    "    while i < n_days:\n",
    "        if len(temp_input) > 100:\n",
    "            x_input = np.array(temp_input[1:])\n",
    "            x_input = x_input.reshape(1, -1)\n",
    "            x_input = x_input.reshape((1, time_step, 1))\n",
    "            yhat = model.predict(x_input, verbose=0)\n",
    "            temp_input.extend(yhat[0].tolist())\n",
    "            temp_input = temp_input[1:]\n",
    "            lst_output.extend(yhat.tolist())\n",
    "            i += 1\n",
    "        else:\n",
    "            x_input = x_input.reshape((1, time_step, 1))\n",
    "            yhat = model.predict(x_input, verbose=0)\n",
    "            temp_input.extend(yhat[0].tolist())\n",
    "            lst_output.extend(yhat.tolist())\n",
    "            i += 1\n",
    "    return lst_output"
   ]
  },
  {
   "cell_type": "code",
   "execution_count": 14,
   "id": "a3f20539-86f3-4c0d-ac02-6d3159836533",
   "metadata": {
    "tags": []
   },
   "outputs": [],
   "source": [
    "# 14. Dự báo 30, 60, 90 ngày tiếp theo\n",
    "forecast_30 = forecast_days(30)\n",
    "forecast_60 = forecast_days(60)\n",
    "forecast_90 = forecast_days(90)"
   ]
  },
  {
   "cell_type": "code",
   "execution_count": 15,
   "id": "e3ed23dc-59fe-4c17-aed7-762004a4dc86",
   "metadata": {
    "tags": []
   },
   "outputs": [
    {
     "name": "stdout",
     "output_type": "stream",
     "text": [
      "Dự báo cho 30 ngày tiếp theo: [[0.9181546568870544], [0.9006795883178711], [0.8942704796791077], [0.8909125924110413], [0.8835239410400391], [0.8687830567359924], [0.8643010258674622], [0.861541211605072], [0.8515884280204773], [0.8494152426719666], [0.8403239846229553], [0.8320891261100769], [0.8250534534454346], [0.8262559175491333], [0.8187090158462524], [0.81606125831604], [0.8070178031921387], [0.8003865480422974], [0.7985060214996338], [0.7925533056259155], [0.7917238473892212], [0.7854819893836975], [0.7819601893424988], [0.7739738821983337], [0.7740834355354309], [0.7684260606765747], [0.7646500468254089], [0.7624035477638245], [0.7572402954101562], [0.752022922039032]]\n"
     ]
    }
   ],
   "source": [
    "# 15. In ra dự đoán cho 30 ngày tiếp theo\n",
    "print(\"Dự báo cho 30 ngày tiếp theo:\", forecast_30)"
   ]
  },
  {
   "cell_type": "code",
   "execution_count": 16,
   "id": "fbbbde1a-59a7-40bd-a4f7-cf5d05e1cda2",
   "metadata": {
    "tags": []
   },
   "outputs": [
    {
     "name": "stdout",
     "output_type": "stream",
     "text": [
      "Dự báo cho 60 ngày tiếp theo: [[0.9181546568870544], [0.9006795883178711], [0.8942704796791077], [0.8909125924110413], [0.8835239410400391], [0.8687830567359924], [0.8643010258674622], [0.861541211605072], [0.8515884280204773], [0.8494152426719666], [0.8403239846229553], [0.8320891261100769], [0.8250534534454346], [0.8262559175491333], [0.8187090158462524], [0.81606125831604], [0.8070178031921387], [0.8003865480422974], [0.7985060214996338], [0.7925533056259155], [0.7917238473892212], [0.7854819893836975], [0.7819601893424988], [0.7739738821983337], [0.7740834355354309], [0.7684260606765747], [0.7646500468254089], [0.7624035477638245], [0.7572402954101562], [0.752022922039032], [0.7509275674819946], [0.7502200603485107], [0.7441536784172058], [0.7385647296905518], [0.7373356223106384], [0.7352871894836426], [0.7308856844902039], [0.7288210391998291], [0.7254190444946289], [0.7207506895065308], [0.7188142538070679], [0.7168185114860535], [0.7137309312820435], [0.7099020481109619], [0.7072507739067078], [0.7046703100204468], [0.7032602429389954], [0.7012746334075928], [0.6965944170951843], [0.6938309669494629], [0.6916574835777283], [0.689786970615387], [0.6872673034667969], [0.6850823760032654], [0.6821104884147644], [0.6794596314430237], [0.6770654916763306], [0.675694465637207], [0.6734600067138672], [0.6711469888687134]]\n"
     ]
    }
   ],
   "source": [
    "# 15. In ra dự đoán cho 60 ngày tiếp theo\n",
    "print(\"Dự báo cho 60 ngày tiếp theo:\", forecast_60)"
   ]
  },
  {
   "cell_type": "code",
   "execution_count": 17,
   "id": "09bec281-2bd7-4939-9482-db139601dec3",
   "metadata": {
    "tags": []
   },
   "outputs": [
    {
     "name": "stdout",
     "output_type": "stream",
     "text": [
      "Dự báo cho 90 ngày tiếp theo: [[0.9181546568870544], [0.9006795883178711], [0.8942704796791077], [0.8909125924110413], [0.8835239410400391], [0.8687830567359924], [0.8643010258674622], [0.861541211605072], [0.8515884280204773], [0.8494152426719666], [0.8403239846229553], [0.8320891261100769], [0.8250534534454346], [0.8262559175491333], [0.8187090158462524], [0.81606125831604], [0.8070178031921387], [0.8003865480422974], [0.7985060214996338], [0.7925533056259155], [0.7917238473892212], [0.7854819893836975], [0.7819601893424988], [0.7739738821983337], [0.7740834355354309], [0.7684260606765747], [0.7646500468254089], [0.7624035477638245], [0.7572402954101562], [0.752022922039032], [0.7509275674819946], [0.7502200603485107], [0.7441536784172058], [0.7385647296905518], [0.7373356223106384], [0.7352871894836426], [0.7308856844902039], [0.7288210391998291], [0.7254190444946289], [0.7207506895065308], [0.7188142538070679], [0.7168185114860535], [0.7137309312820435], [0.7099020481109619], [0.7072507739067078], [0.7046703100204468], [0.7032602429389954], [0.7012746334075928], [0.6965944170951843], [0.6938309669494629], [0.6916574835777283], [0.689786970615387], [0.6872673034667969], [0.6850823760032654], [0.6821104884147644], [0.6794596314430237], [0.6770654916763306], [0.675694465637207], [0.6734600067138672], [0.6711469888687134], [0.6679495573043823], [0.6661679744720459], [0.6652706861495972], [0.6628217697143555], [0.6605954766273499], [0.6583067178726196], [0.6558677554130554], [0.6543100476264954], [0.6531956791877747], [0.6510789394378662], [0.648571789264679], [0.6471090316772461], [0.6452406048774719], [0.6433245539665222], [0.6423662900924683], [0.6401512622833252], [0.6376758217811584], [0.6362797021865845], [0.6351056694984436], [0.6334165334701538], [0.6316279768943787], [0.6300166845321655], [0.6283428072929382], [0.6265757083892822], [0.6257068514823914], [0.6241099238395691], [0.6224953532218933], [0.6208422183990479], [0.6194105744361877], [0.6184672713279724]]\n"
     ]
    }
   ],
   "source": [
    "# 15. In ra dự đoán cho 90 ngày tiếp theo\n",
    "print(\"Dự báo cho 90 ngày tiếp theo:\", forecast_90)"
   ]
  },
  {
   "cell_type": "code",
   "execution_count": 18,
   "id": "1a2ee735-ad92-4ff0-a51f-7fa1da4773fc",
   "metadata": {
    "tags": []
   },
   "outputs": [
    {
     "data": {
      "image/png": "[encoded data removed]",
      "text/plain": [
       "<Figure size 640x480 with 1 Axes>"
      ]
     },
     "metadata": {},
     "output_type": "display_data"
    }
   ],
   "source": [
    "# 16. Vẽ hình\n",
    "\n",
    "# Vẽ dữ liệu kiểm tra\n",
    "test_data_index = pd.RangeIndex(start=train_size, stop=train_size + test_size)\n",
    "plt.plot(test_data_index, scaler.inverse_transform(test_data), label='Test Data')\n",
    "\n",
    "# Vẽ dữ liệu dự đoán\n",
    "plt.plot(np.arange(train_size, train_size + len(y_pred)), y_pred, label='Predicted')\n",
    "\n",
    "# Vẽ dự báo 90, 60, 30 ngày\n",
    "plt.plot(np.arange(train_size + len(test_data), train_size + len(test_data) + len(forecast_90)), scaler.inverse_transform(forecast_90), label='Forecast 90 days')\n",
    "plt.plot(np.arange(train_size + len(test_data), train_size + len(test_data) + len(forecast_60)), scaler.inverse_transform(forecast_60), label='Forecast 60 days')\n",
    "plt.plot(np.arange(train_size + len(test_data), train_size + len(test_data) + len(forecast_30)), scaler.inverse_transform(forecast_30), label='Forecast 30 days')\n",
    "\n",
    "plt.title('RNN - BTC Stock Price - Forecast 30, 60, 90 days')\n",
    "plt.legend()\n",
    "plt.show()\n"
   ]
  }
 ],
 "metadata": {
  "kernelspec": {
   "display_name": "Python 3 (ipykernel)",
   "language": "python",
   "name": "python3"
  },
  "language_info": {
   "codemirror_mode": {
    "name": "ipython",
    "version": 3
   },
   "file_extension": ".py",
   "mimetype": "text/x-python",
   "name": "python",
   "nbconvert_exporter": "python",
   "pygments_lexer": "ipython3",
   "version": "3.10.8"
  }
 },
 "nbformat": 4,
 "nbformat_minor": 5
}
