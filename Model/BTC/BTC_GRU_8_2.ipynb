{
  "nbformat": 4,
  "nbformat_minor": 0,
  "metadata": {
    "colab": {
      "provenance": []
    },
    "kernelspec": {
      "name": "python3",
      "display_name": "Python 3"
    },
    "language_info": {
      "name": "python"
    }
  },
  "cells": [
    {
      "cell_type": "code",
      "execution_count": 1,
      "metadata": {
        "id": "2s2M7RWnLyVs",
        "colab": {
          "base_uri": "https://localhost:8080/"
        },
        "outputId": "d9edfbe6-93da-4764-d112-9f59743eb170"
      },
      "outputs": [
        {
          "output_type": "stream",
          "name": "stdout",
          "text": [
            "Mounted at /content/drive\n"
          ]
        }
      ],
      "source": [
        "from google.colab import drive\n",
        "drive.mount('/content/drive')\n",
        "import numpy as np\n",
        "import pandas as pd\n",
        "import matplotlib.pyplot as plt\n",
        "from sklearn.preprocessing import MinMaxScaler\n",
        "from keras.models import Sequential\n",
        "from keras.layers import Dense, GRU"
      ]
    },
    {
      "cell_type": "code",
      "source": [
        "# Đọc file csv\n",
        "df = pd.read_csv('/content/drive/MyDrive/Colab Notebooks/Data/pre_BTC-USD.csv')\n",
        "df = df.rename(columns={'Close': 'Price'})\n",
        "df['Date'] = pd.to_datetime(df['Date'])\n",
        "df.head(5)"
      ],
      "metadata": {
        "id": "N4mD72x5nuXt",
        "colab": {
          "base_uri": "https://localhost:8080/",
          "height": 206
        },
        "outputId": "4ec49fd1-4dfd-44e9-d596-1a4e46554de0"
      },
      "execution_count": 2,
      "outputs": [
        {
          "output_type": "execute_result",
          "data": {
            "text/plain": [
              "        Date          Open          High           Low         Price  \\\n",
              "0 2018-03-01  10385.000000  11052.299805  10352.700195  10951.000000   \n",
              "1 2018-03-02  10977.400391  11189.000000  10850.099609  11086.400391   \n",
              "2 2018-03-03  11101.900391  11528.200195  11002.400391  11489.700195   \n",
              "3 2018-03-04  11497.400391  11512.599609  11136.099609  11512.599609   \n",
              "4 2018-03-05  11532.400391  11704.099609  11443.900391  11573.299805   \n",
              "\n",
              "      Adj Close      Volume  \n",
              "0  10951.000000  7317279744  \n",
              "1  11086.400391  7620590080  \n",
              "2  11489.700195  6690570240  \n",
              "3  11512.599609  6084149760  \n",
              "4  11573.299805  6468539904  "
            ],
            "text/html": [
              "\n",
              "  <div id=\"df-cce85643-89fc-4d97-aa20-9544d9f23799\" class=\"colab-df-container\">\n",
              "    <div>\n",
              "<style scoped>\n",
              "    .dataframe tbody tr th:only-of-type {\n",
              "        vertical-align: middle;\n",
              "    }\n",
              "\n",
              "    .dataframe tbody tr th {\n",
              "        vertical-align: top;\n",
              "    }\n",
              "\n",
              "    .dataframe thead th {\n",
              "        text-align: right;\n",
              "    }\n",
              "</style>\n",
              "<table border=\"1\" class=\"dataframe\">\n",
              "  <thead>\n",
              "    <tr style=\"text-align: right;\">\n",
              "      <th></th>\n",
              "      <th>Date</th>\n",
              "      <th>Open</th>\n",
              "      <th>High</th>\n",
              "      <th>Low</th>\n",
              "      <th>Price</th>\n",
              "      <th>Adj Close</th>\n",
              "      <th>Volume</th>\n",
              "    </tr>\n",
              "  </thead>\n",
              "  <tbody>\n",
              "    <tr>\n",
              "      <th>0</th>\n",
              "      <td>2018-03-01</td>\n",
              "      <td>10385.000000</td>\n",
              "      <td>11052.299805</td>\n",
              "      <td>10352.700195</td>\n",
              "      <td>10951.000000</td>\n",
              "      <td>10951.000000</td>\n",
              "      <td>7317279744</td>\n",
              "    </tr>\n",
              "    <tr>\n",
              "      <th>1</th>\n",
              "      <td>2018-03-02</td>\n",
              "      <td>10977.400391</td>\n",
              "      <td>11189.000000</td>\n",
              "      <td>10850.099609</td>\n",
              "      <td>11086.400391</td>\n",
              "      <td>11086.400391</td>\n",
              "      <td>7620590080</td>\n",
              "    </tr>\n",
              "    <tr>\n",
              "      <th>2</th>\n",
              "      <td>2018-03-03</td>\n",
              "      <td>11101.900391</td>\n",
              "      <td>11528.200195</td>\n",
              "      <td>11002.400391</td>\n",
              "      <td>11489.700195</td>\n",
              "      <td>11489.700195</td>\n",
              "      <td>6690570240</td>\n",
              "    </tr>\n",
              "    <tr>\n",
              "      <th>3</th>\n",
              "      <td>2018-03-04</td>\n",
              "      <td>11497.400391</td>\n",
              "      <td>11512.599609</td>\n",
              "      <td>11136.099609</td>\n",
              "      <td>11512.599609</td>\n",
              "      <td>11512.599609</td>\n",
              "      <td>6084149760</td>\n",
              "    </tr>\n",
              "    <tr>\n",
              "      <th>4</th>\n",
              "      <td>2018-03-05</td>\n",
              "      <td>11532.400391</td>\n",
              "      <td>11704.099609</td>\n",
              "      <td>11443.900391</td>\n",
              "      <td>11573.299805</td>\n",
              "      <td>11573.299805</td>\n",
              "      <td>6468539904</td>\n",
              "    </tr>\n",
              "  </tbody>\n",
              "</table>\n",
              "</div>\n",
              "    <div class=\"colab-df-buttons\">\n",
              "\n",
              "  <div class=\"colab-df-container\">\n",
              "    <button class=\"colab-df-convert\" onclick=\"convertToInteractive('df-cce85643-89fc-4d97-aa20-9544d9f23799')\"\n",
              "            title=\"Convert this dataframe to an interactive table.\"\n",
              "            style=\"display:none;\">\n",
              "\n",
              "  <svg xmlns=\"http://www.w3.org/2000/svg\" height=\"24px\" viewBox=\"0 -960 960 960\">\n",
              "    <path d=\"M120-120v-720h720v720H120Zm60-500h600v-160H180v160Zm220 220h160v-160H400v160Zm0 220h160v-160H400v160ZM180-400h160v-160H180v160Zm440 0h160v-160H620v160ZM180-180h160v-160H180v160Zm440 0h160v-160H620v160Z\"/>\n",
              "  </svg>\n",
              "    </button>\n",
              "\n",
              "  <style>\n",
              "    .colab-df-container {\n",
              "      display:flex;\n",
              "      gap: 12px;\n",
              "    }\n",
              "\n",
              "    .colab-df-convert {\n",
              "      background-color: #E8F0FE;\n",
              "      border: none;\n",
              "      border-radius: 50%;\n",
              "      cursor: pointer;\n",
              "      display: none;\n",
              "      fill: #1967D2;\n",
              "      height: 32px;\n",
              "      padding: 0 0 0 0;\n",
              "      width: 32px;\n",
              "    }\n",
              "\n",
              "    .colab-df-convert:hover {\n",
              "      background-color: #E2EBFA;\n",
              "      box-shadow: 0px 1px 2px rgba(60, 64, 67, 0.3), 0px 1px 3px 1px rgba(60, 64, 67, 0.15);\n",
              "      fill: #174EA6;\n",
              "    }\n",
              "\n",
              "    .colab-df-buttons div {\n",
              "      margin-bottom: 4px;\n",
              "    }\n",
              "\n",
              "    [theme=dark] .colab-df-convert {\n",
              "      background-color: #3B4455;\n",
              "      fill: #D2E3FC;\n",
              "    }\n",
              "\n",
              "    [theme=dark] .colab-df-convert:hover {\n",
              "      background-color: #434B5C;\n",
              "      box-shadow: 0px 1px 3px 1px rgba(0, 0, 0, 0.15);\n",
              "      filter: drop-shadow(0px 1px 2px rgba(0, 0, 0, 0.3));\n",
              "      fill: #FFFFFF;\n",
              "    }\n",
              "  </style>\n",
              "\n",
              "    <script>\n",
              "      const buttonEl =\n",
              "        document.querySelector('#df-cce85643-89fc-4d97-aa20-9544d9f23799 button.colab-df-convert');\n",
              "      buttonEl.style.display =\n",
              "        google.colab.kernel.accessAllowed ? 'block' : 'none';\n",
              "\n",
              "      async function convertToInteractive(key) {\n",
              "        const element = document.querySelector('#df-cce85643-89fc-4d97-aa20-9544d9f23799');\n",
              "        const dataTable =\n",
              "          await google.colab.kernel.invokeFunction('convertToInteractive',\n",
              "                                                    [key], {});\n",
              "        if (!dataTable) return;\n",
              "\n",
              "        const docLinkHtml = 'Like what you see? Visit the ' +\n",
              "          '<a target=\"_blank\" href=https://colab.research.google.com/notebooks/data_table.ipynb>data table notebook</a>'\n",
              "          + ' to learn more about interactive tables.';\n",
              "        element.innerHTML = '';\n",
              "        dataTable['output_type'] = 'display_data';\n",
              "        await google.colab.output.renderOutput(dataTable, element);\n",
              "        const docLink = document.createElement('div');\n",
              "        docLink.innerHTML = docLinkHtml;\n",
              "        element.appendChild(docLink);\n",
              "      }\n",
              "    </script>\n",
              "  </div>\n",
              "\n",
              "\n",
              "<div id=\"df-3cdbc708-ed3a-41fe-bf4a-d730091fe36d\">\n",
              "  <button class=\"colab-df-quickchart\" onclick=\"quickchart('df-3cdbc708-ed3a-41fe-bf4a-d730091fe36d')\"\n",
              "            title=\"Suggest charts\"\n",
              "            style=\"display:none;\">\n",
              "\n",
              "<svg xmlns=\"http://www.w3.org/2000/svg\" height=\"24px\"viewBox=\"0 0 24 24\"\n",
              "     width=\"24px\">\n",
              "    <g>\n",
              "        <path d=\"M19 3H5c-1.1 0-2 .9-2 2v14c0 1.1.9 2 2 2h14c1.1 0 2-.9 2-2V5c0-1.1-.9-2-2-2zM9 17H7v-7h2v7zm4 0h-2V7h2v10zm4 0h-2v-4h2v4z\"/>\n",
              "    </g>\n",
              "</svg>\n",
              "  </button>\n",
              "\n",
              "<style>\n",
              "  .colab-df-quickchart {\n",
              "      --bg-color: #E8F0FE;\n",
              "      --fill-color: #1967D2;\n",
              "      --hover-bg-color: #E2EBFA;\n",
              "      --hover-fill-color: #174EA6;\n",
              "      --disabled-fill-color: #AAA;\n",
              "      --disabled-bg-color: #DDD;\n",
              "  }\n",
              "\n",
              "  [theme=dark] .colab-df-quickchart {\n",
              "      --bg-color: #3B4455;\n",
              "      --fill-color: #D2E3FC;\n",
              "      --hover-bg-color: #434B5C;\n",
              "      --hover-fill-color: #FFFFFF;\n",
              "      --disabled-bg-color: #3B4455;\n",
              "      --disabled-fill-color: #666;\n",
              "  }\n",
              "\n",
              "  .colab-df-quickchart {\n",
              "    background-color: var(--bg-color);\n",
              "    border: none;\n",
              "    border-radius: 50%;\n",
              "    cursor: pointer;\n",
              "    display: none;\n",
              "    fill: var(--fill-color);\n",
              "    height: 32px;\n",
              "    padding: 0;\n",
              "    width: 32px;\n",
              "  }\n",
              "\n",
              "  .colab-df-quickchart:hover {\n",
              "    background-color: var(--hover-bg-color);\n",
              "    box-shadow: 0 1px 2px rgba(60, 64, 67, 0.3), 0 1px 3px 1px rgba(60, 64, 67, 0.15);\n",
              "    fill: var(--button-hover-fill-color);\n",
              "  }\n",
              "\n",
              "  .colab-df-quickchart-complete:disabled,\n",
              "  .colab-df-quickchart-complete:disabled:hover {\n",
              "    background-color: var(--disabled-bg-color);\n",
              "    fill: var(--disabled-fill-color);\n",
              "    box-shadow: none;\n",
              "  }\n",
              "\n",
              "  .colab-df-spinner {\n",
              "    border: 2px solid var(--fill-color);\n",
              "    border-color: transparent;\n",
              "    border-bottom-color: var(--fill-color);\n",
              "    animation:\n",
              "      spin 1s steps(1) infinite;\n",
              "  }\n",
              "\n",
              "  @keyframes spin {\n",
              "    0% {\n",
              "      border-color: transparent;\n",
              "      border-bottom-color: var(--fill-color);\n",
              "      border-left-color: var(--fill-color);\n",
              "    }\n",
              "    20% {\n",
              "      border-color: transparent;\n",
              "      border-left-color: var(--fill-color);\n",
              "      border-top-color: var(--fill-color);\n",
              "    }\n",
              "    30% {\n",
              "      border-color: transparent;\n",
              "      border-left-color: var(--fill-color);\n",
              "      border-top-color: var(--fill-color);\n",
              "      border-right-color: var(--fill-color);\n",
              "    }\n",
              "    40% {\n",
              "      border-color: transparent;\n",
              "      border-right-color: var(--fill-color);\n",
              "      border-top-color: var(--fill-color);\n",
              "    }\n",
              "    60% {\n",
              "      border-color: transparent;\n",
              "      border-right-color: var(--fill-color);\n",
              "    }\n",
              "    80% {\n",
              "      border-color: transparent;\n",
              "      border-right-color: var(--fill-color);\n",
              "      border-bottom-color: var(--fill-color);\n",
              "    }\n",
              "    90% {\n",
              "      border-color: transparent;\n",
              "      border-bottom-color: var(--fill-color);\n",
              "    }\n",
              "  }\n",
              "</style>\n",
              "\n",
              "  <script>\n",
              "    async function quickchart(key) {\n",
              "      const quickchartButtonEl =\n",
              "        document.querySelector('#' + key + ' button');\n",
              "      quickchartButtonEl.disabled = true;  // To prevent multiple clicks.\n",
              "      quickchartButtonEl.classList.add('colab-df-spinner');\n",
              "      try {\n",
              "        const charts = await google.colab.kernel.invokeFunction(\n",
              "            'suggestCharts', [key], {});\n",
              "      } catch (error) {\n",
              "        console.error('Error during call to suggestCharts:', error);\n",
              "      }\n",
              "      quickchartButtonEl.classList.remove('colab-df-spinner');\n",
              "      quickchartButtonEl.classList.add('colab-df-quickchart-complete');\n",
              "    }\n",
              "    (() => {\n",
              "      let quickchartButtonEl =\n",
              "        document.querySelector('#df-3cdbc708-ed3a-41fe-bf4a-d730091fe36d button');\n",
              "      quickchartButtonEl.style.display =\n",
              "        google.colab.kernel.accessAllowed ? 'block' : 'none';\n",
              "    })();\n",
              "  </script>\n",
              "</div>\n",
              "\n",
              "    </div>\n",
              "  </div>\n"
            ],
            "application/vnd.google.colaboratory.intrinsic+json": {
              "type": "dataframe",
              "variable_name": "df",
              "summary": "{\n  \"name\": \"df\",\n  \"rows\": 2285,\n  \"fields\": [\n    {\n      \"column\": \"Date\",\n      \"properties\": {\n        \"dtype\": \"date\",\n        \"min\": \"2018-03-01 00:00:00\",\n        \"max\": \"2024-06-01 00:00:00\",\n        \"num_unique_values\": 2285,\n        \"samples\": [\n          \"2023-11-24 00:00:00\",\n          \"2020-04-03 00:00:00\",\n          \"2018-10-27 00:00:00\"\n        ],\n        \"semantic_type\": \"\",\n        \"description\": \"\"\n      }\n    },\n    {\n      \"column\": \"Open\",\n      \"properties\": {\n        \"dtype\": \"number\",\n        \"std\": 18234.366114520344,\n        \"min\": 3236.274658,\n        \"max\": 73079.375,\n        \"num_unique_values\": 2285,\n        \"samples\": [\n          37296.316406,\n          6797.396484,\n          6480.839844\n        ],\n        \"semantic_type\": \"\",\n        \"description\": \"\"\n      }\n    },\n    {\n      \"column\": \"High\",\n      \"properties\": {\n        \"dtype\": \"number\",\n        \"std\": 18677.8325791842,\n        \"min\": 3275.37793,\n        \"max\": 73750.070313,\n        \"num_unique_values\": 2284,\n        \"samples\": [\n          4089.461914,\n          51684.195313,\n          65442.457031\n        ],\n        \"semantic_type\": \"\",\n        \"description\": \"\"\n      }\n    },\n    {\n      \"column\": \"Low\",\n      \"properties\": {\n        \"dtype\": \"number\",\n        \"std\": 17742.882905129023,\n        \"min\": 3191.303467,\n        \"max\": 71334.09375,\n        \"num_unique_values\": 2284,\n        \"samples\": [\n          4023.8125,\n          50585.445313,\n          63172.402344\n        ],\n        \"semantic_type\": \"\",\n        \"description\": \"\"\n      }\n    },\n    {\n      \"column\": \"Price\",\n      \"properties\": {\n        \"dtype\": \"number\",\n        \"std\": 18251.60391857925,\n        \"min\": 3236.761719,\n        \"max\": 73083.5,\n        \"num_unique_values\": 2284,\n        \"samples\": [\n          4087.476318,\n          51571.101563,\n          64994.441406\n        ],\n        \"semantic_type\": \"\",\n        \"description\": \"\"\n      }\n    },\n    {\n      \"column\": \"Adj Close\",\n      \"properties\": {\n        \"dtype\": \"number\",\n        \"std\": 18251.60391857925,\n        \"min\": 3236.761719,\n        \"max\": 73083.5,\n        \"num_unique_values\": 2284,\n        \"samples\": [\n          4087.476318,\n          51571.101563,\n          64994.441406\n        ],\n        \"semantic_type\": \"\",\n        \"description\": \"\"\n      }\n    },\n    {\n      \"column\": \"Volume\",\n      \"properties\": {\n        \"dtype\": \"number\",\n        \"std\": 18668899027,\n        \"min\": 2923670016,\n        \"max\": 350967941479,\n        \"num_unique_values\": 2285,\n        \"samples\": [\n          22922957823,\n          38976504903,\n          3393250000\n        ],\n        \"semantic_type\": \"\",\n        \"description\": \"\"\n      }\n    }\n  ]\n}"
            }
          },
          "metadata": {},
          "execution_count": 2
        }
      ]
    },
    {
      "cell_type": "code",
      "source": [
        "df.info()"
      ],
      "metadata": {
        "colab": {
          "base_uri": "https://localhost:8080/"
        },
        "id": "y45BW7BbcPl_",
        "outputId": "9dc6d90d-e88e-4aee-f4dc-bbcb273b3fa0"
      },
      "execution_count": 3,
      "outputs": [
        {
          "output_type": "stream",
          "name": "stdout",
          "text": [
            "<class 'pandas.core.frame.DataFrame'>\n",
            "RangeIndex: 2285 entries, 0 to 2284\n",
            "Data columns (total 7 columns):\n",
            " #   Column     Non-Null Count  Dtype         \n",
            "---  ------     --------------  -----         \n",
            " 0   Date       2285 non-null   datetime64[ns]\n",
            " 1   Open       2285 non-null   float64       \n",
            " 2   High       2285 non-null   float64       \n",
            " 3   Low        2285 non-null   float64       \n",
            " 4   Price      2285 non-null   float64       \n",
            " 5   Adj Close  2285 non-null   float64       \n",
            " 6   Volume     2285 non-null   int64         \n",
            "dtypes: datetime64[ns](1), float64(5), int64(1)\n",
            "memory usage: 125.1 KB\n"
          ]
        }
      ]
    },
    {
      "cell_type": "code",
      "source": [
        "# Thiết lập index\n",
        "df1=df.reset_index()['Price']\n"
      ],
      "metadata": {
        "id": "UN5dzdoDNEet"
      },
      "execution_count": 4,
      "outputs": []
    },
    {
      "cell_type": "code",
      "source": [
        "# Scaler data\n",
        "scaler=MinMaxScaler(feature_range=(0,1))\n",
        "df1=scaler.fit_transform(np.array(df1).reshape(-1,1))"
      ],
      "metadata": {
        "id": "b1XLCdJHMRAd"
      },
      "execution_count": 5,
      "outputs": []
    },
    {
      "cell_type": "code",
      "source": [
        "# Chia train test\n",
        "train_size= int(0.8 * len(df1))\n",
        "test_size = len(df1) - train_size\n",
        "\n",
        "train_data = df1[:train_size]\n",
        "test_data = df1[train_size:]"
      ],
      "metadata": {
        "id": "G6LwdRGreOtq"
      },
      "execution_count": 6,
      "outputs": []
    },
    {
      "cell_type": "code",
      "source": [
        "# convert an array of values into a dataset matrix\n",
        "def create_dataset(dataset, time_step=1):\n",
        "\tdataX, dataY = [], []\n",
        "\tfor i in range(len(dataset) - time_step - 1):\n",
        "\t\ta = dataset[i:(i + time_step)]\n",
        "\t\tdataX.append(a)\n",
        "\t\tdataY.append(dataset[i + time_step])\n",
        "\treturn np.array(dataX), np.array(dataY)\n"
      ],
      "metadata": {
        "id": "5VummKZ8Nq9P"
      },
      "execution_count": 7,
      "outputs": []
    },
    {
      "cell_type": "code",
      "source": [
        "# Reshape into X=t,t+1,t+2..t+99 and Y=t+100 _8_2\n",
        "time_step = 100\n",
        "X_train, y_train = create_dataset(train_data, time_step)\n",
        "combined_data = np.concatenate((train_data[-time_step:], test_data))\n",
        "X_test, y_test = create_dataset(combined_data, time_step)\n",
        "\n",
        "# Reshape dữ liệu cho phù hợp với mạng GRU\n",
        "X_train = X_train.reshape(X_train.shape[0], X_train.shape[1], 1)\n",
        "X_test = X_test.reshape(X_test.shape[0], X_test.shape[1], 1)"
      ],
      "metadata": {
        "id": "9wgrf7p0kQe0"
      },
      "execution_count": 8,
      "outputs": []
    },
    {
      "cell_type": "code",
      "source": [
        "# Define GRU Model\n",
        "\n",
        "model = Sequential()\n",
        "model.add(GRU(64, input_shape=(time_step, 1)))\n",
        "model.add(Dense(1))\n",
        "model.compile(optimizer='adam', loss='mean_squared_error')"
      ],
      "metadata": {
        "id": "AghcD3L7Nww-"
      },
      "execution_count": 9,
      "outputs": []
    },
    {
      "cell_type": "code",
      "source": [
        "# 9. Fit mô hình với dữ liệu train\n",
        "model.fit(X_train, y_train, epochs=100, batch_size=64, verbose=1)"
      ],
      "metadata": {
        "colab": {
          "base_uri": "https://localhost:8080/"
        },
        "id": "khNSzr8uIlQt",
        "outputId": "0dc08c1b-e071-44b7-dc89-89c9d0dcc1b9"
      },
      "execution_count": 10,
      "outputs": [
        {
          "output_type": "stream",
          "name": "stdout",
          "text": [
            "Epoch 1/100\n",
            "27/27 [==============================] - 5s 57ms/step - loss: 0.0346\n",
            "Epoch 2/100\n",
            "27/27 [==============================] - 1s 52ms/step - loss: 0.0022\n",
            "Epoch 3/100\n",
            "27/27 [==============================] - 1s 53ms/step - loss: 5.9350e-04\n",
            "Epoch 4/100\n",
            "27/27 [==============================] - 1s 53ms/step - loss: 4.6308e-04\n",
            "Epoch 5/100\n",
            "27/27 [==============================] - 1s 51ms/step - loss: 4.3371e-04\n",
            "Epoch 6/100\n",
            "27/27 [==============================] - 1s 51ms/step - loss: 4.1474e-04\n",
            "Epoch 7/100\n",
            "27/27 [==============================] - 2s 58ms/step - loss: 4.0028e-04\n",
            "Epoch 8/100\n",
            "27/27 [==============================] - 2s 82ms/step - loss: 3.8337e-04\n",
            "Epoch 9/100\n",
            "27/27 [==============================] - 2s 84ms/step - loss: 3.8029e-04\n",
            "Epoch 10/100\n",
            "27/27 [==============================] - 2s 57ms/step - loss: 3.6118e-04\n",
            "Epoch 11/100\n",
            "27/27 [==============================] - 1s 53ms/step - loss: 3.5650e-04\n",
            "Epoch 12/100\n",
            "27/27 [==============================] - 2s 56ms/step - loss: 3.4346e-04\n",
            "Epoch 13/100\n",
            "27/27 [==============================] - 1s 50ms/step - loss: 3.3257e-04\n",
            "Epoch 14/100\n",
            "27/27 [==============================] - 1s 51ms/step - loss: 3.3117e-04\n",
            "Epoch 15/100\n",
            "27/27 [==============================] - 2s 77ms/step - loss: 3.1639e-04\n",
            "Epoch 16/100\n",
            "27/27 [==============================] - 3s 110ms/step - loss: 3.0883e-04\n",
            "Epoch 17/100\n",
            "27/27 [==============================] - 3s 98ms/step - loss: 3.0184e-04\n",
            "Epoch 18/100\n",
            "27/27 [==============================] - 3s 114ms/step - loss: 3.0207e-04\n",
            "Epoch 19/100\n",
            "27/27 [==============================] - 2s 77ms/step - loss: 3.0640e-04\n",
            "Epoch 20/100\n",
            "27/27 [==============================] - 2s 89ms/step - loss: 2.9531e-04\n",
            "Epoch 21/100\n",
            "27/27 [==============================] - 2s 60ms/step - loss: 2.9318e-04\n",
            "Epoch 22/100\n",
            "27/27 [==============================] - 1s 52ms/step - loss: 2.8441e-04\n",
            "Epoch 23/100\n",
            "27/27 [==============================] - 1s 54ms/step - loss: 2.8376e-04\n",
            "Epoch 24/100\n",
            "27/27 [==============================] - 1s 55ms/step - loss: 2.7840e-04\n",
            "Epoch 25/100\n",
            "27/27 [==============================] - 2s 83ms/step - loss: 2.7480e-04\n",
            "Epoch 26/100\n",
            "27/27 [==============================] - 2s 82ms/step - loss: 2.7955e-04\n",
            "Epoch 27/100\n",
            "27/27 [==============================] - 2s 80ms/step - loss: 2.7648e-04\n",
            "Epoch 28/100\n",
            "27/27 [==============================] - 1s 53ms/step - loss: 2.7183e-04\n",
            "Epoch 29/100\n",
            "27/27 [==============================] - 1s 55ms/step - loss: 2.6576e-04\n",
            "Epoch 30/100\n",
            "27/27 [==============================] - 2s 53ms/step - loss: 2.6083e-04\n",
            "Epoch 31/100\n",
            "27/27 [==============================] - 1s 51ms/step - loss: 2.6145e-04\n",
            "Epoch 32/100\n",
            "27/27 [==============================] - 1s 53ms/step - loss: 2.6507e-04\n",
            "Epoch 33/100\n",
            "27/27 [==============================] - 1s 55ms/step - loss: 2.6349e-04\n",
            "Epoch 34/100\n",
            "27/27 [==============================] - 2s 91ms/step - loss: 2.5704e-04\n",
            "Epoch 35/100\n",
            "27/27 [==============================] - 3s 93ms/step - loss: 2.5166e-04\n",
            "Epoch 36/100\n",
            "27/27 [==============================] - 3s 100ms/step - loss: 2.5378e-04\n",
            "Epoch 37/100\n",
            "27/27 [==============================] - 3s 92ms/step - loss: 2.6177e-04\n",
            "Epoch 38/100\n",
            "27/27 [==============================] - 2s 56ms/step - loss: 2.4785e-04\n",
            "Epoch 39/100\n",
            "27/27 [==============================] - 1s 52ms/step - loss: 2.5302e-04\n",
            "Epoch 40/100\n",
            "27/27 [==============================] - 1s 52ms/step - loss: 2.6397e-04\n",
            "Epoch 41/100\n",
            "27/27 [==============================] - 1s 54ms/step - loss: 2.8691e-04\n",
            "Epoch 42/100\n",
            "27/27 [==============================] - 1s 52ms/step - loss: 2.6070e-04\n",
            "Epoch 43/100\n",
            "27/27 [==============================] - 1s 51ms/step - loss: 2.4435e-04\n",
            "Epoch 44/100\n",
            "27/27 [==============================] - 1s 52ms/step - loss: 2.4688e-04\n",
            "Epoch 45/100\n",
            "27/27 [==============================] - 2s 76ms/step - loss: 2.4572e-04\n",
            "Epoch 46/100\n",
            "27/27 [==============================] - 2s 84ms/step - loss: 2.5448e-04\n",
            "Epoch 47/100\n",
            "27/27 [==============================] - 2s 82ms/step - loss: 2.3959e-04\n",
            "Epoch 48/100\n",
            "27/27 [==============================] - 2s 57ms/step - loss: 2.3911e-04\n",
            "Epoch 49/100\n",
            "27/27 [==============================] - 1s 53ms/step - loss: 2.6733e-04\n",
            "Epoch 50/100\n",
            "27/27 [==============================] - 1s 54ms/step - loss: 2.4285e-04\n",
            "Epoch 51/100\n",
            "27/27 [==============================] - 1s 52ms/step - loss: 2.4586e-04\n",
            "Epoch 52/100\n",
            "27/27 [==============================] - 1s 53ms/step - loss: 2.3998e-04\n",
            "Epoch 53/100\n",
            "27/27 [==============================] - 1s 51ms/step - loss: 2.3645e-04\n",
            "Epoch 54/100\n",
            "27/27 [==============================] - 2s 59ms/step - loss: 2.5173e-04\n",
            "Epoch 55/100\n",
            "27/27 [==============================] - 2s 87ms/step - loss: 2.4045e-04\n",
            "Epoch 56/100\n",
            "27/27 [==============================] - 3s 111ms/step - loss: 2.3466e-04\n",
            "Epoch 57/100\n",
            "27/27 [==============================] - 2s 60ms/step - loss: 2.6089e-04\n",
            "Epoch 58/100\n",
            "27/27 [==============================] - 2s 57ms/step - loss: 2.5980e-04\n",
            "Epoch 59/100\n",
            "27/27 [==============================] - 2s 56ms/step - loss: 2.3438e-04\n",
            "Epoch 60/100\n",
            "27/27 [==============================] - 1s 56ms/step - loss: 2.3479e-04\n",
            "Epoch 61/100\n",
            "27/27 [==============================] - 2s 57ms/step - loss: 2.3548e-04\n",
            "Epoch 62/100\n",
            "27/27 [==============================] - 2s 57ms/step - loss: 2.4178e-04\n",
            "Epoch 63/100\n",
            "27/27 [==============================] - 2s 63ms/step - loss: 2.3187e-04\n",
            "Epoch 64/100\n",
            "27/27 [==============================] - 2s 86ms/step - loss: 2.4023e-04\n",
            "Epoch 65/100\n",
            "27/27 [==============================] - 2s 86ms/step - loss: 2.3265e-04\n",
            "Epoch 66/100\n",
            "27/27 [==============================] - 2s 68ms/step - loss: 2.3841e-04\n",
            "Epoch 67/100\n",
            "27/27 [==============================] - 2s 59ms/step - loss: 2.3341e-04\n",
            "Epoch 68/100\n",
            "27/27 [==============================] - 2s 58ms/step - loss: 2.4305e-04\n",
            "Epoch 69/100\n",
            "27/27 [==============================] - 2s 58ms/step - loss: 2.5406e-04\n",
            "Epoch 70/100\n",
            "27/27 [==============================] - 2s 57ms/step - loss: 2.4148e-04\n",
            "Epoch 71/100\n",
            "27/27 [==============================] - 2s 58ms/step - loss: 2.4663e-04\n",
            "Epoch 72/100\n",
            "27/27 [==============================] - 2s 59ms/step - loss: 2.3056e-04\n",
            "Epoch 73/100\n",
            "27/27 [==============================] - 2s 86ms/step - loss: 2.3302e-04\n",
            "Epoch 74/100\n",
            "27/27 [==============================] - 2s 87ms/step - loss: 2.4765e-04\n",
            "Epoch 75/100\n",
            "27/27 [==============================] - 2s 68ms/step - loss: 2.4015e-04\n",
            "Epoch 76/100\n",
            "27/27 [==============================] - 2s 56ms/step - loss: 2.3537e-04\n",
            "Epoch 77/100\n",
            "27/27 [==============================] - 1s 52ms/step - loss: 2.5097e-04\n",
            "Epoch 78/100\n",
            "27/27 [==============================] - 2s 56ms/step - loss: 2.3325e-04\n",
            "Epoch 79/100\n",
            "27/27 [==============================] - 1s 52ms/step - loss: 2.6887e-04\n",
            "Epoch 80/100\n",
            "27/27 [==============================] - 1s 55ms/step - loss: 2.3914e-04\n",
            "Epoch 81/100\n",
            "27/27 [==============================] - 1s 54ms/step - loss: 2.2986e-04\n",
            "Epoch 82/100\n",
            "27/27 [==============================] - 2s 89ms/step - loss: 2.3552e-04\n",
            "Epoch 83/100\n",
            "27/27 [==============================] - 2s 87ms/step - loss: 2.8215e-04\n",
            "Epoch 84/100\n",
            "27/27 [==============================] - 2s 74ms/step - loss: 2.5164e-04\n",
            "Epoch 85/100\n",
            "27/27 [==============================] - 1s 55ms/step - loss: 2.4701e-04\n",
            "Epoch 86/100\n",
            "27/27 [==============================] - 1s 54ms/step - loss: 2.3321e-04\n",
            "Epoch 87/100\n",
            "27/27 [==============================] - 1s 54ms/step - loss: 2.4302e-04\n",
            "Epoch 88/100\n",
            "27/27 [==============================] - 1s 53ms/step - loss: 2.3383e-04\n",
            "Epoch 89/100\n",
            "27/27 [==============================] - 1s 53ms/step - loss: 2.2554e-04\n",
            "Epoch 90/100\n",
            "27/27 [==============================] - 2s 57ms/step - loss: 2.2762e-04\n",
            "Epoch 91/100\n",
            "27/27 [==============================] - 2s 73ms/step - loss: 2.3295e-04\n",
            "Epoch 92/100\n",
            "27/27 [==============================] - 2s 85ms/step - loss: 2.4540e-04\n",
            "Epoch 93/100\n",
            "27/27 [==============================] - 2s 79ms/step - loss: 2.2968e-04\n",
            "Epoch 94/100\n",
            "27/27 [==============================] - 1s 53ms/step - loss: 2.3827e-04\n",
            "Epoch 95/100\n",
            "27/27 [==============================] - 1s 53ms/step - loss: 2.3177e-04\n",
            "Epoch 96/100\n",
            "27/27 [==============================] - 1s 55ms/step - loss: 2.3347e-04\n",
            "Epoch 97/100\n",
            "27/27 [==============================] - 1s 55ms/step - loss: 2.2730e-04\n",
            "Epoch 98/100\n",
            "27/27 [==============================] - 1s 54ms/step - loss: 2.2891e-04\n",
            "Epoch 99/100\n",
            "27/27 [==============================] - 1s 55ms/step - loss: 2.2968e-04\n",
            "Epoch 100/100\n",
            "27/27 [==============================] - 2s 69ms/step - loss: 2.3915e-04\n"
          ]
        },
        {
          "output_type": "execute_result",
          "data": {
            "text/plain": [
              "<keras.src.callbacks.History at 0x7ddf7061b190>"
            ]
          },
          "metadata": {},
          "execution_count": 10
        }
      ]
    },
    {
      "cell_type": "code",
      "source": [
        "# Dự báo dữ liệu test và train\n",
        "train_predict = model.predict(X_train)\n",
        "y_pred = model.predict(X_test)"
      ],
      "metadata": {
        "colab": {
          "base_uri": "https://localhost:8080/"
        },
        "id": "Z7H6b5bilgXv",
        "outputId": "9f0f0387-26a7-4437-f007-49c685d6228f"
      },
      "execution_count": 11,
      "outputs": [
        {
          "output_type": "stream",
          "name": "stdout",
          "text": [
            "54/54 [==============================] - 2s 20ms/step\n",
            "15/15 [==============================] - 0s 18ms/step\n"
          ]
        }
      ]
    },
    {
      "cell_type": "code",
      "source": [
        "# Chuẩn hóa dữ liệu y_pred\n",
        "train_predict = scaler.inverse_transform(train_predict)\n",
        "y_pred = scaler.inverse_transform(y_pred)"
      ],
      "metadata": {
        "id": "AGrwjDEOl9Mj"
      },
      "execution_count": 12,
      "outputs": []
    },
    {
      "cell_type": "code",
      "source": [
        "# Dự báo 90 ngày tiếp theo\n",
        "x_input = test_data[-100:].reshape(1, -1)\n",
        "temp_input = list(x_input[0])\n",
        "lst_output = []\n",
        "\n",
        "i = 0\n",
        "while(i < 90):\n",
        "    if len(temp_input) > 100:\n",
        "        x_input = np.array(temp_input[1:])  # Lấy từng ngày từ ngày thứ 2 trở đi\n",
        "        x_input = x_input.reshape(1, time_step, 1)  # Reshape lại để phù hợp với input của mạng\n",
        "        yhat = model.predict(x_input, verbose=0)  # Dự đoán giá cho ngày tiếp theo\n",
        "        temp_input.extend(yhat[0].tolist())  # Thêm dự đoán vào danh sách temp_input\n",
        "        temp_input = temp_input[1:]  # Loại bỏ ngày đầu tiên\n",
        "        lst_output.extend(yhat.tolist())  # Lưu dự đoán vào mảng lst_output\n",
        "        i += 1\n",
        "    else:\n",
        "        x_input = x_input.reshape(1, time_step, 1)  # Reshape lại để phù hợp với input của mạng\n",
        "        yhat = model.predict(x_input, verbose=0)  # Dự đoán giá cho ngày tiếp theo\n",
        "        temp_input.extend(yhat[0].tolist())  # Thêm dự đoán vào danh sách temp_input\n",
        "        lst_output.extend(yhat.tolist())  # Lưu dự đoán vào mảng lst_output\n",
        "        i += 1\n",
        "\n",
        "# In ra dự đoán cho 90 ngày tiếp theo\n",
        "print(\"Dự đoán giá cho 90 ngày tiếp theo:\")\n",
        "print(lst_output)"
      ],
      "metadata": {
        "colab": {
          "base_uri": "https://localhost:8080/"
        },
        "id": "4DfyL9LMW9fX",
        "outputId": "fca59a3d-51da-4315-eda5-93d296407ddd"
      },
      "execution_count": 13,
      "outputs": [
        {
          "output_type": "stream",
          "name": "stdout",
          "text": [
            "Dự đoán giá cho 90 ngày tiếp theo:\n",
            "[[0.9171680808067322], [0.9122830629348755], [0.9072452187538147], [0.9021230936050415], [0.8969407081604004], [0.8917115330696106], [0.8864639401435852], [0.8812002539634705], [0.875933825969696], [0.8706663250923157], [0.8654002547264099], [0.8601629734039307], [0.8549422025680542], [0.8497486710548401], [0.8445865511894226], [0.8394631743431091], [0.8343810439109802], [0.8293403387069702], [0.8243532180786133], [0.8194191455841064], [0.8145502209663391], [0.8097505569458008], [0.8050255179405212], [0.8003640174865723], [0.7957807183265686], [0.7912827730178833], [0.7868499755859375], [0.7825053334236145], [0.7782449126243591], [0.7740654349327087], [0.7699630260467529], [0.7659413814544678], [0.7620065212249756], [0.758159339427948], [0.7543972730636597], [0.7507253289222717], [0.7471417188644409], [0.7436447739601135], [0.7402418255805969], [0.7369354367256165], [0.733715295791626], [0.7305799722671509], [0.7275343537330627], [0.7245741486549377], [0.7216995358467102], [0.7189081907272339], [0.7162059545516968], [0.7135855555534363], [0.7110509872436523], [0.7086044549942017], [0.7062438726425171], [0.7039616107940674], [0.7017630934715271], [0.6996424794197083], [0.6976020336151123], [0.6956335306167603], [0.6937388181686401], [0.6919150352478027], [0.6901620626449585], [0.6884759664535522], [0.6868594288825989], [0.6853117346763611], [0.6838285326957703], [0.6824100017547607], [0.6810537576675415], [0.6797580718994141], [0.6785212159156799], [0.6773464679718018], [0.6762293577194214], [0.6751641035079956], [0.6741471886634827], [0.6731806993484497], [0.6722636222839355], [0.6713957786560059], [0.6705753207206726], [0.6698002219200134], [0.6690675020217896], [0.6683792471885681], [0.6677312254905701], [0.6671216487884521], [0.6665485501289368], [0.6660126447677612], [0.6655071973800659], [0.6650365591049194], [0.6645967364311218], [0.6641881465911865], [0.6638090014457703], [0.6634542942047119], [0.6631289124488831], [0.6628305912017822]]\n"
          ]
        }
      ]
    },
    {
      "cell_type": "code",
      "source": [
        "predict_future_30 = lst_output[:30]\n",
        "predict_future_60 = lst_output[30:60]\n",
        "predict_future_90 = lst_output[60:]\n"
      ],
      "metadata": {
        "id": "vPOQbRv4A-Zx"
      },
      "execution_count": 14,
      "outputs": []
    },
    {
      "cell_type": "code",
      "source": [
        "#Vẽ hình\n",
        "# train_data_index = pd.RangeIndex(start=0, stop=len(train_data), step=1)\n",
        "# plt.plot(train_data_index, scaler.inverse_transform(train_data), label='Train')\n",
        "\n",
        "test_data_index = pd.RangeIndex(start=train_size, stop=train_size+len(test_data), step=1)\n",
        "plt.plot(test_data_index, scaler.inverse_transform(test_data), label='Test')\n",
        "\n",
        "predicted_test_index = pd.RangeIndex(start=train_size, stop=train_size+len(y_pred), step=1)\n",
        "plt.plot(predicted_test_index, y_pred)\n",
        "\n",
        "predict_future_30_index = pd.RangeIndex(start=test_data_index[-1]+1, stop=test_data_index[-1]+31, step=1)\n",
        "plt.plot(predict_future_30_index, scaler.inverse_transform(predict_future_30))\n",
        "\n",
        "predict_future_60_index = pd.RangeIndex(start=test_data_index[-1]+31, stop=test_data_index[-1]+61, step=1)\n",
        "plt.plot(predict_future_60_index, scaler.inverse_transform(predict_future_60))\n",
        "\n",
        "predict_future_90_index = pd.RangeIndex(start=test_data_index[-1]+61, stop=test_data_index[-1]+91, step=1)\n",
        "plt.plot(predict_future_90_index, scaler.inverse_transform(predict_future_90))\n",
        "\n",
        "plt.title('GRU - BTC Stock Price - 8:2')\n",
        "plt.xlabel('Date')\n",
        "plt.ylabel('Price')\n",
        "plt.legend(['Test','Predict Test','Predict 30days','Predict 60days','Predict 90days'])\n",
        "plt.show()"
      ],
      "metadata": {
        "colab": {
          "base_uri": "https://localhost:8080/",
          "height": 472
        },
        "id": "9dEqqWytXSRo",
        "outputId": "14aff5a1-3521-4b2f-c6b6-98da433b60dd"
      },
      "execution_count": 15,
      "outputs": [
        {
          "output_type": "display_data",
          "data": {
            "text/plain": [
              "<Figure size 640x480 with 1 Axes>"
            ],
            "image/png": "[encoded data removed]"
          },
          "metadata": {}
        }
      ]
    },
    {
      "cell_type": "code",
      "source": [
        "from sklearn.metrics import mean_absolute_error, mean_squared_error, mean_absolute_percentage_error\n",
        "\n",
        "mae = mean_absolute_error(y_test, y_pred)\n",
        "mape = mean_absolute_percentage_error(y_test, y_pred)\n",
        "rmse = np.sqrt(mean_squared_error(y_test, y_pred))\n",
        "\n",
        "print(\"Mean Absolute Error (MAE):\", mae)\n",
        "print(\"Mean Absolute Percentage Error (MAPE):\", mape * 100)\n",
        "print(\"Root Mean Square Error (RMSE):\", rmse)"
      ],
      "metadata": {
        "colab": {
          "base_uri": "https://localhost:8080/"
        },
        "id": "APE0pAmrJKcg",
        "outputId": "2bb25d04-837e-4b80-8552-4eafcc1f15e8"
      },
      "execution_count": 16,
      "outputs": [
        {
          "output_type": "stream",
          "name": "stdout",
          "text": [
            "Mean Absolute Error (MAE): 39640.56084077937\n",
            "Mean Absolute Percentage Error (MAPE): 7717808.650600522\n",
            "Root Mean Square Error (RMSE): 42394.11739156014\n"
          ]
        }
      ]
    },
    {
      "cell_type": "markdown",
      "source": [],
      "metadata": {
        "id": "3yRLTREua_1d"
      }
    },
    {
      "cell_type": "code",
      "source": [],
      "metadata": {
        "id": "fxjVSJqCa8n1"
      },
      "execution_count": null,
      "outputs": []
    }
  ]
}