{
  "nbformat": 4,
  "nbformat_minor": 0,
  "metadata": {
    "colab": {
      "provenance": []
    },
    "kernelspec": {
      "name": "python3",
      "display_name": "Python 3"
    },
    "language_info": {
      "name": "python"
    }
  },
  "cells": [
    {
      "cell_type": "code",
      "execution_count": 1,
      "metadata": {
        "id": "2s2M7RWnLyVs",
        "colab": {
          "base_uri": "https://localhost:8080/"
        },
        "outputId": "0e5413b0-ece1-4191-9e08-2faa46e6f11a"
      },
      "outputs": [
        {
          "output_type": "stream",
          "name": "stdout",
          "text": [
            "Mounted at /content/drive\n"
          ]
        }
      ],
      "source": [
        "from google.colab import drive\n",
        "drive.mount('/content/drive')\n",
        "import numpy as np\n",
        "import pandas as pd\n",
        "import matplotlib.pyplot as plt\n",
        "from sklearn.preprocessing import MinMaxScaler\n",
        "from keras.models import Sequential\n",
        "from keras.layers import Dense, GRU"
      ]
    },
    {
      "cell_type": "code",
      "source": [
        "# Đọc file csv\n",
        "df = pd.read_csv('/content/drive/MyDrive/Colab Notebooks/Data/pre_BTC-USD.csv')\n",
        "df = df.rename(columns={'Close': 'Price'})\n",
        "df['Date'] = pd.to_datetime(df['Date'])\n",
        "df.head(5)"
      ],
      "metadata": {
        "id": "N4mD72x5nuXt",
        "colab": {
          "base_uri": "https://localhost:8080/",
          "height": 206
        },
        "outputId": "7aac9631-8cb5-4563-fed1-51afc0cdd457"
      },
      "execution_count": 35,
      "outputs": [
        {
          "output_type": "execute_result",
          "data": {
            "text/plain": [
              "        Date          Open          High           Low         Price  \\\n",
              "0 2018-03-01  10385.000000  11052.299805  10352.700195  10951.000000   \n",
              "1 2018-03-02  10977.400391  11189.000000  10850.099609  11086.400391   \n",
              "2 2018-03-03  11101.900391  11528.200195  11002.400391  11489.700195   \n",
              "3 2018-03-04  11497.400391  11512.599609  11136.099609  11512.599609   \n",
              "4 2018-03-05  11532.400391  11704.099609  11443.900391  11573.299805   \n",
              "\n",
              "      Adj Close      Volume  \n",
              "0  10951.000000  7317279744  \n",
              "1  11086.400391  7620590080  \n",
              "2  11489.700195  6690570240  \n",
              "3  11512.599609  6084149760  \n",
              "4  11573.299805  6468539904  "
            ],
            "text/html": [
              "\n",
              "  <div id=\"df-0c599c76-2270-438f-8b3d-e17952747e77\" class=\"colab-df-container\">\n",
              "    <div>\n",
              "<style scoped>\n",
              "    .dataframe tbody tr th:only-of-type {\n",
              "        vertical-align: middle;\n",
              "    }\n",
              "\n",
              "    .dataframe tbody tr th {\n",
              "        vertical-align: top;\n",
              "    }\n",
              "\n",
              "    .dataframe thead th {\n",
              "        text-align: right;\n",
              "    }\n",
              "</style>\n",
              "<table border=\"1\" class=\"dataframe\">\n",
              "  <thead>\n",
              "    <tr style=\"text-align: right;\">\n",
              "      <th></th>\n",
              "      <th>Date</th>\n",
              "      <th>Open</th>\n",
              "      <th>High</th>\n",
              "      <th>Low</th>\n",
              "      <th>Price</th>\n",
              "      <th>Adj Close</th>\n",
              "      <th>Volume</th>\n",
              "    </tr>\n",
              "  </thead>\n",
              "  <tbody>\n",
              "    <tr>\n",
              "      <th>0</th>\n",
              "      <td>2018-03-01</td>\n",
              "      <td>10385.000000</td>\n",
              "      <td>11052.299805</td>\n",
              "      <td>10352.700195</td>\n",
              "      <td>10951.000000</td>\n",
              "      <td>10951.000000</td>\n",
              "      <td>7317279744</td>\n",
              "    </tr>\n",
              "    <tr>\n",
              "      <th>1</th>\n",
              "      <td>2018-03-02</td>\n",
              "      <td>10977.400391</td>\n",
              "      <td>11189.000000</td>\n",
              "      <td>10850.099609</td>\n",
              "      <td>11086.400391</td>\n",
              "      <td>11086.400391</td>\n",
              "      <td>7620590080</td>\n",
              "    </tr>\n",
              "    <tr>\n",
              "      <th>2</th>\n",
              "      <td>2018-03-03</td>\n",
              "      <td>11101.900391</td>\n",
              "      <td>11528.200195</td>\n",
              "      <td>11002.400391</td>\n",
              "      <td>11489.700195</td>\n",
              "      <td>11489.700195</td>\n",
              "      <td>6690570240</td>\n",
              "    </tr>\n",
              "    <tr>\n",
              "      <th>3</th>\n",
              "      <td>2018-03-04</td>\n",
              "      <td>11497.400391</td>\n",
              "      <td>11512.599609</td>\n",
              "      <td>11136.099609</td>\n",
              "      <td>11512.599609</td>\n",
              "      <td>11512.599609</td>\n",
              "      <td>6084149760</td>\n",
              "    </tr>\n",
              "    <tr>\n",
              "      <th>4</th>\n",
              "      <td>2018-03-05</td>\n",
              "      <td>11532.400391</td>\n",
              "      <td>11704.099609</td>\n",
              "      <td>11443.900391</td>\n",
              "      <td>11573.299805</td>\n",
              "      <td>11573.299805</td>\n",
              "      <td>6468539904</td>\n",
              "    </tr>\n",
              "  </tbody>\n",
              "</table>\n",
              "</div>\n",
              "    <div class=\"colab-df-buttons\">\n",
              "\n",
              "  <div class=\"colab-df-container\">\n",
              "    <button class=\"colab-df-convert\" onclick=\"convertToInteractive('df-0c599c76-2270-438f-8b3d-e17952747e77')\"\n",
              "            title=\"Convert this dataframe to an interactive table.\"\n",
              "            style=\"display:none;\">\n",
              "\n",
              "  <svg xmlns=\"http://www.w3.org/2000/svg\" height=\"24px\" viewBox=\"0 -960 960 960\">\n",
              "    <path d=\"M120-120v-720h720v720H120Zm60-500h600v-160H180v160Zm220 220h160v-160H400v160Zm0 220h160v-160H400v160ZM180-400h160v-160H180v160Zm440 0h160v-160H620v160ZM180-180h160v-160H180v160Zm440 0h160v-160H620v160Z\"/>\n",
              "  </svg>\n",
              "    </button>\n",
              "\n",
              "  <style>\n",
              "    .colab-df-container {\n",
              "      display:flex;\n",
              "      gap: 12px;\n",
              "    }\n",
              "\n",
              "    .colab-df-convert {\n",
              "      background-color: #E8F0FE;\n",
              "      border: none;\n",
              "      border-radius: 50%;\n",
              "      cursor: pointer;\n",
              "      display: none;\n",
              "      fill: #1967D2;\n",
              "      height: 32px;\n",
              "      padding: 0 0 0 0;\n",
              "      width: 32px;\n",
              "    }\n",
              "\n",
              "    .colab-df-convert:hover {\n",
              "      background-color: #E2EBFA;\n",
              "      box-shadow: 0px 1px 2px rgba(60, 64, 67, 0.3), 0px 1px 3px 1px rgba(60, 64, 67, 0.15);\n",
              "      fill: #174EA6;\n",
              "    }\n",
              "\n",
              "    .colab-df-buttons div {\n",
              "      margin-bottom: 4px;\n",
              "    }\n",
              "\n",
              "    [theme=dark] .colab-df-convert {\n",
              "      background-color: #3B4455;\n",
              "      fill: #D2E3FC;\n",
              "    }\n",
              "\n",
              "    [theme=dark] .colab-df-convert:hover {\n",
              "      background-color: #434B5C;\n",
              "      box-shadow: 0px 1px 3px 1px rgba(0, 0, 0, 0.15);\n",
              "      filter: drop-shadow(0px 1px 2px rgba(0, 0, 0, 0.3));\n",
              "      fill: #FFFFFF;\n",
              "    }\n",
              "  </style>\n",
              "\n",
              "    <script>\n",
              "      const buttonEl =\n",
              "        document.querySelector('#df-0c599c76-2270-438f-8b3d-e17952747e77 button.colab-df-convert');\n",
              "      buttonEl.style.display =\n",
              "        google.colab.kernel.accessAllowed ? 'block' : 'none';\n",
              "\n",
              "      async function convertToInteractive(key) {\n",
              "        const element = document.querySelector('#df-0c599c76-2270-438f-8b3d-e17952747e77');\n",
              "        const dataTable =\n",
              "          await google.colab.kernel.invokeFunction('convertToInteractive',\n",
              "                                                    [key], {});\n",
              "        if (!dataTable) return;\n",
              "\n",
              "        const docLinkHtml = 'Like what you see? Visit the ' +\n",
              "          '<a target=\"_blank\" href=https://colab.research.google.com/notebooks/data_table.ipynb>data table notebook</a>'\n",
              "          + ' to learn more about interactive tables.';\n",
              "        element.innerHTML = '';\n",
              "        dataTable['output_type'] = 'display_data';\n",
              "        await google.colab.output.renderOutput(dataTable, element);\n",
              "        const docLink = document.createElement('div');\n",
              "        docLink.innerHTML = docLinkHtml;\n",
              "        element.appendChild(docLink);\n",
              "      }\n",
              "    </script>\n",
              "  </div>\n",
              "\n",
              "\n",
              "<div id=\"df-33dbc718-2f55-4847-9083-8d17db20297b\">\n",
              "  <button class=\"colab-df-quickchart\" onclick=\"quickchart('df-33dbc718-2f55-4847-9083-8d17db20297b')\"\n",
              "            title=\"Suggest charts\"\n",
              "            style=\"display:none;\">\n",
              "\n",
              "<svg xmlns=\"http://www.w3.org/2000/svg\" height=\"24px\"viewBox=\"0 0 24 24\"\n",
              "     width=\"24px\">\n",
              "    <g>\n",
              "        <path d=\"M19 3H5c-1.1 0-2 .9-2 2v14c0 1.1.9 2 2 2h14c1.1 0 2-.9 2-2V5c0-1.1-.9-2-2-2zM9 17H7v-7h2v7zm4 0h-2V7h2v10zm4 0h-2v-4h2v4z\"/>\n",
              "    </g>\n",
              "</svg>\n",
              "  </button>\n",
              "\n",
              "<style>\n",
              "  .colab-df-quickchart {\n",
              "      --bg-color: #E8F0FE;\n",
              "      --fill-color: #1967D2;\n",
              "      --hover-bg-color: #E2EBFA;\n",
              "      --hover-fill-color: #174EA6;\n",
              "      --disabled-fill-color: #AAA;\n",
              "      --disabled-bg-color: #DDD;\n",
              "  }\n",
              "\n",
              "  [theme=dark] .colab-df-quickchart {\n",
              "      --bg-color: #3B4455;\n",
              "      --fill-color: #D2E3FC;\n",
              "      --hover-bg-color: #434B5C;\n",
              "      --hover-fill-color: #FFFFFF;\n",
              "      --disabled-bg-color: #3B4455;\n",
              "      --disabled-fill-color: #666;\n",
              "  }\n",
              "\n",
              "  .colab-df-quickchart {\n",
              "    background-color: var(--bg-color);\n",
              "    border: none;\n",
              "    border-radius: 50%;\n",
              "    cursor: pointer;\n",
              "    display: none;\n",
              "    fill: var(--fill-color);\n",
              "    height: 32px;\n",
              "    padding: 0;\n",
              "    width: 32px;\n",
              "  }\n",
              "\n",
              "  .colab-df-quickchart:hover {\n",
              "    background-color: var(--hover-bg-color);\n",
              "    box-shadow: 0 1px 2px rgba(60, 64, 67, 0.3), 0 1px 3px 1px rgba(60, 64, 67, 0.15);\n",
              "    fill: var(--button-hover-fill-color);\n",
              "  }\n",
              "\n",
              "  .colab-df-quickchart-complete:disabled,\n",
              "  .colab-df-quickchart-complete:disabled:hover {\n",
              "    background-color: var(--disabled-bg-color);\n",
              "    fill: var(--disabled-fill-color);\n",
              "    box-shadow: none;\n",
              "  }\n",
              "\n",
              "  .colab-df-spinner {\n",
              "    border: 2px solid var(--fill-color);\n",
              "    border-color: transparent;\n",
              "    border-bottom-color: var(--fill-color);\n",
              "    animation:\n",
              "      spin 1s steps(1) infinite;\n",
              "  }\n",
              "\n",
              "  @keyframes spin {\n",
              "    0% {\n",
              "      border-color: transparent;\n",
              "      border-bottom-color: var(--fill-color);\n",
              "      border-left-color: var(--fill-color);\n",
              "    }\n",
              "    20% {\n",
              "      border-color: transparent;\n",
              "      border-left-color: var(--fill-color);\n",
              "      border-top-color: var(--fill-color);\n",
              "    }\n",
              "    30% {\n",
              "      border-color: transparent;\n",
              "      border-left-color: var(--fill-color);\n",
              "      border-top-color: var(--fill-color);\n",
              "      border-right-color: var(--fill-color);\n",
              "    }\n",
              "    40% {\n",
              "      border-color: transparent;\n",
              "      border-right-color: var(--fill-color);\n",
              "      border-top-color: var(--fill-color);\n",
              "    }\n",
              "    60% {\n",
              "      border-color: transparent;\n",
              "      border-right-color: var(--fill-color);\n",
              "    }\n",
              "    80% {\n",
              "      border-color: transparent;\n",
              "      border-right-color: var(--fill-color);\n",
              "      border-bottom-color: var(--fill-color);\n",
              "    }\n",
              "    90% {\n",
              "      border-color: transparent;\n",
              "      border-bottom-color: var(--fill-color);\n",
              "    }\n",
              "  }\n",
              "</style>\n",
              "\n",
              "  <script>\n",
              "    async function quickchart(key) {\n",
              "      const quickchartButtonEl =\n",
              "        document.querySelector('#' + key + ' button');\n",
              "      quickchartButtonEl.disabled = true;  // To prevent multiple clicks.\n",
              "      quickchartButtonEl.classList.add('colab-df-spinner');\n",
              "      try {\n",
              "        const charts = await google.colab.kernel.invokeFunction(\n",
              "            'suggestCharts', [key], {});\n",
              "      } catch (error) {\n",
              "        console.error('Error during call to suggestCharts:', error);\n",
              "      }\n",
              "      quickchartButtonEl.classList.remove('colab-df-spinner');\n",
              "      quickchartButtonEl.classList.add('colab-df-quickchart-complete');\n",
              "    }\n",
              "    (() => {\n",
              "      let quickchartButtonEl =\n",
              "        document.querySelector('#df-33dbc718-2f55-4847-9083-8d17db20297b button');\n",
              "      quickchartButtonEl.style.display =\n",
              "        google.colab.kernel.accessAllowed ? 'block' : 'none';\n",
              "    })();\n",
              "  </script>\n",
              "</div>\n",
              "\n",
              "    </div>\n",
              "  </div>\n"
            ],
            "application/vnd.google.colaboratory.intrinsic+json": {
              "type": "dataframe",
              "variable_name": "df",
              "summary": "{\n  \"name\": \"df\",\n  \"rows\": 2285,\n  \"fields\": [\n    {\n      \"column\": \"Date\",\n      \"properties\": {\n        \"dtype\": \"date\",\n        \"min\": \"2018-03-01 00:00:00\",\n        \"max\": \"2024-06-01 00:00:00\",\n        \"num_unique_values\": 2285,\n        \"samples\": [\n          \"2023-11-24 00:00:00\",\n          \"2020-04-03 00:00:00\",\n          \"2018-10-27 00:00:00\"\n        ],\n        \"semantic_type\": \"\",\n        \"description\": \"\"\n      }\n    },\n    {\n      \"column\": \"Open\",\n      \"properties\": {\n        \"dtype\": \"number\",\n        \"std\": 18234.366114520344,\n        \"min\": 3236.274658,\n        \"max\": 73079.375,\n        \"num_unique_values\": 2285,\n        \"samples\": [\n          37296.316406,\n          6797.396484,\n          6480.839844\n        ],\n        \"semantic_type\": \"\",\n        \"description\": \"\"\n      }\n    },\n    {\n      \"column\": \"High\",\n      \"properties\": {\n        \"dtype\": \"number\",\n        \"std\": 18677.8325791842,\n        \"min\": 3275.37793,\n        \"max\": 73750.070313,\n        \"num_unique_values\": 2284,\n        \"samples\": [\n          4089.461914,\n          51684.195313,\n          65442.457031\n        ],\n        \"semantic_type\": \"\",\n        \"description\": \"\"\n      }\n    },\n    {\n      \"column\": \"Low\",\n      \"properties\": {\n        \"dtype\": \"number\",\n        \"std\": 17742.882905129023,\n        \"min\": 3191.303467,\n        \"max\": 71334.09375,\n        \"num_unique_values\": 2284,\n        \"samples\": [\n          4023.8125,\n          50585.445313,\n          63172.402344\n        ],\n        \"semantic_type\": \"\",\n        \"description\": \"\"\n      }\n    },\n    {\n      \"column\": \"Price\",\n      \"properties\": {\n        \"dtype\": \"number\",\n        \"std\": 18251.60391857925,\n        \"min\": 3236.761719,\n        \"max\": 73083.5,\n        \"num_unique_values\": 2284,\n        \"samples\": [\n          4087.476318,\n          51571.101563,\n          64994.441406\n        ],\n        \"semantic_type\": \"\",\n        \"description\": \"\"\n      }\n    },\n    {\n      \"column\": \"Adj Close\",\n      \"properties\": {\n        \"dtype\": \"number\",\n        \"std\": 18251.60391857925,\n        \"min\": 3236.761719,\n        \"max\": 73083.5,\n        \"num_unique_values\": 2284,\n        \"samples\": [\n          4087.476318,\n          51571.101563,\n          64994.441406\n        ],\n        \"semantic_type\": \"\",\n        \"description\": \"\"\n      }\n    },\n    {\n      \"column\": \"Volume\",\n      \"properties\": {\n        \"dtype\": \"number\",\n        \"std\": 18668899027,\n        \"min\": 2923670016,\n        \"max\": 350967941479,\n        \"num_unique_values\": 2285,\n        \"samples\": [\n          22922957823,\n          38976504903,\n          3393250000\n        ],\n        \"semantic_type\": \"\",\n        \"description\": \"\"\n      }\n    }\n  ]\n}"
            }
          },
          "metadata": {},
          "execution_count": 35
        }
      ]
    },
    {
      "cell_type": "code",
      "source": [
        "df.info()"
      ],
      "metadata": {
        "colab": {
          "base_uri": "https://localhost:8080/"
        },
        "id": "y45BW7BbcPl_",
        "outputId": "88286702-07c2-440f-cf51-997711c22545"
      },
      "execution_count": 36,
      "outputs": [
        {
          "output_type": "stream",
          "name": "stdout",
          "text": [
            "<class 'pandas.core.frame.DataFrame'>\n",
            "RangeIndex: 2285 entries, 0 to 2284\n",
            "Data columns (total 7 columns):\n",
            " #   Column     Non-Null Count  Dtype         \n",
            "---  ------     --------------  -----         \n",
            " 0   Date       2285 non-null   datetime64[ns]\n",
            " 1   Open       2285 non-null   float64       \n",
            " 2   High       2285 non-null   float64       \n",
            " 3   Low        2285 non-null   float64       \n",
            " 4   Price      2285 non-null   float64       \n",
            " 5   Adj Close  2285 non-null   float64       \n",
            " 6   Volume     2285 non-null   int64         \n",
            "dtypes: datetime64[ns](1), float64(5), int64(1)\n",
            "memory usage: 125.1 KB\n"
          ]
        }
      ]
    },
    {
      "cell_type": "code",
      "source": [
        "# Thiết lập index\n",
        "df1=df.reset_index()['Price']\n"
      ],
      "metadata": {
        "id": "UN5dzdoDNEet"
      },
      "execution_count": 37,
      "outputs": []
    },
    {
      "cell_type": "code",
      "source": [
        "# Scaler data\n",
        "scaler=MinMaxScaler(feature_range=(0,1))\n",
        "df1=scaler.fit_transform(np.array(df1).reshape(-1,1))"
      ],
      "metadata": {
        "id": "b1XLCdJHMRAd"
      },
      "execution_count": 38,
      "outputs": []
    },
    {
      "cell_type": "code",
      "source": [
        "# Chia train test\n",
        "train_size= int(0.9 * len(df1))\n",
        "test_size = len(df1) - train_size\n",
        "\n",
        "train_data = df1[:train_size]\n",
        "test_data = df1[train_size:]"
      ],
      "metadata": {
        "id": "G6LwdRGreOtq"
      },
      "execution_count": 39,
      "outputs": []
    },
    {
      "cell_type": "code",
      "source": [
        "# convert an array of values into a dataset matrix\n",
        "def create_dataset(dataset, time_step=1):\n",
        "\tdataX, dataY = [], []\n",
        "\tfor i in range(len(dataset) - time_step - 1):\n",
        "\t\ta = dataset[i:(i + time_step)]\n",
        "\t\tdataX.append(a)\n",
        "\t\tdataY.append(dataset[i + time_step])\n",
        "\treturn np.array(dataX), np.array(dataY)\n"
      ],
      "metadata": {
        "id": "5VummKZ8Nq9P"
      },
      "execution_count": 40,
      "outputs": []
    },
    {
      "cell_type": "code",
      "source": [
        "# Reshape into X=t,t+1,t+2..t+99 and Y=t+100 _8_2\n",
        "time_step = 100\n",
        "X_train, y_train = create_dataset(train_data, time_step)\n",
        "combined_data = np.concatenate((train_data[-time_step:], test_data))\n",
        "X_test, y_test = create_dataset(combined_data, time_step)\n",
        "\n",
        "# Reshape dữ liệu cho phù hợp với mạng GRU\n",
        "X_train = X_train.reshape(X_train.shape[0], X_train.shape[1], 1)\n",
        "X_test = X_test.reshape(X_test.shape[0], X_test.shape[1], 1)"
      ],
      "metadata": {
        "id": "9wgrf7p0kQe0"
      },
      "execution_count": 41,
      "outputs": []
    },
    {
      "cell_type": "code",
      "source": [
        "# Define GRU Model\n",
        "\n",
        "model = Sequential()\n",
        "model.add(GRU(64, input_shape=(time_step, 1)))\n",
        "model.add(Dense(1))\n",
        "model.compile(optimizer='adam', loss='mean_squared_error')"
      ],
      "metadata": {
        "id": "AghcD3L7Nww-"
      },
      "execution_count": 42,
      "outputs": []
    },
    {
      "cell_type": "code",
      "source": [
        "# 9. Fit mô hình với dữ liệu train\n",
        "model.fit(X_train, y_train, epochs=100, batch_size=64, verbose=1)"
      ],
      "metadata": {
        "colab": {
          "base_uri": "https://localhost:8080/"
        },
        "id": "khNSzr8uIlQt",
        "outputId": "91b0da3d-aeb5-41cb-8a00-422ba7947613"
      },
      "execution_count": 43,
      "outputs": [
        {
          "output_type": "stream",
          "name": "stdout",
          "text": [
            "Epoch 1/100\n",
            "31/31 [==============================] - 5s 86ms/step - loss: 0.0182\n",
            "Epoch 2/100\n",
            "31/31 [==============================] - 1s 47ms/step - loss: 8.8684e-04\n",
            "Epoch 3/100\n",
            "31/31 [==============================] - 2s 48ms/step - loss: 4.3027e-04\n",
            "Epoch 4/100\n",
            "31/31 [==============================] - 2s 78ms/step - loss: 3.9475e-04\n",
            "Epoch 5/100\n",
            "31/31 [==============================] - 3s 84ms/step - loss: 3.7503e-04\n",
            "Epoch 6/100\n",
            "31/31 [==============================] - 2s 63ms/step - loss: 3.5938e-04\n",
            "Epoch 7/100\n",
            "31/31 [==============================] - 2s 72ms/step - loss: 3.4325e-04\n",
            "Epoch 8/100\n",
            "31/31 [==============================] - 1s 48ms/step - loss: 3.2939e-04\n",
            "Epoch 9/100\n",
            "31/31 [==============================] - 1s 47ms/step - loss: 3.2558e-04\n",
            "Epoch 10/100\n",
            "31/31 [==============================] - 2s 50ms/step - loss: 3.1080e-04\n",
            "Epoch 11/100\n",
            "31/31 [==============================] - 1s 48ms/step - loss: 3.0128e-04\n",
            "Epoch 12/100\n",
            "31/31 [==============================] - 2s 81ms/step - loss: 2.9219e-04\n",
            "Epoch 13/100\n",
            "31/31 [==============================] - 3s 81ms/step - loss: 2.9503e-04\n",
            "Epoch 14/100\n",
            "31/31 [==============================] - 2s 57ms/step - loss: 3.0265e-04\n",
            "Epoch 15/100\n",
            "31/31 [==============================] - 2s 49ms/step - loss: 2.7883e-04\n",
            "Epoch 16/100\n",
            "31/31 [==============================] - 1s 48ms/step - loss: 2.7036e-04\n",
            "Epoch 17/100\n",
            "31/31 [==============================] - 2s 49ms/step - loss: 2.6442e-04\n",
            "Epoch 18/100\n",
            "31/31 [==============================] - 2s 48ms/step - loss: 2.6433e-04\n",
            "Epoch 19/100\n",
            "31/31 [==============================] - 2s 49ms/step - loss: 2.6747e-04\n",
            "Epoch 20/100\n",
            "31/31 [==============================] - 2s 53ms/step - loss: 2.5789e-04\n",
            "Epoch 21/100\n",
            "31/31 [==============================] - 2s 80ms/step - loss: 2.5236e-04\n",
            "Epoch 22/100\n",
            "31/31 [==============================] - 3s 82ms/step - loss: 2.4588e-04\n",
            "Epoch 23/100\n",
            "31/31 [==============================] - 2s 50ms/step - loss: 2.4794e-04\n",
            "Epoch 24/100\n",
            "31/31 [==============================] - 1s 48ms/step - loss: 2.4484e-04\n",
            "Epoch 25/100\n",
            "31/31 [==============================] - 2s 50ms/step - loss: 2.4013e-04\n",
            "Epoch 26/100\n",
            "31/31 [==============================] - 2s 48ms/step - loss: 2.5288e-04\n",
            "Epoch 27/100\n",
            "31/31 [==============================] - 2s 49ms/step - loss: 2.4439e-04\n",
            "Epoch 28/100\n",
            "31/31 [==============================] - 1s 48ms/step - loss: 2.3492e-04\n",
            "Epoch 29/100\n",
            "31/31 [==============================] - 2s 63ms/step - loss: 2.3010e-04\n",
            "Epoch 30/100\n",
            "31/31 [==============================] - 3s 82ms/step - loss: 2.3501e-04\n",
            "Epoch 31/100\n",
            "31/31 [==============================] - 3s 82ms/step - loss: 2.3338e-04\n",
            "Epoch 32/100\n",
            "31/31 [==============================] - 2s 50ms/step - loss: 2.2620e-04\n",
            "Epoch 33/100\n",
            "31/31 [==============================] - 2s 50ms/step - loss: 2.4147e-04\n",
            "Epoch 34/100\n",
            "31/31 [==============================] - 2s 48ms/step - loss: 2.2736e-04\n",
            "Epoch 35/100\n",
            "31/31 [==============================] - 2s 50ms/step - loss: 2.2621e-04\n",
            "Epoch 36/100\n",
            "31/31 [==============================] - 1s 48ms/step - loss: 2.2447e-04\n",
            "Epoch 37/100\n",
            "31/31 [==============================] - 2s 49ms/step - loss: 2.2882e-04\n",
            "Epoch 38/100\n",
            "31/31 [==============================] - 2s 73ms/step - loss: 2.2378e-04\n",
            "Epoch 39/100\n",
            "31/31 [==============================] - 3s 82ms/step - loss: 2.3104e-04\n",
            "Epoch 40/100\n",
            "31/31 [==============================] - 2s 65ms/step - loss: 2.2170e-04\n",
            "Epoch 41/100\n",
            "31/31 [==============================] - 2s 49ms/step - loss: 2.1968e-04\n",
            "Epoch 42/100\n",
            "31/31 [==============================] - 2s 51ms/step - loss: 2.2823e-04\n",
            "Epoch 43/100\n",
            "31/31 [==============================] - 2s 50ms/step - loss: 2.2552e-04\n",
            "Epoch 44/100\n",
            "31/31 [==============================] - 2s 51ms/step - loss: 2.2092e-04\n",
            "Epoch 45/100\n",
            "31/31 [==============================] - 2s 51ms/step - loss: 2.1850e-04\n",
            "Epoch 46/100\n",
            "31/31 [==============================] - 2s 57ms/step - loss: 2.4865e-04\n",
            "Epoch 47/100\n",
            "31/31 [==============================] - 3s 83ms/step - loss: 2.1510e-04\n",
            "Epoch 48/100\n",
            "31/31 [==============================] - 3s 83ms/step - loss: 2.2450e-04\n",
            "Epoch 49/100\n",
            "31/31 [==============================] - 2s 58ms/step - loss: 2.1831e-04\n",
            "Epoch 50/100\n",
            "31/31 [==============================] - 2s 52ms/step - loss: 2.1487e-04\n",
            "Epoch 51/100\n",
            "31/31 [==============================] - 2s 53ms/step - loss: 2.2653e-04\n",
            "Epoch 52/100\n",
            "31/31 [==============================] - 2s 51ms/step - loss: 2.3015e-04\n",
            "Epoch 53/100\n",
            "31/31 [==============================] - 2s 53ms/step - loss: 2.1467e-04\n",
            "Epoch 54/100\n",
            "31/31 [==============================] - 2s 50ms/step - loss: 2.1320e-04\n",
            "Epoch 55/100\n",
            "31/31 [==============================] - 2s 67ms/step - loss: 2.2021e-04\n",
            "Epoch 56/100\n",
            "31/31 [==============================] - 3s 83ms/step - loss: 2.2082e-04\n",
            "Epoch 57/100\n",
            "31/31 [==============================] - 2s 72ms/step - loss: 2.1073e-04\n",
            "Epoch 58/100\n",
            "31/31 [==============================] - 2s 53ms/step - loss: 2.2183e-04\n",
            "Epoch 59/100\n",
            "31/31 [==============================] - 2s 51ms/step - loss: 2.2407e-04\n",
            "Epoch 60/100\n",
            "31/31 [==============================] - 2s 53ms/step - loss: 2.2281e-04\n",
            "Epoch 61/100\n",
            "31/31 [==============================] - 2s 51ms/step - loss: 2.3741e-04\n",
            "Epoch 62/100\n",
            "31/31 [==============================] - 2s 52ms/step - loss: 2.3246e-04\n",
            "Epoch 63/100\n",
            "31/31 [==============================] - 2s 57ms/step - loss: 2.1083e-04\n",
            "Epoch 64/100\n",
            "31/31 [==============================] - 3s 83ms/step - loss: 2.1234e-04\n",
            "Epoch 65/100\n",
            "31/31 [==============================] - 3s 84ms/step - loss: 2.1220e-04\n",
            "Epoch 66/100\n",
            "31/31 [==============================] - 2s 55ms/step - loss: 2.3209e-04\n",
            "Epoch 67/100\n",
            "31/31 [==============================] - 2s 51ms/step - loss: 2.1787e-04\n",
            "Epoch 68/100\n",
            "31/31 [==============================] - 2s 51ms/step - loss: 2.1234e-04\n",
            "Epoch 69/100\n",
            "31/31 [==============================] - 2s 52ms/step - loss: 2.1676e-04\n",
            "Epoch 70/100\n",
            "31/31 [==============================] - 2s 50ms/step - loss: 2.2591e-04\n",
            "Epoch 71/100\n",
            "31/31 [==============================] - 2s 51ms/step - loss: 2.2146e-04\n",
            "Epoch 72/100\n",
            "31/31 [==============================] - 2s 68ms/step - loss: 2.0987e-04\n",
            "Epoch 73/100\n",
            "31/31 [==============================] - 2s 80ms/step - loss: 2.0970e-04\n",
            "Epoch 74/100\n",
            "31/31 [==============================] - 2s 74ms/step - loss: 2.0946e-04\n",
            "Epoch 75/100\n",
            "31/31 [==============================] - 2s 51ms/step - loss: 2.1387e-04\n",
            "Epoch 76/100\n",
            "31/31 [==============================] - 2s 51ms/step - loss: 2.0889e-04\n",
            "Epoch 77/100\n",
            "31/31 [==============================] - 2s 50ms/step - loss: 2.2607e-04\n",
            "Epoch 78/100\n",
            "31/31 [==============================] - 2s 61ms/step - loss: 2.1448e-04\n",
            "Epoch 79/100\n",
            "31/31 [==============================] - 3s 82ms/step - loss: 2.0599e-04\n",
            "Epoch 80/100\n",
            "31/31 [==============================] - 3s 91ms/step - loss: 2.1641e-04\n",
            "Epoch 81/100\n",
            "31/31 [==============================] - 3s 87ms/step - loss: 2.0963e-04\n",
            "Epoch 82/100\n",
            "31/31 [==============================] - 3s 83ms/step - loss: 2.1484e-04\n",
            "Epoch 83/100\n",
            "31/31 [==============================] - 2s 52ms/step - loss: 2.1059e-04\n",
            "Epoch 84/100\n",
            "31/31 [==============================] - 2s 51ms/step - loss: 2.1281e-04\n",
            "Epoch 85/100\n",
            "31/31 [==============================] - 2s 52ms/step - loss: 2.1364e-04\n",
            "Epoch 86/100\n",
            "31/31 [==============================] - 2s 50ms/step - loss: 2.1415e-04\n",
            "Epoch 87/100\n",
            "31/31 [==============================] - 2s 52ms/step - loss: 2.0618e-04\n",
            "Epoch 88/100\n",
            "31/31 [==============================] - 2s 52ms/step - loss: 2.0473e-04\n",
            "Epoch 89/100\n",
            "31/31 [==============================] - 2s 78ms/step - loss: 2.1923e-04\n",
            "Epoch 90/100\n",
            "31/31 [==============================] - 3s 85ms/step - loss: 2.0641e-04\n",
            "Epoch 91/100\n",
            "31/31 [==============================] - 2s 58ms/step - loss: 2.0843e-04\n",
            "Epoch 92/100\n",
            "31/31 [==============================] - 2s 50ms/step - loss: 2.0769e-04\n",
            "Epoch 93/100\n",
            "31/31 [==============================] - 2s 51ms/step - loss: 2.1115e-04\n",
            "Epoch 94/100\n",
            "31/31 [==============================] - 2s 50ms/step - loss: 2.0561e-04\n",
            "Epoch 95/100\n",
            "31/31 [==============================] - 2s 51ms/step - loss: 2.0801e-04\n",
            "Epoch 96/100\n",
            "31/31 [==============================] - 2s 52ms/step - loss: 2.0524e-04\n",
            "Epoch 97/100\n",
            "31/31 [==============================] - 3s 86ms/step - loss: 2.2326e-04\n",
            "Epoch 98/100\n",
            "31/31 [==============================] - 3s 103ms/step - loss: 2.3027e-04\n",
            "Epoch 99/100\n",
            "31/31 [==============================] - 3s 98ms/step - loss: 2.0592e-04\n",
            "Epoch 100/100\n",
            "31/31 [==============================] - 2s 76ms/step - loss: 2.0890e-04\n"
          ]
        },
        {
          "output_type": "execute_result",
          "data": {
            "text/plain": [
              "<keras.src.callbacks.History at 0x7cdc257ff160>"
            ]
          },
          "metadata": {},
          "execution_count": 43
        }
      ]
    },
    {
      "cell_type": "code",
      "source": [
        "# Dự báo dữ liệu test và train\n",
        "train_predict = model.predict(X_train)\n",
        "y_pred = model.predict(X_test)"
      ],
      "metadata": {
        "colab": {
          "base_uri": "https://localhost:8080/"
        },
        "id": "Z7H6b5bilgXv",
        "outputId": "e6df892d-622a-4b1d-edfd-acc4a0490618"
      },
      "execution_count": 44,
      "outputs": [
        {
          "output_type": "stream",
          "name": "stdout",
          "text": [
            "62/62 [==============================] - 1s 12ms/step\n",
            "8/8 [==============================] - 0s 16ms/step\n"
          ]
        }
      ]
    },
    {
      "cell_type": "code",
      "source": [
        "# Chuẩn hóa dữ liệu y_pred\n",
        "train_predict = scaler.inverse_transform(train_predict)\n",
        "y_pred = scaler.inverse_transform(y_pred)"
      ],
      "metadata": {
        "id": "AGrwjDEOl9Mj"
      },
      "execution_count": 45,
      "outputs": []
    },
    {
      "cell_type": "code",
      "source": [
        "# Dự báo 90 ngày tiếp theo\n",
        "x_input = test_data[-100:].reshape(1, -1)\n",
        "temp_input = list(x_input[0])\n",
        "lst_output = []\n",
        "\n",
        "i = 0\n",
        "while(i < 90):\n",
        "    if len(temp_input) > 100:\n",
        "        x_input = np.array(temp_input[1:])  # Lấy từng ngày từ ngày thứ 2 trở đi\n",
        "        x_input = x_input.reshape(1, time_step, 1)  # Reshape lại để phù hợp với input của mạng\n",
        "        yhat = model.predict(x_input, verbose=0)  # Dự đoán giá cho ngày tiếp theo\n",
        "        temp_input.extend(yhat[0].tolist())  # Thêm dự đoán vào danh sách temp_input\n",
        "        temp_input = temp_input[1:]  # Loại bỏ ngày đầu tiên\n",
        "        lst_output.extend(yhat.tolist())  # Lưu dự đoán vào mảng lst_output\n",
        "        i += 1\n",
        "    else:\n",
        "        x_input = x_input.reshape(1, time_step, 1)  # Reshape lại để phù hợp với input của mạng\n",
        "        yhat = model.predict(x_input, verbose=0)  # Dự đoán giá cho ngày tiếp theo\n",
        "        temp_input.extend(yhat[0].tolist())  # Thêm dự đoán vào danh sách temp_input\n",
        "        lst_output.extend(yhat.tolist())  # Lưu dự đoán vào mảng lst_output\n",
        "        i += 1\n",
        "\n",
        "# In ra dự đoán cho 90 ngày tiếp theo\n",
        "print(\"Dự đoán giá cho 90 ngày tiếp theo:\")\n",
        "print(lst_output)"
      ],
      "metadata": {
        "colab": {
          "base_uri": "https://localhost:8080/"
        },
        "id": "4DfyL9LMW9fX",
        "outputId": "49be9e15-b2bb-4973-cf6a-20bd4d47c844"
      },
      "execution_count": 47,
      "outputs": [
        {
          "output_type": "stream",
          "name": "stdout",
          "text": [
            "Dự đoán giá cho 90 ngày tiếp theo:\n",
            "[[0.912103533744812], [0.9022250771522522], [0.8921000361442566], [0.8820436596870422], [0.8720546960830688], [0.8621609807014465], [0.852380633354187], [0.842719316482544], [0.8331866264343262], [0.8237860202789307], [0.8145202398300171], [0.8054036498069763], [0.796432614326477], [0.7876126170158386], [0.7789456844329834], [0.7704357504844666], [0.7620837092399597], [0.7538891434669495], [0.7458563446998596], [0.7379843592643738], [0.7302770018577576], [0.7227352261543274], [0.7153609991073608], [0.7081476449966431], [0.7010990977287292], [0.6942176222801208], [0.687493085861206], [0.6809316873550415], [0.6745309233665466], [0.668287456035614], [0.6621971130371094], [0.6562585234642029], [0.650471568107605], [0.6448341012001038], [0.6393427848815918], [0.6339966058731079], [0.6287925243377686], [0.6237272024154663], [0.6187999844551086], [0.6140095591545105], [0.6093505620956421], [0.6048192381858826], [0.6004143357276917], [0.5961320400238037], [0.5919694304466248], [0.5879230499267578], [0.5839919447898865], [0.5801714062690735], [0.5764597058296204], [0.57285475730896], [0.5693539977073669], [0.5659527778625488], [0.562649667263031], [0.5594411492347717], [0.5563250780105591], [0.5532975792884827], [0.5503563284873962], [0.5474984645843506], [0.5447216629981995], [0.5420228242874146], [0.539400041103363], [0.5368512868881226], [0.5343736410140991], [0.5319651961326599], [0.5296233892440796], [0.5273460745811462], [0.5251309871673584], [0.5229768753051758], [0.5208814144134521], [0.5188420414924622], [0.5168566107749939], [0.5149234533309937], [0.5130410194396973], [0.5112075805664062], [0.5094216465950012], [0.5076814293861389], [0.5059850811958313], [0.504331648349762], [0.5027193427085876], [0.5011467337608337], [0.49961239099502563], [0.4981152415275574], [0.4966534972190857], [0.4952261447906494], [0.49383220076560974], [0.4924703538417816], [0.491139680147171], [0.4898388385772705], [0.4885669946670532], [0.4873232841491699]]\n"
          ]
        }
      ]
    },
    {
      "cell_type": "code",
      "source": [
        "predict_future_30 = lst_output[:30]\n",
        "predict_future_60 = lst_output[30:60]\n",
        "predict_future_90 = lst_output[60:]\n"
      ],
      "metadata": {
        "id": "vPOQbRv4A-Zx"
      },
      "execution_count": 48,
      "outputs": []
    },
    {
      "cell_type": "code",
      "source": [
        "#Vẽ hình\n",
        "# train_data_index = pd.RangeIndex(start=0, stop=len(train_data), step=1)\n",
        "# plt.plot(train_data_index, scaler.inverse_transform(train_data), label='Train')\n",
        "\n",
        "test_data_index = pd.RangeIndex(start=train_size, stop=train_size+len(test_data), step=1)\n",
        "plt.plot(test_data_index, scaler.inverse_transform(test_data), label='Test')\n",
        "\n",
        "predicted_test_index = pd.RangeIndex(start=train_size, stop=train_size+len(y_pred), step=1)\n",
        "plt.plot(predicted_test_index, y_pred)\n",
        "\n",
        "predict_future_30_index = pd.RangeIndex(start=test_data_index[-1]+1, stop=test_data_index[-1]+31, step=1)\n",
        "plt.plot(predict_future_30_index, scaler.inverse_transform(predict_future_30))\n",
        "\n",
        "predict_future_60_index = pd.RangeIndex(start=test_data_index[-1]+31, stop=test_data_index[-1]+61, step=1)\n",
        "plt.plot(predict_future_60_index, scaler.inverse_transform(predict_future_60))\n",
        "\n",
        "predict_future_90_index = pd.RangeIndex(start=test_data_index[-1]+61, stop=test_data_index[-1]+91, step=1)\n",
        "plt.plot(predict_future_90_index, scaler.inverse_transform(predict_future_90))\n",
        "\n",
        "plt.title('GRU - ADA Stock Price - 9:1')\n",
        "plt.xlabel('Date')\n",
        "plt.ylabel('Price')\n",
        "plt.legend(['Test','Predict Test','Predict 30days','Predict 60days','Predict 90days'])\n",
        "plt.show()"
      ],
      "metadata": {
        "colab": {
          "base_uri": "https://localhost:8080/",
          "height": 472
        },
        "id": "9dEqqWytXSRo",
        "outputId": "561bc08a-0221-4acc-8046-5a3bcd8a7dfb"
      },
      "execution_count": 49,
      "outputs": [
        {
          "output_type": "display_data",
          "data": {
            "text/plain": [
              "<Figure size 640x480 with 1 Axes>"
            ],
            "image/png": "[encoded data removed]"
          },
          "metadata": {}
        }
      ]
    },
    {
      "cell_type": "code",
      "source": [
        "# y_test = scaler.inverse_transform(y_test.reshape(-1,1))\n",
        "# y_test"
      ],
      "metadata": {
        "id": "sT_kNftxtaiE"
      },
      "execution_count": null,
      "outputs": []
    },
    {
      "cell_type": "code",
      "source": [
        "from sklearn.metrics import mean_absolute_error, mean_squared_error, mean_absolute_percentage_error\n",
        "\n",
        "mae = mean_absolute_error(y_test, y_pred)\n",
        "mape = mean_absolute_percentage_error(y_test, y_pred)\n",
        "rmse = np.sqrt(mean_squared_error(y_test, y_pred))\n",
        "\n",
        "print(\"Mean Absolute Error (MAE):\", mae)\n",
        "print(\"Mean Absolute Percentage Error (MAPE):\", mape * 100)\n",
        "print(\"Root Mean Square Error (RMSE):\", rmse)"
      ],
      "metadata": {
        "colab": {
          "base_uri": "https://localhost:8080/"
        },
        "id": "APE0pAmrJKcg",
        "outputId": "8131048f-cabc-49a6-c95f-3e1cddd1316c"
      },
      "execution_count": 50,
      "outputs": [
        {
          "output_type": "stream",
          "name": "stdout",
          "text": [
            "Mean Absolute Error (MAE): 51151.01019879692\n",
            "Mean Absolute Percentage Error (MAPE): 7424441.253162853\n",
            "Root Mean Square Error (RMSE): 52756.28681426545\n"
          ]
        }
      ]
    },
    {
      "cell_type": "markdown",
      "source": [],
      "metadata": {
        "id": "3yRLTREua_1d"
      }
    },
    {
      "cell_type": "code",
      "source": [
        "# # 12. Đánh giá độ chính xác thuật toán bằng RMSE\n",
        "# test_rmse = np.sqrt(np.mean((y_pred - y_test)**2))\n",
        "# print('Testing RMSE:', test_rmse)\n",
        "# # Đánh giá độ chính xác thuật toán bằng MAE\n",
        "# test_mae = np.mean(abs(y_pred - y_test))\n",
        "# print('Testing MAE:', test_mae)\n",
        "# # Đánh giá độ chính xác thuật toán bằng MAPE\n",
        "# test_mape = np.mean(np.abs(y_pred - y_test)/np.abs(y_pred))\n",
        "# print('Testing MAPE:', test_mape)"
      ],
      "metadata": {
        "colab": {
          "base_uri": "https://localhost:8080/"
        },
        "id": "c8Ef1hD1a5y2",
        "outputId": "a0739b46-ca26-463f-af1e-9c0b5562bb4a"
      },
      "execution_count": 51,
      "outputs": [
        {
          "output_type": "stream",
          "name": "stdout",
          "text": [
            "Testing RMSE: 52756.28681426545\n",
            "Testing MAE: 51151.01019879692\n",
            "Testing MAPE: 0.9999865144165114\n"
          ]
        }
      ]
    },
    {
      "cell_type": "code",
      "source": [],
      "metadata": {
        "id": "fxjVSJqCa8n1"
      },
      "execution_count": null,
      "outputs": []
    }
  ]
}